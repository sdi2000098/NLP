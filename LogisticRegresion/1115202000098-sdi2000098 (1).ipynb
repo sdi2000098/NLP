{
 "cells": [
  {
   "cell_type": "markdown",
   "id": "a9e02b72",
   "metadata": {
    "papermill": {
     "duration": 0.019877,
     "end_time": "2023-11-21T18:39:03.333623",
     "exception": false,
     "start_time": "2023-11-21T18:39:03.313746",
     "status": "completed"
    },
    "tags": []
   },
   "source": [
    "First of all we load data and display a partion of it"
   ]
  },
  {
   "cell_type": "code",
   "execution_count": 1,
   "id": "22d4fb7f",
   "metadata": {
    "execution": {
     "iopub.execute_input": "2023-11-21T18:39:03.375495Z",
     "iopub.status.busy": "2023-11-21T18:39:03.374718Z",
     "iopub.status.idle": "2023-11-21T18:39:04.386469Z",
     "shell.execute_reply": "2023-11-21T18:39:04.385134Z"
    },
    "papermill": {
     "duration": 1.036154,
     "end_time": "2023-11-21T18:39:04.389279",
     "exception": false,
     "start_time": "2023-11-21T18:39:03.353125",
     "status": "completed"
    },
    "tags": []
   },
   "outputs": [
    {
     "data": {
      "text/html": [
       "<div>\n",
       "<style scoped>\n",
       "    .dataframe tbody tr th:only-of-type {\n",
       "        vertical-align: middle;\n",
       "    }\n",
       "\n",
       "    .dataframe tbody tr th {\n",
       "        vertical-align: top;\n",
       "    }\n",
       "\n",
       "    .dataframe thead th {\n",
       "        text-align: right;\n",
       "    }\n",
       "</style>\n",
       "<table border=\"1\" class=\"dataframe\">\n",
       "  <thead>\n",
       "    <tr style=\"text-align: right;\">\n",
       "      <th></th>\n",
       "      <th>New_ID</th>\n",
       "      <th>Text</th>\n",
       "      <th>Sentiment</th>\n",
       "      <th>Party</th>\n",
       "    </tr>\n",
       "  </thead>\n",
       "  <tbody>\n",
       "    <tr>\n",
       "      <th>0</th>\n",
       "      <td>35027</td>\n",
       "      <td>#απολυμανση_κοριοι #απεντομωση_κοριος #απολυμα...</td>\n",
       "      <td>NEUTRAL</td>\n",
       "      <td>SYRIZA</td>\n",
       "    </tr>\n",
       "    <tr>\n",
       "      <th>1</th>\n",
       "      <td>9531</td>\n",
       "      <td>Έξι νέες επιστολές για τη Μακεδονία «καίνε» τη...</td>\n",
       "      <td>NEGATIVE</td>\n",
       "      <td>ND</td>\n",
       "    </tr>\n",
       "    <tr>\n",
       "      <th>2</th>\n",
       "      <td>14146</td>\n",
       "      <td>Ισχυρό ΚΚΕ, δύναμη του λαού στη Βουλή και στου...</td>\n",
       "      <td>POSITIVE</td>\n",
       "      <td>KKE</td>\n",
       "    </tr>\n",
       "    <tr>\n",
       "      <th>3</th>\n",
       "      <td>28716</td>\n",
       "      <td>@five2nds @anthi7vas Μνημονιακότατο το #ΜεΡΑ25...</td>\n",
       "      <td>NEUTRAL</td>\n",
       "      <td>KKE</td>\n",
       "    </tr>\n",
       "    <tr>\n",
       "      <th>4</th>\n",
       "      <td>32886</td>\n",
       "      <td>@ai_katerina Αυτό που είναι συγκλονιστικό είνα...</td>\n",
       "      <td>NEUTRAL</td>\n",
       "      <td>SYRIZA</td>\n",
       "    </tr>\n",
       "    <tr>\n",
       "      <th>5</th>\n",
       "      <td>12112</td>\n",
       "      <td>@tou_diaolou Εχεις δίκιο, αντι να παιζει ΕΑΜ Ε...</td>\n",
       "      <td>NEGATIVE</td>\n",
       "      <td>SYRIZA</td>\n",
       "    </tr>\n",
       "    <tr>\n",
       "      <th>6</th>\n",
       "      <td>13115</td>\n",
       "      <td>Προκλητικός για όλα ο Τσίπρας στον Σκάι https:...</td>\n",
       "      <td>POSITIVE</td>\n",
       "      <td>SYRIZA</td>\n",
       "    </tr>\n",
       "    <tr>\n",
       "      <th>7</th>\n",
       "      <td>21431</td>\n",
       "      <td>@KSyrizohunter Τι θα πει \"αλλιώς\";  Ο Μητσοτακ...</td>\n",
       "      <td>POSITIVE</td>\n",
       "      <td>ND</td>\n",
       "    </tr>\n",
       "    <tr>\n",
       "      <th>8</th>\n",
       "      <td>12593</td>\n",
       "      <td>Ράπισμα Αντετοκούμπο σε υποκρισία Μητσοτάκη: Π...</td>\n",
       "      <td>POSITIVE</td>\n",
       "      <td>ND</td>\n",
       "    </tr>\n",
       "    <tr>\n",
       "      <th>9</th>\n",
       "      <td>19725</td>\n",
       "      <td>@nikospappas16 @atsipras @kmitsotakis Δεν ξέρω...</td>\n",
       "      <td>POSITIVE</td>\n",
       "      <td>ND</td>\n",
       "    </tr>\n",
       "    <tr>\n",
       "      <th>10</th>\n",
       "      <td>2394</td>\n",
       "      <td>RT edromos \"Εκλογικό θεωρείο (φ.460) | https:/...</td>\n",
       "      <td>NEGATIVE</td>\n",
       "      <td>ND</td>\n",
       "    </tr>\n",
       "    <tr>\n",
       "      <th>11</th>\n",
       "      <td>10330</td>\n",
       "      <td>#Live ο Kυριάκος Μητσοτάκης στον #ΣΚΑΙ- Κίνηση...</td>\n",
       "      <td>NEGATIVE</td>\n",
       "      <td>ND</td>\n",
       "    </tr>\n",
       "    <tr>\n",
       "      <th>12</th>\n",
       "      <td>14301</td>\n",
       "      <td>MEGAPOLL(λίγο πριν τις εκλογές) *Το μόνο πιστο...</td>\n",
       "      <td>POSITIVE</td>\n",
       "      <td>SYRIZA</td>\n",
       "    </tr>\n",
       "    <tr>\n",
       "      <th>13</th>\n",
       "      <td>30479</td>\n",
       "      <td>@AdonisGeorgiadi @atsipras @skaigr Τώρα η σειρ...</td>\n",
       "      <td>NEUTRAL</td>\n",
       "      <td>ND</td>\n",
       "    </tr>\n",
       "    <tr>\n",
       "      <th>14</th>\n",
       "      <td>30540</td>\n",
       "      <td>@MPOUZOUKAKI Θα προκαλέσουν μεγάλη αναταραχή. ...</td>\n",
       "      <td>NEUTRAL</td>\n",
       "      <td>SYRIZA</td>\n",
       "    </tr>\n",
       "    <tr>\n",
       "      <th>15</th>\n",
       "      <td>27739</td>\n",
       "      <td>Πρόγραμμα περιοδειών των υποψηφίων βουλευτών τ...</td>\n",
       "      <td>NEUTRAL</td>\n",
       "      <td>KKE</td>\n",
       "    </tr>\n",
       "    <tr>\n",
       "      <th>16</th>\n",
       "      <td>6214</td>\n",
       "      <td>ΧΑΡΑ ΚΕΦΑΛΙΔΟΥ 2015-2019.Κοινοβουλευτικό έργο ...</td>\n",
       "      <td>NEGATIVE</td>\n",
       "      <td>PASOK</td>\n",
       "    </tr>\n",
       "    <tr>\n",
       "      <th>17</th>\n",
       "      <td>17362</td>\n",
       "      <td>Από το σημερινό @TheEconomist . Κοιτάξτε πως ε...</td>\n",
       "      <td>POSITIVE</td>\n",
       "      <td>SYRIZA</td>\n",
       "    </tr>\n",
       "    <tr>\n",
       "      <th>18</th>\n",
       "      <td>28021</td>\n",
       "      <td>Χρ. Λιάπης: Θα αγωνιστώ για την νίκη της ΝΔ κα...</td>\n",
       "      <td>NEUTRAL</td>\n",
       "      <td>ND</td>\n",
       "    </tr>\n",
       "    <tr>\n",
       "      <th>19</th>\n",
       "      <td>27153</td>\n",
       "      <td>@USURPER211 @jodigraphics15 αποδυκνειει επίσης...</td>\n",
       "      <td>NEUTRAL</td>\n",
       "      <td>SYRIZA</td>\n",
       "    </tr>\n",
       "  </tbody>\n",
       "</table>\n",
       "</div>"
      ],
      "text/plain": [
       "    New_ID                                               Text Sentiment  \\\n",
       "0    35027  #απολυμανση_κοριοι #απεντομωση_κοριος #απολυμα...   NEUTRAL   \n",
       "1     9531  Έξι νέες επιστολές για τη Μακεδονία «καίνε» τη...  NEGATIVE   \n",
       "2    14146  Ισχυρό ΚΚΕ, δύναμη του λαού στη Βουλή και στου...  POSITIVE   \n",
       "3    28716  @five2nds @anthi7vas Μνημονιακότατο το #ΜεΡΑ25...   NEUTRAL   \n",
       "4    32886  @ai_katerina Αυτό που είναι συγκλονιστικό είνα...   NEUTRAL   \n",
       "5    12112  @tou_diaolou Εχεις δίκιο, αντι να παιζει ΕΑΜ Ε...  NEGATIVE   \n",
       "6    13115  Προκλητικός για όλα ο Τσίπρας στον Σκάι https:...  POSITIVE   \n",
       "7    21431  @KSyrizohunter Τι θα πει \"αλλιώς\";  Ο Μητσοτακ...  POSITIVE   \n",
       "8    12593  Ράπισμα Αντετοκούμπο σε υποκρισία Μητσοτάκη: Π...  POSITIVE   \n",
       "9    19725  @nikospappas16 @atsipras @kmitsotakis Δεν ξέρω...  POSITIVE   \n",
       "10    2394  RT edromos \"Εκλογικό θεωρείο (φ.460) | https:/...  NEGATIVE   \n",
       "11   10330  #Live ο Kυριάκος Μητσοτάκης στον #ΣΚΑΙ- Κίνηση...  NEGATIVE   \n",
       "12   14301  MEGAPOLL(λίγο πριν τις εκλογές) *Το μόνο πιστο...  POSITIVE   \n",
       "13   30479  @AdonisGeorgiadi @atsipras @skaigr Τώρα η σειρ...   NEUTRAL   \n",
       "14   30540  @MPOUZOUKAKI Θα προκαλέσουν μεγάλη αναταραχή. ...   NEUTRAL   \n",
       "15   27739  Πρόγραμμα περιοδειών των υποψηφίων βουλευτών τ...   NEUTRAL   \n",
       "16    6214  ΧΑΡΑ ΚΕΦΑΛΙΔΟΥ 2015-2019.Κοινοβουλευτικό έργο ...  NEGATIVE   \n",
       "17   17362  Από το σημερινό @TheEconomist . Κοιτάξτε πως ε...  POSITIVE   \n",
       "18   28021  Χρ. Λιάπης: Θα αγωνιστώ για την νίκη της ΝΔ κα...   NEUTRAL   \n",
       "19   27153  @USURPER211 @jodigraphics15 αποδυκνειει επίσης...   NEUTRAL   \n",
       "\n",
       "     Party  \n",
       "0   SYRIZA  \n",
       "1       ND  \n",
       "2      KKE  \n",
       "3      KKE  \n",
       "4   SYRIZA  \n",
       "5   SYRIZA  \n",
       "6   SYRIZA  \n",
       "7       ND  \n",
       "8       ND  \n",
       "9       ND  \n",
       "10      ND  \n",
       "11      ND  \n",
       "12  SYRIZA  \n",
       "13      ND  \n",
       "14  SYRIZA  \n",
       "15     KKE  \n",
       "16   PASOK  \n",
       "17  SYRIZA  \n",
       "18      ND  \n",
       "19  SYRIZA  "
      ]
     },
     "execution_count": 1,
     "metadata": {},
     "output_type": "execute_result"
    }
   ],
   "source": [
    "import re  # Regular expressions library\n",
    "import pandas as pd\n",
    "from unidecode import unidecode\n",
    "\n",
    "file_path = \"/kaggle/input/ys19-2023-assignment-1/train_set.csv\"\n",
    "valid_path = \"/kaggle/input/ys19-2023-assignment-1/valid_set.csv\"\n",
    "# Read the CSV file\n",
    "data = pd.read_csv(file_path)\n",
    "valid = pd.read_csv(valid_path)\n",
    "# Display the first few rows of the data\n",
    "data.head(20)"
   ]
  },
  {
   "cell_type": "markdown",
   "id": "675c0f99",
   "metadata": {
    "papermill": {
     "duration": 0.020542,
     "end_time": "2023-11-21T18:39:04.429971",
     "exception": false,
     "start_time": "2023-11-21T18:39:04.409429",
     "status": "completed"
    },
    "tags": []
   },
   "source": [
    "First some analysis of popular letters, first find the top 5 most popular strings, and check how many times they appear at each sentiment"
   ]
  },
  {
   "cell_type": "code",
   "execution_count": 2,
   "id": "c560a73f",
   "metadata": {
    "execution": {
     "iopub.execute_input": "2023-11-21T18:39:04.473104Z",
     "iopub.status.busy": "2023-11-21T18:39:04.472638Z",
     "iopub.status.idle": "2023-11-21T18:39:05.494735Z",
     "shell.execute_reply": "2023-11-21T18:39:05.493480Z"
    },
    "papermill": {
     "duration": 1.047708,
     "end_time": "2023-11-21T18:39:05.498668",
     "exception": false,
     "start_time": "2023-11-21T18:39:04.450960",
     "status": "completed"
    },
    "tags": []
   },
   "outputs": [
    {
     "name": "stdout",
     "output_type": "stream",
     "text": [
      "Word: και\n",
      "Positive Occurrences: 6347\n",
      "Negative Occurrences: 6571\n",
      "Neutral Occurrences: 5771\n",
      "\n",
      "Word: το\n",
      "Positive Occurrences: 6069\n",
      "Negative Occurrences: 6282\n",
      "Neutral Occurrences: 5690\n",
      "\n",
      "Word: να\n",
      "Positive Occurrences: 5355\n",
      "Negative Occurrences: 5645\n",
      "Neutral Occurrences: 4862\n",
      "\n",
      "Word: του\n",
      "Positive Occurrences: 4679\n",
      "Negative Occurrences: 4797\n",
      "Neutral Occurrences: 4497\n",
      "\n",
      "Word: ο\n",
      "Positive Occurrences: 4510\n",
      "Negative Occurrences: 4932\n",
      "Neutral Occurrences: 4497\n",
      "\n",
      "Word: για\n",
      "Positive Occurrences: 4043\n",
      "Negative Occurrences: 4078\n",
      "Neutral Occurrences: 3725\n",
      "\n",
      "Word: η\n",
      "Positive Occurrences: 3940\n",
      "Negative Occurrences: 3675\n",
      "Neutral Occurrences: 3484\n",
      "\n",
      "Word: την\n",
      "Positive Occurrences: 3618\n",
      "Negative Occurrences: 3560\n",
      "Neutral Occurrences: 3308\n",
      "\n",
      "Word: με\n",
      "Positive Occurrences: 3218\n",
      "Negative Occurrences: 3330\n",
      "Neutral Occurrences: 3010\n",
      "\n",
      "Word: θα\n",
      "Positive Occurrences: 3202\n",
      "Negative Occurrences: 3201\n",
      "Neutral Occurrences: 2871\n",
      "\n",
      "Word: που\n",
      "Positive Occurrences: 2884\n",
      "Negative Occurrences: 3109\n",
      "Neutral Occurrences: 2664\n",
      "\n",
      "Word: δεν\n",
      "Positive Occurrences: 2856\n",
      "Negative Occurrences: 3097\n",
      "Neutral Occurrences: 2641\n",
      "\n",
      "Word: τον\n",
      "Positive Occurrences: 2681\n",
      "Negative Occurrences: 3067\n",
      "Neutral Occurrences: 2658\n",
      "\n",
      "Word: της\n",
      "Positive Occurrences: 2684\n",
      "Negative Occurrences: 2602\n",
      "Neutral Occurrences: 2443\n",
      "\n",
      "Word: τα\n",
      "Positive Occurrences: 2220\n",
      "Negative Occurrences: 2544\n",
      "Neutral Occurrences: 2125\n",
      "\n",
      "Word: είναι\n",
      "Positive Occurrences: 2293\n",
      "Negative Occurrences: 2180\n",
      "Neutral Occurrences: 1902\n",
      "\n",
      "Word: στο\n",
      "Positive Occurrences: 2134\n",
      "Negative Occurrences: 2077\n",
      "Neutral Occurrences: 2017\n",
      "\n",
      "Word: από\n",
      "Positive Occurrences: 1894\n",
      "Negative Occurrences: 1909\n",
      "Neutral Occurrences: 1768\n",
      "\n",
      "Word: σε\n",
      "Positive Occurrences: 1700\n",
      "Negative Occurrences: 1689\n",
      "Neutral Occurrences: 1637\n",
      "\n",
      "Word: στην\n",
      "Positive Occurrences: 1549\n",
      "Negative Occurrences: 1413\n",
      "Neutral Occurrences: 1432\n",
      "\n"
     ]
    }
   ],
   "source": [
    "from collections import Counter\n",
    "\n",
    "def count_word_occurrences(text, words):\n",
    "    word_counts = Counter(text.split())\n",
    "    return {word: word_counts[word] for word in words}\n",
    "\n",
    "# Concatenate all text data into a single string\n",
    "text_corpus = ' '.join(data['Text'].str.lower())\n",
    "\n",
    "# Tokenize the text (split into words)\n",
    "words = text_corpus.split()\n",
    "\n",
    "# Count the frequency of each word\n",
    "word_counts = Counter(words)\n",
    "\n",
    "# Find the 5 most frequently used words\n",
    "most_common_words = [word for word, _ in word_counts.most_common(20)]\n",
    "\n",
    "# Separate the data by sentiment\n",
    "positive_data = data[data['Sentiment'] == 'POSITIVE']\n",
    "negative_data = data[data['Sentiment'] == 'NEGATIVE']\n",
    "neutral_data = data[data['Sentiment'] == 'NEUTRAL']\n",
    "\n",
    "# Count the occurrences of the most common words in each sentiment category\n",
    "common_words_in_positive = count_word_occurrences(' '.join(positive_data['Text'].str.lower()), most_common_words)\n",
    "common_words_in_negative = count_word_occurrences(' '.join(negative_data['Text'].str.lower()), most_common_words)\n",
    "common_words_in_neutral = count_word_occurrences(' '.join(neutral_data['Text'].str.lower()), most_common_words)\n",
    "\n",
    "# Print the results\n",
    "for word in most_common_words:\n",
    "    print(f\"Word: {word}\")\n",
    "    print(f\"Positive Occurrences: {common_words_in_positive[word]}\")\n",
    "    print(f\"Negative Occurrences: {common_words_in_negative[word]}\")\n",
    "    print(f\"Neutral Occurrences: {common_words_in_neutral[word]}\")\n",
    "    print()"
   ]
  },
  {
   "cell_type": "markdown",
   "id": "3bcdd0d1",
   "metadata": {
    "papermill": {
     "duration": 0.019302,
     "end_time": "2023-11-21T18:39:05.538308",
     "exception": false,
     "start_time": "2023-11-21T18:39:05.519006",
     "status": "completed"
    },
    "tags": []
   },
   "source": [
    "In the first place, with no data cleaning at all, no deduction can be made for the msot frequent words"
   ]
  },
  {
   "cell_type": "markdown",
   "id": "0a92b8e8",
   "metadata": {
    "papermill": {
     "duration": 0.019593,
     "end_time": "2023-11-21T18:39:05.577710",
     "exception": false,
     "start_time": "2023-11-21T18:39:05.558117",
     "status": "completed"
    },
    "tags": []
   },
   "source": [
    "We will also check the relationship between parties and sentiments"
   ]
  },
  {
   "cell_type": "code",
   "execution_count": 3,
   "id": "249c83f1",
   "metadata": {
    "execution": {
     "iopub.execute_input": "2023-11-21T18:39:05.620701Z",
     "iopub.status.busy": "2023-11-21T18:39:05.620158Z",
     "iopub.status.idle": "2023-11-21T18:39:05.656844Z",
     "shell.execute_reply": "2023-11-21T18:39:05.654734Z"
    },
    "papermill": {
     "duration": 0.061405,
     "end_time": "2023-11-21T18:39:05.659581",
     "exception": false,
     "start_time": "2023-11-21T18:39:05.598176",
     "status": "completed"
    },
    "tags": []
   },
   "outputs": [
    {
     "name": "stdout",
     "output_type": "stream",
     "text": [
      "      Party  NEGATIVE Count  NEUTRAL Count  POSITIVE Count\n",
      "0      DIEM             571            642             530\n",
      "1  ELL_LYSI             337            257             205\n",
      "2       KKE             770           1110             989\n",
      "3        ND            3438           3887            4261\n",
      "4     PASOK            1682           1755            1696\n",
      "5    SYRIZA            5412           4559            4529\n"
     ]
    }
   ],
   "source": [
    "party_sentiment_counts = data.groupby(['Party', 'Sentiment']).size().unstack(fill_value=0)\n",
    "party_sentiment_counts.columns = [f'{col} Count' for col in party_sentiment_counts.columns]\n",
    "party_sentiment_counts.reset_index(inplace=True)\n",
    "print(party_sentiment_counts)\n"
   ]
  },
  {
   "cell_type": "markdown",
   "id": "59a488eb",
   "metadata": {
    "papermill": {
     "duration": 0.01934,
     "end_time": "2023-11-21T18:39:05.698617",
     "exception": false,
     "start_time": "2023-11-21T18:39:05.679277",
     "status": "completed"
    },
    "tags": []
   },
   "source": [
    "The first thing we will do is lowercase each letter\n"
   ]
  },
  {
   "cell_type": "code",
   "execution_count": 4,
   "id": "4f9da708",
   "metadata": {
    "execution": {
     "iopub.execute_input": "2023-11-21T18:39:05.740469Z",
     "iopub.status.busy": "2023-11-21T18:39:05.739607Z",
     "iopub.status.idle": "2023-11-21T18:39:05.867608Z",
     "shell.execute_reply": "2023-11-21T18:39:05.866206Z"
    },
    "papermill": {
     "duration": 0.152759,
     "end_time": "2023-11-21T18:39:05.870828",
     "exception": false,
     "start_time": "2023-11-21T18:39:05.718069",
     "status": "completed"
    },
    "tags": []
   },
   "outputs": [],
   "source": [
    "data['Text'] = data['Text'].apply(lambda x: x.lower())\n",
    "valid['Text'] = valid['Text'].apply(lambda x: x.lower())\n"
   ]
  },
  {
   "cell_type": "markdown",
   "id": "c7d48f7e",
   "metadata": {
    "papermill": {
     "duration": 0.019424,
     "end_time": "2023-11-21T18:39:05.910183",
     "exception": false,
     "start_time": "2023-11-21T18:39:05.890759",
     "status": "completed"
    },
    "tags": []
   },
   "source": [
    "Remove some common greek words (stopwords)"
   ]
  },
  {
   "cell_type": "code",
   "execution_count": 5,
   "id": "2f422201",
   "metadata": {
    "execution": {
     "iopub.execute_input": "2023-11-21T18:39:05.951849Z",
     "iopub.status.busy": "2023-11-21T18:39:05.951324Z",
     "iopub.status.idle": "2023-11-21T18:39:07.090986Z",
     "shell.execute_reply": "2023-11-21T18:39:07.089297Z"
    },
    "papermill": {
     "duration": 1.165078,
     "end_time": "2023-11-21T18:39:07.095066",
     "exception": false,
     "start_time": "2023-11-21T18:39:05.929988",
     "status": "completed"
    },
    "tags": []
   },
   "outputs": [],
   "source": [
    "greek_stopwords = [\n",
    "    'και', 'το', 'η', 'της', 'του', 'τα', 'σε', 'με', 'για', 'ειναι',\n",
    "    'στο', 'απο', 'που', 'οι', 'την', 'ενα', 'μετα', 'εχει', 'δεν',\n",
    "    'ειναι', 'μια', 'αυτο', 'εναν', 'αλλα', 'ο', 'μη', 'οτι', 'πως',\n",
    "    'απο', 'στην', 'στον', 'τι', 'αυτη', 'των', 'αυτα', 'οταν', 'πολυ',\n",
    "    'μας', 'ειναι', 'πριν', 'οτι', 'μονο', 'αυτος', 'τοτε', 'μεταξυ',\n",
    "    'πολλα', 'οποτε', 'παρα', 'εαν', 'γυρω', 'αυτην', 'εκεινος', 'περισσοτερο',\n",
    "    'προς', 'πολυ', 'τελικα', 'ολοι'\n",
    "]\n",
    "def remove_stopwords(text):\n",
    "    words = text.split()  # Split the text into words\n",
    "    words = [word for word in words if word.lower() not in greek_stopwords]\n",
    "    return ' '.join(words)\n",
    "valid['Text'] = valid['Text'].apply(remove_stopwords)\n",
    "data['Text'] = data['Text'].apply(remove_stopwords)\n"
   ]
  },
  {
   "cell_type": "markdown",
   "id": "99919767",
   "metadata": {
    "papermill": {
     "duration": 0.114169,
     "end_time": "2023-11-21T18:39:07.229455",
     "exception": false,
     "start_time": "2023-11-21T18:39:07.115286",
     "status": "completed"
    },
    "tags": []
   },
   "source": [
    "Remove urls"
   ]
  },
  {
   "cell_type": "code",
   "execution_count": 6,
   "id": "cc4dec3d",
   "metadata": {
    "execution": {
     "iopub.execute_input": "2023-11-21T18:39:07.271856Z",
     "iopub.status.busy": "2023-11-21T18:39:07.270917Z",
     "iopub.status.idle": "2023-11-21T18:39:07.494273Z",
     "shell.execute_reply": "2023-11-21T18:39:07.492766Z"
    },
    "papermill": {
     "duration": 0.248346,
     "end_time": "2023-11-21T18:39:07.497734",
     "exception": false,
     "start_time": "2023-11-21T18:39:07.249388",
     "status": "completed"
    },
    "tags": []
   },
   "outputs": [],
   "source": [
    "url_pattern = re.compile(r'http[s]?://(?:[a-zA-Z]|[0-9]|[$-_@.&+]|[!*\\\\(\\\\),]|(?:%[0-9a-fA-F][0-9a-fA-F]))+')\n",
    "def remove_urls(text):\n",
    "    return re.sub(url_pattern, '', text)\n",
    "valid['Text'] = valid['Text'].apply(remove_urls)\n",
    "data['Text'] = data['Text'].apply(remove_urls)"
   ]
  },
  {
   "cell_type": "markdown",
   "id": "b845e914",
   "metadata": {
    "papermill": {
     "duration": 0.019289,
     "end_time": "2023-11-21T18:39:07.537287",
     "exception": false,
     "start_time": "2023-11-21T18:39:07.517998",
     "status": "completed"
    },
    "tags": []
   },
   "source": [
    "Then we also remove acute tones"
   ]
  },
  {
   "cell_type": "code",
   "execution_count": 7,
   "id": "ab607c00",
   "metadata": {
    "execution": {
     "iopub.execute_input": "2023-11-21T18:39:07.578799Z",
     "iopub.status.busy": "2023-11-21T18:39:07.578293Z",
     "iopub.status.idle": "2023-11-21T18:39:08.478564Z",
     "shell.execute_reply": "2023-11-21T18:39:08.477474Z"
    },
    "papermill": {
     "duration": 0.924883,
     "end_time": "2023-11-21T18:39:08.481656",
     "exception": false,
     "start_time": "2023-11-21T18:39:07.556773",
     "status": "completed"
    },
    "tags": []
   },
   "outputs": [],
   "source": [
    "data['Text'] = data['Text'].apply(lambda x: re.sub('ό', 'ο', x))  \n",
    "data['Text'] = data['Text'].apply(lambda x: re.sub('έ', 'ε', x))  \n",
    "data['Text'] = data['Text'].apply(lambda x: re.sub('ί', 'ι', x))  \n",
    "data['Text'] = data['Text'].apply(lambda x: re.sub('ή', 'η', x))  \n",
    "data['Text'] = data['Text'].apply(lambda x: re.sub('ύ', 'υ', x))  \n",
    "data['Text'] = data['Text'].apply(lambda x: re.sub('ώ', 'ω', x))  \n",
    "data['Text'] = data['Text'].apply(lambda x: re.sub('ά', 'α', x))  \n",
    "data['Text'] = data['Text'].apply(lambda x: re.sub('ς', 'σ', x))  \n",
    "\n",
    "valid['Text'] = valid['Text'].apply(lambda x: re.sub('ό', 'ο', x))  \n",
    "valid['Text'] = valid['Text'].apply(lambda x: re.sub('έ', 'ε', x))  \n",
    "valid['Text'] = valid['Text'].apply(lambda x: re.sub('ί', 'ι', x))  \n",
    "valid['Text'] = valid['Text'].apply(lambda x: re.sub('ή', 'η', x))  \n",
    "valid['Text'] = valid['Text'].apply(lambda x: re.sub('ύ', 'υ', x))  \n",
    "valid['Text'] = valid['Text'].apply(lambda x: re.sub('ώ', 'ω', x))  \n",
    "valid['Text'] = valid['Text'].apply(lambda x: re.sub('ά', 'α', x))  \n",
    "valid['Text'] = valid['Text'].apply(lambda x: re.sub('ς', 'σ', x))  \n"
   ]
  },
  {
   "cell_type": "markdown",
   "id": "e09bf99d",
   "metadata": {
    "papermill": {
     "duration": 0.020017,
     "end_time": "2023-11-21T18:39:08.522911",
     "exception": false,
     "start_time": "2023-11-21T18:39:08.502894",
     "status": "completed"
    },
    "tags": []
   },
   "source": [
    "Drop all non letters characters like # and @"
   ]
  },
  {
   "cell_type": "code",
   "execution_count": 8,
   "id": "7f5c68e8",
   "metadata": {
    "execution": {
     "iopub.execute_input": "2023-11-21T18:39:08.564848Z",
     "iopub.status.busy": "2023-11-21T18:39:08.564130Z",
     "iopub.status.idle": "2023-11-21T18:39:08.831425Z",
     "shell.execute_reply": "2023-11-21T18:39:08.828700Z"
    },
    "papermill": {
     "duration": 0.293004,
     "end_time": "2023-11-21T18:39:08.835394",
     "exception": false,
     "start_time": "2023-11-21T18:39:08.542390",
     "status": "completed"
    },
    "tags": []
   },
   "outputs": [],
   "source": [
    "alphabet_pattern = re.compile(r'[a-zα-ω\\s]+')\n",
    "def filter_alphabet(text):\n",
    "    return ' '.join(alphabet_pattern.findall(text))\n",
    "valid['Text'] = valid['Text'].apply(filter_alphabet)\n",
    "data['Text'] = data['Text'].apply(filter_alphabet)\n"
   ]
  },
  {
   "cell_type": "markdown",
   "id": "8a741136",
   "metadata": {
    "papermill": {
     "duration": 0.023911,
     "end_time": "2023-11-21T18:39:08.884167",
     "exception": false,
     "start_time": "2023-11-21T18:39:08.860256",
     "status": "completed"
    },
    "tags": []
   },
   "source": [
    "Remove all words that consist of 1 letter"
   ]
  },
  {
   "cell_type": "code",
   "execution_count": 9,
   "id": "95ec39de",
   "metadata": {
    "execution": {
     "iopub.execute_input": "2023-11-21T18:39:08.938759Z",
     "iopub.status.busy": "2023-11-21T18:39:08.937735Z",
     "iopub.status.idle": "2023-11-21T18:39:09.465382Z",
     "shell.execute_reply": "2023-11-21T18:39:09.463736Z"
    },
    "papermill": {
     "duration": 0.561665,
     "end_time": "2023-11-21T18:39:09.469888",
     "exception": false,
     "start_time": "2023-11-21T18:39:08.908223",
     "status": "completed"
    },
    "tags": []
   },
   "outputs": [],
   "source": [
    "word_pattern = re.compile(r'\\b[a-zα-ω]{2,}\\b')\n",
    "def remove_single_letter_words(text):\n",
    "    return ' '.join(word_pattern.findall(text))\n",
    "valid['Text'] = valid['Text'].apply(remove_single_letter_words)\n",
    "data['Text'] = data['Text'].apply(remove_single_letter_words)\n"
   ]
  },
  {
   "cell_type": "markdown",
   "id": "5da7da44",
   "metadata": {
    "papermill": {
     "duration": 0.019538,
     "end_time": "2023-11-21T18:39:09.511821",
     "exception": false,
     "start_time": "2023-11-21T18:39:09.492283",
     "status": "completed"
    },
    "tags": []
   },
   "source": [
    "pip install pandas nltk"
   ]
  },
  {
   "cell_type": "code",
   "execution_count": 10,
   "id": "cdf1842d",
   "metadata": {
    "execution": {
     "iopub.execute_input": "2023-11-21T18:39:09.554644Z",
     "iopub.status.busy": "2023-11-21T18:39:09.554156Z",
     "iopub.status.idle": "2023-11-21T18:39:26.264757Z",
     "shell.execute_reply": "2023-11-21T18:39:26.263172Z"
    },
    "papermill": {
     "duration": 16.734122,
     "end_time": "2023-11-21T18:39:26.267495",
     "exception": false,
     "start_time": "2023-11-21T18:39:09.533373",
     "status": "completed"
    },
    "tags": []
   },
   "outputs": [
    {
     "name": "stdout",
     "output_type": "stream",
     "text": [
      "Collecting greek-stemmer-pos\r\n",
      "  Downloading greek_stemmer_pos-1.1.2-py3-none-any.whl (19 kB)\r\n",
      "Requirement already satisfied: pytest in /opt/conda/lib/python3.10/site-packages (from greek-stemmer-pos) (7.4.3)\r\n",
      "Collecting pytest-cov (from greek-stemmer-pos)\r\n",
      "  Obtaining dependency information for pytest-cov from https://files.pythonhosted.org/packages/a7/4b/8b78d126e275efa2379b1c2e09dc52cf70df16fc3b90613ef82531499d73/pytest_cov-4.1.0-py3-none-any.whl.metadata\r\n",
      "  Downloading pytest_cov-4.1.0-py3-none-any.whl.metadata (26 kB)\r\n",
      "Requirement already satisfied: iniconfig in /opt/conda/lib/python3.10/site-packages (from pytest->greek-stemmer-pos) (2.0.0)\r\n",
      "Requirement already satisfied: packaging in /opt/conda/lib/python3.10/site-packages (from pytest->greek-stemmer-pos) (21.3)\r\n",
      "Requirement already satisfied: pluggy<2.0,>=0.12 in /opt/conda/lib/python3.10/site-packages (from pytest->greek-stemmer-pos) (1.2.0)\r\n",
      "Requirement already satisfied: exceptiongroup>=1.0.0rc8 in /opt/conda/lib/python3.10/site-packages (from pytest->greek-stemmer-pos) (1.1.3)\r\n",
      "Requirement already satisfied: tomli>=1.0.0 in /opt/conda/lib/python3.10/site-packages (from pytest->greek-stemmer-pos) (2.0.1)\r\n",
      "Collecting coverage[toml]>=5.2.1 (from pytest-cov->greek-stemmer-pos)\r\n",
      "  Obtaining dependency information for coverage[toml]>=5.2.1 from https://files.pythonhosted.org/packages/7d/c1/46a0a53b0dfa4c389c81290e3be9e5205d45003863565aa83d264cae4463/coverage-7.3.2-cp310-cp310-manylinux_2_5_x86_64.manylinux1_x86_64.manylinux_2_17_x86_64.manylinux2014_x86_64.whl.metadata\r\n",
      "  Downloading coverage-7.3.2-cp310-cp310-manylinux_2_5_x86_64.manylinux1_x86_64.manylinux_2_17_x86_64.manylinux2014_x86_64.whl.metadata (8.1 kB)\r\n",
      "Requirement already satisfied: pyparsing!=3.0.5,>=2.0.2 in /opt/conda/lib/python3.10/site-packages (from packaging->pytest->greek-stemmer-pos) (3.0.9)\r\n",
      "Downloading pytest_cov-4.1.0-py3-none-any.whl (21 kB)\r\n",
      "Downloading coverage-7.3.2-cp310-cp310-manylinux_2_5_x86_64.manylinux1_x86_64.manylinux_2_17_x86_64.manylinux2014_x86_64.whl (227 kB)\r\n",
      "\u001b[2K   \u001b[90m━━━━━━━━━━━━━━━━━━━━━━━━━━━━━━━━━━━━━━━━\u001b[0m \u001b[32m227.5/227.5 kB\u001b[0m \u001b[31m10.9 MB/s\u001b[0m eta \u001b[36m0:00:00\u001b[0m\r\n",
      "\u001b[?25hInstalling collected packages: coverage, pytest-cov, greek-stemmer-pos\r\n",
      "Successfully installed coverage-7.3.2 greek-stemmer-pos-1.1.2 pytest-cov-4.1.0\r\n",
      "Note: you may need to restart the kernel to use updated packages.\n"
     ]
    }
   ],
   "source": [
    "pip install greek-stemmer-pos"
   ]
  },
  {
   "cell_type": "code",
   "execution_count": 11,
   "id": "35fbaa45",
   "metadata": {
    "execution": {
     "iopub.execute_input": "2023-11-21T18:39:26.312381Z",
     "iopub.status.busy": "2023-11-21T18:39:26.311903Z",
     "iopub.status.idle": "2023-11-21T18:39:52.387089Z",
     "shell.execute_reply": "2023-11-21T18:39:52.385751Z"
    },
    "papermill": {
     "duration": 26.101465,
     "end_time": "2023-11-21T18:39:52.390168",
     "exception": false,
     "start_time": "2023-11-21T18:39:26.288703",
     "status": "completed"
    },
    "tags": []
   },
   "outputs": [],
   "source": [
    "from greek_stemmer import stemmer\n",
    "\n",
    "# Define a function to perform stemming on the tweets\n",
    "def stem_greek_text(text):\n",
    "    words = text.split()\n",
    "    stemmed_words = [stemmer.stem_word(word,\"NNN\") for word in words]\n",
    "    stemmed_text = ' '.join(stemmed_words)\n",
    "    return stemmed_text\n",
    "\n",
    "\n",
    "# Apply the stem_greek_text function to the 'tweets' column\n",
    "data['Text'] = data['Text'].apply(stem_greek_text)\n",
    "valid['Text'] = valid['Text'].apply(stem_greek_text)\n"
   ]
  },
  {
   "cell_type": "markdown",
   "id": "1949322b",
   "metadata": {
    "papermill": {
     "duration": 0.020491,
     "end_time": "2023-11-21T18:39:52.431948",
     "exception": false,
     "start_time": "2023-11-21T18:39:52.411457",
     "status": "completed"
    },
    "tags": []
   },
   "source": [
    "Save data frames as csv"
   ]
  },
  {
   "cell_type": "markdown",
   "id": "8a0f8e3d",
   "metadata": {
    "papermill": {
     "duration": 0.020599,
     "end_time": "2023-11-21T18:39:52.473590",
     "exception": false,
     "start_time": "2023-11-21T18:39:52.452991",
     "status": "completed"
    },
    "tags": []
   },
   "source": [
    "The csv's we saved, will be our final data, each time we run the program we can load immediately our data without pre-processing\n"
   ]
  },
  {
   "cell_type": "code",
   "execution_count": 12,
   "id": "9a18e8a8",
   "metadata": {
    "execution": {
     "iopub.execute_input": "2023-11-21T18:39:52.517926Z",
     "iopub.status.busy": "2023-11-21T18:39:52.517052Z",
     "iopub.status.idle": "2023-11-21T18:39:52.990501Z",
     "shell.execute_reply": "2023-11-21T18:39:52.989238Z"
    },
    "papermill": {
     "duration": 0.499087,
     "end_time": "2023-11-21T18:39:52.993646",
     "exception": false,
     "start_time": "2023-11-21T18:39:52.494559",
     "status": "completed"
    },
    "tags": []
   },
   "outputs": [
    {
     "name": "stdout",
     "output_type": "stream",
     "text": [
      "   New_ID                                               Text Sentiment   Party\n",
      "0   35027  απολυμανς κορι απεντομως κορι απολυμανς κορι a...   NEUTRAL  SYRIZA\n",
      "1    9531  εξι νε επιστολ τ μακεδονι καιν τ νδ μητσοτακ γ...  NEGATIVE      ND\n",
      "2   14146       ισχυρ κκε δυναμ λα στ βουλ στ καθημεριν αγων  POSITIVE     KKE\n",
      "3   28716  five nds anthi vas μνημονιακοτατ μερ εκλογ iou...   NEUTRAL     KKE\n",
      "4   32886  ai katerina αυτ εινα συγκλονιστικ εινα ψυχασθε...   NEUTRAL  SYRIZA\n",
      "5   12112  tou diaolou εχ δικι αντι να παιζ εαμ ελλ μπελο...  NEGATIVE  SYRIZA\n",
      "6   13115                             προκλητικ ολ τσιπρ σκα  POSITIVE  SYRIZA\n",
      "7   21431  ksyrizohunter θ π αλλιως μητσοτακ δηλως εκλογ ...  POSITIVE      ND\n",
      "8   12593  ραπισμ αντετοκουμπ υποκρισι μητσοτακ εξι χρονι...  POSITIVE      ND\n",
      "9   19725  nikospappas atsipras kmitsotakis ξερ τους αλλ ...  POSITIVE      ND\n",
      "   New_ID                                               Text Sentiment  \\\n",
      "0     435  glinard teza tereza adonisgeorgiadi atsipras s...  POSITIVE   \n",
      "1    3061  τσιπρ ζητησαμ απο αντιπολιτευς να συμμετεχ στ ...  NEGATIVE   \n",
      "2    2161  σωστ ελλην δημοκρατ ελλην εξωτερικ ερχετα ελλα...  NEGATIVE   \n",
      "3    1271  kai ναι βλεπ αυτ ενδιαφερ τους μητσοτακηδ γιατ...  POSITIVE   \n",
      "4    4396  συνεντευξ μητσοτακ alpha υπο αιρες συνταξ αυξη...   NEUTRAL   \n",
      "5    1102  εκλογικ περιπτερ συριζα προοδευτικ συμμαχι στ ...  POSITIVE   \n",
      "6    1567  επιτακτικ αναγκ τ κυβερνης μητσοτακ καθαρς στ ...  POSITIVE   \n",
      "7    4093  times λονδιν τσιπρ πως απο λ κιστ σωτηρ εγιν δ...   NEUTRAL   \n",
      "8    3026  dimi zaharakis sspithess παντ να ξερ συστημ λα...  NEGATIVE   \n",
      "9    2473  manosvoularinos εμετικ στ νδ να βλεπ καλ θελ ν...  NEGATIVE   \n",
      "\n",
      "      Party  \n",
      "0    SYRIZA  \n",
      "1    SYRIZA  \n",
      "2        ND  \n",
      "3        ND  \n",
      "4        ND  \n",
      "5    SYRIZA  \n",
      "6  ELL_LYSI  \n",
      "7    SYRIZA  \n",
      "8        ND  \n",
      "9        ND  \n"
     ]
    }
   ],
   "source": [
    "data['Text'] = data['Text'].apply(lambda x: x.lower())\n",
    "valid['Text'] = valid['Text'].apply(lambda x: x.lower())\n",
    "data.to_csv(\"data.csv\", index=False)\n",
    "valid.to_csv(\"valid.csv\", index=False)\n",
    "print(data.head(10))\n",
    "print(valid.head(10))"
   ]
  },
  {
   "cell_type": "markdown",
   "id": "68eba657",
   "metadata": {
    "papermill": {
     "duration": 0.021049,
     "end_time": "2023-11-21T18:39:53.035984",
     "exception": false,
     "start_time": "2023-11-21T18:39:53.014935",
     "status": "completed"
    },
    "tags": []
   },
   "source": [
    "After data cleaning we will check again the most frequent words"
   ]
  },
  {
   "cell_type": "code",
   "execution_count": 13,
   "id": "1bed29bb",
   "metadata": {
    "execution": {
     "iopub.execute_input": "2023-11-21T18:39:53.083515Z",
     "iopub.status.busy": "2023-11-21T18:39:53.082933Z",
     "iopub.status.idle": "2023-11-21T18:39:53.749598Z",
     "shell.execute_reply": "2023-11-21T18:39:53.748367Z"
    },
    "papermill": {
     "duration": 0.693993,
     "end_time": "2023-11-21T18:39:53.753256",
     "exception": false,
     "start_time": "2023-11-21T18:39:53.059263",
     "status": "completed"
    },
    "tags": []
   },
   "outputs": [
    {
     "name": "stdout",
     "output_type": "stream",
     "text": [
      "Word: τ\n",
      "Positive Occurrences: 5530\n",
      "Negative Occurrences: 5830\n",
      "Neutral Occurrences: 5271\n",
      "\n",
      "Word: να\n",
      "Positive Occurrences: 5455\n",
      "Negative Occurrences: 5748\n",
      "Neutral Occurrences: 4964\n",
      "\n",
      "Word: τσιπρ\n",
      "Positive Occurrences: 3238\n",
      "Negative Occurrences: 4279\n",
      "Neutral Occurrences: 3662\n",
      "\n",
      "Word: θ\n",
      "Positive Occurrences: 3399\n",
      "Negative Occurrences: 3421\n",
      "Neutral Occurrences: 3069\n",
      "\n",
      "Word: μητσοτακ\n",
      "Positive Occurrences: 3229\n",
      "Negative Occurrences: 2808\n",
      "Neutral Occurrences: 3243\n",
      "\n",
      "Word: νδ\n",
      "Positive Occurrences: 2771\n",
      "Negative Occurrences: 2732\n",
      "Neutral Occurrences: 2667\n",
      "\n",
      "Word: συριζα\n",
      "Positive Occurrences: 2515\n",
      "Negative Occurrences: 2688\n",
      "Neutral Occurrences: 2375\n",
      "\n",
      "Word: στ\n",
      "Positive Occurrences: 2579\n",
      "Negative Occurrences: 2323\n",
      "Neutral Occurrences: 2320\n",
      "\n",
      "Word: εινα\n",
      "Positive Occurrences: 2433\n",
      "Negative Occurrences: 2330\n",
      "Neutral Occurrences: 2036\n",
      "\n",
      "Word: εκλογ\n",
      "Positive Occurrences: 2250\n",
      "Negative Occurrences: 2101\n",
      "Neutral Occurrences: 2418\n",
      "\n",
      "Word: απο\n",
      "Positive Occurrences: 1954\n",
      "Negative Occurrences: 1959\n",
      "Neutral Occurrences: 1814\n",
      "\n",
      "Word: τους\n",
      "Positive Occurrences: 1538\n",
      "Negative Occurrences: 1739\n",
      "Neutral Occurrences: 1414\n",
      "\n",
      "Word: αυτ\n",
      "Positive Occurrences: 1605\n",
      "Negative Occurrences: 1680\n",
      "Neutral Occurrences: 1349\n",
      "\n",
      "Word: οτ\n",
      "Positive Occurrences: 1377\n",
      "Negative Occurrences: 1621\n",
      "Neutral Occurrences: 1348\n",
      "\n",
      "Word: εχ\n",
      "Positive Occurrences: 1311\n",
      "Negative Occurrences: 1360\n",
      "Neutral Occurrences: 1215\n",
      "\n",
      "Word: αλλ\n",
      "Positive Occurrences: 1216\n",
      "Negative Occurrences: 1270\n",
      "Neutral Occurrences: 1070\n",
      "\n",
      "Word: κκε\n",
      "Positive Occurrences: 1258\n",
      "Negative Occurrences: 969\n",
      "Neutral Occurrences: 1299\n",
      "\n",
      "Word: ολ\n",
      "Positive Occurrences: 1012\n",
      "Negative Occurrences: 986\n",
      "Neutral Occurrences: 890\n",
      "\n",
      "Word: εν\n",
      "Positive Occurrences: 933\n",
      "Negative Occurrences: 914\n",
      "Neutral Occurrences: 832\n",
      "\n",
      "Word: νε\n",
      "Positive Occurrences: 929\n",
      "Negative Occurrences: 816\n",
      "Neutral Occurrences: 840\n",
      "\n"
     ]
    }
   ],
   "source": [
    "from collections import Counter\n",
    "\n",
    "def count_word_occurrences(text, words):\n",
    "    word_counts = Counter(text.split())\n",
    "    return {word: word_counts[word] for word in words}\n",
    "\n",
    "# Concatenate all text data into a single string\n",
    "text_corpus = ' '.join(data['Text'].str.lower())\n",
    "\n",
    "# Tokenize the text (split into words)\n",
    "words = text_corpus.split()\n",
    "\n",
    "# Count the frequency of each word\n",
    "word_counts = Counter(words)\n",
    "\n",
    "# Find the 5 most frequently used words\n",
    "most_common_words = [word for word, _ in word_counts.most_common(20)]\n",
    "\n",
    "# Separate the data by sentiment\n",
    "positive_data = data[data['Sentiment'] == 'POSITIVE']\n",
    "negative_data = data[data['Sentiment'] == 'NEGATIVE']\n",
    "neutral_data = data[data['Sentiment'] == 'NEUTRAL']\n",
    "\n",
    "# Count the occurrences of the most common words in each sentiment category\n",
    "common_words_in_positive = count_word_occurrences(' '.join(positive_data['Text'].str.lower()), most_common_words)\n",
    "common_words_in_negative = count_word_occurrences(' '.join(negative_data['Text'].str.lower()), most_common_words)\n",
    "common_words_in_neutral = count_word_occurrences(' '.join(neutral_data['Text'].str.lower()), most_common_words)\n",
    "\n",
    "# Print the results\n",
    "for word in most_common_words:\n",
    "    print(f\"Word: {word}\")\n",
    "    print(f\"Positive Occurrences: {common_words_in_positive[word]}\")\n",
    "    print(f\"Negative Occurrences: {common_words_in_negative[word]}\")\n",
    "    print(f\"Neutral Occurrences: {common_words_in_neutral[word]}\")\n",
    "    print()"
   ]
  },
  {
   "cell_type": "markdown",
   "id": "6d4eac12",
   "metadata": {
    "papermill": {
     "duration": 0.021041,
     "end_time": "2023-11-21T18:39:53.795815",
     "exception": false,
     "start_time": "2023-11-21T18:39:53.774774",
     "status": "completed"
    },
    "tags": []
   },
   "source": [
    "We are going to use the optuna framework for hyperparameters tuning"
   ]
  },
  {
   "cell_type": "code",
   "execution_count": 14,
   "id": "24c642e7",
   "metadata": {
    "execution": {
     "iopub.execute_input": "2023-11-21T18:39:53.841795Z",
     "iopub.status.busy": "2023-11-21T18:39:53.841292Z",
     "iopub.status.idle": "2023-11-21T18:40:07.754044Z",
     "shell.execute_reply": "2023-11-21T18:40:07.752383Z"
    },
    "papermill": {
     "duration": 13.939733,
     "end_time": "2023-11-21T18:40:07.757428",
     "exception": false,
     "start_time": "2023-11-21T18:39:53.817695",
     "status": "completed"
    },
    "tags": []
   },
   "outputs": [
    {
     "name": "stdout",
     "output_type": "stream",
     "text": [
      "Requirement already satisfied: optuna in /opt/conda/lib/python3.10/site-packages (3.4.0)\r\n",
      "Requirement already satisfied: alembic>=1.5.0 in /opt/conda/lib/python3.10/site-packages (from optuna) (1.12.1)\r\n",
      "Requirement already satisfied: colorlog in /opt/conda/lib/python3.10/site-packages (from optuna) (6.7.0)\r\n",
      "Requirement already satisfied: numpy in /opt/conda/lib/python3.10/site-packages (from optuna) (1.24.3)\r\n",
      "Requirement already satisfied: packaging>=20.0 in /opt/conda/lib/python3.10/site-packages (from optuna) (21.3)\r\n",
      "Requirement already satisfied: sqlalchemy>=1.3.0 in /opt/conda/lib/python3.10/site-packages (from optuna) (2.0.20)\r\n",
      "Requirement already satisfied: tqdm in /opt/conda/lib/python3.10/site-packages (from optuna) (4.66.1)\r\n",
      "Requirement already satisfied: PyYAML in /opt/conda/lib/python3.10/site-packages (from optuna) (6.0.1)\r\n",
      "Requirement already satisfied: Mako in /opt/conda/lib/python3.10/site-packages (from alembic>=1.5.0->optuna) (1.3.0)\r\n",
      "Requirement already satisfied: typing-extensions>=4 in /opt/conda/lib/python3.10/site-packages (from alembic>=1.5.0->optuna) (4.5.0)\r\n",
      "Requirement already satisfied: pyparsing!=3.0.5,>=2.0.2 in /opt/conda/lib/python3.10/site-packages (from packaging>=20.0->optuna) (3.0.9)\r\n",
      "Requirement already satisfied: greenlet!=0.4.17 in /opt/conda/lib/python3.10/site-packages (from sqlalchemy>=1.3.0->optuna) (2.0.2)\r\n",
      "Requirement already satisfied: MarkupSafe>=0.9.2 in /opt/conda/lib/python3.10/site-packages (from Mako->alembic>=1.5.0->optuna) (2.1.3)\r\n",
      "Note: you may need to restart the kernel to use updated packages.\n"
     ]
    }
   ],
   "source": [
    "pip install optuna"
   ]
  },
  {
   "cell_type": "markdown",
   "id": "b960201c",
   "metadata": {
    "papermill": {
     "duration": 0.022274,
     "end_time": "2023-11-21T18:40:07.802115",
     "exception": false,
     "start_time": "2023-11-21T18:40:07.779841",
     "status": "completed"
    },
    "tags": []
   },
   "source": [
    "tfidf and optuna"
   ]
  },
  {
   "cell_type": "code",
   "execution_count": 15,
   "id": "13eff159",
   "metadata": {
    "execution": {
     "iopub.execute_input": "2023-11-21T18:40:07.851514Z",
     "iopub.status.busy": "2023-11-21T18:40:07.850243Z",
     "iopub.status.idle": "2023-11-21T18:42:32.273010Z",
     "shell.execute_reply": "2023-11-21T18:42:32.271233Z"
    },
    "papermill": {
     "duration": 144.452375,
     "end_time": "2023-11-21T18:42:32.277644",
     "exception": false,
     "start_time": "2023-11-21T18:40:07.825269",
     "status": "completed"
    },
    "tags": []
   },
   "outputs": [
    {
     "name": "stderr",
     "output_type": "stream",
     "text": [
      "[I 2023-11-21 18:40:23,603] A new study created in memory with name: no-name-1f0de8b1-3d33-4703-8009-a31c3b988675\n",
      "[I 2023-11-21 18:40:24,773] Trial 0 finished with value: 0.3956636834758131 and parameters: {'C': 0.0021084776405102985, 'max_iter': 627, 'solver': 'saga'}. Best is trial 0 with value: 0.3956636834758131.\n",
      "[I 2023-11-21 18:40:25,889] Trial 1 finished with value: 0.394980578954176 and parameters: {'C': 0.002779103168457842, 'max_iter': 997, 'solver': 'saga'}. Best is trial 0 with value: 0.3956636834758131.\n",
      "[I 2023-11-21 18:40:26,964] Trial 2 finished with value: 0.3941207031256681 and parameters: {'C': 0.0039338882897204264, 'max_iter': 500, 'solver': 'saga'}. Best is trial 0 with value: 0.3956636834758131.\n",
      "[I 2023-11-21 18:40:28,019] Trial 3 finished with value: 0.39332242980420523 and parameters: {'C': 0.006037655531249419, 'max_iter': 928, 'solver': 'newton-cg'}. Best is trial 0 with value: 0.3956636834758131.\n",
      "[I 2023-11-21 18:40:28,702] Trial 4 finished with value: 0.3958384243753767 and parameters: {'C': 0.009090558025500375, 'max_iter': 792, 'solver': 'sag'}. Best is trial 4 with value: 0.3958384243753767.\n",
      "[I 2023-11-21 18:40:29,966] Trial 5 finished with value: 0.3931370901263571 and parameters: {'C': 0.005302592348893541, 'max_iter': 834, 'solver': 'lbfgs'}. Best is trial 4 with value: 0.3958384243753767.\n",
      "[I 2023-11-21 18:40:31,100] Trial 6 finished with value: 0.39285813304787526 and parameters: {'C': 0.005037431450682601, 'max_iter': 848, 'solver': 'lbfgs'}. Best is trial 4 with value: 0.3958384243753767.\n",
      "[I 2023-11-21 18:40:31,828] Trial 7 finished with value: 0.39455589634833665 and parameters: {'C': 0.007295463643982384, 'max_iter': 763, 'solver': 'sag'}. Best is trial 4 with value: 0.3958384243753767.\n",
      "[I 2023-11-21 18:40:33,719] Trial 8 finished with value: 0.3960356600079498 and parameters: {'C': 0.009504287052400199, 'max_iter': 724, 'solver': 'lbfgs'}. Best is trial 8 with value: 0.3960356600079498.\n",
      "[I 2023-11-21 18:40:34,601] Trial 9 finished with value: 0.394633917921287 and parameters: {'C': 0.003062441996621388, 'max_iter': 921, 'solver': 'newton-cg'}. Best is trial 8 with value: 0.3960356600079498.\n",
      "[I 2023-11-21 18:40:36,733] Trial 10 finished with value: 0.3960356600079498 and parameters: {'C': 0.009496183131587696, 'max_iter': 226, 'solver': 'lbfgs'}. Best is trial 8 with value: 0.3960356600079498.\n",
      "[I 2023-11-21 18:40:38,822] Trial 11 finished with value: 0.3956195436050946 and parameters: {'C': 0.00999738955649224, 'max_iter': 185, 'solver': 'lbfgs'}. Best is trial 8 with value: 0.3960356600079498.\n",
      "[I 2023-11-21 18:40:40,294] Trial 12 finished with value: 0.3959940081808287 and parameters: {'C': 0.008321341987899846, 'max_iter': 115, 'solver': 'lbfgs'}. Best is trial 8 with value: 0.3960356600079498.\n",
      "[I 2023-11-21 18:40:42,674] Trial 13 finished with value: 0.395786653698329 and parameters: {'C': 0.009905784543620878, 'max_iter': 373, 'solver': 'lbfgs'}. Best is trial 8 with value: 0.3960356600079498.\n",
      "[I 2023-11-21 18:40:44,154] Trial 14 finished with value: 0.3955829093773735 and parameters: {'C': 0.00804511002798587, 'max_iter': 325, 'solver': 'lbfgs'}. Best is trial 8 with value: 0.3960356600079498.\n",
      "[I 2023-11-21 18:40:45,694] Trial 15 finished with value: 0.39478602582981864 and parameters: {'C': 0.007416992606574913, 'max_iter': 619, 'solver': 'lbfgs'}. Best is trial 8 with value: 0.3960356600079498.\n",
      "[I 2023-11-21 18:40:47,321] Trial 16 finished with value: 0.39588786967341266 and parameters: {'C': 0.008888318029475538, 'max_iter': 468, 'solver': 'lbfgs'}. Best is trial 8 with value: 0.3960356600079498.\n",
      "[I 2023-11-21 18:40:48,059] Trial 17 finished with value: 0.3944418546472292 and parameters: {'C': 0.006741890044162563, 'max_iter': 669, 'solver': 'sag'}. Best is trial 8 with value: 0.3960356600079498.\n",
      "[I 2023-11-21 18:40:49,312] Trial 18 finished with value: 0.3958396602273868 and parameters: {'C': 0.00908271793554873, 'max_iter': 265, 'solver': 'newton-cg'}. Best is trial 8 with value: 0.3960356600079498.\n",
      "[I 2023-11-21 18:40:50,626] Trial 19 finished with value: 0.39558183077970616 and parameters: {'C': 0.007992655271239504, 'max_iter': 418, 'solver': 'lbfgs'}. Best is trial 8 with value: 0.3960356600079498.\n",
      "[I 2023-11-21 18:40:51,960] Trial 20 finished with value: 0.393820130555209 and parameters: {'C': 0.006446353629859504, 'max_iter': 690, 'solver': 'lbfgs'}. Best is trial 8 with value: 0.3960356600079498.\n",
      "[I 2023-11-21 18:40:53,488] Trial 21 finished with value: 0.39573580379777046 and parameters: {'C': 0.008487884842921466, 'max_iter': 145, 'solver': 'lbfgs'}. Best is trial 8 with value: 0.3960356600079498.\n",
      "[I 2023-11-21 18:40:55,222] Trial 22 finished with value: 0.3959810189350006 and parameters: {'C': 0.009548947428565149, 'max_iter': 101, 'solver': 'lbfgs'}. Best is trial 8 with value: 0.3960356600079498.\n",
      "[I 2023-11-21 18:40:56,560] Trial 23 finished with value: 0.39573580379777046 and parameters: {'C': 0.008491298854993227, 'max_iter': 201, 'solver': 'lbfgs'}. Best is trial 8 with value: 0.3960356600079498.\n",
      "[I 2023-11-21 18:40:58,371] Trial 24 finished with value: 0.3960385870045335 and parameters: {'C': 0.009352488665741968, 'max_iter': 243, 'solver': 'lbfgs'}. Best is trial 24 with value: 0.3960385870045335.\n",
      "[I 2023-11-21 18:41:00,438] Trial 25 finished with value: 0.3960356600079498 and parameters: {'C': 0.009449866095530439, 'max_iter': 298, 'solver': 'lbfgs'}. Best is trial 24 with value: 0.3960385870045335.\n",
      "[I 2023-11-21 18:41:01,516] Trial 26 finished with value: 0.3958354768042865 and parameters: {'C': 0.009252781078053503, 'max_iter': 551, 'solver': 'saga'}. Best is trial 24 with value: 0.3960385870045335.\n",
      "[I 2023-11-21 18:41:02,190] Trial 27 finished with value: 0.3962022943781984 and parameters: {'C': 0.009832524838734046, 'max_iter': 246, 'solver': 'sag'}. Best is trial 27 with value: 0.3962022943781984.\n",
      "[I 2023-11-21 18:41:02,881] Trial 28 finished with value: 0.39442031092904406 and parameters: {'C': 0.007508007791386934, 'max_iter': 366, 'solver': 'sag'}. Best is trial 27 with value: 0.3962022943781984.\n",
      "[I 2023-11-21 18:41:03,524] Trial 29 finished with value: 0.3956207586580105 and parameters: {'C': 0.009959023321618653, 'max_iter': 566, 'solver': 'sag'}. Best is trial 27 with value: 0.3962022943781984.\n",
      "[I 2023-11-21 18:41:04,168] Trial 30 finished with value: 0.3960004439644302 and parameters: {'C': 0.00875318492849629, 'max_iter': 456, 'solver': 'sag'}. Best is trial 27 with value: 0.3962022943781984.\n",
      "[I 2023-11-21 18:41:04,822] Trial 31 finished with value: 0.3960356600079498 and parameters: {'C': 0.009392962028109231, 'max_iter': 206, 'solver': 'sag'}. Best is trial 27 with value: 0.3962022943781984.\n",
      "[I 2023-11-21 18:41:06,060] Trial 32 finished with value: 0.39580020248501063 and parameters: {'C': 0.008761464377590941, 'max_iter': 249, 'solver': 'newton-cg'}. Best is trial 27 with value: 0.3962022943781984.\n",
      "[I 2023-11-21 18:41:07,104] Trial 33 finished with value: 0.3956178422165644 and parameters: {'C': 0.009976240236956674, 'max_iter': 244, 'solver': 'saga'}. Best is trial 27 with value: 0.3962022943781984.\n",
      "[I 2023-11-21 18:41:08,090] Trial 34 finished with value: 0.3954283433892895 and parameters: {'C': 0.008007082410088608, 'max_iter': 340, 'solver': 'saga'}. Best is trial 27 with value: 0.3962022943781984.\n",
      "[I 2023-11-21 18:41:08,753] Trial 35 finished with value: 0.3958354768042865 and parameters: {'C': 0.009236155507208771, 'max_iter': 392, 'solver': 'sag'}. Best is trial 27 with value: 0.3962022943781984.\n",
      "[I 2023-11-21 18:41:10,688] Trial 36 finished with value: 0.3958185390017375 and parameters: {'C': 0.009520723597173814, 'max_iter': 291, 'solver': 'lbfgs'}. Best is trial 27 with value: 0.3962022943781984.\n",
      "[I 2023-11-21 18:41:11,957] Trial 37 finished with value: 0.39580020248501063 and parameters: {'C': 0.008814629659139591, 'max_iter': 724, 'solver': 'newton-cg'}. Best is trial 27 with value: 0.3962022943781984.\n",
      "[I 2023-11-21 18:41:13,024] Trial 38 finished with value: 0.39603123377248245 and parameters: {'C': 0.0013697115196703025, 'max_iter': 174, 'solver': 'lbfgs'}. Best is trial 27 with value: 0.3962022943781984.\n",
      "[I 2023-11-21 18:41:14,159] Trial 39 finished with value: 0.39600686444902244 and parameters: {'C': 0.008349091301649736, 'max_iter': 603, 'solver': 'saga'}. Best is trial 27 with value: 0.3962022943781984.\n",
      "[I 2023-11-21 18:41:14,816] Trial 40 finished with value: 0.3960008855397608 and parameters: {'C': 0.009158771141431921, 'max_iter': 971, 'solver': 'sag'}. Best is trial 27 with value: 0.3962022943781984.\n",
      "[I 2023-11-21 18:41:16,648] Trial 41 finished with value: 0.3959810189350006 and parameters: {'C': 0.009597691865333189, 'max_iter': 312, 'solver': 'lbfgs'}. Best is trial 27 with value: 0.3962022943781984.\n",
      "[I 2023-11-21 18:41:18,603] Trial 42 finished with value: 0.3959810189350006 and parameters: {'C': 0.009585757588372905, 'max_iter': 226, 'solver': 'lbfgs'}. Best is trial 27 with value: 0.3962022943781984.\n",
      "[I 2023-11-21 18:41:20,012] Trial 43 finished with value: 0.39610327085811914 and parameters: {'C': 0.008988683118148611, 'max_iter': 273, 'solver': 'lbfgs'}. Best is trial 27 with value: 0.3962022943781984.\n",
      "[I 2023-11-21 18:41:21,390] Trial 44 finished with value: 0.39610483669473373 and parameters: {'C': 0.00892596642126908, 'max_iter': 158, 'solver': 'lbfgs'}. Best is trial 27 with value: 0.3962022943781984.\n",
      "[I 2023-11-21 18:41:22,711] Trial 45 finished with value: 0.39462073840753265 and parameters: {'C': 0.0077251792416428156, 'max_iter': 822, 'solver': 'lbfgs'}. Best is trial 27 with value: 0.3962022943781984.\n",
      "[I 2023-11-21 18:41:24,242] Trial 46 finished with value: 0.3958392576330311 and parameters: {'C': 0.008711122292753913, 'max_iter': 139, 'solver': 'lbfgs'}. Best is trial 27 with value: 0.3962022943781984.\n",
      "[I 2023-11-21 18:41:25,679] Trial 47 finished with value: 0.3959940081808287 and parameters: {'C': 0.008260165788479126, 'max_iter': 160, 'solver': 'lbfgs'}. Best is trial 27 with value: 0.3962022943781984.\n",
      "[I 2023-11-21 18:41:27,331] Trial 48 finished with value: 0.3959030942211399 and parameters: {'C': 0.009023221319592949, 'max_iter': 899, 'solver': 'lbfgs'}. Best is trial 27 with value: 0.3962022943781984.\n",
      "[I 2023-11-21 18:41:28,324] Trial 49 finished with value: 0.39264865178752895 and parameters: {'C': 0.004720232968434051, 'max_iter': 478, 'solver': 'newton-cg'}. Best is trial 27 with value: 0.3962022943781984.\n",
      "[I 2023-11-21 18:41:29,084] Trial 50 finished with value: 0.3952132202312815 and parameters: {'C': 0.007814884620376817, 'max_iter': 269, 'solver': 'sag'}. Best is trial 27 with value: 0.3962022943781984.\n",
      "[I 2023-11-21 18:41:30,823] Trial 51 finished with value: 0.3956195436050946 and parameters: {'C': 0.009972702284830355, 'max_iter': 231, 'solver': 'lbfgs'}. Best is trial 27 with value: 0.3962022943781984.\n",
      "[I 2023-11-21 18:41:32,392] Trial 52 finished with value: 0.39610327085811914 and parameters: {'C': 0.008984230079881257, 'max_iter': 134, 'solver': 'lbfgs'}. Best is trial 27 with value: 0.3962022943781984.\n",
      "[I 2023-11-21 18:41:33,941] Trial 53 finished with value: 0.39610483669473373 and parameters: {'C': 0.008955942555172349, 'max_iter': 143, 'solver': 'lbfgs'}. Best is trial 27 with value: 0.3962022943781984.\n",
      "[I 2023-11-21 18:41:35,463] Trial 54 finished with value: 0.39610483669473373 and parameters: {'C': 0.008949284319973771, 'max_iter': 133, 'solver': 'lbfgs'}. Best is trial 27 with value: 0.3962022943781984.\n",
      "[I 2023-11-21 18:41:36,905] Trial 55 finished with value: 0.3945565696110606 and parameters: {'C': 0.0070275341354254965, 'max_iter': 124, 'solver': 'lbfgs'}. Best is trial 27 with value: 0.3962022943781984.\n",
      "[I 2023-11-21 18:41:38,411] Trial 56 finished with value: 0.3960064093104565 and parameters: {'C': 0.0085200639061569, 'max_iter': 187, 'solver': 'lbfgs'}. Best is trial 27 with value: 0.3962022943781984.\n",
      "[I 2023-11-21 18:41:39,831] Trial 57 finished with value: 0.39610483669473373 and parameters: {'C': 0.008941519664251723, 'max_iter': 111, 'solver': 'lbfgs'}. Best is trial 27 with value: 0.3962022943781984.\n",
      "[I 2023-11-21 18:41:41,122] Trial 58 finished with value: 0.3959940081808287 and parameters: {'C': 0.00821640691867181, 'max_iter': 112, 'solver': 'lbfgs'}. Best is trial 27 with value: 0.3962022943781984.\n",
      "[I 2023-11-21 18:41:42,469] Trial 59 finished with value: 0.39445367106611534 and parameters: {'C': 0.007677678005650612, 'max_iter': 173, 'solver': 'lbfgs'}. Best is trial 27 with value: 0.3962022943781984.\n",
      "[I 2023-11-21 18:41:44,073] Trial 60 finished with value: 0.3960064093104565 and parameters: {'C': 0.008551524813276937, 'max_iter': 207, 'solver': 'lbfgs'}. Best is trial 27 with value: 0.3962022943781984.\n",
      "[I 2023-11-21 18:41:45,995] Trial 61 finished with value: 0.39610483669473373 and parameters: {'C': 0.008944568567521032, 'max_iter': 146, 'solver': 'lbfgs'}. Best is trial 27 with value: 0.3962022943781984.\n",
      "[I 2023-11-21 18:41:47,463] Trial 62 finished with value: 0.39610327085811914 and parameters: {'C': 0.008994182710980179, 'max_iter': 153, 'solver': 'lbfgs'}. Best is trial 27 with value: 0.3962022943781984.\n",
      "[I 2023-11-21 18:41:48,804] Trial 63 finished with value: 0.39578845273975677 and parameters: {'C': 0.008081483466950144, 'max_iter': 110, 'solver': 'lbfgs'}. Best is trial 27 with value: 0.3962022943781984.\n",
      "[I 2023-11-21 18:41:50,729] Trial 64 finished with value: 0.3959810189350006 and parameters: {'C': 0.009629012100303857, 'max_iter': 169, 'solver': 'lbfgs'}. Best is trial 27 with value: 0.3962022943781984.\n",
      "[I 2023-11-21 18:41:51,450] Trial 65 finished with value: 0.3961628968849514 and parameters: {'C': 0.008719191625688393, 'max_iter': 101, 'solver': 'sag'}. Best is trial 27 with value: 0.3962022943781984.\n",
      "[I 2023-11-21 18:41:52,063] Trial 66 finished with value: 0.39573580379777046 and parameters: {'C': 0.008461083004613536, 'max_iter': 106, 'solver': 'sag'}. Best is trial 27 with value: 0.3962022943781984.\n",
      "[I 2023-11-21 18:41:52,681] Trial 67 finished with value: 0.3959956430974785 and parameters: {'C': 0.009741387744298894, 'max_iter': 145, 'solver': 'sag'}. Best is trial 27 with value: 0.3962022943781984.\n",
      "[I 2023-11-21 18:41:53,325] Trial 68 finished with value: 0.3958354768042865 and parameters: {'C': 0.009284117208526777, 'max_iter': 195, 'solver': 'sag'}. Best is trial 27 with value: 0.3962022943781984.\n",
      "[I 2023-11-21 18:41:53,969] Trial 69 finished with value: 0.39580020248501063 and parameters: {'C': 0.008786820917777065, 'max_iter': 205, 'solver': 'sag'}. Best is trial 27 with value: 0.3962022943781984.\n",
      "[I 2023-11-21 18:41:54,642] Trial 70 finished with value: 0.39455589634833665 and parameters: {'C': 0.0072891060461330775, 'max_iter': 102, 'solver': 'sag'}. Best is trial 27 with value: 0.3962022943781984.\n",
      "[I 2023-11-21 18:41:56,248] Trial 71 finished with value: 0.39643012216526374 and parameters: {'C': 0.009114862826026528, 'max_iter': 264, 'solver': 'lbfgs'}. Best is trial 71 with value: 0.39643012216526374.\n",
      "[I 2023-11-21 18:41:57,249] Trial 72 finished with value: 0.3958354768042865 and parameters: {'C': 0.00924043283901193, 'max_iter': 137, 'solver': 'saga'}. Best is trial 71 with value: 0.39643012216526374.\n",
      "[I 2023-11-21 18:41:58,371] Trial 73 finished with value: 0.3964194398103096 and parameters: {'C': 0.009838750933361161, 'max_iter': 172, 'solver': 'newton-cg'}. Best is trial 71 with value: 0.39643012216526374.\n",
      "[I 2023-11-21 18:41:59,595] Trial 74 finished with value: 0.39599507515053367 and parameters: {'C': 0.009668686015469621, 'max_iter': 214, 'solver': 'newton-cg'}. Best is trial 71 with value: 0.39643012216526374.\n",
      "[I 2023-11-21 18:42:00,776] Trial 75 finished with value: 0.3959956430974785 and parameters: {'C': 0.009759711729046442, 'max_iter': 345, 'solver': 'newton-cg'}. Best is trial 71 with value: 0.39643012216526374.\n",
      "[I 2023-11-21 18:42:01,956] Trial 76 finished with value: 0.3960356600079498 and parameters: {'C': 0.009380381745801972, 'max_iter': 178, 'solver': 'newton-cg'}. Best is trial 71 with value: 0.39643012216526374.\n",
      "[I 2023-11-21 18:42:03,189] Trial 77 finished with value: 0.3960064093104565 and parameters: {'C': 0.008664561715600353, 'max_iter': 252, 'solver': 'newton-cg'}. Best is trial 71 with value: 0.39643012216526374.\n",
      "[I 2023-11-21 18:42:04,373] Trial 78 finished with value: 0.3962022943781984 and parameters: {'C': 0.009835644381619569, 'max_iter': 291, 'solver': 'newton-cg'}. Best is trial 71 with value: 0.39643012216526374.\n",
      "[I 2023-11-21 18:42:05,567] Trial 79 finished with value: 0.3962022943781984 and parameters: {'C': 0.009826755769855021, 'max_iter': 325, 'solver': 'newton-cg'}. Best is trial 71 with value: 0.39643012216526374.\n",
      "[I 2023-11-21 18:42:06,790] Trial 80 finished with value: 0.3962192551091697 and parameters: {'C': 0.00989890585308727, 'max_iter': 292, 'solver': 'newton-cg'}. Best is trial 71 with value: 0.39643012216526374.\n",
      "[I 2023-11-21 18:42:07,983] Trial 81 finished with value: 0.3962022943781984 and parameters: {'C': 0.009799981700320263, 'max_iter': 420, 'solver': 'newton-cg'}. Best is trial 71 with value: 0.39643012216526374.\n",
      "[I 2023-11-21 18:42:09,224] Trial 82 finished with value: 0.3962022943781984 and parameters: {'C': 0.009810928859169347, 'max_iter': 395, 'solver': 'newton-cg'}. Best is trial 71 with value: 0.39643012216526374.\n",
      "[I 2023-11-21 18:42:10,427] Trial 83 finished with value: 0.39599795928505693 and parameters: {'C': 0.009769393554620807, 'max_iter': 416, 'solver': 'newton-cg'}. Best is trial 71 with value: 0.39643012216526374.\n",
      "[I 2023-11-21 18:42:11,770] Trial 84 finished with value: 0.3956178422165644 and parameters: {'C': 0.009978161462767579, 'max_iter': 385, 'solver': 'newton-cg'}. Best is trial 71 with value: 0.39643012216526374.\n",
      "[I 2023-11-21 18:42:12,966] Trial 85 finished with value: 0.3960356600079498 and parameters: {'C': 0.009462869738417163, 'max_iter': 292, 'solver': 'newton-cg'}. Best is trial 71 with value: 0.39643012216526374.\n",
      "[I 2023-11-21 18:42:14,169] Trial 86 finished with value: 0.3959956430974785 and parameters: {'C': 0.009737428262631163, 'max_iter': 326, 'solver': 'newton-cg'}. Best is trial 71 with value: 0.39643012216526374.\n",
      "[I 2023-11-21 18:42:15,481] Trial 87 finished with value: 0.3956178422165644 and parameters: {'C': 0.009985605491160714, 'max_iter': 358, 'solver': 'newton-cg'}. Best is trial 71 with value: 0.39643012216526374.\n",
      "[I 2023-11-21 18:42:16,693] Trial 88 finished with value: 0.3960356600079498 and parameters: {'C': 0.00942102915257076, 'max_iter': 403, 'solver': 'newton-cg'}. Best is trial 71 with value: 0.39643012216526374.\n",
      "[I 2023-11-21 18:42:17,878] Trial 89 finished with value: 0.39599795928505693 and parameters: {'C': 0.009778757427737862, 'max_iter': 449, 'solver': 'newton-cg'}. Best is trial 71 with value: 0.39643012216526374.\n",
      "[I 2023-11-21 18:42:19,423] Trial 90 finished with value: 0.3960356600079498 and parameters: {'C': 0.00951515120222923, 'max_iter': 507, 'solver': 'newton-cg'}. Best is trial 71 with value: 0.39643012216526374.\n",
      "[I 2023-11-21 18:42:20,854] Trial 91 finished with value: 0.3958384243753767 and parameters: {'C': 0.009135417510462204, 'max_iter': 306, 'solver': 'newton-cg'}. Best is trial 71 with value: 0.39643012216526374.\n",
      "[I 2023-11-21 18:42:22,217] Trial 92 finished with value: 0.39599795928505693 and parameters: {'C': 0.00918877647586598, 'max_iter': 278, 'solver': 'newton-cg'}. Best is trial 71 with value: 0.39643012216526374.\n",
      "[I 2023-11-21 18:42:23,413] Trial 93 finished with value: 0.3962022943781984 and parameters: {'C': 0.009815677961709804, 'max_iter': 329, 'solver': 'newton-cg'}. Best is trial 71 with value: 0.39643012216526374.\n",
      "[I 2023-11-21 18:42:24,618] Trial 94 finished with value: 0.3959956430974785 and parameters: {'C': 0.009751519791014388, 'max_iter': 324, 'solver': 'newton-cg'}. Best is trial 71 with value: 0.39643012216526374.\n",
      "[I 2023-11-21 18:42:25,842] Trial 95 finished with value: 0.3960385870045335 and parameters: {'C': 0.009372258659118346, 'max_iter': 368, 'solver': 'newton-cg'}. Best is trial 71 with value: 0.39643012216526374.\n",
      "[I 2023-11-21 18:42:27,172] Trial 96 finished with value: 0.3956178422165644 and parameters: {'C': 0.009989502592672303, 'max_iter': 440, 'solver': 'newton-cg'}. Best is trial 71 with value: 0.39643012216526374.\n",
      "[I 2023-11-21 18:42:28,360] Trial 97 finished with value: 0.3959810189350006 and parameters: {'C': 0.009565218230608442, 'max_iter': 348, 'solver': 'newton-cg'}. Best is trial 71 with value: 0.39643012216526374.\n",
      "[I 2023-11-21 18:42:29,611] Trial 98 finished with value: 0.3964194398103096 and parameters: {'C': 0.009856679579438718, 'max_iter': 261, 'solver': 'newton-cg'}. Best is trial 71 with value: 0.39643012216526374.\n",
      "[I 2023-11-21 18:42:30,785] Trial 99 finished with value: 0.3964224297877534 and parameters: {'C': 0.009861814555818683, 'max_iter': 253, 'solver': 'newton-cg'}. Best is trial 71 with value: 0.39643012216526374.\n"
     ]
    },
    {
     "name": "stdout",
     "output_type": "stream",
     "text": [
      "Best Hyperparameters: {'C': 0.009114862826026528, 'max_iter': 264, 'solver': 'lbfgs'}\n",
      "Accuracy: 40.19\n",
      "F1-score: 39.64\n",
      "Precision: 40.39\n",
      "Recall: 40.19\n"
     ]
    }
   ],
   "source": [
    "import optuna\n",
    "import pandas as pd\n",
    "from sklearn.linear_model import LogisticRegression\n",
    "from sklearn.feature_extraction.text import TfidfVectorizer\n",
    "from sklearn.metrics import accuracy_score, f1_score, precision_score, recall_score\n",
    "from sklearn.preprocessing import LabelEncoder\n",
    "from sklearn.model_selection import train_test_split\n",
    "from scipy.sparse import csr_matrix\n",
    "from nltk.tokenize import word_tokenize\n",
    "\n",
    "\n",
    "file_path = \"/kaggle/working/data.csv\"\n",
    "valid_path = \"/kaggle/working/valid.csv\"\n",
    "\n",
    "# Read the CSV files\n",
    "data = pd.read_csv(file_path)\n",
    "valid = pd.read_csv(valid_path)\n",
    "\n",
    "label_encoder = LabelEncoder()\n",
    "data['Sentiment'] = label_encoder.fit_transform(data['Sentiment'])\n",
    "valid['Sentiment'] = label_encoder.transform(valid['Sentiment'])\n",
    "\n",
    "# Tokenization\n",
    "valid['Tokens'] = valid['Text'].apply(word_tokenize)\n",
    "data['Tokens'] = data['Text'].apply(word_tokenize)\n",
    "data['Tokens'] = data['Tokens'].apply(lambda tokens: ' '.join(tokens))\n",
    "valid['Tokens'] = valid['Tokens'].apply(lambda tokens: ' '.join(tokens))\n",
    "\n",
    "# TF-IDF Vectorization\n",
    "tfidf_vectorizer = TfidfVectorizer(analyzer='word')\n",
    "data_tfidf = tfidf_vectorizer.fit_transform(data['Tokens'])\n",
    "valid_tfidf = tfidf_vectorizer.transform(valid['Tokens'])\n",
    "\n",
    "# Define the objective function for Optuna\n",
    "def objective(trial):\n",
    "    C = trial.suggest_float('C', 0.001, 0.01)\n",
    "    max_iter = trial.suggest_int('max_iter', 100, 1000)\n",
    "    solver = trial.suggest_categorical('solver', ['lbfgs', 'newton-cg', 'sag', 'saga'])\n",
    "\n",
    "    classifier = LogisticRegression(C=C, max_iter=max_iter, solver=solver, random_state=42)\n",
    "    classifier.fit(data_tfidf, data['Sentiment'])\n",
    "    pred_valid = classifier.predict(valid_tfidf)\n",
    "\n",
    "    f1_macro = f1_score(valid['Sentiment'], pred_valid, average='macro')\n",
    "    return f1_macro\n",
    "\n",
    "# Create a study object and optimize\n",
    "study = optuna.create_study(direction='maximize')\n",
    "study.optimize(objective, n_trials=100)\n",
    "\n",
    "# Get the best parameters\n",
    "best_params = study.best_params\n",
    "\n",
    "# Use the best parameters to create the final model\n",
    "final_classifier = LogisticRegression(C=best_params['C'], max_iter=best_params['max_iter'], solver=best_params['solver'], random_state=42)\n",
    "final_classifier.fit(data_tfidf, data['Sentiment'])\n",
    "pred_valid = final_classifier.predict(valid_tfidf)\n",
    "\n",
    "# Evaluate and print the results\n",
    "accuracy = accuracy_score(valid['Sentiment'], pred_valid) * 100\n",
    "f1 = f1_score(valid['Sentiment'], pred_valid, average='macro') * 100\n",
    "precision = precision_score(valid['Sentiment'], pred_valid, average='macro') * 100\n",
    "recall = recall_score(valid['Sentiment'], pred_valid, average='macro') * 100\n",
    "\n",
    "print(\"Best Hyperparameters:\", best_params)\n",
    "print(\"Accuracy: {:.2f}\".format(accuracy))\n",
    "print(\"F1-score: {:.2f}\".format(f1))\n",
    "print(\"Precision: {:.2f}\".format(precision))\n",
    "print(\"Recall: {:.2f}\".format(recall))\n"
   ]
  },
  {
   "cell_type": "markdown",
   "id": "3f78c45e",
   "metadata": {
    "papermill": {
     "duration": 0.032012,
     "end_time": "2023-11-21T18:42:32.354307",
     "exception": false,
     "start_time": "2023-11-21T18:42:32.322295",
     "status": "completed"
    },
    "tags": []
   },
   "source": [
    "doc2vec and optuna"
   ]
  },
  {
   "cell_type": "code",
   "execution_count": 16,
   "id": "ed0d0ff6",
   "metadata": {
    "execution": {
     "iopub.execute_input": "2023-11-21T18:42:32.422866Z",
     "iopub.status.busy": "2023-11-21T18:42:32.421807Z",
     "iopub.status.idle": "2023-11-21T18:45:46.962982Z",
     "shell.execute_reply": "2023-11-21T18:45:46.961369Z"
    },
    "papermill": {
     "duration": 194.580272,
     "end_time": "2023-11-21T18:45:46.968101",
     "exception": false,
     "start_time": "2023-11-21T18:42:32.387829",
     "status": "completed"
    },
    "tags": []
   },
   "outputs": [
    {
     "name": "stderr",
     "output_type": "stream",
     "text": [
      "[I 2023-11-21 18:44:08,562] A new study created in memory with name: no-name-07edbf70-e1e2-4068-8289-346832fd17c5\n",
      "[I 2023-11-21 18:44:11,094] Trial 0 finished with value: 0.373301697542104 and parameters: {'C': 0.006487937189264434, 'max_iter': 482, 'solver': 'saga'}. Best is trial 0 with value: 0.373301697542104.\n",
      "[I 2023-11-21 18:44:12,326] Trial 1 finished with value: 0.37306403323210463 and parameters: {'C': 0.006156919427293868, 'max_iter': 179, 'solver': 'newton-cg'}. Best is trial 0 with value: 0.373301697542104.\n",
      "[I 2023-11-21 18:44:14,901] Trial 2 finished with value: 0.3709027931442091 and parameters: {'C': 0.0022291399851569055, 'max_iter': 554, 'solver': 'saga'}. Best is trial 0 with value: 0.373301697542104.\n",
      "[I 2023-11-21 18:44:16,287] Trial 3 finished with value: 0.37365809452388693 and parameters: {'C': 0.008557884114208755, 'max_iter': 917, 'solver': 'newton-cg'}. Best is trial 3 with value: 0.37365809452388693.\n",
      "[I 2023-11-21 18:44:18,839] Trial 4 finished with value: 0.37101369519923283 and parameters: {'C': 0.0023141036121482506, 'max_iter': 249, 'solver': 'saga'}. Best is trial 3 with value: 0.37365809452388693.\n",
      "[I 2023-11-21 18:44:21,265] Trial 5 finished with value: 0.37365809452388693 and parameters: {'C': 0.008536611880500346, 'max_iter': 380, 'solver': 'saga'}. Best is trial 3 with value: 0.37365809452388693.\n",
      "[I 2023-11-21 18:44:23,679] Trial 6 finished with value: 0.37523346011954267 and parameters: {'C': 0.009822669047329608, 'max_iter': 299, 'solver': 'saga'}. Best is trial 6 with value: 0.37523346011954267.\n",
      "[I 2023-11-21 18:44:25,744] Trial 7 finished with value: 0.3730304498656012 and parameters: {'C': 0.007512817488521666, 'max_iter': 100, 'solver': 'sag'}. Best is trial 6 with value: 0.37523346011954267.\n",
      "[I 2023-11-21 18:44:27,834] Trial 8 finished with value: 0.373517616881244 and parameters: {'C': 0.006238684412202572, 'max_iter': 151, 'solver': 'sag'}. Best is trial 6 with value: 0.37523346011954267.\n",
      "[I 2023-11-21 18:44:28,907] Trial 9 finished with value: 0.37349268763341864 and parameters: {'C': 0.0037076914810178583, 'max_iter': 600, 'solver': 'newton-cg'}. Best is trial 6 with value: 0.37523346011954267.\n",
      "[I 2023-11-21 18:44:29,503] Trial 10 finished with value: 0.37430896479742864 and parameters: {'C': 0.009446838595118894, 'max_iter': 718, 'solver': 'lbfgs'}. Best is trial 6 with value: 0.37523346011954267.\n",
      "[I 2023-11-21 18:44:30,043] Trial 11 finished with value: 0.3750089176248755 and parameters: {'C': 0.009839185874917715, 'max_iter': 776, 'solver': 'lbfgs'}. Best is trial 6 with value: 0.37523346011954267.\n",
      "[I 2023-11-21 18:44:30,574] Trial 12 finished with value: 0.3754488553421642 and parameters: {'C': 0.009871591583847256, 'max_iter': 838, 'solver': 'lbfgs'}. Best is trial 12 with value: 0.3754488553421642.\n",
      "[I 2023-11-21 18:44:31,095] Trial 13 finished with value: 0.37544833343612954 and parameters: {'C': 0.009941453080211023, 'max_iter': 999, 'solver': 'lbfgs'}. Best is trial 12 with value: 0.3754488553421642.\n",
      "[I 2023-11-21 18:44:31,629] Trial 14 finished with value: 0.3731699647899312 and parameters: {'C': 0.00776911373762332, 'max_iter': 972, 'solver': 'lbfgs'}. Best is trial 12 with value: 0.3754488553421642.\n",
      "[I 2023-11-21 18:44:32,099] Trial 15 finished with value: 0.37197274395567376 and parameters: {'C': 0.004397235746204279, 'max_iter': 839, 'solver': 'lbfgs'}. Best is trial 12 with value: 0.3754488553421642.\n",
      "[I 2023-11-21 18:44:32,641] Trial 16 finished with value: 0.3744264045531023 and parameters: {'C': 0.008871221999627773, 'max_iter': 865, 'solver': 'lbfgs'}. Best is trial 12 with value: 0.3754488553421642.\n",
      "[I 2023-11-21 18:44:33,163] Trial 17 finished with value: 0.37544833343612954 and parameters: {'C': 0.00998065634755236, 'max_iter': 692, 'solver': 'lbfgs'}. Best is trial 12 with value: 0.3754488553421642.\n",
      "[I 2023-11-21 18:44:33,689] Trial 18 finished with value: 0.37317002801434995 and parameters: {'C': 0.007629858891321464, 'max_iter': 992, 'solver': 'lbfgs'}. Best is trial 12 with value: 0.3754488553421642.\n",
      "[I 2023-11-21 18:44:34,218] Trial 19 finished with value: 0.37459587995559435 and parameters: {'C': 0.008786932653984636, 'max_iter': 804, 'solver': 'lbfgs'}. Best is trial 12 with value: 0.3754488553421642.\n",
      "[I 2023-11-21 18:44:36,267] Trial 20 finished with value: 0.3727995003210558 and parameters: {'C': 0.0072440396617268355, 'max_iter': 653, 'solver': 'sag'}. Best is trial 12 with value: 0.3754488553421642.\n",
      "[I 2023-11-21 18:44:36,787] Trial 21 finished with value: 0.3750089176248755 and parameters: {'C': 0.009832410862315084, 'max_iter': 719, 'solver': 'lbfgs'}. Best is trial 12 with value: 0.3754488553421642.\n",
      "[I 2023-11-21 18:44:37,307] Trial 22 finished with value: 0.37469356438197515 and parameters: {'C': 0.009061779890757744, 'max_iter': 897, 'solver': 'lbfgs'}. Best is trial 12 with value: 0.3754488553421642.\n",
      "[I 2023-11-21 18:44:37,834] Trial 23 finished with value: 0.37544833343612954 and parameters: {'C': 0.009991362171653324, 'max_iter': 711, 'solver': 'lbfgs'}. Best is trial 12 with value: 0.3754488553421642.\n",
      "[I 2023-11-21 18:44:38,401] Trial 24 finished with value: 0.3742336296191026 and parameters: {'C': 0.009158182488460497, 'max_iter': 928, 'solver': 'lbfgs'}. Best is trial 12 with value: 0.3754488553421642.\n",
      "[I 2023-11-21 18:44:39,037] Trial 25 finished with value: 0.3736560980886947 and parameters: {'C': 0.008230789154917838, 'max_iter': 779, 'solver': 'lbfgs'}. Best is trial 12 with value: 0.3754488553421642.\n",
      "[I 2023-11-21 18:44:39,639] Trial 26 finished with value: 0.3742323152476104 and parameters: {'C': 0.009280294265064968, 'max_iter': 480, 'solver': 'lbfgs'}. Best is trial 12 with value: 0.3754488553421642.\n",
      "[I 2023-11-21 18:44:40,175] Trial 27 finished with value: 0.37401115934951895 and parameters: {'C': 0.00833382105323613, 'max_iter': 977, 'solver': 'lbfgs'}. Best is trial 12 with value: 0.3754488553421642.\n",
      "[I 2023-11-21 18:44:42,260] Trial 28 finished with value: 0.3754469064783526 and parameters: {'C': 0.009984005098421962, 'max_iter': 642, 'solver': 'sag'}. Best is trial 12 with value: 0.3754488553421642.\n",
      "[I 2023-11-21 18:44:43,570] Trial 29 finished with value: 0.37262681283962534 and parameters: {'C': 0.006848416072146395, 'max_iter': 477, 'solver': 'newton-cg'}. Best is trial 12 with value: 0.3754488553421642.\n",
      "[I 2023-11-21 18:44:44,100] Trial 30 finished with value: 0.37366864791835636 and parameters: {'C': 0.00821665332403964, 'max_iter': 838, 'solver': 'lbfgs'}. Best is trial 12 with value: 0.3754488553421642.\n",
      "[I 2023-11-21 18:44:44,632] Trial 31 finished with value: 0.37471780211832906 and parameters: {'C': 0.009449367597124024, 'max_iter': 719, 'solver': 'lbfgs'}. Best is trial 12 with value: 0.3754488553421642.\n",
      "[I 2023-11-21 18:44:45,199] Trial 32 finished with value: 0.3742336296191026 and parameters: {'C': 0.009202724577343778, 'max_iter': 669, 'solver': 'lbfgs'}. Best is trial 12 with value: 0.3754488553421642.\n",
      "[I 2023-11-21 18:44:45,731] Trial 33 finished with value: 0.37544833343612954 and parameters: {'C': 0.009982598861301819, 'max_iter': 595, 'solver': 'lbfgs'}. Best is trial 12 with value: 0.3754488553421642.\n",
      "[I 2023-11-21 18:44:47,237] Trial 34 finished with value: 0.3737636646152054 and parameters: {'C': 0.007965293459650302, 'max_iter': 756, 'solver': 'newton-cg'}. Best is trial 12 with value: 0.3754488553421642.\n",
      "[I 2023-11-21 18:44:47,775] Trial 35 finished with value: 0.37418589958877463 and parameters: {'C': 0.008759123693551717, 'max_iter': 535, 'solver': 'lbfgs'}. Best is trial 12 with value: 0.3754488553421642.\n",
      "[I 2023-11-21 18:44:50,261] Trial 36 finished with value: 0.37430896479742864 and parameters: {'C': 0.009492197122410704, 'max_iter': 914, 'solver': 'saga'}. Best is trial 12 with value: 0.3754488553421642.\n",
      "[I 2023-11-21 18:44:50,789] Trial 37 finished with value: 0.3736032041396291 and parameters: {'C': 0.008429613975182985, 'max_iter': 889, 'solver': 'lbfgs'}. Best is trial 12 with value: 0.3754488553421642.\n",
      "[I 2023-11-21 18:44:53,255] Trial 38 finished with value: 0.3743715349584926 and parameters: {'C': 0.008828540491765322, 'max_iter': 688, 'solver': 'saga'}. Best is trial 12 with value: 0.3754488553421642.\n",
      "[I 2023-11-21 18:44:54,690] Trial 39 finished with value: 0.3754469064783526 and parameters: {'C': 0.009982386898127586, 'max_iter': 397, 'solver': 'newton-cg'}. Best is trial 12 with value: 0.3754488553421642.\n",
      "[I 2023-11-21 18:44:56,880] Trial 40 finished with value: 0.37275554865880706 and parameters: {'C': 0.006903664367742877, 'max_iter': 823, 'solver': 'sag'}. Best is trial 12 with value: 0.3754488553421642.\n",
      "[I 2023-11-21 18:44:57,539] Trial 41 finished with value: 0.3746638163066332 and parameters: {'C': 0.009600431607574636, 'max_iter': 578, 'solver': 'lbfgs'}. Best is trial 12 with value: 0.3754488553421642.\n",
      "[I 2023-11-21 18:44:58,147] Trial 42 finished with value: 0.3747192070218001 and parameters: {'C': 0.009513724239076395, 'max_iter': 591, 'solver': 'lbfgs'}. Best is trial 12 with value: 0.3754488553421642.\n",
      "[I 2023-11-21 18:44:58,667] Trial 43 finished with value: 0.37544833343612954 and parameters: {'C': 0.009978027537530042, 'max_iter': 613, 'solver': 'lbfgs'}. Best is trial 12 with value: 0.3754488553421642.\n",
      "[I 2023-11-21 18:44:59,369] Trial 44 finished with value: 0.3742860487216946 and parameters: {'C': 0.009137848738353764, 'max_iter': 523, 'solver': 'lbfgs'}. Best is trial 12 with value: 0.3754488553421642.\n",
      "[I 2023-11-21 18:45:01,830] Trial 45 finished with value: 0.37448099724440215 and parameters: {'C': 0.009561306972921414, 'max_iter': 739, 'solver': 'saga'}. Best is trial 12 with value: 0.3754488553421642.\n",
      "[I 2023-11-21 18:45:02,364] Trial 46 finished with value: 0.37365723489048125 and parameters: {'C': 0.008528345891120937, 'max_iter': 933, 'solver': 'lbfgs'}. Best is trial 12 with value: 0.3754488553421642.\n",
      "[I 2023-11-21 18:45:02,886] Trial 47 finished with value: 0.374598693266047 and parameters: {'C': 0.008938503655604495, 'max_iter': 691, 'solver': 'lbfgs'}. Best is trial 12 with value: 0.3754488553421642.\n",
      "[I 2023-11-21 18:45:03,411] Trial 48 finished with value: 0.3746534948567546 and parameters: {'C': 0.009653141237047125, 'max_iter': 786, 'solver': 'lbfgs'}. Best is trial 12 with value: 0.3754488553421642.\n",
      "[I 2023-11-21 18:45:04,841] Trial 49 finished with value: 0.3754469064783526 and parameters: {'C': 0.009987565829359378, 'max_iter': 434, 'solver': 'newton-cg'}. Best is trial 12 with value: 0.3754488553421642.\n",
      "[I 2023-11-21 18:45:06,898] Trial 50 finished with value: 0.3736158806877688 and parameters: {'C': 0.008626745691337662, 'max_iter': 629, 'solver': 'sag'}. Best is trial 12 with value: 0.3754488553421642.\n",
      "[I 2023-11-21 18:45:07,431] Trial 51 finished with value: 0.3748251228754933 and parameters: {'C': 0.009731867730320242, 'max_iter': 624, 'solver': 'lbfgs'}. Best is trial 12 with value: 0.3754488553421642.\n",
      "[I 2023-11-21 18:45:07,965] Trial 52 finished with value: 0.37544833343612954 and parameters: {'C': 0.009965296666221594, 'max_iter': 579, 'solver': 'lbfgs'}. Best is trial 12 with value: 0.3754488553421642.\n",
      "[I 2023-11-21 18:45:08,525] Trial 53 finished with value: 0.3742323152476104 and parameters: {'C': 0.009241074418991331, 'max_iter': 693, 'solver': 'lbfgs'}. Best is trial 12 with value: 0.3754488553421642.\n",
      "[I 2023-11-21 18:45:09,231] Trial 54 finished with value: 0.37378058225042077 and parameters: {'C': 0.009297678073325995, 'max_iter': 552, 'solver': 'lbfgs'}. Best is trial 12 with value: 0.3754488553421642.\n",
      "[I 2023-11-21 18:45:09,792] Trial 55 finished with value: 0.37446924854527713 and parameters: {'C': 0.009004491130242029, 'max_iter': 614, 'solver': 'lbfgs'}. Best is trial 12 with value: 0.3754488553421642.\n",
      "[I 2023-11-21 18:45:10,332] Trial 56 finished with value: 0.37466527320184123 and parameters: {'C': 0.009635036528562286, 'max_iter': 290, 'solver': 'lbfgs'}. Best is trial 12 with value: 0.3754488553421642.\n",
      "[I 2023-11-21 18:45:10,879] Trial 57 finished with value: 0.37372166031395254 and parameters: {'C': 0.007930750870122932, 'max_iter': 949, 'solver': 'lbfgs'}. Best is trial 12 with value: 0.3754488553421642.\n",
      "[I 2023-11-21 18:45:11,391] Trial 58 finished with value: 0.37306283530730283 and parameters: {'C': 0.005985958589483292, 'max_iter': 863, 'solver': 'lbfgs'}. Best is trial 12 with value: 0.3754488553421642.\n",
      "[I 2023-11-21 18:45:13,874] Trial 59 finished with value: 0.37447019726529235 and parameters: {'C': 0.009772280379632285, 'max_iter': 513, 'solver': 'saga'}. Best is trial 12 with value: 0.3754488553421642.\n",
      "[I 2023-11-21 18:45:14,431] Trial 60 finished with value: 0.37414885765329603 and parameters: {'C': 0.009325714225252028, 'max_iter': 999, 'solver': 'lbfgs'}. Best is trial 12 with value: 0.3754488553421642.\n",
      "[I 2023-11-21 18:45:14,963] Trial 61 finished with value: 0.37544833343612954 and parameters: {'C': 0.009942503711512793, 'max_iter': 583, 'solver': 'lbfgs'}. Best is trial 12 with value: 0.3754488553421642.\n",
      "[I 2023-11-21 18:45:15,488] Trial 62 finished with value: 0.37544833343612954 and parameters: {'C': 0.0099978518105637, 'max_iter': 574, 'solver': 'lbfgs'}. Best is trial 12 with value: 0.3754488553421642.\n",
      "[I 2023-11-21 18:45:16,023] Trial 63 finished with value: 0.3746947860935587 and parameters: {'C': 0.009034034959947089, 'max_iter': 663, 'solver': 'lbfgs'}. Best is trial 12 with value: 0.3754488553421642.\n",
      "[I 2023-11-21 18:45:16,553] Trial 64 finished with value: 0.37483731324497754 and parameters: {'C': 0.009640120210951448, 'max_iter': 751, 'solver': 'lbfgs'}. Best is trial 12 with value: 0.3754488553421642.\n",
      "[I 2023-11-21 18:45:17,138] Trial 65 finished with value: 0.3741368831098016 and parameters: {'C': 0.009375365203076845, 'max_iter': 641, 'solver': 'lbfgs'}. Best is trial 12 with value: 0.3754488553421642.\n",
      "[I 2023-11-21 18:45:17,682] Trial 66 finished with value: 0.374598693266047 and parameters: {'C': 0.008940658983247272, 'max_iter': 806, 'solver': 'lbfgs'}. Best is trial 12 with value: 0.3754488553421642.\n",
      "[I 2023-11-21 18:45:19,773] Trial 67 finished with value: 0.3750059598358438 and parameters: {'C': 0.009783894014597238, 'max_iter': 727, 'solver': 'sag'}. Best is trial 12 with value: 0.3754488553421642.\n",
      "[I 2023-11-21 18:45:20,310] Trial 68 finished with value: 0.37441090030335616 and parameters: {'C': 0.00871549555335999, 'max_iter': 494, 'solver': 'lbfgs'}. Best is trial 12 with value: 0.3754488553421642.\n",
      "[I 2023-11-21 18:45:21,721] Trial 69 finished with value: 0.374867078816616 and parameters: {'C': 0.009197233675216633, 'max_iter': 555, 'solver': 'newton-cg'}. Best is trial 12 with value: 0.3754488553421642.\n",
      "[I 2023-11-21 18:45:22,254] Trial 70 finished with value: 0.3747192070218001 and parameters: {'C': 0.009482291471162856, 'max_iter': 862, 'solver': 'lbfgs'}. Best is trial 12 with value: 0.3754488553421642.\n",
      "[I 2023-11-21 18:45:22,786] Trial 71 finished with value: 0.37544833343612954 and parameters: {'C': 0.009971030333013626, 'max_iter': 601, 'solver': 'lbfgs'}. Best is trial 12 with value: 0.3754488553421642.\n",
      "[I 2023-11-21 18:45:23,317] Trial 72 finished with value: 0.3748251228754933 and parameters: {'C': 0.009793257182804271, 'max_iter': 448, 'solver': 'lbfgs'}. Best is trial 12 with value: 0.3754488553421642.\n",
      "[I 2023-11-21 18:45:23,849] Trial 73 finished with value: 0.37544833343612954 and parameters: {'C': 0.009980169054072957, 'max_iter': 661, 'solver': 'lbfgs'}. Best is trial 12 with value: 0.3754488553421642.\n",
      "[I 2023-11-21 18:45:24,437] Trial 74 finished with value: 0.37430896479742864 and parameters: {'C': 0.00940762104861353, 'max_iter': 576, 'solver': 'lbfgs'}. Best is trial 12 with value: 0.3754488553421642.\n",
      "[I 2023-11-21 18:45:24,970] Trial 75 finished with value: 0.3748251228754933 and parameters: {'C': 0.009739354408915423, 'max_iter': 703, 'solver': 'lbfgs'}. Best is trial 12 with value: 0.3754488553421642.\n",
      "[I 2023-11-21 18:45:25,517] Trial 76 finished with value: 0.3747192070218001 and parameters: {'C': 0.00949868169004305, 'max_iter': 603, 'solver': 'lbfgs'}. Best is trial 12 with value: 0.3754488553421642.\n",
      "[I 2023-11-21 18:45:28,003] Trial 77 finished with value: 0.37441181838068743 and parameters: {'C': 0.0087348141777553, 'max_iter': 551, 'solver': 'saga'}. Best is trial 12 with value: 0.3754488553421642.\n",
      "[I 2023-11-21 18:45:28,625] Trial 78 finished with value: 0.37447027342274625 and parameters: {'C': 0.009099949504944414, 'max_iter': 963, 'solver': 'lbfgs'}. Best is trial 12 with value: 0.3754488553421642.\n",
      "[I 2023-11-21 18:45:29,474] Trial 79 finished with value: 0.3748251228754933 and parameters: {'C': 0.009774099491248633, 'max_iter': 766, 'solver': 'lbfgs'}. Best is trial 12 with value: 0.3754488553421642.\n",
      "[I 2023-11-21 18:45:31,541] Trial 80 finished with value: 0.3736130220918661 and parameters: {'C': 0.008333183902726839, 'max_iter': 510, 'solver': 'sag'}. Best is trial 12 with value: 0.3754488553421642.\n",
      "[I 2023-11-21 18:45:32,074] Trial 81 finished with value: 0.3748251228754933 and parameters: {'C': 0.009825208025827549, 'max_iter': 573, 'solver': 'lbfgs'}. Best is trial 12 with value: 0.3754488553421642.\n",
      "[I 2023-11-21 18:45:32,605] Trial 82 finished with value: 0.37544833343612954 and parameters: {'C': 0.00997963667914485, 'max_iter': 648, 'solver': 'lbfgs'}. Best is trial 12 with value: 0.3754488553421642.\n",
      "[I 2023-11-21 18:45:33,139] Trial 83 finished with value: 0.3746638163066332 and parameters: {'C': 0.009547118986057283, 'max_iter': 681, 'solver': 'lbfgs'}. Best is trial 12 with value: 0.3754488553421642.\n",
      "[I 2023-11-21 18:45:33,745] Trial 84 finished with value: 0.3740065023937939 and parameters: {'C': 0.00929170451264848, 'max_iter': 532, 'solver': 'lbfgs'}. Best is trial 12 with value: 0.3754488553421642.\n",
      "[I 2023-11-21 18:45:34,275] Trial 85 finished with value: 0.374666774095665 and parameters: {'C': 0.009637613044831577, 'max_iter': 624, 'solver': 'lbfgs'}. Best is trial 12 with value: 0.3754488553421642.\n",
      "[I 2023-11-21 18:45:34,809] Trial 86 finished with value: 0.37544833343612954 and parameters: {'C': 0.009987454014982267, 'max_iter': 584, 'solver': 'lbfgs'}. Best is trial 12 with value: 0.3754488553421642.\n",
      "[I 2023-11-21 18:45:36,248] Trial 87 finished with value: 0.37420193766196874 and parameters: {'C': 0.008921206339075843, 'max_iter': 460, 'solver': 'newton-cg'}. Best is trial 12 with value: 0.3754488553421642.\n",
      "[I 2023-11-21 18:45:36,840] Trial 88 finished with value: 0.37430896479742864 and parameters: {'C': 0.00941992209181912, 'max_iter': 609, 'solver': 'lbfgs'}. Best is trial 12 with value: 0.3754488553421642.\n",
      "[I 2023-11-21 18:45:37,367] Trial 89 finished with value: 0.37464064527373186 and parameters: {'C': 0.009722000396841972, 'max_iter': 211, 'solver': 'lbfgs'}. Best is trial 12 with value: 0.3754488553421642.\n",
      "[I 2023-11-21 18:45:37,958] Trial 90 finished with value: 0.3742860487216946 and parameters: {'C': 0.009138137706038552, 'max_iter': 569, 'solver': 'lbfgs'}. Best is trial 12 with value: 0.3754488553421642.\n",
      "[I 2023-11-21 18:45:38,495] Trial 91 finished with value: 0.37544833343612954 and parameters: {'C': 0.009946733470595366, 'max_iter': 593, 'solver': 'lbfgs'}. Best is trial 12 with value: 0.3754488553421642.\n",
      "[I 2023-11-21 18:45:39,137] Trial 92 finished with value: 0.37544833343612954 and parameters: {'C': 0.009994387233388746, 'max_iter': 708, 'solver': 'lbfgs'}. Best is trial 12 with value: 0.3754488553421642.\n",
      "[I 2023-11-21 18:45:39,686] Trial 93 finished with value: 0.3746638163066332 and parameters: {'C': 0.009570973013403698, 'max_iter': 535, 'solver': 'lbfgs'}. Best is trial 12 with value: 0.3754488553421642.\n",
      "[I 2023-11-21 18:45:40,290] Trial 94 finished with value: 0.37414885765329603 and parameters: {'C': 0.009318499903663065, 'max_iter': 635, 'solver': 'lbfgs'}. Best is trial 12 with value: 0.3754488553421642.\n",
      "[I 2023-11-21 18:45:40,823] Trial 95 finished with value: 0.3748251228754933 and parameters: {'C': 0.009760648180316708, 'max_iter': 605, 'solver': 'lbfgs'}. Best is trial 12 with value: 0.3754488553421642.\n",
      "[I 2023-11-21 18:45:41,355] Trial 96 finished with value: 0.37383028411581815 and parameters: {'C': 0.008545026346800186, 'max_iter': 683, 'solver': 'lbfgs'}. Best is trial 12 with value: 0.3754488553421642.\n",
      "[I 2023-11-21 18:45:43,811] Trial 97 finished with value: 0.3754469064783526 and parameters: {'C': 0.009995065532684528, 'max_iter': 498, 'solver': 'saga'}. Best is trial 12 with value: 0.3754488553421642.\n",
      "[I 2023-11-21 18:45:44,353] Trial 98 finished with value: 0.3746638163066332 and parameters: {'C': 0.009604304921574039, 'max_iter': 668, 'solver': 'lbfgs'}. Best is trial 12 with value: 0.3754488553421642.\n",
      "[I 2023-11-21 18:45:46,430] Trial 99 finished with value: 0.37424460864136694 and parameters: {'C': 0.00912843808174057, 'max_iter': 560, 'solver': 'sag'}. Best is trial 12 with value: 0.3754488553421642.\n"
     ]
    },
    {
     "name": "stdout",
     "output_type": "stream",
     "text": [
      "Best Hyperparameters: {'C': 0.009871591583847256, 'max_iter': 838, 'solver': 'lbfgs'}\n",
      "Accuracy: 38.04\n",
      "F1-score: 37.54\n",
      "Precision: 38.04\n",
      "Recall: 38.04\n"
     ]
    }
   ],
   "source": [
    "import optuna\n",
    "import pandas as pd\n",
    "from gensim.models import Doc2Vec\n",
    "from gensim.models.doc2vec import TaggedDocument\n",
    "from sklearn.linear_model import LogisticRegression\n",
    "from sklearn.metrics import accuracy_score, f1_score, precision_score, recall_score\n",
    "from sklearn.preprocessing import LabelEncoder\n",
    "from sklearn.model_selection import train_test_split\n",
    "from sklearn.model_selection import KFold\n",
    "\n",
    "file_path = \"/kaggle/working/data.csv\"\n",
    "valid_path = \"/kaggle/working/valid.csv\"\n",
    "\n",
    "# Read the CSV files\n",
    "data = pd.read_csv(file_path)\n",
    "valid = pd.read_csv(valid_path)\n",
    "\n",
    "label_encoder = LabelEncoder()\n",
    "data['Sentiment'] = label_encoder.fit_transform(data['Sentiment'])\n",
    "valid['Sentiment'] = label_encoder.transform(valid['Sentiment'])\n",
    "\n",
    "documents_data = [TaggedDocument(words=doc.split(), tags=[str(i)]) for i, doc in enumerate(data['Text'])]\n",
    "documents_valid = [TaggedDocument(words=doc.split(), tags=[str(i)]) for i, doc in enumerate(valid['Text'])]\n",
    "\n",
    "model = Doc2Vec(vector_size=100, window=5, min_count=1, workers=4, epochs=20)\n",
    "model.build_vocab(documents_valid)\n",
    "model.train(documents_valid, total_examples=model.corpus_count, epochs=model.epochs)\n",
    "\n",
    "def get_vector(text):\n",
    "    return model.infer_vector(text.split())\n",
    "valid['Doc2Vec'] = valid['Text'].apply(get_vector)\n",
    "data['Doc2Vec'] = data['Text'].apply(get_vector)\n",
    "\n",
    "X_train, X_test = list(data['Doc2Vec']), list(valid['Doc2Vec'])\n",
    "Y_train, Y_test = data['Sentiment'], valid['Sentiment']\n",
    "\n",
    "# Define the objective function for Optuna\n",
    "def objective(trial):\n",
    "    C = trial.suggest_float('C', 0.001, 0.01)\n",
    "    max_iter = trial.suggest_int('max_iter', 100, 1000)\n",
    "    solver = trial.suggest_categorical('solver', ['lbfgs', 'newton-cg', 'sag', 'saga'])\n",
    "\n",
    "    classifier = LogisticRegression(C=C, max_iter=max_iter, solver=solver, random_state=42)\n",
    "    classifier.fit(X_train, Y_train)\n",
    "    pred_valid = classifier.predict(X_test)\n",
    "\n",
    "    f1_macro = f1_score(Y_test, pred_valid, average='macro')\n",
    "    return f1_macro\n",
    "\n",
    "# Create a study object and optimize\n",
    "study = optuna.create_study(direction='maximize')\n",
    "study.optimize(objective, n_trials=100)\n",
    "\n",
    "# Get the best parameters\n",
    "best_params = study.best_params\n",
    "\n",
    "# Use the best parameters to create the final model\n",
    "final_classifier = LogisticRegression(C=best_params['C'], max_iter=best_params['max_iter'], solver=best_params['solver'], random_state=42)\n",
    "final_classifier.fit(X_train, Y_train)\n",
    "pred_valid = final_classifier.predict(X_test)\n",
    "\n",
    "# Evaluate and print the results\n",
    "accuracy = accuracy_score(Y_test, pred_valid) * 100\n",
    "f1 = f1_score(Y_test, pred_valid, average='macro') * 100\n",
    "precision = precision_score(Y_test, pred_valid, average='macro') * 100\n",
    "recall = recall_score(Y_test, pred_valid, average='macro') * 100\n",
    "\n",
    "print(\"Best Hyperparameters:\", best_params)\n",
    "print(\"Accuracy: {:.2f}\".format(accuracy))\n",
    "print(\"F1-score: {:.2f}\".format(f1))\n",
    "print(\"Precision: {:.2f}\".format(precision))\n",
    "print(\"Recall: {:.2f}\".format(recall))\n"
   ]
  },
  {
   "cell_type": "markdown",
   "id": "18bd7635",
   "metadata": {
    "papermill": {
     "duration": 0.042843,
     "end_time": "2023-11-21T18:45:47.097321",
     "exception": false,
     "start_time": "2023-11-21T18:45:47.054478",
     "status": "completed"
    },
    "tags": []
   },
   "source": [
    "count_vectorizer and optuna"
   ]
  },
  {
   "cell_type": "code",
   "execution_count": 17,
   "id": "12bca476",
   "metadata": {
    "execution": {
     "iopub.execute_input": "2023-11-21T18:45:47.181670Z",
     "iopub.status.busy": "2023-11-21T18:45:47.181099Z",
     "iopub.status.idle": "2023-11-21T18:55:28.294032Z",
     "shell.execute_reply": "2023-11-21T18:55:28.292390Z"
    },
    "papermill": {
     "duration": 581.161163,
     "end_time": "2023-11-21T18:55:28.299360",
     "exception": false,
     "start_time": "2023-11-21T18:45:47.138197",
     "status": "completed"
    },
    "tags": []
   },
   "outputs": [
    {
     "name": "stderr",
     "output_type": "stream",
     "text": [
      "[I 2023-11-21 18:45:50,740] A new study created in memory with name: no-name-3df923ff-e1f9-4f8c-b20e-2cd40ba9572a\n",
      "[I 2023-11-21 18:46:00,970] Trial 0 finished with value: 0.37766094308307135 and parameters: {'C': 0.5853006359002944, 'max_iter': 768, 'solver': 'newton-cg'}. Best is trial 0 with value: 0.37766094308307135.\n",
      "[I 2023-11-21 18:46:07,704] Trial 1 finished with value: 0.3862386390638348 and parameters: {'C': 0.18014386154531456, 'max_iter': 624, 'solver': 'newton-cg'}. Best is trial 1 with value: 0.3862386390638348.\n",
      "/opt/conda/lib/python3.10/site-packages/sklearn/linear_model/_sag.py:350: ConvergenceWarning: The max_iter was reached which means the coef_ did not converge\n",
      "  warnings.warn(\n",
      "[I 2023-11-21 18:46:10,877] Trial 2 finished with value: 0.37748461845075054 and parameters: {'C': 0.6094661724396899, 'max_iter': 102, 'solver': 'saga'}. Best is trial 1 with value: 0.3862386390638348.\n",
      "[I 2023-11-21 18:46:22,256] Trial 3 finished with value: 0.37617059809231485 and parameters: {'C': 0.9326946029905265, 'max_iter': 712, 'solver': 'newton-cg'}. Best is trial 1 with value: 0.3862386390638348.\n",
      "/opt/conda/lib/python3.10/site-packages/sklearn/linear_model/_sag.py:350: ConvergenceWarning: The max_iter was reached which means the coef_ did not converge\n",
      "  warnings.warn(\n",
      "[I 2023-11-21 18:46:32,561] Trial 4 finished with value: 0.37597459794855276 and parameters: {'C': 0.9732009774611169, 'max_iter': 334, 'solver': 'saga'}. Best is trial 1 with value: 0.3862386390638348.\n",
      "[I 2023-11-21 18:46:36,189] Trial 5 finished with value: 0.3839676223663266 and parameters: {'C': 0.23928710437171663, 'max_iter': 510, 'solver': 'sag'}. Best is trial 1 with value: 0.3862386390638348.\n",
      "[I 2023-11-21 18:47:04,717] Trial 6 finished with value: 0.38070979009746186 and parameters: {'C': 0.900580780885324, 'max_iter': 898, 'solver': 'newton-cholesky'}. Best is trial 1 with value: 0.3862386390638348.\n",
      "[I 2023-11-21 18:47:12,602] Trial 7 finished with value: 0.3837818889421716 and parameters: {'C': 0.2546194737131428, 'max_iter': 609, 'solver': 'newton-cg'}. Best is trial 1 with value: 0.3862386390638348.\n",
      "[I 2023-11-21 18:47:42,269] Trial 8 finished with value: 0.3840260015037094 and parameters: {'C': 0.6424833066856658, 'max_iter': 357, 'solver': 'newton-cholesky'}. Best is trial 1 with value: 0.3862386390638348.\n",
      "[I 2023-11-21 18:47:54,504] Trial 9 finished with value: 0.3790112394781768 and parameters: {'C': 0.7037832072877569, 'max_iter': 783, 'solver': 'lbfgs'}. Best is trial 1 with value: 0.3862386390638348.\n",
      "[I 2023-11-21 18:47:58,583] Trial 10 finished with value: 0.39612303352132616 and parameters: {'C': 0.035217329560754435, 'max_iter': 462, 'solver': 'lbfgs'}. Best is trial 10 with value: 0.39612303352132616.\n",
      "[I 2023-11-21 18:48:01,794] Trial 11 finished with value: 0.4031189745450363 and parameters: {'C': 0.022188906574476856, 'max_iter': 450, 'solver': 'lbfgs'}. Best is trial 11 with value: 0.4031189745450363.\n",
      "[I 2023-11-21 18:48:06,407] Trial 12 finished with value: 0.3931284753877609 and parameters: {'C': 0.061342852120717994, 'max_iter': 416, 'solver': 'lbfgs'}. Best is trial 11 with value: 0.4031189745450363.\n",
      "[I 2023-11-21 18:48:10,927] Trial 13 finished with value: 0.3947727600168182 and parameters: {'C': 0.0409218992200175, 'max_iter': 222, 'solver': 'lbfgs'}. Best is trial 11 with value: 0.4031189745450363.\n",
      "[I 2023-11-21 18:48:23,390] Trial 14 finished with value: 0.3778710193976684 and parameters: {'C': 0.41002152512530765, 'max_iter': 453, 'solver': 'lbfgs'}. Best is trial 11 with value: 0.4031189745450363.\n",
      "[I 2023-11-21 18:48:24,696] Trial 15 finished with value: 0.40456755521598375 and parameters: {'C': 0.0022030710804066787, 'max_iter': 282, 'solver': 'lbfgs'}. Best is trial 15 with value: 0.40456755521598375.\n",
      "[I 2023-11-21 18:48:29,743] Trial 16 finished with value: 0.3795845053200797 and parameters: {'C': 0.37924565909180347, 'max_iter': 229, 'solver': 'sag'}. Best is trial 15 with value: 0.40456755521598375.\n",
      "[I 2023-11-21 18:48:31,021] Trial 17 finished with value: 0.40386596995014473 and parameters: {'C': 0.0028656178661072727, 'max_iter': 261, 'solver': 'lbfgs'}. Best is trial 15 with value: 0.40456755521598375.\n",
      "/opt/conda/lib/python3.10/site-packages/sklearn/linear_model/_logistic.py:458: ConvergenceWarning: lbfgs failed to converge (status=1):\n",
      "STOP: TOTAL NO. of ITERATIONS REACHED LIMIT.\n",
      "\n",
      "Increase the number of iterations (max_iter) or scale the data as shown in:\n",
      "    https://scikit-learn.org/stable/modules/preprocessing.html\n",
      "Please also refer to the documentation for alternative solver options:\n",
      "    https://scikit-learn.org/stable/modules/linear_model.html#logistic-regression\n",
      "  n_iter_i = _check_optimize_result(\n",
      "[I 2023-11-21 18:48:35,869] Trial 18 finished with value: 0.38764413641441897 and parameters: {'C': 0.14016504439804642, 'max_iter': 110, 'solver': 'lbfgs'}. Best is trial 15 with value: 0.40456755521598375.\n",
      "[I 2023-11-21 18:48:45,233] Trial 19 finished with value: 0.3882437768562455 and parameters: {'C': 0.1462780497114421, 'max_iter': 264, 'solver': 'lbfgs'}. Best is trial 15 with value: 0.40456755521598375.\n",
      "[I 2023-11-21 18:48:49,928] Trial 20 finished with value: 0.3805762685625032 and parameters: {'C': 0.32239660780025164, 'max_iter': 336, 'solver': 'sag'}. Best is trial 15 with value: 0.40456755521598375.\n",
      "[I 2023-11-21 18:48:53,073] Trial 21 finished with value: 0.40458500106164763 and parameters: {'C': 0.018839495992398092, 'max_iter': 181, 'solver': 'lbfgs'}. Best is trial 21 with value: 0.40458500106164763.\n",
      "[I 2023-11-21 18:48:56,040] Trial 22 finished with value: 0.3979451592709629 and parameters: {'C': 0.013372443240876733, 'max_iter': 180, 'solver': 'lbfgs'}. Best is trial 21 with value: 0.40458500106164763.\n",
      "[I 2023-11-21 18:49:03,145] Trial 23 finished with value: 0.3899899742244925 and parameters: {'C': 0.12218074427566086, 'max_iter': 273, 'solver': 'lbfgs'}. Best is trial 21 with value: 0.40458500106164763.\n",
      "[I 2023-11-21 18:49:29,863] Trial 24 finished with value: 0.39180002946184844 and parameters: {'C': 0.10355436395476235, 'max_iter': 163, 'solver': 'newton-cholesky'}. Best is trial 21 with value: 0.40458500106164763.\n",
      "[I 2023-11-21 18:49:35,625] Trial 25 finished with value: 0.3843407787515807 and parameters: {'C': 0.20348336985474733, 'max_iter': 323, 'solver': 'saga'}. Best is trial 21 with value: 0.40458500106164763.\n",
      "[I 2023-11-21 18:49:37,529] Trial 26 finished with value: 0.3984600946921528 and parameters: {'C': 0.008554850577285725, 'max_iter': 165, 'solver': 'lbfgs'}. Best is trial 21 with value: 0.40458500106164763.\n",
      "[I 2023-11-21 18:49:43,083] Trial 27 finished with value: 0.39109559133309757 and parameters: {'C': 0.10571029571348392, 'max_iter': 370, 'solver': 'lbfgs'}. Best is trial 21 with value: 0.40458500106164763.\n",
      "[I 2023-11-21 18:49:52,771] Trial 28 finished with value: 0.3837884595505649 and parameters: {'C': 0.24153724823126152, 'max_iter': 999, 'solver': 'lbfgs'}. Best is trial 21 with value: 0.40458500106164763.\n",
      "[I 2023-11-21 18:49:57,779] Trial 29 finished with value: 0.3923546094590957 and parameters: {'C': 0.08862541313252965, 'max_iter': 264, 'solver': 'lbfgs'}. Best is trial 21 with value: 0.40458500106164763.\n",
      "[I 2023-11-21 18:50:03,162] Trial 30 finished with value: 0.386801743492275 and parameters: {'C': 0.17672345306788725, 'max_iter': 559, 'solver': 'saga'}. Best is trial 21 with value: 0.40458500106164763.\n",
      "[I 2023-11-21 18:50:05,103] Trial 31 finished with value: 0.4008039426587215 and parameters: {'C': 0.006326823280786207, 'max_iter': 423, 'solver': 'lbfgs'}. Best is trial 21 with value: 0.40458500106164763.\n",
      "[I 2023-11-21 18:50:10,977] Trial 32 finished with value: 0.39371062418657315 and parameters: {'C': 0.0796280158910887, 'max_iter': 292, 'solver': 'lbfgs'}. Best is trial 21 with value: 0.40458500106164763.\n",
      "[I 2023-11-21 18:50:17,640] Trial 33 finished with value: 0.3867878588724715 and parameters: {'C': 0.16989674443701583, 'max_iter': 509, 'solver': 'newton-cg'}. Best is trial 21 with value: 0.40458500106164763.\n",
      "[I 2023-11-21 18:50:23,040] Trial 34 finished with value: 0.3939117134257006 and parameters: {'C': 0.06250582552543234, 'max_iter': 200, 'solver': 'lbfgs'}. Best is trial 21 with value: 0.40458500106164763.\n",
      "[I 2023-11-21 18:50:25,661] Trial 35 finished with value: 0.3988840884674867 and parameters: {'C': 0.010276121721454104, 'max_iter': 117, 'solver': 'lbfgs'}. Best is trial 21 with value: 0.40458500106164763.\n",
      "[I 2023-11-21 18:50:31,938] Trial 36 finished with value: 0.39036594983943956 and parameters: {'C': 0.11688885816674814, 'max_iter': 406, 'solver': 'newton-cg'}. Best is trial 21 with value: 0.40458500106164763.\n",
      "[I 2023-11-21 18:50:34,909] Trial 37 finished with value: 0.3852841046244544 and parameters: {'C': 0.1932968508081667, 'max_iter': 690, 'solver': 'sag'}. Best is trial 21 with value: 0.40458500106164763.\n",
      "[I 2023-11-21 18:51:01,373] Trial 38 finished with value: 0.39543597662858776 and parameters: {'C': 0.06786367323812126, 'max_iter': 532, 'solver': 'newton-cholesky'}. Best is trial 21 with value: 0.40458500106164763.\n",
      "[I 2023-11-21 18:51:09,035] Trial 39 finished with value: 0.38190127599780527 and parameters: {'C': 0.2830670161509043, 'max_iter': 375, 'solver': 'saga'}. Best is trial 21 with value: 0.40458500106164763.\n",
      "[I 2023-11-21 18:51:10,129] Trial 40 finished with value: 0.40419310655681867 and parameters: {'C': 0.0022363734946782956, 'max_iter': 312, 'solver': 'lbfgs'}. Best is trial 21 with value: 0.40458500106164763.\n",
      "[I 2023-11-21 18:51:15,414] Trial 41 finished with value: 0.39420780364854263 and parameters: {'C': 0.05032123158836004, 'max_iter': 320, 'solver': 'lbfgs'}. Best is trial 21 with value: 0.40458500106164763.\n",
      "[I 2023-11-21 18:51:22,689] Trial 42 finished with value: 0.3894121491840105 and parameters: {'C': 0.1272889633686472, 'max_iter': 296, 'solver': 'lbfgs'}. Best is trial 21 with value: 0.40458500106164763.\n",
      "[I 2023-11-21 18:51:24,396] Trial 43 finished with value: 0.4017725855910775 and parameters: {'C': 0.0065279680007039285, 'max_iter': 243, 'solver': 'lbfgs'}. Best is trial 21 with value: 0.40458500106164763.\n",
      "[I 2023-11-21 18:51:29,930] Trial 44 finished with value: 0.39392583041280216 and parameters: {'C': 0.06007986103655227, 'max_iter': 152, 'solver': 'lbfgs'}. Best is trial 21 with value: 0.40458500106164763.\n",
      "[I 2023-11-21 18:51:36,054] Trial 45 finished with value: 0.3867791893598693 and parameters: {'C': 0.16099914622804926, 'max_iter': 480, 'solver': 'newton-cg'}. Best is trial 21 with value: 0.40458500106164763.\n",
      "[I 2023-11-21 18:52:01,792] Trial 46 finished with value: 0.3944950834093515 and parameters: {'C': 0.08293268843711118, 'max_iter': 216, 'solver': 'newton-cholesky'}. Best is trial 21 with value: 0.40458500106164763.\n",
      "[I 2023-11-21 18:52:09,678] Trial 47 finished with value: 0.38433264791828065 and parameters: {'C': 0.21750280427378374, 'max_iter': 385, 'solver': 'lbfgs'}. Best is trial 21 with value: 0.40458500106164763.\n",
      "[I 2023-11-21 18:52:14,788] Trial 48 finished with value: 0.39343776207031994 and parameters: {'C': 0.04543036141160904, 'max_iter': 590, 'solver': 'lbfgs'}. Best is trial 21 with value: 0.40458500106164763.\n",
      "[I 2023-11-21 18:52:15,472] Trial 49 finished with value: 0.4060537858289925 and parameters: {'C': 0.0016061894695130442, 'max_iter': 339, 'solver': 'sag'}. Best is trial 49 with value: 0.4060537858289925.\n",
      "[I 2023-11-21 18:52:17,845] Trial 50 finished with value: 0.38825211700849405 and parameters: {'C': 0.14981234981940383, 'max_iter': 129, 'solver': 'sag'}. Best is trial 49 with value: 0.4060537858289925.\n",
      "[I 2023-11-21 18:52:18,551] Trial 51 finished with value: 0.4038194265977548 and parameters: {'C': 0.0030342768866517336, 'max_iter': 437, 'solver': 'sag'}. Best is trial 49 with value: 0.4060537858289925.\n",
      "[I 2023-11-21 18:52:19,704] Trial 52 finished with value: 0.39344023114270016 and parameters: {'C': 0.04794602031316855, 'max_iter': 336, 'solver': 'sag'}. Best is trial 49 with value: 0.4060537858289925.\n",
      "[I 2023-11-21 18:52:20,609] Trial 53 finished with value: 0.3987144145280668 and parameters: {'C': 0.010540715451185186, 'max_iter': 245, 'solver': 'sag'}. Best is trial 49 with value: 0.4060537858289925.\n",
      "[I 2023-11-21 18:52:22,384] Trial 54 finished with value: 0.39182437438164297 and parameters: {'C': 0.1002611444021112, 'max_iter': 290, 'solver': 'sag'}. Best is trial 49 with value: 0.4060537858289925.\n",
      "[I 2023-11-21 18:52:23,508] Trial 55 finished with value: 0.3936377600479017 and parameters: {'C': 0.04299980319494604, 'max_iter': 426, 'solver': 'sag'}. Best is trial 49 with value: 0.4060537858289925.\n",
      "[I 2023-11-21 18:52:25,728] Trial 56 finished with value: 0.38921634504263897 and parameters: {'C': 0.12975088832195517, 'max_iter': 186, 'solver': 'sag'}. Best is trial 49 with value: 0.4060537858289925.\n",
      "[I 2023-11-21 18:52:26,432] Trial 57 finished with value: 0.40381896237557013 and parameters: {'C': 0.0030755365544527903, 'max_iter': 360, 'solver': 'sag'}. Best is trial 49 with value: 0.4060537858289925.\n",
      "[I 2023-11-21 18:52:27,729] Trial 58 finished with value: 0.3921727935716914 and parameters: {'C': 0.07183572474586077, 'max_iter': 309, 'solver': 'sag'}. Best is trial 49 with value: 0.4060537858289925.\n",
      "[I 2023-11-21 18:52:31,313] Trial 59 finished with value: 0.3903513157969903 and parameters: {'C': 0.10216857111963298, 'max_iter': 484, 'solver': 'saga'}. Best is trial 49 with value: 0.4060537858289925.\n",
      "[I 2023-11-21 18:52:57,043] Trial 60 finished with value: 0.4014774846440938 and parameters: {'C': 0.035669650605322775, 'max_iter': 210, 'solver': 'newton-cholesky'}. Best is trial 49 with value: 0.4060537858289925.\n",
      "[I 2023-11-21 18:52:58,145] Trial 61 finished with value: 0.399655478801356 and parameters: {'C': 0.02839381523148901, 'max_iter': 354, 'solver': 'sag'}. Best is trial 49 with value: 0.4060537858289925.\n",
      "[I 2023-11-21 18:52:58,985] Trial 62 finished with value: 0.3990648520677702 and parameters: {'C': 0.008655401259442096, 'max_iter': 264, 'solver': 'sag'}. Best is trial 49 with value: 0.4060537858289925.\n",
      "[I 2023-11-21 18:53:00,482] Trial 63 finished with value: 0.3935100340493851 and parameters: {'C': 0.08364575542233935, 'max_iter': 395, 'solver': 'sag'}. Best is trial 49 with value: 0.4060537858289925.\n",
      "[I 2023-11-21 18:53:01,189] Trial 64 finished with value: 0.403613592395002 and parameters: {'C': 0.0030280302478310627, 'max_iter': 340, 'solver': 'sag'}. Best is trial 49 with value: 0.4060537858289925.\n",
      "[I 2023-11-21 18:53:03,551] Trial 65 finished with value: 0.38899962469718935 and parameters: {'C': 0.1384527823591997, 'max_iter': 434, 'solver': 'sag'}. Best is trial 49 with value: 0.4060537858289925.\n",
      "[I 2023-11-21 18:53:07,923] Trial 66 finished with value: 0.3940348640402637 and parameters: {'C': 0.051865949321892243, 'max_iter': 362, 'solver': 'lbfgs'}. Best is trial 49 with value: 0.4060537858289925.\n",
      "[I 2023-11-21 18:53:13,439] Trial 67 finished with value: 0.39163904701197594 and parameters: {'C': 0.10040838892256222, 'max_iter': 238, 'solver': 'newton-cg'}. Best is trial 49 with value: 0.4060537858289925.\n",
      "[I 2023-11-21 18:53:16,917] Trial 68 finished with value: 0.39650262424782917 and parameters: {'C': 0.034314251068131005, 'max_iter': 809, 'solver': 'lbfgs'}. Best is trial 49 with value: 0.4060537858289925.\n",
      "[I 2023-11-21 18:53:18,303] Trial 69 finished with value: 0.39257343076886125 and parameters: {'C': 0.07065416772584206, 'max_iter': 146, 'solver': 'sag'}. Best is trial 49 with value: 0.4060537858289925.\n",
      "[I 2023-11-21 18:53:26,366] Trial 70 finished with value: 0.3873543029431044 and parameters: {'C': 0.17236765886933147, 'max_iter': 279, 'solver': 'lbfgs'}. Best is trial 49 with value: 0.4060537858289925.\n",
      "[I 2023-11-21 18:53:27,219] Trial 71 finished with value: 0.39753881777248196 and parameters: {'C': 0.00904485443554785, 'max_iter': 351, 'solver': 'sag'}. Best is trial 49 with value: 0.4060537858289925.\n",
      "[I 2023-11-21 18:53:27,952] Trial 72 finished with value: 0.40185623671016724 and parameters: {'C': 0.005454684581186805, 'max_iter': 329, 'solver': 'sag'}. Best is trial 49 with value: 0.4060537858289925.\n",
      "[I 2023-11-21 18:53:28,981] Trial 73 finished with value: 0.3970488092230655 and parameters: {'C': 0.033450006030481316, 'max_iter': 310, 'solver': 'sag'}. Best is trial 49 with value: 0.4060537858289925.\n",
      "[I 2023-11-21 18:53:29,662] Trial 74 finished with value: 0.4038355919574435 and parameters: {'C': 0.0028969784239738865, 'max_iter': 257, 'solver': 'sag'}. Best is trial 49 with value: 0.4060537858289925.\n",
      "[I 2023-11-21 18:53:32,501] Trial 75 finished with value: 0.3931645595614597 and parameters: {'C': 0.07921084018360301, 'max_iter': 245, 'solver': 'saga'}. Best is trial 49 with value: 0.4060537858289925.\n",
      "[I 2023-11-21 18:53:39,081] Trial 76 finished with value: 0.39145220660043245 and parameters: {'C': 0.10077487542831104, 'max_iter': 187, 'solver': 'lbfgs'}. Best is trial 49 with value: 0.4060537858289925.\n",
      "[I 2023-11-21 18:53:40,240] Trial 77 finished with value: 0.39613454594794834 and parameters: {'C': 0.037048814635751506, 'max_iter': 457, 'solver': 'sag'}. Best is trial 49 with value: 0.4060537858289925.\n",
      "[I 2023-11-21 18:53:45,155] Trial 78 finished with value: 0.3937303565243521 and parameters: {'C': 0.06347288424994355, 'max_iter': 266, 'solver': 'lbfgs'}. Best is trial 49 with value: 0.4060537858289925.\n",
      "[I 2023-11-21 18:54:11,927] Trial 79 finished with value: 0.39374926035002256 and parameters: {'C': 0.12172981275167542, 'max_iter': 406, 'solver': 'newton-cholesky'}. Best is trial 49 with value: 0.4060537858289925.\n",
      "[I 2023-11-21 18:54:13,172] Trial 80 finished with value: 0.40701176122224236 and parameters: {'C': 0.001147454770381137, 'max_iter': 223, 'solver': 'lbfgs'}. Best is trial 80 with value: 0.40701176122224236.\n",
      "[I 2023-11-21 18:54:17,210] Trial 81 finished with value: 0.3998614838473409 and parameters: {'C': 0.02945205741577512, 'max_iter': 209, 'solver': 'lbfgs'}. Best is trial 80 with value: 0.40701176122224236.\n",
      "[I 2023-11-21 18:54:22,227] Trial 82 finished with value: 0.39392200609689537 and parameters: {'C': 0.0597906736916913, 'max_iter': 305, 'solver': 'lbfgs'}. Best is trial 80 with value: 0.40701176122224236.\n",
      "[I 2023-11-21 18:54:25,674] Trial 83 finished with value: 0.40020248173438877 and parameters: {'C': 0.027698814939092233, 'max_iter': 274, 'solver': 'lbfgs'}. Best is trial 80 with value: 0.40701176122224236.\n",
      "[I 2023-11-21 18:54:27,207] Trial 84 finished with value: 0.40030487906350104 and parameters: {'C': 0.004043512805755276, 'max_iter': 381, 'solver': 'lbfgs'}. Best is trial 80 with value: 0.40701176122224236.\n",
      "[I 2023-11-21 18:54:32,950] Trial 85 finished with value: 0.39237011682273754 and parameters: {'C': 0.08702687050546196, 'max_iter': 224, 'solver': 'newton-cg'}. Best is trial 80 with value: 0.40701176122224236.\n",
      "[I 2023-11-21 18:54:37,874] Trial 86 finished with value: 0.39502490403551604 and parameters: {'C': 0.053872989498897635, 'max_iter': 181, 'solver': 'lbfgs'}. Best is trial 80 with value: 0.40701176122224236.\n",
      "[I 2023-11-21 18:54:40,005] Trial 87 finished with value: 0.3901784612875425 and parameters: {'C': 0.11750002140464653, 'max_iter': 134, 'solver': 'sag'}. Best is trial 80 with value: 0.40701176122224236.\n",
      "[I 2023-11-21 18:54:40,535] Trial 88 finished with value: 0.40548810121507745 and parameters: {'C': 0.0012886208811491483, 'max_iter': 660, 'solver': 'lbfgs'}. Best is trial 80 with value: 0.40701176122224236.\n",
      "[I 2023-11-21 18:54:48,785] Trial 89 finished with value: 0.3887922703156039 and parameters: {'C': 0.1436768001409605, 'max_iter': 654, 'solver': 'lbfgs'}. Best is trial 80 with value: 0.40701176122224236.\n",
      "[I 2023-11-21 18:54:52,662] Trial 90 finished with value: 0.39727680834811147 and parameters: {'C': 0.031898138642839816, 'max_iter': 753, 'solver': 'lbfgs'}. Best is trial 80 with value: 0.40701176122224236.\n",
      "[I 2023-11-21 18:54:55,712] Trial 91 finished with value: 0.40275206934398605 and parameters: {'C': 0.02244239443358377, 'max_iter': 837, 'solver': 'lbfgs'}. Best is trial 80 with value: 0.40701176122224236.\n",
      "[I 2023-11-21 18:54:57,078] Trial 92 finished with value: 0.40383390453870693 and parameters: {'C': 0.0024801802437035116, 'max_iter': 560, 'solver': 'lbfgs'}. Best is trial 80 with value: 0.40701176122224236.\n",
      "[I 2023-11-21 18:55:02,093] Trial 93 finished with value: 0.393911082699675 and parameters: {'C': 0.06217283625664106, 'max_iter': 621, 'solver': 'lbfgs'}. Best is trial 80 with value: 0.40701176122224236.\n",
      "[I 2023-11-21 18:55:07,112] Trial 94 finished with value: 0.39254277391482995 and parameters: {'C': 0.087814980082784, 'max_iter': 657, 'solver': 'lbfgs'}. Best is trial 80 with value: 0.40701176122224236.\n",
      "[I 2023-11-21 18:55:13,066] Trial 95 finished with value: 0.3936284160061379 and parameters: {'C': 0.048262200361189646, 'max_iter': 582, 'solver': 'lbfgs'}. Best is trial 80 with value: 0.40701176122224236.\n",
      "[I 2023-11-21 18:55:14,215] Trial 96 finished with value: 0.4057615284680806 and parameters: {'C': 0.0014355589860169135, 'max_iter': 528, 'solver': 'lbfgs'}. Best is trial 80 with value: 0.40701176122224236.\n",
      "[I 2023-11-21 18:55:17,545] Trial 97 finished with value: 0.39760762448417686 and parameters: {'C': 0.030779448851577223, 'max_iter': 540, 'solver': 'lbfgs'}. Best is trial 80 with value: 0.40701176122224236.\n",
      "[I 2023-11-21 18:55:23,365] Trial 98 finished with value: 0.39237097085195033 and parameters: {'C': 0.07152767681977505, 'max_iter': 685, 'solver': 'lbfgs'}. Best is trial 80 with value: 0.40701176122224236.\n",
      "[I 2023-11-21 18:55:27,351] Trial 99 finished with value: 0.40107046661254087 and parameters: {'C': 0.0239282997594499, 'max_iter': 512, 'solver': 'lbfgs'}. Best is trial 80 with value: 0.40701176122224236.\n"
     ]
    },
    {
     "name": "stdout",
     "output_type": "stream",
     "text": [
      "Best Hyperparameters: {'C': 0.001147454770381137, 'max_iter': 223, 'solver': 'lbfgs'}\n",
      "Accuracy: 40.84\n",
      "F1-score: 40.70\n",
      "Precision: 41.00\n",
      "Recall: 40.84\n"
     ]
    }
   ],
   "source": [
    "import optuna\n",
    "from sklearn.linear_model import LogisticRegression\n",
    "from sklearn.metrics import precision_score\n",
    "from sklearn.preprocessing import LabelEncoder\n",
    "from sklearn.model_selection import cross_val_score\n",
    "from nltk.tokenize import word_tokenize\n",
    "from sklearn.feature_extraction.text import CountVectorizer\n",
    "from sklearn.metrics import accuracy_score, f1_score, precision_score, recall_score\n",
    "\n",
    "file_path = \"/kaggle/working/data.csv\"\n",
    "valid_path = \"/kaggle/working/valid.csv\"\n",
    "\n",
    "# Read the CSV file\n",
    "data = pd.read_csv(file_path)\n",
    "valid = pd.read_csv(valid_path)\n",
    "label_encoder = LabelEncoder()\n",
    "data['Sentiment'] = label_encoder.fit_transform(data['Sentiment'])\n",
    "valid['Sentiment'] = label_encoder.transform(valid['Sentiment'])\n",
    "ngram_vectorizer = CountVectorizer(analyzer='word', ngram_range=(1, 2), max_features=5000)\n",
    "\n",
    "data_tfidf = ngram_vectorizer.fit_transform(data['Text'])\n",
    "valid_tfidf = ngram_vectorizer.transform(valid['Text'])  # Use transform for validation\n",
    "data_tfidf = csr_matrix(data_tfidf)\n",
    "valid_tfidf = csr_matrix(valid_tfidf)\n",
    "\n",
    "def objective(trial):\n",
    "    C = trial.suggest_float('C', 0.001,1)\n",
    "    max_iter = trial.suggest_int('max_iter', 100, 1000)\n",
    "    solver = trial.suggest_categorical('solver', ['lbfgs', 'newton-cg', 'newton-cholesky', 'sag', 'saga'])\n",
    "    classifier = LogisticRegression(C=C, max_iter=max_iter, random_state=42,solver = solver)\n",
    "    f1_macro = f1_score(valid['Sentiment'], classifier.fit(data_tfidf, data['Sentiment']).predict(valid_tfidf), average='macro')\n",
    "    return f1_macro\n",
    "\n",
    "study = optuna.create_study(direction='maximize')\n",
    "study.optimize(objective, n_trials=100)\n",
    "\n",
    "\n",
    "# Perform 5-fold cross-validation (you can adjust the number of folds)\n",
    "best_params = study.best_params\n",
    "best_classifier = LogisticRegression(C=best_params['C'], max_iter=best_params['max_iter'], random_state=42)\n",
    "best_classifier.fit(data_tfidf, data['Sentiment'])\n",
    "pred_valid = best_classifier.predict(valid_tfidf)\n",
    "\n",
    "accuracy = accuracy_score(valid['Sentiment'], pred_valid)\n",
    "f1 = f1_score(valid['Sentiment'], pred_valid, average='macro')\n",
    "precision = precision_score(valid['Sentiment'], pred_valid, average='macro')\n",
    "recall = recall_score(valid['Sentiment'], pred_valid, average='macro')\n",
    "\n",
    "print(\"Best Hyperparameters:\", best_params)\n",
    "print(\"Accuracy: {:.2f}\".format(accuracy * 100))\n",
    "print(\"F1-score: {:.2f}\".format(f1 * 100))\n",
    "print(\"Precision: {:.2f}\".format(precision * 100))\n",
    "print(\"Recall: {:.2f}\".format(recall * 100))"
   ]
  },
  {
   "cell_type": "markdown",
   "id": "24b1aca6",
   "metadata": {
    "papermill": {
     "duration": 0.050673,
     "end_time": "2023-11-21T18:55:28.456097",
     "exception": false,
     "start_time": "2023-11-21T18:55:28.405424",
     "status": "completed"
    },
    "tags": []
   },
   "source": [
    "hashing vectorizer and optuna"
   ]
  },
  {
   "cell_type": "code",
   "execution_count": 18,
   "id": "4e66faae",
   "metadata": {
    "execution": {
     "iopub.execute_input": "2023-11-21T18:55:28.562283Z",
     "iopub.status.busy": "2023-11-21T18:55:28.561813Z",
     "iopub.status.idle": "2023-11-21T18:56:20.253867Z",
     "shell.execute_reply": "2023-11-21T18:56:20.252629Z"
    },
    "papermill": {
     "duration": 51.749245,
     "end_time": "2023-11-21T18:56:20.256753",
     "exception": false,
     "start_time": "2023-11-21T18:55:28.507508",
     "status": "completed"
    },
    "tags": []
   },
   "outputs": [
    {
     "name": "stderr",
     "output_type": "stream",
     "text": [
      "[I 2023-11-21 18:55:29,729] A new study created in memory with name: no-name-04837586-53df-4348-8a80-5bc538e6604b\n",
      "[I 2023-11-21 18:55:29,891] Trial 0 finished with value: 0.37933266150285777 and parameters: {'C': 0.005142643324013423, 'max_iter': 324, 'solver': 'lbfgs'}. Best is trial 0 with value: 0.37933266150285777.\n",
      "[I 2023-11-21 18:55:30,579] Trial 1 finished with value: 0.3793154257091033 and parameters: {'C': 0.002659930005419911, 'max_iter': 506, 'solver': 'saga'}. Best is trial 0 with value: 0.37933266150285777.\n",
      "[I 2023-11-21 18:55:31,284] Trial 2 finished with value: 0.3792235732508307 and parameters: {'C': 0.007204384658214678, 'max_iter': 662, 'solver': 'saga'}. Best is trial 0 with value: 0.37933266150285777.\n",
      "[I 2023-11-21 18:55:32,025] Trial 3 finished with value: 0.37801099349774114 and parameters: {'C': 0.008309134710414327, 'max_iter': 463, 'solver': 'saga'}. Best is trial 0 with value: 0.37933266150285777.\n",
      "[I 2023-11-21 18:55:32,177] Trial 4 finished with value: 0.37746396694584133 and parameters: {'C': 0.0016993816806429233, 'max_iter': 650, 'solver': 'lbfgs'}. Best is trial 0 with value: 0.37933266150285777.\n",
      "[I 2023-11-21 18:55:32,581] Trial 5 finished with value: 0.3782175505533967 and parameters: {'C': 0.007968461760465416, 'max_iter': 114, 'solver': 'sag'}. Best is trial 0 with value: 0.37933266150285777.\n",
      "[I 2023-11-21 18:55:33,244] Trial 6 finished with value: 0.37838913112436084 and parameters: {'C': 0.008511144129555382, 'max_iter': 450, 'solver': 'newton-cg'}. Best is trial 0 with value: 0.37933266150285777.\n",
      "[I 2023-11-21 18:55:33,661] Trial 7 finished with value: 0.3799722499070639 and parameters: {'C': 0.0029299435959691256, 'max_iter': 374, 'solver': 'newton-cg'}. Best is trial 7 with value: 0.3799722499070639.\n",
      "[I 2023-11-21 18:55:34,374] Trial 8 finished with value: 0.37877556834235193 and parameters: {'C': 0.005220937814800707, 'max_iter': 858, 'solver': 'saga'}. Best is trial 7 with value: 0.3799722499070639.\n",
      "[I 2023-11-21 18:55:34,546] Trial 9 finished with value: 0.3783697554049971 and parameters: {'C': 0.008382481672862555, 'max_iter': 939, 'solver': 'lbfgs'}. Best is trial 7 with value: 0.3799722499070639.\n",
      "[I 2023-11-21 18:55:35,006] Trial 10 finished with value: 0.38098777572163667 and parameters: {'C': 0.003382908939834453, 'max_iter': 160, 'solver': 'newton-cg'}. Best is trial 10 with value: 0.38098777572163667.\n",
      "[I 2023-11-21 18:55:35,469] Trial 11 finished with value: 0.38098777572163667 and parameters: {'C': 0.003377983620423863, 'max_iter': 133, 'solver': 'newton-cg'}. Best is trial 10 with value: 0.38098777572163667.\n",
      "[I 2023-11-21 18:55:35,967] Trial 12 finished with value: 0.38125371425153526 and parameters: {'C': 0.0038485970045096605, 'max_iter': 100, 'solver': 'newton-cg'}. Best is trial 12 with value: 0.38125371425153526.\n",
      "[I 2023-11-21 18:55:36,467] Trial 13 finished with value: 0.3802879355242304 and parameters: {'C': 0.004046992560430559, 'max_iter': 227, 'solver': 'newton-cg'}. Best is trial 12 with value: 0.38125371425153526.\n",
      "[I 2023-11-21 18:55:36,788] Trial 14 finished with value: 0.3766910507643906 and parameters: {'C': 0.001074551909167654, 'max_iter': 211, 'solver': 'newton-cg'}. Best is trial 12 with value: 0.38125371425153526.\n",
      "[I 2023-11-21 18:55:37,211] Trial 15 finished with value: 0.3799350971757278 and parameters: {'C': 0.004254715079171889, 'max_iter': 276, 'solver': 'sag'}. Best is trial 12 with value: 0.38125371425153526.\n",
      "[I 2023-11-21 18:55:37,647] Trial 16 finished with value: 0.3777263524173409 and parameters: {'C': 0.0021964705554039206, 'max_iter': 133, 'solver': 'newton-cg'}. Best is trial 12 with value: 0.38125371425153526.\n",
      "[I 2023-11-21 18:55:38,211] Trial 17 finished with value: 0.37976653241487385 and parameters: {'C': 0.005918609801517826, 'max_iter': 616, 'solver': 'newton-cg'}. Best is trial 12 with value: 0.38125371425153526.\n",
      "[I 2023-11-21 18:55:38,800] Trial 18 finished with value: 0.3788085192397481 and parameters: {'C': 0.009784589792567727, 'max_iter': 214, 'solver': 'newton-cg'}. Best is trial 12 with value: 0.38125371425153526.\n",
      "[I 2023-11-21 18:55:39,229] Trial 19 finished with value: 0.3814420940493419 and parameters: {'C': 0.00374492117566073, 'max_iter': 373, 'solver': 'sag'}. Best is trial 19 with value: 0.3814420940493419.\n",
      "[I 2023-11-21 18:55:39,633] Trial 20 finished with value: 0.3799350971757278 and parameters: {'C': 0.004219336610104209, 'max_iter': 760, 'solver': 'sag'}. Best is trial 19 with value: 0.3814420940493419.\n",
      "[I 2023-11-21 18:55:40,032] Trial 21 finished with value: 0.3809889563710771 and parameters: {'C': 0.003228074330920488, 'max_iter': 381, 'solver': 'sag'}. Best is trial 19 with value: 0.3814420940493419.\n",
      "[I 2023-11-21 18:55:40,448] Trial 22 finished with value: 0.3769865506442096 and parameters: {'C': 0.0020846556773857286, 'max_iter': 396, 'solver': 'sag'}. Best is trial 19 with value: 0.3814420940493419.\n",
      "[I 2023-11-21 18:55:40,861] Trial 23 finished with value: 0.3808217638078659 and parameters: {'C': 0.0035129235621180763, 'max_iter': 315, 'solver': 'sag'}. Best is trial 19 with value: 0.3814420940493419.\n",
      "[I 2023-11-21 18:55:41,263] Trial 24 finished with value: 0.37944356167882365 and parameters: {'C': 0.004485780644431457, 'max_iter': 558, 'solver': 'sag'}. Best is trial 19 with value: 0.3814420940493419.\n",
      "[I 2023-11-21 18:55:41,663] Trial 25 finished with value: 0.3802011839338247 and parameters: {'C': 0.003008173560083786, 'max_iter': 390, 'solver': 'sag'}. Best is trial 19 with value: 0.3814420940493419.\n",
      "[I 2023-11-21 18:55:42,066] Trial 26 finished with value: 0.37843673640682624 and parameters: {'C': 0.0025318046568771147, 'max_iter': 560, 'solver': 'sag'}. Best is trial 19 with value: 0.3814420940493419.\n",
      "[I 2023-11-21 18:55:42,479] Trial 27 finished with value: 0.37976653241487385 and parameters: {'C': 0.0058458514304982265, 'max_iter': 281, 'solver': 'sag'}. Best is trial 19 with value: 0.3814420940493419.\n",
      "[I 2023-11-21 18:55:42,880] Trial 28 finished with value: 0.38106329830124136 and parameters: {'C': 0.003906091011298115, 'max_iter': 719, 'solver': 'sag'}. Best is trial 19 with value: 0.3814420940493419.\n",
      "[I 2023-11-21 18:55:43,057] Trial 29 finished with value: 0.3792858662175573 and parameters: {'C': 0.004999679528502279, 'max_iter': 759, 'solver': 'lbfgs'}. Best is trial 19 with value: 0.3814420940493419.\n",
      "[I 2023-11-21 18:55:43,226] Trial 30 finished with value: 0.3812355169330725 and parameters: {'C': 0.0037813906323274004, 'max_iter': 727, 'solver': 'lbfgs'}. Best is trial 19 with value: 0.3814420940493419.\n",
      "[I 2023-11-21 18:55:43,400] Trial 31 finished with value: 0.3812530772273875 and parameters: {'C': 0.0038668162984064496, 'max_iter': 763, 'solver': 'lbfgs'}. Best is trial 19 with value: 0.3814420940493419.\n",
      "[I 2023-11-21 18:55:43,572] Trial 32 finished with value: 0.37966574133758013 and parameters: {'C': 0.004685405991419607, 'max_iter': 862, 'solver': 'lbfgs'}. Best is trial 19 with value: 0.3814420940493419.\n",
      "[I 2023-11-21 18:55:43,747] Trial 33 finished with value: 0.38162982073702145 and parameters: {'C': 0.0037233657823146785, 'max_iter': 842, 'solver': 'lbfgs'}. Best is trial 33 with value: 0.38162982073702145.\n",
      "[I 2023-11-21 18:55:43,922] Trial 34 finished with value: 0.3798380092668227 and parameters: {'C': 0.004806619127302133, 'max_iter': 958, 'solver': 'lbfgs'}. Best is trial 33 with value: 0.38162982073702145.\n",
      "[I 2023-11-21 18:55:44,098] Trial 35 finished with value: 0.3788925839590926 and parameters: {'C': 0.002647455248071754, 'max_iter': 827, 'solver': 'lbfgs'}. Best is trial 33 with value: 0.38162982073702145.\n",
      "[I 2023-11-21 18:55:44,308] Trial 36 finished with value: 0.3812530772273875 and parameters: {'C': 0.0038809956136503835, 'max_iter': 815, 'solver': 'lbfgs'}. Best is trial 33 with value: 0.38162982073702145.\n",
      "[I 2023-11-21 18:55:45,050] Trial 37 finished with value: 0.37864919973677225 and parameters: {'C': 0.005571416110076431, 'max_iter': 990, 'solver': 'saga'}. Best is trial 33 with value: 0.38162982073702145.\n",
      "[I 2023-11-21 18:55:45,224] Trial 38 finished with value: 0.37944356167882365 and parameters: {'C': 0.004473527106102001, 'max_iter': 471, 'solver': 'lbfgs'}. Best is trial 33 with value: 0.38162982073702145.\n",
      "[I 2023-11-21 18:55:45,387] Trial 39 finished with value: 0.38017871328238795 and parameters: {'C': 0.002978839408329016, 'max_iter': 625, 'solver': 'lbfgs'}. Best is trial 33 with value: 0.38162982073702145.\n",
      "[I 2023-11-21 18:55:46,101] Trial 40 finished with value: 0.38126009054421833 and parameters: {'C': 0.00362599302011275, 'max_iter': 910, 'solver': 'saga'}. Best is trial 33 with value: 0.38162982073702145.\n",
      "[I 2023-11-21 18:55:46,822] Trial 41 finished with value: 0.38082056412659576 and parameters: {'C': 0.0035248734040099153, 'max_iter': 895, 'solver': 'saga'}. Best is trial 33 with value: 0.38162982073702145.\n",
      "[I 2023-11-21 18:55:47,535] Trial 42 finished with value: 0.38125439435640013 and parameters: {'C': 0.0038805057077225674, 'max_iter': 898, 'solver': 'saga'}. Best is trial 33 with value: 0.38162982073702145.\n",
      "[I 2023-11-21 18:55:48,245] Trial 43 finished with value: 0.3797409615451959 and parameters: {'C': 0.0028540238413949834, 'max_iter': 908, 'solver': 'saga'}. Best is trial 33 with value: 0.38162982073702145.\n",
      "[I 2023-11-21 18:55:49,010] Trial 44 finished with value: 0.37877787215776815 and parameters: {'C': 0.005198416190303248, 'max_iter': 975, 'solver': 'saga'}. Best is trial 33 with value: 0.38162982073702145.\n",
      "[I 2023-11-21 18:55:49,743] Trial 45 finished with value: 0.3812638107586186 and parameters: {'C': 0.0036417996966387894, 'max_iter': 518, 'solver': 'saga'}. Best is trial 33 with value: 0.38162982073702145.\n",
      "[I 2023-11-21 18:55:50,473] Trial 46 finished with value: 0.38119920738641494 and parameters: {'C': 0.003299321969163031, 'max_iter': 436, 'solver': 'saga'}. Best is trial 33 with value: 0.38162982073702145.\n",
      "[I 2023-11-21 18:55:51,172] Trial 47 finished with value: 0.37972931044333086 and parameters: {'C': 0.004308354921777054, 'max_iter': 678, 'solver': 'saga'}. Best is trial 33 with value: 0.38162982073702145.\n",
      "[I 2023-11-21 18:55:51,875] Trial 48 finished with value: 0.37805997413695175 and parameters: {'C': 0.0024050688346197134, 'max_iter': 510, 'solver': 'saga'}. Best is trial 33 with value: 0.38162982073702145.\n",
      "[I 2023-11-21 18:55:52,574] Trial 49 finished with value: 0.37699507151496797 and parameters: {'C': 0.0018431866622004346, 'max_iter': 908, 'solver': 'saga'}. Best is trial 33 with value: 0.38162982073702145.\n",
      "[I 2023-11-21 18:55:53,268] Trial 50 finished with value: 0.3814163266826644 and parameters: {'C': 0.003581809131215542, 'max_iter': 807, 'solver': 'saga'}. Best is trial 33 with value: 0.38162982073702145.\n",
      "[I 2023-11-21 18:55:53,983] Trial 51 finished with value: 0.38084120693711543 and parameters: {'C': 0.003542339953191076, 'max_iter': 831, 'solver': 'saga'}. Best is trial 33 with value: 0.38162982073702145.\n",
      "[I 2023-11-21 18:55:54,696] Trial 52 finished with value: 0.3803980149313361 and parameters: {'C': 0.003071501536968052, 'max_iter': 937, 'solver': 'saga'}. Best is trial 33 with value: 0.38162982073702145.\n",
      "[I 2023-11-21 18:55:55,402] Trial 53 finished with value: 0.37974500844005704 and parameters: {'C': 0.004083524626728147, 'max_iter': 796, 'solver': 'saga'}. Best is trial 33 with value: 0.38162982073702145.\n",
      "[I 2023-11-21 18:55:56,109] Trial 54 finished with value: 0.3798990208689701 and parameters: {'C': 0.0026860128888267017, 'max_iter': 589, 'solver': 'saga'}. Best is trial 33 with value: 0.38162982073702145.\n",
      "[I 2023-11-21 18:55:56,825] Trial 55 finished with value: 0.38119920738641494 and parameters: {'C': 0.00328936173902474, 'max_iter': 868, 'solver': 'saga'}. Best is trial 33 with value: 0.38162982073702145.\n",
      "[I 2023-11-21 18:55:57,526] Trial 56 finished with value: 0.3814377429683335 and parameters: {'C': 0.003610892479390817, 'max_iter': 503, 'solver': 'saga'}. Best is trial 33 with value: 0.38162982073702145.\n",
      "[I 2023-11-21 18:55:58,231] Trial 57 finished with value: 0.37985453606427416 and parameters: {'C': 0.004641830206320298, 'max_iter': 487, 'solver': 'saga'}. Best is trial 33 with value: 0.38162982073702145.\n",
      "[I 2023-11-21 18:55:58,989] Trial 58 finished with value: 0.3814428174644642 and parameters: {'C': 0.0036864113642316185, 'max_iter': 429, 'solver': 'saga'}. Best is trial 33 with value: 0.38162982073702145.\n",
      "[I 2023-11-21 18:55:59,729] Trial 59 finished with value: 0.38102027327517707 and parameters: {'C': 0.0032420996438679768, 'max_iter': 518, 'solver': 'saga'}. Best is trial 33 with value: 0.38162982073702145.\n",
      "[I 2023-11-21 18:56:00,462] Trial 60 finished with value: 0.37991888989962513 and parameters: {'C': 0.0043157267630526555, 'max_iter': 425, 'solver': 'saga'}. Best is trial 33 with value: 0.38162982073702145.\n",
      "[I 2023-11-21 18:56:01,187] Trial 61 finished with value: 0.3801602004595046 and parameters: {'C': 0.002928910350423649, 'max_iter': 334, 'solver': 'saga'}. Best is trial 33 with value: 0.38162982073702145.\n",
      "[I 2023-11-21 18:56:01,911] Trial 62 finished with value: 0.38163114861345937 and parameters: {'C': 0.003716016660886967, 'max_iter': 536, 'solver': 'saga'}. Best is trial 62 with value: 0.38163114861345937.\n",
      "[I 2023-11-21 18:56:02,647] Trial 63 finished with value: 0.37974500844005704 and parameters: {'C': 0.004087285186655137, 'max_iter': 534, 'solver': 'saga'}. Best is trial 62 with value: 0.38163114861345937.\n",
      "[I 2023-11-21 18:56:03,384] Trial 64 finished with value: 0.3812279633751481 and parameters: {'C': 0.003603767581315094, 'max_iter': 421, 'solver': 'saga'}. Best is trial 62 with value: 0.38163114861345937.\n",
      "[I 2023-11-21 18:56:04,124] Trial 65 finished with value: 0.3799383885022849 and parameters: {'C': 0.004162990657738501, 'max_iter': 341, 'solver': 'saga'}. Best is trial 62 with value: 0.38163114861345937.\n",
      "[I 2023-11-21 18:56:04,563] Trial 66 finished with value: 0.3779954827073073 and parameters: {'C': 0.0022594265206011895, 'max_iter': 591, 'solver': 'sag'}. Best is trial 62 with value: 0.38163114861345937.\n",
      "[I 2023-11-21 18:56:05,328] Trial 67 finished with value: 0.3798390115199564 and parameters: {'C': 0.004873709404404846, 'max_iter': 469, 'solver': 'saga'}. Best is trial 62 with value: 0.38163114861345937.\n",
      "[I 2023-11-21 18:56:05,807] Trial 68 finished with value: 0.3814409091160062 and parameters: {'C': 0.0036391914539355918, 'max_iter': 353, 'solver': 'newton-cg'}. Best is trial 62 with value: 0.38163114861345937.\n",
      "[I 2023-11-21 18:56:06,259] Trial 69 finished with value: 0.3798990208689701 and parameters: {'C': 0.0027331010152683846, 'max_iter': 290, 'solver': 'newton-cg'}. Best is trial 62 with value: 0.38163114861345937.\n",
      "[I 2023-11-21 18:56:06,685] Trial 70 finished with value: 0.3806121611068847 and parameters: {'C': 0.0032099282662060255, 'max_iter': 236, 'solver': 'newton-cg'}. Best is trial 62 with value: 0.38163114861345937.\n",
      "[I 2023-11-21 18:56:07,155] Trial 71 finished with value: 0.38144226959862465 and parameters: {'C': 0.003690553638391224, 'max_iter': 362, 'solver': 'newton-cg'}. Best is trial 62 with value: 0.38163114861345937.\n",
      "[I 2023-11-21 18:56:07,659] Trial 72 finished with value: 0.38000758903266657 and parameters: {'C': 0.004449034243359721, 'max_iter': 366, 'solver': 'newton-cg'}. Best is trial 62 with value: 0.38163114861345937.\n",
      "[I 2023-11-21 18:56:08,128] Trial 73 finished with value: 0.3809889563710771 and parameters: {'C': 0.0034092247851498004, 'max_iter': 405, 'solver': 'newton-cg'}. Best is trial 62 with value: 0.38163114861345937.\n",
      "[I 2023-11-21 18:56:08,631] Trial 74 finished with value: 0.3812517730105796 and parameters: {'C': 0.003829530478889997, 'max_iter': 362, 'solver': 'newton-cg'}. Best is trial 62 with value: 0.38163114861345937.\n",
      "[I 2023-11-21 18:56:09,155] Trial 75 finished with value: 0.380289987750366 and parameters: {'C': 0.004016884284832664, 'max_iter': 304, 'solver': 'newton-cg'}. Best is trial 62 with value: 0.38163114861345937.\n",
      "[I 2023-11-21 18:56:09,603] Trial 76 finished with value: 0.38018863505578343 and parameters: {'C': 0.0030832207645531268, 'max_iter': 450, 'solver': 'newton-cg'}. Best is trial 62 with value: 0.38163114861345937.\n",
      "[I 2023-11-21 18:56:10,044] Trial 77 finished with value: 0.38144226959862465 and parameters: {'C': 0.0036714482917829926, 'max_iter': 260, 'solver': 'sag'}. Best is trial 62 with value: 0.38163114861345937.\n",
      "[I 2023-11-21 18:56:10,485] Trial 78 finished with value: 0.3814420940493419 and parameters: {'C': 0.0037523392401578822, 'max_iter': 256, 'solver': 'sag'}. Best is trial 62 with value: 0.38163114861345937.\n",
      "[I 2023-11-21 18:56:10,920] Trial 79 finished with value: 0.3792270288477111 and parameters: {'C': 0.004561956296151416, 'max_iter': 259, 'solver': 'sag'}. Best is trial 62 with value: 0.38163114861345937.\n",
      "[I 2023-11-21 18:56:11,372] Trial 80 finished with value: 0.37991888989962513 and parameters: {'C': 0.004322715375676143, 'max_iter': 191, 'solver': 'sag'}. Best is trial 62 with value: 0.38163114861345937.\n",
      "[I 2023-11-21 18:56:11,803] Trial 81 finished with value: 0.3812355169330725 and parameters: {'C': 0.003764847518716045, 'max_iter': 252, 'solver': 'sag'}. Best is trial 62 with value: 0.38163114861345937.\n",
      "[I 2023-11-21 18:56:12,246] Trial 82 finished with value: 0.3809889563710771 and parameters: {'C': 0.003406678495100171, 'max_iter': 335, 'solver': 'sag'}. Best is trial 62 with value: 0.38163114861345937.\n",
      "[I 2023-11-21 18:56:12,681] Trial 83 finished with value: 0.380289987750366 and parameters: {'C': 0.004060485062443012, 'max_iter': 172, 'solver': 'sag'}. Best is trial 62 with value: 0.38163114861345937.\n",
      "[I 2023-11-21 18:56:13,128] Trial 84 finished with value: 0.38144226959862465 and parameters: {'C': 0.003697746974748887, 'max_iter': 354, 'solver': 'sag'}. Best is trial 62 with value: 0.38163114861345937.\n",
      "[I 2023-11-21 18:56:13,575] Trial 85 finished with value: 0.37970856500986594 and parameters: {'C': 0.0028188337457817868, 'max_iter': 296, 'solver': 'sag'}. Best is trial 62 with value: 0.38163114861345937.\n",
      "[I 2023-11-21 18:56:14,018] Trial 86 finished with value: 0.381443408459768 and parameters: {'C': 0.0038180461601097664, 'max_iter': 360, 'solver': 'sag'}. Best is trial 62 with value: 0.38163114861345937.\n",
      "[I 2023-11-21 18:56:14,453] Trial 87 finished with value: 0.3804221140442982 and parameters: {'C': 0.0031658503076440964, 'max_iter': 378, 'solver': 'sag'}. Best is trial 62 with value: 0.38163114861345937.\n",
      "[I 2023-11-21 18:56:14,887] Trial 88 finished with value: 0.38106329830124136 and parameters: {'C': 0.003920041008884007, 'max_iter': 321, 'solver': 'sag'}. Best is trial 62 with value: 0.38163114861345937.\n",
      "[I 2023-11-21 18:56:15,316] Trial 89 finished with value: 0.3796769305284183 and parameters: {'C': 0.004764181108453708, 'max_iter': 404, 'solver': 'sag'}. Best is trial 62 with value: 0.38163114861345937.\n",
      "[I 2023-11-21 18:56:15,775] Trial 90 finished with value: 0.3799350971757278 and parameters: {'C': 0.004215698379853194, 'max_iter': 272, 'solver': 'sag'}. Best is trial 62 with value: 0.38163114861345937.\n",
      "[I 2023-11-21 18:56:16,242] Trial 91 finished with value: 0.381443408459768 and parameters: {'C': 0.003802819269022777, 'max_iter': 358, 'solver': 'sag'}. Best is trial 62 with value: 0.38163114861345937.\n",
      "[I 2023-11-21 18:56:16,685] Trial 92 finished with value: 0.3811665621219804 and parameters: {'C': 0.003370729705137643, 'max_iter': 223, 'solver': 'sag'}. Best is trial 62 with value: 0.38163114861345937.\n",
      "[I 2023-11-21 18:56:17,128] Trial 93 finished with value: 0.3812355169330725 and parameters: {'C': 0.0037684892435904064, 'max_iter': 388, 'solver': 'sag'}. Best is trial 62 with value: 0.38163114861345937.\n",
      "[I 2023-11-21 18:56:17,581] Trial 94 finished with value: 0.3799770419377784 and parameters: {'C': 0.003054451689678359, 'max_iter': 309, 'solver': 'sag'}. Best is trial 62 with value: 0.38163114861345937.\n",
      "[I 2023-11-21 18:56:18,016] Trial 95 finished with value: 0.3802688596147569 and parameters: {'C': 0.0039548161503494775, 'max_iter': 454, 'solver': 'sag'}. Best is trial 62 with value: 0.38163114861345937.\n",
      "[I 2023-11-21 18:56:18,203] Trial 96 finished with value: 0.37944356167882365 and parameters: {'C': 0.004475865261199441, 'max_iter': 347, 'solver': 'lbfgs'}. Best is trial 62 with value: 0.38163114861345937.\n",
      "[I 2023-11-21 18:56:18,631] Trial 97 finished with value: 0.38061164147198207 and parameters: {'C': 0.003447586686665973, 'max_iter': 670, 'solver': 'sag'}. Best is trial 62 with value: 0.38163114861345937.\n",
      "[I 2023-11-21 18:56:19,089] Trial 98 finished with value: 0.38163114861345937 and parameters: {'C': 0.0037110475247930296, 'max_iter': 199, 'solver': 'sag'}. Best is trial 62 with value: 0.38163114861345937.\n",
      "[I 2023-11-21 18:56:19,536] Trial 99 finished with value: 0.3799350971757278 and parameters: {'C': 0.004245907113356946, 'max_iter': 146, 'solver': 'sag'}. Best is trial 62 with value: 0.38163114861345937.\n"
     ]
    },
    {
     "name": "stdout",
     "output_type": "stream",
     "text": [
      "Best Hyperparameters: {'C': 0.003716016660886967, 'max_iter': 536, 'solver': 'saga'}\n",
      "Accuracy: 38.32\n",
      "F1-score: 38.16\n",
      "Precision: 38.33\n",
      "Recall: 38.32\n"
     ]
    }
   ],
   "source": [
    "import optuna\n",
    "import pandas as pd\n",
    "from sklearn.feature_extraction.text import HashingVectorizer\n",
    "from sklearn.linear_model import LogisticRegression\n",
    "from sklearn.metrics import accuracy_score, f1_score, precision_score, recall_score\n",
    "from sklearn.preprocessing import LabelEncoder\n",
    "from sklearn.model_selection import train_test_split\n",
    "from sklearn.model_selection import KFold\n",
    "\n",
    "mavalid_path = \"/kaggle/working/valid.csv\"\n",
    "\n",
    "# Read the CSV files\n",
    "data = pd.read_csv(file_path)\n",
    "valid = pd.read_csv(valid_path)\n",
    "\n",
    "label_encoder = LabelEncoder()\n",
    "data['Sentiment'] = label_encoder.fit_transform(data['Sentiment'])\n",
    "valid['Sentiment'] = label_encoder.transform(valid['Sentiment'])\n",
    "\n",
    "hashing_vectorizer = HashingVectorizer(n_features=100)\n",
    "\n",
    "train = hashing_vectorizer.transform(data['Text'])\n",
    "test = hashing_vectorizer.transform(valid['Text'])\n",
    "\n",
    "# Define the objective function for Optuna\n",
    "def objective(trial):\n",
    "    C = trial.suggest_float('C', 0.001, 0.01)\n",
    "    max_iter = trial.suggest_int('max_iter', 100, 1000)\n",
    "    solver = trial.suggest_categorical('solver', ['lbfgs', 'newton-cg', 'sag', 'saga'])\n",
    "\n",
    "    classifier = LogisticRegression(C=C, max_iter=max_iter, solver=solver, random_state=42)\n",
    "    classifier.fit(train, data['Sentiment'])\n",
    "    pred_valid = classifier.predict(test)\n",
    "\n",
    "    f1_macro = f1_score(valid['Sentiment'], pred_valid, average='macro')\n",
    "    return f1_macro\n",
    "\n",
    "# Create a study object and optimize\n",
    "study = optuna.create_study(direction='maximize')\n",
    "study.optimize(objective, n_trials=100)\n",
    "\n",
    "# Get the best parameters\n",
    "best_params = study.best_params\n",
    "\n",
    "# Use the best parameters to create the final model\n",
    "final_classifier = LogisticRegression(C=best_params['C'], max_iter=best_params['max_iter'], solver=best_params['solver'], random_state=42)\n",
    "final_classifier.fit(train, data['Sentiment'])\n",
    "pred_valid = final_classifier.predict(test)\n",
    "\n",
    "# Evaluate and print the results\n",
    "accuracy = accuracy_score(valid['Sentiment'], pred_valid) * 100\n",
    "f1 = f1_score(valid['Sentiment'], pred_valid, average='macro') * 100\n",
    "precision = precision_score(valid['Sentiment'], pred_valid, average='macro') * 100\n",
    "recall = recall_score(valid['Sentiment'], pred_valid, average='macro') * 100\n",
    "\n",
    "print(\"Best Hyperparameters:\", best_params)\n",
    "print(\"Accuracy: {:.2f}\".format(accuracy))\n",
    "print(\"F1-score: {:.2f}\".format(f1))\n",
    "print(\"Precision: {:.2f}\".format(precision))\n",
    "print(\"Recall: {:.2f}\".format(recall))\n"
   ]
  },
  {
   "cell_type": "markdown",
   "id": "35e60224",
   "metadata": {
    "papermill": {
     "duration": 0.060399,
     "end_time": "2023-11-21T18:56:20.378286",
     "exception": false,
     "start_time": "2023-11-21T18:56:20.317887",
     "status": "completed"
    },
    "tags": []
   },
   "source": [
    "Find for each sentiment the most frequent words"
   ]
  },
  {
   "cell_type": "code",
   "execution_count": 19,
   "id": "27bee9c1",
   "metadata": {
    "execution": {
     "iopub.execute_input": "2023-11-21T18:56:20.501857Z",
     "iopub.status.busy": "2023-11-21T18:56:20.501376Z",
     "iopub.status.idle": "2023-11-21T18:56:31.642204Z",
     "shell.execute_reply": "2023-11-21T18:56:31.641046Z"
    },
    "papermill": {
     "duration": 11.205846,
     "end_time": "2023-11-21T18:56:31.644933",
     "exception": false,
     "start_time": "2023-11-21T18:56:20.439087",
     "status": "completed"
    },
    "tags": []
   },
   "outputs": [
    {
     "name": "stdout",
     "output_type": "stream",
     "text": [
      "Sentiment: NEUTRAL\n",
      "τ: 6062\n",
      "να: 5715\n",
      "τσιπρ: 4168\n",
      "μητσοτακ: 3696\n",
      "θ: 3545\n",
      "νδ: 3033\n",
      "εκλογ: 2749\n",
      "συριζα: 2732\n",
      "στ: 2635\n",
      "εινα: 2281\n",
      "Sentiment: NEGATIVE\n",
      "τ: 6624\n",
      "να: 6535\n",
      "τσιπρ: 4932\n",
      "θ: 3924\n",
      "μητσοτακ: 3217\n",
      "νδ: 3113\n",
      "συριζα: 3046\n",
      "εινα: 2702\n",
      "στ: 2640\n",
      "εκλογ: 2388\n",
      "Sentiment: POSITIVE\n",
      "τ: 6320\n",
      "να: 6257\n",
      "θ: 3865\n",
      "μητσοτακ: 3731\n",
      "τσιπρ: 3698\n",
      "νδ: 3154\n",
      "στ: 2919\n",
      "συριζα: 2893\n",
      "εινα: 2768\n",
      "εκλογ: 2579\n"
     ]
    }
   ],
   "source": [
    "import nltk\n",
    "def get_top_words_by_sentiment(dataframe, sentiment_column, text_column, num_words=3):\n",
    "    sentiment_words = {}\n",
    "    for sentiment in dataframe[sentiment_column].unique():\n",
    "        sentiment_texts = dataframe[dataframe[sentiment_column] == sentiment][text_column]\n",
    "        sentiment_words[sentiment] = get_most_common_words(sentiment_texts, num_words)\n",
    "    \n",
    "    return sentiment_words\n",
    "\n",
    "def get_most_common_words(texts, num_words):\n",
    "    words = []\n",
    "    \n",
    "    for text in texts:\n",
    "        words.extend([word.lower() for word in nltk.word_tokenize(text) if word.lower() and word.isalnum()])\n",
    "    \n",
    "    word_counts = Counter(words)\n",
    "    top_words = word_counts.most_common(num_words)\n",
    "    \n",
    "    return top_words\n",
    "\n",
    "import pandas as pd\n",
    "file_path = \"/kaggle/working/data.csv\"\n",
    "valid_path = \"/kaggle/working/valid.csv\"\n",
    "data = pd.read_csv(file_path)\n",
    "valid = pd.read_csv(valid_path)\n",
    "combined_data = pd.concat([data,valid], axis=0)\n",
    "top_words_by_sentiment = get_top_words_by_sentiment(combined_data, 'Sentiment', 'Text', num_words=10)\n",
    "\n",
    "for sentiment, top_words in top_words_by_sentiment.items():\n",
    "    print(f\"Sentiment: {sentiment}\")\n",
    "    for word, count in top_words:\n",
    "        print(f\"{word}: {count}\")"
   ]
  },
  {
   "cell_type": "markdown",
   "id": "19f2b626",
   "metadata": {
    "papermill": {
     "duration": 0.06035,
     "end_time": "2023-11-21T18:56:31.765477",
     "exception": false,
     "start_time": "2023-11-21T18:56:31.705127",
     "status": "completed"
    },
    "tags": []
   },
   "source": [
    "We will try to concat with the party to see if we get better results, the model we are usng for vectorization is ngrams"
   ]
  },
  {
   "cell_type": "code",
   "execution_count": 20,
   "id": "550c1063",
   "metadata": {
    "execution": {
     "iopub.execute_input": "2023-11-21T18:56:31.892844Z",
     "iopub.status.busy": "2023-11-21T18:56:31.891889Z",
     "iopub.status.idle": "2023-11-21T18:56:36.999049Z",
     "shell.execute_reply": "2023-11-21T18:56:36.997728Z"
    },
    "papermill": {
     "duration": 5.173817,
     "end_time": "2023-11-21T18:56:37.002556",
     "exception": false,
     "start_time": "2023-11-21T18:56:31.828739",
     "status": "completed"
    },
    "tags": []
   },
   "outputs": [
    {
     "name": "stdout",
     "output_type": "stream",
     "text": [
      "Best Hyperparameters: {'C': 0.003716016660886967, 'max_iter': 536, 'solver': 'saga'}\n",
      "Accuracy: 40.65\n",
      "F1-score: 40.40\n",
      "Precision: 40.77\n",
      "Recall: 40.65\n"
     ]
    }
   ],
   "source": [
    "import pandas as pd\n",
    "from sklearn.linear_model import LogisticRegression\n",
    "from sklearn.metrics import accuracy_score, classification_report\n",
    "from sklearn.preprocessing import LabelEncoder\n",
    "from sklearn.feature_extraction.text import CountVectorizer\n",
    "from sklearn.metrics import f1_score\n",
    "from sklearn.metrics import recall_score,precision_score\n",
    "from scipy.sparse import csr_matrix\n",
    "\n",
    "\n",
    "file_path = \"/kaggle/working/data.csv\"\n",
    "valid_path = \"/kaggle/working/valid.csv\"\n",
    "# Read the CSV file\n",
    "data = pd.read_csv(file_path)\n",
    "valid = pd.read_csv(valid_path)\n",
    "label_encoder = LabelEncoder()\n",
    "data['Sentiment'] = label_encoder.fit_transform(data['Sentiment'])\n",
    "valid['Sentiment'] = label_encoder.transform(valid['Sentiment'])  # Use transform for validation\n",
    "\n",
    "\n",
    "ngram_vectorizer = CountVectorizer(analyzer='word', ngram_range=(1, 2),max_features=5000)\n",
    "\n",
    "\n",
    "data_tfidf = ngram_vectorizer.fit_transform( data['Text'] + ' ' + data['Party'])\n",
    "valid_tfidf = ngram_vectorizer.transform( valid['Text'] + ' ' + valid['Party'])  # Use transform for validation\n",
    "data_tfidf = csr_matrix(data_tfidf)\n",
    "valid_tfidf = csr_matrix(valid_tfidf)\n",
    "\n",
    "classifier = LogisticRegression(random_state=42,C= 0.0016049784356762025, max_iter= 724, solver = 'sag')\n",
    "\n",
    "classifier.fit(data_tfidf, data['Sentiment'])\n",
    "pred_valid = classifier.predict(valid_tfidf)\n",
    "\n",
    "accuracy = accuracy_score(valid['Sentiment'], pred_valid)\n",
    "f1 = f1_score(valid['Sentiment'], pred_valid, average='macro')\n",
    "precision = precision_score(valid['Sentiment'], pred_valid, average='macro')\n",
    "recall = recall_score(valid['Sentiment'], pred_valid, average='macro')\n",
    "\n",
    "print(\"Best Hyperparameters:\", best_params)\n",
    "print(\"Accuracy: {:.2f}\".format(accuracy * 100))\n",
    "print(\"F1-score: {:.2f}\".format(f1 * 100))\n",
    "print(\"Precision: {:.2f}\".format(precision * 100))\n",
    "print(\"Recall: {:.2f}\".format(recall * 100))"
   ]
  },
  {
   "cell_type": "markdown",
   "id": "a582e616",
   "metadata": {
    "papermill": {
     "duration": 0.061944,
     "end_time": "2023-11-21T18:56:37.127075",
     "exception": false,
     "start_time": "2023-11-21T18:56:37.065131",
     "status": "completed"
    },
    "tags": []
   },
   "source": [
    "The performance got worse, we take that back"
   ]
  },
  {
   "cell_type": "code",
   "execution_count": 21,
   "id": "a76eaa57",
   "metadata": {
    "execution": {
     "iopub.execute_input": "2023-11-21T18:56:37.252596Z",
     "iopub.status.busy": "2023-11-21T18:56:37.251728Z",
     "iopub.status.idle": "2023-11-21T18:56:41.399280Z",
     "shell.execute_reply": "2023-11-21T18:56:41.397856Z"
    },
    "papermill": {
     "duration": 4.215871,
     "end_time": "2023-11-21T18:56:41.403435",
     "exception": false,
     "start_time": "2023-11-21T18:56:37.187564",
     "status": "completed"
    },
    "tags": []
   },
   "outputs": [
    {
     "name": "stdout",
     "output_type": "stream",
     "text": [
      "Accuracy: 40.73\n",
      "F1-score: 40.61\n",
      "Precision: 40.91\n",
      "Recall: 40.73\n"
     ]
    }
   ],
   "source": [
    "import pandas as pd\n",
    "from sklearn.linear_model import LogisticRegression\n",
    "from sklearn.metrics import accuracy_score, classification_report\n",
    "from sklearn.preprocessing import LabelEncoder\n",
    "from sklearn.feature_extraction.text import CountVectorizer\n",
    "from sklearn.metrics import f1_score\n",
    "from sklearn.metrics import recall_score,precision_score\n",
    "from scipy.sparse import csr_matrix\n",
    "from sklearn.feature_extraction.text import CountVectorizer\n",
    "\n",
    "\n",
    "file_path = \"/kaggle/working/data.csv\"\n",
    "valid_path = \"/kaggle/working/valid.csv\"\n",
    "# Read the CSV file\n",
    "data = pd.read_csv(file_path)\n",
    "valid = pd.read_csv(valid_path)\n",
    "label_encoder = LabelEncoder()\n",
    "data['Sentiment'] = label_encoder.fit_transform(data['Sentiment'])\n",
    "valid['Sentiment'] = label_encoder.transform(valid['Sentiment'])  # Use transform for validation\n",
    "\n",
    "\n",
    "ngram_vectorizer = CountVectorizer(analyzer='word', ngram_range=(1, 2),max_features=5000)\n",
    "\n",
    "\n",
    "data_tfidf = ngram_vectorizer.fit_transform(data['Text'])\n",
    "valid_tfidf = ngram_vectorizer.transform(valid['Text'] )  # Use transform for validation\n",
    "data_tfidf = csr_matrix(data_tfidf)\n",
    "valid_tfidf = csr_matrix(valid_tfidf)\n",
    "\n",
    "\n",
    "classifier = LogisticRegression(random_state=42,C= 0.0016049784356762025, max_iter= 724, solver = 'sag')\n",
    "classifier.fit(data_tfidf, data['Sentiment'])\n",
    "pred_valid = classifier.predict(valid_tfidf)\n",
    "\n",
    "accuracy = accuracy_score(valid['Sentiment'], pred_valid)\n",
    "f1 = f1_score(valid['Sentiment'], pred_valid, average='macro')\n",
    "precision = precision_score(valid['Sentiment'], pred_valid, average='macro')\n",
    "recall = recall_score(valid['Sentiment'], pred_valid, average='macro')\n",
    "\n",
    "print(\"Accuracy: {:.2f}\".format(accuracy * 100))\n",
    "print(\"F1-score: {:.2f}\".format(f1 * 100))\n",
    "print(\"Precision: {:.2f}\".format(precision * 100))\n",
    "print(\"Recall: {:.2f}\".format(recall * 100))"
   ]
  },
  {
   "cell_type": "markdown",
   "id": "d867537d",
   "metadata": {
    "papermill": {
     "duration": 0.059951,
     "end_time": "2023-11-21T18:56:41.524620",
     "exception": false,
     "start_time": "2023-11-21T18:56:41.464669",
     "status": "completed"
    },
    "tags": []
   },
   "source": [
    "Scaling data using robust scaler"
   ]
  },
  {
   "cell_type": "code",
   "execution_count": 22,
   "id": "3d765a29",
   "metadata": {
    "execution": {
     "iopub.execute_input": "2023-11-21T18:56:41.647655Z",
     "iopub.status.busy": "2023-11-21T18:56:41.646396Z",
     "iopub.status.idle": "2023-11-21T18:56:44.600851Z",
     "shell.execute_reply": "2023-11-21T18:56:44.599485Z"
    },
    "papermill": {
     "duration": 3.019362,
     "end_time": "2023-11-21T18:56:44.604389",
     "exception": false,
     "start_time": "2023-11-21T18:56:41.585027",
     "status": "completed"
    },
    "tags": []
   },
   "outputs": [
    {
     "name": "stdout",
     "output_type": "stream",
     "text": [
      "Accuracy: 40.73\n",
      "F1-score: 40.61\n",
      "Precision: 40.91\n",
      "Recall: 40.73\n"
     ]
    }
   ],
   "source": [
    "from sklearn.linear_model import LogisticRegression\n",
    "from sklearn.metrics import accuracy_score, classification_report\n",
    "from sklearn.preprocessing import LabelEncoder\n",
    "from sklearn.model_selection import GridSearchCV\n",
    "from sklearn.preprocessing import RobustScaler\n",
    "from nltk.tokenize import word_tokenize\n",
    "\n",
    "import pandas as pd\n",
    "\n",
    "\n",
    "scaler = RobustScaler(with_centering=False)\n",
    "data_tfidf2 = scaler.fit_transform(data_tfidf)\n",
    "valid_tfidf2 = scaler.transform(valid_tfidf)\n",
    "\n",
    "classifier = LogisticRegression(random_state=42,C= 0.0016049784356762025, max_iter= 724, solver = 'sag')\n",
    "classifier.fit(data_tfidf2, data['Sentiment'])\n",
    "pred_valid = classifier.predict(valid_tfidf2)\n",
    "accuracy = accuracy_score(valid['Sentiment'], pred_valid)\n",
    "f1 = f1_score(valid['Sentiment'], pred_valid, average='macro')\n",
    "precision = precision_score(valid['Sentiment'], pred_valid, average='macro')\n",
    "recall = recall_score(valid['Sentiment'], pred_valid, average='macro')\n",
    "\n",
    "print(\"Accuracy: {:.2f}\".format(accuracy * 100))\n",
    "print(\"F1-score: {:.2f}\".format(f1 * 100))\n",
    "print(\"Precision: {:.2f}\".format(precision * 100))\n",
    "print(\"Recall: {:.2f}\".format(recall * 100))"
   ]
  },
  {
   "cell_type": "markdown",
   "id": "a74256d7",
   "metadata": {
    "papermill": {
     "duration": 0.060466,
     "end_time": "2023-11-21T18:56:44.726173",
     "exception": false,
     "start_time": "2023-11-21T18:56:44.665707",
     "status": "completed"
    },
    "tags": []
   },
   "source": [
    "There is no improvement after scaling with robust, this happens perhaps because the data is sparse, seems like there is no need for scaling, however we may also try RandomProjection to reduce dimesnions"
   ]
  },
  {
   "cell_type": "code",
   "execution_count": 23,
   "id": "e58a7604",
   "metadata": {
    "execution": {
     "iopub.execute_input": "2023-11-21T18:56:44.851680Z",
     "iopub.status.busy": "2023-11-21T18:56:44.850777Z",
     "iopub.status.idle": "2023-11-21T18:56:45.546727Z",
     "shell.execute_reply": "2023-11-21T18:56:45.545382Z"
    },
    "papermill": {
     "duration": 0.762104,
     "end_time": "2023-11-21T18:56:45.549768",
     "exception": false,
     "start_time": "2023-11-21T18:56:44.787664",
     "status": "completed"
    },
    "tags": []
   },
   "outputs": [
    {
     "name": "stdout",
     "output_type": "stream",
     "text": [
      "Best Hyperparameters: {'C': 0.003716016660886967, 'max_iter': 536, 'solver': 'saga'}\n",
      "Accuracy: 37.81\n",
      "F1-score: 37.78\n",
      "Precision: 37.78\n",
      "Recall: 37.81\n"
     ]
    }
   ],
   "source": [
    "from sklearn.linear_model import LogisticRegression\n",
    "from sklearn.metrics import accuracy_score, classification_report\n",
    "from sklearn.preprocessing import LabelEncoder\n",
    "from sklearn.model_selection import GridSearchCV\n",
    "from sklearn.random_projection import SparseRandomProjection\n",
    "from nltk.tokenize import word_tokenize\n",
    "import pandas as pd\n",
    "\n",
    "\n",
    "n_components = 100  # Specify the number of components to retain\n",
    "sparse_rp = SparseRandomProjection(n_components=n_components, random_state=42)\n",
    "data_tfidf2 = sparse_rp.fit_transform(data_tfidf)\n",
    "valid_tfidf2 = sparse_rp.transform(valid_tfidf)\n",
    "\n",
    "classifier = LogisticRegression(random_state=42,C= 0.0016049784356762025, max_iter= 724, solver = 'sag')\n",
    "classifier.fit(data_tfidf2, data['Sentiment'])\n",
    "pred_valid = classifier.predict(valid_tfidf2)\n",
    "\n",
    "accuracy = accuracy_score(valid['Sentiment'], pred_valid)\n",
    "f1 = f1_score(valid['Sentiment'], pred_valid, average='macro')\n",
    "precision = precision_score(valid['Sentiment'], pred_valid, average='macro')\n",
    "recall = recall_score(valid['Sentiment'], pred_valid, average='macro')\n",
    "\n",
    "print(\"Best Hyperparameters:\", best_params)\n",
    "print(\"Accuracy: {:.2f}\".format(accuracy * 100))\n",
    "print(\"F1-score: {:.2f}\".format(f1 * 100))\n",
    "print(\"Precision: {:.2f}\".format(precision * 100))\n",
    "print(\"Recall: {:.2f}\".format(recall * 100))"
   ]
  },
  {
   "cell_type": "markdown",
   "id": "4f7b61a4",
   "metadata": {
    "papermill": {
     "duration": 0.06118,
     "end_time": "2023-11-21T18:56:45.672194",
     "exception": false,
     "start_time": "2023-11-21T18:56:45.611014",
     "status": "completed"
    },
    "tags": []
   },
   "source": [
    "Its getting worse, maybe check as well with Gaussian Random Projection"
   ]
  },
  {
   "cell_type": "code",
   "execution_count": 24,
   "id": "11b245cb",
   "metadata": {
    "execution": {
     "iopub.execute_input": "2023-11-21T18:56:45.797574Z",
     "iopub.status.busy": "2023-11-21T18:56:45.796568Z",
     "iopub.status.idle": "2023-11-21T18:56:47.909976Z",
     "shell.execute_reply": "2023-11-21T18:56:47.908899Z"
    },
    "papermill": {
     "duration": 2.181951,
     "end_time": "2023-11-21T18:56:47.915071",
     "exception": false,
     "start_time": "2023-11-21T18:56:45.733120",
     "status": "completed"
    },
    "tags": []
   },
   "outputs": [
    {
     "name": "stdout",
     "output_type": "stream",
     "text": [
      "Best Hyperparameters: {'C': 0.003716016660886967, 'max_iter': 536, 'solver': 'saga'}\n",
      "Accuracy: 38.00\n",
      "F1-score: 37.94\n",
      "Precision: 38.03\n",
      "Recall: 38.00\n"
     ]
    }
   ],
   "source": [
    "from sklearn.linear_model import LogisticRegression\n",
    "from sklearn.metrics import accuracy_score, precision_score, recall_score, f1_score, classification_report\n",
    "from sklearn.preprocessing import LabelEncoder\n",
    "from sklearn.model_selection import GridSearchCV\n",
    "from sklearn.random_projection import GaussianRandomProjection\n",
    "from nltk.tokenize import word_tokenize\n",
    "import pandas as pd\n",
    "\n",
    "\n",
    "n_components = 100  # Specify the number of components to retain\n",
    "gaussian_rp = GaussianRandomProjection(n_components=n_components, random_state=42)\n",
    "data_tfidf2 = gaussian_rp.fit_transform(data_tfidf)\n",
    "valid_tfidf2 = gaussian_rp.transform(valid_tfidf)\n",
    "\n",
    "classifier = LogisticRegression(random_state=42,C= 0.0016049784356762025, max_iter= 724, solver = 'sag')\n",
    "classifier.fit(data_tfidf2, data['Sentiment'])\n",
    "pred_valid = classifier.predict(valid_tfidf2)\n",
    "\n",
    "accuracy = accuracy_score(valid['Sentiment'], pred_valid)\n",
    "f1 = f1_score(valid['Sentiment'], pred_valid, average='macro')\n",
    "precision = precision_score(valid['Sentiment'], pred_valid, average='macro')\n",
    "recall = recall_score(valid['Sentiment'], pred_valid, average='macro')\n",
    "\n",
    "print(\"Best Hyperparameters:\", best_params)\n",
    "print(\"Accuracy: {:.2f}\".format(accuracy * 100))\n",
    "print(\"F1-score: {:.2f}\".format(f1 * 100))\n",
    "print(\"Precision: {:.2f}\".format(precision * 100))\n",
    "print(\"Recall: {:.2f}\".format(recall * 100))"
   ]
  },
  {
   "cell_type": "markdown",
   "id": "4f14ee7f",
   "metadata": {
    "papermill": {
     "duration": 0.060782,
     "end_time": "2023-11-21T18:56:48.084168",
     "exception": false,
     "start_time": "2023-11-21T18:56:48.023386",
     "status": "completed"
    },
    "tags": []
   },
   "source": [
    "Nah not good, maybe check simple Dimension reduction"
   ]
  },
  {
   "cell_type": "code",
   "execution_count": 25,
   "id": "7aff3a08",
   "metadata": {
    "execution": {
     "iopub.execute_input": "2023-11-21T18:56:48.210533Z",
     "iopub.status.busy": "2023-11-21T18:56:48.209912Z",
     "iopub.status.idle": "2023-11-21T18:56:52.827708Z",
     "shell.execute_reply": "2023-11-21T18:56:52.825688Z"
    },
    "papermill": {
     "duration": 4.6865,
     "end_time": "2023-11-21T18:56:52.832706",
     "exception": false,
     "start_time": "2023-11-21T18:56:48.146206",
     "status": "completed"
    },
    "tags": []
   },
   "outputs": [
    {
     "name": "stdout",
     "output_type": "stream",
     "text": [
      "Best Hyperparameters: {'C': 0.003716016660886967, 'max_iter': 536, 'solver': 'saga'}\n",
      "Accuracy: 40.06\n",
      "F1-score: 39.92\n",
      "Precision: 40.26\n",
      "Recall: 40.06\n"
     ]
    }
   ],
   "source": [
    "from sklearn.linear_model import LogisticRegression\n",
    "from sklearn.metrics import accuracy_score, classification_report\n",
    "from sklearn.preprocessing import LabelEncoder\n",
    "from sklearn.model_selection import GridSearchCV\n",
    "from sklearn.preprocessing import StandardScaler\n",
    "from nltk.tokenize import word_tokenize\n",
    "from sklearn.decomposition import TruncatedSVD\n",
    "\n",
    "\n",
    "n_components = 100  # Specify the number of components you want to retain\n",
    "svd = TruncatedSVD(n_components=n_components, random_state=42)\n",
    "data_tfidf2 = svd.fit_transform(data_tfidf)\n",
    "valid_tfidf2 = svd.transform(valid_tfidf)\n",
    "\n",
    "classifier = LogisticRegression(random_state=42,C= 0.0016049784356762025, max_iter= 724, solver = 'sag')\n",
    "classifier.fit(data_tfidf2, data['Sentiment'])\n",
    "pred_valid = classifier.predict(valid_tfidf2)\n",
    "\n",
    "accuracy = accuracy_score(valid['Sentiment'], pred_valid)\n",
    "f1 = f1_score(valid['Sentiment'], pred_valid, average='macro')\n",
    "precision = precision_score(valid['Sentiment'], pred_valid, average='macro')\n",
    "recall = recall_score(valid['Sentiment'], pred_valid, average='macro')\n",
    "\n",
    "print(\"Best Hyperparameters:\", best_params)\n",
    "print(\"Accuracy: {:.2f}\".format(accuracy * 100))\n",
    "print(\"F1-score: {:.2f}\".format(f1 * 100))\n",
    "print(\"Precision: {:.2f}\".format(precision * 100))\n",
    "print(\"Recall: {:.2f}\".format(recall * 100))"
   ]
  },
  {
   "cell_type": "markdown",
   "id": "b78e0aca",
   "metadata": {
    "papermill": {
     "duration": 0.06285,
     "end_time": "2023-11-21T18:56:53.003867",
     "exception": false,
     "start_time": "2023-11-21T18:56:52.941017",
     "status": "completed"
    },
    "tags": []
   },
   "source": [
    "No improvement as well, we let it as it is, with no scaling and no dimension reduction"
   ]
  },
  {
   "cell_type": "markdown",
   "id": "d3e2895d",
   "metadata": {
    "papermill": {
     "duration": 0.062146,
     "end_time": "2023-11-21T18:56:53.127657",
     "exception": false,
     "start_time": "2023-11-21T18:56:53.065511",
     "status": "completed"
    },
    "tags": []
   },
   "source": [
    "So our final model is this"
   ]
  },
  {
   "cell_type": "code",
   "execution_count": 26,
   "id": "eb55265f",
   "metadata": {
    "execution": {
     "iopub.execute_input": "2023-11-21T18:56:53.253307Z",
     "iopub.status.busy": "2023-11-21T18:56:53.252395Z",
     "iopub.status.idle": "2023-11-21T18:57:04.239460Z",
     "shell.execute_reply": "2023-11-21T18:57:04.238185Z"
    },
    "papermill": {
     "duration": 11.053121,
     "end_time": "2023-11-21T18:57:04.242202",
     "exception": false,
     "start_time": "2023-11-21T18:56:53.189081",
     "status": "completed"
    },
    "tags": []
   },
   "outputs": [
    {
     "name": "stdout",
     "output_type": "stream",
     "text": [
      "Fold 1 Accuracy: 39.62%\n",
      "Fold 1 F1 Score: 39.46%\n",
      "Fold 1 Precision: 39.77%\n",
      "Fold 1 Recall: 39.64%\n",
      "\n",
      "Fold 2 Accuracy: 38.79%\n",
      "Fold 2 F1 Score: 38.68%\n",
      "Fold 2 Precision: 39.20%\n",
      "Fold 2 Recall: 38.90%\n",
      "\n",
      "Fold 3 Accuracy: 38.59%\n",
      "Fold 3 F1 Score: 38.49%\n",
      "Fold 3 Precision: 38.75%\n",
      "Fold 3 Recall: 38.60%\n",
      "\n",
      "Fold 4 Accuracy: 40.07%\n",
      "Fold 4 F1 Score: 40.00%\n",
      "Fold 4 Precision: 40.22%\n",
      "Fold 4 Recall: 40.02%\n",
      "\n",
      "Fold 5 Accuracy: 39.39%\n",
      "Fold 5 F1 Score: 39.30%\n",
      "Fold 5 Precision: 39.44%\n",
      "Fold 5 Recall: 39.37%\n",
      "\n",
      "Accuracy: 40.06\n",
      "F1-score: 39.92\n",
      "Precision: 40.26\n",
      "Recall: 40.06\n"
     ]
    }
   ],
   "source": [
    "import pandas as pd\n",
    "from sklearn.linear_model import LogisticRegression\n",
    "from sklearn.preprocessing import LabelEncoder\n",
    "from sklearn.feature_extraction.text import CountVectorizer\n",
    "from sklearn.model_selection import KFold\n",
    "from sklearn.metrics import accuracy_score, f1_score, precision_score, recall_score\n",
    "from scipy.sparse import csr_matrix\n",
    "from sklearn.model_selection import cross_val_predict\n",
    "\n",
    "\n",
    "\n",
    "file_path = \"/kaggle/working/data.csv\"\n",
    "valid_path = \"/kaggle/working/valid.csv\"\n",
    "# Read the CSV file\n",
    "data = pd.read_csv(file_path)\n",
    "valid = pd.read_csv(valid_path)\n",
    "label_encoder = LabelEncoder()\n",
    "data['Sentiment'] = label_encoder.fit_transform(data['Sentiment'])\n",
    "valid['Sentiment'] = label_encoder.transform(valid['Sentiment'])  # Use transform for validation\n",
    "combined_data = pd.concat([data[['Text', 'Sentiment']], valid[['Text', 'Sentiment']]], ignore_index=True)\n",
    "\n",
    "ngram_vectorizer = CountVectorizer(analyzer='word', ngram_range=(1, 2),max_features=5000)\n",
    "\n",
    "\n",
    "data_tfidf = ngram_vectorizer.fit_transform(combined_data['Text'])\n",
    "data_tfidf = csr_matrix(data_tfidf)\n",
    "\n",
    "\n",
    "classifier = LogisticRegression(random_state=42,C= 0.0016049784356762025, max_iter= 724, solver = 'sag') \n",
    "kf = KFold(n_splits=5, shuffle=True, random_state=42)\n",
    "for fold, (train_idx, test_idx) in enumerate(kf.split(data_tfidf), 1):\n",
    "    X_train, X_test = data_tfidf[train_idx], data_tfidf[test_idx]\n",
    "    y_train, y_test = combined_data['Sentiment'].iloc[train_idx], combined_data['Sentiment'].iloc[test_idx]\n",
    "\n",
    "    # Fit the classifier on the training data\n",
    "    classifier.fit(X_train, y_train)\n",
    "\n",
    "    # Predict on the test data\n",
    "    y_pred = classifier.predict(X_test)\n",
    "\n",
    "    # Calculate and print scores for each fold\n",
    "    accuracy = accuracy_score(y_test, y_pred) * 100\n",
    "    f1 = f1_score(y_test, y_pred, average='macro') * 100\n",
    "    precision = precision_score(y_test, y_pred, average='macro') * 100\n",
    "    recall = recall_score(y_test, y_pred, average='macro') * 100\n",
    "\n",
    "    print(f'Fold {fold} Accuracy: {accuracy:.2f}%')\n",
    "    print(f'Fold {fold} F1 Score: {f1:.2f}%')\n",
    "    print(f'Fold {fold} Precision: {precision:.2f}%')\n",
    "    print(f'Fold {fold} Recall: {recall:.2f}%')\n",
    "    print()\n",
    "\n",
    "data_tfidf = ngram_vectorizer.fit_transform(data['Text'])\n",
    "valid_tfidf = ngram_vectorizer.transform(valid['Text'])  # Use transform for validation\n",
    "data_tfidf = csr_matrix(data_tfidf)\n",
    "valid_tfidf = csr_matrix(valid_tfidf)\n",
    "classifier.fit(data_tfidf, data['Sentiment'])\n",
    "y_pred = classifier.predict(valid_tfidf)\n",
    "accuracy = accuracy_score(valid['Sentiment'], pred_valid)\n",
    "f1 = f1_score(valid['Sentiment'], pred_valid, average='macro')\n",
    "precision = precision_score(valid['Sentiment'], pred_valid, average='macro')\n",
    "recall = recall_score(valid['Sentiment'], pred_valid, average='macro')\n",
    "print(\"Accuracy: {:.2f}\".format(accuracy * 100))\n",
    "print(\"F1-score: {:.2f}\".format(f1 * 100))\n",
    "print(\"Precision: {:.2f}\".format(precision * 100))\n",
    "print(\"Recall: {:.2f}\".format(recall * 100))"
   ]
  },
  {
   "cell_type": "markdown",
   "id": "9372b41c",
   "metadata": {
    "papermill": {
     "duration": 0.061131,
     "end_time": "2023-11-21T18:57:04.365854",
     "exception": false,
     "start_time": "2023-11-21T18:57:04.304723",
     "status": "completed"
    },
    "tags": []
   },
   "source": [
    "We performed a KFold for the fixed model, and the results were close to 39% as expected"
   ]
  },
  {
   "cell_type": "markdown",
   "id": "02b30f75",
   "metadata": {
    "papermill": {
     "duration": 0.061457,
     "end_time": "2023-11-21T18:57:04.490130",
     "exception": false,
     "start_time": "2023-11-21T18:57:04.428673",
     "status": "completed"
    },
    "tags": []
   },
   "source": [
    "The learnig curve of the model is"
   ]
  },
  {
   "cell_type": "code",
   "execution_count": 27,
   "id": "b56eb6a9",
   "metadata": {
    "execution": {
     "iopub.execute_input": "2023-11-21T18:57:04.615019Z",
     "iopub.status.busy": "2023-11-21T18:57:04.614559Z",
     "iopub.status.idle": "2023-11-21T18:57:31.568705Z",
     "shell.execute_reply": "2023-11-21T18:57:31.567491Z"
    },
    "papermill": {
     "duration": 27.02019,
     "end_time": "2023-11-21T18:57:31.571492",
     "exception": false,
     "start_time": "2023-11-21T18:57:04.551302",
     "status": "completed"
    },
    "tags": []
   },
   "outputs": [
    {
     "data": {
      "image/png": "[encoded data removed]",
      "text/plain": [
       "<Figure size 640x480 with 1 Axes>"
      ]
     },
     "metadata": {},
     "output_type": "display_data"
    }
   ],
   "source": [
    "import numpy as np\n",
    "import matplotlib.pyplot as plt\n",
    "from sklearn.model_selection import learning_curve\n",
    "\n",
    "def plot_learning_curve(estimator, X, y, ylim=None, cv=None,\n",
    "                        n_jobs=1, train_sizes=np.linspace(.1, 1.0, 5)):\n",
    "    plt.figure()\n",
    "    plt.title(\"Learning Curve\")\n",
    "    if ylim is not None:\n",
    "        plt.ylim(*ylim)\n",
    "    else :\n",
    "        plt.ylim(0, 1)  # Set y-axis limit to (0, 1)\n",
    "    plt.xlabel(\"Training examples\")\n",
    "    plt.ylabel(\"Score\")\n",
    "    train_sizes, train_scores, test_scores = learning_curve(\n",
    "        estimator, X, y, cv=cv, n_jobs=n_jobs, train_sizes=train_sizes)\n",
    "    train_scores_mean = np.mean(train_scores, axis=1)\n",
    "    train_scores_std = np.std(train_scores, axis=1)\n",
    "    test_scores_mean = np.mean(test_scores, axis=1)\n",
    "    test_scores_std = np.std(test_scores, axis=1)\n",
    "    plt.grid()\n",
    "\n",
    "    plt.fill_between(train_sizes, train_scores_mean - train_scores_std,\n",
    "                     train_scores_mean + train_scores_std, alpha=0.1,\n",
    "                     color=\"r\")\n",
    "    plt.fill_between(train_sizes, test_scores_mean - test_scores_std,\n",
    "                     test_scores_mean + test_scores_std, alpha=0.1, color=\"g\")\n",
    "    plt.plot(train_sizes, train_scores_mean, 'o-', color=\"r\",\n",
    "             label=\"Training score\")\n",
    "    plt.plot(train_sizes, test_scores_mean, 'o-', color=\"g\",\n",
    "             label=\"Cross-validation score\")\n",
    "\n",
    "    plt.legend(loc=\"best\")\n",
    "    \n",
    "    return plt\n",
    "file_path = \"/kaggle/working/data.csv\"\n",
    "valid_path = \"/kaggle/working/valid.csv\"\n",
    "# Read the CSV file\n",
    "data = pd.read_csv(file_path)\n",
    "valid = pd.read_csv(valid_path)\n",
    "label_encoder = LabelEncoder()\n",
    "data['Sentiment'] = label_encoder.fit_transform(data['Sentiment'])\n",
    "valid['Sentiment'] = label_encoder.transform(valid['Sentiment'])  # Use transform for validation\n",
    "classifier = LogisticRegression(random_state=42,C= 0.004412843928309687, max_iter = 758, solver = 'saga')\n",
    "combined_data = pd.concat([data[['Text', 'Sentiment']], valid[['Text', 'Sentiment']]], ignore_index=True)\n",
    "data_tfidf = ngram_vectorizer.fit_transform(combined_data['Text'])\n",
    "data_tfidf = csr_matrix(data_tfidf)\n",
    "classifier.fit(data_tfidf, combined_data['Sentiment'])\n",
    "\n",
    "# Use the defined function to plot the learning curve\n",
    "plot_learning_curve(classifier, data_tfidf, combined_data['Sentiment'], cv=5)\n",
    "plt.show()"
   ]
  },
  {
   "cell_type": "markdown",
   "id": "a9137296",
   "metadata": {
    "papermill": {
     "duration": 0.061064,
     "end_time": "2023-11-21T18:57:31.695279",
     "exception": false,
     "start_time": "2023-11-21T18:57:31.634215",
     "status": "completed"
    },
    "tags": []
   },
   "source": [
    "ROC curve"
   ]
  },
  {
   "cell_type": "code",
   "execution_count": 28,
   "id": "db183f43",
   "metadata": {
    "execution": {
     "iopub.execute_input": "2023-11-21T18:57:31.823622Z",
     "iopub.status.busy": "2023-11-21T18:57:31.823062Z",
     "iopub.status.idle": "2023-11-21T18:57:36.695019Z",
     "shell.execute_reply": "2023-11-21T18:57:36.694042Z"
    },
    "papermill": {
     "duration": 4.939684,
     "end_time": "2023-11-21T18:57:36.697783",
     "exception": false,
     "start_time": "2023-11-21T18:57:31.758099",
     "status": "completed"
    },
    "tags": []
   },
   "outputs": [
    {
     "data": {
      "image/png": "[encoded data removed]",
      "text/plain": [
       "<Figure size 800x600 with 1 Axes>"
      ]
     },
     "metadata": {},
     "output_type": "display_data"
    }
   ],
   "source": [
    "from sklearn.metrics import roc_curve, auc\n",
    "from sklearn.preprocessing import label_binarize\n",
    "\n",
    "# Assuming you have already defined and fitted your classifier\n",
    "file_path = \"/kaggle/working/data.csv\"\n",
    "valid_path = \"/kaggle/working/valid.csv\"\n",
    "data = pd.read_csv(file_path)\n",
    "valid = pd.read_csv(valid_path)\n",
    "\n",
    "label_encoder = LabelEncoder()\n",
    "data['Sentiment'] = label_encoder.fit_transform(data['Sentiment'])\n",
    "valid['Sentiment'] = label_encoder.transform(valid['Sentiment'])  \n",
    "\n",
    "combined_data = pd.concat([data[['Text', 'Sentiment']], valid[['Text', 'Sentiment']]], ignore_index=True)\n",
    "\n",
    "ngram_vectorizer = CountVectorizer(analyzer='word', ngram_range=(1, 2), max_features=5000)\n",
    "data_tfidf = ngram_vectorizer.fit_transform(combined_data['Text'])\n",
    "data_tfidf = csr_matrix(data_tfidf)\n",
    "\n",
    "classifier = LogisticRegression(random_state=42,C= 0.0016049784356762025, max_iter= 724, solver = 'sag')\n",
    "classifier.fit(data_tfidf, combined_data['Sentiment'])\n",
    "\n",
    "# Binarize the labels\n",
    "y_bin = label_binarize(combined_data['Sentiment'], classes=np.unique(combined_data['Sentiment']))\n",
    "\n",
    "# Compute ROC curve and ROC area for each class\n",
    "fpr = dict()\n",
    "tpr = dict()\n",
    "roc_auc = dict()\n",
    "for i in range(len(np.unique(combined_data['Sentiment']))):\n",
    "    fpr[i], tpr[i], _ = roc_curve(y_bin[:, i], classifier.predict_proba(data_tfidf)[:, i])\n",
    "    roc_auc[i] = auc(fpr[i], tpr[i])\n",
    "\n",
    "# Plot ROC curve\n",
    "plt.figure(figsize=(8, 6))\n",
    "for i in range(len(np.unique(combined_data['Sentiment']))):\n",
    "    plt.plot(fpr[i], tpr[i], label=f'Class {i} (AUC = {roc_auc[i]:.2f})')\n",
    "\n",
    "plt.plot([0, 1], [0, 1], color='navy', lw=2, linestyle='--')\n",
    "plt.xlim([0.0, 1.0])\n",
    "plt.ylim([0.0, 1.05])\n",
    "plt.xlabel('False Positive Rate')\n",
    "plt.ylabel('True Positive Rate')\n",
    "plt.title('Receiver Operating Characteristic Curve for Multiclass Classification')\n",
    "plt.legend(loc=\"lower right\")\n",
    "plt.show()\n"
   ]
  },
  {
   "cell_type": "markdown",
   "id": "93b695b3",
   "metadata": {
    "papermill": {
     "duration": 0.064045,
     "end_time": "2023-11-21T18:57:36.824753",
     "exception": false,
     "start_time": "2023-11-21T18:57:36.760708",
     "status": "completed"
    },
    "tags": []
   },
   "source": [
    "Confusion Matrix"
   ]
  },
  {
   "cell_type": "code",
   "execution_count": 29,
   "id": "254bf0f1",
   "metadata": {
    "execution": {
     "iopub.execute_input": "2023-11-21T18:57:36.954825Z",
     "iopub.status.busy": "2023-11-21T18:57:36.954319Z",
     "iopub.status.idle": "2023-11-21T18:57:41.757824Z",
     "shell.execute_reply": "2023-11-21T18:57:41.756598Z"
    },
    "papermill": {
     "duration": 4.87333,
     "end_time": "2023-11-21T18:57:41.761715",
     "exception": false,
     "start_time": "2023-11-21T18:57:36.888385",
     "status": "completed"
    },
    "tags": []
   },
   "outputs": [
    {
     "data": {
      "image/png": "[encoded data removed]",
      "text/plain": [
       "<Figure size 800x600 with 2 Axes>"
      ]
     },
     "metadata": {},
     "output_type": "display_data"
    }
   ],
   "source": [
    "import pandas as pd\n",
    "from sklearn.linear_model import LogisticRegression\n",
    "from sklearn.metrics import accuracy_score, classification_report\n",
    "from sklearn.preprocessing import LabelEncoder\n",
    "from sklearn.feature_extraction.text import CountVectorizer\n",
    "from sklearn.metrics import f1_score\n",
    "from sklearn.metrics import recall_score,precision_score\n",
    "from scipy.sparse import csr_matrix\n",
    "from sklearn.metrics import confusion_matrix\n",
    "import seaborn as sns\n",
    "import matplotlib.pyplot as plt\n",
    "\n",
    "file_path = \"/kaggle/working/data.csv\"\n",
    "valid_path = \"/kaggle/working/valid.csv\"\n",
    "# Read the CSV file\n",
    "data = pd.read_csv(file_path)\n",
    "valid = pd.read_csv(valid_path)\n",
    "label_encoder = LabelEncoder()\n",
    "data['Sentiment'] = label_encoder.fit_transform(data['Sentiment'])\n",
    "valid['Sentiment'] = label_encoder.transform(valid['Sentiment'])  # Use transform for validation\n",
    "ngram_vectorizer = CountVectorizer(analyzer='word', ngram_range=(1, 2),max_features=5000)\n",
    "\n",
    "\n",
    "data_tfidf = ngram_vectorizer.fit_transform( data['Text'] )\n",
    "valid_tfidf = ngram_vectorizer.transform( valid['Text'])  # Use transform for validation\n",
    "data_tfidf = csr_matrix(data_tfidf)\n",
    "valid_tfidf = csr_matrix(valid_tfidf)\n",
    "\n",
    "classifier = LogisticRegression(random_state=42,C= 0.0016049784356762025, max_iter= 724, solver = 'sag')\n",
    "\n",
    "classifier.fit(data_tfidf, data['Sentiment'])\n",
    "y_pred = classifier.predict(valid_tfidf)\n",
    "\n",
    "cm = confusion_matrix(valid['Sentiment'], y_pred)\n",
    "\n",
    "# Display the confusion matrix using seaborn heatmap\n",
    "plt.figure(figsize=(8, 6))\n",
    "sns.heatmap(cm, annot=True, fmt='d', cmap='Blues', xticklabels=label_encoder.classes_, yticklabels=label_encoder.classes_)\n",
    "plt.title('Confusion Matrix')\n",
    "plt.xlabel('Predicted')\n",
    "plt.ylabel('True')\n",
    "plt.show()"
   ]
  },
  {
   "cell_type": "markdown",
   "id": "cd1bfdb5",
   "metadata": {
    "papermill": {
     "duration": 0.064311,
     "end_time": "2023-11-21T18:57:41.890600",
     "exception": false,
     "start_time": "2023-11-21T18:57:41.826289",
     "status": "completed"
    },
    "tags": []
   },
   "source": [
    "Now we will use our model to predict the sentiments of the test set, but first we need to pre proccess the data"
   ]
  },
  {
   "cell_type": "code",
   "execution_count": 30,
   "id": "0b5bc4ef",
   "metadata": {
    "execution": {
     "iopub.execute_input": "2023-11-21T18:57:42.023352Z",
     "iopub.status.busy": "2023-11-21T18:57:42.022832Z",
     "iopub.status.idle": "2023-11-21T18:57:50.720508Z",
     "shell.execute_reply": "2023-11-21T18:57:50.719370Z"
    },
    "papermill": {
     "duration": 8.767869,
     "end_time": "2023-11-21T18:57:50.724095",
     "exception": false,
     "start_time": "2023-11-21T18:57:41.956226",
     "status": "completed"
    },
    "tags": []
   },
   "outputs": [],
   "source": [
    "test_path = '/kaggle/input/ys19-2023-assignment-1/test_set.csv'\n",
    "test = pd.read_csv(test_path)\n",
    "\n",
    "\n",
    "# Load the Greek stopwords list\n",
    "test['Text'] = test['Text'].apply(lambda x: x.lower())\n",
    "greek_stopwords = [\n",
    "    'και', 'το', 'η', 'της', 'του', 'τα', 'σε', 'με', 'για', 'ειναι',\n",
    "    'στο', 'απο', 'που', 'οι', 'την', 'ενα', 'μετα', 'εχει', 'δεν',\n",
    "    'ειναι', 'μια', 'αυτο', 'εναν', 'αλλα', 'ο', 'μη', 'οτι', 'πως',\n",
    "    'απο', 'στην', 'στον', 'τι', 'αυτη', 'των', 'αυτα', 'οταν', 'πολυ',\n",
    "    'μας', 'ειναι', 'πριν', 'οτι', 'μονο', 'αυτος', 'τοτε', 'μεταξυ',\n",
    "    'πολλα', 'οποτε', 'παρα', 'εαν', 'γυρω', 'αυτην', 'εκεινος', 'περισσοτερο',\n",
    "    'προς', 'πολυ', 'τελικα', 'ολοι'\n",
    "]\n",
    "def remove_stopwords(text):\n",
    "    words = text.split()  # Split the text into words\n",
    "    words = [word for word in words if word.lower() not in greek_stopwords]\n",
    "    return ' '.join(words)\n",
    "#test['Text'] = valid['Text'].apply(remove_stopwords)\n",
    "url_pattern = re.compile(r'http[s]?://(?:[a-zA-Z]|[0-9]|[$-_@.&+]|[!*\\\\(\\\\),]|(?:%[0-9a-fA-F][0-9a-fA-F]))+')\n",
    "def remove_urls(text):\n",
    "    if pd.isnull(text):  # Check if the text is NaN\n",
    "        return text\n",
    "    else:\n",
    "        return re.sub(url_pattern, '', text)\n",
    "test['Text'] = test['Text'].apply(remove_urls)\n",
    "test['Text'] = test['Text'].apply(lambda x: re.sub('ό', 'ο', x) if isinstance(x, str) else x)\n",
    "test['Text'] = test['Text'].apply(lambda x: re.sub('έ', 'ε', x)  if isinstance(x, str) else x)\n",
    "test['Text'] = test['Text'].apply(lambda x: re.sub('ί', 'ι', x)  if isinstance(x, str) else x)\n",
    "test['Text'] = test['Text'].apply(lambda x: re.sub('ή', 'η', x)  if isinstance(x, str) else x)\n",
    "test['Text'] = test['Text'].apply(lambda x: re.sub('ύ', 'υ', x)  if isinstance(x, str) else x)\n",
    "test['Text'] = test['Text'].apply(lambda x: re.sub('ώ', 'ω', x)  if isinstance(x, str) else x)\n",
    "test['Text'] = test['Text'].apply(lambda x: re.sub('ά', 'α', x)  if isinstance(x, str) else x)\n",
    "test['Text'] = test['Text'].apply(lambda x: re.sub('ς', 'σ', x)  if isinstance(x, str) else x)\n",
    "\n",
    "alphabet_pattern = re.compile(r'[a-zα-ω\\s]+')\n",
    "def filter_alphabet(text):\n",
    "    if pd.isnull(text) or not isinstance(text, str):\n",
    "        return text\n",
    "    else:\n",
    "        return ' '.join(alphabet_pattern.findall(text))\n",
    "test['Text'] = test['Text'].apply(filter_alphabet)\n",
    "word_pattern = re.compile(r'\\b[a-zα-ω]{2,}\\b')\n",
    "def remove_single_letter_words(text):\n",
    "    if pd.isnull(text) or not isinstance(text, str):\n",
    "        return text\n",
    "    else :\n",
    "        return ' '.join(word_pattern.findall(text))\n",
    "test['Text'] = test['Text'].apply(remove_single_letter_words)\n",
    "from greek_stemmer import stemmer\n",
    "\n",
    "\n",
    "\n",
    "\n",
    "# Apply the stem_greek_text function to the 'tweets' column\n",
    "test['Text'] = test['Text'].apply(stem_greek_text)\n"
   ]
  },
  {
   "cell_type": "code",
   "execution_count": 31,
   "id": "b57bebf7",
   "metadata": {
    "execution": {
     "iopub.execute_input": "2023-11-21T18:57:50.861137Z",
     "iopub.status.busy": "2023-11-21T18:57:50.860644Z",
     "iopub.status.idle": "2023-11-21T18:57:55.807968Z",
     "shell.execute_reply": "2023-11-21T18:57:55.806704Z"
    },
    "papermill": {
     "duration": 5.017903,
     "end_time": "2023-11-21T18:57:55.810694",
     "exception": false,
     "start_time": "2023-11-21T18:57:50.792791",
     "status": "completed"
    },
    "tags": []
   },
   "outputs": [
    {
     "data": {
      "text/html": [
       "<div>\n",
       "<style scoped>\n",
       "    .dataframe tbody tr th:only-of-type {\n",
       "        vertical-align: middle;\n",
       "    }\n",
       "\n",
       "    .dataframe tbody tr th {\n",
       "        vertical-align: top;\n",
       "    }\n",
       "\n",
       "    .dataframe thead th {\n",
       "        text-align: right;\n",
       "    }\n",
       "</style>\n",
       "<table border=\"1\" class=\"dataframe\">\n",
       "  <thead>\n",
       "    <tr style=\"text-align: right;\">\n",
       "      <th></th>\n",
       "      <th>Id</th>\n",
       "      <th>Predicted</th>\n",
       "    </tr>\n",
       "  </thead>\n",
       "  <tbody>\n",
       "    <tr>\n",
       "      <th>0</th>\n",
       "      <td>1</td>\n",
       "      <td>NEUTRAL</td>\n",
       "    </tr>\n",
       "    <tr>\n",
       "      <th>1</th>\n",
       "      <td>2</td>\n",
       "      <td>POSITIVE</td>\n",
       "    </tr>\n",
       "    <tr>\n",
       "      <th>2</th>\n",
       "      <td>3</td>\n",
       "      <td>POSITIVE</td>\n",
       "    </tr>\n",
       "    <tr>\n",
       "      <th>3</th>\n",
       "      <td>4</td>\n",
       "      <td>NEUTRAL</td>\n",
       "    </tr>\n",
       "    <tr>\n",
       "      <th>4</th>\n",
       "      <td>5</td>\n",
       "      <td>POSITIVE</td>\n",
       "    </tr>\n",
       "    <tr>\n",
       "      <th>...</th>\n",
       "      <td>...</td>\n",
       "      <td>...</td>\n",
       "    </tr>\n",
       "    <tr>\n",
       "      <th>10465</th>\n",
       "      <td>10466</td>\n",
       "      <td>NEGATIVE</td>\n",
       "    </tr>\n",
       "    <tr>\n",
       "      <th>10466</th>\n",
       "      <td>10467</td>\n",
       "      <td>NEUTRAL</td>\n",
       "    </tr>\n",
       "    <tr>\n",
       "      <th>10467</th>\n",
       "      <td>10468</td>\n",
       "      <td>NEGATIVE</td>\n",
       "    </tr>\n",
       "    <tr>\n",
       "      <th>10468</th>\n",
       "      <td>10469</td>\n",
       "      <td>POSITIVE</td>\n",
       "    </tr>\n",
       "    <tr>\n",
       "      <th>10469</th>\n",
       "      <td>10470</td>\n",
       "      <td>POSITIVE</td>\n",
       "    </tr>\n",
       "  </tbody>\n",
       "</table>\n",
       "<p>10470 rows × 2 columns</p>\n",
       "</div>"
      ],
      "text/plain": [
       "          Id Predicted\n",
       "0          1   NEUTRAL\n",
       "1          2  POSITIVE\n",
       "2          3  POSITIVE\n",
       "3          4   NEUTRAL\n",
       "4          5  POSITIVE\n",
       "...      ...       ...\n",
       "10465  10466  NEGATIVE\n",
       "10466  10467   NEUTRAL\n",
       "10467  10468  NEGATIVE\n",
       "10468  10469  POSITIVE\n",
       "10469  10470  POSITIVE\n",
       "\n",
       "[10470 rows x 2 columns]"
      ]
     },
     "execution_count": 31,
     "metadata": {},
     "output_type": "execute_result"
    }
   ],
   "source": [
    "from sklearn.linear_model import LogisticRegression\n",
    "from sklearn.preprocessing import LabelEncoder\n",
    "from sklearn.feature_extraction.text import CountVectorizer\n",
    "from scipy.sparse import csr_matrix\n",
    "file_path = \"/kaggle/working/data.csv\"\n",
    "valid_path = \"/kaggle/working/valid.csv\"\n",
    "# Read the CSV file\n",
    "data = pd.read_csv(file_path)\n",
    "valid = pd.read_csv(valid_path)\n",
    "label_encoder = LabelEncoder()\n",
    "data['Sentiment'] = label_encoder.fit_transform(data['Sentiment'])\n",
    "valid['Sentiment'] = label_encoder.transform(valid['Sentiment'])  # Use transform for validation\n",
    "combined_data = pd.concat([data[['Text', 'Sentiment']], valid[['Text', 'Sentiment']]], ignore_index=True)\n",
    "ngram_vectorizer = CountVectorizer(analyzer='word', ngram_range=(1, 2),max_features=5000)\n",
    "data_tfidf = ngram_vectorizer.fit_transform(combined_data['Text'] )\n",
    "data_tfidf = csr_matrix(data_tfidf)\n",
    "classifier = LogisticRegression(random_state=42,C= 0.0016049784356762025, max_iter= 724, solver = 'sag')\n",
    "classifier.fit(data_tfidf, combined_data['Sentiment'])\n",
    "\n",
    "# Load the test data\n",
    "test_tfidf = ngram_vectorizer.transform(test['Text'].fillna(''))\n",
    "test_tfidf = csr_matrix(test_tfidf)\n",
    "# Transform the test data using the same vectorizer\n",
    "\n",
    "\n",
    "# Predict sentiment for the test set\n",
    "y_pred = classifier.predict(test_tfidf)\n",
    "\n",
    "# Map numerical predictions to labels\n",
    "sentiment_mapping = {0: 'NEGATIVE', 1: 'NEUTRAL', 2: 'POSITIVE'}\n",
    "y_pred_labels = [sentiment_mapping[pred] for pred in y_pred]\n",
    "\n",
    "# Create a DataFrame with 'id' and predicted 'Sentiment'\n",
    "result_df = pd.DataFrame({ 'Id' : test['New_ID'],'Predicted': y_pred_labels})\n",
    "result_df\n"
   ]
  },
  {
   "cell_type": "code",
   "execution_count": 32,
   "id": "0282fa33",
   "metadata": {
    "execution": {
     "iopub.execute_input": "2023-11-21T18:57:55.942784Z",
     "iopub.status.busy": "2023-11-21T18:57:55.942259Z",
     "iopub.status.idle": "2023-11-21T18:57:55.975945Z",
     "shell.execute_reply": "2023-11-21T18:57:55.974985Z"
    },
    "papermill": {
     "duration": 0.103182,
     "end_time": "2023-11-21T18:57:55.978849",
     "exception": false,
     "start_time": "2023-11-21T18:57:55.875667",
     "status": "completed"
    },
    "tags": []
   },
   "outputs": [],
   "source": [
    "result_df.to_csv(\"submission.csv\", index=False)"
   ]
  },
  {
   "cell_type": "markdown",
   "id": "10fb24ca",
   "metadata": {
    "papermill": {
     "duration": 0.064645,
     "end_time": "2023-11-21T18:57:56.108788",
     "exception": false,
     "start_time": "2023-11-21T18:57:56.044143",
     "status": "completed"
    },
    "tags": []
   },
   "source": [
    "That was it, the result is submission.csv. Thank you!"
   ]
  }
 ],
 "metadata": {
  "kaggle": {
   "accelerator": "none",
   "dataSources": [
    {
     "databundleVersionId": 6886092,
     "sourceId": 62857,
     "sourceType": "competition"
    }
   ],
   "dockerImageVersionId": 30587,
   "isGpuEnabled": false,
   "isInternetEnabled": true,
   "language": "python",
   "sourceType": "notebook"
  },
  "kernelspec": {
   "display_name": "Python 3",
   "language": "python",
   "name": "python3"
  },
  "language_info": {
   "codemirror_mode": {
    "name": "ipython",
    "version": 3
   },
   "file_extension": ".py",
   "mimetype": "text/x-python",
   "name": "python",
   "nbconvert_exporter": "python",
   "pygments_lexer": "ipython3",
   "version": "3.10.12"
  },
  "papermill": {
   "default_parameters": {},
   "duration": 1138.188471,
   "end_time": "2023-11-21T18:57:57.803603",
   "environment_variables": {},
   "exception": null,
   "input_path": "__notebook__.ipynb",
   "output_path": "__notebook__.ipynb",
   "parameters": {},
   "start_time": "2023-11-21T18:38:59.615132",
   "version": "2.4.0"
  }
 },
 "nbformat": 4,
 "nbformat_minor": 5
}
