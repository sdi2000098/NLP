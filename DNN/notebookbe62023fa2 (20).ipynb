{
 "cells": [
  {
   "cell_type": "markdown",
   "id": "bef5f067",
   "metadata": {
    "papermill": {
     "duration": 0.039994,
     "end_time": "2023-12-22T12:28:58.952711",
     "exception": false,
     "start_time": "2023-12-22T12:28:58.912717",
     "status": "completed"
    },
    "tags": []
   },
   "source": [
    "First of all, we import all the necessary libraries"
   ]
  },
  {
   "cell_type": "code",
   "execution_count": 1,
   "id": "4d2c6132",
   "metadata": {
    "execution": {
     "iopub.execute_input": "2023-12-22T12:28:59.033308Z",
     "iopub.status.busy": "2023-12-22T12:28:59.032901Z",
     "iopub.status.idle": "2023-12-22T12:30:18.069098Z",
     "shell.execute_reply": "2023-12-22T12:30:18.068018Z"
    },
    "papermill": {
     "duration": 79.080418,
     "end_time": "2023-12-22T12:30:18.073108",
     "exception": false,
     "start_time": "2023-12-22T12:28:58.992690",
     "status": "completed"
    },
    "tags": []
   },
   "outputs": [
    {
     "name": "stdout",
     "output_type": "stream",
     "text": [
      "Collecting greek-stemmer-pos\r\n",
      "  Downloading greek_stemmer_pos-1.1.2-py3-none-any.whl (19 kB)\r\n",
      "Requirement already satisfied: pytest in /opt/conda/lib/python3.10/site-packages (from greek-stemmer-pos) (7.4.3)\r\n",
      "Collecting pytest-cov (from greek-stemmer-pos)\r\n",
      "  Obtaining dependency information for pytest-cov from https://files.pythonhosted.org/packages/a7/4b/8b78d126e275efa2379b1c2e09dc52cf70df16fc3b90613ef82531499d73/pytest_cov-4.1.0-py3-none-any.whl.metadata\r\n",
      "  Downloading pytest_cov-4.1.0-py3-none-any.whl.metadata (26 kB)\r\n",
      "Requirement already satisfied: iniconfig in /opt/conda/lib/python3.10/site-packages (from pytest->greek-stemmer-pos) (2.0.0)\r\n",
      "Requirement already satisfied: packaging in /opt/conda/lib/python3.10/site-packages (from pytest->greek-stemmer-pos) (21.3)\r\n",
      "Requirement already satisfied: pluggy<2.0,>=0.12 in /opt/conda/lib/python3.10/site-packages (from pytest->greek-stemmer-pos) (1.2.0)\r\n",
      "Requirement already satisfied: exceptiongroup>=1.0.0rc8 in /opt/conda/lib/python3.10/site-packages (from pytest->greek-stemmer-pos) (1.1.3)\r\n",
      "Requirement already satisfied: tomli>=1.0.0 in /opt/conda/lib/python3.10/site-packages (from pytest->greek-stemmer-pos) (2.0.1)\r\n",
      "Collecting coverage[toml]>=5.2.1 (from pytest-cov->greek-stemmer-pos)\r\n",
      "  Obtaining dependency information for coverage[toml]>=5.2.1 from https://files.pythonhosted.org/packages/94/1b/bd597a07755b233822760c9998d603218ca4b3151b6d5048e9fd0a5bf572/coverage-7.3.4-cp310-cp310-manylinux_2_5_x86_64.manylinux1_x86_64.manylinux_2_17_x86_64.manylinux2014_x86_64.whl.metadata\r\n",
      "  Downloading coverage-7.3.4-cp310-cp310-manylinux_2_5_x86_64.manylinux1_x86_64.manylinux_2_17_x86_64.manylinux2014_x86_64.whl.metadata (8.1 kB)\r\n",
      "Requirement already satisfied: pyparsing!=3.0.5,>=2.0.2 in /opt/conda/lib/python3.10/site-packages (from packaging->pytest->greek-stemmer-pos) (3.0.9)\r\n",
      "Downloading pytest_cov-4.1.0-py3-none-any.whl (21 kB)\r\n",
      "Downloading coverage-7.3.4-cp310-cp310-manylinux_2_5_x86_64.manylinux1_x86_64.manylinux_2_17_x86_64.manylinux2014_x86_64.whl (228 kB)\r\n",
      "\u001b[2K   \u001b[90m━━━━━━━━━━━━━━━━━━━━━━━━━━━━━━━━━━━━━━━━\u001b[0m \u001b[32m228.4/228.4 kB\u001b[0m \u001b[31m10.8 MB/s\u001b[0m eta \u001b[36m0:00:00\u001b[0m\r\n",
      "\u001b[?25hInstalling collected packages: coverage, pytest-cov, greek-stemmer-pos\r\n",
      "Successfully installed coverage-7.3.4 greek-stemmer-pos-1.1.2 pytest-cov-4.1.0\r\n",
      "Requirement already satisfied: smart_open in /opt/conda/lib/python3.10/site-packages (6.3.0)\r\n",
      "Collecting smart_open\r\n",
      "  Obtaining dependency information for smart_open from https://files.pythonhosted.org/packages/fc/d9/d97f1db64b09278aba64e8c81b5d322d436132df5741c518f3823824fae0/smart_open-6.4.0-py3-none-any.whl.metadata\r\n",
      "  Downloading smart_open-6.4.0-py3-none-any.whl.metadata (21 kB)\r\n",
      "Requirement already satisfied: gensim in /opt/conda/lib/python3.10/site-packages (4.3.2)\r\n",
      "Requirement already satisfied: nltk in /opt/conda/lib/python3.10/site-packages (3.2.4)\r\n",
      "Collecting nltk\r\n",
      "  Downloading nltk-3.8.1-py3-none-any.whl (1.5 MB)\r\n",
      "\u001b[2K     \u001b[90m━━━━━━━━━━━━━━━━━━━━━━━━━━━━━━━━━━━━━━━━\u001b[0m \u001b[32m1.5/1.5 MB\u001b[0m \u001b[31m42.0 MB/s\u001b[0m eta \u001b[36m0:00:00\u001b[0m\r\n",
      "\u001b[?25hRequirement already satisfied: numpy>=1.18.5 in /opt/conda/lib/python3.10/site-packages (from gensim) (1.24.3)\r\n",
      "Requirement already satisfied: scipy>=1.7.0 in /opt/conda/lib/python3.10/site-packages (from gensim) (1.11.3)\r\n",
      "Requirement already satisfied: click in /opt/conda/lib/python3.10/site-packages (from nltk) (8.1.7)\r\n",
      "Requirement already satisfied: joblib in /opt/conda/lib/python3.10/site-packages (from nltk) (1.3.2)\r\n",
      "Requirement already satisfied: regex>=2021.8.3 in /opt/conda/lib/python3.10/site-packages (from nltk) (2023.8.8)\r\n",
      "Requirement already satisfied: tqdm in /opt/conda/lib/python3.10/site-packages (from nltk) (4.66.1)\r\n",
      "Downloading smart_open-6.4.0-py3-none-any.whl (57 kB)\r\n",
      "\u001b[2K   \u001b[90m━━━━━━━━━━━━━━━━━━━━━━━━━━━━━━━━━━━━━━━━\u001b[0m \u001b[32m57.0/57.0 kB\u001b[0m \u001b[31m5.6 MB/s\u001b[0m eta \u001b[36m0:00:00\u001b[0m\r\n",
      "\u001b[?25hInstalling collected packages: smart_open, nltk\r\n",
      "  Attempting uninstall: smart_open\r\n",
      "    Found existing installation: smart-open 6.3.0\r\n",
      "    Uninstalling smart-open-6.3.0:\r\n",
      "      Successfully uninstalled smart-open-6.3.0\r\n",
      "  Attempting uninstall: nltk\r\n",
      "    Found existing installation: nltk 3.2.4\r\n",
      "    Uninstalling nltk-3.2.4:\r\n",
      "      Successfully uninstalled nltk-3.2.4\r\n",
      "\u001b[31mERROR: pip's dependency resolver does not currently take into account all the packages that are installed. This behaviour is the source of the following dependency conflicts.\r\n",
      "preprocessing 0.1.13 requires nltk==3.2.4, but you have nltk 3.8.1 which is incompatible.\u001b[0m\u001b[31m\r\n",
      "\u001b[0mSuccessfully installed nltk-3.8.1 smart_open-6.4.0\r\n",
      "Requirement already satisfied: preprocessing in /opt/conda/lib/python3.10/site-packages (0.1.13)\r\n",
      "Collecting nltk==3.2.4 (from preprocessing)\r\n",
      "  Downloading nltk-3.2.4.tar.gz (1.2 MB)\r\n",
      "\u001b[2K     \u001b[90m━━━━━━━━━━━━━━━━━━━━━━━━━━━━━━━━━━━━━━━━\u001b[0m \u001b[32m1.2/1.2 MB\u001b[0m \u001b[31m29.2 MB/s\u001b[0m eta \u001b[36m0:00:00\u001b[0m\r\n",
      "\u001b[?25h  Preparing metadata (setup.py) ... \u001b[?25l-\b \bdone\r\n",
      "\u001b[?25hRequirement already satisfied: sphinx-rtd-theme==0.2.4 in /opt/conda/lib/python3.10/site-packages (from preprocessing) (0.2.4)\r\n",
      "Requirement already satisfied: six in /opt/conda/lib/python3.10/site-packages (from nltk==3.2.4->preprocessing) (1.16.0)\r\n",
      "Building wheels for collected packages: nltk\r\n",
      "  Building wheel for nltk (setup.py) ... \u001b[?25l-\b \b\\\b \bdone\r\n",
      "\u001b[?25h  Created wheel for nltk: filename=nltk-3.2.4-py3-none-any.whl size=1367708 sha256=9674d3f8c8c335b90aedf9d48ea4c8c6e11a9bb04bff4580bb234be4abc6bdc5\r\n",
      "  Stored in directory: /root/.cache/pip/wheels/0e/8c/42/bcd0934b61ecf4cef964ccc9881888cca0841ec72266e99de1\r\n",
      "Successfully built nltk\r\n",
      "Installing collected packages: nltk\r\n",
      "  Attempting uninstall: nltk\r\n",
      "    Found existing installation: nltk 3.8.1\r\n",
      "    Uninstalling nltk-3.8.1:\r\n",
      "      Successfully uninstalled nltk-3.8.1\r\n",
      "Successfully installed nltk-3.2.4\r\n",
      "Requirement already satisfied: torch in /opt/conda/lib/python3.10/site-packages (2.0.0+cpu)\r\n",
      "Requirement already satisfied: numpy in /opt/conda/lib/python3.10/site-packages (1.24.3)\r\n",
      "Requirement already satisfied: filelock in /opt/conda/lib/python3.10/site-packages (from torch) (3.12.2)\r\n",
      "Requirement already satisfied: typing-extensions in /opt/conda/lib/python3.10/site-packages (from torch) (4.5.0)\r\n",
      "Requirement already satisfied: sympy in /opt/conda/lib/python3.10/site-packages (from torch) (1.12)\r\n",
      "Requirement already satisfied: networkx in /opt/conda/lib/python3.10/site-packages (from torch) (3.1)\r\n",
      "Requirement already satisfied: jinja2 in /opt/conda/lib/python3.10/site-packages (from torch) (3.1.2)\r\n",
      "Requirement already satisfied: MarkupSafe>=2.0 in /opt/conda/lib/python3.10/site-packages (from jinja2->torch) (2.1.3)\r\n",
      "Requirement already satisfied: mpmath>=0.19 in /opt/conda/lib/python3.10/site-packages (from sympy->torch) (1.3.0)\r\n",
      "Requirement already satisfied: gensim in /opt/conda/lib/python3.10/site-packages (4.3.2)\r\n",
      "Requirement already satisfied: numpy>=1.18.5 in /opt/conda/lib/python3.10/site-packages (from gensim) (1.24.3)\r\n",
      "Requirement already satisfied: scipy>=1.7.0 in /opt/conda/lib/python3.10/site-packages (from gensim) (1.11.3)\r\n",
      "Requirement already satisfied: smart-open>=1.8.1 in /opt/conda/lib/python3.10/site-packages (from gensim) (6.4.0)\r\n"
     ]
    }
   ],
   "source": [
    "!pip install greek-stemmer-pos\n",
    "!pip install --upgrade smart_open gensim nltk\n",
    "!pip install --upgrade preprocessing\n",
    "!pip install torch numpy\n",
    "!pip install gensim\n"
   ]
  },
  {
   "cell_type": "code",
   "execution_count": 2,
   "id": "bf4b8b74",
   "metadata": {
    "execution": {
     "iopub.execute_input": "2023-12-22T12:30:18.218974Z",
     "iopub.status.busy": "2023-12-22T12:30:18.218526Z",
     "iopub.status.idle": "2023-12-22T12:30:31.978759Z",
     "shell.execute_reply": "2023-12-22T12:30:31.977707Z"
    },
    "papermill": {
     "duration": 13.86618,
     "end_time": "2023-12-22T12:30:31.982155",
     "exception": false,
     "start_time": "2023-12-22T12:30:18.115975",
     "status": "completed"
    },
    "tags": []
   },
   "outputs": [
    {
     "name": "stdout",
     "output_type": "stream",
     "text": [
      "Requirement already satisfied: pandas in /opt/conda/lib/python3.10/site-packages (2.0.3)\r\n",
      "Requirement already satisfied: python-dateutil>=2.8.2 in /opt/conda/lib/python3.10/site-packages (from pandas) (2.8.2)\r\n",
      "Requirement already satisfied: pytz>=2020.1 in /opt/conda/lib/python3.10/site-packages (from pandas) (2023.3)\r\n",
      "Requirement already satisfied: tzdata>=2022.1 in /opt/conda/lib/python3.10/site-packages (from pandas) (2023.3)\r\n",
      "Requirement already satisfied: numpy>=1.21.0 in /opt/conda/lib/python3.10/site-packages (from pandas) (1.24.3)\r\n",
      "Requirement already satisfied: six>=1.5 in /opt/conda/lib/python3.10/site-packages (from python-dateutil>=2.8.2->pandas) (1.16.0)\r\n"
     ]
    }
   ],
   "source": [
    "!pip install pandas"
   ]
  },
  {
   "cell_type": "code",
   "execution_count": 3,
   "id": "e066194b",
   "metadata": {
    "execution": {
     "iopub.execute_input": "2023-12-22T12:30:32.079735Z",
     "iopub.status.busy": "2023-12-22T12:30:32.079311Z",
     "iopub.status.idle": "2023-12-22T12:31:20.750041Z",
     "shell.execute_reply": "2023-12-22T12:31:20.749039Z"
    },
    "papermill": {
     "duration": 48.719627,
     "end_time": "2023-12-22T12:31:20.752851",
     "exception": false,
     "start_time": "2023-12-22T12:30:32.033224",
     "status": "completed"
    },
    "tags": []
   },
   "outputs": [
    {
     "name": "stdout",
     "output_type": "stream",
     "text": [
      "Requirement already satisfied: urllib3 in /opt/conda/lib/python3.10/site-packages (1.26.15)\r\n",
      "Requirement already satisfied: Jinja2 in /opt/conda/lib/python3.10/site-packages (3.1.2)\r\n",
      "Requirement already satisfied: MarkupSafe>=2.0 in /opt/conda/lib/python3.10/site-packages (from Jinja2) (2.1.3)\r\n",
      "Collecting numpy==1.23.0\r\n",
      "  Downloading numpy-1.23.0-cp310-cp310-manylinux_2_17_x86_64.manylinux2014_x86_64.whl (17.0 MB)\r\n",
      "\u001b[2K     \u001b[90m━━━━━━━━━━━━━━━━━━━━━━━━━━━━━━━━━━━━━━━━\u001b[0m \u001b[32m17.0/17.0 MB\u001b[0m \u001b[31m47.3 MB/s\u001b[0m eta \u001b[36m0:00:00\u001b[0m\r\n",
      "\u001b[?25hInstalling collected packages: numpy\r\n",
      "  Attempting uninstall: numpy\r\n",
      "    Found existing installation: numpy 1.24.3\r\n",
      "    Uninstalling numpy-1.24.3:\r\n",
      "      Successfully uninstalled numpy-1.24.3\r\n",
      "\u001b[31mERROR: pip's dependency resolver does not currently take into account all the packages that are installed. This behaviour is the source of the following dependency conflicts.\r\n",
      "apache-beam 2.46.0 requires dill<0.3.2,>=0.3.1.1, but you have dill 0.3.7 which is incompatible.\r\n",
      "apache-beam 2.46.0 requires pyarrow<10.0.0,>=3.0.0, but you have pyarrow 14.0.1 which is incompatible.\r\n",
      "chex 0.1.84 requires numpy>=1.24.1, but you have numpy 1.23.0 which is incompatible.\r\n",
      "libpysal 4.9.2 requires packaging>=22, but you have packaging 21.3 which is incompatible.\r\n",
      "libpysal 4.9.2 requires shapely>=2.0.1, but you have shapely 1.8.5.post1 which is incompatible.\r\n",
      "momepy 0.6.0 requires shapely>=2, but you have shapely 1.8.5.post1 which is incompatible.\r\n",
      "pymc3 3.11.5 requires numpy<1.22.2,>=1.15.0, but you have numpy 1.23.0 which is incompatible.\r\n",
      "pymc3 3.11.5 requires scipy<1.8.0,>=1.7.3, but you have scipy 1.11.3 which is incompatible.\r\n",
      "tensorflowjs 4.13.0 requires packaging~=23.1, but you have packaging 21.3 which is incompatible.\u001b[0m\u001b[31m\r\n",
      "\u001b[0mSuccessfully installed numpy-1.23.0\r\n"
     ]
    }
   ],
   "source": [
    "!pip install urllib3\n",
    "!pip install -U Jinja2\n",
    "!pip install numpy==1.23.0"
   ]
  },
  {
   "cell_type": "code",
   "execution_count": 4,
   "id": "ece98b00",
   "metadata": {
    "execution": {
     "iopub.execute_input": "2023-12-22T12:31:20.844658Z",
     "iopub.status.busy": "2023-12-22T12:31:20.844194Z",
     "iopub.status.idle": "2023-12-22T12:31:22.130086Z",
     "shell.execute_reply": "2023-12-22T12:31:22.129090Z"
    },
    "papermill": {
     "duration": 1.335435,
     "end_time": "2023-12-22T12:31:22.132744",
     "exception": false,
     "start_time": "2023-12-22T12:31:20.797309",
     "status": "completed"
    },
    "tags": []
   },
   "outputs": [],
   "source": [
    "import pandas as pd\n",
    "\n",
    "\n",
    "file_path = \"/kaggle/input/ys19-2023-assignment-2/train_set.csv\"\n",
    "valid_path = \"/kaggle/input/ys19-2023-assignment-2/valid_set.csv\"\n",
    "\n",
    "# Read the CSV files\n",
    "data = pd.read_csv(file_path)\n",
    "valid = pd.read_csv(valid_path)"
   ]
  },
  {
   "cell_type": "code",
   "execution_count": 5,
   "id": "fd308c62",
   "metadata": {
    "execution": {
     "iopub.execute_input": "2023-12-22T12:31:22.223888Z",
     "iopub.status.busy": "2023-12-22T12:31:22.223479Z",
     "iopub.status.idle": "2023-12-22T12:31:22.309485Z",
     "shell.execute_reply": "2023-12-22T12:31:22.308295Z"
    },
    "papermill": {
     "duration": 0.134735,
     "end_time": "2023-12-22T12:31:22.312087",
     "exception": false,
     "start_time": "2023-12-22T12:31:22.177352",
     "status": "completed"
    },
    "tags": []
   },
   "outputs": [
    {
     "name": "stdout",
     "output_type": "stream",
     "text": [
      "  Sentiment  hashtag_count\n",
      "0  NEGATIVE          10962\n",
      "1   NEUTRAL          12102\n",
      "2  POSITIVE          11319\n"
     ]
    }
   ],
   "source": [
    "data['hashtag_count'] = data['Text'].str.count('#')\n",
    "result = data.groupby('Sentiment')['hashtag_count'].sum().reset_index()\n",
    "print(result)\n"
   ]
  },
  {
   "cell_type": "code",
   "execution_count": 6,
   "id": "4543ca6c",
   "metadata": {
    "execution": {
     "iopub.execute_input": "2023-12-22T12:31:22.403169Z",
     "iopub.status.busy": "2023-12-22T12:31:22.402749Z",
     "iopub.status.idle": "2023-12-22T12:31:22.475405Z",
     "shell.execute_reply": "2023-12-22T12:31:22.474383Z"
    },
    "papermill": {
     "duration": 0.1211,
     "end_time": "2023-12-22T12:31:22.477887",
     "exception": false,
     "start_time": "2023-12-22T12:31:22.356787",
     "status": "completed"
    },
    "tags": []
   },
   "outputs": [
    {
     "name": "stdout",
     "output_type": "stream",
     "text": [
      "  Sentiment  hashtag_count\n",
      "0  NEGATIVE           6535\n",
      "1   NEUTRAL           5577\n",
      "2  POSITIVE           5760\n"
     ]
    }
   ],
   "source": [
    "data['hashtag_count'] = data['Text'].str.count('@')\n",
    "result = data.groupby('Sentiment')['hashtag_count'].sum().reset_index()\n",
    "print(result)\n",
    "data = data.drop('hashtag_count',axis=1)"
   ]
  },
  {
   "cell_type": "markdown",
   "id": "dbd0ca48",
   "metadata": {
    "papermill": {
     "duration": 0.045663,
     "end_time": "2023-12-22T12:31:22.568970",
     "exception": false,
     "start_time": "2023-12-22T12:31:22.523307",
     "status": "completed"
    },
    "tags": []
   },
   "source": [
    "First we will do all the preprocessing that we did in the first assginement, but this time we wont remove special characters, I think the results might be better"
   ]
  },
  {
   "cell_type": "code",
   "execution_count": 7,
   "id": "1b849b05",
   "metadata": {
    "execution": {
     "iopub.execute_input": "2023-12-22T12:31:22.661663Z",
     "iopub.status.busy": "2023-12-22T12:31:22.661103Z",
     "iopub.status.idle": "2023-12-22T12:31:45.767795Z",
     "shell.execute_reply": "2023-12-22T12:31:45.766681Z"
    },
    "papermill": {
     "duration": 23.156549,
     "end_time": "2023-12-22T12:31:45.770757",
     "exception": false,
     "start_time": "2023-12-22T12:31:22.614208",
     "status": "completed"
    },
    "tags": []
   },
   "outputs": [
    {
     "name": "stdout",
     "output_type": "stream",
     "text": [
      "   New_ID                                               Text Sentiment   Party\n",
      "0   35027  #απολυμανση_κοριοι #απεντομωση_κοριοσ #απολυμα...   NEUTRAL  SYRIZA\n",
      "1    9531  εξι νε επιστολ τ μακεδονι «καινε» τ νδ - μητσο...  NEGATIVE      ND\n",
      "2   14146      ισχυρ κκε, δυναμ λα στ βουλ στ καθημεριν αγων  POSITIVE     KKE\n",
      "3   28716  @five2nds @anthi7vas μνημονιακοτατ #μερα25 #εκ...   NEUTRAL     KKE\n",
      "4   32886  @ai_katerina αυτ εινα συγκλονιστικ εινα ψυχασθ...   NEUTRAL  SYRIZA\n",
      "5   12112  @tou_diaolou εχ δικιο, αντι να παιζ εαμ ελλασ,...  NEGATIVE  SYRIZA\n",
      "6   13115                             προκλητικ ολ τσιπρ σκα  POSITIVE  SYRIZA\n",
      "7   21431  @ksyrizohunter θ π \"αλλιωσ\"; μητσοτακ δηλως \"ε...  POSITIVE      ND\n",
      "8   12593  ραπισμ αντετοκουμπ υποκρισι μητσοτακη: εξι χρο...  POSITIVE      ND\n",
      "9   19725  @nikospappas16 @atsipras @kmitsotakis ξερ τους...  POSITIVE      ND\n",
      "   New_ID                                               Text Sentiment  \\\n",
      "0     435  @glinard @teza_tereza @adonisgeorgiadi @atsipr...  POSITIVE   \n",
      "1    3061  τσιπρασ: ζητησαμ απο αντιπολιτευς να συμμετεχ ...  NEGATIVE   \n",
      "2    2161  σωστ ελληνασ, δημοκρατησ, ελλην εξωτερικ ερχετ...  NEGATIVE   \n",
      "3    1271  @30__kai ναι βλεπ αυτ ενδιαφερ τους μητσοτακηδ...  POSITIVE   \n",
      "4    4396  συνεντευξ μητσοτακ alpha: υπο αιρες 13η συνταξ...   NEUTRAL   \n",
      "5    1102  εκλογικ περιπτερ συριζα - προοδευτικ συμμαχι σ...  POSITIVE   \n",
      "6    1567  επιτακτικ αναγκ τ κυβερνης κ. μητσοτακ καθαρς ...  POSITIVE   \n",
      "7    4093  times λονδιν τσιπρα: πως απο λαικιστ σωτηρ εγι...   NEUTRAL   \n",
      "8    3026  @dimi_zaharakis @sspithess παντ να ξερ συστημ ...  NEGATIVE   \n",
      "9    2473  @manosvoularinos εμετικο!!! στ νδ να βλεπ καλ ...  NEGATIVE   \n",
      "\n",
      "      Party  \n",
      "0    SYRIZA  \n",
      "1    SYRIZA  \n",
      "2        ND  \n",
      "3        ND  \n",
      "4        ND  \n",
      "5    SYRIZA  \n",
      "6  ELL_LYSI  \n",
      "7    SYRIZA  \n",
      "8        ND  \n",
      "9        ND  \n"
     ]
    }
   ],
   "source": [
    "import re\n",
    "data['Text'] = data['Text'].apply(lambda x: x.lower())\n",
    "valid['Text'] = valid['Text'].apply(lambda x: x.lower())\n",
    "greek_stopwords = [\n",
    "    'και', 'το', 'η', 'της', 'του', 'τα', 'σε', 'με', 'για', 'ειναι',\n",
    "    'στο', 'απο', 'που', 'οι', 'την', 'ενα', 'μετα', 'εχει', 'δεν',\n",
    "    'ειναι', 'μια', 'αυτο', 'εναν', 'αλλα', 'ο', 'μη', 'οτι', 'πως',\n",
    "    'απο', 'στην', 'στον', 'τι', 'αυτη', 'των', 'αυτα', 'οταν', 'πολυ',\n",
    "    'μας', 'ειναι', 'πριν', 'οτι', 'μονο', 'αυτος', 'τοτε', 'μεταξυ',\n",
    "    'πολλα', 'οποτε', 'παρα', 'εαν', 'γυρω', 'αυτην', 'εκεινος', 'περισσοτερο',\n",
    "    'προς', 'πολυ', 'τελικα', 'ολοι'\n",
    "]\n",
    "def remove_stopwords(text):\n",
    "    words = text.split()  # Split the text into words\n",
    "    words = [word for word in words if word.lower() not in greek_stopwords]\n",
    "    return ' '.join(words)\n",
    "valid['Text'] = valid['Text'].apply(remove_stopwords)\n",
    "data['Text'] = data['Text'].apply(remove_stopwords)\n",
    "url_pattern = re.compile(r'http[s]?://(?:[a-zA-Z]|[0-9]|[$-_@.&+]|[!*\\\\(\\\\),]|(?:%[0-9a-fA-F][0-9a-fA-F]))+')\n",
    "def remove_urls(text):\n",
    "    return re.sub(url_pattern, '', text)\n",
    "valid['Text'] = valid['Text'].apply(remove_urls)\n",
    "data['Text'] = data['Text'].apply(remove_urls)\n",
    "data['Text'] = data['Text'].apply(lambda x: re.sub('ό', 'ο', x))  \n",
    "data['Text'] = data['Text'].apply(lambda x: re.sub('έ', 'ε', x))  \n",
    "data['Text'] = data['Text'].apply(lambda x: re.sub('ί', 'ι', x))  \n",
    "data['Text'] = data['Text'].apply(lambda x: re.sub('ή', 'η', x))  \n",
    "data['Text'] = data['Text'].apply(lambda x: re.sub('ύ', 'υ', x))  \n",
    "data['Text'] = data['Text'].apply(lambda x: re.sub('ώ', 'ω', x))  \n",
    "data['Text'] = data['Text'].apply(lambda x: re.sub('ά', 'α', x))  \n",
    "data['Text'] = data['Text'].apply(lambda x: re.sub('ς', 'σ', x))  \n",
    "\n",
    "valid['Text'] = valid['Text'].apply(lambda x: re.sub('ό', 'ο', x))  \n",
    "valid['Text'] = valid['Text'].apply(lambda x: re.sub('έ', 'ε', x))  \n",
    "valid['Text'] = valid['Text'].apply(lambda x: re.sub('ί', 'ι', x))  \n",
    "valid['Text'] = valid['Text'].apply(lambda x: re.sub('ή', 'η', x))  \n",
    "valid['Text'] = valid['Text'].apply(lambda x: re.sub('ύ', 'υ', x))  \n",
    "valid['Text'] = valid['Text'].apply(lambda x: re.sub('ώ', 'ω', x))  \n",
    "valid['Text'] = valid['Text'].apply(lambda x: re.sub('ά', 'α', x))  \n",
    "valid['Text'] = valid['Text'].apply(lambda x: re.sub('ς', 'σ', x))\n",
    "\n",
    "from greek_stemmer import stemmer\n",
    "\n",
    "# Define a function to perform stemming on the tweets\n",
    "def stem_greek_text(text):\n",
    "    words = text.split()\n",
    "    stemmed_words = [stemmer.stem_word(word,\"NNN\") for word in words]\n",
    "    stemmed_text = ' '.join(stemmed_words)\n",
    "    return stemmed_text\n",
    "\n",
    "\n",
    "# Apply the stem_greek_text function to the 'tweets' column\n",
    "data['Text'] = data['Text'].apply(stem_greek_text)\n",
    "valid['Text'] = valid['Text'].apply(stem_greek_text)\n",
    "data['Text'] = data['Text'].apply(lambda x: x.lower())\n",
    "valid['Text'] = valid['Text'].apply(lambda x: x.lower())\n",
    "print(data.head(10))\n",
    "print(valid.head(10))"
   ]
  },
  {
   "cell_type": "markdown",
   "id": "a5bf6a14",
   "metadata": {
    "papermill": {
     "duration": 0.045082,
     "end_time": "2023-12-22T12:31:45.861237",
     "exception": false,
     "start_time": "2023-12-22T12:31:45.816155",
     "status": "completed"
    },
    "tags": []
   },
   "source": [
    "This was the preproccesing we did for the first assginemnt, in this assignment we will also replace ς with σ, and replace special chracters with the special character and a blank space, so it can be tokenized"
   ]
  },
  {
   "cell_type": "code",
   "execution_count": 8,
   "id": "340b611c",
   "metadata": {
    "execution": {
     "iopub.execute_input": "2023-12-22T12:31:45.953982Z",
     "iopub.status.busy": "2023-12-22T12:31:45.953598Z",
     "iopub.status.idle": "2023-12-22T12:31:46.438492Z",
     "shell.execute_reply": "2023-12-22T12:31:46.437343Z"
    },
    "papermill": {
     "duration": 0.534874,
     "end_time": "2023-12-22T12:31:46.441354",
     "exception": false,
     "start_time": "2023-12-22T12:31:45.906480",
     "status": "completed"
    },
    "tags": []
   },
   "outputs": [
    {
     "name": "stdout",
     "output_type": "stream",
     "text": [
      "   New_ID                                               Text Sentiment   Party\n",
      "0   35027   # απολυμανση _ κοριοι  # απεντομωση _ κοριοσ ...   NEUTRAL  SYRIZA\n",
      "1    9531  εξι νε επιστολ τ μακεδονι  « καινε »  τ νδ  - ...  NEGATIVE      ND\n",
      "2   14146    ισχυρ κκε ,  δυναμ λα στ βουλ στ καθημεριν αγων  POSITIVE     KKE\n",
      "3   28716   @ five2nds  @ anthi7vas μνημονιακοτατ  # μερα...   NEUTRAL     KKE\n",
      "4   32886   @ ai _ katerina αυτ εινα συγκλονιστικ εινα ψυ...   NEUTRAL  SYRIZA\n",
      "5   12112   @ tou _ diaolou εχ δικιο ,  αντι να παιζ εαμ ...  NEGATIVE  SYRIZA\n",
      "6   13115                             προκλητικ ολ τσιπρ σκα  POSITIVE  SYRIZA\n",
      "7   21431   @ ksyrizohunter θ π  \" αλλιωσ \"  ;  μητσοτακ ...  POSITIVE      ND\n",
      "8   12593  ραπισμ αντετοκουμπ υποκρισι μητσοτακη :  εξι χ...  POSITIVE      ND\n",
      "9   19725   @ nikospappas16  @ atsipras  @ kmitsotakis ξε...  POSITIVE      ND\n",
      "   New_ID                                               Text Sentiment  \\\n",
      "0     435   @ glinard  @ teza _ tereza  @ adonisgeorgiadi...  POSITIVE   \n",
      "1    3061  τσιπρασ :  ζητησαμ απο αντιπολιτευσ να συμμετε...  NEGATIVE   \n",
      "2    2161  σωστ ελληνασ ,  δημοκρατησ ,  ελλην εξωτερικ ε...  NEGATIVE   \n",
      "3    1271   @ 30 _  _ kai ναι βλεπ αυτ ενδιαφερ τουσ μητσ...  POSITIVE   \n",
      "4    4396  συνεντευξ μητσοτακ alpha :  υπο αιρεσ 13η συντ...   NEUTRAL   \n",
      "5    1102  εκλογικ περιπτερ συριζα  -  προοδευτικ συμμαχι...  POSITIVE   \n",
      "6    1567  επιτακτικ αναγκ τ κυβερνησ κ .  μητσοτακ καθαρ...  POSITIVE   \n",
      "7    4093  times λονδιν τσιπρα :  πωσ απο λαικιστ σωτηρ ε...   NEUTRAL   \n",
      "8    3026   @ dimi _ zaharakis  @ sspithess παντ να ξερ σ...  NEGATIVE   \n",
      "9    2473   @ manosvoularinos εμετικο !  !  !  στ νδ να β...  NEGATIVE   \n",
      "\n",
      "      Party  \n",
      "0    SYRIZA  \n",
      "1    SYRIZA  \n",
      "2        ND  \n",
      "3        ND  \n",
      "4        ND  \n",
      "5    SYRIZA  \n",
      "6  ELL_LYSI  \n",
      "7    SYRIZA  \n",
      "8        ND  \n",
      "9        ND  \n"
     ]
    }
   ],
   "source": [
    "data['Text'] = data['Text'].str.replace('ς', 'σ')\n",
    "valid['Text'] = valid['Text'].str.replace('ς', 'σ')\n",
    "data['Text'] = data['Text'].apply(lambda x: re.sub(r'[^A-Za-zΑ-Ωα-ω0-9 ]', lambda y: ' ' + y.group(0) + ' ', x))\n",
    "valid['Text'] = valid['Text'].apply(lambda x: re.sub(r'[^A-Za-zΑ-Ωα-ω0-9 ]', lambda y: ' ' + y.group(0) + ' ', x))\n",
    "print(data.head(10))\n",
    "print(valid.head(10))"
   ]
  },
  {
   "cell_type": "markdown",
   "id": "499fe3c3",
   "metadata": {
    "papermill": {
     "duration": 0.045283,
     "end_time": "2023-12-22T12:31:46.532541",
     "exception": false,
     "start_time": "2023-12-22T12:31:46.487258",
     "status": "completed"
    },
    "tags": []
   },
   "source": [
    "After that it owuld be better to remove spaces that are not needed"
   ]
  },
  {
   "cell_type": "code",
   "execution_count": 9,
   "id": "dd726399",
   "metadata": {
    "execution": {
     "iopub.execute_input": "2023-12-22T12:31:46.625394Z",
     "iopub.status.busy": "2023-12-22T12:31:46.625020Z",
     "iopub.status.idle": "2023-12-22T12:31:47.753995Z",
     "shell.execute_reply": "2023-12-22T12:31:47.753238Z"
    },
    "papermill": {
     "duration": 1.178792,
     "end_time": "2023-12-22T12:31:47.756789",
     "exception": false,
     "start_time": "2023-12-22T12:31:46.577997",
     "status": "completed"
    },
    "tags": []
   },
   "outputs": [
    {
     "name": "stdout",
     "output_type": "stream",
     "text": [
      "   New_ID                                               Text Sentiment   Party\n",
      "0   35027   # απολυμανση _ κοριοι # απεντομωση _ κοριοσ #...   NEUTRAL  SYRIZA\n",
      "1    9531  εξι νε επιστολ τ μακεδονι « καινε » τ νδ - μητ...  NEGATIVE      ND\n",
      "2   14146     ισχυρ κκε , δυναμ λα στ βουλ στ καθημεριν αγων  POSITIVE     KKE\n",
      "3   28716   @ five2nds @ anthi7vas μνημονιακοτατ # μερα25...   NEUTRAL     KKE\n",
      "4   32886   @ ai _ katerina αυτ εινα συγκλονιστικ εινα ψυ...   NEUTRAL  SYRIZA\n",
      "5   12112   @ tou _ diaolou εχ δικιο , αντι να παιζ εαμ ε...  NEGATIVE  SYRIZA\n",
      "6   13115                             προκλητικ ολ τσιπρ σκα  POSITIVE  SYRIZA\n",
      "7   21431   @ ksyrizohunter θ π \" αλλιωσ \" ; μητσοτακ δηλ...  POSITIVE      ND\n",
      "8   12593  ραπισμ αντετοκουμπ υποκρισι μητσοτακη : εξι χρ...  POSITIVE      ND\n",
      "9   19725   @ nikospappas16 @ atsipras @ kmitsotakis ξερ ...  POSITIVE      ND\n",
      "   New_ID                                               Text Sentiment  \\\n",
      "0     435   @ glinard @ teza _ tereza @ adonisgeorgiadi @...  POSITIVE   \n",
      "1    3061  τσιπρασ : ζητησαμ απο αντιπολιτευσ να συμμετεχ...  NEGATIVE   \n",
      "2    2161  σωστ ελληνασ , δημοκρατησ , ελλην εξωτερικ ερχ...  NEGATIVE   \n",
      "3    1271   @ 30 _ _ kai ναι βλεπ αυτ ενδιαφερ τουσ μητσο...  POSITIVE   \n",
      "4    4396  συνεντευξ μητσοτακ alpha : υπο αιρεσ 13η συντα...   NEUTRAL   \n",
      "5    1102  εκλογικ περιπτερ συριζα - προοδευτικ συμμαχι σ...  POSITIVE   \n",
      "6    1567  επιτακτικ αναγκ τ κυβερνησ κ . μητσοτακ καθαρσ...  POSITIVE   \n",
      "7    4093  times λονδιν τσιπρα : πωσ απο λαικιστ σωτηρ εγ...   NEUTRAL   \n",
      "8    3026   @ dimi _ zaharakis @ sspithess παντ να ξερ συ...  NEGATIVE   \n",
      "9    2473   @ manosvoularinos εμετικο ! ! ! στ νδ να βλεπ...  NEGATIVE   \n",
      "\n",
      "      Party  \n",
      "0    SYRIZA  \n",
      "1    SYRIZA  \n",
      "2        ND  \n",
      "3        ND  \n",
      "4        ND  \n",
      "5    SYRIZA  \n",
      "6  ELL_LYSI  \n",
      "7    SYRIZA  \n",
      "8        ND  \n",
      "9        ND  \n"
     ]
    }
   ],
   "source": [
    "data['Text'] = data['Text'].apply(lambda x: re.sub(r'\\s+', ' ', x))\n",
    "valid['Text'] = valid['Text'].apply(lambda x: re.sub(r'\\s+', ' ', x))\n",
    "\n",
    "data.to_csv(\"data.csv\", index=False)\n",
    "valid.to_csv(\"valid.csv\", index=False)\n",
    "print(data.head(10))\n",
    "print(valid.head(10))"
   ]
  },
  {
   "cell_type": "markdown",
   "id": "3a0b5bac",
   "metadata": {
    "papermill": {
     "duration": 0.045662,
     "end_time": "2023-12-22T12:31:47.848437",
     "exception": false,
     "start_time": "2023-12-22T12:31:47.802775",
     "status": "completed"
    },
    "tags": []
   },
   "source": [
    "We also stored as csv our final cleaned data"
   ]
  },
  {
   "cell_type": "markdown",
   "id": "659e6650",
   "metadata": {
    "papermill": {
     "duration": 0.045922,
     "end_time": "2023-12-22T12:31:47.939954",
     "exception": false,
     "start_time": "2023-12-22T12:31:47.894032",
     "status": "completed"
    },
    "tags": []
   },
   "source": [
    "I am going to use optuna to tune the hyperparameters, I will brek the full body of optuna in pieces for better understanding"
   ]
  },
  {
   "cell_type": "markdown",
   "id": "a14cf005",
   "metadata": {
    "papermill": {
     "duration": 0.045087,
     "end_time": "2023-12-22T12:31:48.031869",
     "exception": false,
     "start_time": "2023-12-22T12:31:47.986782",
     "status": "completed"
    },
    "tags": []
   },
   "source": [
    "First we read the clean data"
   ]
  },
  {
   "cell_type": "code",
   "execution_count": 10,
   "id": "e1175837",
   "metadata": {
    "execution": {
     "iopub.execute_input": "2023-12-22T12:31:48.126979Z",
     "iopub.status.busy": "2023-12-22T12:31:48.126371Z",
     "iopub.status.idle": "2023-12-22T12:31:48.374079Z",
     "shell.execute_reply": "2023-12-22T12:31:48.372953Z"
    },
    "papermill": {
     "duration": 0.299186,
     "end_time": "2023-12-22T12:31:48.377355",
     "exception": false,
     "start_time": "2023-12-22T12:31:48.078169",
     "status": "completed"
    },
    "tags": []
   },
   "outputs": [],
   "source": [
    "import pandas as pd\n",
    "valid = pd.read_csv(\"/kaggle/working/valid.csv\")\n",
    "data = pd.read_csv(\"/kaggle/working/data.csv\")\n"
   ]
  },
  {
   "cell_type": "markdown",
   "id": "a2fc9d44",
   "metadata": {
    "papermill": {
     "duration": 0.050828,
     "end_time": "2023-12-22T12:31:48.482290",
     "exception": false,
     "start_time": "2023-12-22T12:31:48.431462",
     "status": "completed"
    },
    "tags": []
   },
   "source": [
    "This is our DataLoader that uses x_train and y_train that will be defined later, the definition of this class remains the same"
   ]
  },
  {
   "cell_type": "code",
   "execution_count": 11,
   "id": "d57a5cdc",
   "metadata": {
    "execution": {
     "iopub.execute_input": "2023-12-22T12:31:48.575514Z",
     "iopub.status.busy": "2023-12-22T12:31:48.574789Z",
     "iopub.status.idle": "2023-12-22T12:31:52.145885Z",
     "shell.execute_reply": "2023-12-22T12:31:52.144815Z"
    },
    "papermill": {
     "duration": 3.620575,
     "end_time": "2023-12-22T12:31:52.148696",
     "exception": false,
     "start_time": "2023-12-22T12:31:48.528121",
     "status": "completed"
    },
    "tags": []
   },
   "outputs": [],
   "source": [
    "import torch\n",
    "from torch.utils.data import Dataset, DataLoader\n",
    "class Data(Dataset):\n",
    "    def __init__(self):\n",
    "        self.x=torch.from_numpy(x_train)\n",
    "        self.y=torch.from_numpy(y_train)\n",
    "        self.len=self.x.shape[0]\n",
    "    def __getitem__(self,index):      \n",
    "        return self.x[index], self.y[index]\n",
    "    def __len__(self):\n",
    "        return self.len"
   ]
  },
  {
   "cell_type": "markdown",
   "id": "d4849561",
   "metadata": {
    "papermill": {
     "duration": 0.045204,
     "end_time": "2023-12-22T12:31:52.239415",
     "exception": false,
     "start_time": "2023-12-22T12:31:52.194211",
     "status": "completed"
    },
    "tags": []
   },
   "source": [
    "This is a simple definition of the NN with just one hidden dimesnion, we will change this and try different approaches later"
   ]
  },
  {
   "cell_type": "code",
   "execution_count": 12,
   "id": "8c6c2f0a",
   "metadata": {
    "execution": {
     "iopub.execute_input": "2023-12-22T12:31:52.333315Z",
     "iopub.status.busy": "2023-12-22T12:31:52.332781Z",
     "iopub.status.idle": "2023-12-22T12:31:52.339669Z",
     "shell.execute_reply": "2023-12-22T12:31:52.338833Z"
    },
    "papermill": {
     "duration": 0.056099,
     "end_time": "2023-12-22T12:31:52.341737",
     "exception": false,
     "start_time": "2023-12-22T12:31:52.285638",
     "status": "completed"
    },
    "tags": []
   },
   "outputs": [],
   "source": [
    "import torch.nn as nn\n",
    "\n",
    "class Net(nn.Module):\n",
    "    def __init__(self,D_in,H,D_out):\n",
    "        super(Net,self).__init__()\n",
    "        self.linear1=nn.Linear(D_in,H)\n",
    "        self.linear2=nn.Linear(H,D_out)\n",
    "\n",
    "        \n",
    "    def forward(self,x):\n",
    "        x=torch.sigmoid(self.linear1(x))  \n",
    "        x=self.linear2(x)\n",
    "        return x"
   ]
  },
  {
   "cell_type": "markdown",
   "id": "3b2a99fd",
   "metadata": {
    "papermill": {
     "duration": 0.045235,
     "end_time": "2023-12-22T12:31:52.432539",
     "exception": false,
     "start_time": "2023-12-22T12:31:52.387304",
     "status": "completed"
    },
    "tags": []
   },
   "source": [
    "Use label encoder to encode Sentiments"
   ]
  },
  {
   "cell_type": "code",
   "execution_count": 13,
   "id": "6a69145b",
   "metadata": {
    "execution": {
     "iopub.execute_input": "2023-12-22T12:31:52.525426Z",
     "iopub.status.busy": "2023-12-22T12:31:52.524718Z",
     "iopub.status.idle": "2023-12-22T12:31:53.769082Z",
     "shell.execute_reply": "2023-12-22T12:31:53.767782Z"
    },
    "papermill": {
     "duration": 1.294278,
     "end_time": "2023-12-22T12:31:53.772114",
     "exception": false,
     "start_time": "2023-12-22T12:31:52.477836",
     "status": "completed"
    },
    "tags": []
   },
   "outputs": [],
   "source": [
    "from sklearn.preprocessing import LabelEncoder\n",
    "label_encoder = LabelEncoder()\n",
    "data['Sentiment'] = label_encoder.fit_transform(data['Sentiment'])\n",
    "valid['Sentiment'] = label_encoder.fit_transform(valid['Sentiment'])"
   ]
  },
  {
   "cell_type": "markdown",
   "id": "3de5393b",
   "metadata": {
    "papermill": {
     "duration": 0.047796,
     "end_time": "2023-12-22T12:31:53.866538",
     "exception": false,
     "start_time": "2023-12-22T12:31:53.818742",
     "status": "completed"
    },
    "tags": []
   },
   "source": [
    "Define the word2vec model, different approaches will be tested afterwards"
   ]
  },
  {
   "cell_type": "code",
   "execution_count": 14,
   "id": "cc44a5a1",
   "metadata": {
    "execution": {
     "iopub.execute_input": "2023-12-22T12:31:53.963626Z",
     "iopub.status.busy": "2023-12-22T12:31:53.963142Z",
     "iopub.status.idle": "2023-12-22T12:32:36.763514Z",
     "shell.execute_reply": "2023-12-22T12:32:36.762286Z"
    },
    "papermill": {
     "duration": 42.852792,
     "end_time": "2023-12-22T12:32:36.766538",
     "exception": false,
     "start_time": "2023-12-22T12:31:53.913746",
     "status": "completed"
    },
    "tags": []
   },
   "outputs": [
    {
     "name": "stdout",
     "output_type": "stream",
     "text": [
      "[nltk_data] Downloading package punkt to /usr/share/nltk_data...\n",
      "[nltk_data]   Package punkt is already up-to-date!\n"
     ]
    }
   ],
   "source": [
    "import nltk\n",
    "from nltk.tokenize import word_tokenize\n",
    "import gensim\n",
    "from gensim.models import Word2Vec\n",
    "input_dim = 100\n",
    "nltk.download('punkt')\n",
    "data['tokenized_text'] = data['Text'].apply(word_tokenize)\n",
    "valid['tokenized_text'] = valid['Text'].apply(word_tokenize)\n",
    "word2vec_model = Word2Vec(sentences=data['tokenized_text'].tolist(), vector_size=input_dim, window=5, min_count=1, workers=4)\n"
   ]
  },
  {
   "cell_type": "markdown",
   "id": "07cf4705",
   "metadata": {
    "papermill": {
     "duration": 0.045386,
     "end_time": "2023-12-22T12:32:36.858098",
     "exception": false,
     "start_time": "2023-12-22T12:32:36.812712",
     "status": "completed"
    },
    "tags": []
   },
   "source": [
    "Since the text of each tweet has not a fixed size we will use the mean embedding to represent each tweet, we will check some different approaches later"
   ]
  },
  {
   "cell_type": "code",
   "execution_count": 15,
   "id": "9c04b911",
   "metadata": {
    "execution": {
     "iopub.execute_input": "2023-12-22T12:32:36.951926Z",
     "iopub.status.busy": "2023-12-22T12:32:36.951219Z",
     "iopub.status.idle": "2023-12-22T12:32:41.139073Z",
     "shell.execute_reply": "2023-12-22T12:32:41.137956Z"
    },
    "papermill": {
     "duration": 4.237266,
     "end_time": "2023-12-22T12:32:41.141530",
     "exception": false,
     "start_time": "2023-12-22T12:32:36.904264",
     "status": "completed"
    },
    "tags": []
   },
   "outputs": [
    {
     "data": {
      "text/html": [
       "<div>\n",
       "<style scoped>\n",
       "    .dataframe tbody tr th:only-of-type {\n",
       "        vertical-align: middle;\n",
       "    }\n",
       "\n",
       "    .dataframe tbody tr th {\n",
       "        vertical-align: top;\n",
       "    }\n",
       "\n",
       "    .dataframe thead th {\n",
       "        text-align: right;\n",
       "    }\n",
       "</style>\n",
       "<table border=\"1\" class=\"dataframe\">\n",
       "  <thead>\n",
       "    <tr style=\"text-align: right;\">\n",
       "      <th></th>\n",
       "      <th>New_ID</th>\n",
       "      <th>Text</th>\n",
       "      <th>Sentiment</th>\n",
       "      <th>Party</th>\n",
       "      <th>tokenized_text</th>\n",
       "      <th>mean_embedding</th>\n",
       "    </tr>\n",
       "  </thead>\n",
       "  <tbody>\n",
       "    <tr>\n",
       "      <th>0</th>\n",
       "      <td>35027</td>\n",
       "      <td># απολυμανση _ κοριοι # απεντομωση _ κοριοσ #...</td>\n",
       "      <td>1</td>\n",
       "      <td>SYRIZA</td>\n",
       "      <td>[#, απολυμανση, _, κοριοι, #, απεντομωση, _, κ...</td>\n",
       "      <td>[-0.2660993, 0.38771376, 0.30157158, 0.6053943...</td>\n",
       "    </tr>\n",
       "    <tr>\n",
       "      <th>1</th>\n",
       "      <td>9531</td>\n",
       "      <td>εξι νε επιστολ τ μακεδονι « καινε » τ νδ - μητ...</td>\n",
       "      <td>0</td>\n",
       "      <td>ND</td>\n",
       "      <td>[εξι, νε, επιστολ, τ, μακεδονι, «, καινε, », τ...</td>\n",
       "      <td>[0.7498901, 0.033539865, -0.08454637, -0.50484...</td>\n",
       "    </tr>\n",
       "    <tr>\n",
       "      <th>2</th>\n",
       "      <td>14146</td>\n",
       "      <td>ισχυρ κκε , δυναμ λα στ βουλ στ καθημεριν αγων</td>\n",
       "      <td>2</td>\n",
       "      <td>KKE</td>\n",
       "      <td>[ισχυρ, κκε, ,, δυναμ, λα, στ, βουλ, στ, καθημ...</td>\n",
       "      <td>[-0.46750936, 1.1662321, 0.20756933, -0.106002...</td>\n",
       "    </tr>\n",
       "    <tr>\n",
       "      <th>3</th>\n",
       "      <td>28716</td>\n",
       "      <td>@ five2nds @ anthi7vas μνημονιακοτατ # μερα25...</td>\n",
       "      <td>1</td>\n",
       "      <td>KKE</td>\n",
       "      <td>[@, five2nds, @, anthi7vas, μνημονιακοτατ, #, ...</td>\n",
       "      <td>[-1.4631376, 0.93277603, 0.116481006, 1.275122...</td>\n",
       "    </tr>\n",
       "    <tr>\n",
       "      <th>4</th>\n",
       "      <td>32886</td>\n",
       "      <td>@ ai _ katerina αυτ εινα συγκλονιστικ εινα ψυ...</td>\n",
       "      <td>1</td>\n",
       "      <td>SYRIZA</td>\n",
       "      <td>[@, ai, _, katerina, αυτ, εινα, συγκλονιστικ, ...</td>\n",
       "      <td>[-0.77877134, 0.043030836, -0.039665487, 0.795...</td>\n",
       "    </tr>\n",
       "  </tbody>\n",
       "</table>\n",
       "</div>"
      ],
      "text/plain": [
       "   New_ID                                               Text  Sentiment  \\\n",
       "0   35027   # απολυμανση _ κοριοι # απεντομωση _ κοριοσ #...          1   \n",
       "1    9531  εξι νε επιστολ τ μακεδονι « καινε » τ νδ - μητ...          0   \n",
       "2   14146     ισχυρ κκε , δυναμ λα στ βουλ στ καθημεριν αγων          2   \n",
       "3   28716   @ five2nds @ anthi7vas μνημονιακοτατ # μερα25...          1   \n",
       "4   32886   @ ai _ katerina αυτ εινα συγκλονιστικ εινα ψυ...          1   \n",
       "\n",
       "    Party                                     tokenized_text  \\\n",
       "0  SYRIZA  [#, απολυμανση, _, κοριοι, #, απεντομωση, _, κ...   \n",
       "1      ND  [εξι, νε, επιστολ, τ, μακεδονι, «, καινε, », τ...   \n",
       "2     KKE  [ισχυρ, κκε, ,, δυναμ, λα, στ, βουλ, στ, καθημ...   \n",
       "3     KKE  [@, five2nds, @, anthi7vas, μνημονιακοτατ, #, ...   \n",
       "4  SYRIZA  [@, ai, _, katerina, αυτ, εινα, συγκλονιστικ, ...   \n",
       "\n",
       "                                      mean_embedding  \n",
       "0  [-0.2660993, 0.38771376, 0.30157158, 0.6053943...  \n",
       "1  [0.7498901, 0.033539865, -0.08454637, -0.50484...  \n",
       "2  [-0.46750936, 1.1662321, 0.20756933, -0.106002...  \n",
       "3  [-1.4631376, 0.93277603, 0.116481006, 1.275122...  \n",
       "4  [-0.77877134, 0.043030836, -0.039665487, 0.795...  "
      ]
     },
     "execution_count": 15,
     "metadata": {},
     "output_type": "execute_result"
    }
   ],
   "source": [
    "import numpy as np\n",
    "data['mean_embedding'] = data['tokenized_text'].apply(lambda tokens: np.mean([word2vec_model.wv[word] for word in tokens if word in word2vec_model.wv], axis=0))\n",
    "data.head()"
   ]
  },
  {
   "cell_type": "markdown",
   "id": "77dd158d",
   "metadata": {
    "papermill": {
     "duration": 0.046174,
     "end_time": "2023-12-22T12:32:41.234276",
     "exception": false,
     "start_time": "2023-12-22T12:32:41.188102",
     "status": "completed"
    },
    "tags": []
   },
   "source": [
    "Same for validation set"
   ]
  },
  {
   "cell_type": "code",
   "execution_count": 16,
   "id": "f5ddd626",
   "metadata": {
    "execution": {
     "iopub.execute_input": "2023-12-22T12:32:41.328396Z",
     "iopub.status.busy": "2023-12-22T12:32:41.327595Z",
     "iopub.status.idle": "2023-12-22T12:32:41.932703Z",
     "shell.execute_reply": "2023-12-22T12:32:41.931513Z"
    },
    "papermill": {
     "duration": 0.655549,
     "end_time": "2023-12-22T12:32:41.935472",
     "exception": false,
     "start_time": "2023-12-22T12:32:41.279923",
     "status": "completed"
    },
    "tags": []
   },
   "outputs": [
    {
     "data": {
      "text/html": [
       "<div>\n",
       "<style scoped>\n",
       "    .dataframe tbody tr th:only-of-type {\n",
       "        vertical-align: middle;\n",
       "    }\n",
       "\n",
       "    .dataframe tbody tr th {\n",
       "        vertical-align: top;\n",
       "    }\n",
       "\n",
       "    .dataframe thead th {\n",
       "        text-align: right;\n",
       "    }\n",
       "</style>\n",
       "<table border=\"1\" class=\"dataframe\">\n",
       "  <thead>\n",
       "    <tr style=\"text-align: right;\">\n",
       "      <th></th>\n",
       "      <th>New_ID</th>\n",
       "      <th>Text</th>\n",
       "      <th>Sentiment</th>\n",
       "      <th>Party</th>\n",
       "      <th>tokenized_text</th>\n",
       "      <th>mean_embedding</th>\n",
       "    </tr>\n",
       "  </thead>\n",
       "  <tbody>\n",
       "    <tr>\n",
       "      <th>0</th>\n",
       "      <td>435</td>\n",
       "      <td>@ glinard @ teza _ tereza @ adonisgeorgiadi @...</td>\n",
       "      <td>2</td>\n",
       "      <td>SYRIZA</td>\n",
       "      <td>[@, glinard, @, teza, _, tereza, @, adonisgeor...</td>\n",
       "      <td>[-0.19958033, 0.30547684, -0.01944047, 0.52729...</td>\n",
       "    </tr>\n",
       "    <tr>\n",
       "      <th>1</th>\n",
       "      <td>3061</td>\n",
       "      <td>τσιπρασ : ζητησαμ απο αντιπολιτευσ να συμμετεχ...</td>\n",
       "      <td>0</td>\n",
       "      <td>SYRIZA</td>\n",
       "      <td>[τσιπρασ, :, ζητησαμ, απο, αντιπολιτευσ, να, σ...</td>\n",
       "      <td>[-0.11728642, 0.4991955, 0.093434975, 0.109933...</td>\n",
       "    </tr>\n",
       "    <tr>\n",
       "      <th>2</th>\n",
       "      <td>2161</td>\n",
       "      <td>σωστ ελληνασ , δημοκρατησ , ελλην εξωτερικ ερχ...</td>\n",
       "      <td>0</td>\n",
       "      <td>ND</td>\n",
       "      <td>[σωστ, ελληνασ, ,, δημοκρατησ, ,, ελλην, εξωτε...</td>\n",
       "      <td>[-0.47808185, 0.42485306, -0.041567665, 0.7423...</td>\n",
       "    </tr>\n",
       "    <tr>\n",
       "      <th>3</th>\n",
       "      <td>1271</td>\n",
       "      <td>@ 30 _ _ kai ναι βλεπ αυτ ενδιαφερ τουσ μητσο...</td>\n",
       "      <td>2</td>\n",
       "      <td>ND</td>\n",
       "      <td>[@, 30, _, _, kai, ναι, βλεπ, αυτ, ενδιαφερ, τ...</td>\n",
       "      <td>[-0.12954354, 0.020736314, 0.0035473264, 0.411...</td>\n",
       "    </tr>\n",
       "    <tr>\n",
       "      <th>4</th>\n",
       "      <td>4396</td>\n",
       "      <td>συνεντευξ μητσοτακ alpha : υπο αιρεσ 13η συντα...</td>\n",
       "      <td>1</td>\n",
       "      <td>ND</td>\n",
       "      <td>[συνεντευξ, μητσοτακ, alpha, :, υπο, αιρεσ, 13...</td>\n",
       "      <td>[0.65131706, -0.08270162, 0.38664216, 0.177338...</td>\n",
       "    </tr>\n",
       "  </tbody>\n",
       "</table>\n",
       "</div>"
      ],
      "text/plain": [
       "   New_ID                                               Text  Sentiment  \\\n",
       "0     435   @ glinard @ teza _ tereza @ adonisgeorgiadi @...          2   \n",
       "1    3061  τσιπρασ : ζητησαμ απο αντιπολιτευσ να συμμετεχ...          0   \n",
       "2    2161  σωστ ελληνασ , δημοκρατησ , ελλην εξωτερικ ερχ...          0   \n",
       "3    1271   @ 30 _ _ kai ναι βλεπ αυτ ενδιαφερ τουσ μητσο...          2   \n",
       "4    4396  συνεντευξ μητσοτακ alpha : υπο αιρεσ 13η συντα...          1   \n",
       "\n",
       "    Party                                     tokenized_text  \\\n",
       "0  SYRIZA  [@, glinard, @, teza, _, tereza, @, adonisgeor...   \n",
       "1  SYRIZA  [τσιπρασ, :, ζητησαμ, απο, αντιπολιτευσ, να, σ...   \n",
       "2      ND  [σωστ, ελληνασ, ,, δημοκρατησ, ,, ελλην, εξωτε...   \n",
       "3      ND  [@, 30, _, _, kai, ναι, βλεπ, αυτ, ενδιαφερ, τ...   \n",
       "4      ND  [συνεντευξ, μητσοτακ, alpha, :, υπο, αιρεσ, 13...   \n",
       "\n",
       "                                      mean_embedding  \n",
       "0  [-0.19958033, 0.30547684, -0.01944047, 0.52729...  \n",
       "1  [-0.11728642, 0.4991955, 0.093434975, 0.109933...  \n",
       "2  [-0.47808185, 0.42485306, -0.041567665, 0.7423...  \n",
       "3  [-0.12954354, 0.020736314, 0.0035473264, 0.411...  \n",
       "4  [0.65131706, -0.08270162, 0.38664216, 0.177338...  "
      ]
     },
     "execution_count": 16,
     "metadata": {},
     "output_type": "execute_result"
    }
   ],
   "source": [
    "valid['mean_embedding'] = valid['tokenized_text'].apply(lambda tokens: np.mean([word2vec_model.wv[word] for word in tokens if word in word2vec_model.wv], axis=0))\n",
    "valid.head()"
   ]
  },
  {
   "cell_type": "markdown",
   "id": "ea4021c4",
   "metadata": {
    "papermill": {
     "duration": 0.046153,
     "end_time": "2023-12-22T12:32:42.028799",
     "exception": false,
     "start_time": "2023-12-22T12:32:41.982646",
     "status": "completed"
    },
    "tags": []
   },
   "source": [
    "This is our train and validation sets, the way they are created remains unchanged"
   ]
  },
  {
   "cell_type": "code",
   "execution_count": 17,
   "id": "504b8f2b",
   "metadata": {
    "execution": {
     "iopub.execute_input": "2023-12-22T12:32:42.122943Z",
     "iopub.status.busy": "2023-12-22T12:32:42.122491Z",
     "iopub.status.idle": "2023-12-22T12:32:42.127455Z",
     "shell.execute_reply": "2023-12-22T12:32:42.126685Z"
    },
    "papermill": {
     "duration": 0.054386,
     "end_time": "2023-12-22T12:32:42.129423",
     "exception": false,
     "start_time": "2023-12-22T12:32:42.075037",
     "status": "completed"
    },
    "tags": []
   },
   "outputs": [],
   "source": [
    "x_train = data['mean_embedding']\n",
    "x_val = valid['mean_embedding']\n",
    "y_val = valid['Sentiment']\n",
    "y_train = data['Sentiment']"
   ]
  },
  {
   "cell_type": "markdown",
   "id": "84e88a59",
   "metadata": {
    "papermill": {
     "duration": 0.047499,
     "end_time": "2023-12-22T12:32:42.223334",
     "exception": false,
     "start_time": "2023-12-22T12:32:42.175835",
     "status": "completed"
    },
    "tags": []
   },
   "source": [
    "Convert to float type "
   ]
  },
  {
   "cell_type": "code",
   "execution_count": 18,
   "id": "7f4bb956",
   "metadata": {
    "execution": {
     "iopub.execute_input": "2023-12-22T12:32:42.319295Z",
     "iopub.status.busy": "2023-12-22T12:32:42.318240Z",
     "iopub.status.idle": "2023-12-22T12:32:42.431414Z",
     "shell.execute_reply": "2023-12-22T12:32:42.430273Z"
    },
    "papermill": {
     "duration": 0.1643,
     "end_time": "2023-12-22T12:32:42.434069",
     "exception": false,
     "start_time": "2023-12-22T12:32:42.269769",
     "status": "completed"
    },
    "tags": []
   },
   "outputs": [
    {
     "name": "stdout",
     "output_type": "stream",
     "text": [
      "float32\n"
     ]
    }
   ],
   "source": [
    "x_train = np.vstack(x_train).astype(np.float32)\n",
    "x_val = np.vstack(x_val).astype(np.float32)\n",
    "\n",
    "# Now x_train_np is a NumPy array with float32 elements\n",
    "print(x_train.dtype)"
   ]
  },
  {
   "cell_type": "code",
   "execution_count": 19,
   "id": "5779b3af",
   "metadata": {
    "execution": {
     "iopub.execute_input": "2023-12-22T12:32:42.529154Z",
     "iopub.status.busy": "2023-12-22T12:32:42.528762Z",
     "iopub.status.idle": "2023-12-22T12:32:42.534360Z",
     "shell.execute_reply": "2023-12-22T12:32:42.533416Z"
    },
    "papermill": {
     "duration": 0.055859,
     "end_time": "2023-12-22T12:32:42.536960",
     "exception": false,
     "start_time": "2023-12-22T12:32:42.481101",
     "status": "completed"
    },
    "tags": []
   },
   "outputs": [
    {
     "name": "stdout",
     "output_type": "stream",
     "text": [
      "[1 0 2 ... 1 0 1]\n"
     ]
    }
   ],
   "source": [
    "y_val = y_val.values\n",
    "y_train = y_train.values\n",
    "print(y_train)"
   ]
  },
  {
   "cell_type": "markdown",
   "id": "0cfc4ffd",
   "metadata": {
    "papermill": {
     "duration": 0.045802,
     "end_time": "2023-12-22T12:32:42.628782",
     "exception": false,
     "start_time": "2023-12-22T12:32:42.582980",
     "status": "completed"
    },
    "tags": []
   },
   "source": [
    "Create the dataset and data loader"
   ]
  },
  {
   "cell_type": "code",
   "execution_count": 20,
   "id": "54f9fbfd",
   "metadata": {
    "execution": {
     "iopub.execute_input": "2023-12-22T12:32:42.723521Z",
     "iopub.status.busy": "2023-12-22T12:32:42.722460Z",
     "iopub.status.idle": "2023-12-22T12:32:42.736661Z",
     "shell.execute_reply": "2023-12-22T12:32:42.735694Z"
    },
    "papermill": {
     "duration": 0.064465,
     "end_time": "2023-12-22T12:32:42.739219",
     "exception": false,
     "start_time": "2023-12-22T12:32:42.674754",
     "status": "completed"
    },
    "tags": []
   },
   "outputs": [],
   "source": [
    "data_set=Data()\n",
    "trainloader=DataLoader(dataset=data_set,batch_size=64)"
   ]
  },
  {
   "cell_type": "markdown",
   "id": "fe32a9cf",
   "metadata": {
    "papermill": {
     "duration": 0.046199,
     "end_time": "2023-12-22T12:32:42.832870",
     "exception": false,
     "start_time": "2023-12-22T12:32:42.786671",
     "status": "completed"
    },
    "tags": []
   },
   "source": [
    "Get an insight of the data, since we are using mean embedding, the values are close to 0"
   ]
  },
  {
   "cell_type": "code",
   "execution_count": 21,
   "id": "a806eefe",
   "metadata": {
    "execution": {
     "iopub.execute_input": "2023-12-22T12:32:42.927832Z",
     "iopub.status.busy": "2023-12-22T12:32:42.927412Z",
     "iopub.status.idle": "2023-12-22T12:32:43.048680Z",
     "shell.execute_reply": "2023-12-22T12:32:43.047642Z"
    },
    "papermill": {
     "duration": 0.172398,
     "end_time": "2023-12-22T12:32:43.051772",
     "exception": false,
     "start_time": "2023-12-22T12:32:42.879374",
     "status": "completed"
    },
    "tags": []
   },
   "outputs": [
    {
     "data": {
      "text/plain": [
       "tensor([[ 7.4989e-01,  3.3540e-02, -8.4546e-02, -5.0484e-01,  7.6754e-02,\n",
       "         -5.5329e-01,  5.1206e-01,  9.0051e-01, -7.2913e-01, -3.2155e-01,\n",
       "         -1.2228e-01, -3.1287e-01,  2.9330e-01,  8.7970e-01,  1.5034e-01,\n",
       "         -7.8413e-01, -7.9681e-02, -5.0368e-01, -1.1225e-01, -1.4270e+00,\n",
       "          7.0529e-01,  3.0117e-01,  8.8501e-01,  3.3277e-01, -2.6973e-01,\n",
       "         -6.6508e-01,  8.4934e-02, -1.1731e-01, -4.6263e-01,  5.2594e-01,\n",
       "          6.7127e-01, -6.5310e-01,  4.8948e-01, -5.2458e-01, -4.8400e-01,\n",
       "          1.2937e+00,  5.0512e-01,  6.5882e-01,  3.4679e-01, -1.5165e+00,\n",
       "          4.6210e-02, -4.6174e-01, -8.0139e-01,  3.8962e-01,  2.8268e-01,\n",
       "          2.4144e-03, -7.6588e-01, -1.1874e-01,  1.0550e+00,  4.7734e-01,\n",
       "         -5.7921e-01, -3.9839e-01,  2.3553e-01,  4.2765e-01,  5.1989e-01,\n",
       "          9.3723e-01, -2.1290e-01, -1.4168e-01, -7.9782e-01, -3.6919e-01,\n",
       "          5.1111e-02, -4.7642e-01,  4.2305e-01, -1.9095e-01, -1.4556e+00,\n",
       "          1.0295e+00,  2.2860e-01,  2.5182e-02, -8.2739e-01,  6.6267e-01,\n",
       "          2.6990e-02,  1.1693e+00,  8.1590e-01, -6.2528e-01,  6.2686e-01,\n",
       "          5.3924e-01,  7.0795e-01,  1.0205e-01, -8.5981e-01,  8.7328e-01,\n",
       "         -4.0803e-01,  3.4983e-01, -6.7534e-01,  9.7200e-01, -3.2996e-01,\n",
       "         -6.0096e-01, -1.0168e-01,  9.2495e-01,  7.0701e-01,  6.8345e-01,\n",
       "          1.6405e+00,  6.5612e-01, -1.3214e-02, -1.9189e-01,  4.2301e-01,\n",
       "         -2.2611e-01, -2.1542e-01, -6.2278e-01,  1.6150e-02, -5.0269e-01],\n",
       "        [-4.6751e-01,  1.1662e+00,  2.0757e-01, -1.0600e-01, -4.7391e-01,\n",
       "         -9.5788e-04, -2.0011e-01,  1.1641e+00, -8.9370e-01,  4.2780e-01,\n",
       "         -6.5966e-01, -4.7453e-01,  1.6210e-01,  6.8939e-01, -1.7112e-01,\n",
       "         -3.7604e-01,  1.8522e-01,  1.5121e-01,  9.6294e-02, -2.8625e+00,\n",
       "         -2.3868e-01,  9.9981e-01,  7.4695e-01, -2.0073e-01,  1.2743e-01,\n",
       "         -6.8950e-01, -6.5846e-01, -1.0425e-01, -2.8111e-01,  9.4160e-02,\n",
       "          7.1222e-01, -3.1113e-01,  4.2684e-01, -2.7814e-01, -3.4964e-01,\n",
       "          9.2263e-01,  3.0572e-01, -3.2655e-01,  6.7590e-01, -2.1733e+00,\n",
       "          1.9548e-01, -3.6275e-01, -3.4860e-01,  6.3443e-01,  1.4370e+00,\n",
       "         -3.7156e-01, -4.8964e-01,  4.6536e-01,  1.0772e+00, -5.2612e-01,\n",
       "         -3.5551e-01,  3.2572e-01,  1.0251e-01,  1.0255e+00, -7.5042e-03,\n",
       "          9.2635e-01, -7.7506e-01, -5.7778e-01, -1.3854e+00, -3.1003e-01,\n",
       "         -2.8687e-02,  2.8326e-01,  1.1518e+00,  6.9937e-01, -1.3111e+00,\n",
       "         -2.5430e-01, -2.3898e-01,  5.6905e-01, -6.4293e-01,  1.4656e+00,\n",
       "         -3.5014e-01,  1.4401e+00,  4.9628e-01, -1.9043e-01,  9.7845e-01,\n",
       "          1.2430e+00,  7.2671e-01,  4.1636e-01, -5.8507e-01, -1.9513e-01,\n",
       "         -3.4408e-01, -1.3581e-01, -7.7129e-01,  1.1254e+00, -8.3117e-01,\n",
       "         -2.2396e-01, -6.2732e-01,  8.7826e-01,  1.1985e+00,  9.3254e-01,\n",
       "          1.0284e+00,  6.2187e-01,  3.1149e-01,  1.1900e-01,  1.7429e+00,\n",
       "         -7.2155e-01, -3.7043e-02, -3.6116e-01,  5.5494e-01,  4.3755e-02],\n",
       "        [-1.4631e+00,  9.3278e-01,  1.1648e-01,  1.2751e+00, -3.1599e-01,\n",
       "         -8.9414e-01,  7.3860e-01,  1.6837e+00, -2.1620e-01, -1.5625e+00,\n",
       "          5.4342e-01, -1.2548e+00, -2.6302e-01,  1.0338e+00, -1.3063e+00,\n",
       "         -4.5960e-01,  1.8630e+00, -3.3732e-01, -4.8390e-01, -2.1971e+00,\n",
       "          1.3781e-01, -4.7729e-01,  1.9055e-01, -1.0263e+00,  1.6300e-01,\n",
       "         -2.6916e-01, -1.6713e+00,  1.5179e-01, -7.3430e-01, -1.0293e+00,\n",
       "          1.1967e-01, -4.1785e-01,  1.1581e+00, -1.4834e+00, -5.5257e-01,\n",
       "         -5.9798e-02,  1.0210e+00,  6.5214e-02, -8.0987e-01, -8.4549e-01,\n",
       "         -1.5024e+00,  5.6311e-01, -1.7481e-01, -6.8370e-01, -4.5139e-01,\n",
       "         -7.6935e-01, -5.1760e-01,  6.4163e-01, -2.1362e-01,  1.1506e+00,\n",
       "          1.1093e-01, -4.6595e-01, -1.3691e+00,  3.8368e-01, -1.9079e-02,\n",
       "         -1.2916e+00,  1.2283e+00, -7.4559e-01, -1.3512e+00,  9.2251e-01,\n",
       "         -3.5100e-01,  3.5204e-01,  1.2860e+00,  1.2219e-01, -6.0037e-01,\n",
       "         -5.2617e-01,  5.2566e-03,  9.6636e-01, -1.9008e+00,  8.9205e-01,\n",
       "          7.0561e-01,  6.9473e-01,  5.6116e-01,  1.0427e+00,  1.7183e+00,\n",
       "          1.1220e-01, -9.9156e-02,  3.1191e-01, -8.2854e-01, -2.7526e-01,\n",
       "          7.9704e-03,  1.9256e-01, -4.2159e-01,  4.9584e-01, -4.7025e-01,\n",
       "         -1.9378e+00,  5.7833e-01,  2.8343e-01, -4.5700e-01,  1.2376e+00,\n",
       "          1.2550e-01,  1.5254e+00,  1.1060e+00,  8.2147e-01,  2.3895e+00,\n",
       "          7.4833e-01, -7.6072e-01,  4.6835e-01,  1.2295e-01,  3.7424e-01],\n",
       "        [-7.7877e-01,  4.3031e-02, -3.9665e-02,  7.9550e-01, -3.9580e-01,\n",
       "         -9.3398e-01,  5.3626e-01,  1.8164e+00, -2.4170e-01, -8.5311e-01,\n",
       "          7.6519e-02, -3.7624e-01, -3.3821e-01,  9.4107e-01, -5.5435e-01,\n",
       "         -1.3383e-01,  1.0210e+00, -3.6405e-01, -5.3481e-01, -9.2672e-01,\n",
       "          1.3458e-01,  2.4079e-01,  9.5707e-01, -2.1717e-01, -4.0907e-01,\n",
       "         -4.2028e-01, -5.3124e-01,  2.4293e-01, -1.4315e-01, -3.1422e-01,\n",
       "          6.3226e-01, -2.2528e-01,  4.9172e-01, -6.4323e-01, -6.0327e-01,\n",
       "          6.0495e-01,  8.7074e-01, -7.5196e-01, -6.3770e-01, -7.0493e-01,\n",
       "         -1.7296e-01,  9.5650e-02, -4.9493e-01, -1.4783e-01,  3.3945e-01,\n",
       "         -9.1063e-02, -8.4833e-01,  5.4764e-02,  7.9170e-02,  3.3208e-01,\n",
       "         -2.8331e-01, -8.6588e-02, -6.4686e-01, -1.3447e-02,  8.1722e-02,\n",
       "         -2.4683e-01,  8.4611e-01, -3.9519e-01, -1.0398e-01,  2.8408e-01,\n",
       "         -5.6518e-02,  8.5673e-01,  7.7233e-01, -2.6269e-01, -9.2642e-01,\n",
       "          1.4260e-01,  1.7411e-01,  9.1432e-01, -1.6132e+00,  2.9856e-01,\n",
       "          2.6216e-02,  6.1600e-01,  6.0496e-01,  2.5532e-01,  8.5116e-01,\n",
       "         -8.5235e-02,  9.5467e-02,  4.2686e-02, -8.7579e-01, -4.7277e-02,\n",
       "          2.8835e-01, -8.3725e-02, -2.5262e-02,  8.3857e-01, -2.7664e-01,\n",
       "         -8.4904e-01,  2.9464e-01,  6.1154e-02, -2.4734e-01,  5.5756e-01,\n",
       "         -1.5507e-01,  5.7966e-01,  6.5818e-01,  7.0231e-02,  1.4990e+00,\n",
       "          3.0720e-01, -1.3060e-01,  2.6999e-01,  3.4710e-01,  3.2191e-01],\n",
       "        [-1.7979e-01,  2.3188e-01, -5.3360e-02,  5.4734e-01,  6.7717e-02,\n",
       "         -5.1283e-01,  4.6679e-01,  1.3397e+00, -9.4601e-01, -6.5228e-01,\n",
       "          1.8044e-01, -5.1284e-01, -1.7565e-01,  7.8872e-01, -1.0320e-01,\n",
       "         -8.7124e-02,  5.1826e-01, -3.7149e-02, -3.5919e-01, -1.2668e+00,\n",
       "          1.1303e-01,  1.6636e-01,  9.2371e-01, -4.3797e-01,  1.5338e-01,\n",
       "         -2.3201e-01, -2.8447e-01,  4.8184e-03, -2.9886e-01,  7.0571e-02,\n",
       "          3.9634e-01, -1.3275e-01,  4.2385e-01, -7.8981e-01, -5.3617e-01,\n",
       "          1.5790e-01,  1.3951e-01, -6.1502e-01,  9.2751e-02, -1.0093e+00,\n",
       "         -1.2714e-01, -3.1119e-01, -3.2677e-01,  4.9519e-02,  5.0206e-01,\n",
       "          1.0653e-01, -4.7622e-01,  1.8260e-01,  2.9865e-01,  1.9275e-01,\n",
       "         -2.6940e-01,  5.6413e-02, -3.2419e-01,  1.2477e-02,  3.8914e-02,\n",
       "         -3.0637e-01,  1.7586e-01, -2.1174e-01, -2.9289e-01,  3.0919e-01,\n",
       "          1.0674e-01,  4.3546e-01,  3.4680e-01, -8.7247e-02, -7.5887e-01,\n",
       "          6.0487e-01,  3.2519e-01,  3.3932e-01, -7.3411e-01,  6.2718e-01,\n",
       "         -1.2909e-01,  5.5445e-01,  3.0210e-01, -1.9134e-01,  6.0724e-01,\n",
       "         -1.2826e-01,  1.7869e-01,  2.6950e-01, -4.5672e-01, -2.8482e-01,\n",
       "          1.0724e-01, -1.3214e-01, -1.4919e-01,  5.1243e-01, -3.2519e-01,\n",
       "         -4.4901e-01,  3.0256e-01, -1.1322e-01,  4.6489e-01,  7.4737e-02,\n",
       "          2.5784e-01,  2.1894e-01,  3.4817e-01,  2.8396e-01,  1.1210e+00,\n",
       "         -1.3253e-01,  2.7295e-01, -6.2453e-01,  2.6489e-01,  1.7526e-01],\n",
       "        [ 3.5647e-01, -3.3720e-01,  2.1588e-01, -5.5550e-01,  5.8764e-01,\n",
       "         -3.8310e-01,  4.3946e-01,  1.8232e+00, -4.0035e-01,  2.9275e-01,\n",
       "         -7.8507e-01, -5.3739e-01, -8.4451e-01,  1.3427e+00, -3.5100e-01,\n",
       "         -3.3554e-01, -4.3696e-01, -6.8060e-01, -4.6049e-01, -1.1466e+00,\n",
       "          5.6679e-01,  1.1732e+00,  2.8853e-01,  1.0236e+00, -7.6288e-02,\n",
       "         -1.0640e+00,  3.2584e-01, -9.4560e-01, -3.2903e-01, -2.8102e-01,\n",
       "          1.1366e+00, -7.8245e-01, -2.2232e-01, -1.6937e+00, -4.6019e-01,\n",
       "          1.2533e+00,  5.5033e-01, -2.7396e-01,  2.6568e-01, -2.5960e+00,\n",
       "         -1.9465e-01, -9.6192e-01, -1.2577e+00,  7.3061e-01,  9.9614e-01,\n",
       "          1.5422e-01, -1.4034e+00, -5.9446e-01,  1.2021e+00, -1.7397e-01,\n",
       "         -7.3405e-01, -6.6129e-01,  6.3057e-01, -2.9220e-01,  1.7388e+00,\n",
       "         -1.6325e-02,  3.9169e-01, -1.1298e+00, -4.4600e-01,  1.7140e-01,\n",
       "          3.6687e-01,  3.2878e-01,  7.5607e-01, -2.7721e-01, -1.3401e+00,\n",
       "          8.1796e-01,  1.2241e-01,  5.9614e-01, -1.3164e+00,  3.0262e-01,\n",
       "         -9.2467e-01,  8.7650e-01,  3.8119e-01, -9.0740e-01,  4.2413e-01,\n",
       "         -6.4651e-01,  3.2277e-01, -6.1320e-01, -7.9960e-01,  3.2851e-03,\n",
       "          2.6082e-01, -4.2888e-01, -4.6139e-01,  1.2784e-01, -2.6628e-02,\n",
       "         -7.1854e-01, -2.3379e-02,  2.7118e-01,  2.4637e-01,  1.9793e-01,\n",
       "          6.8630e-01,  6.4984e-01,  8.0732e-01, -3.3470e-01,  1.1486e+00,\n",
       "          4.0321e-01, -4.7542e-01,  2.2617e-01,  3.4386e-01, -6.1331e-01],\n",
       "        [ 9.1219e-02,  2.7169e-01,  4.1978e-03,  5.1621e-01,  6.2358e-02,\n",
       "         -1.0450e+00,  5.0226e-01,  1.6548e+00, -9.1666e-01, -7.7718e-01,\n",
       "          1.3381e-01, -6.0754e-01, -1.6183e-01,  7.7206e-01,  3.6782e-01,\n",
       "         -1.7095e-01,  9.2052e-02,  1.1501e-01,  4.8270e-02, -1.5129e+00,\n",
       "          4.1135e-01,  4.6027e-01,  1.0104e+00, -3.6732e-01, -4.6295e-03,\n",
       "         -5.8849e-01, -3.9386e-01, -7.0009e-02, -1.0987e-01, -2.3624e-01,\n",
       "          5.4411e-01, -7.7765e-01,  6.0183e-01, -7.1667e-01, -2.2063e-01,\n",
       "          4.6284e-01,  4.5735e-01, -4.7143e-01,  4.8305e-01, -1.3611e+00,\n",
       "         -3.2691e-01, -2.9208e-01, -5.9995e-01,  3.1690e-01,  4.3932e-01,\n",
       "         -1.4097e-01, -7.7253e-01,  2.9408e-01,  7.5227e-01,  8.9960e-02,\n",
       "         -4.6864e-01,  9.6660e-02, -1.9264e-01,  3.2182e-01,  5.4637e-01,\n",
       "          3.0641e-01,  1.2052e-01, -2.2932e-01, -9.3574e-02,  3.5901e-01,\n",
       "          2.3158e-02,  6.4040e-01,  5.0935e-01,  7.1977e-03, -9.5232e-01,\n",
       "          8.4909e-01,  6.0948e-01,  9.4780e-01, -8.5334e-01,  7.7063e-01,\n",
       "          1.7507e-01,  6.5358e-01,  6.1103e-01, -2.6429e-01,  6.7305e-01,\n",
       "          2.4950e-01,  1.2891e-01,  3.8462e-01, -7.7572e-01, -3.1227e-01,\n",
       "         -1.5968e-01, -9.6691e-02,  6.9543e-02,  7.6995e-01, -1.0928e-01,\n",
       "         -6.1422e-02,  3.4992e-01,  6.8847e-02,  5.0359e-01,  3.9454e-01,\n",
       "          7.3670e-01,  1.1181e-01,  3.9528e-01,  6.0200e-01,  1.2890e+00,\n",
       "          4.9987e-02,  2.4591e-02, -6.1011e-01,  2.3108e-01, -7.3601e-03],\n",
       "        [ 2.5769e-01,  2.9947e-01,  2.3294e-01,  8.7924e-02, -2.2783e-01,\n",
       "         -5.8032e-01,  1.7152e-01,  9.8136e-01, -9.6906e-01, -3.6499e-01,\n",
       "         -2.8607e-01, -2.7159e-01,  1.4105e-01,  4.7132e-01,  2.8346e-01,\n",
       "         -3.2024e-01, -5.3107e-02, -2.5882e-01, -7.7756e-02, -1.5622e+00,\n",
       "          3.4442e-01,  6.7289e-01,  9.3924e-01,  1.7240e-01, -1.4470e-01,\n",
       "         -4.0133e-01, -1.1376e-01,  4.4126e-02, -4.1812e-01,  2.1838e-01,\n",
       "          4.2156e-01, -3.8783e-01,  4.8461e-01, -7.2981e-01, -1.9557e-01,\n",
       "          6.5645e-01, -1.2289e-02, -3.9670e-01,  2.0170e-01, -1.4238e+00,\n",
       "          1.9910e-02, -5.8050e-01, -7.2445e-01,  6.1999e-01,  8.7481e-01,\n",
       "         -5.4145e-02, -8.0689e-01, -1.2048e-02,  6.7726e-01, -2.3539e-02,\n",
       "         -3.1636e-01,  1.9081e-01,  1.9676e-01,  2.0350e-02,  6.6442e-01,\n",
       "          2.7007e-01, -2.9088e-01, -3.0119e-01, -5.0716e-01,  1.8167e-02,\n",
       "          5.0083e-01, -3.1502e-02,  1.8025e-01, -1.9470e-01, -1.1214e+00,\n",
       "          7.5481e-01,  3.6494e-01,  3.9173e-01, -5.6206e-01,  8.3723e-01,\n",
       "         -4.1456e-01,  7.8728e-01,  5.5770e-01, -5.8176e-01,  5.6287e-01,\n",
       "          5.8555e-01,  6.6908e-01, -1.3695e-01, -5.6378e-01, -1.0065e-01,\n",
       "         -3.7856e-01, -2.5858e-01, -2.2599e-01,  5.7753e-01, -4.7434e-01,\n",
       "         -3.0748e-01,  5.4750e-02,  5.4573e-01,  7.3415e-01,  3.4063e-01,\n",
       "          7.4100e-01,  1.9976e-01,  6.3068e-02,  2.2634e-01,  9.9446e-01,\n",
       "         -2.6406e-01, -6.3538e-02, -6.3411e-01,  3.9676e-01, -3.8943e-01],\n",
       "        [-2.0818e-01,  2.7284e-01,  1.1861e-01,  3.0456e-01, -2.4562e-01,\n",
       "         -8.1085e-01,  2.6164e-01,  2.1161e+00, -5.5551e-01, -9.2919e-01,\n",
       "          6.1570e-02, -8.9612e-02, -3.6837e-01,  6.5079e-01,  2.7896e-01,\n",
       "          7.4752e-02,  3.2773e-01, -2.0030e-01, -4.5360e-01, -1.1847e+00,\n",
       "         -1.0526e-01,  4.5477e-01,  1.2090e+00, -8.4738e-02, -3.4942e-01,\n",
       "         -3.0151e-01, -3.1657e-01, -1.6200e-01,  9.8720e-02,  8.3455e-02,\n",
       "          5.6124e-01, -5.2817e-01,  3.6554e-01, -9.6950e-01, -4.3968e-01,\n",
       "          5.6808e-01,  2.9224e-01, -1.2211e+00, -1.8687e-01, -1.1421e+00,\n",
       "          4.5645e-02, -2.6998e-01, -7.0287e-01, -1.1655e-01,  1.0272e+00,\n",
       "         -2.1719e-01, -7.6871e-01,  1.7228e-01,  1.5780e-01, -6.1496e-02,\n",
       "         -3.0507e-01,  5.5794e-03, -3.9272e-01, -2.0800e-01,  4.5781e-01,\n",
       "         -2.7154e-01,  4.0859e-01, -2.1922e-01, -7.6029e-02,  5.9045e-03,\n",
       "         -1.2508e-02,  1.0010e+00,  5.7077e-01, -5.6447e-02, -9.9758e-01,\n",
       "          8.9074e-01,  6.4540e-01,  7.7524e-01, -1.3985e+00,  6.4939e-01,\n",
       "         -3.1003e-01,  7.9890e-01,  4.1015e-01, -1.0004e-01,  4.5287e-01,\n",
       "          2.2981e-01, -6.0095e-02,  2.7353e-01, -9.1506e-01, -2.6909e-01,\n",
       "          1.5940e-01, -1.0509e-01,  1.2515e-01,  7.0777e-01, -2.6262e-01,\n",
       "         -2.1281e-01,  6.3500e-01, -2.6191e-02,  2.5232e-01,  7.8979e-02,\n",
       "          2.8649e-01,  1.7356e-01,  1.5194e-01,  2.1900e-02,  1.4139e+00,\n",
       "          8.8111e-02,  2.6491e-01, -6.3310e-01,  3.0958e-01,  2.1678e-01]])"
      ]
     },
     "execution_count": 21,
     "metadata": {},
     "output_type": "execute_result"
    }
   ],
   "source": [
    "data_set.x[1:10]"
   ]
  },
  {
   "cell_type": "markdown",
   "id": "8c8f4af3",
   "metadata": {
    "papermill": {
     "duration": 0.046658,
     "end_time": "2023-12-22T12:32:43.145173",
     "exception": false,
     "start_time": "2023-12-22T12:32:43.098515",
     "status": "completed"
    },
    "tags": []
   },
   "source": [
    "Get an insight of the labels"
   ]
  },
  {
   "cell_type": "code",
   "execution_count": 22,
   "id": "b7351377",
   "metadata": {
    "execution": {
     "iopub.execute_input": "2023-12-22T12:32:43.242026Z",
     "iopub.status.busy": "2023-12-22T12:32:43.241641Z",
     "iopub.status.idle": "2023-12-22T12:32:43.249150Z",
     "shell.execute_reply": "2023-12-22T12:32:43.248056Z"
    },
    "papermill": {
     "duration": 0.05921,
     "end_time": "2023-12-22T12:32:43.251483",
     "exception": false,
     "start_time": "2023-12-22T12:32:43.192273",
     "status": "completed"
    },
    "tags": []
   },
   "outputs": [
    {
     "data": {
      "text/plain": [
       "tensor([0, 2, 1, 1, 0, 2, 2, 2, 2])"
      ]
     },
     "execution_count": 22,
     "metadata": {},
     "output_type": "execute_result"
    }
   ],
   "source": [
    "data_set.y[1:10]"
   ]
  },
  {
   "cell_type": "markdown",
   "id": "2d1233ee",
   "metadata": {
    "papermill": {
     "duration": 0.049917,
     "end_time": "2023-12-22T12:32:43.348395",
     "exception": false,
     "start_time": "2023-12-22T12:32:43.298478",
     "status": "completed"
    },
    "tags": []
   },
   "source": [
    "Check that size of x and y are the same"
   ]
  },
  {
   "cell_type": "code",
   "execution_count": 23,
   "id": "4cd1574d",
   "metadata": {
    "execution": {
     "iopub.execute_input": "2023-12-22T12:32:43.465523Z",
     "iopub.status.busy": "2023-12-22T12:32:43.464649Z",
     "iopub.status.idle": "2023-12-22T12:32:43.473460Z",
     "shell.execute_reply": "2023-12-22T12:32:43.472090Z"
    },
    "papermill": {
     "duration": 0.080687,
     "end_time": "2023-12-22T12:32:43.476053",
     "exception": false,
     "start_time": "2023-12-22T12:32:43.395366",
     "status": "completed"
    },
    "tags": []
   },
   "outputs": [
    {
     "data": {
      "text/plain": [
       "(torch.Size([36630, 100]), torch.Size([36630]))"
      ]
     },
     "execution_count": 23,
     "metadata": {},
     "output_type": "execute_result"
    }
   ],
   "source": [
    "data_set.x.shape, data_set.y.shape"
   ]
  },
  {
   "cell_type": "markdown",
   "id": "30ae9459",
   "metadata": {
    "papermill": {
     "duration": 0.046683,
     "end_time": "2023-12-22T12:32:43.570491",
     "exception": false,
     "start_time": "2023-12-22T12:32:43.523808",
     "status": "completed"
    },
    "tags": []
   },
   "source": [
    "Define NN"
   ]
  },
  {
   "cell_type": "code",
   "execution_count": 24,
   "id": "28a55cee",
   "metadata": {
    "execution": {
     "iopub.execute_input": "2023-12-22T12:32:43.666869Z",
     "iopub.status.busy": "2023-12-22T12:32:43.666481Z",
     "iopub.status.idle": "2023-12-22T12:32:43.675280Z",
     "shell.execute_reply": "2023-12-22T12:32:43.674377Z"
    },
    "papermill": {
     "duration": 0.059886,
     "end_time": "2023-12-22T12:32:43.677642",
     "exception": false,
     "start_time": "2023-12-22T12:32:43.617756",
     "status": "completed"
    },
    "tags": []
   },
   "outputs": [],
   "source": [
    "input_dim=100     # how many Variables are in the dataset\n",
    "hidden_dim = 25 # hidden layers\n",
    "output_dim=3    # number of classes\n",
    "model=Net(input_dim,hidden_dim,output_dim)"
   ]
  },
  {
   "cell_type": "markdown",
   "id": "310615bd",
   "metadata": {
    "papermill": {
     "duration": 0.047641,
     "end_time": "2023-12-22T12:32:43.772312",
     "exception": false,
     "start_time": "2023-12-22T12:32:43.724671",
     "status": "completed"
    },
    "tags": []
   },
   "source": [
    "Define loss function, we will check others later"
   ]
  },
  {
   "cell_type": "code",
   "execution_count": 25,
   "id": "4b17f0d2",
   "metadata": {
    "execution": {
     "iopub.execute_input": "2023-12-22T12:32:43.869861Z",
     "iopub.status.busy": "2023-12-22T12:32:43.869437Z",
     "iopub.status.idle": "2023-12-22T12:32:43.874299Z",
     "shell.execute_reply": "2023-12-22T12:32:43.873490Z"
    },
    "papermill": {
     "duration": 0.056235,
     "end_time": "2023-12-22T12:32:43.876379",
     "exception": false,
     "start_time": "2023-12-22T12:32:43.820144",
     "status": "completed"
    },
    "tags": []
   },
   "outputs": [],
   "source": [
    "criterion=nn.CrossEntropyLoss()"
   ]
  },
  {
   "cell_type": "markdown",
   "id": "a66eb09d",
   "metadata": {
    "papermill": {
     "duration": 0.047138,
     "end_time": "2023-12-22T12:32:43.970876",
     "exception": false,
     "start_time": "2023-12-22T12:32:43.923738",
     "status": "completed"
    },
    "tags": []
   },
   "source": [
    "Define learning rate and optimizer, we will check other values later"
   ]
  },
  {
   "cell_type": "code",
   "execution_count": 26,
   "id": "02b1a9d8",
   "metadata": {
    "execution": {
     "iopub.execute_input": "2023-12-22T12:32:44.067534Z",
     "iopub.status.busy": "2023-12-22T12:32:44.067105Z",
     "iopub.status.idle": "2023-12-22T12:32:44.073063Z",
     "shell.execute_reply": "2023-12-22T12:32:44.071947Z"
    },
    "papermill": {
     "duration": 0.056636,
     "end_time": "2023-12-22T12:32:44.075351",
     "exception": false,
     "start_time": "2023-12-22T12:32:44.018715",
     "status": "completed"
    },
    "tags": []
   },
   "outputs": [],
   "source": [
    "learning_rate=0.1\n",
    "\n",
    "optimizer=torch.optim.SGD(model.parameters(), lr=learning_rate)"
   ]
  },
  {
   "cell_type": "markdown",
   "id": "14ab1d35",
   "metadata": {
    "papermill": {
     "duration": 0.046891,
     "end_time": "2023-12-22T12:32:44.169302",
     "exception": false,
     "start_time": "2023-12-22T12:32:44.122411",
     "status": "completed"
    },
    "tags": []
   },
   "source": [
    "Train model for 300 epochs, we will also check some other values later"
   ]
  },
  {
   "cell_type": "code",
   "execution_count": 27,
   "id": "3130e5ee",
   "metadata": {
    "execution": {
     "iopub.execute_input": "2023-12-22T12:32:44.266676Z",
     "iopub.status.busy": "2023-12-22T12:32:44.266188Z",
     "iopub.status.idle": "2023-12-22T12:36:03.901337Z",
     "shell.execute_reply": "2023-12-22T12:36:03.900075Z"
    },
    "papermill": {
     "duration": 199.687442,
     "end_time": "2023-12-22T12:36:03.904497",
     "exception": false,
     "start_time": "2023-12-22T12:32:44.217055",
     "status": "completed"
    },
    "tags": []
   },
   "outputs": [],
   "source": [
    "n_epochs=300\n",
    "loss_list=[]\n",
    "early_stop_threshold = 0.01\n",
    "\n",
    "\n",
    "#n_epochs\n",
    "for epoch in range(n_epochs):\n",
    "    for x, y in trainloader:\n",
    "\n",
    "        #clear gradient \n",
    "        optimizer.zero_grad()\n",
    "        #make a prediction \n",
    "        z=model.forward(x)\n",
    "        loss=criterion(z,y)\n",
    "        # calculate gradients of parameters \n",
    "        loss.backward()\n",
    "        # update parameters \n",
    "        optimizer.step()\n",
    "        \n",
    "        loss_list.append(loss.data)"
   ]
  },
  {
   "cell_type": "markdown",
   "id": "ac45b0a4",
   "metadata": {
    "papermill": {
     "duration": 0.047967,
     "end_time": "2023-12-22T12:36:04.003783",
     "exception": false,
     "start_time": "2023-12-22T12:36:03.955816",
     "status": "completed"
    },
    "tags": []
   },
   "source": [
    "Feed the validation set to the model"
   ]
  },
  {
   "cell_type": "code",
   "execution_count": 28,
   "id": "fc4d3a00",
   "metadata": {
    "execution": {
     "iopub.execute_input": "2023-12-22T12:36:04.102617Z",
     "iopub.status.busy": "2023-12-22T12:36:04.101944Z",
     "iopub.status.idle": "2023-12-22T12:36:04.108423Z",
     "shell.execute_reply": "2023-12-22T12:36:04.107372Z"
    },
    "papermill": {
     "duration": 0.057938,
     "end_time": "2023-12-22T12:36:04.110818",
     "exception": false,
     "start_time": "2023-12-22T12:36:04.052880",
     "status": "completed"
    },
    "tags": []
   },
   "outputs": [],
   "source": [
    "x_val = torch.from_numpy(x_val)\n",
    "z=model.forward(x_val)"
   ]
  },
  {
   "cell_type": "markdown",
   "id": "ec46ead5",
   "metadata": {
    "papermill": {
     "duration": 0.047578,
     "end_time": "2023-12-22T12:36:04.207519",
     "exception": false,
     "start_time": "2023-12-22T12:36:04.159941",
     "status": "completed"
    },
    "tags": []
   },
   "source": [
    "Output is 3 values based on the idea of a Softmax Classifier, we chose the highest"
   ]
  },
  {
   "cell_type": "code",
   "execution_count": 29,
   "id": "e15ec48e",
   "metadata": {
    "execution": {
     "iopub.execute_input": "2023-12-22T12:36:04.305793Z",
     "iopub.status.busy": "2023-12-22T12:36:04.305384Z",
     "iopub.status.idle": "2023-12-22T12:36:04.316448Z",
     "shell.execute_reply": "2023-12-22T12:36:04.315248Z"
    },
    "papermill": {
     "duration": 0.063057,
     "end_time": "2023-12-22T12:36:04.319173",
     "exception": false,
     "start_time": "2023-12-22T12:36:04.256116",
     "status": "completed"
    },
    "tags": []
   },
   "outputs": [],
   "source": [
    "z=model.forward(x_val)\n",
    "max_indexes = torch.argmax(z, dim=1)"
   ]
  },
  {
   "cell_type": "markdown",
   "id": "07738f9b",
   "metadata": {
    "papermill": {
     "duration": 0.046587,
     "end_time": "2023-12-22T12:36:04.414019",
     "exception": false,
     "start_time": "2023-12-22T12:36:04.367432",
     "status": "completed"
    },
    "tags": []
   },
   "source": [
    "Convert to numpy so we can use the metrics for scoring from sklearn"
   ]
  },
  {
   "cell_type": "code",
   "execution_count": 30,
   "id": "96dee674",
   "metadata": {
    "execution": {
     "iopub.execute_input": "2023-12-22T12:36:04.511348Z",
     "iopub.status.busy": "2023-12-22T12:36:04.510530Z",
     "iopub.status.idle": "2023-12-22T12:36:04.515756Z",
     "shell.execute_reply": "2023-12-22T12:36:04.515002Z"
    },
    "papermill": {
     "duration": 0.056384,
     "end_time": "2023-12-22T12:36:04.518041",
     "exception": false,
     "start_time": "2023-12-22T12:36:04.461657",
     "status": "completed"
    },
    "tags": []
   },
   "outputs": [],
   "source": [
    "from sklearn.metrics import accuracy_score, precision_score, recall_score, f1_score\n",
    "y_pred = max_indexes.numpy()"
   ]
  },
  {
   "cell_type": "code",
   "execution_count": 31,
   "id": "a6da54ec",
   "metadata": {
    "execution": {
     "iopub.execute_input": "2023-12-22T12:36:04.615025Z",
     "iopub.status.busy": "2023-12-22T12:36:04.614651Z",
     "iopub.status.idle": "2023-12-22T12:36:04.635800Z",
     "shell.execute_reply": "2023-12-22T12:36:04.634468Z"
    },
    "papermill": {
     "duration": 0.072782,
     "end_time": "2023-12-22T12:36:04.638310",
     "exception": false,
     "start_time": "2023-12-22T12:36:04.565528",
     "status": "completed"
    },
    "tags": []
   },
   "outputs": [
    {
     "name": "stdout",
     "output_type": "stream",
     "text": [
      "Accuracy: 0.38551\n",
      "Precision: 0.39132\n",
      "Recall: 0.38551\n",
      "F1 Score: 0.37833\n"
     ]
    }
   ],
   "source": [
    "accuracy = accuracy_score(y_val, y_pred)\n",
    "precision = precision_score(y_val, y_pred, average='weighted')\n",
    "recall = recall_score(y_val, y_pred, average='weighted')\n",
    "f1 = f1_score(y_val, y_pred, average='weighted')\n",
    "\n",
    "# Print the results\n",
    "print(f'Accuracy: {accuracy:.5f}')\n",
    "print(f'Precision: {precision:.5f}')\n",
    "print(f'Recall: {recall:.5f}')\n",
    "print(f'F1 Score: {f1:.5f}')"
   ]
  },
  {
   "cell_type": "markdown",
   "id": "fbdaf432",
   "metadata": {
    "papermill": {
     "duration": 0.047235,
     "end_time": "2023-12-22T12:36:04.733286",
     "exception": false,
     "start_time": "2023-12-22T12:36:04.686051",
     "status": "completed"
    },
    "tags": []
   },
   "source": [
    "This was a simple example with 300 epochs"
   ]
  },
  {
   "cell_type": "markdown",
   "id": "1d7ce349",
   "metadata": {
    "papermill": {
     "duration": 0.047958,
     "end_time": "2023-12-22T12:36:04.829291",
     "exception": false,
     "start_time": "2023-12-22T12:36:04.781333",
     "status": "completed"
    },
    "tags": []
   },
   "source": [
    "Before we continue with optuna we need to define the number of epochs, we need a reliable number but not something too large because optuna would take for ages, lets try 11 epochs"
   ]
  },
  {
   "cell_type": "code",
   "execution_count": 32,
   "id": "2c952d4a",
   "metadata": {
    "execution": {
     "iopub.execute_input": "2023-12-22T12:36:04.928010Z",
     "iopub.status.busy": "2023-12-22T12:36:04.927595Z",
     "iopub.status.idle": "2023-12-22T12:36:12.284244Z",
     "shell.execute_reply": "2023-12-22T12:36:12.283132Z"
    },
    "papermill": {
     "duration": 7.408573,
     "end_time": "2023-12-22T12:36:12.287034",
     "exception": false,
     "start_time": "2023-12-22T12:36:04.878461",
     "status": "completed"
    },
    "tags": []
   },
   "outputs": [
    {
     "name": "stdout",
     "output_type": "stream",
     "text": [
      "Accuracy: 0.37768\n",
      "Precision: 0.38214\n",
      "Recall: 0.37768\n",
      "F1 Score: 0.36117\n"
     ]
    }
   ],
   "source": [
    "input_dim=100     # how many Variables are in the dataset\n",
    "hidden_dim = 25 # hidden layers\n",
    "output_dim=3    # number of classes\n",
    "model=Net(input_dim,hidden_dim,output_dim)\n",
    "criterion=nn.CrossEntropyLoss()\n",
    "\n",
    "learning_rate=0.1\n",
    "optimizer=torch.optim.SGD(model.parameters(), lr=learning_rate)\n",
    "n_epochs=11\n",
    "loss_list=[]\n",
    "\n",
    "#n_epochs\n",
    "for epoch in range(n_epochs):\n",
    "    for x, y in trainloader:\n",
    "\n",
    "        #clear gradient \n",
    "        optimizer.zero_grad()\n",
    "        #make a prediction \n",
    "        z=model.forward(x)\n",
    "        loss=criterion(z,y)\n",
    "        # calculate gradients of parameters \n",
    "        loss.backward()\n",
    "        # update parameters \n",
    "        optimizer.step()\n",
    "        \n",
    "        loss_list.append(loss.data)\n",
    "z=model.forward(x_val)\n",
    "max_indexes = torch.argmax(z, dim=1)\n",
    "y_pred = max_indexes.numpy()\n",
    "accuracy = accuracy_score(y_val, y_pred)\n",
    "precision = precision_score(y_val, y_pred, average='weighted')\n",
    "recall = recall_score(y_val, y_pred, average='weighted')\n",
    "f1 = f1_score(y_val, y_pred, average='weighted')\n",
    "\n",
    "# Print the results\n",
    "print(f'Accuracy: {accuracy:.5f}')\n",
    "print(f'Precision: {precision:.5f}')\n",
    "print(f'Recall: {recall:.5f}')\n",
    "print(f'F1 Score: {f1:.5f}')"
   ]
  },
  {
   "cell_type": "markdown",
   "id": "0ff59301",
   "metadata": {
    "papermill": {
     "duration": 0.046902,
     "end_time": "2023-12-22T12:36:12.381392",
     "exception": false,
     "start_time": "2023-12-22T12:36:12.334490",
     "status": "completed"
    },
    "tags": []
   },
   "source": [
    "Nice, results are way faster and they are really close to 300 epochs, lets try to decrease it more, go with 5 epochs"
   ]
  },
  {
   "cell_type": "code",
   "execution_count": 33,
   "id": "f34646df",
   "metadata": {
    "execution": {
     "iopub.execute_input": "2023-12-22T12:36:12.478538Z",
     "iopub.status.busy": "2023-12-22T12:36:12.477758Z",
     "iopub.status.idle": "2023-12-22T12:36:15.828233Z",
     "shell.execute_reply": "2023-12-22T12:36:15.827442Z"
    },
    "papermill": {
     "duration": 3.402007,
     "end_time": "2023-12-22T12:36:15.830631",
     "exception": false,
     "start_time": "2023-12-22T12:36:12.428624",
     "status": "completed"
    },
    "tags": []
   },
   "outputs": [
    {
     "name": "stdout",
     "output_type": "stream",
     "text": [
      "Accuracy: 0.37003\n",
      "Precision: 0.38049\n",
      "Recall: 0.37003\n",
      "F1 Score: 0.34679\n"
     ]
    }
   ],
   "source": [
    "input_dim=100     # how many Variables are in the dataset\n",
    "hidden_dim = 25 # hidden layers\n",
    "output_dim=3    # number of classes\n",
    "model=Net(input_dim,hidden_dim,output_dim)\n",
    "criterion=nn.CrossEntropyLoss()\n",
    "\n",
    "learning_rate=0.1\n",
    "optimizer=torch.optim.SGD(model.parameters(), lr=learning_rate)\n",
    "n_epochs=5\n",
    "loss_list=[]\n",
    "\n",
    "#n_epochs\n",
    "for epoch in range(n_epochs):\n",
    "    for x, y in trainloader:\n",
    "\n",
    "        #clear gradient \n",
    "        optimizer.zero_grad()\n",
    "        #make a prediction \n",
    "        z=model.forward(x)\n",
    "        loss=criterion(z,y)\n",
    "        # calculate gradients of parameters \n",
    "        loss.backward()\n",
    "        # update parameters \n",
    "        optimizer.step()\n",
    "        \n",
    "        loss_list.append(loss.data)\n",
    "z=model.forward(x_val)\n",
    "max_indexes = torch.argmax(z, dim=1)\n",
    "y_pred = max_indexes.numpy()\n",
    "accuracy = accuracy_score(y_val, y_pred)\n",
    "precision = precision_score(y_val, y_pred, average='weighted')\n",
    "recall = recall_score(y_val, y_pred, average='weighted')\n",
    "f1 = f1_score(y_val, y_pred, average='weighted')\n",
    "\n",
    "# Print the results\n",
    "print(f'Accuracy: {accuracy:.5f}')\n",
    "print(f'Precision: {precision:.5f}')\n",
    "print(f'Recall: {recall:.5f}')\n",
    "print(f'F1 Score: {f1:.5f}')"
   ]
  },
  {
   "cell_type": "markdown",
   "id": "0efbb169",
   "metadata": {
    "papermill": {
     "duration": 0.049181,
     "end_time": "2023-12-22T12:36:15.927273",
     "exception": false,
     "start_time": "2023-12-22T12:36:15.878092",
     "status": "completed"
    },
    "tags": []
   },
   "source": [
    "Too low, we will keep 11 epochs"
   ]
  },
  {
   "cell_type": "markdown",
   "id": "35e5ae4f",
   "metadata": {
    "papermill": {
     "duration": 0.047605,
     "end_time": "2023-12-22T12:36:16.022943",
     "exception": false,
     "start_time": "2023-12-22T12:36:15.975338",
     "status": "completed"
    },
    "tags": []
   },
   "source": [
    "Now we proceed to the hyperparameters tuning section"
   ]
  },
  {
   "cell_type": "markdown",
   "id": "0e665d04",
   "metadata": {
    "papermill": {
     "duration": 0.047192,
     "end_time": "2023-12-22T12:36:16.120008",
     "exception": false,
     "start_time": "2023-12-22T12:36:16.072816",
     "status": "completed"
    },
    "tags": []
   },
   "source": [
    "The main idea behind this step is to optimize the following parameters : input_dim (size of embedding),window, hidden_dim, batch_size and learning_rate "
   ]
  },
  {
   "cell_type": "markdown",
   "id": "be3984c3",
   "metadata": {
    "papermill": {
     "duration": 0.046787,
     "end_time": "2023-12-22T12:36:16.214608",
     "exception": false,
     "start_time": "2023-12-22T12:36:16.167821",
     "status": "completed"
    },
    "tags": []
   },
   "source": [
    "What remains same same here is the model (number of hidden layers and dimension), the representation of each tweet (mean embedding) and number of epochs, criterion and optimizer, we will alter them in next steps"
   ]
  },
  {
   "cell_type": "code",
   "execution_count": 34,
   "id": "c9a1de27",
   "metadata": {
    "execution": {
     "iopub.execute_input": "2023-12-22T12:36:16.311838Z",
     "iopub.status.busy": "2023-12-22T12:36:16.311421Z",
     "iopub.status.idle": "2023-12-22T12:51:28.729282Z",
     "shell.execute_reply": "2023-12-22T12:51:28.728145Z"
    },
    "papermill": {
     "duration": 912.522797,
     "end_time": "2023-12-22T12:51:28.785224",
     "exception": false,
     "start_time": "2023-12-22T12:36:16.262427",
     "status": "completed"
    },
    "tags": []
   },
   "outputs": [
    {
     "name": "stderr",
     "output_type": "stream",
     "text": [
      "[I 2023-12-22 12:36:17,703] A new study created in memory with name: no-name-1564f740-16f4-4213-87ae-52c8e4acc16a\n",
      "[I 2023-12-22 12:36:36,213] Trial 0 finished with value: 0.37786697247706424 and parameters: {'input_dim': 106, 'hidden_dim': 48, 'window_size': 8, 'b_size': 90, 'learning_rate': 0.020513382630874502}. Best is trial 0 with value: 0.37786697247706424.\n",
      "[I 2023-12-22 12:36:53,380] Trial 1 finished with value: 0.3918195718654434 and parameters: {'input_dim': 73, 'hidden_dim': 12, 'window_size': 9, 'b_size': 90, 'learning_rate': 0.2607024758370766}. Best is trial 1 with value: 0.3918195718654434.\n",
      "[I 2023-12-22 12:37:13,289] Trial 2 finished with value: 0.378631498470948 and parameters: {'input_dim': 53, 'hidden_dim': 49, 'window_size': 9, 'b_size': 52, 'learning_rate': 0.02310201887845294}. Best is trial 1 with value: 0.3918195718654434.\n",
      "[I 2023-12-22 12:37:32,160] Trial 3 finished with value: 0.3761467889908257 and parameters: {'input_dim': 77, 'hidden_dim': 22, 'window_size': 7, 'b_size': 73, 'learning_rate': 0.038234752246751866}. Best is trial 1 with value: 0.3918195718654434.\n",
      "[I 2023-12-22 12:37:51,186] Trial 4 finished with value: 0.37882262996941896 and parameters: {'input_dim': 142, 'hidden_dim': 15, 'window_size': 5, 'b_size': 67, 'learning_rate': 0.08168455894760163}. Best is trial 1 with value: 0.3918195718654434.\n",
      "[I 2023-12-22 12:38:09,863] Trial 5 finished with value: 0.36563455657492355 and parameters: {'input_dim': 168, 'hidden_dim': 18, 'window_size': 7, 'b_size': 89, 'learning_rate': 0.012385137298860933}. Best is trial 1 with value: 0.3918195718654434.\n",
      "[I 2023-12-22 12:38:26,472] Trial 6 finished with value: 0.371368501529052 and parameters: {'input_dim': 141, 'hidden_dim': 16, 'window_size': 3, 'b_size': 124, 'learning_rate': 0.8536189862866826}. Best is trial 1 with value: 0.3918195718654434.\n",
      "[I 2023-12-22 12:38:44,699] Trial 7 finished with value: 0.37767584097859325 and parameters: {'input_dim': 172, 'hidden_dim': 22, 'window_size': 3, 'b_size': 98, 'learning_rate': 0.07591104805282695}. Best is trial 1 with value: 0.3918195718654434.\n",
      "[I 2023-12-22 12:39:00,452] Trial 8 finished with value: 0.3610474006116208 and parameters: {'input_dim': 68, 'hidden_dim': 30, 'window_size': 3, 'b_size': 120, 'learning_rate': 0.032927591344236166}. Best is trial 1 with value: 0.3918195718654434.\n",
      "[I 2023-12-22 12:39:19,259] Trial 9 finished with value: 0.3761467889908257 and parameters: {'input_dim': 150, 'hidden_dim': 22, 'window_size': 7, 'b_size': 85, 'learning_rate': 0.02342658105820405}. Best is trial 1 with value: 0.3918195718654434.\n",
      "[I 2023-12-22 12:39:41,326] Trial 10 finished with value: 0.3929663608562691 and parameters: {'input_dim': 103, 'hidden_dim': 10, 'window_size': 10, 'b_size': 33, 'learning_rate': 0.30039523655512246}. Best is trial 10 with value: 0.3929663608562691.\n",
      "[I 2023-12-22 12:40:02,051] Trial 11 finished with value: 0.39143730886850153 and parameters: {'input_dim': 102, 'hidden_dim': 10, 'window_size': 10, 'b_size': 40, 'learning_rate': 0.2997858219123054}. Best is trial 10 with value: 0.3929663608562691.\n",
      "[I 2023-12-22 12:40:24,646] Trial 12 finished with value: 0.37213302752293576 and parameters: {'input_dim': 95, 'hidden_dim': 10, 'window_size': 10, 'b_size': 37, 'learning_rate': 0.23835721993582848}. Best is trial 10 with value: 0.3929663608562691.\n",
      "[I 2023-12-22 12:40:42,670] Trial 13 finished with value: 0.3820718654434251 and parameters: {'input_dim': 117, 'hidden_dim': 38, 'window_size': 9, 'b_size': 108, 'learning_rate': 0.19575500799074522}. Best is trial 10 with value: 0.3929663608562691.\n",
      "[I 2023-12-22 12:41:02,308] Trial 14 finished with value: 0.371368501529052 and parameters: {'input_dim': 82, 'hidden_dim': 30, 'window_size': 9, 'b_size': 58, 'learning_rate': 0.5358828537716193}. Best is trial 10 with value: 0.3929663608562691.\n",
      "[I 2023-12-22 12:41:22,442] Trial 15 finished with value: 0.3637232415902141 and parameters: {'input_dim': 195, 'hidden_dim': 10, 'window_size': 5, 'b_size': 53, 'learning_rate': 0.14855681038337287}. Best is trial 10 with value: 0.3929663608562691.\n",
      "[I 2023-12-22 12:41:39,708] Trial 16 finished with value: 0.3922018348623853 and parameters: {'input_dim': 51, 'hidden_dim': 38, 'window_size': 10, 'b_size': 104, 'learning_rate': 0.3944479816467619}. Best is trial 10 with value: 0.3929663608562691.\n",
      "[I 2023-12-22 12:41:57,100] Trial 17 finished with value: 0.3943042813455658 and parameters: {'input_dim': 53, 'hidden_dim': 39, 'window_size': 10, 'b_size': 107, 'learning_rate': 0.4661724106311634}. Best is trial 17 with value: 0.3943042813455658.\n",
      "[I 2023-12-22 12:42:15,029] Trial 18 finished with value: 0.3876146788990826 and parameters: {'input_dim': 121, 'hidden_dim': 40, 'window_size': 8, 'b_size': 116, 'learning_rate': 0.611041312625025}. Best is trial 17 with value: 0.3943042813455658.\n",
      "[I 2023-12-22 12:42:33,446] Trial 19 finished with value: 0.39143730886850153 and parameters: {'input_dim': 87, 'hidden_dim': 44, 'window_size': 5, 'b_size': 71, 'learning_rate': 0.8094288207585482}. Best is trial 17 with value: 0.3943042813455658.\n",
      "[I 2023-12-22 12:42:51,615] Trial 20 finished with value: 0.39353975535168195 and parameters: {'input_dim': 62, 'hidden_dim': 32, 'window_size': 8, 'b_size': 79, 'learning_rate': 0.4022232854608565}. Best is trial 17 with value: 0.3943042813455658.\n",
      "[I 2023-12-22 12:43:12,234] Trial 21 finished with value: 0.38398318042813456 and parameters: {'input_dim': 62, 'hidden_dim': 31, 'window_size': 8, 'b_size': 44, 'learning_rate': 0.42812854347479706}. Best is trial 17 with value: 0.3943042813455658.\n",
      "[I 2023-12-22 12:43:33,534] Trial 22 finished with value: 0.3952599388379205 and parameters: {'input_dim': 64, 'hidden_dim': 34, 'window_size': 10, 'b_size': 32, 'learning_rate': 0.39700561395016903}. Best is trial 22 with value: 0.3952599388379205.\n",
      "[I 2023-12-22 12:43:50,439] Trial 23 finished with value: 0.36678134556574926 and parameters: {'input_dim': 60, 'hidden_dim': 33, 'window_size': 6, 'b_size': 128, 'learning_rate': 0.5946236498759332}. Best is trial 22 with value: 0.3952599388379205.\n",
      "[I 2023-12-22 12:44:06,758] Trial 24 finished with value: 0.3587538226299694 and parameters: {'input_dim': 66, 'hidden_dim': 34, 'window_size': 9, 'b_size': 109, 'learning_rate': 0.1420389417169953}. Best is trial 22 with value: 0.3952599388379205.\n",
      "[I 2023-12-22 12:44:24,655] Trial 25 finished with value: 0.3885703363914373 and parameters: {'input_dim': 50, 'hidden_dim': 26, 'window_size': 8, 'b_size': 77, 'learning_rate': 0.4154324324973132}. Best is trial 22 with value: 0.3952599388379205.\n",
      "[I 2023-12-22 12:44:43,803] Trial 26 finished with value: 0.35856269113149847 and parameters: {'input_dim': 86, 'hidden_dim': 42, 'window_size': 10, 'b_size': 63, 'learning_rate': 0.9606261224252225}. Best is trial 22 with value: 0.3952599388379205.\n",
      "[I 2023-12-22 12:45:00,676] Trial 27 finished with value: 0.38321865443425074 and parameters: {'input_dim': 73, 'hidden_dim': 36, 'window_size': 6, 'b_size': 100, 'learning_rate': 0.3516224685983755}. Best is trial 22 with value: 0.3952599388379205.\n",
      "[I 2023-12-22 12:45:19,349] Trial 28 finished with value: 0.38685015290519875 and parameters: {'input_dim': 93, 'hidden_dim': 26, 'window_size': 9, 'b_size': 81, 'learning_rate': 0.5802904282306662}. Best is trial 22 with value: 0.3952599388379205.\n",
      "[I 2023-12-22 12:45:37,561] Trial 29 finished with value: 0.3900993883792049 and parameters: {'input_dim': 111, 'hidden_dim': 45, 'window_size': 8, 'b_size': 94, 'learning_rate': 0.21588206679540553}. Best is trial 22 with value: 0.3952599388379205.\n",
      "[I 2023-12-22 12:45:55,287] Trial 30 finished with value: 0.3948776758409786 and parameters: {'input_dim': 59, 'hidden_dim': 27, 'window_size': 10, 'b_size': 114, 'learning_rate': 0.45513837104079763}. Best is trial 22 with value: 0.3952599388379205.\n",
      "[I 2023-12-22 12:46:12,578] Trial 31 finished with value: 0.39392201834862384 and parameters: {'input_dim': 60, 'hidden_dim': 27, 'window_size': 10, 'b_size': 114, 'learning_rate': 0.4386860085311703}. Best is trial 22 with value: 0.3952599388379205.\n",
      "[I 2023-12-22 12:46:30,075] Trial 32 finished with value: 0.39143730886850153 and parameters: {'input_dim': 74, 'hidden_dim': 27, 'window_size': 10, 'b_size': 114, 'learning_rate': 0.7272310548320275}. Best is trial 22 with value: 0.3952599388379205.\n",
      "[I 2023-12-22 12:46:47,062] Trial 33 finished with value: 0.3862767584097859 and parameters: {'input_dim': 59, 'hidden_dim': 35, 'window_size': 9, 'b_size': 113, 'learning_rate': 0.4848406937591766}. Best is trial 22 with value: 0.3952599388379205.\n",
      "[I 2023-12-22 12:47:04,160] Trial 34 finished with value: 0.38799694189602446 and parameters: {'input_dim': 50, 'hidden_dim': 26, 'window_size': 10, 'b_size': 121, 'learning_rate': 0.3270615813852837}. Best is trial 22 with value: 0.3952599388379205.\n",
      "[I 2023-12-22 12:47:21,555] Trial 35 finished with value: 0.3753822629969419 and parameters: {'input_dim': 78, 'hidden_dim': 28, 'window_size': 9, 'b_size': 103, 'learning_rate': 0.7100336488288294}. Best is trial 22 with value: 0.3952599388379205.\n",
      "[I 2023-12-22 12:47:37,781] Trial 36 finished with value: 0.38876146788990823 and parameters: {'input_dim': 70, 'hidden_dim': 23, 'window_size': 10, 'b_size': 128, 'learning_rate': 0.5073438178337288}. Best is trial 22 with value: 0.3952599388379205.\n",
      "[I 2023-12-22 12:47:55,478] Trial 37 finished with value: 0.3816896024464832 and parameters: {'input_dim': 57, 'hidden_dim': 37, 'window_size': 9, 'b_size': 94, 'learning_rate': 0.2755306452695145}. Best is trial 22 with value: 0.3952599388379205.\n",
      "[I 2023-12-22 12:48:13,292] Trial 38 finished with value: 0.38321865443425074 and parameters: {'input_dim': 93, 'hidden_dim': 19, 'window_size': 10, 'b_size': 110, 'learning_rate': 0.8932177244341322}. Best is trial 22 with value: 0.3952599388379205.\n",
      "[I 2023-12-22 12:48:30,206] Trial 39 finished with value: 0.38646788990825687 and parameters: {'input_dim': 130, 'hidden_dim': 46, 'window_size': 4, 'b_size': 119, 'learning_rate': 0.6641245409592809}. Best is trial 22 with value: 0.3952599388379205.\n",
      "[I 2023-12-22 12:48:47,492] Trial 40 finished with value: 0.38876146788990823 and parameters: {'input_dim': 68, 'hidden_dim': 50, 'window_size': 9, 'b_size': 90, 'learning_rate': 0.3793109185736262}. Best is trial 22 with value: 0.3952599388379205.\n",
      "[I 2023-12-22 12:49:07,692] Trial 41 finished with value: 0.39353975535168195 and parameters: {'input_dim': 61, 'hidden_dim': 33, 'window_size': 10, 'b_size': 47, 'learning_rate': 0.47142516986860294}. Best is trial 22 with value: 0.3952599388379205.\n",
      "[I 2023-12-22 12:49:24,870] Trial 42 finished with value: 0.37155963302752293 and parameters: {'input_dim': 57, 'hidden_dim': 32, 'window_size': 7, 'b_size': 105, 'learning_rate': 0.35936005600112453}. Best is trial 22 with value: 0.3952599388379205.\n",
      "[I 2023-12-22 12:49:42,253] Trial 43 finished with value: 0.3958333333333333 and parameters: {'input_dim': 76, 'hidden_dim': 29, 'window_size': 8, 'b_size': 96, 'learning_rate': 0.26553396204071694}. Best is trial 43 with value: 0.3958333333333333.\n",
      "[I 2023-12-22 12:49:59,590] Trial 44 finished with value: 0.3893348623853211 and parameters: {'input_dim': 78, 'hidden_dim': 29, 'window_size': 10, 'b_size': 98, 'learning_rate': 0.253928764876931}. Best is trial 43 with value: 0.3958333333333333.\n",
      "[I 2023-12-22 12:50:16,823] Trial 45 finished with value: 0.3944954128440367 and parameters: {'input_dim': 66, 'hidden_dim': 23, 'window_size': 8, 'b_size': 86, 'learning_rate': 0.30161194380205064}. Best is trial 43 with value: 0.3958333333333333.\n",
      "[I 2023-12-22 12:50:34,413] Trial 46 finished with value: 0.33811162079510704 and parameters: {'input_dim': 84, 'hidden_dim': 23, 'window_size': 6, 'b_size': 87, 'learning_rate': 0.18757748526758508}. Best is trial 43 with value: 0.3958333333333333.\n",
      "[I 2023-12-22 12:50:50,767] Trial 47 finished with value: 0.3650611620795107 and parameters: {'input_dim': 68, 'hidden_dim': 24, 'window_size': 7, 'b_size': 96, 'learning_rate': 0.2953533203120104}. Best is trial 43 with value: 0.3958333333333333.\n",
      "[I 2023-12-22 12:51:10,271] Trial 48 finished with value: 0.3755733944954128 and parameters: {'input_dim': 159, 'hidden_dim': 19, 'window_size': 8, 'b_size': 83, 'learning_rate': 0.2917883941764053}. Best is trial 43 with value: 0.3958333333333333.\n",
      "[I 2023-12-22 12:51:28,723] Trial 49 finished with value: 0.39258409785932724 and parameters: {'input_dim': 99, 'hidden_dim': 40, 'window_size': 7, 'b_size': 71, 'learning_rate': 0.24423438411281498}. Best is trial 43 with value: 0.3958333333333333.\n"
     ]
    },
    {
     "name": "stdout",
     "output_type": "stream",
     "text": [
      "Best Hyperparameters: {'input_dim': 76, 'hidden_dim': 29, 'window_size': 8, 'b_size': 96, 'learning_rate': 0.26553396204071694}\n",
      "Best Accuracy: 0.3958333333333333\n"
     ]
    }
   ],
   "source": [
    "import optuna\n",
    "import torch\n",
    "import torch.nn as nn\n",
    "import torch.optim as optim\n",
    "from torch.utils.data import Dataset, DataLoader\n",
    "import pandas as pd\n",
    "import numpy as np\n",
    "from sklearn.metrics import accuracy_score\n",
    "from nltk.tokenize import word_tokenize\n",
    "from gensim.models import Word2Vec\n",
    "import multiprocessing\n",
    "from collections.abc import Mapping\n",
    "num_cores = multiprocessing.cpu_count()\n",
    "n_epochs=11\n",
    "criterion=nn.CrossEntropyLoss()\n",
    "\n",
    "\n",
    "class Data(Dataset):\n",
    "    def __init__(self, x, y, input_dim):\n",
    "        self.x = torch.from_numpy(x).float()\n",
    "        self.y = torch.from_numpy(y)\n",
    "        self.len = self.x.shape[0]\n",
    "        self.input_dim = input_dim\n",
    "\n",
    "    def __getitem__(self, index):\n",
    "        return self.x[index, :self.input_dim], self.y[index]\n",
    "\n",
    "    def __len__(self):\n",
    "        return self.len\n",
    "\n",
    "class Net(nn.Module):\n",
    "    def __init__(self,D_in,H,D_out):\n",
    "        super(Net,self).__init__()\n",
    "        self.linear1=nn.Linear(D_in,H)\n",
    "        self.linear2=nn.Linear(H,D_out)\n",
    "\n",
    "        \n",
    "    def forward(self,x):\n",
    "        x=torch.sigmoid(self.linear1(x))  \n",
    "        x=self.linear2(x)\n",
    "        return x\n",
    "    \n",
    "def objective(trial):\n",
    "    input_dim = trial.suggest_int('input_dim', 50, 200)\n",
    "    hidden_dim = trial.suggest_int('hidden_dim', 10, 50)\n",
    "    window_size = trial.suggest_int('window_size', 3, 10)\n",
    "    b_size = trial.suggest_int('b_size', 32, 128)\n",
    "    learning_rate = trial.suggest_float('learning_rate', 1e-2, 1, log=True)\n",
    "    model = Net(input_dim, hidden_dim, output_dim)\n",
    "    optimizer=torch.optim.SGD(model.parameters(), lr=learning_rate)\n",
    "    # Choose optimizer\n",
    "    \n",
    "    \n",
    "\n",
    "    word2vec_model = Word2Vec(sentences=data['tokenized_text'].tolist(), vector_size=input_dim, window=window_size, min_count=1, workers=num_cores)\n",
    "    \n",
    "    data['mean_embedding'] = data['tokenized_text'].apply(lambda tokens: np.mean([word2vec_model.wv[word] for word in tokens if word in word2vec_model.wv], axis=0))\n",
    "    valid['mean_embedding'] = valid['tokenized_text'].apply(lambda tokens: np.mean([word2vec_model.wv[word] for word in tokens if word in word2vec_model.wv], axis=0))\n",
    "    x_train = data['mean_embedding']\n",
    "    x_val = valid['mean_embedding']\n",
    "    y_val = valid['Sentiment']\n",
    "    y_train = data['Sentiment']\n",
    "    \n",
    "    x_train = np.vstack(x_train).astype(np.float32)\n",
    "    x_val = np.vstack(x_val).astype(np.float32)\n",
    "    \n",
    "    \n",
    "    y_val = y_val.values\n",
    "    y_train = y_train.values\n",
    "    \n",
    "\n",
    "    data_set = Data(x_train, y_train, input_dim)\n",
    "    trainloader = DataLoader(dataset=data_set, batch_size=b_size, shuffle=True)\n",
    "   \n",
    "    loss_list = []\n",
    "\n",
    "    for epoch in range(n_epochs):\n",
    "        for x, y in trainloader:\n",
    "            optimizer.zero_grad()\n",
    "            z = model.forward(x)\n",
    "            loss = criterion(z, y)\n",
    "            loss.backward()\n",
    "            optimizer.step()\n",
    "            \n",
    "            loss_list.append(loss.item())\n",
    "\n",
    "    x_val_tensor = torch.from_numpy(x_val)\n",
    "    z_val = model.forward(x_val_tensor)\n",
    "    max_indexes = torch.argmax(z_val, dim=1)\n",
    "    y_pred = max_indexes.numpy()\n",
    "\n",
    "    accuracy = accuracy_score(y_val, y_pred)\n",
    "    return accuracy\n",
    "\n",
    "# Set up Optuna study\n",
    "study = optuna.create_study(direction='maximize',sampler=optuna.samplers.TPESampler(seed=42))\n",
    "study.optimize(objective, n_trials=50)\n",
    "\n",
    "# Get the best parameters\n",
    "best_params = study.best_params\n",
    "best_accuracy = study.best_value\n",
    "\n",
    "print(\"Best Hyperparameters:\", best_params)\n",
    "print(\"Best Accuracy:\", best_accuracy)"
   ]
  },
  {
   "cell_type": "markdown",
   "id": "b9510d2c",
   "metadata": {
    "papermill": {
     "duration": 0.052299,
     "end_time": "2023-12-22T12:51:28.890048",
     "exception": false,
     "start_time": "2023-12-22T12:51:28.837749",
     "status": "completed"
    },
    "tags": []
   },
   "source": [
    "Now we will check how many hidden layers to use, we will use the same idea behind optuna and try 3 and 5 hidden layers, we also define some functions to make coding easier"
   ]
  },
  {
   "cell_type": "code",
   "execution_count": 35,
   "id": "4845d354",
   "metadata": {
    "execution": {
     "iopub.execute_input": "2023-12-22T12:51:28.998657Z",
     "iopub.status.busy": "2023-12-22T12:51:28.997942Z",
     "iopub.status.idle": "2023-12-22T13:11:05.357937Z",
     "shell.execute_reply": "2023-12-22T13:11:05.356658Z"
    },
    "papermill": {
     "duration": 1176.472913,
     "end_time": "2023-12-22T13:11:05.415868",
     "exception": false,
     "start_time": "2023-12-22T12:51:28.942955",
     "status": "completed"
    },
    "tags": []
   },
   "outputs": [
    {
     "name": "stderr",
     "output_type": "stream",
     "text": [
      "[I 2023-12-22 12:51:29,026] A new study created in memory with name: no-name-b9250b15-813d-408e-b518-50080e077682\n",
      "[I 2023-12-22 12:51:51,788] Trial 0 finished with value: 0.3891784820683904 and parameters: {'input_dim': 106, 'hidden_dim': 48, 'window_size': 8, 'b_size': 90, 'learning_rate': 0.020513382630874502}. Best is trial 0 with value: 0.3891784820683904.\n",
      "[I 2023-12-22 12:52:12,670] Trial 1 finished with value: 0.39055115373922716 and parameters: {'input_dim': 73, 'hidden_dim': 12, 'window_size': 9, 'b_size': 90, 'learning_rate': 0.2607024758370766}. Best is trial 1 with value: 0.39055115373922716.\n",
      "[I 2023-12-22 12:52:39,977] Trial 2 finished with value: 0.38778843480678343 and parameters: {'input_dim': 53, 'hidden_dim': 49, 'window_size': 9, 'b_size': 52, 'learning_rate': 0.02310201887845294}. Best is trial 1 with value: 0.39055115373922716.\n",
      "[I 2023-12-22 12:53:03,509] Trial 3 finished with value: 0.3890394773422297 and parameters: {'input_dim': 77, 'hidden_dim': 22, 'window_size': 7, 'b_size': 73, 'learning_rate': 0.038234752246751866}. Best is trial 1 with value: 0.39055115373922716.\n",
      "[I 2023-12-22 12:53:27,941] Trial 4 finished with value: 0.3907944120100083 and parameters: {'input_dim': 142, 'hidden_dim': 15, 'window_size': 5, 'b_size': 67, 'learning_rate': 0.08168455894760163}. Best is trial 4 with value: 0.3907944120100083.\n",
      "[I 2023-12-22 12:53:50,612] Trial 5 finished with value: 0.38325340561579097 and parameters: {'input_dim': 168, 'hidden_dim': 18, 'window_size': 7, 'b_size': 89, 'learning_rate': 0.012385137298860933}. Best is trial 4 with value: 0.3907944120100083.\n",
      "[I 2023-12-22 12:54:10,688] Trial 6 finished with value: 0.38429594106199616 and parameters: {'input_dim': 141, 'hidden_dim': 16, 'window_size': 3, 'b_size': 124, 'learning_rate': 0.8536189862866826}. Best is trial 4 with value: 0.3907944120100083.\n",
      "[I 2023-12-22 12:54:33,105] Trial 7 finished with value: 0.3941305254378649 and parameters: {'input_dim': 172, 'hidden_dim': 22, 'window_size': 3, 'b_size': 98, 'learning_rate': 0.07591104805282695}. Best is trial 7 with value: 0.3941305254378649.\n",
      "[I 2023-12-22 12:54:52,874] Trial 8 finished with value: 0.38667639699749795 and parameters: {'input_dim': 68, 'hidden_dim': 30, 'window_size': 3, 'b_size': 120, 'learning_rate': 0.032927591344236166}. Best is trial 7 with value: 0.3941305254378649.\n",
      "[I 2023-12-22 12:55:16,728] Trial 9 finished with value: 0.38540797887128164 and parameters: {'input_dim': 150, 'hidden_dim': 22, 'window_size': 7, 'b_size': 85, 'learning_rate': 0.02342658105820405}. Best is trial 7 with value: 0.3941305254378649.\n",
      "[I 2023-12-22 12:55:51,466] Trial 10 finished with value: 0.39145468445927156 and parameters: {'input_dim': 197, 'hidden_dim': 38, 'window_size': 5, 'b_size': 33, 'learning_rate': 0.10745871100472208}. Best is trial 7 with value: 0.3941305254378649.\n",
      "[I 2023-12-22 12:56:24,909] Trial 11 finished with value: 0.38745829858215186 and parameters: {'input_dim': 191, 'hidden_dim': 38, 'window_size': 5, 'b_size': 40, 'learning_rate': 0.09933513765086906}. Best is trial 7 with value: 0.3941305254378649.\n",
      "[I 2023-12-22 12:56:47,821] Trial 12 finished with value: 0.3836182930219627 and parameters: {'input_dim': 200, 'hidden_dim': 34, 'window_size': 5, 'b_size': 109, 'learning_rate': 0.17819891594836498}. Best is trial 7 with value: 0.3941305254378649.\n",
      "[I 2023-12-22 12:57:23,491] Trial 13 finished with value: 0.3899951348345844 and parameters: {'input_dim': 176, 'hidden_dim': 42, 'window_size': 4, 'b_size': 33, 'learning_rate': 0.0595920613164576}. Best is trial 7 with value: 0.3941305254378649.\n",
      "[I 2023-12-22 12:57:46,408] Trial 14 finished with value: 0.3869891576313595 and parameters: {'input_dim': 172, 'hidden_dim': 29, 'window_size': 4, 'b_size': 105, 'learning_rate': 0.18000554787310746}. Best is trial 7 with value: 0.3941305254378649.\n",
      "[I 2023-12-22 12:58:12,199] Trial 15 finished with value: 0.39048165137614677 and parameters: {'input_dim': 113, 'hidden_dim': 25, 'window_size': 4, 'b_size': 58, 'learning_rate': 0.06296431661636057}. Best is trial 7 with value: 0.3941305254378649.\n",
      "[I 2023-12-22 12:58:36,236] Trial 16 finished with value: 0.38858771198220743 and parameters: {'input_dim': 185, 'hidden_dim': 42, 'window_size': 6, 'b_size': 104, 'learning_rate': 0.14071939991903698}. Best is trial 7 with value: 0.3941305254378649.\n",
      "[I 2023-12-22 12:59:05,510] Trial 17 finished with value: 0.38700653322212947 and parameters: {'input_dim': 157, 'hidden_dim': 34, 'window_size': 3, 'b_size': 49, 'learning_rate': 0.2993620086989368}. Best is trial 7 with value: 0.3941305254378649.\n",
      "[I 2023-12-22 12:59:30,287] Trial 18 finished with value: 0.39152418682235196 and parameters: {'input_dim': 200, 'hidden_dim': 30, 'window_size': 6, 'b_size': 76, 'learning_rate': 0.043822823657896484}. Best is trial 7 with value: 0.3941305254378649.\n",
      "[I 2023-12-22 12:59:54,890] Trial 19 finished with value: 0.3926536002224076 and parameters: {'input_dim': 123, 'hidden_dim': 27, 'window_size': 10, 'b_size': 74, 'learning_rate': 0.047441323130562985}. Best is trial 7 with value: 0.3941305254378649.\n",
      "[I 2023-12-22 13:00:20,991] Trial 20 finished with value: 0.38373992215735336 and parameters: {'input_dim': 127, 'hidden_dim': 25, 'window_size': 10, 'b_size': 64, 'learning_rate': 0.0102206905470606}. Best is trial 7 with value: 0.3941305254378649.\n",
      "[I 2023-12-22 13:00:45,207] Trial 21 finished with value: 0.3857381150959132 and parameters: {'input_dim': 93, 'hidden_dim': 29, 'window_size': 10, 'b_size': 77, 'learning_rate': 0.04580878602649989}. Best is trial 7 with value: 0.3941305254378649.\n",
      "[I 2023-12-22 13:01:09,417] Trial 22 finished with value: 0.39505143174867946 and parameters: {'input_dim': 127, 'hidden_dim': 22, 'window_size': 8, 'b_size': 80, 'learning_rate': 0.061044068827625475}. Best is trial 22 with value: 0.39505143174867946.\n",
      "[I 2023-12-22 13:01:32,187] Trial 23 finished with value: 0.3880316930775647 and parameters: {'input_dim': 124, 'hidden_dim': 20, 'window_size': 9, 'b_size': 95, 'learning_rate': 0.06373176718891958}. Best is trial 22 with value: 0.39505143174867946.\n",
      "[I 2023-12-22 13:01:53,301] Trial 24 finished with value: 0.39326174589936047 and parameters: {'input_dim': 98, 'hidden_dim': 26, 'window_size': 8, 'b_size': 100, 'learning_rate': 0.07237731180250245}. Best is trial 22 with value: 0.39505143174867946.\n",
      "[I 2023-12-22 13:02:13,745] Trial 25 finished with value: 0.38643313872671675 and parameters: {'input_dim': 103, 'hidden_dim': 11, 'window_size': 8, 'b_size': 98, 'learning_rate': 0.08630776283520152}. Best is trial 22 with value: 0.39505143174867946.\n",
      "[I 2023-12-22 13:02:33,881] Trial 26 finished with value: 0.38738879621907146 and parameters: {'input_dim': 84, 'hidden_dim': 24, 'window_size': 8, 'b_size': 113, 'learning_rate': 0.07306604028787635}. Best is trial 22 with value: 0.39505143174867946.\n",
      "[I 2023-12-22 13:02:54,072] Trial 27 finished with value: 0.3924450931331665 and parameters: {'input_dim': 137, 'hidden_dim': 20, 'window_size': 8, 'b_size': 117, 'learning_rate': 0.12547957183629055}. Best is trial 22 with value: 0.39505143174867946.\n",
      "[I 2023-12-22 13:03:17,133] Trial 28 finished with value: 0.38683277731442867 and parameters: {'input_dim': 159, 'hidden_dim': 15, 'window_size': 6, 'b_size': 100, 'learning_rate': 0.03164787083882244}. Best is trial 22 with value: 0.39505143174867946.\n",
      "[I 2023-12-22 13:03:36,891] Trial 29 finished with value: 0.3825062552126772 and parameters: {'input_dim': 102, 'hidden_dim': 19, 'window_size': 9, 'b_size': 128, 'learning_rate': 0.01683848556284195}. Best is trial 22 with value: 0.39505143174867946.\n",
      "[I 2023-12-22 13:03:59,795] Trial 30 finished with value: 0.3904642757853767 and parameters: {'input_dim': 115, 'hidden_dim': 34, 'window_size': 7, 'b_size': 83, 'learning_rate': 0.05422751103177613}. Best is trial 22 with value: 0.39505143174867946.\n",
      "[I 2023-12-22 13:04:24,847] Trial 31 finished with value: 0.39188907422852376 and parameters: {'input_dim': 126, 'hidden_dim': 27, 'window_size': 10, 'b_size': 70, 'learning_rate': 0.04590024930953055}. Best is trial 22 with value: 0.39505143174867946.\n",
      "[I 2023-12-22 13:04:46,728] Trial 32 finished with value: 0.3849562135112594 and parameters: {'input_dim': 115, 'hidden_dim': 23, 'window_size': 9, 'b_size': 92, 'learning_rate': 0.07956320532421239}. Best is trial 22 with value: 0.39505143174867946.\n",
      "[I 2023-12-22 13:05:09,337] Trial 33 finished with value: 0.3962155963302752 and parameters: {'input_dim': 57, 'hidden_dim': 26, 'window_size': 8, 'b_size': 83, 'learning_rate': 0.029693622822662944}. Best is trial 33 with value: 0.3962155963302752.\n",
      "[I 2023-12-22 13:05:31,089] Trial 34 finished with value: 0.38733666944676115 and parameters: {'input_dim': 51, 'hidden_dim': 26, 'window_size': 8, 'b_size': 87, 'learning_rate': 0.03237359600965129}. Best is trial 33 with value: 0.3962155963302752.\n",
      "[I 2023-12-22 13:05:53,662] Trial 35 finished with value: 0.38636363636363635 and parameters: {'input_dim': 66, 'hidden_dim': 32, 'window_size': 9, 'b_size': 80, 'learning_rate': 0.025545727107266637}. Best is trial 33 with value: 0.3962155963302752.\n",
      "[I 2023-12-22 13:06:15,726] Trial 36 finished with value: 0.38426118988045593 and parameters: {'input_dim': 90, 'hidden_dim': 17, 'window_size': 7, 'b_size': 95, 'learning_rate': 0.03427794072611337}. Best is trial 33 with value: 0.3962155963302752.\n",
      "[I 2023-12-22 13:06:36,547] Trial 37 finished with value: 0.38076869613566866 and parameters: {'input_dim': 61, 'hidden_dim': 13, 'window_size': 8, 'b_size': 103, 'learning_rate': 0.05747141842434589}. Best is trial 33 with value: 0.3962155963302752.\n",
      "[I 2023-12-22 13:07:00,922] Trial 38 finished with value: 0.38716291353906035 and parameters: {'input_dim': 79, 'hidden_dim': 21, 'window_size': 7, 'b_size': 63, 'learning_rate': 0.016678308915580045}. Best is trial 33 with value: 0.3962155963302752.\n",
      "[I 2023-12-22 13:07:23,467] Trial 39 finished with value: 0.3880664442591048 and parameters: {'input_dim': 93, 'hidden_dim': 22, 'window_size': 8, 'b_size': 89, 'learning_rate': 0.026554485207490253}. Best is trial 33 with value: 0.3962155963302752.\n",
      "[I 2023-12-22 13:07:45,792] Trial 40 finished with value: 0.39289685849318884 and parameters: {'input_dim': 150, 'hidden_dim': 13, 'window_size': 8, 'b_size': 92, 'learning_rate': 0.039413832947595845}. Best is trial 33 with value: 0.3962155963302752.\n",
      "[I 2023-12-22 13:08:07,763] Trial 41 finished with value: 0.3821413678065054 and parameters: {'input_dim': 137, 'hidden_dim': 12, 'window_size': 8, 'b_size': 81, 'learning_rate': 0.03855806387442563}. Best is trial 33 with value: 0.3962155963302752.\n",
      "[I 2023-12-22 13:08:30,776] Trial 42 finished with value: 0.3811162079510703 and parameters: {'input_dim': 182, 'hidden_dim': 10, 'window_size': 9, 'b_size': 92, 'learning_rate': 0.06743143235518523}. Best is trial 33 with value: 0.3962155963302752.\n",
      "[I 2023-12-22 13:08:52,567] Trial 43 finished with value: 0.3963893522379761 and parameters: {'input_dim': 151, 'hidden_dim': 14, 'window_size': 7, 'b_size': 110, 'learning_rate': 0.08691686968694587}. Best is trial 43 with value: 0.3963893522379761.\n",
      "[I 2023-12-22 13:09:13,759] Trial 44 finished with value: 0.3851820961912705 and parameters: {'input_dim': 163, 'hidden_dim': 18, 'window_size': 7, 'b_size': 110, 'learning_rate': 0.08645971724475297}. Best is trial 43 with value: 0.3963893522379761.\n",
      "[I 2023-12-22 13:09:35,125] Trial 45 finished with value: 0.3878753127606338 and parameters: {'input_dim': 145, 'hidden_dim': 15, 'window_size': 6, 'b_size': 114, 'learning_rate': 0.09976214700889333}. Best is trial 43 with value: 0.3963893522379761.\n",
      "[I 2023-12-22 13:09:56,887] Trial 46 finished with value: 0.3876320544898526 and parameters: {'input_dim': 151, 'hidden_dim': 23, 'window_size': 7, 'b_size': 122, 'learning_rate': 0.05292322251173273}. Best is trial 43 with value: 0.3963893522379761.\n",
      "[I 2023-12-22 13:10:18,439] Trial 47 finished with value: 0.3877536836252433 and parameters: {'input_dim': 167, 'hidden_dim': 28, 'window_size': 7, 'b_size': 108, 'learning_rate': 0.07298466071281301}. Best is trial 43 with value: 0.3963893522379761.\n",
      "[I 2023-12-22 13:10:40,615] Trial 48 finished with value: 0.3842090631081457 and parameters: {'input_dim': 133, 'hidden_dim': 31, 'window_size': 6, 'b_size': 99, 'learning_rate': 0.1086524470572418}. Best is trial 43 with value: 0.3963893522379761.\n",
      "[I 2023-12-22 13:11:05,348] Trial 49 finished with value: 0.39107242146232973 and parameters: {'input_dim': 177, 'hidden_dim': 17, 'window_size': 9, 'b_size': 84, 'learning_rate': 0.05247076567742347}. Best is trial 43 with value: 0.3963893522379761.\n"
     ]
    },
    {
     "name": "stdout",
     "output_type": "stream",
     "text": [
      "Best Hyperparameters: {'input_dim': 151, 'hidden_dim': 14, 'window_size': 7, 'b_size': 110, 'learning_rate': 0.08691686968694587}\n",
      "Best Accuracy: 0.3963893522379761\n"
     ]
    }
   ],
   "source": [
    "import optuna\n",
    "import torch\n",
    "import torch.nn as nn\n",
    "import torch.optim as optim\n",
    "from torch.utils.data import Dataset, DataLoader\n",
    "import pandas as pd\n",
    "import numpy as np\n",
    "from sklearn.metrics import accuracy_score\n",
    "from nltk.tokenize import word_tokenize\n",
    "from gensim.models import Word2Vec\n",
    "import multiprocessing\n",
    "from collections.abc import Mapping\n",
    "from torch.nn import functional as F\n",
    "num_cores = multiprocessing.cpu_count()\n",
    "n_epochs=11\n",
    "criterion=nn.CrossEntropyLoss()\n",
    "\n",
    "\n",
    "class Data(Dataset):\n",
    "    def __init__(self, x, y, input_dim):\n",
    "        self.x = torch.from_numpy(x).float()\n",
    "        self.y = torch.from_numpy(y)\n",
    "        self.len = self.x.shape[0]\n",
    "        self.input_dim = input_dim\n",
    "\n",
    "    def __getitem__(self, index):\n",
    "        return self.x[index, :self.input_dim], self.y[index]\n",
    "\n",
    "    def __len__(self):\n",
    "        return self.len\n",
    "\n",
    "class Net(nn.Module):\n",
    "    def __init__(self, D_in, H1, H2, H3, D_out):\n",
    "        super(Net, self).__init__()\n",
    "        self.linear1 = nn.Linear(D_in, H1)\n",
    "        self.bn1 = nn.BatchNorm1d(H1)\n",
    "        self.linear2 = nn.Linear(H1, H2)\n",
    "        self.bn2 = nn.BatchNorm1d(H2)\n",
    "        self.linear3 = nn.Linear(H2, H3)\n",
    "        self.bn3 = nn.BatchNorm1d(H3)\n",
    "        self.linear4 = nn.Linear(H3, D_out)\n",
    "\n",
    "    def forward(self, x):\n",
    "        x = F.relu(self.bn1(self.linear1(x)))\n",
    "        x = F.relu(self.bn2(self.linear2(x)))\n",
    "        x = F.relu(self.bn3(self.linear3(x)))\n",
    "        x = self.linear4(x)\n",
    "        return x\n",
    "\n",
    "def train_model(model, trainloader, optimizer, criterion):\n",
    "    model.train()\n",
    "    for x, y in trainloader:\n",
    "        optimizer.zero_grad()\n",
    "        z = model.forward(x)\n",
    "        loss = criterion(z, y)\n",
    "        loss.backward()\n",
    "        optimizer.step()\n",
    "def evaluate_model(model, x_val, y_val):\n",
    "    model.eval()\n",
    "    with torch.no_grad():\n",
    "        z_val = model.forward(x_val)\n",
    "        max_indexes = torch.argmax(z_val, dim=1)\n",
    "        y_pred = max_indexes.numpy()\n",
    "    accuracy = accuracy_score(y_val, y_pred)\n",
    "    return accuracy\n",
    "\n",
    "def objective(trial):\n",
    "    input_dim = trial.suggest_int('input_dim', 50, 200)\n",
    "    hidden_dim = trial.suggest_int('hidden_dim', 10, 50)\n",
    "    window_size = trial.suggest_int('window_size', 3, 10)\n",
    "    b_size = trial.suggest_int('b_size', 32, 128)\n",
    "    learning_rate = trial.suggest_float('learning_rate', 1e-2, 1, log=True)\n",
    "    model = Net(input_dim, 3*hidden_dim, 2*hidden_dim, hidden_dim, 3)\n",
    "    optimizer=torch.optim.SGD(model.parameters(), lr=learning_rate)\n",
    "    # Choose optimizer\n",
    "    scheduler = optim.lr_scheduler.StepLR(optimizer, step_size=3, gamma=0.1)  # Dynamic learning rate\n",
    "    \n",
    "\n",
    "    word2vec_model = Word2Vec(sentences=data['tokenized_text'].tolist(), vector_size=input_dim, window=window_size, min_count=1, workers=num_cores)\n",
    "    \n",
    "    data['mean_embedding'] = data['tokenized_text'].apply(lambda tokens: np.mean([word2vec_model.wv[word] for word in tokens if word in word2vec_model.wv], axis=0))\n",
    "    valid['mean_embedding'] = valid['tokenized_text'].apply(lambda tokens: np.mean([word2vec_model.wv[word] for word in tokens if word in word2vec_model.wv], axis=0))\n",
    "    x_train = data['mean_embedding']\n",
    "    x_val = valid['mean_embedding']\n",
    "    y_val = valid['Sentiment']\n",
    "    y_train = data['Sentiment']\n",
    "    \n",
    "    x_train = np.vstack(x_train).astype(np.float32)\n",
    "    x_val = np.vstack(x_val).astype(np.float32)\n",
    "    \n",
    "    \n",
    "    y_val = y_val.values\n",
    "    y_train = y_train.values\n",
    "    \n",
    "\n",
    "    data_set = Data(x_train, y_train, input_dim)\n",
    "    trainloader = DataLoader(dataset=data_set, batch_size=b_size, shuffle=True)\n",
    "   \n",
    "    accuracy_list = []\n",
    "\n",
    "    for epoch in range(n_epochs):\n",
    "        train_model(model, trainloader, optimizer, criterion)\n",
    "        scheduler.step()  # Adjust the learning rate dynamically\n",
    "        accuracy = evaluate_model(model, torch.from_numpy(x_val), y_val)\n",
    "        accuracy_list.append(accuracy)\n",
    "\n",
    "    return np.mean(accuracy_list)\n",
    "\n",
    "# Set up Optuna study\n",
    "study = optuna.create_study(direction='maximize',sampler=optuna.samplers.TPESampler(seed=42))\n",
    "study.optimize(objective, n_trials=50)\n",
    "\n",
    "# Get the best parameters\n",
    "best_params = study.best_params\n",
    "best_accuracy = study.best_value\n",
    "\n",
    "print(\"Best Hyperparameters:\", best_params)\n",
    "print(\"Best Accuracy:\", best_accuracy)"
   ]
  },
  {
   "cell_type": "markdown",
   "id": "209d9ebc",
   "metadata": {
    "papermill": {
     "duration": 0.056989,
     "end_time": "2023-12-22T13:11:05.530744",
     "exception": false,
     "start_time": "2023-12-22T13:11:05.473755",
     "status": "completed"
    },
    "tags": []
   },
   "source": [
    "Same as above but with 5 hidden layers"
   ]
  },
  {
   "cell_type": "code",
   "execution_count": 36,
   "id": "8518155c",
   "metadata": {
    "execution": {
     "iopub.execute_input": "2023-12-22T13:11:05.648463Z",
     "iopub.status.busy": "2023-12-22T13:11:05.647685Z",
     "iopub.status.idle": "2023-12-22T13:36:09.257379Z",
     "shell.execute_reply": "2023-12-22T13:36:09.256291Z"
    },
    "papermill": {
     "duration": 1503.732969,
     "end_time": "2023-12-22T13:36:09.321298",
     "exception": false,
     "start_time": "2023-12-22T13:11:05.588329",
     "status": "completed"
    },
    "tags": []
   },
   "outputs": [
    {
     "name": "stderr",
     "output_type": "stream",
     "text": [
      "[I 2023-12-22 13:11:05,677] A new study created in memory with name: no-name-ef3ae538-6041-4cfd-b825-032897169c12\n",
      "[I 2023-12-22 13:11:32,443] Trial 0 finished with value: 0.37943077564637195 and parameters: {'input_dim': 106, 'hidden_dim': 29, 'window_size': 8, 'b_size': 90, 'learning_rate': 0.020513382630874502}. Best is trial 0 with value: 0.37943077564637195.\n",
      "[I 2023-12-22 13:11:55,994] Trial 1 finished with value: 0.3807339449541285 and parameters: {'input_dim': 73, 'hidden_dim': 7, 'window_size': 9, 'b_size': 90, 'learning_rate': 0.2607024758370766}. Best is trial 1 with value: 0.3807339449541285.\n",
      "[I 2023-12-22 13:12:30,030] Trial 2 finished with value: 0.3783013622463164 and parameters: {'input_dim': 53, 'hidden_dim': 30, 'window_size': 9, 'b_size': 52, 'learning_rate': 0.02310201887845294}. Best is trial 1 with value: 0.3807339449541285.\n",
      "[I 2023-12-22 13:12:56,442] Trial 3 finished with value: 0.37972616068946347 and parameters: {'input_dim': 77, 'hidden_dim': 13, 'window_size': 7, 'b_size': 73, 'learning_rate': 0.038234752246751866}. Best is trial 1 with value: 0.3807339449541285.\n",
      "[I 2023-12-22 13:13:23,900] Trial 4 finished with value: 0.38645051431748684 and parameters: {'input_dim': 142, 'hidden_dim': 9, 'window_size': 5, 'b_size': 67, 'learning_rate': 0.08168455894760163}. Best is trial 4 with value: 0.38645051431748684.\n",
      "[I 2023-12-22 13:13:49,060] Trial 5 finished with value: 0.3839484292465944 and parameters: {'input_dim': 168, 'hidden_dim': 10, 'window_size': 7, 'b_size': 89, 'learning_rate': 0.012385137298860933}. Best is trial 4 with value: 0.38645051431748684.\n",
      "[I 2023-12-22 13:14:11,910] Trial 6 finished with value: 0.37845774256324716 and parameters: {'input_dim': 141, 'hidden_dim': 10, 'window_size': 3, 'b_size': 124, 'learning_rate': 0.8536189862866826}. Best is trial 4 with value: 0.38645051431748684.\n",
      "[I 2023-12-22 13:14:36,971] Trial 7 finished with value: 0.38257575757575757 and parameters: {'input_dim': 172, 'hidden_dim': 13, 'window_size': 3, 'b_size': 98, 'learning_rate': 0.07591104805282695}. Best is trial 4 with value: 0.38645051431748684.\n",
      "[I 2023-12-22 13:14:59,283] Trial 8 finished with value: 0.3793960244648318 and parameters: {'input_dim': 68, 'hidden_dim': 18, 'window_size': 3, 'b_size': 120, 'learning_rate': 0.032927591344236166}. Best is trial 4 with value: 0.38645051431748684.\n",
      "[I 2023-12-22 13:15:26,034] Trial 9 finished with value: 0.36890116763969977 and parameters: {'input_dim': 150, 'hidden_dim': 13, 'window_size': 7, 'b_size': 85, 'learning_rate': 0.02342658105820405}. Best is trial 4 with value: 0.38645051431748684.\n",
      "[I 2023-12-22 13:16:08,057] Trial 10 finished with value: 0.3842264386989157 and parameters: {'input_dim': 194, 'hidden_dim': 23, 'window_size': 5, 'b_size': 33, 'learning_rate': 0.13527769084615443}. Best is trial 4 with value: 0.38645051431748684.\n",
      "[I 2023-12-22 13:16:48,406] Trial 11 finished with value: 0.3808729496802892 and parameters: {'input_dim': 187, 'hidden_dim': 23, 'window_size': 5, 'b_size': 38, 'learning_rate': 0.12689081933149193}. Best is trial 4 with value: 0.38645051431748684.\n",
      "[I 2023-12-22 13:17:19,960] Trial 12 finished with value: 0.3889004726160689 and parameters: {'input_dim': 200, 'hidden_dim': 21, 'window_size': 5, 'b_size': 60, 'learning_rate': 0.10954467894569535}. Best is trial 12 with value: 0.3889004726160689.\n",
      "[I 2023-12-22 13:17:48,401] Trial 13 finished with value: 0.38957812065610226 and parameters: {'input_dim': 115, 'hidden_dim': 20, 'window_size': 5, 'b_size': 65, 'learning_rate': 0.06713824792641308}. Best is trial 13 with value: 0.38957812065610226.\n",
      "[I 2023-12-22 13:18:18,470] Trial 14 finished with value: 0.38592924659438416 and parameters: {'input_dim': 111, 'hidden_dim': 21, 'window_size': 5, 'b_size': 58, 'learning_rate': 0.061064672010183216}. Best is trial 13 with value: 0.38957812065610226.\n",
      "[I 2023-12-22 13:18:50,031] Trial 15 finished with value: 0.38876146788990823 and parameters: {'input_dim': 104, 'hidden_dim': 18, 'window_size': 4, 'b_size': 50, 'learning_rate': 0.20975457910271644}. Best is trial 13 with value: 0.38957812065610226.\n",
      "[I 2023-12-22 13:19:20,275] Trial 16 finished with value: 0.3831839032527106 and parameters: {'input_dim': 132, 'hidden_dim': 27, 'window_size': 6, 'b_size': 65, 'learning_rate': 0.054552282223754536}. Best is trial 13 with value: 0.38957812065610226.\n",
      "[I 2023-12-22 13:19:54,829] Trial 17 finished with value: 0.3893696135668613 and parameters: {'input_dim': 119, 'hidden_dim': 20, 'window_size': 6, 'b_size': 45, 'learning_rate': 0.2335962038670087}. Best is trial 13 with value: 0.38957812065610226.\n",
      "[I 2023-12-22 13:20:28,138] Trial 18 finished with value: 0.38351403947734225 and parameters: {'input_dim': 93, 'hidden_dim': 16, 'window_size': 6, 'b_size': 44, 'learning_rate': 0.30360322629674164}. Best is trial 13 with value: 0.38957812065610226.\n",
      "[I 2023-12-22 13:20:57,276] Trial 19 finished with value: 0.387892688351404 and parameters: {'input_dim': 121, 'hidden_dim': 25, 'window_size': 10, 'b_size': 73, 'learning_rate': 0.4257750977865393}. Best is trial 13 with value: 0.38957812065610226.\n",
      "[I 2023-12-22 13:21:31,343] Trial 20 finished with value: 0.3788747567417292 and parameters: {'input_dim': 90, 'hidden_dim': 17, 'window_size': 4, 'b_size': 43, 'learning_rate': 0.1711278085758797}. Best is trial 13 with value: 0.38957812065610226.\n",
      "[I 2023-12-22 13:22:02,787] Trial 21 finished with value: 0.3854427300528218 and parameters: {'input_dim': 124, 'hidden_dim': 20, 'window_size': 6, 'b_size': 56, 'learning_rate': 0.10766071937007392}. Best is trial 13 with value: 0.38957812065610226.\n",
      "[I 2023-12-22 13:22:32,669] Trial 22 finished with value: 0.3839484292465944 and parameters: {'input_dim': 159, 'hidden_dim': 21, 'window_size': 4, 'b_size': 66, 'learning_rate': 0.10844763985014531}. Best is trial 13 with value: 0.38957812065610226.\n",
      "[I 2023-12-22 13:22:59,422] Trial 23 finished with value: 0.3857381150959133 and parameters: {'input_dim': 117, 'hidden_dim': 24, 'window_size': 6, 'b_size': 77, 'learning_rate': 0.17380905305512573}. Best is trial 13 with value: 0.38957812065610226.\n",
      "[I 2023-12-22 13:23:29,154] Trial 24 finished with value: 0.38745829858215175 and parameters: {'input_dim': 132, 'hidden_dim': 20, 'window_size': 4, 'b_size': 61, 'learning_rate': 0.0790207050135058}. Best is trial 13 with value: 0.38957812065610226.\n",
      "[I 2023-12-22 13:24:04,644] Trial 25 finished with value: 0.3908465387823186 and parameters: {'input_dim': 98, 'hidden_dim': 26, 'window_size': 5, 'b_size': 45, 'learning_rate': 0.05219948621698273}. Best is trial 25 with value: 0.3908465387823186.\n",
      "[I 2023-12-22 13:24:41,087] Trial 26 finished with value: 0.38511259382819013 and parameters: {'input_dim': 94, 'hidden_dim': 27, 'window_size': 8, 'b_size': 46, 'learning_rate': 0.0400000916727017}. Best is trial 25 with value: 0.3908465387823186.\n",
      "[I 2023-12-22 13:25:20,988] Trial 27 finished with value: 0.38910897970531 and parameters: {'input_dim': 85, 'hidden_dim': 15, 'window_size': 6, 'b_size': 34, 'learning_rate': 0.06255759461368385}. Best is trial 25 with value: 0.3908465387823186.\n",
      "[I 2023-12-22 13:25:45,452] Trial 28 finished with value: 0.38419168751737565 and parameters: {'input_dim': 104, 'hidden_dim': 27, 'window_size': 5, 'b_size': 108, 'learning_rate': 0.057998220294673955}. Best is trial 25 with value: 0.3908465387823186.\n",
      "[I 2023-12-22 13:26:23,090] Trial 29 finished with value: 0.38612037809285515 and parameters: {'input_dim': 110, 'hidden_dim': 25, 'window_size': 8, 'b_size': 39, 'learning_rate': 0.04704271678092943}. Best is trial 25 with value: 0.3908465387823186.\n",
      "[I 2023-12-22 13:26:55,920] Trial 30 finished with value: 0.38940436474840145 and parameters: {'input_dim': 56, 'hidden_dim': 23, 'window_size': 7, 'b_size': 50, 'learning_rate': 0.029108728172289045}. Best is trial 25 with value: 0.3908465387823186.\n",
      "[I 2023-12-22 13:27:28,550] Trial 31 finished with value: 0.38448707256046705 and parameters: {'input_dim': 50, 'hidden_dim': 23, 'window_size': 7, 'b_size': 51, 'learning_rate': 0.029561947825290986}. Best is trial 25 with value: 0.3908465387823186.\n",
      "[I 2023-12-22 13:28:01,427] Trial 32 finished with value: 0.3847998331943286 and parameters: {'input_dim': 66, 'hidden_dim': 28, 'window_size': 6, 'b_size': 48, 'learning_rate': 0.04302000163085837}. Best is trial 25 with value: 0.3908465387823186.\n",
      "[I 2023-12-22 13:28:32,470] Trial 33 finished with value: 0.3847998331943286 and parameters: {'input_dim': 61, 'hidden_dim': 19, 'window_size': 8, 'b_size': 55, 'learning_rate': 0.02821739382128452}. Best is trial 25 with value: 0.3908465387823186.\n",
      "[I 2023-12-22 13:29:09,199] Trial 34 finished with value: 0.3848172087850987 and parameters: {'input_dim': 81, 'hidden_dim': 25, 'window_size': 9, 'b_size': 40, 'learning_rate': 0.01607482073869239}. Best is trial 25 with value: 0.3908465387823186.\n",
      "[I 2023-12-22 13:29:41,589] Trial 35 finished with value: 0.38208924103419517 and parameters: {'input_dim': 99, 'hidden_dim': 30, 'window_size': 7, 'b_size': 52, 'learning_rate': 0.01804522706138418}. Best is trial 25 with value: 0.3908465387823186.\n",
      "[I 2023-12-22 13:30:09,432] Trial 36 finished with value: 0.38547748123436193 and parameters: {'input_dim': 133, 'hidden_dim': 22, 'window_size': 7, 'b_size': 72, 'learning_rate': 0.03372011290401057}. Best is trial 25 with value: 0.3908465387823186.\n",
      "[I 2023-12-22 13:30:36,204] Trial 37 finished with value: 0.38973450097303314 and parameters: {'input_dim': 58, 'hidden_dim': 6, 'window_size': 5, 'b_size': 63, 'learning_rate': 0.0804384372555013}. Best is trial 25 with value: 0.3908465387823186.\n",
      "[I 2023-12-22 13:31:00,676] Trial 38 finished with value: 0.3837051709758132 and parameters: {'input_dim': 60, 'hidden_dim': 6, 'window_size': 4, 'b_size': 79, 'learning_rate': 0.0766981514535702}. Best is trial 25 with value: 0.3908465387823186.\n",
      "[I 2023-12-22 13:31:25,729] Trial 39 finished with value: 0.3870412844036697 and parameters: {'input_dim': 75, 'hidden_dim': 8, 'window_size': 5, 'b_size': 69, 'learning_rate': 0.04568393736069084}. Best is trial 25 with value: 0.3908465387823186.\n",
      "[I 2023-12-22 13:31:50,116] Trial 40 finished with value: 0.377224075618571 and parameters: {'input_dim': 57, 'hidden_dim': 14, 'window_size': 4, 'b_size': 86, 'learning_rate': 0.02238986365128022}. Best is trial 25 with value: 0.3908465387823186.\n",
      "[I 2023-12-22 13:32:17,719] Trial 41 finished with value: 0.38598137336669447 and parameters: {'input_dim': 69, 'hidden_dim': 19, 'window_size': 5, 'b_size': 62, 'learning_rate': 0.08543559855390456}. Best is trial 25 with value: 0.3908465387823186.\n",
      "[I 2023-12-22 13:32:47,390] Trial 42 finished with value: 0.38603350013900467 and parameters: {'input_dim': 114, 'hidden_dim': 10, 'window_size': 6, 'b_size': 55, 'learning_rate': 0.06743143235518523}. Best is trial 25 with value: 0.3908465387823186.\n",
      "[I 2023-12-22 13:33:19,943] Trial 43 finished with value: 0.3873192938559912 and parameters: {'input_dim': 82, 'hidden_dim': 24, 'window_size': 5, 'b_size': 46, 'learning_rate': 0.0480029111098745}. Best is trial 25 with value: 0.3908465387823186.\n",
      "[I 2023-12-22 13:33:56,691] Trial 44 finished with value: 0.38910897970531 and parameters: {'input_dim': 140, 'hidden_dim': 12, 'window_size': 6, 'b_size': 37, 'learning_rate': 0.09306801910210123}. Best is trial 25 with value: 0.3908465387823186.\n",
      "[I 2023-12-22 13:34:30,891] Trial 45 finished with value: 0.38559911036975264 and parameters: {'input_dim': 53, 'hidden_dim': 17, 'window_size': 7, 'b_size': 42, 'learning_rate': 0.03651210826938197}. Best is trial 25 with value: 0.3908465387823186.\n",
      "[I 2023-12-22 13:34:56,023] Trial 46 finished with value: 0.3916110647762024 and parameters: {'input_dim': 99, 'hidden_dim': 22, 'window_size': 5, 'b_size': 94, 'learning_rate': 0.07016309281476811}. Best is trial 46 with value: 0.3916110647762024.\n",
      "[I 2023-12-22 13:35:19,450] Trial 47 finished with value: 0.3875625521267723 and parameters: {'input_dim': 72, 'hidden_dim': 22, 'window_size': 3, 'b_size': 104, 'learning_rate': 0.052087311566062555}. Best is trial 46 with value: 0.3916110647762024.\n",
      "[I 2023-12-22 13:35:44,670] Trial 48 finished with value: 0.38182860717264383 and parameters: {'input_dim': 98, 'hidden_dim': 26, 'window_size': 5, 'b_size': 91, 'learning_rate': 0.06765501772121818}. Best is trial 46 with value: 0.3916110647762024.\n",
      "[I 2023-12-22 13:36:09,251] Trial 49 finished with value: 0.37976091187100364 and parameters: {'input_dim': 86, 'hidden_dim': 22, 'window_size': 4, 'b_size': 104, 'learning_rate': 0.027530780686585384}. Best is trial 46 with value: 0.3916110647762024.\n"
     ]
    },
    {
     "name": "stdout",
     "output_type": "stream",
     "text": [
      "Best Hyperparameters: {'input_dim': 99, 'hidden_dim': 22, 'window_size': 5, 'b_size': 94, 'learning_rate': 0.07016309281476811}\n",
      "Best Accuracy: 0.3916110647762024\n"
     ]
    }
   ],
   "source": [
    "import optuna\n",
    "import torch\n",
    "import torch.nn as nn\n",
    "import torch.optim as optim\n",
    "from torch.utils.data import Dataset, DataLoader\n",
    "import pandas as pd\n",
    "import numpy as np\n",
    "from sklearn.metrics import accuracy_score\n",
    "from nltk.tokenize import word_tokenize\n",
    "from gensim.models import Word2Vec\n",
    "import multiprocessing\n",
    "from collections.abc import Mapping\n",
    "from torch.nn import functional as F\n",
    "num_cores = multiprocessing.cpu_count()\n",
    "n_epochs=11\n",
    "criterion=nn.CrossEntropyLoss()\n",
    "\n",
    "\n",
    "class Data(Dataset):\n",
    "    def __init__(self, x, y, input_dim):\n",
    "        self.x = torch.from_numpy(x).float()\n",
    "        self.y = torch.from_numpy(y)\n",
    "        self.len = self.x.shape[0]\n",
    "        self.input_dim = input_dim\n",
    "\n",
    "    def __getitem__(self, index):\n",
    "        return self.x[index, :self.input_dim], self.y[index]\n",
    "\n",
    "    def __len__(self):\n",
    "        return self.len\n",
    "\n",
    "class Net(nn.Module):\n",
    "    def __init__(self, D_in, H1, H2, H3, H4, H5, D_out):\n",
    "        super(Net, self).__init__()\n",
    "        self.linear1 = nn.Linear(D_in, H1)\n",
    "        self.bn1 = nn.BatchNorm1d(H1)\n",
    "        self.linear2 = nn.Linear(H1, H2)\n",
    "        self.bn2 = nn.BatchNorm1d(H2)\n",
    "        self.linear3 = nn.Linear(H2, H3)\n",
    "        self.bn3 = nn.BatchNorm1d(H3)\n",
    "        self.linear4 = nn.Linear(H3, H4)\n",
    "        self.bn4 = nn.BatchNorm1d(H4)\n",
    "        self.linear5 = nn.Linear(H4, H5)\n",
    "        self.bn5 = nn.BatchNorm1d(H5)\n",
    "        self.linear6 = nn.Linear(H5, D_out)\n",
    "\n",
    "    def forward(self, x):\n",
    "        x = F.relu(self.bn1(self.linear1(x)))\n",
    "        x = F.relu(self.bn2(self.linear2(x)))\n",
    "        x = F.relu(self.bn3(self.linear3(x)))\n",
    "        x = F.relu(self.bn4(self.linear4(x)))\n",
    "        x = F.relu(self.bn5(self.linear5(x)))\n",
    "        x = self.linear6(x)\n",
    "        return x\n",
    "\n",
    "def train_model(model, trainloader, optimizer, criterion):\n",
    "    model.train()\n",
    "    for x, y in trainloader:\n",
    "        optimizer.zero_grad()\n",
    "        z = model.forward(x)\n",
    "        loss = criterion(z, y)\n",
    "        loss.backward()\n",
    "        optimizer.step()\n",
    "def evaluate_model(model, x_val, y_val):\n",
    "    model.eval()\n",
    "    with torch.no_grad():\n",
    "        z_val = model.forward(x_val)\n",
    "        max_indexes = torch.argmax(z_val, dim=1)\n",
    "        y_pred = max_indexes.numpy()\n",
    "    accuracy = accuracy_score(y_val, y_pred)\n",
    "    return accuracy\n",
    "\n",
    "def objective(trial):\n",
    "    input_dim = trial.suggest_int('input_dim', 50, 200)\n",
    "    hidden_dim = trial.suggest_int('hidden_dim', 6, 30)\n",
    "    window_size = trial.suggest_int('window_size', 3, 10)\n",
    "    b_size = trial.suggest_int('b_size', 32, 128)\n",
    "    learning_rate = trial.suggest_float('learning_rate', 1e-2, 1, log=True)\n",
    "    model = Net(input_dim, 5 * hidden_dim, 4 * hidden_dim, 3*hidden_dim, 2 * hidden_dim, hidden_dim, 3)\n",
    "    optimizer=torch.optim.SGD(model.parameters(), lr=learning_rate)\n",
    "    # Choose optimizer\n",
    "    scheduler = optim.lr_scheduler.StepLR(optimizer, step_size=3, gamma=0.1)  # Dynamic learning rate\n",
    "    \n",
    "\n",
    "    word2vec_model = Word2Vec(sentences=data['tokenized_text'].tolist(), vector_size=input_dim, window=window_size, min_count=1, workers=num_cores)\n",
    "    \n",
    "    data['mean_embedding'] = data['tokenized_text'].apply(lambda tokens: np.mean([word2vec_model.wv[word] for word in tokens if word in word2vec_model.wv], axis=0))\n",
    "    valid['mean_embedding'] = valid['tokenized_text'].apply(lambda tokens: np.mean([word2vec_model.wv[word] for word in tokens if word in word2vec_model.wv], axis=0))\n",
    "    x_train = data['mean_embedding']\n",
    "    x_val = valid['mean_embedding']\n",
    "    y_val = valid['Sentiment']\n",
    "    y_train = data['Sentiment']\n",
    "    \n",
    "    x_train = np.vstack(x_train).astype(np.float32)\n",
    "    x_val = np.vstack(x_val).astype(np.float32)\n",
    "    \n",
    "    \n",
    "    y_val = y_val.values\n",
    "    y_train = y_train.values\n",
    "    \n",
    "\n",
    "    data_set = Data(x_train, y_train, input_dim)\n",
    "    trainloader = DataLoader(dataset=data_set, batch_size=b_size, shuffle=True)\n",
    "   \n",
    "    accuracy_list = []\n",
    "\n",
    "    for epoch in range(n_epochs):\n",
    "        train_model(model, trainloader, optimizer, criterion)\n",
    "        scheduler.step()  # Adjust the learning rate dynamically\n",
    "        accuracy = evaluate_model(model, torch.from_numpy(x_val), y_val)\n",
    "        accuracy_list.append(accuracy)\n",
    "\n",
    "    return np.mean(accuracy_list)\n",
    "\n",
    "# Set up Optuna study\n",
    "study = optuna.create_study(direction='maximize',sampler=optuna.samplers.TPESampler(seed=42))\n",
    "study.optimize(objective, n_trials=50)\n",
    "\n",
    "# Get the best parameters\n",
    "best_params = study.best_params\n",
    "best_accuracy = study.best_value\n",
    "\n",
    "print(\"Best Hyperparameters:\", best_params)\n",
    "print(\"Best Accuracy:\", best_accuracy)"
   ]
  },
  {
   "cell_type": "markdown",
   "id": "50c88c79",
   "metadata": {
    "papermill": {
     "duration": 0.061179,
     "end_time": "2023-12-22T13:36:09.444403",
     "exception": false,
     "start_time": "2023-12-22T13:36:09.383224",
     "status": "completed"
    },
    "tags": []
   },
   "source": [
    "Interesting, the best results were with the first approach with just one hidden layer that was using sigmoid, lets try relu with one layer to check which is better"
   ]
  },
  {
   "cell_type": "markdown",
   "id": "1f621af2",
   "metadata": {
    "papermill": {
     "duration": 0.061362,
     "end_time": "2023-12-22T13:36:09.567518",
     "exception": false,
     "start_time": "2023-12-22T13:36:09.506156",
     "status": "completed"
    },
    "tags": []
   },
   "source": [
    "In the examples with 3 and 5 hidden layers relu was used, perhaps the fact that we didnt get any benefit using more layers was due to using relu instead of sigmoid, lets check"
   ]
  },
  {
   "cell_type": "code",
   "execution_count": 37,
   "id": "2388e6f1",
   "metadata": {
    "execution": {
     "iopub.execute_input": "2023-12-22T13:36:09.695939Z",
     "iopub.status.busy": "2023-12-22T13:36:09.694628Z",
     "iopub.status.idle": "2023-12-22T13:53:13.977847Z",
     "shell.execute_reply": "2023-12-22T13:53:13.976743Z"
    },
    "papermill": {
     "duration": 1024.417611,
     "end_time": "2023-12-22T13:53:14.047418",
     "exception": false,
     "start_time": "2023-12-22T13:36:09.629807",
     "status": "completed"
    },
    "tags": []
   },
   "outputs": [
    {
     "name": "stderr",
     "output_type": "stream",
     "text": [
      "[I 2023-12-22 13:36:09,718] A new study created in memory with name: no-name-17adffe1-3adc-4191-bee2-c2c3f4bec499\n",
      "[I 2023-12-22 13:36:27,975] Trial 0 finished with value: 0.3876146788990826 and parameters: {'input_dim': 106, 'hidden_dim': 48, 'window_size': 8, 'b_size': 90, 'learning_rate': 0.020513382630874502}. Best is trial 0 with value: 0.3876146788990826.\n",
      "[I 2023-12-22 13:36:45,749] Trial 1 finished with value: 0.3797782874617737 and parameters: {'input_dim': 73, 'hidden_dim': 12, 'window_size': 9, 'b_size': 90, 'learning_rate': 0.2607024758370766}. Best is trial 0 with value: 0.3876146788990826.\n",
      "[I 2023-12-22 13:37:06,874] Trial 2 finished with value: 0.3849388379204893 and parameters: {'input_dim': 53, 'hidden_dim': 49, 'window_size': 9, 'b_size': 52, 'learning_rate': 0.02310201887845294}. Best is trial 0 with value: 0.3876146788990826.\n",
      "[I 2023-12-22 13:37:25,735] Trial 3 finished with value: 0.38952599388379205 and parameters: {'input_dim': 77, 'hidden_dim': 22, 'window_size': 7, 'b_size': 73, 'learning_rate': 0.038234752246751866}. Best is trial 3 with value: 0.38952599388379205.\n",
      "[I 2023-12-22 13:37:45,783] Trial 4 finished with value: 0.3916284403669725 and parameters: {'input_dim': 142, 'hidden_dim': 15, 'window_size': 5, 'b_size': 67, 'learning_rate': 0.08168455894760163}. Best is trial 4 with value: 0.3916284403669725.\n",
      "[I 2023-12-22 13:38:05,147] Trial 5 finished with value: 0.389717125382263 and parameters: {'input_dim': 168, 'hidden_dim': 18, 'window_size': 7, 'b_size': 89, 'learning_rate': 0.012385137298860933}. Best is trial 4 with value: 0.3916284403669725.\n",
      "[I 2023-12-22 13:38:22,609] Trial 6 finished with value: 0.386085626911315 and parameters: {'input_dim': 141, 'hidden_dim': 16, 'window_size': 3, 'b_size': 124, 'learning_rate': 0.8536189862866826}. Best is trial 4 with value: 0.3916284403669725.\n",
      "[I 2023-12-22 13:38:41,588] Trial 7 finished with value: 0.3893348623853211 and parameters: {'input_dim': 172, 'hidden_dim': 22, 'window_size': 3, 'b_size': 98, 'learning_rate': 0.07591104805282695}. Best is trial 4 with value: 0.3916284403669725.\n",
      "[I 2023-12-22 13:38:58,157] Trial 8 finished with value: 0.38799694189602446 and parameters: {'input_dim': 68, 'hidden_dim': 30, 'window_size': 3, 'b_size': 120, 'learning_rate': 0.032927591344236166}. Best is trial 4 with value: 0.3916284403669725.\n",
      "[I 2023-12-22 13:39:18,100] Trial 9 finished with value: 0.3929663608562691 and parameters: {'input_dim': 150, 'hidden_dim': 22, 'window_size': 7, 'b_size': 85, 'learning_rate': 0.02342658105820405}. Best is trial 9 with value: 0.3929663608562691.\n",
      "[I 2023-12-22 13:39:43,927] Trial 10 finished with value: 0.3889525993883792 and parameters: {'input_dim': 195, 'hidden_dim': 38, 'window_size': 5, 'b_size': 33, 'learning_rate': 0.010786531858393435}. Best is trial 9 with value: 0.3929663608562691.\n",
      "[I 2023-12-22 13:40:04,587] Trial 11 finished with value: 0.3937308868501529 and parameters: {'input_dim': 127, 'hidden_dim': 29, 'window_size': 5, 'b_size': 64, 'learning_rate': 0.07738934781109344}. Best is trial 11 with value: 0.3937308868501529.\n",
      "[I 2023-12-22 13:40:26,089] Trial 12 finished with value: 0.3952599388379205 and parameters: {'input_dim': 124, 'hidden_dim': 31, 'window_size': 5, 'b_size': 55, 'learning_rate': 0.16140659244842917}. Best is trial 12 with value: 0.3952599388379205.\n",
      "[I 2023-12-22 13:40:46,807] Trial 13 finished with value: 0.38914373088685017 and parameters: {'input_dim': 111, 'hidden_dim': 33, 'window_size': 5, 'b_size': 54, 'learning_rate': 0.18503079208668316}. Best is trial 12 with value: 0.3952599388379205.\n",
      "[I 2023-12-22 13:41:07,729] Trial 14 finished with value: 0.3878058103975535 and parameters: {'input_dim': 111, 'hidden_dim': 30, 'window_size': 5, 'b_size': 53, 'learning_rate': 0.18000554787310746}. Best is trial 12 with value: 0.3952599388379205.\n",
      "[I 2023-12-22 13:41:30,856] Trial 15 finished with value: 0.3912461773700306 and parameters: {'input_dim': 95, 'hidden_dim': 41, 'window_size': 4, 'b_size': 39, 'learning_rate': 0.060420377563302465}. Best is trial 12 with value: 0.3952599388379205.\n",
      "[I 2023-12-22 13:41:50,922] Trial 16 finished with value: 0.39659785932721714 and parameters: {'input_dim': 131, 'hidden_dim': 36, 'window_size': 6, 'b_size': 65, 'learning_rate': 0.11522822110599186}. Best is trial 16 with value: 0.39659785932721714.\n",
      "[I 2023-12-22 13:42:13,691] Trial 17 finished with value: 0.38474770642201833 and parameters: {'input_dim': 125, 'hidden_dim': 38, 'window_size': 6, 'b_size': 45, 'learning_rate': 0.13123321676423902}. Best is trial 16 with value: 0.39659785932721714.\n",
      "[I 2023-12-22 13:42:32,261] Trial 18 finished with value: 0.3893348623853211 and parameters: {'input_dim': 165, 'hidden_dim': 42, 'window_size': 6, 'b_size': 108, 'learning_rate': 0.30860431163770413}. Best is trial 16 with value: 0.39659785932721714.\n",
      "[I 2023-12-22 13:42:51,856] Trial 19 finished with value: 0.39239296636085624 and parameters: {'input_dim': 128, 'hidden_dim': 34, 'window_size': 10, 'b_size': 75, 'learning_rate': 0.12460075487121523}. Best is trial 16 with value: 0.39659785932721714.\n",
      "[I 2023-12-22 13:43:11,965] Trial 20 finished with value: 0.38837920489296635 and parameters: {'input_dim': 90, 'hidden_dim': 25, 'window_size': 4, 'b_size': 60, 'learning_rate': 0.4140253444831962}. Best is trial 16 with value: 0.39659785932721714.\n",
      "[I 2023-12-22 13:43:32,458] Trial 21 finished with value: 0.3973623853211009 and parameters: {'input_dim': 125, 'hidden_dim': 28, 'window_size': 6, 'b_size': 66, 'learning_rate': 0.0965474226825717}. Best is trial 21 with value: 0.3973623853211009.\n",
      "[I 2023-12-22 13:43:52,781] Trial 22 finished with value: 0.3948776758409786 and parameters: {'input_dim': 150, 'hidden_dim': 26, 'window_size': 6, 'b_size': 71, 'learning_rate': 0.11877829104899512}. Best is trial 21 with value: 0.3973623853211009.\n",
      "[I 2023-12-22 13:44:13,804] Trial 23 finished with value: 0.39105504587155965 and parameters: {'input_dim': 121, 'hidden_dim': 35, 'window_size': 4, 'b_size': 60, 'learning_rate': 0.04544512681300563}. Best is trial 21 with value: 0.3973623853211009.\n",
      "[I 2023-12-22 13:44:33,689] Trial 24 finished with value: 0.3912461773700306 and parameters: {'input_dim': 138, 'hidden_dim': 27, 'window_size': 8, 'b_size': 78, 'learning_rate': 0.05675340745421163}. Best is trial 21 with value: 0.3973623853211009.\n",
      "[I 2023-12-22 13:44:55,413] Trial 25 finished with value: 0.38876146788990823 and parameters: {'input_dim': 100, 'hidden_dim': 43, 'window_size': 6, 'b_size': 45, 'learning_rate': 0.09240538757372135}. Best is trial 21 with value: 0.3973623853211009.\n",
      "[I 2023-12-22 13:45:17,949] Trial 26 finished with value: 0.37366207951070335 and parameters: {'input_dim': 118, 'hidden_dim': 37, 'window_size': 7, 'b_size': 47, 'learning_rate': 0.172241909955884}. Best is trial 21 with value: 0.3973623853211009.\n",
      "[I 2023-12-22 13:45:39,101] Trial 27 finished with value: 0.3876146788990826 and parameters: {'input_dim': 160, 'hidden_dim': 32, 'window_size': 8, 'b_size': 60, 'learning_rate': 0.11882482196604924}. Best is trial 21 with value: 0.3973623853211009.\n",
      "[I 2023-12-22 13:45:58,612] Trial 28 finished with value: 0.39258409785932724 and parameters: {'input_dim': 134, 'hidden_dim': 44, 'window_size': 6, 'b_size': 82, 'learning_rate': 0.06431873710461321}. Best is trial 21 with value: 0.3973623853211009.\n",
      "[I 2023-12-22 13:46:18,453] Trial 29 finished with value: 0.39392201834862384 and parameters: {'input_dim': 182, 'hidden_dim': 45, 'window_size': 4, 'b_size': 101, 'learning_rate': 0.09743689832086842}. Best is trial 21 with value: 0.3973623853211009.\n",
      "[I 2023-12-22 13:46:38,040] Trial 30 finished with value: 0.38685015290519875 and parameters: {'input_dim': 104, 'hidden_dim': 40, 'window_size': 5, 'b_size': 66, 'learning_rate': 0.05457202467709749}. Best is trial 21 with value: 0.3973623853211009.\n",
      "[I 2023-12-22 13:46:58,512] Trial 31 finished with value: 0.3916284403669725 and parameters: {'input_dim': 150, 'hidden_dim': 25, 'window_size': 6, 'b_size': 69, 'learning_rate': 0.11513484054950815}. Best is trial 21 with value: 0.3973623853211009.\n",
      "[I 2023-12-22 13:47:19,283] Trial 32 finished with value: 0.38952599388379205 and parameters: {'input_dim': 155, 'hidden_dim': 27, 'window_size': 6, 'b_size': 72, 'learning_rate': 0.15253238039948888}. Best is trial 21 with value: 0.3973623853211009.\n",
      "[I 2023-12-22 13:47:40,848] Trial 33 finished with value: 0.39105504587155965 and parameters: {'input_dim': 114, 'hidden_dim': 31, 'window_size': 7, 'b_size': 56, 'learning_rate': 0.09423089840612471}. Best is trial 21 with value: 0.3973623853211009.\n",
      "[I 2023-12-22 13:48:00,689] Trial 34 finished with value: 0.3841743119266055 and parameters: {'input_dim': 147, 'hidden_dim': 27, 'window_size': 8, 'b_size': 79, 'learning_rate': 0.15292155925490447}. Best is trial 21 with value: 0.3973623853211009.\n",
      "[I 2023-12-22 13:48:20,212] Trial 35 finished with value: 0.38876146788990823 and parameters: {'input_dim': 133, 'hidden_dim': 35, 'window_size': 6, 'b_size': 71, 'learning_rate': 0.21783889161071032}. Best is trial 21 with value: 0.3973623853211009.\n",
      "[I 2023-12-22 13:48:41,230] Trial 36 finished with value: 0.38952599388379205 and parameters: {'input_dim': 177, 'hidden_dim': 11, 'window_size': 7, 'b_size': 63, 'learning_rate': 0.25921841896205583}. Best is trial 21 with value: 0.3973623853211009.\n",
      "[I 2023-12-22 13:49:02,623] Trial 37 finished with value: 0.39506880733944955 and parameters: {'input_dim': 91, 'hidden_dim': 20, 'window_size': 5, 'b_size': 49, 'learning_rate': 0.1096312469185232}. Best is trial 21 with value: 0.3973623853211009.\n",
      "[I 2023-12-22 13:49:24,063] Trial 38 finished with value: 0.39755351681957185 and parameters: {'input_dim': 86, 'hidden_dim': 19, 'window_size': 4, 'b_size': 50, 'learning_rate': 0.07995387492123815}. Best is trial 38 with value: 0.39755351681957185.\n",
      "[I 2023-12-22 13:49:45,566] Trial 39 finished with value: 0.3912461773700306 and parameters: {'input_dim': 50, 'hidden_dim': 14, 'window_size': 4, 'b_size': 41, 'learning_rate': 0.08047372442470038}. Best is trial 38 with value: 0.39755351681957185.\n",
      "[I 2023-12-22 13:50:08,862] Trial 40 finished with value: 0.389717125382263 and parameters: {'input_dim': 81, 'hidden_dim': 50, 'window_size': 3, 'b_size': 37, 'learning_rate': 0.041973792297606546}. Best is trial 38 with value: 0.39755351681957185.\n",
      "[I 2023-12-22 13:50:30,170] Trial 41 finished with value: 0.3885703363914373 and parameters: {'input_dim': 86, 'hidden_dim': 18, 'window_size': 5, 'b_size': 47, 'learning_rate': 0.07594690858880133}. Best is trial 38 with value: 0.39755351681957185.\n",
      "[I 2023-12-22 13:50:50,587] Trial 42 finished with value: 0.3881880733944954 and parameters: {'input_dim': 66, 'hidden_dim': 20, 'window_size': 5, 'b_size': 50, 'learning_rate': 0.09586830817557215}. Best is trial 38 with value: 0.39755351681957185.\n",
      "[I 2023-12-22 13:51:11,009] Trial 43 finished with value: 0.3983180428134557 and parameters: {'input_dim': 60, 'hidden_dim': 23, 'window_size': 4, 'b_size': 56, 'learning_rate': 0.1375385552240261}. Best is trial 43 with value: 0.3983180428134557.\n",
      "[I 2023-12-22 13:51:31,585] Trial 44 finished with value: 0.3977446483180428 and parameters: {'input_dim': 59, 'hidden_dim': 23, 'window_size': 4, 'b_size': 55, 'learning_rate': 0.13737618375898308}. Best is trial 43 with value: 0.3983180428134557.\n",
      "[I 2023-12-22 13:51:51,462] Trial 45 finished with value: 0.3885703363914373 and parameters: {'input_dim': 60, 'hidden_dim': 23, 'window_size': 3, 'b_size': 57, 'learning_rate': 0.06692146345929242}. Best is trial 43 with value: 0.3983180428134557.\n",
      "[I 2023-12-22 13:52:10,913] Trial 46 finished with value: 0.3881880733944954 and parameters: {'input_dim': 59, 'hidden_dim': 18, 'window_size': 4, 'b_size': 64, 'learning_rate': 0.13891286406471676}. Best is trial 43 with value: 0.3983180428134557.\n",
      "[I 2023-12-22 13:52:34,521] Trial 47 finished with value: 0.38436544342507645 and parameters: {'input_dim': 72, 'hidden_dim': 20, 'window_size': 9, 'b_size': 34, 'learning_rate': 0.09495270776908882}. Best is trial 43 with value: 0.3983180428134557.\n",
      "[I 2023-12-22 13:52:52,124] Trial 48 finished with value: 0.39048165137614677 and parameters: {'input_dim': 57, 'hidden_dim': 24, 'window_size': 3, 'b_size': 89, 'learning_rate': 0.034436326019107955}. Best is trial 43 with value: 0.3983180428134557.\n",
      "[I 2023-12-22 13:53:13,972] Trial 49 finished with value: 0.37844036697247707 and parameters: {'input_dim': 78, 'hidden_dim': 14, 'window_size': 4, 'b_size': 43, 'learning_rate': 0.20227164484761093}. Best is trial 43 with value: 0.3983180428134557.\n"
     ]
    },
    {
     "name": "stdout",
     "output_type": "stream",
     "text": [
      "Best Hyperparameters: {'input_dim': 60, 'hidden_dim': 23, 'window_size': 4, 'b_size': 56, 'learning_rate': 0.1375385552240261}\n",
      "Best Accuracy: 0.3983180428134557\n"
     ]
    }
   ],
   "source": [
    "import optuna\n",
    "import torch\n",
    "import torch.nn as nn\n",
    "import torch.optim as optim\n",
    "from torch.utils.data import Dataset, DataLoader\n",
    "import pandas as pd\n",
    "import numpy as np\n",
    "from sklearn.metrics import accuracy_score\n",
    "from nltk.tokenize import word_tokenize\n",
    "from gensim.models import Word2Vec\n",
    "import multiprocessing\n",
    "from collections.abc import Mapping\n",
    "num_cores = multiprocessing.cpu_count()\n",
    "n_epochs=11\n",
    "criterion=nn.CrossEntropyLoss()\n",
    "\n",
    "\n",
    "class Data(Dataset):\n",
    "    def __init__(self, x, y, input_dim):\n",
    "        self.x = torch.from_numpy(x).float()\n",
    "        self.y = torch.from_numpy(y)\n",
    "        self.len = self.x.shape[0]\n",
    "        self.input_dim = input_dim\n",
    "\n",
    "    def __getitem__(self, index):\n",
    "        return self.x[index, :self.input_dim], self.y[index]\n",
    "\n",
    "    def __len__(self):\n",
    "        return self.len\n",
    "\n",
    "class Net(nn.Module):\n",
    "    def __init__(self, D_in, H, D_out):\n",
    "        super(Net, self).__init__()\n",
    "        self.linear1 = nn.Linear(D_in, H)\n",
    "        self.bn1 = nn.BatchNorm1d(H)\n",
    "        self.linear2 = nn.Linear(H, D_out)\n",
    "\n",
    "    def forward(self, x):\n",
    "        x = F.relu(self.bn1(self.linear1(x)))\n",
    "        x = self.linear2(x)\n",
    "        return x\n",
    "    \n",
    "def objective(trial):\n",
    "    input_dim = trial.suggest_int('input_dim', 50, 200)\n",
    "    hidden_dim = trial.suggest_int('hidden_dim', 10, 50)\n",
    "    window_size = trial.suggest_int('window_size', 3, 10)\n",
    "    b_size = trial.suggest_int('b_size', 32, 128)\n",
    "    learning_rate = trial.suggest_float('learning_rate', 1e-2, 1, log=True)\n",
    "    model = Net(input_dim, hidden_dim, output_dim)\n",
    "    optimizer=torch.optim.SGD(model.parameters(), lr=learning_rate)\n",
    "    # Choose optimizer\n",
    "    \n",
    "    \n",
    "\n",
    "    word2vec_model = Word2Vec(sentences=data['tokenized_text'].tolist(), vector_size=input_dim, window=window_size, min_count=1, workers=num_cores)\n",
    "    \n",
    "    data['mean_embedding'] = data['tokenized_text'].apply(lambda tokens: np.mean([word2vec_model.wv[word] for word in tokens if word in word2vec_model.wv], axis=0))\n",
    "    valid['mean_embedding'] = valid['tokenized_text'].apply(lambda tokens: np.mean([word2vec_model.wv[word] for word in tokens if word in word2vec_model.wv], axis=0))\n",
    "    x_train = data['mean_embedding']\n",
    "    x_val = valid['mean_embedding']\n",
    "    y_val = valid['Sentiment']\n",
    "    y_train = data['Sentiment']\n",
    "    \n",
    "    x_train = np.vstack(x_train).astype(np.float32)\n",
    "    x_val = np.vstack(x_val).astype(np.float32)\n",
    "    \n",
    "    \n",
    "    y_val = y_val.values\n",
    "    y_train = y_train.values\n",
    "    \n",
    "\n",
    "    data_set = Data(x_train, y_train, input_dim)\n",
    "    trainloader = DataLoader(dataset=data_set, batch_size=b_size, shuffle=True)\n",
    "   \n",
    "    loss_list = []\n",
    "\n",
    "    for epoch in range(n_epochs):\n",
    "        for x, y in trainloader:\n",
    "            optimizer.zero_grad()\n",
    "            z = model.forward(x)\n",
    "            loss = criterion(z, y)\n",
    "            loss.backward()\n",
    "            optimizer.step()\n",
    "            \n",
    "            loss_list.append(loss.item())\n",
    "\n",
    "    x_val_tensor = torch.from_numpy(x_val)\n",
    "    z_val = model.forward(x_val_tensor)\n",
    "    max_indexes = torch.argmax(z_val, dim=1)\n",
    "    y_pred = max_indexes.numpy()\n",
    "\n",
    "    accuracy = accuracy_score(y_val, y_pred)\n",
    "    return accuracy\n",
    "\n",
    "# Set up Optuna study\n",
    "study = optuna.create_study(direction='maximize',sampler=optuna.samplers.TPESampler(seed=42))\n",
    "study.optimize(objective, n_trials=50)\n",
    "\n",
    "# Get the best parameters\n",
    "best_params = study.best_params\n",
    "best_accuracy = study.best_value\n",
    "\n",
    "print(\"Best Hyperparameters:\", best_params)\n",
    "print(\"Best Accuracy:\", best_accuracy)"
   ]
  },
  {
   "cell_type": "markdown",
   "id": "52e63b25",
   "metadata": {
    "papermill": {
     "duration": 0.140755,
     "end_time": "2023-12-22T13:53:14.256193",
     "exception": false,
     "start_time": "2023-12-22T13:53:14.115438",
     "status": "completed"
    },
    "tags": []
   },
   "source": [
    "We got an even better result using relu and one hidden layer, so using this NN we will try to use adam optimizer instead"
   ]
  },
  {
   "cell_type": "code",
   "execution_count": 38,
   "id": "a1fe33bc",
   "metadata": {
    "execution": {
     "iopub.execute_input": "2023-12-22T13:53:14.395306Z",
     "iopub.status.busy": "2023-12-22T13:53:14.394502Z",
     "iopub.status.idle": "2023-12-22T14:12:53.627017Z",
     "shell.execute_reply": "2023-12-22T14:12:53.625808Z"
    },
    "papermill": {
     "duration": 1179.304994,
     "end_time": "2023-12-22T14:12:53.629896",
     "exception": false,
     "start_time": "2023-12-22T13:53:14.324902",
     "status": "completed"
    },
    "tags": []
   },
   "outputs": [
    {
     "name": "stderr",
     "output_type": "stream",
     "text": [
      "[I 2023-12-22 13:53:14,418] A new study created in memory with name: no-name-9159c315-acd8-40d6-a8a4-8fb8ff1abd24\n",
      "[I 2023-12-22 13:53:34,946] Trial 0 finished with value: 0.3900993883792049 and parameters: {'input_dim': 106, 'hidden_dim': 48, 'window_size': 8, 'b_size': 90, 'learning_rate': 0.020513382630874502}. Best is trial 0 with value: 0.3900993883792049.\n",
      "[I 2023-12-22 13:53:56,386] Trial 1 finished with value: 0.3333333333333333 and parameters: {'input_dim': 73, 'hidden_dim': 12, 'window_size': 9, 'b_size': 90, 'learning_rate': 0.2607024758370766}. Best is trial 0 with value: 0.3900993883792049.\n",
      "[I 2023-12-22 13:54:21,749] Trial 2 finished with value: 0.3486238532110092 and parameters: {'input_dim': 53, 'hidden_dim': 49, 'window_size': 9, 'b_size': 52, 'learning_rate': 0.02310201887845294}. Best is trial 0 with value: 0.3900993883792049.\n",
      "[I 2023-12-22 13:54:43,397] Trial 3 finished with value: 0.3830275229357798 and parameters: {'input_dim': 77, 'hidden_dim': 22, 'window_size': 7, 'b_size': 73, 'learning_rate': 0.038234752246751866}. Best is trial 0 with value: 0.3900993883792049.\n",
      "[I 2023-12-22 13:55:07,820] Trial 4 finished with value: 0.3333333333333333 and parameters: {'input_dim': 142, 'hidden_dim': 15, 'window_size': 5, 'b_size': 67, 'learning_rate': 0.08168455894760163}. Best is trial 0 with value: 0.3900993883792049.\n",
      "[I 2023-12-22 13:55:29,155] Trial 5 finished with value: 0.3795871559633027 and parameters: {'input_dim': 168, 'hidden_dim': 18, 'window_size': 7, 'b_size': 89, 'learning_rate': 0.012385137298860933}. Best is trial 0 with value: 0.3900993883792049.\n",
      "[I 2023-12-22 13:55:49,975] Trial 6 finished with value: 0.3333333333333333 and parameters: {'input_dim': 141, 'hidden_dim': 16, 'window_size': 3, 'b_size': 124, 'learning_rate': 0.8536189862866826}. Best is trial 0 with value: 0.3900993883792049.\n",
      "[I 2023-12-22 13:56:12,636] Trial 7 finished with value: 0.3511085626911315 and parameters: {'input_dim': 172, 'hidden_dim': 22, 'window_size': 3, 'b_size': 98, 'learning_rate': 0.07591104805282695}. Best is trial 0 with value: 0.3900993883792049.\n",
      "[I 2023-12-22 13:56:30,697] Trial 8 finished with value: 0.3862767584097859 and parameters: {'input_dim': 68, 'hidden_dim': 30, 'window_size': 3, 'b_size': 120, 'learning_rate': 0.032927591344236166}. Best is trial 0 with value: 0.3900993883792049.\n",
      "[I 2023-12-22 13:56:53,118] Trial 9 finished with value: 0.3878058103975535 and parameters: {'input_dim': 150, 'hidden_dim': 22, 'window_size': 7, 'b_size': 85, 'learning_rate': 0.02342658105820405}. Best is trial 0 with value: 0.3900993883792049.\n",
      "[I 2023-12-22 13:57:25,381] Trial 10 finished with value: 0.3811162079510703 and parameters: {'input_dim': 106, 'hidden_dim': 48, 'window_size': 10, 'b_size': 33, 'learning_rate': 0.010733354530413287}. Best is trial 0 with value: 0.3900993883792049.\n",
      "[I 2023-12-22 13:57:45,707] Trial 11 finished with value: 0.37576452599388377 and parameters: {'input_dim': 110, 'hidden_dim': 40, 'window_size': 6, 'b_size': 104, 'learning_rate': 0.022055995370478948}. Best is trial 0 with value: 0.3900993883792049.\n",
      "[I 2023-12-22 13:58:13,338] Trial 12 finished with value: 0.3333333333333333 and parameters: {'input_dim': 198, 'hidden_dim': 32, 'window_size': 8, 'b_size': 63, 'learning_rate': 0.04842080300729569}. Best is trial 0 with value: 0.3900993883792049.\n",
      "[I 2023-12-22 13:58:33,708] Trial 13 finished with value: 0.39353975535168195 and parameters: {'input_dim': 120, 'hidden_dim': 33, 'window_size': 5, 'b_size': 108, 'learning_rate': 0.01648801454235388}. Best is trial 13 with value: 0.39353975535168195.\n",
      "[I 2023-12-22 13:58:53,541] Trial 14 finished with value: 0.3881880733944954 and parameters: {'input_dim': 104, 'hidden_dim': 41, 'window_size': 5, 'b_size': 109, 'learning_rate': 0.010999357277432746}. Best is trial 13 with value: 0.39353975535168195.\n",
      "[I 2023-12-22 13:59:13,842] Trial 15 finished with value: 0.378631498470948 and parameters: {'input_dim': 121, 'hidden_dim': 34, 'window_size': 5, 'b_size': 114, 'learning_rate': 0.018679044572377956}. Best is trial 13 with value: 0.39353975535168195.\n",
      "[I 2023-12-22 13:59:34,355] Trial 16 finished with value: 0.35493119266055045 and parameters: {'input_dim': 100, 'hidden_dim': 42, 'window_size': 6, 'b_size': 98, 'learning_rate': 0.04211820672276467}. Best is trial 13 with value: 0.39353975535168195.\n",
      "[I 2023-12-22 13:59:54,345] Trial 17 finished with value: 0.3333333333333333 and parameters: {'input_dim': 85, 'hidden_dim': 28, 'window_size': 4, 'b_size': 127, 'learning_rate': 0.14835093170359046}. Best is trial 13 with value: 0.39353975535168195.\n",
      "[I 2023-12-22 14:00:15,735] Trial 18 finished with value: 0.38589449541284404 and parameters: {'input_dim': 129, 'hidden_dim': 37, 'window_size': 8, 'b_size': 78, 'learning_rate': 0.016222808246876625}. Best is trial 13 with value: 0.39353975535168195.\n",
      "[I 2023-12-22 14:00:36,480] Trial 19 finished with value: 0.39105504587155965 and parameters: {'input_dim': 89, 'hidden_dim': 45, 'window_size': 8, 'b_size': 100, 'learning_rate': 0.010548215882091913}. Best is trial 13 with value: 0.39353975535168195.\n",
      "[I 2023-12-22 14:00:57,262] Trial 20 finished with value: 0.3900993883792049 and parameters: {'input_dim': 90, 'hidden_dim': 45, 'window_size': 10, 'b_size': 112, 'learning_rate': 0.0102206905470606}. Best is trial 13 with value: 0.39353975535168195.\n",
      "[I 2023-12-22 14:01:18,575] Trial 21 finished with value: 0.38990825688073394 and parameters: {'input_dim': 121, 'hidden_dim': 46, 'window_size': 8, 'b_size': 98, 'learning_rate': 0.018211861070960393}. Best is trial 13 with value: 0.39353975535168195.\n",
      "[I 2023-12-22 14:01:39,886] Trial 22 finished with value: 0.38742354740061163 and parameters: {'input_dim': 92, 'hidden_dim': 50, 'window_size': 9, 'b_size': 104, 'learning_rate': 0.015735914962698546}. Best is trial 13 with value: 0.39353975535168195.\n",
      "[I 2023-12-22 14:02:01,740] Trial 23 finished with value: 0.38742354740061163 and parameters: {'input_dim': 58, 'hidden_dim': 37, 'window_size': 6, 'b_size': 93, 'learning_rate': 0.028327552509944367}. Best is trial 13 with value: 0.39353975535168195.\n",
      "[I 2023-12-22 14:02:24,514] Trial 24 finished with value: 0.3853211009174312 and parameters: {'input_dim': 125, 'hidden_dim': 44, 'window_size': 8, 'b_size': 82, 'learning_rate': 0.012693198965765463}. Best is trial 13 with value: 0.39353975535168195.\n",
      "[I 2023-12-22 14:02:44,162] Trial 25 finished with value: 0.382262996941896 and parameters: {'input_dim': 113, 'hidden_dim': 26, 'window_size': 4, 'b_size': 118, 'learning_rate': 0.028728382367882388}. Best is trial 13 with value: 0.39353975535168195.\n",
      "[I 2023-12-22 14:03:03,994] Trial 26 finished with value: 0.3849388379204893 and parameters: {'input_dim': 96, 'hidden_dim': 37, 'window_size': 7, 'b_size': 106, 'learning_rate': 0.017375625535568567}. Best is trial 13 with value: 0.39353975535168195.\n",
      "[I 2023-12-22 14:03:26,418] Trial 27 finished with value: 0.39048165137614677 and parameters: {'input_dim': 136, 'hidden_dim': 47, 'window_size': 9, 'b_size': 76, 'learning_rate': 0.014952143233335212}. Best is trial 13 with value: 0.39353975535168195.\n",
      "[I 2023-12-22 14:03:50,596] Trial 28 finished with value: 0.39353975535168195 and parameters: {'input_dim': 160, 'hidden_dim': 43, 'window_size': 9, 'b_size': 64, 'learning_rate': 0.01319674454886737}. Best is trial 13 with value: 0.39353975535168195.\n",
      "[I 2023-12-22 14:04:20,083] Trial 29 finished with value: 0.3902905198776758 and parameters: {'input_dim': 159, 'hidden_dim': 34, 'window_size': 10, 'b_size': 44, 'learning_rate': 0.010008934834977149}. Best is trial 13 with value: 0.39353975535168195.\n",
      "[I 2023-12-22 14:04:47,158] Trial 30 finished with value: 0.39201070336391436 and parameters: {'input_dim': 193, 'hidden_dim': 39, 'window_size': 9, 'b_size': 53, 'learning_rate': 0.013962593037234945}. Best is trial 13 with value: 0.39353975535168195.\n",
      "[I 2023-12-22 14:05:13,138] Trial 31 finished with value: 0.389717125382263 and parameters: {'input_dim': 197, 'hidden_dim': 39, 'window_size': 9, 'b_size': 58, 'learning_rate': 0.014403461828998853}. Best is trial 13 with value: 0.39353975535168195.\n",
      "[I 2023-12-22 14:05:45,403] Trial 32 finished with value: 0.37882262996941896 and parameters: {'input_dim': 187, 'hidden_dim': 44, 'window_size': 8, 'b_size': 48, 'learning_rate': 0.022913875620685337}. Best is trial 13 with value: 0.39353975535168195.\n",
      "[I 2023-12-22 14:06:13,318] Trial 33 finished with value: 0.3837920489296636 and parameters: {'input_dim': 182, 'hidden_dim': 42, 'window_size': 9, 'b_size': 56, 'learning_rate': 0.013431681460981913}. Best is trial 13 with value: 0.39353975535168195.\n",
      "[I 2023-12-22 14:06:38,371] Trial 34 finished with value: 0.3774847094801223 and parameters: {'input_dim': 155, 'hidden_dim': 34, 'window_size': 10, 'b_size': 69, 'learning_rate': 0.020591233059887297}. Best is trial 13 with value: 0.39353975535168195.\n",
      "[I 2023-12-22 14:07:13,680] Trial 35 finished with value: 0.3541666666666667 and parameters: {'input_dim': 170, 'hidden_dim': 39, 'window_size': 9, 'b_size': 41, 'learning_rate': 0.02745066289027628}. Best is trial 13 with value: 0.39353975535168195.\n",
      "[I 2023-12-22 14:07:39,729] Trial 36 finished with value: 0.3755733944954128 and parameters: {'input_dim': 183, 'hidden_dim': 43, 'window_size': 7, 'b_size': 61, 'learning_rate': 0.013952981893814649}. Best is trial 13 with value: 0.39353975535168195.\n",
      "[I 2023-12-22 14:08:05,701] Trial 37 finished with value: 0.35646024464831805 and parameters: {'input_dim': 162, 'hidden_dim': 10, 'window_size': 9, 'b_size': 53, 'learning_rate': 0.038087411276609966}. Best is trial 13 with value: 0.39353975535168195.\n",
      "[I 2023-12-22 14:08:28,672] Trial 38 finished with value: 0.3809250764525994 and parameters: {'input_dim': 78, 'hidden_dim': 36, 'window_size': 8, 'b_size': 69, 'learning_rate': 0.010100496340564487}. Best is trial 13 with value: 0.39353975535168195.\n",
      "[I 2023-12-22 14:08:51,308] Trial 39 finished with value: 0.34938837920489296 and parameters: {'input_dim': 145, 'hidden_dim': 31, 'window_size': 4, 'b_size': 89, 'learning_rate': 0.053674752075069776}. Best is trial 13 with value: 0.39353975535168195.\n",
      "[I 2023-12-22 14:09:21,419] Trial 40 finished with value: 0.36009174311926606 and parameters: {'input_dim': 134, 'hidden_dim': 27, 'window_size': 10, 'b_size': 37, 'learning_rate': 0.013039496560884371}. Best is trial 13 with value: 0.39353975535168195.\n",
      "[I 2023-12-22 14:09:44,241] Trial 41 finished with value: 0.386085626911315 and parameters: {'input_dim': 136, 'hidden_dim': 48, 'window_size': 9, 'b_size': 75, 'learning_rate': 0.017021418270848212}. Best is trial 13 with value: 0.39353975535168195.\n",
      "[I 2023-12-22 14:10:08,261] Trial 42 finished with value: 0.38914373088685017 and parameters: {'input_dim': 115, 'hidden_dim': 45, 'window_size': 9, 'b_size': 64, 'learning_rate': 0.013531074302126456}. Best is trial 13 with value: 0.39353975535168195.\n",
      "[I 2023-12-22 14:10:32,458] Trial 43 finished with value: 0.3862767584097859 and parameters: {'input_dim': 177, 'hidden_dim': 47, 'window_size': 9, 'b_size': 74, 'learning_rate': 0.020411766358293015}. Best is trial 13 with value: 0.39353975535168195.\n",
      "[I 2023-12-22 14:11:02,764] Trial 44 finished with value: 0.3878058103975535 and parameters: {'input_dim': 147, 'hidden_dim': 50, 'window_size': 8, 'b_size': 50, 'learning_rate': 0.025080460325888242}. Best is trial 13 with value: 0.39353975535168195.\n",
      "[I 2023-12-22 14:11:23,447] Trial 45 finished with value: 0.38551223241590216 and parameters: {'input_dim': 65, 'hidden_dim': 39, 'window_size': 10, 'b_size': 80, 'learning_rate': 0.016123356366734266}. Best is trial 13 with value: 0.39353975535168195.\n",
      "[I 2023-12-22 14:11:44,932] Trial 46 finished with value: 0.3866590214067278 and parameters: {'input_dim': 138, 'hidden_dim': 47, 'window_size': 7, 'b_size': 94, 'learning_rate': 0.01166302629976407}. Best is trial 13 with value: 0.39353975535168195.\n",
      "[I 2023-12-22 14:12:08,328] Trial 47 finished with value: 0.38990825688073394 and parameters: {'input_dim': 190, 'hidden_dim': 41, 'window_size': 5, 'b_size': 87, 'learning_rate': 0.02079531741257105}. Best is trial 13 with value: 0.39353975535168195.\n",
      "[I 2023-12-22 14:12:28,864] Trial 48 finished with value: 0.36964831804281345 and parameters: {'input_dim': 153, 'hidden_dim': 43, 'window_size': 6, 'b_size': 119, 'learning_rate': 0.03238792490482239}. Best is trial 13 with value: 0.39353975535168195.\n",
      "[I 2023-12-22 14:12:53,620] Trial 49 finished with value: 0.38398318042813456 and parameters: {'input_dim': 168, 'hidden_dim': 35, 'window_size': 8, 'b_size': 59, 'learning_rate': 0.011945123264255987}. Best is trial 13 with value: 0.39353975535168195.\n"
     ]
    },
    {
     "name": "stdout",
     "output_type": "stream",
     "text": [
      "Best Hyperparameters: {'input_dim': 120, 'hidden_dim': 33, 'window_size': 5, 'b_size': 108, 'learning_rate': 0.01648801454235388}\n",
      "Best Accuracy: 0.39353975535168195\n"
     ]
    }
   ],
   "source": [
    "import optuna\n",
    "import torch\n",
    "import torch.nn as nn\n",
    "import torch.optim as optim\n",
    "from torch.utils.data import Dataset, DataLoader\n",
    "import pandas as pd\n",
    "import numpy as np\n",
    "from sklearn.metrics import accuracy_score\n",
    "from nltk.tokenize import word_tokenize\n",
    "from gensim.models import Word2Vec\n",
    "import multiprocessing\n",
    "from collections.abc import Mapping\n",
    "num_cores = multiprocessing.cpu_count()\n",
    "n_epochs=11\n",
    "criterion=nn.CrossEntropyLoss()\n",
    "\n",
    "\n",
    "class Data(Dataset):\n",
    "    def __init__(self, x, y, input_dim):\n",
    "        self.x = torch.from_numpy(x).float()\n",
    "        self.y = torch.from_numpy(y)\n",
    "        self.len = self.x.shape[0]\n",
    "        self.input_dim = input_dim\n",
    "\n",
    "    def __getitem__(self, index):\n",
    "        return self.x[index, :self.input_dim], self.y[index]\n",
    "\n",
    "    def __len__(self):\n",
    "        return self.len\n",
    "\n",
    "class Net(nn.Module):\n",
    "    def __init__(self, D_in, H, D_out):\n",
    "        super(Net, self).__init__()\n",
    "        self.linear1 = nn.Linear(D_in, H)\n",
    "        self.bn1 = nn.BatchNorm1d(H)\n",
    "        self.linear2 = nn.Linear(H, D_out)\n",
    "\n",
    "    def forward(self, x):\n",
    "        x = F.relu(self.bn1(self.linear1(x)))\n",
    "        x = self.linear2(x)\n",
    "        return x\n",
    "    \n",
    "def objective(trial):\n",
    "    input_dim = trial.suggest_int('input_dim', 50, 200)\n",
    "    hidden_dim = trial.suggest_int('hidden_dim', 10, 50)\n",
    "    window_size = trial.suggest_int('window_size', 3, 10)\n",
    "    b_size = trial.suggest_int('b_size', 32, 128)\n",
    "    learning_rate = trial.suggest_float('learning_rate', 1e-2, 1, log=True)\n",
    "    model = Net(input_dim, hidden_dim, output_dim)\n",
    "    optimizer = torch.optim.Adam(model.parameters(), lr=learning_rate, weight_decay=1e-5)\n",
    "    # Choose optimizer\n",
    "    \n",
    "    \n",
    "\n",
    "    word2vec_model = Word2Vec(sentences=data['tokenized_text'].tolist(), vector_size=input_dim, window=window_size, min_count=1, workers=num_cores)\n",
    "    \n",
    "    data['mean_embedding'] = data['tokenized_text'].apply(lambda tokens: np.mean([word2vec_model.wv[word] for word in tokens if word in word2vec_model.wv], axis=0))\n",
    "    valid['mean_embedding'] = valid['tokenized_text'].apply(lambda tokens: np.mean([word2vec_model.wv[word] for word in tokens if word in word2vec_model.wv], axis=0))\n",
    "    x_train = data['mean_embedding']\n",
    "    x_val = valid['mean_embedding']\n",
    "    y_val = valid['Sentiment']\n",
    "    y_train = data['Sentiment']\n",
    "    \n",
    "    x_train = np.vstack(x_train).astype(np.float32)\n",
    "    x_val = np.vstack(x_val).astype(np.float32)\n",
    "    \n",
    "    \n",
    "    y_val = y_val.values\n",
    "    y_train = y_train.values\n",
    "    \n",
    "\n",
    "    data_set = Data(x_train, y_train, input_dim)\n",
    "    trainloader = DataLoader(dataset=data_set, batch_size=b_size, shuffle=True)\n",
    "   \n",
    "    loss_list = []\n",
    "\n",
    "    for epoch in range(n_epochs):\n",
    "        for x, y in trainloader:\n",
    "            optimizer.zero_grad()\n",
    "            z = model.forward(x)\n",
    "            loss = criterion(z, y)\n",
    "            loss.backward()\n",
    "            optimizer.step()\n",
    "            \n",
    "            loss_list.append(loss.item())\n",
    "\n",
    "    x_val_tensor = torch.from_numpy(x_val)\n",
    "    z_val = model.forward(x_val_tensor)\n",
    "    max_indexes = torch.argmax(z_val, dim=1)\n",
    "    y_pred = max_indexes.numpy()\n",
    "\n",
    "    accuracy = accuracy_score(y_val, y_pred)\n",
    "    return accuracy\n",
    "\n",
    "# Set up Optuna study\n",
    "study = optuna.create_study(direction='maximize',sampler=optuna.samplers.TPESampler(seed=42))\n",
    "study.optimize(objective, n_trials=50)\n",
    "\n",
    "# Get the best parameters\n",
    "best_params = study.best_params\n",
    "best_accuracy = study.best_value\n",
    "\n",
    "print(\"Best Hyperparameters:\", best_params)\n",
    "print(\"Best Accuracy:\", best_accuracy)"
   ]
  },
  {
   "cell_type": "markdown",
   "id": "a00caab4",
   "metadata": {
    "papermill": {
     "duration": 0.074376,
     "end_time": "2023-12-22T14:12:53.778619",
     "exception": false,
     "start_time": "2023-12-22T14:12:53.704243",
     "status": "completed"
    },
    "tags": []
   },
   "source": [
    "Very close to SGD but not better, perhaps we should increase number of epochs for better convergance, but since we dont care about time but precision, we keep SGD"
   ]
  },
  {
   "cell_type": "markdown",
   "id": "f676e20a",
   "metadata": {
    "papermill": {
     "duration": 0.073277,
     "end_time": "2023-12-22T14:12:53.928245",
     "exception": false,
     "start_time": "2023-12-22T14:12:53.854968",
     "status": "completed"
    },
    "tags": []
   },
   "source": [
    "We will try NLLLoss, we need to also adapt our network to use log softmax"
   ]
  },
  {
   "cell_type": "code",
   "execution_count": 39,
   "id": "d70da711",
   "metadata": {
    "execution": {
     "iopub.execute_input": "2023-12-22T14:12:54.077144Z",
     "iopub.status.busy": "2023-12-22T14:12:54.076766Z",
     "iopub.status.idle": "2023-12-22T14:29:46.675243Z",
     "shell.execute_reply": "2023-12-22T14:29:46.674120Z"
    },
    "papermill": {
     "duration": 1012.749824,
     "end_time": "2023-12-22T14:29:46.753155",
     "exception": false,
     "start_time": "2023-12-22T14:12:54.003331",
     "status": "completed"
    },
    "tags": []
   },
   "outputs": [
    {
     "name": "stderr",
     "output_type": "stream",
     "text": [
      "[I 2023-12-22 14:12:54,101] A new study created in memory with name: no-name-aa094965-b52d-4b2e-90a2-092756220e72\n",
      "[I 2023-12-22 14:13:12,968] Trial 0 finished with value: 0.39506880733944955 and parameters: {'input_dim': 106, 'hidden_dim': 48, 'window_size': 8, 'b_size': 90, 'learning_rate': 0.020513382630874502}. Best is trial 0 with value: 0.39506880733944955.\n",
      "[I 2023-12-22 14:13:30,741] Trial 1 finished with value: 0.3881880733944954 and parameters: {'input_dim': 73, 'hidden_dim': 12, 'window_size': 9, 'b_size': 90, 'learning_rate': 0.2607024758370766}. Best is trial 0 with value: 0.39506880733944955.\n",
      "[I 2023-12-22 14:13:51,486] Trial 2 finished with value: 0.389717125382263 and parameters: {'input_dim': 53, 'hidden_dim': 49, 'window_size': 9, 'b_size': 52, 'learning_rate': 0.02310201887845294}. Best is trial 0 with value: 0.39506880733944955.\n",
      "[I 2023-12-22 14:14:10,425] Trial 3 finished with value: 0.38952599388379205 and parameters: {'input_dim': 77, 'hidden_dim': 22, 'window_size': 7, 'b_size': 73, 'learning_rate': 0.038234752246751866}. Best is trial 0 with value: 0.39506880733944955.\n",
      "[I 2023-12-22 14:14:30,603] Trial 4 finished with value: 0.3973623853211009 and parameters: {'input_dim': 142, 'hidden_dim': 15, 'window_size': 5, 'b_size': 67, 'learning_rate': 0.08168455894760163}. Best is trial 4 with value: 0.3973623853211009.\n",
      "[I 2023-12-22 14:14:49,888] Trial 5 finished with value: 0.39105504587155965 and parameters: {'input_dim': 168, 'hidden_dim': 18, 'window_size': 7, 'b_size': 89, 'learning_rate': 0.012385137298860933}. Best is trial 4 with value: 0.3973623853211009.\n",
      "[I 2023-12-22 14:15:07,538] Trial 6 finished with value: 0.3621941896024465 and parameters: {'input_dim': 141, 'hidden_dim': 16, 'window_size': 3, 'b_size': 124, 'learning_rate': 0.8536189862866826}. Best is trial 4 with value: 0.3973623853211009.\n",
      "[I 2023-12-22 14:15:26,650] Trial 7 finished with value: 0.3941131498470948 and parameters: {'input_dim': 172, 'hidden_dim': 22, 'window_size': 3, 'b_size': 98, 'learning_rate': 0.07591104805282695}. Best is trial 4 with value: 0.3973623853211009.\n",
      "[I 2023-12-22 14:15:43,302] Trial 8 finished with value: 0.3948776758409786 and parameters: {'input_dim': 68, 'hidden_dim': 30, 'window_size': 3, 'b_size': 120, 'learning_rate': 0.032927591344236166}. Best is trial 4 with value: 0.3973623853211009.\n",
      "[I 2023-12-22 14:16:03,951] Trial 9 finished with value: 0.3952599388379205 and parameters: {'input_dim': 150, 'hidden_dim': 22, 'window_size': 7, 'b_size': 85, 'learning_rate': 0.02342658105820405}. Best is trial 4 with value: 0.3973623853211009.\n",
      "[I 2023-12-22 14:16:29,218] Trial 10 finished with value: 0.3878058103975535 and parameters: {'input_dim': 194, 'hidden_dim': 38, 'window_size': 5, 'b_size': 33, 'learning_rate': 0.13527769084615443}. Best is trial 4 with value: 0.3973623853211009.\n",
      "[I 2023-12-22 14:16:49,720] Trial 11 finished with value: 0.40061162079510704 and parameters: {'input_dim': 127, 'hidden_dim': 29, 'window_size': 5, 'b_size': 64, 'learning_rate': 0.010339322933113433}. Best is trial 11 with value: 0.40061162079510704.\n",
      "[I 2023-12-22 14:17:10,985] Trial 12 finished with value: 0.3872324159021407 and parameters: {'input_dim': 124, 'hidden_dim': 32, 'window_size': 5, 'b_size': 60, 'learning_rate': 0.011415599169586366}. Best is trial 11 with value: 0.40061162079510704.\n",
      "[I 2023-12-22 14:17:30,911] Trial 13 finished with value: 0.3922018348623853 and parameters: {'input_dim': 102, 'hidden_dim': 10, 'window_size': 5, 'b_size': 65, 'learning_rate': 0.0595920613164576}. Best is trial 11 with value: 0.40061162079510704.\n",
      "[I 2023-12-22 14:17:54,059] Trial 14 finished with value: 0.39048165137614677 and parameters: {'input_dim': 121, 'hidden_dim': 31, 'window_size': 5, 'b_size': 41, 'learning_rate': 0.1451629980059404}. Best is trial 11 with value: 0.40061162079510704.\n",
      "[I 2023-12-22 14:18:16,163] Trial 15 finished with value: 0.3967889908256881 and parameters: {'input_dim': 151, 'hidden_dim': 41, 'window_size': 4, 'b_size': 50, 'learning_rate': 0.010316663732926088}. Best is trial 11 with value: 0.40061162079510704.\n",
      "[I 2023-12-22 14:18:35,731] Trial 16 finished with value: 0.38799694189602446 and parameters: {'input_dim': 110, 'hidden_dim': 27, 'window_size': 6, 'b_size': 73, 'learning_rate': 0.054601706188315446}. Best is trial 11 with value: 0.40061162079510704.\n",
      "[I 2023-12-22 14:18:54,595] Trial 17 finished with value: 0.3889525993883792 and parameters: {'input_dim': 140, 'hidden_dim': 39, 'window_size': 6, 'b_size': 110, 'learning_rate': 0.08768971880238807}. Best is trial 11 with value: 0.40061162079510704.\n",
      "[I 2023-12-22 14:19:14,424] Trial 18 finished with value: 0.39621559633027525 and parameters: {'input_dim': 90, 'hidden_dim': 16, 'window_size': 4, 'b_size': 73, 'learning_rate': 0.043822823657896484}. Best is trial 11 with value: 0.40061162079510704.\n",
      "[I 2023-12-22 14:19:37,014] Trial 19 finished with value: 0.3941131498470948 and parameters: {'input_dim': 175, 'hidden_dim': 26, 'window_size': 10, 'b_size': 59, 'learning_rate': 0.015350360870146323}. Best is trial 11 with value: 0.40061162079510704.\n",
      "[I 2023-12-22 14:20:00,389] Trial 20 finished with value: 0.38512996941896027 and parameters: {'input_dim': 198, 'hidden_dim': 36, 'window_size': 4, 'b_size': 44, 'learning_rate': 0.027927700255475134}. Best is trial 11 with value: 0.40061162079510704.\n",
      "[I 2023-12-22 14:20:23,210] Trial 21 finished with value: 0.3964067278287462 and parameters: {'input_dim': 146, 'hidden_dim': 44, 'window_size': 4, 'b_size': 51, 'learning_rate': 0.010963655977559399}. Best is trial 11 with value: 0.40061162079510704.\n",
      "[I 2023-12-22 14:20:44,846] Trial 22 finished with value: 0.3922018348623853 and parameters: {'input_dim': 159, 'hidden_dim': 43, 'window_size': 4, 'b_size': 63, 'learning_rate': 0.01670644979097077}. Best is trial 11 with value: 0.40061162079510704.\n",
      "[I 2023-12-22 14:21:06,461] Trial 23 finished with value: 0.3937308868501529 and parameters: {'input_dim': 131, 'hidden_dim': 35, 'window_size': 6, 'b_size': 51, 'learning_rate': 0.010955971808075277}. Best is trial 11 with value: 0.40061162079510704.\n",
      "[I 2023-12-22 14:21:30,884] Trial 24 finished with value: 0.38837920489296635 and parameters: {'input_dim': 155, 'hidden_dim': 42, 'window_size': 5, 'b_size': 38, 'learning_rate': 0.01854271519293862}. Best is trial 11 with value: 0.40061162079510704.\n",
      "[I 2023-12-22 14:21:50,248] Trial 25 finished with value: 0.39506880733944955 and parameters: {'input_dim': 131, 'hidden_dim': 27, 'window_size': 4, 'b_size': 73, 'learning_rate': 0.028728382367882388}. Best is trial 11 with value: 0.40061162079510704.\n",
      "[I 2023-12-22 14:22:10,905] Trial 26 finished with value: 0.389717125382263 and parameters: {'input_dim': 182, 'hidden_dim': 34, 'window_size': 6, 'b_size': 80, 'learning_rate': 0.013943118062809798}. Best is trial 11 with value: 0.40061162079510704.\n",
      "[I 2023-12-22 14:22:32,855] Trial 27 finished with value: 0.3908639143730887 and parameters: {'input_dim': 115, 'hidden_dim': 46, 'window_size': 5, 'b_size': 46, 'learning_rate': 0.017116213964286607}. Best is trial 11 with value: 0.40061162079510704.\n",
      "[I 2023-12-22 14:22:53,931] Trial 28 finished with value: 0.40424311926605505 and parameters: {'input_dim': 164, 'hidden_dim': 40, 'window_size': 3, 'b_size': 56, 'learning_rate': 0.03942864254943263}. Best is trial 28 with value: 0.40424311926605505.\n",
      "[I 2023-12-22 14:23:11,353] Trial 29 finished with value: 0.38646788990825687 and parameters: {'input_dim': 98, 'hidden_dim': 24, 'window_size': 8, 'b_size': 101, 'learning_rate': 0.04704271678092943}. Best is trial 28 with value: 0.40424311926605505.\n",
      "[I 2023-12-22 14:23:31,846] Trial 30 finished with value: 0.4029051987767584 and parameters: {'input_dim': 165, 'hidden_dim': 18, 'window_size': 3, 'b_size': 65, 'learning_rate': 0.0345543523624102}. Best is trial 28 with value: 0.40424311926605505.\n",
      "[I 2023-12-22 14:23:52,419] Trial 31 finished with value: 0.3967889908256881 and parameters: {'input_dim': 161, 'hidden_dim': 19, 'window_size': 3, 'b_size': 66, 'learning_rate': 0.03502493366238786}. Best is trial 28 with value: 0.40424311926605505.\n",
      "[I 2023-12-22 14:24:14,046] Trial 32 finished with value: 0.39602446483180426 and parameters: {'input_dim': 183, 'hidden_dim': 12, 'window_size': 3, 'b_size': 56, 'learning_rate': 0.022500542254319824}. Best is trial 28 with value: 0.40424311926605505.\n",
      "[I 2023-12-22 14:24:34,053] Trial 33 finished with value: 0.3908639143730887 and parameters: {'input_dim': 134, 'hidden_dim': 15, 'window_size': 3, 'b_size': 68, 'learning_rate': 0.061819897600899336}. Best is trial 28 with value: 0.40424311926605505.\n",
      "[I 2023-12-22 14:24:53,610] Trial 34 finished with value: 0.3973623853211009 and parameters: {'input_dim': 164, 'hidden_dim': 19, 'window_size': 8, 'b_size': 80, 'learning_rate': 0.04629570631499085}. Best is trial 28 with value: 0.40424311926605505.\n",
      "[I 2023-12-22 14:25:15,916] Trial 35 finished with value: 0.3845565749235474 and parameters: {'input_dim': 186, 'hidden_dim': 49, 'window_size': 4, 'b_size': 56, 'learning_rate': 0.026748554209064895}. Best is trial 28 with value: 0.40424311926605505.\n",
      "[I 2023-12-22 14:25:35,508] Trial 36 finished with value: 0.40118501529051986 and parameters: {'input_dim': 141, 'hidden_dim': 13, 'window_size': 3, 'b_size': 74, 'learning_rate': 0.03434871033289599}. Best is trial 28 with value: 0.40424311926605505.\n",
      "[I 2023-12-22 14:25:55,662] Trial 37 finished with value: 0.39545107033639143 and parameters: {'input_dim': 175, 'hidden_dim': 13, 'window_size': 3, 'b_size': 82, 'learning_rate': 0.0216682476516888}. Best is trial 28 with value: 0.40424311926605505.\n",
      "[I 2023-12-22 14:26:15,039] Trial 38 finished with value: 0.39602446483180426 and parameters: {'input_dim': 138, 'hidden_dim': 10, 'window_size': 3, 'b_size': 69, 'learning_rate': 0.037570360344019366}. Best is trial 28 with value: 0.40424311926605505.\n",
      "[I 2023-12-22 14:26:33,440] Trial 39 finished with value: 0.40118501529051986 and parameters: {'input_dim': 117, 'hidden_dim': 21, 'window_size': 3, 'b_size': 96, 'learning_rate': 0.020079298680466956}. Best is trial 28 with value: 0.40424311926605505.\n",
      "[I 2023-12-22 14:26:52,301] Trial 40 finished with value: 0.39946483180428133 and parameters: {'input_dim': 167, 'hidden_dim': 19, 'window_size': 3, 'b_size': 92, 'learning_rate': 0.031182795358152153}. Best is trial 28 with value: 0.40424311926605505.\n",
      "[I 2023-12-22 14:27:10,810] Trial 41 finished with value: 0.3918195718654434 and parameters: {'input_dim': 117, 'hidden_dim': 24, 'window_size': 3, 'b_size': 106, 'learning_rate': 0.018697910452667537}. Best is trial 28 with value: 0.40424311926605505.\n",
      "[I 2023-12-22 14:27:29,345] Trial 42 finished with value: 0.3977446483180428 and parameters: {'input_dim': 94, 'hidden_dim': 17, 'window_size': 4, 'b_size': 92, 'learning_rate': 0.014241607483647662}. Best is trial 28 with value: 0.40424311926605505.\n",
      "[I 2023-12-22 14:27:48,320] Trial 43 finished with value: 0.3948776758409786 and parameters: {'input_dim': 127, 'hidden_dim': 21, 'window_size': 3, 'b_size': 86, 'learning_rate': 0.023117671723022478}. Best is trial 28 with value: 0.40424311926605505.\n",
      "[I 2023-12-22 14:28:07,452] Trial 44 finished with value: 0.3992737003058104 and parameters: {'input_dim': 110, 'hidden_dim': 25, 'window_size': 4, 'b_size': 77, 'learning_rate': 0.03623320211139654}. Best is trial 28 with value: 0.40424311926605505.\n",
      "[I 2023-12-22 14:28:28,128] Trial 45 finished with value: 0.38685015290519875 and parameters: {'input_dim': 150, 'hidden_dim': 13, 'window_size': 3, 'b_size': 61, 'learning_rate': 0.02006687213642204}. Best is trial 28 with value: 0.40424311926605505.\n",
      "[I 2023-12-22 14:28:46,219] Trial 46 finished with value: 0.3922018348623853 and parameters: {'input_dim': 87, 'hidden_dim': 21, 'window_size': 3, 'b_size': 113, 'learning_rate': 0.014383021685579582}. Best is trial 28 with value: 0.40424311926605505.\n",
      "[I 2023-12-22 14:29:05,050] Trial 47 finished with value: 0.39621559633027525 and parameters: {'input_dim': 143, 'hidden_dim': 30, 'window_size': 4, 'b_size': 97, 'learning_rate': 0.02662359281602302}. Best is trial 28 with value: 0.40424311926605505.\n",
      "[I 2023-12-22 14:29:26,206] Trial 48 finished with value: 0.3941131498470948 and parameters: {'input_dim': 124, 'hidden_dim': 29, 'window_size': 3, 'b_size': 57, 'learning_rate': 0.012636626388162923}. Best is trial 28 with value: 0.40424311926605505.\n",
      "[I 2023-12-22 14:29:46,669] Trial 49 finished with value: 0.3929663608562691 and parameters: {'input_dim': 155, 'hidden_dim': 14, 'window_size': 7, 'b_size': 71, 'learning_rate': 0.03204319193536622}. Best is trial 28 with value: 0.40424311926605505.\n"
     ]
    },
    {
     "name": "stdout",
     "output_type": "stream",
     "text": [
      "Best Hyperparameters: {'input_dim': 164, 'hidden_dim': 40, 'window_size': 3, 'b_size': 56, 'learning_rate': 0.03942864254943263}\n",
      "Best Accuracy: 0.40424311926605505\n"
     ]
    }
   ],
   "source": [
    "import optuna\n",
    "import torch\n",
    "import torch.nn as nn\n",
    "import torch.optim as optim\n",
    "from torch.utils.data import Dataset, DataLoader\n",
    "import pandas as pd\n",
    "import numpy as np\n",
    "from sklearn.metrics import accuracy_score\n",
    "from nltk.tokenize import word_tokenize\n",
    "from gensim.models import Word2Vec\n",
    "import multiprocessing\n",
    "from collections.abc import Mapping\n",
    "num_cores = multiprocessing.cpu_count()\n",
    "n_epochs=11\n",
    "criterion=nn.NLLLoss()\n",
    "\n",
    "\n",
    "class Data(Dataset):\n",
    "    def __init__(self, x, y, input_dim):\n",
    "        self.x = torch.from_numpy(x).float()\n",
    "        self.y = torch.from_numpy(y)\n",
    "        self.len = self.x.shape[0]\n",
    "        self.input_dim = input_dim\n",
    "\n",
    "    def __getitem__(self, index):\n",
    "        return self.x[index, :self.input_dim], self.y[index]\n",
    "\n",
    "    def __len__(self):\n",
    "        return self.len\n",
    "\n",
    "class Net(nn.Module):\n",
    "    def __init__(self, D_in, H, D_out):\n",
    "        super(Net, self).__init__()\n",
    "        self.linear1 = nn.Linear(D_in, H)\n",
    "        self.bn1 = nn.BatchNorm1d(H)\n",
    "        self.linear2 = nn.Linear(H, D_out)\n",
    "\n",
    "    def forward(self, x):\n",
    "        x = F.relu(self.bn1(self.linear1(x)))\n",
    "        x = self.linear2(x)\n",
    "        return F.log_softmax(x, dim=1)\n",
    "    \n",
    "def objective(trial):\n",
    "    input_dim = trial.suggest_int('input_dim', 50, 200)\n",
    "    hidden_dim = trial.suggest_int('hidden_dim', 10, 50)\n",
    "    window_size = trial.suggest_int('window_size', 3, 10)\n",
    "    b_size = trial.suggest_int('b_size', 32, 128)\n",
    "    learning_rate = trial.suggest_float('learning_rate', 1e-2, 1, log=True)\n",
    "    model = Net(input_dim, hidden_dim, output_dim)\n",
    "    optimizer=torch.optim.SGD(model.parameters(), lr=learning_rate)\n",
    "    # Choose optimizer\n",
    "    \n",
    "    \n",
    "\n",
    "    word2vec_model = Word2Vec(sentences=data['tokenized_text'].tolist(), vector_size=input_dim, window=window_size, min_count=1, workers=num_cores)\n",
    "    \n",
    "    data['mean_embedding'] = data['tokenized_text'].apply(lambda tokens: np.mean([word2vec_model.wv[word] for word in tokens if word in word2vec_model.wv], axis=0))\n",
    "    valid['mean_embedding'] = valid['tokenized_text'].apply(lambda tokens: np.mean([word2vec_model.wv[word] for word in tokens if word in word2vec_model.wv], axis=0))\n",
    "    x_train = data['mean_embedding']\n",
    "    x_val = valid['mean_embedding']\n",
    "    y_val = valid['Sentiment']\n",
    "    y_train = data['Sentiment']\n",
    "    \n",
    "    x_train = np.vstack(x_train).astype(np.float32)\n",
    "    x_val = np.vstack(x_val).astype(np.float32)\n",
    "    \n",
    "    \n",
    "    y_val = y_val.values\n",
    "    y_train = y_train.values\n",
    "    \n",
    "\n",
    "    data_set = Data(x_train, y_train, input_dim)\n",
    "    trainloader = DataLoader(dataset=data_set, batch_size=b_size, shuffle=True)\n",
    "   \n",
    "    loss_list = []\n",
    "\n",
    "    for epoch in range(n_epochs):\n",
    "        for x, y in trainloader:\n",
    "            optimizer.zero_grad()\n",
    "            z = model.forward(x)\n",
    "            loss = criterion(z, y)\n",
    "            loss.backward()\n",
    "            optimizer.step()\n",
    "            \n",
    "            loss_list.append(loss.item())\n",
    "\n",
    "    x_val_tensor = torch.from_numpy(x_val)\n",
    "    z_val = model.forward(x_val_tensor)\n",
    "    max_indexes = torch.argmax(z_val, dim=1)\n",
    "    y_pred = max_indexes.numpy()\n",
    "\n",
    "    accuracy = accuracy_score(y_val, y_pred)\n",
    "    return accuracy\n",
    "\n",
    "# Set up Optuna study\n",
    "study = optuna.create_study(direction='maximize',sampler=optuna.samplers.TPESampler(seed=42))\n",
    "study.optimize(objective, n_trials=50)\n",
    "\n",
    "# Get the best parameters\n",
    "best_params = study.best_params\n",
    "best_accuracy = study.best_value\n",
    "\n",
    "print(\"Best Hyperparameters:\", best_params)\n",
    "print(\"Best Accuracy:\", best_accuracy)"
   ]
  },
  {
   "cell_type": "markdown",
   "id": "d54d2d69",
   "metadata": {
    "papermill": {
     "duration": 0.077553,
     "end_time": "2023-12-22T14:29:46.907902",
     "exception": false,
     "start_time": "2023-12-22T14:29:46.830349",
     "status": "completed"
    },
    "tags": []
   },
   "source": [
    "Pretty close but not better"
   ]
  },
  {
   "cell_type": "markdown",
   "id": "3311bb15",
   "metadata": {
    "papermill": {
     "duration": 0.075795,
     "end_time": "2023-12-22T14:29:47.061654",
     "exception": false,
     "start_time": "2023-12-22T14:29:46.985859",
     "status": "completed"
    },
    "tags": []
   },
   "source": [
    "Also try MultiMargin"
   ]
  },
  {
   "cell_type": "code",
   "execution_count": 40,
   "id": "ebfa1ef6",
   "metadata": {
    "execution": {
     "iopub.execute_input": "2023-12-22T14:29:47.217358Z",
     "iopub.status.busy": "2023-12-22T14:29:47.216942Z",
     "iopub.status.idle": "2023-12-22T14:46:02.954538Z",
     "shell.execute_reply": "2023-12-22T14:46:02.953398Z"
    },
    "papermill": {
     "duration": 975.901439,
     "end_time": "2023-12-22T14:46:03.040130",
     "exception": false,
     "start_time": "2023-12-22T14:29:47.138691",
     "status": "completed"
    },
    "tags": []
   },
   "outputs": [
    {
     "name": "stderr",
     "output_type": "stream",
     "text": [
      "[I 2023-12-22 14:29:47,240] A new study created in memory with name: no-name-3e395dec-cf5b-45b3-a244-b7f1a0987cc6\n",
      "[I 2023-12-22 14:30:05,628] Trial 0 finished with value: 0.4004204892966361 and parameters: {'input_dim': 106, 'hidden_dim': 48, 'window_size': 8, 'b_size': 90, 'learning_rate': 0.020513382630874502}. Best is trial 0 with value: 0.4004204892966361.\n",
      "[I 2023-12-22 14:30:23,230] Trial 1 finished with value: 0.3977446483180428 and parameters: {'input_dim': 73, 'hidden_dim': 12, 'window_size': 9, 'b_size': 90, 'learning_rate': 0.2607024758370766}. Best is trial 0 with value: 0.4004204892966361.\n",
      "[I 2023-12-22 14:30:44,341] Trial 2 finished with value: 0.39793577981651373 and parameters: {'input_dim': 53, 'hidden_dim': 49, 'window_size': 9, 'b_size': 52, 'learning_rate': 0.02310201887845294}. Best is trial 0 with value: 0.4004204892966361.\n",
      "[I 2023-12-22 14:31:03,738] Trial 3 finished with value: 0.40156727828746175 and parameters: {'input_dim': 77, 'hidden_dim': 22, 'window_size': 7, 'b_size': 73, 'learning_rate': 0.038234752246751866}. Best is trial 3 with value: 0.40156727828746175.\n",
      "[I 2023-12-22 14:31:24,226] Trial 4 finished with value: 0.3956422018348624 and parameters: {'input_dim': 142, 'hidden_dim': 15, 'window_size': 5, 'b_size': 67, 'learning_rate': 0.08168455894760163}. Best is trial 3 with value: 0.40156727828746175.\n",
      "[I 2023-12-22 14:31:44,143] Trial 5 finished with value: 0.39793577981651373 and parameters: {'input_dim': 168, 'hidden_dim': 18, 'window_size': 7, 'b_size': 89, 'learning_rate': 0.012385137298860933}. Best is trial 3 with value: 0.40156727828746175.\n",
      "[I 2023-12-22 14:32:02,033] Trial 6 finished with value: 0.40424311926605505 and parameters: {'input_dim': 141, 'hidden_dim': 16, 'window_size': 3, 'b_size': 124, 'learning_rate': 0.8536189862866826}. Best is trial 6 with value: 0.40424311926605505.\n",
      "[I 2023-12-22 14:32:21,345] Trial 7 finished with value: 0.39908256880733944 and parameters: {'input_dim': 172, 'hidden_dim': 22, 'window_size': 3, 'b_size': 98, 'learning_rate': 0.07591104805282695}. Best is trial 6 with value: 0.40424311926605505.\n",
      "[I 2023-12-22 14:32:37,786] Trial 8 finished with value: 0.3944954128440367 and parameters: {'input_dim': 68, 'hidden_dim': 30, 'window_size': 3, 'b_size': 120, 'learning_rate': 0.032927591344236166}. Best is trial 6 with value: 0.40424311926605505.\n",
      "[I 2023-12-22 14:32:57,925] Trial 9 finished with value: 0.40061162079510704 and parameters: {'input_dim': 150, 'hidden_dim': 22, 'window_size': 7, 'b_size': 85, 'learning_rate': 0.02342658105820405}. Best is trial 6 with value: 0.40424311926605505.\n",
      "[I 2023-12-22 14:33:16,322] Trial 10 finished with value: 0.3908639143730887 and parameters: {'input_dim': 194, 'hidden_dim': 38, 'window_size': 5, 'b_size': 124, 'learning_rate': 0.9285225829404773}. Best is trial 6 with value: 0.40424311926605505.\n",
      "[I 2023-12-22 14:33:39,142] Trial 11 finished with value: 0.3866590214067278 and parameters: {'input_dim': 109, 'hidden_dim': 29, 'window_size': 5, 'b_size': 41, 'learning_rate': 0.9808402068828499}. Best is trial 6 with value: 0.40424311926605505.\n",
      "[I 2023-12-22 14:33:58,083] Trial 12 finished with value: 0.39143730886850153 and parameters: {'input_dim': 102, 'hidden_dim': 10, 'window_size': 6, 'b_size': 70, 'learning_rate': 0.30512027571863104}. Best is trial 6 with value: 0.40424311926605505.\n",
      "[I 2023-12-22 14:34:16,071] Trial 13 finished with value: 0.39353975535168195 and parameters: {'input_dim': 131, 'hidden_dim': 22, 'window_size': 10, 'b_size': 109, 'learning_rate': 0.058696984223957506}. Best is trial 6 with value: 0.40424311926605505.\n",
      "[I 2023-12-22 14:34:36,526] Trial 14 finished with value: 0.39717125382262997 and parameters: {'input_dim': 89, 'hidden_dim': 38, 'window_size': 4, 'b_size': 68, 'learning_rate': 0.18000554787310746}. Best is trial 6 with value: 0.40424311926605505.\n",
      "[I 2023-12-22 14:34:58,237] Trial 15 finished with value: 0.39353975535168195 and parameters: {'input_dim': 121, 'hidden_dim': 26, 'window_size': 6, 'b_size': 55, 'learning_rate': 0.046325091682924216}. Best is trial 6 with value: 0.40424311926605505.\n",
      "[I 2023-12-22 14:35:16,844] Trial 16 finished with value: 0.3958333333333333 and parameters: {'input_dim': 85, 'hidden_dim': 36, 'window_size': 8, 'b_size': 108, 'learning_rate': 0.10679012120042587}. Best is trial 6 with value: 0.40424311926605505.\n",
      "[I 2023-12-22 14:35:37,061] Trial 17 finished with value: 0.39621559633027525 and parameters: {'input_dim': 153, 'hidden_dim': 17, 'window_size': 4, 'b_size': 76, 'learning_rate': 0.5508560011452656}. Best is trial 6 with value: 0.40424311926605505.\n",
      "[I 2023-12-22 14:35:56,981] Trial 18 finished with value: 0.3937308868501529 and parameters: {'input_dim': 200, 'hidden_dim': 26, 'window_size': 8, 'b_size': 105, 'learning_rate': 0.13006266808492892}. Best is trial 6 with value: 0.40424311926605505.\n",
      "[I 2023-12-22 14:36:21,989] Trial 19 finished with value: 0.39965596330275227 and parameters: {'input_dim': 119, 'hidden_dim': 33, 'window_size': 4, 'b_size': 33, 'learning_rate': 0.44128820809801383}. Best is trial 6 with value: 0.40424311926605505.\n",
      "[I 2023-12-22 14:36:43,019] Trial 20 finished with value: 0.4009938837920489 and parameters: {'input_dim': 171, 'hidden_dim': 15, 'window_size': 6, 'b_size': 77, 'learning_rate': 0.1532842029355893}. Best is trial 6 with value: 0.40424311926605505.\n",
      "[I 2023-12-22 14:37:05,347] Trial 21 finished with value: 0.39105504587155965 and parameters: {'input_dim': 174, 'hidden_dim': 14, 'window_size': 6, 'b_size': 59, 'learning_rate': 0.14252739508200016}. Best is trial 6 with value: 0.40424311926605505.\n",
      "[I 2023-12-22 14:37:25,074] Trial 22 finished with value: 0.3964067278287462 and parameters: {'input_dim': 160, 'hidden_dim': 19, 'window_size': 7, 'b_size': 78, 'learning_rate': 0.19076036757512807}. Best is trial 6 with value: 0.40424311926605505.\n",
      "[I 2023-12-22 14:37:44,385] Trial 23 finished with value: 0.39602446483180426 and parameters: {'input_dim': 183, 'hidden_dim': 13, 'window_size': 3, 'b_size': 99, 'learning_rate': 0.0503836020865591}. Best is trial 6 with value: 0.40424311926605505.\n",
      "[I 2023-12-22 14:38:02,094] Trial 24 finished with value: 0.3977446483180428 and parameters: {'input_dim': 137, 'hidden_dim': 20, 'window_size': 5, 'b_size': 117, 'learning_rate': 0.5784411477816304}. Best is trial 6 with value: 0.40424311926605505.\n",
      "[I 2023-12-22 14:38:21,417] Trial 25 finished with value: 0.3929663608562691 and parameters: {'input_dim': 50, 'hidden_dim': 10, 'window_size': 9, 'b_size': 62, 'learning_rate': 0.09261776016123817}. Best is trial 6 with value: 0.40424311926605505.\n",
      "[I 2023-12-22 14:38:42,375] Trial 26 finished with value: 0.3967889908256881 and parameters: {'input_dim': 187, 'hidden_dim': 26, 'window_size': 6, 'b_size': 80, 'learning_rate': 0.33149617395002484}. Best is trial 6 with value: 0.40424311926605505.\n",
      "[I 2023-12-22 14:39:04,787] Trial 27 finished with value: 0.3967889908256881 and parameters: {'input_dim': 146, 'hidden_dim': 16, 'window_size': 7, 'b_size': 48, 'learning_rate': 0.2272640257372144}. Best is trial 6 with value: 0.40424311926605505.\n",
      "[I 2023-12-22 14:39:25,366] Trial 28 finished with value: 0.3967889908256881 and parameters: {'input_dim': 161, 'hidden_dim': 25, 'window_size': 10, 'b_size': 73, 'learning_rate': 0.12770524043588682}. Best is trial 6 with value: 0.40424311926605505.\n",
      "[I 2023-12-22 14:39:43,692] Trial 29 finished with value: 0.4025229357798165 and parameters: {'input_dim': 110, 'hidden_dim': 45, 'window_size': 8, 'b_size': 128, 'learning_rate': 0.03951484287134589}. Best is trial 6 with value: 0.40424311926605505.\n",
      "[I 2023-12-22 14:40:00,987] Trial 30 finished with value: 0.39812691131498473 and parameters: {'input_dim': 104, 'hidden_dim': 45, 'window_size': 8, 'b_size': 127, 'learning_rate': 0.03411599403558146}. Best is trial 6 with value: 0.40424311926605505.\n",
      "[I 2023-12-22 14:40:19,065] Trial 31 finished with value: 0.39621559633027525 and parameters: {'input_dim': 94, 'hidden_dim': 17, 'window_size': 8, 'b_size': 116, 'learning_rate': 0.06288000824997175}. Best is trial 6 with value: 0.40424311926605505.\n",
      "[I 2023-12-22 14:40:36,231] Trial 32 finished with value: 0.39392201834862384 and parameters: {'input_dim': 74, 'hidden_dim': 45, 'window_size': 8, 'b_size': 128, 'learning_rate': 0.04302000163085837}. Best is trial 6 with value: 0.40424311926605505.\n",
      "[I 2023-12-22 14:40:55,705] Trial 33 finished with value: 0.3941131498470948 and parameters: {'input_dim': 130, 'hidden_dim': 43, 'window_size': 9, 'b_size': 84, 'learning_rate': 0.07430413712055188}. Best is trial 6 with value: 0.40424311926605505.\n",
      "[I 2023-12-22 14:41:13,802] Trial 34 finished with value: 0.39468654434250766 and parameters: {'input_dim': 112, 'hidden_dim': 12, 'window_size': 7, 'b_size': 96, 'learning_rate': 0.09954484192697}. Best is trial 6 with value: 0.40424311926605505.\n",
      "[I 2023-12-22 14:41:31,770] Trial 35 finished with value: 0.3811162079510703 and parameters: {'input_dim': 63, 'hidden_dim': 20, 'window_size': 9, 'b_size': 112, 'learning_rate': 0.016166232813902334}. Best is trial 6 with value: 0.40424311926605505.\n",
      "[I 2023-12-22 14:41:51,348] Trial 36 finished with value: 0.3977446483180428 and parameters: {'input_dim': 76, 'hidden_dim': 15, 'window_size': 4, 'b_size': 63, 'learning_rate': 0.01793759767878743}. Best is trial 6 with value: 0.40424311926605505.\n",
      "[I 2023-12-22 14:42:10,143] Trial 37 finished with value: 0.3941131498470948 and parameters: {'input_dim': 138, 'hidden_dim': 30, 'window_size': 7, 'b_size': 90, 'learning_rate': 0.0269663483835087}. Best is trial 6 with value: 0.40424311926605505.\n",
      "[I 2023-12-22 14:42:28,752] Trial 38 finished with value: 0.38321865443425074 and parameters: {'input_dim': 62, 'hidden_dim': 50, 'window_size': 8, 'b_size': 93, 'learning_rate': 0.010453437322560048}. Best is trial 6 with value: 0.40424311926605505.\n",
      "[I 2023-12-22 14:42:45,953] Trial 39 finished with value: 0.39258409785932724 and parameters: {'input_dim': 98, 'hidden_dim': 22, 'window_size': 6, 'b_size': 102, 'learning_rate': 0.03298602572430722}. Best is trial 6 with value: 0.40424311926605505.\n",
      "[I 2023-12-22 14:43:04,144] Trial 40 finished with value: 0.3973623853211009 and parameters: {'input_dim': 115, 'hidden_dim': 24, 'window_size': 9, 'b_size': 122, 'learning_rate': 0.06406899352855852}. Best is trial 6 with value: 0.40424311926605505.\n",
      "[I 2023-12-22 14:43:24,037] Trial 41 finished with value: 0.39812691131498473 and parameters: {'input_dim': 150, 'hidden_dim': 23, 'window_size': 7, 'b_size': 82, 'learning_rate': 0.020525637983425195}. Best is trial 6 with value: 0.40424311926605505.\n",
      "[I 2023-12-22 14:43:44,134] Trial 42 finished with value: 0.3985091743119266 and parameters: {'input_dim': 159, 'hidden_dim': 19, 'window_size': 7, 'b_size': 88, 'learning_rate': 0.028006117405113}. Best is trial 6 with value: 0.40424311926605505.\n",
      "[I 2023-12-22 14:44:04,218] Trial 43 finished with value: 0.39506880733944955 and parameters: {'input_dim': 170, 'hidden_dim': 28, 'window_size': 5, 'b_size': 73, 'learning_rate': 0.04111022292508895}. Best is trial 6 with value: 0.40424311926605505.\n",
      "[I 2023-12-22 14:44:22,584] Trial 44 finished with value: 0.4000382262996942 and parameters: {'input_dim': 129, 'hidden_dim': 33, 'window_size': 6, 'b_size': 86, 'learning_rate': 0.024896508995813096}. Best is trial 6 with value: 0.40424311926605505.\n",
      "[I 2023-12-22 14:44:41,292] Trial 45 finished with value: 0.3958333333333333 and parameters: {'input_dim': 144, 'hidden_dim': 12, 'window_size': 7, 'b_size': 114, 'learning_rate': 0.01534949904588295}. Best is trial 6 with value: 0.40424311926605505.\n",
      "[I 2023-12-22 14:45:03,809] Trial 46 finished with value: 0.3948776758409786 and parameters: {'input_dim': 179, 'hidden_dim': 22, 'window_size': 3, 'b_size': 49, 'learning_rate': 0.02229290830183817}. Best is trial 6 with value: 0.40424311926605505.\n",
      "[I 2023-12-22 14:45:21,314] Trial 47 finished with value: 0.39755351681957185 and parameters: {'input_dim': 82, 'hidden_dim': 40, 'window_size': 8, 'b_size': 124, 'learning_rate': 0.037394794240829865}. Best is trial 6 with value: 0.40424311926605505.\n",
      "[I 2023-12-22 14:45:41,954] Trial 48 finished with value: 0.4036697247706422 and parameters: {'input_dim': 165, 'hidden_dim': 33, 'window_size': 6, 'b_size': 68, 'learning_rate': 0.05222693546666107}. Best is trial 6 with value: 0.40424311926605505.\n",
      "[I 2023-12-22 14:46:02,948] Trial 49 finished with value: 0.39468654434250766 and parameters: {'input_dim': 164, 'hidden_dim': 33, 'window_size': 5, 'b_size': 65, 'learning_rate': 0.05297542470373104}. Best is trial 6 with value: 0.40424311926605505.\n"
     ]
    },
    {
     "name": "stdout",
     "output_type": "stream",
     "text": [
      "Best Hyperparameters: {'input_dim': 141, 'hidden_dim': 16, 'window_size': 3, 'b_size': 124, 'learning_rate': 0.8536189862866826}\n",
      "Best Accuracy: 0.40424311926605505\n"
     ]
    }
   ],
   "source": [
    "import optuna\n",
    "import torch\n",
    "import torch.nn as nn\n",
    "import torch.optim as optim\n",
    "from torch.utils.data import Dataset, DataLoader\n",
    "import pandas as pd\n",
    "import numpy as np\n",
    "from sklearn.metrics import accuracy_score\n",
    "from nltk.tokenize import word_tokenize\n",
    "from gensim.models import Word2Vec\n",
    "import multiprocessing\n",
    "from collections.abc import Mapping\n",
    "num_cores = multiprocessing.cpu_count()\n",
    "n_epochs=11\n",
    "criterion=nn.MultiMarginLoss()\n",
    "\n",
    "\n",
    "class Data(Dataset):\n",
    "    def __init__(self, x, y, input_dim):\n",
    "        self.x = torch.from_numpy(x).float()\n",
    "        self.y = torch.from_numpy(y)\n",
    "        self.len = self.x.shape[0]\n",
    "        self.input_dim = input_dim\n",
    "\n",
    "    def __getitem__(self, index):\n",
    "        return self.x[index, :self.input_dim], self.y[index]\n",
    "\n",
    "    def __len__(self):\n",
    "        return self.len\n",
    "\n",
    "class Net(nn.Module):\n",
    "    def __init__(self, D_in, H, D_out):\n",
    "        super(Net, self).__init__()\n",
    "        self.linear1 = nn.Linear(D_in, H)\n",
    "        self.bn1 = nn.BatchNorm1d(H)\n",
    "        self.linear2 = nn.Linear(H, D_out)\n",
    "\n",
    "    def forward(self, x):\n",
    "        x = F.relu(self.bn1(self.linear1(x)))\n",
    "        x = self.linear2(x)\n",
    "        x = F.softmax(x, dim=1)\n",
    "        return x\n",
    "    \n",
    "def objective(trial):\n",
    "    input_dim = trial.suggest_int('input_dim', 50, 200)\n",
    "    hidden_dim = trial.suggest_int('hidden_dim', 10, 50)\n",
    "    window_size = trial.suggest_int('window_size', 3, 10)\n",
    "    b_size = trial.suggest_int('b_size', 32, 128)\n",
    "    learning_rate = trial.suggest_float('learning_rate', 1e-2, 1, log=True)\n",
    "    model = Net(input_dim, hidden_dim, output_dim)\n",
    "    optimizer=torch.optim.SGD(model.parameters(), lr=learning_rate)\n",
    "    # Choose optimizer\n",
    "    \n",
    "    \n",
    "\n",
    "    word2vec_model = Word2Vec(sentences=data['tokenized_text'].tolist(), vector_size=input_dim, window=window_size, min_count=1, workers=num_cores)\n",
    "    \n",
    "    data['mean_embedding'] = data['tokenized_text'].apply(lambda tokens: np.mean([word2vec_model.wv[word] for word in tokens if word in word2vec_model.wv], axis=0))\n",
    "    valid['mean_embedding'] = valid['tokenized_text'].apply(lambda tokens: np.mean([word2vec_model.wv[word] for word in tokens if word in word2vec_model.wv], axis=0))\n",
    "    x_train = data['mean_embedding']\n",
    "    x_val = valid['mean_embedding']\n",
    "    y_val = valid['Sentiment']\n",
    "    y_train = data['Sentiment']\n",
    "    \n",
    "    x_train = np.vstack(x_train).astype(np.float32)\n",
    "    x_val = np.vstack(x_val).astype(np.float32)\n",
    "    \n",
    "    \n",
    "    y_val = y_val.values\n",
    "    y_train = y_train.values\n",
    "    \n",
    "\n",
    "    data_set = Data(x_train, y_train, input_dim)\n",
    "    trainloader = DataLoader(dataset=data_set, batch_size=b_size, shuffle=True)\n",
    "   \n",
    "    loss_list = []\n",
    "\n",
    "    for epoch in range(n_epochs):\n",
    "        for x, y in trainloader:\n",
    "            optimizer.zero_grad()\n",
    "            z = model.forward(x)\n",
    "            loss = criterion(z, y)\n",
    "            loss.backward()\n",
    "            optimizer.step()\n",
    "            \n",
    "            loss_list.append(loss.item())\n",
    "\n",
    "    x_val_tensor = torch.from_numpy(x_val)\n",
    "    z_val = model.forward(x_val_tensor)\n",
    "    max_indexes = torch.argmax(z_val, dim=1)\n",
    "    y_pred = max_indexes.numpy()\n",
    "\n",
    "    accuracy = accuracy_score(y_val, y_pred)\n",
    "    return accuracy\n",
    "\n",
    "# Set up Optuna study\n",
    "study = optuna.create_study(direction='maximize',sampler=optuna.samplers.TPESampler(seed=42))\n",
    "study.optimize(objective, n_trials=50)\n",
    "\n",
    "# Get the best parameters\n",
    "best_params = study.best_params\n",
    "best_accuracy = study.best_value\n",
    "\n",
    "print(\"Best Hyperparameters:\", best_params)\n",
    "print(\"Best Accuracy:\", best_accuracy)"
   ]
  },
  {
   "cell_type": "markdown",
   "id": "335084b2",
   "metadata": {
    "papermill": {
     "duration": 0.081627,
     "end_time": "2023-12-22T14:46:03.203448",
     "exception": false,
     "start_time": "2023-12-22T14:46:03.121821",
     "status": "completed"
    },
    "tags": []
   },
   "source": [
    "We got better accuracy using MultiMarginLoss, we keep it"
   ]
  },
  {
   "cell_type": "markdown",
   "id": "5b46559a",
   "metadata": {
    "papermill": {
     "duration": 0.083659,
     "end_time": "2023-12-22T14:46:03.370172",
     "exception": false,
     "start_time": "2023-12-22T14:46:03.286513",
     "status": "completed"
    },
    "tags": []
   },
   "source": [
    "Next we try to also include weight decay, we will use optuna to tune this hyperaparameter keeping the rest of the hyperparameters as above"
   ]
  },
  {
   "cell_type": "code",
   "execution_count": 41,
   "id": "af2b29af",
   "metadata": {
    "execution": {
     "iopub.execute_input": "2023-12-22T14:46:03.552938Z",
     "iopub.status.busy": "2023-12-22T14:46:03.552500Z",
     "iopub.status.idle": "2023-12-22T15:04:14.853126Z",
     "shell.execute_reply": "2023-12-22T15:04:14.851947Z"
    },
    "papermill": {
     "duration": 1091.471665,
     "end_time": "2023-12-22T15:04:14.940786",
     "exception": false,
     "start_time": "2023-12-22T14:46:03.469121",
     "status": "completed"
    },
    "tags": []
   },
   "outputs": [
    {
     "name": "stderr",
     "output_type": "stream",
     "text": [
      "[I 2023-12-22 14:46:03,576] A new study created in memory with name: no-name-10cb47ef-248a-4b61-8f58-46288c9a069c\n",
      "[I 2023-12-22 14:46:22,474] Trial 0 finished with value: 0.3948776758409786 and parameters: {'input_dim': 106, 'hidden_dim': 48, 'window_size': 8, 'b_size': 90, 'learning_rate': 0.020513382630874502, 'weight_decay_new': 0.0004207053950287938}. Best is trial 0 with value: 0.3948776758409786.\n",
      "[I 2023-12-22 14:46:40,781] Trial 1 finished with value: 0.3333333333333333 and parameters: {'input_dim': 58, 'hidden_dim': 45, 'window_size': 7, 'b_size': 100, 'learning_rate': 0.010994335574766204, 'weight_decay_new': 0.7579479953348001}. Best is trial 0 with value: 0.3948776758409786.\n",
      "[I 2023-12-22 14:47:03,925] Trial 2 finished with value: 0.37920489296636084 and parameters: {'input_dim': 175, 'hidden_dim': 18, 'window_size': 4, 'b_size': 49, 'learning_rate': 0.04059611610484305, 'weight_decay_new': 0.012561043700013555}. Best is trial 0 with value: 0.3948776758409786.\n",
      "[I 2023-12-22 14:47:26,212] Trial 3 finished with value: 0.3992737003058104 and parameters: {'input_dim': 115, 'hidden_dim': 21, 'window_size': 7, 'b_size': 45, 'learning_rate': 0.03839629299804171, 'weight_decay_new': 0.002920433847181412}. Best is trial 3 with value: 0.3992737003058104.\n",
      "[I 2023-12-22 14:47:45,852] Trial 4 finished with value: 0.39870030581039756 and parameters: {'input_dim': 118, 'hidden_dim': 42, 'window_size': 4, 'b_size': 81, 'learning_rate': 0.15304852121831464, 'weight_decay_new': 0.00015339162591163628}. Best is trial 3 with value: 0.3992737003058104.\n",
      "[I 2023-12-22 14:48:06,500] Trial 5 finished with value: 0.3333333333333333 and parameters: {'input_dim': 141, 'hidden_dim': 16, 'window_size': 3, 'b_size': 124, 'learning_rate': 0.8536189862866826, 'weight_decay_new': 0.17123375973163968}. Best is trial 3 with value: 0.3992737003058104.\n",
      "[I 2023-12-22 14:48:26,416] Trial 6 finished with value: 0.389717125382263 and parameters: {'input_dim': 95, 'hidden_dim': 14, 'window_size': 8, 'b_size': 74, 'learning_rate': 0.017541893487450794, 'weight_decay_new': 0.009565499215943823}. Best is trial 3 with value: 0.3992737003058104.\n",
      "[I 2023-12-22 14:48:44,432] Trial 7 finished with value: 0.38837920489296635 and parameters: {'input_dim': 55, 'hidden_dim': 47, 'window_size': 5, 'b_size': 96, 'learning_rate': 0.0420167205437253, 'weight_decay_new': 0.012030178871154668}. Best is trial 3 with value: 0.3992737003058104.\n",
      "[I 2023-12-22 14:49:07,889] Trial 8 finished with value: 0.3333333333333333 and parameters: {'input_dim': 132, 'hidden_dim': 17, 'window_size': 10, 'b_size': 107, 'learning_rate': 0.7568292060167615, 'weight_decay_new': 0.3795853142670636}. Best is trial 3 with value: 0.3992737003058104.\n",
      "[I 2023-12-22 14:49:30,341] Trial 9 finished with value: 0.40061162079510704 and parameters: {'input_dim': 140, 'hidden_dim': 47, 'window_size': 3, 'b_size': 51, 'learning_rate': 0.01231557172366602, 'weight_decay_new': 0.0020013420622879987}. Best is trial 9 with value: 0.40061162079510704.\n",
      "[I 2023-12-22 14:49:56,648] Trial 10 finished with value: 0.3988914373088685 and parameters: {'input_dim': 194, 'hidden_dim': 33, 'window_size': 5, 'b_size': 33, 'learning_rate': 0.01069117090175196, 'weight_decay_new': 0.0014382826835546288}. Best is trial 9 with value: 0.40061162079510704.\n",
      "[I 2023-12-22 14:50:18,634] Trial 11 finished with value: 0.39105504587155965 and parameters: {'input_dim': 152, 'hidden_dim': 27, 'window_size': 6, 'b_size': 58, 'learning_rate': 0.037071339243328685, 'weight_decay_new': 0.0019851686261147822}. Best is trial 9 with value: 0.40061162079510704.\n",
      "[I 2023-12-22 14:50:43,480] Trial 12 finished with value: 0.40118501529051986 and parameters: {'input_dim': 88, 'hidden_dim': 27, 'window_size': 10, 'b_size': 34, 'learning_rate': 0.08932681364423777, 'weight_decay_new': 0.002054114282603829}. Best is trial 12 with value: 0.40118501529051986.\n",
      "[I 2023-12-22 14:51:09,309] Trial 13 finished with value: 0.39965596330275227 and parameters: {'input_dim': 82, 'hidden_dim': 36, 'window_size': 10, 'b_size': 32, 'learning_rate': 0.14223599816482116, 'weight_decay_new': 0.0005776887907925771}. Best is trial 12 with value: 0.40118501529051986.\n",
      "[I 2023-12-22 14:51:30,414] Trial 14 finished with value: 0.3937308868501529 and parameters: {'input_dim': 163, 'hidden_dim': 26, 'window_size': 9, 'b_size': 63, 'learning_rate': 0.07707635340209, 'weight_decay_new': 0.0001060620527658235}. Best is trial 12 with value: 0.40118501529051986.\n",
      "[I 2023-12-22 14:51:52,104] Trial 15 finished with value: 0.38340978593272174 and parameters: {'input_dim': 79, 'hidden_dim': 36, 'window_size': 3, 'b_size': 47, 'learning_rate': 0.23793537960598532, 'weight_decay_new': 0.004987958170942394}. Best is trial 12 with value: 0.40118501529051986.\n",
      "[I 2023-12-22 14:52:12,179] Trial 16 finished with value: 0.3333333333333333 and parameters: {'input_dim': 87, 'hidden_dim': 41, 'window_size': 6, 'b_size': 66, 'learning_rate': 0.07561184821551395, 'weight_decay_new': 0.040263518532783656}. Best is trial 12 with value: 0.40118501529051986.\n",
      "[I 2023-12-22 14:52:35,771] Trial 17 finished with value: 0.38685015290519875 and parameters: {'input_dim': 134, 'hidden_dim': 25, 'window_size': 9, 'b_size': 40, 'learning_rate': 0.374330956124385, 'weight_decay_new': 0.0008804967135301856}. Best is trial 12 with value: 0.40118501529051986.\n",
      "[I 2023-12-22 14:52:56,361] Trial 18 finished with value: 0.39545107033639143 and parameters: {'input_dim': 69, 'hidden_dim': 30, 'window_size': 8, 'b_size': 53, 'learning_rate': 0.0682511815314189, 'weight_decay_new': 0.00030937247925726867}. Best is trial 12 with value: 0.40118501529051986.\n",
      "[I 2023-12-22 14:53:15,366] Trial 19 finished with value: 0.3916284403669725 and parameters: {'input_dim': 103, 'hidden_dim': 10, 'window_size': 5, 'b_size': 74, 'learning_rate': 0.021914805291808667, 'weight_decay_new': 0.0012383147843302907}. Best is trial 12 with value: 0.40118501529051986.\n",
      "[I 2023-12-22 14:53:40,583] Trial 20 finished with value: 0.39201070336391436 and parameters: {'input_dim': 185, 'hidden_dim': 50, 'window_size': 9, 'b_size': 40, 'learning_rate': 0.09914968301092247, 'weight_decay_new': 0.0026560800687350995}. Best is trial 12 with value: 0.40118501529051986.\n",
      "[I 2023-12-22 14:54:05,074] Trial 21 finished with value: 0.3992737003058104 and parameters: {'input_dim': 73, 'hidden_dim': 36, 'window_size': 10, 'b_size': 33, 'learning_rate': 0.14040382358975978, 'weight_decay_new': 0.000586072117186909}. Best is trial 12 with value: 0.40118501529051986.\n",
      "[I 2023-12-22 14:54:31,954] Trial 22 finished with value: 0.39105504587155965 and parameters: {'input_dim': 92, 'hidden_dim': 38, 'window_size': 10, 'b_size': 32, 'learning_rate': 0.21137349674595193, 'weight_decay_new': 0.0007054352594811968}. Best is trial 12 with value: 0.40118501529051986.\n",
      "[I 2023-12-22 14:54:56,119] Trial 23 finished with value: 0.3973623853211009 and parameters: {'input_dim': 148, 'hidden_dim': 31, 'window_size': 9, 'b_size': 41, 'learning_rate': 0.057401220186832067, 'weight_decay_new': 0.0004247852044225959}. Best is trial 12 with value: 0.40118501529051986.\n",
      "[I 2023-12-22 14:55:18,150] Trial 24 finished with value: 0.39506880733944955 and parameters: {'input_dim': 117, 'hidden_dim': 42, 'window_size': 10, 'b_size': 57, 'learning_rate': 0.11503796004774824, 'weight_decay_new': 0.0002510997947796734}. Best is trial 12 with value: 0.40118501529051986.\n",
      "[I 2023-12-22 14:55:41,194] Trial 25 finished with value: 0.3820718654434251 and parameters: {'input_dim': 104, 'hidden_dim': 24, 'window_size': 8, 'b_size': 39, 'learning_rate': 0.31336145269393095, 'weight_decay_new': 0.0009126704124098421}. Best is trial 12 with value: 0.40118501529051986.\n",
      "[I 2023-12-22 14:56:02,193] Trial 26 finished with value: 0.39392201834862384 and parameters: {'input_dim': 65, 'hidden_dim': 29, 'window_size': 4, 'b_size': 50, 'learning_rate': 0.027530476096257004, 'weight_decay_new': 0.004403586012812889}. Best is trial 12 with value: 0.40118501529051986.\n",
      "[I 2023-12-22 14:56:22,634] Trial 27 finished with value: 0.39965596330275227 and parameters: {'input_dim': 82, 'hidden_dim': 34, 'window_size': 7, 'b_size': 66, 'learning_rate': 0.052266765641731584, 'weight_decay_new': 0.0013812945069281832}. Best is trial 12 with value: 0.40118501529051986.\n",
      "[I 2023-12-22 14:56:44,582] Trial 28 finished with value: 0.39870030581039756 and parameters: {'input_dim': 160, 'hidden_dim': 38, 'window_size': 9, 'b_size': 56, 'learning_rate': 0.09170495575270589, 'weight_decay_new': 0.00022218910110679955}. Best is trial 12 with value: 0.40118501529051986.\n",
      "[I 2023-12-22 14:57:03,766] Trial 29 finished with value: 0.396980122324159 and parameters: {'input_dim': 128, 'hidden_dim': 45, 'window_size': 10, 'b_size': 83, 'learning_rate': 0.025807516258396987, 'weight_decay_new': 0.0004443580842215914}. Best is trial 12 with value: 0.40118501529051986.\n",
      "[I 2023-12-22 14:57:28,391] Trial 30 finished with value: 0.39315749235474007 and parameters: {'input_dim': 101, 'hidden_dim': 21, 'window_size': 6, 'b_size': 32, 'learning_rate': 0.01426366090709401, 'weight_decay_new': 0.0006488614657768919}. Best is trial 12 with value: 0.40118501529051986.\n",
      "[I 2023-12-22 14:57:48,731] Trial 31 finished with value: 0.39946483180428133 and parameters: {'input_dim': 82, 'hidden_dim': 33, 'window_size': 7, 'b_size': 66, 'learning_rate': 0.054139087398467546, 'weight_decay_new': 0.0017795841334832666}. Best is trial 12 with value: 0.40118501529051986.\n",
      "[I 2023-12-22 14:58:11,440] Trial 32 finished with value: 0.40214067278287463 and parameters: {'input_dim': 77, 'hidden_dim': 33, 'window_size': 8, 'b_size': 43, 'learning_rate': 0.013672602041970959, 'weight_decay_new': 0.0012868593371167642}. Best is trial 32 with value: 0.40214067278287463.\n",
      "[I 2023-12-22 14:58:34,199] Trial 33 finished with value: 0.39659785932721714 and parameters: {'input_dim': 62, 'hidden_dim': 28, 'window_size': 8, 'b_size': 44, 'learning_rate': 0.01423074987583923, 'weight_decay_new': 0.0035647886744112228}. Best is trial 32 with value: 0.40214067278287463.\n",
      "[I 2023-12-22 14:58:57,796] Trial 34 finished with value: 0.3944954128440367 and parameters: {'input_dim': 50, 'hidden_dim': 22, 'window_size': 9, 'b_size': 37, 'learning_rate': 0.013953552832617754, 'weight_decay_new': 0.0009064059267801794}. Best is trial 32 with value: 0.40214067278287463.\n",
      "[I 2023-12-22 14:59:20,077] Trial 35 finished with value: 0.3893348623853211 and parameters: {'input_dim': 112, 'hidden_dim': 45, 'window_size': 8, 'b_size': 48, 'learning_rate': 0.029569022683342508, 'weight_decay_new': 0.002204814107938837}. Best is trial 32 with value: 0.40214067278287463.\n",
      "[I 2023-12-22 14:59:42,997] Trial 36 finished with value: 0.39659785932721714 and parameters: {'input_dim': 93, 'hidden_dim': 40, 'window_size': 10, 'b_size': 45, 'learning_rate': 0.010390159160537364, 'weight_decay_new': 0.005768045138331805}. Best is trial 32 with value: 0.40214067278287463.\n",
      "[I 2023-12-22 15:00:03,839] Trial 37 finished with value: 0.3937308868501529 and parameters: {'input_dim': 74, 'hidden_dim': 31, 'window_size': 3, 'b_size': 51, 'learning_rate': 0.02050168767955149, 'weight_decay_new': 0.0003444571620743398}. Best is trial 32 with value: 0.40214067278287463.\n",
      "[I 2023-12-22 15:00:22,364] Trial 38 finished with value: 0.39659785932721714 and parameters: {'input_dim': 123, 'hidden_dim': 44, 'window_size': 7, 'b_size': 111, 'learning_rate': 0.018534425336699, 'weight_decay_new': 0.0024693207948723755}. Best is trial 32 with value: 0.40214067278287463.\n",
      "[I 2023-12-22 15:00:46,352] Trial 39 finished with value: 0.39258409785932724 and parameters: {'input_dim': 111, 'hidden_dim': 50, 'window_size': 4, 'b_size': 36, 'learning_rate': 0.01372326732466002, 'weight_decay_new': 0.0065610218691256154}. Best is trial 32 with value: 0.40214067278287463.\n",
      "[I 2023-12-22 15:01:09,901] Trial 40 finished with value: 0.39468654434250766 and parameters: {'input_dim': 140, 'hidden_dim': 23, 'window_size': 9, 'b_size': 43, 'learning_rate': 0.010052906961011554, 'weight_decay_new': 0.0032639746357419116}. Best is trial 32 with value: 0.40214067278287463.\n",
      "[I 2023-12-22 15:01:30,788] Trial 41 finished with value: 0.39353975535168195 and parameters: {'input_dim': 82, 'hidden_dim': 34, 'window_size': 6, 'b_size': 61, 'learning_rate': 0.047614303488279004, 'weight_decay_new': 0.0011508530343510347}. Best is trial 32 with value: 0.40214067278287463.\n",
      "[I 2023-12-22 15:01:50,631] Trial 42 finished with value: 0.3948776758409786 and parameters: {'input_dim': 87, 'hidden_dim': 35, 'window_size': 8, 'b_size': 75, 'learning_rate': 0.0327558041799918, 'weight_decay_new': 0.0015594834043457996}. Best is trial 32 with value: 0.40214067278287463.\n",
      "[I 2023-12-22 15:02:10,900] Trial 43 finished with value: 0.3952599388379205 and parameters: {'input_dim': 61, 'hidden_dim': 38, 'window_size': 7, 'b_size': 68, 'learning_rate': 0.04204680987117971, 'weight_decay_new': 0.0014207896471200064}. Best is trial 32 with value: 0.40214067278287463.\n",
      "[I 2023-12-22 15:02:31,975] Trial 44 finished with value: 0.39812691131498473 and parameters: {'input_dim': 98, 'hidden_dim': 32, 'window_size': 5, 'b_size': 52, 'learning_rate': 0.023428358401410134, 'weight_decay_new': 0.0005646336170491439}. Best is trial 32 with value: 0.40214067278287463.\n",
      "[I 2023-12-22 15:02:49,767] Trial 45 finished with value: 0.39659785932721714 and parameters: {'input_dim': 71, 'hidden_dim': 27, 'window_size': 7, 'b_size': 88, 'learning_rate': 0.034781694185237785, 'weight_decay_new': 0.0001805761022320736}. Best is trial 32 with value: 0.40214067278287463.\n",
      "[I 2023-12-22 15:03:13,368] Trial 46 finished with value: 0.3988914373088685 and parameters: {'input_dim': 56, 'hidden_dim': 47, 'window_size': 7, 'b_size': 37, 'learning_rate': 0.017604767011989264, 'weight_decay_new': 0.0018807973166475723}. Best is trial 32 with value: 0.40214067278287463.\n",
      "[I 2023-12-22 15:03:33,100] Trial 47 finished with value: 0.3958333333333333 and parameters: {'input_dim': 79, 'hidden_dim': 19, 'window_size': 10, 'b_size': 70, 'learning_rate': 0.11240622968540169, 'weight_decay_new': 0.0010651589448685802}. Best is trial 32 with value: 0.40214067278287463.\n",
      "[I 2023-12-22 15:03:53,360] Trial 48 finished with value: 0.3872324159021407 and parameters: {'input_dim': 90, 'hidden_dim': 39, 'window_size': 4, 'b_size': 61, 'learning_rate': 0.057610886034295844, 'weight_decay_new': 0.010447859116136425}. Best is trial 32 with value: 0.40214067278287463.\n",
      "[I 2023-12-22 15:04:14,844] Trial 49 finished with value: 0.3878058103975535 and parameters: {'input_dim': 163, 'hidden_dim': 43, 'window_size': 6, 'b_size': 55, 'learning_rate': 0.08407170086460108, 'weight_decay_new': 0.0029280894706420857}. Best is trial 32 with value: 0.40214067278287463.\n"
     ]
    },
    {
     "name": "stdout",
     "output_type": "stream",
     "text": [
      "Best Hyperparameters: {'input_dim': 77, 'hidden_dim': 33, 'window_size': 8, 'b_size': 43, 'learning_rate': 0.013672602041970959, 'weight_decay_new': 0.0012868593371167642}\n",
      "Best Accuracy: 0.40214067278287463\n"
     ]
    }
   ],
   "source": [
    "import optuna\n",
    "import torch\n",
    "import torch.nn as nn\n",
    "import torch.optim as optim\n",
    "from torch.utils.data import Dataset, DataLoader\n",
    "import pandas as pd\n",
    "import numpy as np\n",
    "from sklearn.metrics import accuracy_score\n",
    "from nltk.tokenize import word_tokenize\n",
    "from gensim.models import Word2Vec\n",
    "import multiprocessing\n",
    "from collections.abc import Mapping\n",
    "from torch.nn import functional as F\n",
    "num_cores = multiprocessing.cpu_count()\n",
    "n_epochs=11\n",
    "criterion=nn.MultiMarginLoss()\n",
    "\n",
    "\n",
    "class Data(Dataset):\n",
    "    def __init__(self, x, y, input_dim):\n",
    "        self.x = torch.from_numpy(x).float()\n",
    "        self.y = torch.from_numpy(y)\n",
    "        self.len = self.x.shape[0]\n",
    "        self.input_dim = input_dim\n",
    "\n",
    "    def __getitem__(self, index):\n",
    "        return self.x[index, :self.input_dim], self.y[index]\n",
    "\n",
    "    def __len__(self):\n",
    "        return self.len\n",
    "\n",
    "class Net(nn.Module):\n",
    "    def __init__(self, D_in, H, D_out):\n",
    "        super(Net, self).__init__()\n",
    "        self.linear1 = nn.Linear(D_in, H)\n",
    "        self.bn1 = nn.BatchNorm1d(H)\n",
    "        self.linear2 = nn.Linear(H, D_out)\n",
    "\n",
    "    def forward(self, x):\n",
    "        x = F.relu(self.bn1(self.linear1(x)))\n",
    "        x = self.linear2(x)\n",
    "        x = F.softmax(x, dim=1)\n",
    "        return x\n",
    "    \n",
    "def objective(trial):\n",
    "    input_dim = trial.suggest_int('input_dim', 50, 200)\n",
    "    hidden_dim = trial.suggest_int('hidden_dim', 10, 50)\n",
    "    window_size = trial.suggest_int('window_size', 3, 10)\n",
    "    b_size = trial.suggest_int('b_size', 32, 128)\n",
    "    learning_rate = trial.suggest_float('learning_rate', 1e-2, 1, log=True)\n",
    "    weight_decay_new = trial.suggest_float('weight_decay_new', 1e-4, 1, log=True)\n",
    "    model = Net(input_dim, hidden_dim, output_dim)\n",
    "    optimizer=torch.optim.SGD(model.parameters(), lr=learning_rate,weight_decay=weight_decay_new)\n",
    "    # Choose optimizer\n",
    "    \n",
    "    \n",
    "\n",
    "    word2vec_model = Word2Vec(sentences=data['tokenized_text'].tolist(), vector_size=input_dim, window=window_size, min_count=1, workers=num_cores)\n",
    "    \n",
    "    data['mean_embedding'] = data['tokenized_text'].apply(lambda tokens: np.mean([word2vec_model.wv[word] for word in tokens if word in word2vec_model.wv], axis=0))\n",
    "    valid['mean_embedding'] = valid['tokenized_text'].apply(lambda tokens: np.mean([word2vec_model.wv[word] for word in tokens if word in word2vec_model.wv], axis=0))\n",
    "    x_train = data['mean_embedding']\n",
    "    x_val = valid['mean_embedding']\n",
    "    y_val = valid['Sentiment']\n",
    "    y_train = data['Sentiment']\n",
    "    \n",
    "    x_train = np.vstack(x_train).astype(np.float32)\n",
    "    x_val = np.vstack(x_val).astype(np.float32)\n",
    "    \n",
    "    \n",
    "    y_val = y_val.values\n",
    "    y_train = y_train.values\n",
    "    \n",
    "\n",
    "    data_set = Data(x_train, y_train, input_dim)\n",
    "    trainloader = DataLoader(dataset=data_set, batch_size=b_size, shuffle=True)\n",
    "   \n",
    "    loss_list = []\n",
    "\n",
    "    for epoch in range(n_epochs):\n",
    "        for x, y in trainloader:\n",
    "            optimizer.zero_grad()\n",
    "            z = model.forward(x)\n",
    "            loss = criterion(z, y)\n",
    "            loss.backward()\n",
    "            optimizer.step()\n",
    "            \n",
    "            loss_list.append(loss.item())\n",
    "\n",
    "    x_val_tensor = torch.from_numpy(x_val)\n",
    "    z_val = model.forward(x_val_tensor)\n",
    "    max_indexes = torch.argmax(z_val, dim=1)\n",
    "    y_pred = max_indexes.numpy()\n",
    "\n",
    "    accuracy = accuracy_score(y_val, y_pred)\n",
    "    return accuracy\n",
    "\n",
    "# Set up Optuna study\n",
    "study = optuna.create_study(direction='maximize',sampler=optuna.samplers.TPESampler(seed=42))\n",
    "study.optimize(objective, n_trials=50)\n",
    "\n",
    "# Get the best parameters\n",
    "best_params = study.best_params\n",
    "best_accuracy = study.best_value\n",
    "\n",
    "print(\"Best Hyperparameters:\", best_params)\n",
    "print(\"Best Accuracy:\", best_accuracy)"
   ]
  },
  {
   "cell_type": "markdown",
   "id": "b9ee1cc6",
   "metadata": {
    "papermill": {
     "duration": 0.086222,
     "end_time": "2023-12-22T15:04:15.115304",
     "exception": false,
     "start_time": "2023-12-22T15:04:15.029082",
     "status": "completed"
    },
    "tags": []
   },
   "source": [
    "Pretty close but not better accuracy"
   ]
  },
  {
   "cell_type": "markdown",
   "id": "cb582027",
   "metadata": {
    "papermill": {
     "duration": 0.08703,
     "end_time": "2023-12-22T15:04:15.289303",
     "exception": false,
     "start_time": "2023-12-22T15:04:15.202273",
     "status": "completed"
    },
    "tags": []
   },
   "source": [
    "Next try to use another activation function like LeakyReLU, optimize negative slope using optuna"
   ]
  },
  {
   "cell_type": "code",
   "execution_count": 42,
   "id": "28d1c926",
   "metadata": {
    "execution": {
     "iopub.execute_input": "2023-12-22T15:04:15.467034Z",
     "iopub.status.busy": "2023-12-22T15:04:15.466352Z",
     "iopub.status.idle": "2023-12-22T15:22:01.492684Z",
     "shell.execute_reply": "2023-12-22T15:22:01.491620Z"
    },
    "papermill": {
     "duration": 1066.208586,
     "end_time": "2023-12-22T15:22:01.586209",
     "exception": false,
     "start_time": "2023-12-22T15:04:15.377623",
     "status": "completed"
    },
    "tags": []
   },
   "outputs": [
    {
     "name": "stderr",
     "output_type": "stream",
     "text": [
      "[I 2023-12-22 15:04:15,491] A new study created in memory with name: no-name-3e02754a-e804-420a-9e5d-cd84625f7f6e\n",
      "[I 2023-12-22 15:04:33,796] Trial 0 finished with value: 0.3985091743119266 and parameters: {'input_dim': 106, 'hidden_dim': 48, 'window_size': 8, 'b_size': 90, 'learning_rate': 0.020513382630874502, 'negative_slope': 0.055238410897498764}. Best is trial 0 with value: 0.3985091743119266.\n",
      "[I 2023-12-22 15:04:52,263] Trial 1 finished with value: 0.38589449541284404 and parameters: {'input_dim': 58, 'hidden_dim': 45, 'window_size': 7, 'b_size': 100, 'learning_rate': 0.010994335574766204, 'negative_slope': 0.29127385712697834}. Best is trial 0 with value: 0.3985091743119266.\n",
      "[I 2023-12-22 15:05:14,707] Trial 2 finished with value: 0.3916284403669725 and parameters: {'input_dim': 175, 'hidden_dim': 18, 'window_size': 4, 'b_size': 49, 'learning_rate': 0.04059611610484305, 'negative_slope': 0.16217936517334897}. Best is trial 0 with value: 0.3985091743119266.\n",
      "[I 2023-12-22 15:05:36,688] Trial 3 finished with value: 0.39908256880733944 and parameters: {'input_dim': 115, 'hidden_dim': 21, 'window_size': 7, 'b_size': 45, 'learning_rate': 0.03839629299804171, 'negative_slope': 0.11624493455517058}. Best is trial 3 with value: 0.39908256880733944.\n",
      "[I 2023-12-22 15:05:56,838] Trial 4 finished with value: 0.3929663608562691 and parameters: {'input_dim': 118, 'hidden_dim': 42, 'window_size': 4, 'b_size': 81, 'learning_rate': 0.15304852121831464, 'negative_slope': 0.02347061968879934}. Best is trial 3 with value: 0.39908256880733944.\n",
      "[I 2023-12-22 15:06:14,561] Trial 5 finished with value: 0.39392201834862384 and parameters: {'input_dim': 141, 'hidden_dim': 16, 'window_size': 3, 'b_size': 124, 'learning_rate': 0.8536189862866826, 'negative_slope': 0.24443523095377373}. Best is trial 3 with value: 0.39908256880733944.\n",
      "[I 2023-12-22 15:06:34,459] Trial 6 finished with value: 0.39048165137614677 and parameters: {'input_dim': 95, 'hidden_dim': 14, 'window_size': 8, 'b_size': 74, 'learning_rate': 0.017541893487450794, 'negative_slope': 0.15360130393226834}. Best is trial 3 with value: 0.39908256880733944.\n",
      "[I 2023-12-22 15:06:52,555] Trial 7 finished with value: 0.3985091743119266 and parameters: {'input_dim': 55, 'hidden_dim': 47, 'window_size': 5, 'b_size': 96, 'learning_rate': 0.0420167205437253, 'negative_slope': 0.16081972614156514}. Best is trial 3 with value: 0.39908256880733944.\n",
      "[I 2023-12-22 15:07:10,902] Trial 8 finished with value: 0.3958333333333333 and parameters: {'input_dim': 132, 'hidden_dim': 17, 'window_size': 10, 'b_size': 107, 'learning_rate': 0.7568292060167615, 'negative_slope': 0.26949993162401814}. Best is trial 3 with value: 0.39908256880733944.\n",
      "[I 2023-12-22 15:07:32,830] Trial 9 finished with value: 0.4009938837920489 and parameters: {'input_dim': 140, 'hidden_dim': 47, 'window_size': 3, 'b_size': 51, 'learning_rate': 0.01231557172366602, 'negative_slope': 0.10434579592134664}. Best is trial 9 with value: 0.4009938837920489.\n",
      "[I 2023-12-22 15:07:58,554] Trial 10 finished with value: 0.3973623853211009 and parameters: {'input_dim': 194, 'hidden_dim': 33, 'window_size': 5, 'b_size': 33, 'learning_rate': 0.01069117090175196, 'negative_slope': 0.09394370824993133}. Best is trial 9 with value: 0.4009938837920489.\n",
      "[I 2023-12-22 15:08:20,123] Trial 11 finished with value: 0.3983180428134557 and parameters: {'input_dim': 152, 'hidden_dim': 27, 'window_size': 6, 'b_size': 58, 'learning_rate': 0.037071339243328685, 'negative_slope': 0.10409031171229594}. Best is trial 9 with value: 0.4009938837920489.\n",
      "[I 2023-12-22 15:08:44,568] Trial 12 finished with value: 0.39545107033639143 and parameters: {'input_dim': 88, 'hidden_dim': 27, 'window_size': 10, 'b_size': 34, 'learning_rate': 0.08932681364423777, 'negative_slope': 0.1051652836682307}. Best is trial 9 with value: 0.4009938837920489.\n",
      "[I 2023-12-22 15:09:06,761] Trial 13 finished with value: 0.400802752293578 and parameters: {'input_dim': 154, 'hidden_dim': 36, 'window_size': 7, 'b_size': 56, 'learning_rate': 0.022016589777937627, 'negative_slope': 0.07282520082495694}. Best is trial 9 with value: 0.4009938837920489.\n",
      "[I 2023-12-22 15:09:27,744] Trial 14 finished with value: 0.3988914373088685 and parameters: {'input_dim': 165, 'hidden_dim': 37, 'window_size': 8, 'b_size': 65, 'learning_rate': 0.01932468820491489, 'negative_slope': 0.011853102056576734}. Best is trial 9 with value: 0.4009938837920489.\n",
      "[I 2023-12-22 15:09:48,950] Trial 15 finished with value: 0.40118501529051986 and parameters: {'input_dim': 200, 'hidden_dim': 40, 'window_size': 3, 'b_size': 59, 'learning_rate': 0.011440652293717107, 'negative_slope': 0.056263960508985536}. Best is trial 15 with value: 0.40118501529051986.\n",
      "[I 2023-12-22 15:10:09,539] Trial 16 finished with value: 0.3927752293577982 and parameters: {'input_dim': 197, 'hidden_dim': 41, 'window_size': 3, 'b_size': 69, 'learning_rate': 0.011503135097893302, 'negative_slope': 0.047965626381121174}. Best is trial 15 with value: 0.40118501529051986.\n",
      "[I 2023-12-22 15:10:33,281] Trial 17 finished with value: 0.3988914373088685 and parameters: {'input_dim': 179, 'hidden_dim': 50, 'window_size': 3, 'b_size': 43, 'learning_rate': 0.010999279145288376, 'negative_slope': 0.043181344625117704}. Best is trial 15 with value: 0.40118501529051986.\n",
      "[I 2023-12-22 15:10:51,244] Trial 18 finished with value: 0.39392201834862384 and parameters: {'input_dim': 69, 'hidden_dim': 41, 'window_size': 4, 'b_size': 81, 'learning_rate': 0.07394452856341444, 'negative_slope': 0.07337311103826519}. Best is trial 15 with value: 0.40118501529051986.\n",
      "[I 2023-12-22 15:11:13,519] Trial 19 finished with value: 0.39717125382262997 and parameters: {'input_dim': 185, 'hidden_dim': 10, 'window_size': 5, 'b_size': 59, 'learning_rate': 0.18140837457893846, 'negative_slope': 0.12812863990990958}. Best is trial 15 with value: 0.40118501529051986.\n",
      "[I 2023-12-22 15:11:35,252] Trial 20 finished with value: 0.39965596330275227 and parameters: {'input_dim': 136, 'hidden_dim': 37, 'window_size': 3, 'b_size': 50, 'learning_rate': 0.02784150538546708, 'negative_slope': 0.07415064282136179}. Best is trial 15 with value: 0.40118501529051986.\n",
      "[I 2023-12-22 15:11:57,358] Trial 21 finished with value: 0.3985091743119266 and parameters: {'input_dim': 158, 'hidden_dim': 35, 'window_size': 6, 'b_size': 58, 'learning_rate': 0.01531325258822313, 'negative_slope': 0.07521305234789757}. Best is trial 15 with value: 0.40118501529051986.\n",
      "[I 2023-12-22 15:12:19,747] Trial 22 finished with value: 0.39048165137614677 and parameters: {'input_dim': 146, 'hidden_dim': 30, 'window_size': 9, 'b_size': 54, 'learning_rate': 0.02304525419065275, 'negative_slope': 0.030913068887929773}. Best is trial 15 with value: 0.40118501529051986.\n",
      "[I 2023-12-22 15:12:43,657] Trial 23 finished with value: 0.39870030581039756 and parameters: {'input_dim': 164, 'hidden_dim': 43, 'window_size': 4, 'b_size': 40, 'learning_rate': 0.015229369277448149, 'negative_slope': 0.05741004392852052}. Best is trial 15 with value: 0.40118501529051986.\n",
      "[I 2023-12-22 15:13:04,452] Trial 24 finished with value: 0.3918195718654434 and parameters: {'input_dim': 127, 'hidden_dim': 39, 'window_size': 6, 'b_size': 66, 'learning_rate': 0.02568750058564725, 'negative_slope': 0.08508032482984254}. Best is trial 15 with value: 0.40118501529051986.\n",
      "[I 2023-12-22 15:13:25,002] Trial 25 finished with value: 0.39258409785932724 and parameters: {'input_dim': 171, 'hidden_dim': 32, 'window_size': 7, 'b_size': 74, 'learning_rate': 0.014746402245549767, 'negative_slope': 0.1328587039107384}. Best is trial 15 with value: 0.40118501529051986.\n",
      "[I 2023-12-22 15:13:46,965] Trial 26 finished with value: 0.40672782874617736 and parameters: {'input_dim': 185, 'hidden_dim': 45, 'window_size': 5, 'b_size': 64, 'learning_rate': 0.010615964911199536, 'negative_slope': 0.015426354211159066}. Best is trial 26 with value: 0.40672782874617736.\n",
      "[I 2023-12-22 15:14:08,708] Trial 27 finished with value: 0.39984709480122327 and parameters: {'input_dim': 190, 'hidden_dim': 46, 'window_size': 4, 'b_size': 63, 'learning_rate': 0.01075594701209919, 'negative_slope': 0.011646269336681832}. Best is trial 26 with value: 0.40672782874617736.\n",
      "[I 2023-12-22 15:14:29,504] Trial 28 finished with value: 0.3941131498470948 and parameters: {'input_dim': 184, 'hidden_dim': 49, 'window_size': 5, 'b_size': 84, 'learning_rate': 0.014875821789496488, 'negative_slope': 0.034797770660315905}. Best is trial 26 with value: 0.40672782874617736.\n",
      "[I 2023-12-22 15:14:48,944] Trial 29 finished with value: 0.39468654434250766 and parameters: {'input_dim': 103, 'hidden_dim': 45, 'window_size': 3, 'b_size': 73, 'learning_rate': 0.02688858778376758, 'negative_slope': 0.056960648713996566}. Best is trial 26 with value: 0.40672782874617736.\n",
      "[I 2023-12-22 15:15:08,618] Trial 30 finished with value: 0.3973623853211009 and parameters: {'input_dim': 200, 'hidden_dim': 50, 'window_size': 4, 'b_size': 89, 'learning_rate': 0.01918759419612378, 'negative_slope': 0.04458673793792212}. Best is trial 26 with value: 0.40672782874617736.\n",
      "[I 2023-12-22 15:15:31,515] Trial 31 finished with value: 0.39793577981651373 and parameters: {'input_dim': 155, 'hidden_dim': 38, 'window_size': 6, 'b_size': 49, 'learning_rate': 0.01369274366487654, 'negative_slope': 0.06324622885297765}. Best is trial 26 with value: 0.40672782874617736.\n",
      "[I 2023-12-22 15:15:55,836] Trial 32 finished with value: 0.3988914373088685 and parameters: {'input_dim': 171, 'hidden_dim': 43, 'window_size': 7, 'b_size': 40, 'learning_rate': 0.010065429963501245, 'negative_slope': 0.08956720126597244}. Best is trial 26 with value: 0.40672782874617736.\n",
      "[I 2023-12-22 15:16:17,800] Trial 33 finished with value: 0.3944954128440367 and parameters: {'input_dim': 149, 'hidden_dim': 47, 'window_size': 9, 'b_size': 54, 'learning_rate': 0.02113731453003587, 'negative_slope': 0.027458025233070033}. Best is trial 26 with value: 0.40672782874617736.\n",
      "[I 2023-12-22 15:16:39,777] Trial 34 finished with value: 0.3992737003058104 and parameters: {'input_dim': 179, 'hidden_dim': 44, 'window_size': 5, 'b_size': 61, 'learning_rate': 0.013488961342056448, 'negative_slope': 0.05741319699255525}. Best is trial 26 with value: 0.40672782874617736.\n",
      "[I 2023-12-22 15:17:01,641] Trial 35 finished with value: 0.3973623853211009 and parameters: {'input_dim': 160, 'hidden_dim': 35, 'window_size': 7, 'b_size': 53, 'learning_rate': 0.018000271229064, 'negative_slope': 0.010846949394121355}. Best is trial 26 with value: 0.40672782874617736.\n",
      "[I 2023-12-22 15:17:21,349] Trial 36 finished with value: 0.3908639143730887 and parameters: {'input_dim': 116, 'hidden_dim': 40, 'window_size': 3, 'b_size': 70, 'learning_rate': 0.010161988769654606, 'negative_slope': 0.0364985690973257}. Best is trial 26 with value: 0.40672782874617736.\n",
      "[I 2023-12-22 15:17:43,917] Trial 37 finished with value: 0.39659785932721714 and parameters: {'input_dim': 142, 'hidden_dim': 22, 'window_size': 4, 'b_size': 48, 'learning_rate': 0.013260621085596731, 'negative_slope': 0.07150789162591517}. Best is trial 26 with value: 0.40672782874617736.\n",
      "[I 2023-12-22 15:18:04,782] Trial 38 finished with value: 0.3952599388379205 and parameters: {'input_dim': 188, 'hidden_dim': 45, 'window_size': 3, 'b_size': 77, 'learning_rate': 0.018534425336699, 'negative_slope': 0.11452823915247468}. Best is trial 26 with value: 0.40672782874617736.\n",
      "[I 2023-12-22 15:18:23,766] Trial 39 finished with value: 0.39717125382262997 and parameters: {'input_dim': 170, 'hidden_dim': 35, 'window_size': 8, 'b_size': 107, 'learning_rate': 0.03350535121359918, 'negative_slope': 0.08732443171715593}. Best is trial 26 with value: 0.40672782874617736.\n",
      "[I 2023-12-22 15:18:47,391] Trial 40 finished with value: 0.3973623853211009 and parameters: {'input_dim': 124, 'hidden_dim': 48, 'window_size': 5, 'b_size': 43, 'learning_rate': 0.022689212191253826, 'negative_slope': 0.027186018907510386}. Best is trial 26 with value: 0.40672782874617736.\n",
      "[I 2023-12-22 15:19:09,504] Trial 41 finished with value: 0.39870030581039756 and parameters: {'input_dim': 191, 'hidden_dim': 46, 'window_size': 4, 'b_size': 63, 'learning_rate': 0.011649148463495455, 'negative_slope': 0.01735341354743375}. Best is trial 26 with value: 0.40672782874617736.\n",
      "[I 2023-12-22 15:19:31,200] Trial 42 finished with value: 0.4019495412844037 and parameters: {'input_dim': 192, 'hidden_dim': 42, 'window_size': 4, 'b_size': 55, 'learning_rate': 0.010008865849083705, 'negative_slope': 0.01030186018530269}. Best is trial 26 with value: 0.40672782874617736.\n",
      "[I 2023-12-22 15:19:53,217] Trial 43 finished with value: 0.40022935779816515 and parameters: {'input_dim': 200, 'hidden_dim': 42, 'window_size': 3, 'b_size': 55, 'learning_rate': 0.015908050225273033, 'negative_slope': 0.03920395851044788}. Best is trial 26 with value: 0.40672782874617736.\n",
      "[I 2023-12-22 15:20:17,599] Trial 44 finished with value: 0.39984709480122327 and parameters: {'input_dim': 179, 'hidden_dim': 39, 'window_size': 4, 'b_size': 38, 'learning_rate': 0.013270960172752002, 'negative_slope': 0.047711928728885286}. Best is trial 26 with value: 0.40672782874617736.\n",
      "[I 2023-12-22 15:20:40,304] Trial 45 finished with value: 0.39908256880733944 and parameters: {'input_dim': 194, 'hidden_dim': 43, 'window_size': 4, 'b_size': 47, 'learning_rate': 0.017653957521695726, 'negative_slope': 0.02494421154785481}. Best is trial 26 with value: 0.40672782874617736.\n",
      "[I 2023-12-22 15:20:58,092] Trial 46 finished with value: 0.39048165137614677 and parameters: {'input_dim': 138, 'hidden_dim': 32, 'window_size': 3, 'b_size': 124, 'learning_rate': 0.012541525417801064, 'negative_slope': 0.02162269059291804}. Best is trial 26 with value: 0.40672782874617736.\n",
      "[I 2023-12-22 15:21:17,895] Trial 47 finished with value: 0.40022935779816515 and parameters: {'input_dim': 107, 'hidden_dim': 41, 'window_size': 6, 'b_size': 69, 'learning_rate': 0.01061069917563599, 'negative_slope': 0.05153027839533614}. Best is trial 26 with value: 0.40672782874617736.\n",
      "[I 2023-12-22 15:21:39,984] Trial 48 finished with value: 0.3988914373088685 and parameters: {'input_dim': 180, 'hidden_dim': 48, 'window_size': 5, 'b_size': 58, 'learning_rate': 0.016935609916534602, 'negative_slope': 0.06658864692705334}. Best is trial 26 with value: 0.40672782874617736.\n",
      "[I 2023-12-22 15:22:01,486] Trial 49 finished with value: 0.3958333333333333 and parameters: {'input_dim': 165, 'hidden_dim': 27, 'window_size': 3, 'b_size': 51, 'learning_rate': 0.012573622240689674, 'negative_slope': 0.10131796573334897}. Best is trial 26 with value: 0.40672782874617736.\n"
     ]
    },
    {
     "name": "stdout",
     "output_type": "stream",
     "text": [
      "Best Hyperparameters: {'input_dim': 185, 'hidden_dim': 45, 'window_size': 5, 'b_size': 64, 'learning_rate': 0.010615964911199536, 'negative_slope': 0.015426354211159066}\n",
      "Best Accuracy: 0.40672782874617736\n"
     ]
    }
   ],
   "source": [
    "import optuna\n",
    "import torch\n",
    "import torch.nn as nn\n",
    "import torch.optim as optim\n",
    "from torch.utils.data import Dataset, DataLoader\n",
    "import pandas as pd\n",
    "import numpy as np\n",
    "from sklearn.metrics import accuracy_score\n",
    "from nltk.tokenize import word_tokenize\n",
    "from gensim.models import Word2Vec\n",
    "import multiprocessing\n",
    "from collections.abc import Mapping\n",
    "from torch.nn import functional as F\n",
    "num_cores = multiprocessing.cpu_count()\n",
    "n_epochs=11\n",
    "criterion=nn.MultiMarginLoss()\n",
    "\n",
    "\n",
    "class Data(Dataset):\n",
    "    def __init__(self, x, y, input_dim):\n",
    "        self.x = torch.from_numpy(x).float()\n",
    "        self.y = torch.from_numpy(y)\n",
    "        self.len = self.x.shape[0]\n",
    "        self.input_dim = input_dim\n",
    "\n",
    "    def __getitem__(self, index):\n",
    "        return self.x[index, :self.input_dim], self.y[index]\n",
    "\n",
    "    def __len__(self):\n",
    "        return self.len\n",
    "\n",
    "class Net(nn.Module):\n",
    "    def __init__(self, D_in, H, D_out,negative_slope):\n",
    "        super(Net, self).__init__()\n",
    "        self.linear1 = nn.Linear(D_in, H)\n",
    "        self.bn1 = nn.BatchNorm1d(H)\n",
    "        self.linear2 = nn.Linear(H, D_out)\n",
    "        self.negative_slope = negative_slope\n",
    "\n",
    "    def forward(self, x):\n",
    "        # Using LeakyReLU instead of ReLU\n",
    "        x = F.leaky_relu(self.bn1(self.linear1(x)), self.negative_slope)  # default slope is 0.01\n",
    "        x = self.linear2(x)\n",
    "        x = F.softmax(x, dim=1)\n",
    "        return x\n",
    "    \n",
    "def objective(trial):\n",
    "    input_dim = trial.suggest_int('input_dim', 50, 200)\n",
    "    hidden_dim = trial.suggest_int('hidden_dim', 10, 50)\n",
    "    window_size = trial.suggest_int('window_size', 3, 10)\n",
    "    b_size = trial.suggest_int('b_size', 32, 128)\n",
    "    learning_rate = trial.suggest_float('learning_rate', 1e-2, 1, log=True)\n",
    "    negative_slope = trial.suggest_float('negative_slope', 0.01, 0.3)\n",
    "    model = Net(input_dim, hidden_dim, output_dim,negative_slope=negative_slope)\n",
    "    optimizer=torch.optim.SGD(model.parameters(), lr=learning_rate)\n",
    "    # Choose optimizer\n",
    "    \n",
    "    \n",
    "\n",
    "    word2vec_model = Word2Vec(sentences=data['tokenized_text'].tolist(), vector_size=input_dim, window=window_size, min_count=1, workers=num_cores)\n",
    "    \n",
    "    data['mean_embedding'] = data['tokenized_text'].apply(lambda tokens: np.mean([word2vec_model.wv[word] for word in tokens if word in word2vec_model.wv], axis=0))\n",
    "    valid['mean_embedding'] = valid['tokenized_text'].apply(lambda tokens: np.mean([word2vec_model.wv[word] for word in tokens if word in word2vec_model.wv], axis=0))\n",
    "    x_train = data['mean_embedding']\n",
    "    x_val = valid['mean_embedding']\n",
    "    y_val = valid['Sentiment']\n",
    "    y_train = data['Sentiment']\n",
    "    \n",
    "    x_train = np.vstack(x_train).astype(np.float32)\n",
    "    x_val = np.vstack(x_val).astype(np.float32)\n",
    "    \n",
    "    \n",
    "    y_val = y_val.values\n",
    "    y_train = y_train.values\n",
    "    \n",
    "\n",
    "    data_set = Data(x_train, y_train, input_dim)\n",
    "    trainloader = DataLoader(dataset=data_set, batch_size=b_size, shuffle=True)\n",
    "   \n",
    "    loss_list = []\n",
    "\n",
    "    for epoch in range(n_epochs):\n",
    "        for x, y in trainloader:\n",
    "            optimizer.zero_grad()\n",
    "            z = model.forward(x)\n",
    "            loss = criterion(z, y)\n",
    "            loss.backward()\n",
    "            optimizer.step()\n",
    "            \n",
    "            loss_list.append(loss.item())\n",
    "\n",
    "    x_val_tensor = torch.from_numpy(x_val)\n",
    "    z_val = model.forward(x_val_tensor)\n",
    "    max_indexes = torch.argmax(z_val, dim=1)\n",
    "    y_pred = max_indexes.numpy()\n",
    "\n",
    "    accuracy = accuracy_score(y_val, y_pred)\n",
    "    return accuracy\n",
    "\n",
    "# Set up Optuna study\n",
    "study = optuna.create_study(direction='maximize',sampler=optuna.samplers.TPESampler(seed=42))\n",
    "study.optimize(objective, n_trials=50)\n",
    "\n",
    "# Get the best parameters\n",
    "best_params = study.best_params\n",
    "best_accuracy = study.best_value\n",
    "\n",
    "print(\"Best Hyperparameters:\", best_params)\n",
    "print(\"Best Accuracy:\", best_accuracy)"
   ]
  },
  {
   "cell_type": "markdown",
   "id": "27d7a0d6",
   "metadata": {
    "papermill": {
     "duration": 0.091309,
     "end_time": "2023-12-22T15:22:01.769950",
     "exception": false,
     "start_time": "2023-12-22T15:22:01.678641",
     "status": "completed"
    },
    "tags": []
   },
   "source": [
    "Slightly better, we keep it "
   ]
  },
  {
   "cell_type": "markdown",
   "id": "ab386941",
   "metadata": {
    "papermill": {
     "duration": 0.092355,
     "end_time": "2023-12-22T15:22:01.953630",
     "exception": false,
     "start_time": "2023-12-22T15:22:01.861275",
     "status": "completed"
    },
    "tags": []
   },
   "source": [
    "We will also check Tanh activattion function and stop with activation functions so we can proceed to next steps"
   ]
  },
  {
   "cell_type": "code",
   "execution_count": 43,
   "id": "df6b2693",
   "metadata": {
    "execution": {
     "iopub.execute_input": "2023-12-22T15:22:02.225816Z",
     "iopub.status.busy": "2023-12-22T15:22:02.225050Z",
     "iopub.status.idle": "2023-12-22T15:37:57.645978Z",
     "shell.execute_reply": "2023-12-22T15:37:57.644877Z"
    },
    "papermill": {
     "duration": 955.695022,
     "end_time": "2023-12-22T15:37:57.740367",
     "exception": false,
     "start_time": "2023-12-22T15:22:02.045345",
     "status": "completed"
    },
    "tags": []
   },
   "outputs": [
    {
     "name": "stderr",
     "output_type": "stream",
     "text": [
      "[I 2023-12-22 15:22:02,250] A new study created in memory with name: no-name-24d25c39-bf25-4535-b265-80fe40733d2b\n",
      "[I 2023-12-22 15:22:20,904] Trial 0 finished with value: 0.39965596330275227 and parameters: {'input_dim': 106, 'hidden_dim': 48, 'window_size': 8, 'b_size': 90, 'learning_rate': 0.020513382630874502}. Best is trial 0 with value: 0.39965596330275227.\n",
      "[I 2023-12-22 15:22:38,747] Trial 1 finished with value: 0.3988914373088685 and parameters: {'input_dim': 73, 'hidden_dim': 12, 'window_size': 9, 'b_size': 90, 'learning_rate': 0.2607024758370766}. Best is trial 0 with value: 0.39965596330275227.\n",
      "[I 2023-12-22 15:23:00,002] Trial 2 finished with value: 0.39659785932721714 and parameters: {'input_dim': 53, 'hidden_dim': 49, 'window_size': 9, 'b_size': 52, 'learning_rate': 0.02310201887845294}. Best is trial 0 with value: 0.39965596330275227.\n",
      "[I 2023-12-22 15:23:19,581] Trial 3 finished with value: 0.40061162079510704 and parameters: {'input_dim': 77, 'hidden_dim': 22, 'window_size': 7, 'b_size': 73, 'learning_rate': 0.038234752246751866}. Best is trial 3 with value: 0.40061162079510704.\n",
      "[I 2023-12-22 15:23:39,832] Trial 4 finished with value: 0.39392201834862384 and parameters: {'input_dim': 142, 'hidden_dim': 15, 'window_size': 5, 'b_size': 67, 'learning_rate': 0.08168455894760163}. Best is trial 3 with value: 0.40061162079510704.\n",
      "[I 2023-12-22 15:23:59,637] Trial 5 finished with value: 0.39793577981651373 and parameters: {'input_dim': 168, 'hidden_dim': 18, 'window_size': 7, 'b_size': 89, 'learning_rate': 0.012385137298860933}. Best is trial 3 with value: 0.40061162079510704.\n",
      "[I 2023-12-22 15:24:17,379] Trial 6 finished with value: 0.39315749235474007 and parameters: {'input_dim': 141, 'hidden_dim': 16, 'window_size': 3, 'b_size': 124, 'learning_rate': 0.8536189862866826}. Best is trial 3 with value: 0.40061162079510704.\n",
      "[I 2023-12-22 15:24:36,383] Trial 7 finished with value: 0.4009938837920489 and parameters: {'input_dim': 172, 'hidden_dim': 22, 'window_size': 3, 'b_size': 98, 'learning_rate': 0.07591104805282695}. Best is trial 7 with value: 0.4009938837920489.\n",
      "[I 2023-12-22 15:24:53,016] Trial 8 finished with value: 0.39105504587155965 and parameters: {'input_dim': 68, 'hidden_dim': 30, 'window_size': 3, 'b_size': 120, 'learning_rate': 0.032927591344236166}. Best is trial 7 with value: 0.4009938837920489.\n",
      "[I 2023-12-22 15:25:12,909] Trial 9 finished with value: 0.3948776758409786 and parameters: {'input_dim': 150, 'hidden_dim': 22, 'window_size': 7, 'b_size': 85, 'learning_rate': 0.02342658105820405}. Best is trial 7 with value: 0.4009938837920489.\n",
      "[I 2023-12-22 15:25:38,414] Trial 10 finished with value: 0.3956422018348624 and parameters: {'input_dim': 197, 'hidden_dim': 38, 'window_size': 5, 'b_size': 33, 'learning_rate': 0.10745871100472208}. Best is trial 7 with value: 0.4009938837920489.\n",
      "[I 2023-12-22 15:25:56,527] Trial 11 finished with value: 0.40061162079510704 and parameters: {'input_dim': 101, 'hidden_dim': 26, 'window_size': 5, 'b_size': 108, 'learning_rate': 0.057439213796957656}. Best is trial 7 with value: 0.4009938837920489.\n",
      "[I 2023-12-22 15:26:17,622] Trial 12 finished with value: 0.3958333333333333 and parameters: {'input_dim': 199, 'hidden_dim': 36, 'window_size': 6, 'b_size': 64, 'learning_rate': 0.04945171531890114}. Best is trial 7 with value: 0.4009938837920489.\n",
      "[I 2023-12-22 15:26:35,668] Trial 13 finished with value: 0.40118501529051986 and parameters: {'input_dim': 106, 'hidden_dim': 24, 'window_size': 10, 'b_size': 104, 'learning_rate': 0.1270727650677546}. Best is trial 13 with value: 0.40118501529051986.\n",
      "[I 2023-12-22 15:26:54,203] Trial 14 finished with value: 0.3988914373088685 and parameters: {'input_dim': 113, 'hidden_dim': 33, 'window_size': 10, 'b_size': 106, 'learning_rate': 0.15412527657054517}. Best is trial 13 with value: 0.40118501529051986.\n",
      "[I 2023-12-22 15:27:12,552] Trial 15 finished with value: 0.4023318042813456 and parameters: {'input_dim': 168, 'hidden_dim': 27, 'window_size': 4, 'b_size': 114, 'learning_rate': 0.20975457910271644}. Best is trial 15 with value: 0.4023318042813456.\n",
      "[I 2023-12-22 15:27:31,679] Trial 16 finished with value: 0.39143730886850153 and parameters: {'input_dim': 172, 'hidden_dim': 42, 'window_size': 4, 'b_size': 113, 'learning_rate': 0.23793537960598532}. Best is trial 15 with value: 0.4023318042813456.\n",
      "[I 2023-12-22 15:27:50,163] Trial 17 finished with value: 0.3977446483180428 and parameters: {'input_dim': 127, 'hidden_dim': 27, 'window_size': 10, 'b_size': 128, 'learning_rate': 0.40495190030897776}. Best is trial 15 with value: 0.4023318042813456.\n",
      "[I 2023-12-22 15:28:07,737] Trial 18 finished with value: 0.3967889908256881 and parameters: {'input_dim': 99, 'hidden_dim': 30, 'window_size': 6, 'b_size': 100, 'learning_rate': 0.12605752505371942}. Best is trial 15 with value: 0.4023318042813456.\n",
      "[I 2023-12-22 15:28:25,897] Trial 19 finished with value: 0.3992737003058104 and parameters: {'input_dim': 89, 'hidden_dim': 42, 'window_size': 8, 'b_size': 114, 'learning_rate': 0.1798428501995498}. Best is trial 15 with value: 0.4023318042813456.\n",
      "[I 2023-12-22 15:28:45,273] Trial 20 finished with value: 0.3985091743119266 and parameters: {'input_dim': 124, 'hidden_dim': 26, 'window_size': 4, 'b_size': 99, 'learning_rate': 0.3552045917659078}. Best is trial 15 with value: 0.4023318042813456.\n",
      "[I 2023-12-22 15:29:04,533] Trial 21 finished with value: 0.3956422018348624 and parameters: {'input_dim': 174, 'hidden_dim': 21, 'window_size': 4, 'b_size': 101, 'learning_rate': 0.07648064181631282}. Best is trial 15 with value: 0.4023318042813456.\n",
      "[I 2023-12-22 15:29:22,995] Trial 22 finished with value: 0.3977446483180428 and parameters: {'input_dim': 159, 'hidden_dim': 24, 'window_size': 3, 'b_size': 115, 'learning_rate': 0.09825379992951781}. Best is trial 15 with value: 0.4023318042813456.\n",
      "[I 2023-12-22 15:29:42,721] Trial 23 finished with value: 0.3977446483180428 and parameters: {'input_dim': 186, 'hidden_dim': 19, 'window_size': 4, 'b_size': 96, 'learning_rate': 0.14553947669174958}. Best is trial 15 with value: 0.4023318042813456.\n",
      "[I 2023-12-22 15:30:02,284] Trial 24 finished with value: 0.3948776758409786 and parameters: {'input_dim': 127, 'hidden_dim': 30, 'window_size': 3, 'b_size': 77, 'learning_rate': 0.06926892181306116}. Best is trial 15 with value: 0.4023318042813456.\n",
      "[I 2023-12-22 15:30:21,656] Trial 25 finished with value: 0.39468654434250766 and parameters: {'input_dim': 184, 'hidden_dim': 11, 'window_size': 5, 'b_size': 108, 'learning_rate': 0.09544550637614692}. Best is trial 15 with value: 0.4023318042813456.\n",
      "[I 2023-12-22 15:30:41,548] Trial 26 finished with value: 0.3956422018348624 and parameters: {'input_dim': 156, 'hidden_dim': 34, 'window_size': 9, 'b_size': 118, 'learning_rate': 0.18878488862835482}. Best is trial 15 with value: 0.4023318042813456.\n",
      "[I 2023-12-22 15:31:00,980] Trial 27 finished with value: 0.39602446483180426 and parameters: {'input_dim': 136, 'hidden_dim': 27, 'window_size': 6, 'b_size': 82, 'learning_rate': 0.13040227125969808}. Best is trial 15 with value: 0.4023318042813456.\n",
      "[I 2023-12-22 15:31:20,335] Trial 28 finished with value: 0.3885703363914373 and parameters: {'input_dim': 184, 'hidden_dim': 14, 'window_size': 4, 'b_size': 96, 'learning_rate': 0.056910368056209186}. Best is trial 15 with value: 0.4023318042813456.\n",
      "[I 2023-12-22 15:31:39,006] Trial 29 finished with value: 0.39793577981651373 and parameters: {'input_dim': 113, 'hidden_dim': 20, 'window_size': 8, 'b_size': 92, 'learning_rate': 0.10398745650170524}. Best is trial 15 with value: 0.4023318042813456.\n",
      "[I 2023-12-22 15:31:57,338] Trial 30 finished with value: 0.39946483180428133 and parameters: {'input_dim': 160, 'hidden_dim': 24, 'window_size': 3, 'b_size': 107, 'learning_rate': 0.041600355787998596}. Best is trial 15 with value: 0.4023318042813456.\n",
      "[I 2023-12-22 15:32:17,132] Trial 31 finished with value: 0.39755351681957185 and parameters: {'input_dim': 82, 'hidden_dim': 23, 'window_size': 7, 'b_size': 72, 'learning_rate': 0.04425116126181911}. Best is trial 15 with value: 0.4023318042813456.\n",
      "[I 2023-12-22 15:32:36,810] Trial 32 finished with value: 0.389717125382263 and parameters: {'input_dim': 70, 'hidden_dim': 18, 'window_size': 10, 'b_size': 56, 'learning_rate': 0.03276359991112298}. Best is trial 15 with value: 0.4023318042813456.\n",
      "[I 2023-12-22 15:32:56,163] Trial 33 finished with value: 0.39908256880733944 and parameters: {'input_dim': 60, 'hidden_dim': 30, 'window_size': 9, 'b_size': 75, 'learning_rate': 0.06995908614477798}. Best is trial 15 with value: 0.4023318042813456.\n",
      "[I 2023-12-22 15:33:15,132] Trial 34 finished with value: 0.3952599388379205 and parameters: {'input_dim': 91, 'hidden_dim': 24, 'window_size': 8, 'b_size': 85, 'learning_rate': 0.08362834679684716}. Best is trial 15 with value: 0.4023318042813456.\n",
      "[I 2023-12-22 15:33:35,383] Trial 35 finished with value: 0.39545107033639143 and parameters: {'input_dim': 84, 'hidden_dim': 17, 'window_size': 5, 'b_size': 59, 'learning_rate': 0.21380318633507323}. Best is trial 15 with value: 0.4023318042813456.\n",
      "[I 2023-12-22 15:33:57,039] Trial 36 finished with value: 0.393348623853211 and parameters: {'input_dim': 113, 'hidden_dim': 14, 'window_size': 9, 'b_size': 47, 'learning_rate': 0.014792265898564104}. Best is trial 15 with value: 0.4023318042813456.\n",
      "[I 2023-12-22 15:34:15,341] Trial 37 finished with value: 0.40271406727828746 and parameters: {'input_dim': 58, 'hidden_dim': 28, 'window_size': 7, 'b_size': 90, 'learning_rate': 0.2805587308809858}. Best is trial 37 with value: 0.40271406727828746.\n",
      "[I 2023-12-22 15:34:33,415] Trial 38 finished with value: 0.3943042813455658 and parameters: {'input_dim': 54, 'hidden_dim': 33, 'window_size': 6, 'b_size': 91, 'learning_rate': 0.25507188965695315}. Best is trial 37 with value: 0.40271406727828746.\n",
      "[I 2023-12-22 15:34:51,289] Trial 39 finished with value: 0.3988914373088685 and parameters: {'input_dim': 145, 'hidden_dim': 28, 'window_size': 7, 'b_size': 122, 'learning_rate': 0.31725078827146924}. Best is trial 37 with value: 0.40271406727828746.\n",
      "[I 2023-12-22 15:35:10,143] Trial 40 finished with value: 0.3941131498470948 and parameters: {'input_dim': 166, 'hidden_dim': 21, 'window_size': 3, 'b_size': 104, 'learning_rate': 0.5128927959509194}. Best is trial 37 with value: 0.40271406727828746.\n",
      "[I 2023-12-22 15:35:30,219] Trial 41 finished with value: 0.39984709480122327 and parameters: {'input_dim': 62, 'hidden_dim': 25, 'window_size': 8, 'b_size': 69, 'learning_rate': 0.17166945281131032}. Best is trial 37 with value: 0.40271406727828746.\n",
      "[I 2023-12-22 15:35:48,326] Trial 42 finished with value: 0.40386085626911317 and parameters: {'input_dim': 51, 'hidden_dim': 22, 'window_size': 7, 'b_size': 87, 'learning_rate': 0.13253687211275184}. Best is trial 42 with value: 0.40386085626911317.\n",
      "[I 2023-12-22 15:36:06,598] Trial 43 finished with value: 0.39812691131498473 and parameters: {'input_dim': 52, 'hidden_dim': 28, 'window_size': 7, 'b_size': 85, 'learning_rate': 0.1271463289358973}. Best is trial 42 with value: 0.40386085626911317.\n",
      "[I 2023-12-22 15:36:24,907] Trial 44 finished with value: 0.3952599388379205 and parameters: {'input_dim': 62, 'hidden_dim': 22, 'window_size': 7, 'b_size': 92, 'learning_rate': 0.16910366921740955}. Best is trial 42 with value: 0.40386085626911317.\n",
      "[I 2023-12-22 15:36:41,917] Trial 45 finished with value: 0.396980122324159 and parameters: {'input_dim': 71, 'hidden_dim': 32, 'window_size': 8, 'b_size': 112, 'learning_rate': 0.27557712695999936}. Best is trial 42 with value: 0.40386085626911317.\n",
      "[I 2023-12-22 15:37:00,554] Trial 46 finished with value: 0.39602446483180426 and parameters: {'input_dim': 77, 'hidden_dim': 19, 'window_size': 9, 'b_size': 79, 'learning_rate': 0.2382337904704297}. Best is trial 42 with value: 0.40386085626911317.\n",
      "[I 2023-12-22 15:37:20,432] Trial 47 finished with value: 0.39870030581039756 and parameters: {'input_dim': 176, 'hidden_dim': 28, 'window_size': 6, 'b_size': 87, 'learning_rate': 0.11324644609794979}. Best is trial 42 with value: 0.40386085626911317.\n",
      "[I 2023-12-22 15:37:39,051] Trial 48 finished with value: 0.4019495412844037 and parameters: {'input_dim': 135, 'hidden_dim': 36, 'window_size': 4, 'b_size': 95, 'learning_rate': 0.19956862775243375}. Best is trial 42 with value: 0.40386085626911317.\n",
      "[I 2023-12-22 15:37:57,636] Trial 49 finished with value: 0.39984709480122327 and parameters: {'input_dim': 134, 'hidden_dim': 39, 'window_size': 5, 'b_size': 102, 'learning_rate': 0.20321338145176218}. Best is trial 42 with value: 0.40386085626911317.\n"
     ]
    },
    {
     "name": "stdout",
     "output_type": "stream",
     "text": [
      "Best Hyperparameters: {'input_dim': 51, 'hidden_dim': 22, 'window_size': 7, 'b_size': 87, 'learning_rate': 0.13253687211275184}\n",
      "Best Accuracy: 0.40386085626911317\n"
     ]
    }
   ],
   "source": [
    "import optuna\n",
    "import torch\n",
    "import torch.nn as nn\n",
    "import torch.optim as optim\n",
    "from torch.utils.data import Dataset, DataLoader\n",
    "import pandas as pd\n",
    "import numpy as np\n",
    "from sklearn.metrics import accuracy_score\n",
    "from nltk.tokenize import word_tokenize\n",
    "from gensim.models import Word2Vec\n",
    "import multiprocessing\n",
    "from collections.abc import Mapping\n",
    "from torch.nn import functional as F\n",
    "num_cores = multiprocessing.cpu_count()\n",
    "n_epochs=11\n",
    "criterion=nn.MultiMarginLoss()\n",
    "\n",
    "\n",
    "class Data(Dataset):\n",
    "    def __init__(self, x, y, input_dim):\n",
    "        self.x = torch.from_numpy(x).float()\n",
    "        self.y = torch.from_numpy(y)\n",
    "        self.len = self.x.shape[0]\n",
    "        self.input_dim = input_dim\n",
    "\n",
    "    def __getitem__(self, index):\n",
    "        return self.x[index, :self.input_dim], self.y[index]\n",
    "\n",
    "    def __len__(self):\n",
    "        return self.len\n",
    "\n",
    "class Net(nn.Module):\n",
    "    def __init__(self, D_in, H, D_out):\n",
    "        super(Net, self).__init__()\n",
    "        self.linear1 = nn.Linear(D_in, H)\n",
    "        self.bn1 = nn.BatchNorm1d(H)\n",
    "        self.linear2 = nn.Linear(H, D_out)\n",
    "\n",
    "    def forward(self, x):\n",
    "        x = torch.tanh(self.bn1(self.linear1(x)))\n",
    "        x = self.linear2(x)\n",
    "        x = F.softmax(x, dim=1)\n",
    "        return x\n",
    "    \n",
    "def objective(trial):\n",
    "    input_dim = trial.suggest_int('input_dim', 50, 200)\n",
    "    hidden_dim = trial.suggest_int('hidden_dim', 10, 50)\n",
    "    window_size = trial.suggest_int('window_size', 3, 10)\n",
    "    b_size = trial.suggest_int('b_size', 32, 128)\n",
    "    learning_rate = trial.suggest_float('learning_rate', 1e-2, 1, log=True)\n",
    "    model = Net(input_dim, hidden_dim, output_dim)\n",
    "    optimizer=torch.optim.SGD(model.parameters(), lr=learning_rate)\n",
    "    # Choose optimizer\n",
    "    \n",
    "    \n",
    "\n",
    "    word2vec_model = Word2Vec(sentences=data['tokenized_text'].tolist(), vector_size=input_dim, window=window_size, min_count=1, workers=num_cores)\n",
    "    \n",
    "    data['mean_embedding'] = data['tokenized_text'].apply(lambda tokens: np.mean([word2vec_model.wv[word] for word in tokens if word in word2vec_model.wv], axis=0))\n",
    "    valid['mean_embedding'] = valid['tokenized_text'].apply(lambda tokens: np.mean([word2vec_model.wv[word] for word in tokens if word in word2vec_model.wv], axis=0))\n",
    "    x_train = data['mean_embedding']\n",
    "    x_val = valid['mean_embedding']\n",
    "    y_val = valid['Sentiment']\n",
    "    y_train = data['Sentiment']\n",
    "    \n",
    "    x_train = np.vstack(x_train).astype(np.float32)\n",
    "    x_val = np.vstack(x_val).astype(np.float32)\n",
    "    \n",
    "    \n",
    "    y_val = y_val.values\n",
    "    y_train = y_train.values\n",
    "    \n",
    "\n",
    "    data_set = Data(x_train, y_train, input_dim)\n",
    "    trainloader = DataLoader(dataset=data_set, batch_size=b_size, shuffle=True)\n",
    "   \n",
    "    loss_list = []\n",
    "\n",
    "    for epoch in range(n_epochs):\n",
    "        for x, y in trainloader:\n",
    "            optimizer.zero_grad()\n",
    "            z = model.forward(x)\n",
    "            loss = criterion(z, y)\n",
    "            loss.backward()\n",
    "            optimizer.step()\n",
    "            \n",
    "            loss_list.append(loss.item())\n",
    "\n",
    "    x_val_tensor = torch.from_numpy(x_val)\n",
    "    z_val = model.forward(x_val_tensor)\n",
    "    max_indexes = torch.argmax(z_val, dim=1)\n",
    "    y_pred = max_indexes.numpy()\n",
    "\n",
    "    accuracy = accuracy_score(y_val, y_pred)\n",
    "    return accuracy\n",
    "\n",
    "# Set up Optuna study\n",
    "study = optuna.create_study(direction='maximize',sampler=optuna.samplers.TPESampler(seed=42))\n",
    "study.optimize(objective, n_trials=50)\n",
    "\n",
    "# Get the best parameters\n",
    "best_params = study.best_params\n",
    "best_accuracy = study.best_value\n",
    "\n",
    "print(\"Best Hyperparameters:\", best_params)\n",
    "print(\"Best Accuracy:\", best_accuracy)"
   ]
  },
  {
   "cell_type": "markdown",
   "id": "116ca939",
   "metadata": {
    "papermill": {
     "duration": 0.097043,
     "end_time": "2023-12-22T15:37:57.933935",
     "exception": false,
     "start_time": "2023-12-22T15:37:57.836892",
     "status": "completed"
    },
    "tags": []
   },
   "source": [
    "Nice try but not better, we keep leaky_relu"
   ]
  },
  {
   "cell_type": "markdown",
   "id": "13733b0d",
   "metadata": {
    "papermill": {
     "duration": 0.096675,
     "end_time": "2023-12-22T15:37:58.128773",
     "exception": false,
     "start_time": "2023-12-22T15:37:58.032098",
     "status": "completed"
    },
    "tags": []
   },
   "source": [
    "I really want to give a second try to more hidden layers, lets try 2 now and also include dropout"
   ]
  },
  {
   "cell_type": "markdown",
   "id": "6836e8aa",
   "metadata": {
    "papermill": {
     "duration": 0.0961,
     "end_time": "2023-12-22T15:37:58.322913",
     "exception": false,
     "start_time": "2023-12-22T15:37:58.226813",
     "status": "completed"
    },
    "tags": []
   },
   "source": [
    "Since we we will use optuna for dropout_rate as well, lets double the trials of optuna to 100, there are many hyperparameters we are tuning"
   ]
  },
  {
   "cell_type": "code",
   "execution_count": 44,
   "id": "f9517641",
   "metadata": {
    "execution": {
     "iopub.execute_input": "2023-12-22T15:37:58.519221Z",
     "iopub.status.busy": "2023-12-22T15:37:58.518841Z",
     "iopub.status.idle": "2023-12-22T16:12:08.057824Z",
     "shell.execute_reply": "2023-12-22T16:12:08.056710Z"
    },
    "papermill": {
     "duration": 2049.746255,
     "end_time": "2023-12-22T16:12:08.166028",
     "exception": false,
     "start_time": "2023-12-22T15:37:58.419773",
     "status": "completed"
    },
    "tags": []
   },
   "outputs": [
    {
     "name": "stderr",
     "output_type": "stream",
     "text": [
      "[I 2023-12-22 15:37:58,545] A new study created in memory with name: no-name-6f2df2bc-9fb8-45c5-9f68-79b1bc72860c\n",
      "[I 2023-12-22 15:38:18,640] Trial 0 finished with value: 0.3941131498470948 and parameters: {'input_dim': 106, 'hidden_dim': 48, 'window_size': 8, 'b_size': 90, 'learning_rate': 0.020513382630874502, 'negative_slope': 0.055238410897498764, 'dropout_rate': 0.12323344486727979}. Best is trial 0 with value: 0.3941131498470948.\n",
      "[I 2023-12-22 15:38:48,958] Trial 1 finished with value: 0.3830275229357798 and parameters: {'input_dim': 180, 'hidden_dim': 34, 'window_size': 8, 'b_size': 33, 'learning_rate': 0.8706020878304853, 'negative_slope': 0.2514083658321223, 'dropout_rate': 0.18493564427131048}. Best is trial 0 with value: 0.3941131498470948.\n",
      "[I 2023-12-22 15:39:09,039] Trial 2 finished with value: 0.39602446483180426 and parameters: {'input_dim': 77, 'hidden_dim': 17, 'window_size': 5, 'b_size': 82, 'learning_rate': 0.0730953983591291, 'negative_slope': 0.09445645065743215, 'dropout_rate': 0.34474115788895177}. Best is trial 2 with value: 0.39602446483180426.\n",
      "[I 2023-12-22 15:39:29,270] Trial 3 finished with value: 0.38914373088685017 and parameters: {'input_dim': 71, 'hidden_dim': 21, 'window_size': 5, 'b_size': 76, 'learning_rate': 0.3718364180573207, 'negative_slope': 0.06790539682592432, 'dropout_rate': 0.3056937753654446}. Best is trial 2 with value: 0.39602446483180426.\n",
      "[I 2023-12-22 15:39:53,837] Trial 4 finished with value: 0.36716360856269115 and parameters: {'input_dim': 139, 'hidden_dim': 11, 'window_size': 7, 'b_size': 48, 'learning_rate': 0.013492834268013254, 'negative_slope': 0.2851768058034666, 'dropout_rate': 0.4862528132298237}. Best is trial 2 with value: 0.39602446483180426.\n",
      "[I 2023-12-22 15:40:14,557] Trial 5 finished with value: 0.38990825688073394 and parameters: {'input_dim': 172, 'hidden_dim': 22, 'window_size': 3, 'b_size': 98, 'learning_rate': 0.07591104805282695, 'negative_slope': 0.045391088104985856, 'dropout_rate': 0.29807076404450805}. Best is trial 2 with value: 0.39602446483180426.\n",
      "[I 2023-12-22 15:40:34,242] Trial 6 finished with value: 0.40577217125382264 and parameters: {'input_dim': 55, 'hidden_dim': 47, 'window_size': 5, 'b_size': 96, 'learning_rate': 0.0420167205437253, 'negative_slope': 0.16081972614156514, 'dropout_rate': 0.31868411173731187}. Best is trial 6 with value: 0.40577217125382264.\n",
      "[I 2023-12-22 15:40:53,486] Trial 7 finished with value: 0.3853211009174312 and parameters: {'input_dim': 77, 'hidden_dim': 49, 'window_size': 9, 'b_size': 123, 'learning_rate': 0.6161049539380962, 'negative_slope': 0.18339099385521468, 'dropout_rate': 0.4687496940092467}. Best is trial 6 with value: 0.40577217125382264.\n",
      "[I 2023-12-22 15:41:15,292] Trial 8 finished with value: 0.38914373088685017 and parameters: {'input_dim': 63, 'hidden_dim': 18, 'window_size': 3, 'b_size': 63, 'learning_rate': 0.05989003672254302, 'negative_slope': 0.08869121921442981, 'dropout_rate': 0.43149500366077176}. Best is trial 6 with value: 0.40577217125382264.\n",
      "[I 2023-12-22 15:41:39,776] Trial 9 finished with value: 0.3826452599388379 and parameters: {'input_dim': 103, 'hidden_dim': 21, 'window_size': 7, 'b_size': 45, 'learning_rate': 0.40215545266902863, 'negative_slope': 0.03161968666713354, 'dropout_rate': 0.4947547746402069}. Best is trial 6 with value: 0.40577217125382264.\n",
      "[I 2023-12-22 15:41:59,721] Trial 10 finished with value: 0.3902905198776758 and parameters: {'input_dim': 127, 'hidden_dim': 38, 'window_size': 5, 'b_size': 116, 'learning_rate': 0.025489108174540396, 'negative_slope': 0.1592469023006462, 'dropout_rate': 0.24452479857672374}. Best is trial 6 with value: 0.40577217125382264.\n",
      "[I 2023-12-22 15:42:18,738] Trial 11 finished with value: 0.3956422018348624 and parameters: {'input_dim': 51, 'hidden_dim': 40, 'window_size': 5, 'b_size': 102, 'learning_rate': 0.1574843556253375, 'negative_slope': 0.11917328381404649, 'dropout_rate': 0.37255349472403276}. Best is trial 6 with value: 0.40577217125382264.\n",
      "[I 2023-12-22 15:42:39,744] Trial 12 finished with value: 0.39201070336391436 and parameters: {'input_dim': 90, 'hidden_dim': 30, 'window_size': 4, 'b_size': 77, 'learning_rate': 0.039402020511114126, 'negative_slope': 0.12197938978716842, 'dropout_rate': 0.37417379261573536}. Best is trial 6 with value: 0.40577217125382264.\n",
      "[I 2023-12-22 15:42:59,165] Trial 13 finished with value: 0.3872324159021407 and parameters: {'input_dim': 51, 'hidden_dim': 29, 'window_size': 6, 'b_size': 108, 'learning_rate': 0.11262313193542736, 'negative_slope': 0.19651507205494576, 'dropout_rate': 0.32126630574990483}. Best is trial 6 with value: 0.40577217125382264.\n",
      "[I 2023-12-22 15:43:20,470] Trial 14 finished with value: 0.3845565749235474 and parameters: {'input_dim': 148, 'hidden_dim': 10, 'window_size': 6, 'b_size': 85, 'learning_rate': 0.04308155059962879, 'negative_slope': 0.11186967999407033, 'dropout_rate': 0.2489341568285644}. Best is trial 6 with value: 0.40577217125382264.\n",
      "[I 2023-12-22 15:43:43,044] Trial 15 finished with value: 0.38321865443425074 and parameters: {'input_dim': 87, 'hidden_dim': 43, 'window_size': 4, 'b_size': 63, 'learning_rate': 0.010292173990777483, 'negative_slope': 0.14961956343492283, 'dropout_rate': 0.38702025634351855}. Best is trial 6 with value: 0.40577217125382264.\n",
      "[I 2023-12-22 15:44:05,052] Trial 16 finished with value: 0.38990825688073394 and parameters: {'input_dim': 107, 'hidden_dim': 26, 'window_size': 4, 'b_size': 68, 'learning_rate': 0.1442554065073416, 'negative_slope': 0.011703544609800207, 'dropout_rate': 0.33600871683115424}. Best is trial 6 with value: 0.40577217125382264.\n",
      "[I 2023-12-22 15:44:24,021] Trial 17 finished with value: 0.38474770642201833 and parameters: {'input_dim': 66, 'hidden_dim': 16, 'window_size': 10, 'b_size': 91, 'learning_rate': 0.07702910297259304, 'negative_slope': 0.09480408316874518, 'dropout_rate': 0.43111490378301637}. Best is trial 6 with value: 0.40577217125382264.\n",
      "[I 2023-12-22 15:44:44,129] Trial 18 finished with value: 0.3943042813455658 and parameters: {'input_dim': 88, 'hidden_dim': 44, 'window_size': 6, 'b_size': 109, 'learning_rate': 0.034148738412207925, 'negative_slope': 0.2140609996510292, 'dropout_rate': 0.26271206003292924}. Best is trial 6 with value: 0.40577217125382264.\n",
      "[I 2023-12-22 15:45:04,477] Trial 19 finished with value: 0.39392201834862384 and parameters: {'input_dim': 161, 'hidden_dim': 34, 'window_size': 5, 'b_size': 96, 'learning_rate': 0.059997760453506195, 'negative_slope': 0.14060048290833654, 'dropout_rate': 0.3509679306459871}. Best is trial 6 with value: 0.40577217125382264.\n",
      "[I 2023-12-22 15:45:23,887] Trial 20 finished with value: 0.386085626911315 and parameters: {'input_dim': 198, 'hidden_dim': 15, 'window_size': 4, 'b_size': 125, 'learning_rate': 0.021484679180774693, 'negative_slope': 0.07119622580162063, 'dropout_rate': 0.4060660844026041}. Best is trial 6 with value: 0.40577217125382264.\n",
      "[I 2023-12-22 15:45:43,265] Trial 21 finished with value: 0.39602446483180426 and parameters: {'input_dim': 52, 'hidden_dim': 41, 'window_size': 5, 'b_size': 103, 'learning_rate': 0.1581512286521428, 'negative_slope': 0.12004356303259253, 'dropout_rate': 0.35834017848019667}. Best is trial 6 with value: 0.40577217125382264.\n",
      "[I 2023-12-22 15:46:02,293] Trial 22 finished with value: 0.38990825688073394 and parameters: {'input_dim': 54, 'hidden_dim': 45, 'window_size': 5, 'b_size': 109, 'learning_rate': 0.19298826820903908, 'negative_slope': 0.09477205622312229, 'dropout_rate': 0.34679595427966753}. Best is trial 6 with value: 0.40577217125382264.\n",
      "[I 2023-12-22 15:46:22,621] Trial 23 finished with value: 0.3943042813455658 and parameters: {'input_dim': 76, 'hidden_dim': 38, 'window_size': 6, 'b_size': 83, 'learning_rate': 0.11108936014557426, 'negative_slope': 0.13725482685417528, 'dropout_rate': 0.2893303753671179}. Best is trial 6 with value: 0.40577217125382264.\n",
      "[I 2023-12-22 15:46:42,208] Trial 24 finished with value: 0.3878058103975535 and parameters: {'input_dim': 60, 'hidden_dim': 34, 'window_size': 3, 'b_size': 102, 'learning_rate': 0.2639938045780487, 'negative_slope': 0.16197332180494725, 'dropout_rate': 0.3378770111003914}. Best is trial 6 with value: 0.40577217125382264.\n",
      "[I 2023-12-22 15:47:02,131] Trial 25 finished with value: 0.38990825688073394 and parameters: {'input_dim': 80, 'hidden_dim': 49, 'window_size': 7, 'b_size': 91, 'learning_rate': 0.08913763636645204, 'negative_slope': 0.11570097346788388, 'dropout_rate': 0.40570772147725936}. Best is trial 6 with value: 0.40577217125382264.\n",
      "[I 2023-12-22 15:47:24,487] Trial 26 finished with value: 0.3908639143730887 and parameters: {'input_dim': 118, 'hidden_dim': 46, 'window_size': 4, 'b_size': 70, 'learning_rate': 0.053770479247002324, 'negative_slope': 0.17527258793262468, 'dropout_rate': 0.2796996070589694}. Best is trial 6 with value: 0.40577217125382264.\n",
      "[I 2023-12-22 15:47:42,820] Trial 27 finished with value: 0.38799694189602446 and parameters: {'input_dim': 65, 'hidden_dim': 41, 'window_size': 5, 'b_size': 118, 'learning_rate': 0.11351458491072668, 'negative_slope': 0.13286806606097717, 'dropout_rate': 0.3133688427162665}. Best is trial 6 with value: 0.40577217125382264.\n",
      "[I 2023-12-22 15:48:01,374] Trial 28 finished with value: 0.3912461773700306 and parameters: {'input_dim': 100, 'hidden_dim': 26, 'window_size': 6, 'b_size': 115, 'learning_rate': 0.20432361882530498, 'negative_slope': 0.10102079722335412, 'dropout_rate': 0.35108991637578263}. Best is trial 6 with value: 0.40577217125382264.\n",
      "[I 2023-12-22 15:48:21,494] Trial 29 finished with value: 0.393348623853211 and parameters: {'input_dim': 97, 'hidden_dim': 50, 'window_size': 7, 'b_size': 88, 'learning_rate': 0.029423954879957727, 'negative_slope': 0.0788791015094504, 'dropout_rate': 0.22066043027495436}. Best is trial 6 with value: 0.40577217125382264.\n",
      "[I 2023-12-22 15:48:42,054] Trial 30 finished with value: 0.3956422018348624 and parameters: {'input_dim': 119, 'hidden_dim': 36, 'window_size': 8, 'b_size': 95, 'learning_rate': 0.047507732244859185, 'negative_slope': 0.06645428469902084, 'dropout_rate': 0.1088017347852453}. Best is trial 6 with value: 0.40577217125382264.\n",
      "[I 2023-12-22 15:49:00,988] Trial 31 finished with value: 0.3943042813455658 and parameters: {'input_dim': 50, 'hidden_dim': 41, 'window_size': 5, 'b_size': 104, 'learning_rate': 0.15828136257215755, 'negative_slope': 0.12265012938144151, 'dropout_rate': 0.37465588034902464}. Best is trial 6 with value: 0.40577217125382264.\n",
      "[I 2023-12-22 15:49:20,972] Trial 32 finished with value: 0.39545107033639143 and parameters: {'input_dim': 59, 'hidden_dim': 47, 'window_size': 5, 'b_size': 102, 'learning_rate': 0.07602788881442384, 'negative_slope': 0.1060616654694493, 'dropout_rate': 0.3658586081202694}. Best is trial 6 with value: 0.40577217125382264.\n",
      "[I 2023-12-22 15:49:41,049] Trial 33 finished with value: 0.3889525993883792 and parameters: {'input_dim': 70, 'hidden_dim': 40, 'window_size': 4, 'b_size': 79, 'learning_rate': 0.14715782258135865, 'negative_slope': 0.1293547881632784, 'dropout_rate': 0.3162303457110284}. Best is trial 6 with value: 0.40577217125382264.\n",
      "[I 2023-12-22 15:50:00,768] Trial 34 finished with value: 0.39602446483180426 and parameters: {'input_dim': 51, 'hidden_dim': 43, 'window_size': 5, 'b_size': 98, 'learning_rate': 0.09545100162106548, 'negative_slope': 0.14882817010742588, 'dropout_rate': 0.3211891723393816}. Best is trial 6 with value: 0.40577217125382264.\n",
      "[I 2023-12-22 15:50:20,544] Trial 35 finished with value: 0.38398318042813456 and parameters: {'input_dim': 72, 'hidden_dim': 44, 'window_size': 6, 'b_size': 93, 'learning_rate': 0.06692146345929242, 'negative_slope': 0.1486142932783045, 'dropout_rate': 0.2939186882677918}. Best is trial 6 with value: 0.40577217125382264.\n",
      "[I 2023-12-22 15:50:41,208] Trial 36 finished with value: 0.38914373088685017 and parameters: {'input_dim': 83, 'hidden_dim': 13, 'window_size': 5, 'b_size': 73, 'learning_rate': 0.09751887339980964, 'negative_slope': 0.16489762285629198, 'dropout_rate': 0.3252368807472718}. Best is trial 6 with value: 0.40577217125382264.\n",
      "[I 2023-12-22 15:51:01,070] Trial 37 finished with value: 0.3937308868501529 and parameters: {'input_dim': 59, 'hidden_dim': 32, 'window_size': 3, 'b_size': 85, 'learning_rate': 0.04890781411968837, 'negative_slope': 0.19749404293886375, 'dropout_rate': 0.30285362922135234}. Best is trial 6 with value: 0.40577217125382264.\n",
      "[I 2023-12-22 15:51:24,401] Trial 38 finished with value: 0.3948776758409786 and parameters: {'input_dim': 71, 'hidden_dim': 48, 'window_size': 4, 'b_size': 54, 'learning_rate': 0.017904205896308416, 'negative_slope': 0.14642198789819155, 'dropout_rate': 0.16316109632055684}. Best is trial 6 with value: 0.40577217125382264.\n",
      "[I 2023-12-22 15:51:43,206] Trial 39 finished with value: 0.39067278287461776 and parameters: {'input_dim': 58, 'hidden_dim': 24, 'window_size': 8, 'b_size': 112, 'learning_rate': 0.03738129763270912, 'negative_slope': 0.08189559335628695, 'dropout_rate': 0.2798822222895726}. Best is trial 6 with value: 0.40577217125382264.\n",
      "[I 2023-12-22 15:52:02,224] Trial 40 finished with value: 0.3941131498470948 and parameters: {'input_dim': 66, 'hidden_dim': 42, 'window_size': 7, 'b_size': 96, 'learning_rate': 0.06766851237433694, 'negative_slope': 0.053067279748584564, 'dropout_rate': 0.32848537663988864}. Best is trial 6 with value: 0.40577217125382264.\n",
      "[I 2023-12-22 15:52:21,182] Trial 41 finished with value: 0.39621559633027525 and parameters: {'input_dim': 53, 'hidden_dim': 38, 'window_size': 5, 'b_size': 99, 'learning_rate': 0.09347888798119028, 'negative_slope': 0.11310806436700696, 'dropout_rate': 0.3604798600843503}. Best is trial 6 with value: 0.40577217125382264.\n",
      "[I 2023-12-22 15:52:40,731] Trial 42 finished with value: 0.38742354740061163 and parameters: {'input_dim': 50, 'hidden_dim': 38, 'window_size': 5, 'b_size': 99, 'learning_rate': 0.08581112764696013, 'negative_slope': 0.10583817513211935, 'dropout_rate': 0.3591904535177924}. Best is trial 6 with value: 0.40577217125382264.\n",
      "[I 2023-12-22 15:53:00,194] Trial 43 finished with value: 0.3964067278287462 and parameters: {'input_dim': 76, 'hidden_dim': 46, 'window_size': 6, 'b_size': 106, 'learning_rate': 0.05743226260399398, 'negative_slope': 0.13635801400267847, 'dropout_rate': 0.3072805175843469}. Best is trial 6 with value: 0.40577217125382264.\n",
      "[I 2023-12-22 15:53:18,651] Trial 44 finished with value: 0.3881880733944954 and parameters: {'input_dim': 73, 'hidden_dim': 46, 'window_size': 6, 'b_size': 119, 'learning_rate': 0.05705370762667906, 'negative_slope': 0.1306029478946209, 'dropout_rate': 0.30858778719996616}. Best is trial 6 with value: 0.40577217125382264.\n",
      "[I 2023-12-22 15:53:38,277] Trial 45 finished with value: 0.3889525993883792 and parameters: {'input_dim': 82, 'hidden_dim': 50, 'window_size': 6, 'b_size': 105, 'learning_rate': 0.04433653691536048, 'negative_slope': 0.090779713028014, 'dropout_rate': 0.3431423212692263}. Best is trial 6 with value: 0.40577217125382264.\n",
      "[I 2023-12-22 15:54:06,457] Trial 46 finished with value: 0.3841743119266055 and parameters: {'input_dim': 91, 'hidden_dim': 36, 'window_size': 5, 'b_size': 36, 'learning_rate': 0.07008223401561656, 'negative_slope': 0.11625128985558589, 'dropout_rate': 0.36580484146285225}. Best is trial 6 with value: 0.40577217125382264.\n",
      "[I 2023-12-22 15:54:26,464] Trial 47 finished with value: 0.3900993883792049 and parameters: {'input_dim': 109, 'hidden_dim': 20, 'window_size': 6, 'b_size': 87, 'learning_rate': 0.053510844023892744, 'negative_slope': 0.10697991152292483, 'dropout_rate': 0.38412082450898}. Best is trial 6 with value: 0.40577217125382264.\n",
      "[I 2023-12-22 15:54:45,635] Trial 48 finished with value: 0.3916284403669725 and parameters: {'input_dim': 138, 'hidden_dim': 39, 'window_size': 4, 'b_size': 128, 'learning_rate': 0.036300803490052325, 'negative_slope': 0.12833754422017152, 'dropout_rate': 0.3389986762536601}. Best is trial 6 with value: 0.40577217125382264.\n",
      "[I 2023-12-22 15:55:06,350] Trial 49 finished with value: 0.39392201834862384 and parameters: {'input_dim': 63, 'hidden_dim': 29, 'window_size': 4, 'b_size': 82, 'learning_rate': 0.12243099786707418, 'negative_slope': 0.15670370397093508, 'dropout_rate': 0.4000871173924508}. Best is trial 6 with value: 0.40577217125382264.\n",
      "[I 2023-12-22 15:55:25,350] Trial 50 finished with value: 0.39392201834862384 and parameters: {'input_dim': 57, 'hidden_dim': 47, 'window_size': 5, 'b_size': 112, 'learning_rate': 0.03044468855683701, 'negative_slope': 0.08539158081635749, 'dropout_rate': 0.3046407687945252}. Best is trial 6 with value: 0.40577217125382264.\n",
      "[I 2023-12-22 15:55:45,367] Trial 51 finished with value: 0.39793577981651373 and parameters: {'input_dim': 54, 'hidden_dim': 43, 'window_size': 5, 'b_size': 99, 'learning_rate': 0.09154130588094501, 'negative_slope': 0.1456543351491575, 'dropout_rate': 0.32411455119680166}. Best is trial 6 with value: 0.40577217125382264.\n",
      "[I 2023-12-22 15:56:04,020] Trial 52 finished with value: 0.3900993883792049 and parameters: {'input_dim': 67, 'hidden_dim': 44, 'window_size': 6, 'b_size': 105, 'learning_rate': 0.08247097142323245, 'negative_slope': 0.1387953868179314, 'dropout_rate': 0.32949526857064365}. Best is trial 6 with value: 0.40577217125382264.\n",
      "[I 2023-12-22 15:56:23,603] Trial 53 finished with value: 0.38685015290519875 and parameters: {'input_dim': 56, 'hidden_dim': 42, 'window_size': 5, 'b_size': 99, 'learning_rate': 0.06206245295216873, 'negative_slope': 0.12049789719292943, 'dropout_rate': 0.3547708919244786}. Best is trial 6 with value: 0.40577217125382264.\n",
      "[I 2023-12-22 15:56:43,350] Trial 54 finished with value: 0.3912461773700306 and parameters: {'input_dim': 76, 'hidden_dim': 36, 'window_size': 5, 'b_size': 91, 'learning_rate': 0.10123512070148263, 'negative_slope': 0.1645902532778556, 'dropout_rate': 0.3823120332165751}. Best is trial 6 with value: 0.40577217125382264.\n",
      "[I 2023-12-22 15:57:03,289] Trial 55 finished with value: 0.3973623853211009 and parameters: {'input_dim': 93, 'hidden_dim': 46, 'window_size': 7, 'b_size': 107, 'learning_rate': 0.12799859176048653, 'negative_slope': 0.09756279947093244, 'dropout_rate': 0.3620991635879164}. Best is trial 6 with value: 0.40577217125382264.\n",
      "[I 2023-12-22 15:57:23,453] Trial 56 finished with value: 0.3958333333333333 and parameters: {'input_dim': 93, 'hidden_dim': 46, 'window_size': 7, 'b_size': 107, 'learning_rate': 0.07124080750141269, 'negative_slope': 0.09546914274913623, 'dropout_rate': 0.33098472610018054}. Best is trial 6 with value: 0.40577217125382264.\n",
      "[I 2023-12-22 15:57:42,507] Trial 57 finished with value: 0.3927752293577982 and parameters: {'input_dim': 84, 'hidden_dim': 48, 'window_size': 7, 'b_size': 112, 'learning_rate': 0.12092259860503214, 'negative_slope': 0.13960087348233705, 'dropout_rate': 0.2964492360270932}. Best is trial 6 with value: 0.40577217125382264.\n",
      "[I 2023-12-22 15:58:02,982] Trial 58 finished with value: 0.3977446483180428 and parameters: {'input_dim': 79, 'hidden_dim': 45, 'window_size': 9, 'b_size': 94, 'learning_rate': 0.04314259249394138, 'negative_slope': 0.11062318813770738, 'dropout_rate': 0.34662497464297687}. Best is trial 6 with value: 0.40577217125382264.\n",
      "[I 2023-12-22 15:58:22,451] Trial 59 finished with value: 0.39812691131498473 and parameters: {'input_dim': 76, 'hidden_dim': 44, 'window_size': 10, 'b_size': 99, 'learning_rate': 0.04218389956621727, 'negative_slope': 0.10817441087294617, 'dropout_rate': 0.34280596588346984}. Best is trial 6 with value: 0.40577217125382264.\n",
      "[I 2023-12-22 15:58:41,184] Trial 60 finished with value: 0.3948776758409786 and parameters: {'input_dim': 96, 'hidden_dim': 45, 'window_size': 10, 'b_size': 109, 'learning_rate': 0.04142331080642771, 'negative_slope': 0.10351903082010078, 'dropout_rate': 0.3167933822916275}. Best is trial 6 with value: 0.40577217125382264.\n",
      "[I 2023-12-22 15:59:00,915] Trial 61 finished with value: 0.39048165137614677 and parameters: {'input_dim': 78, 'hidden_dim': 43, 'window_size': 9, 'b_size': 101, 'learning_rate': 0.05185546522349405, 'negative_slope': 0.12254114516225792, 'dropout_rate': 0.34197323152267406}. Best is trial 6 with value: 0.40577217125382264.\n",
      "[I 2023-12-22 15:59:21,664] Trial 62 finished with value: 0.3958333333333333 and parameters: {'input_dim': 63, 'hidden_dim': 45, 'window_size': 9, 'b_size': 93, 'learning_rate': 0.05961422231872383, 'negative_slope': 0.11404911619646421, 'dropout_rate': 0.35743260270500893}. Best is trial 6 with value: 0.40577217125382264.\n",
      "[I 2023-12-22 15:59:41,278] Trial 63 finished with value: 0.3881880733944954 and parameters: {'input_dim': 75, 'hidden_dim': 48, 'window_size': 9, 'b_size': 95, 'learning_rate': 0.040410367345582565, 'negative_slope': 0.09904734681179041, 'dropout_rate': 0.369649669067382}. Best is trial 6 with value: 0.40577217125382264.\n",
      "[I 2023-12-22 16:00:02,400] Trial 64 finished with value: 0.39621559633027525 and parameters: {'input_dim': 87, 'hidden_dim': 47, 'window_size': 10, 'b_size': 88, 'learning_rate': 0.03328526573254907, 'negative_slope': 0.1328808484301563, 'dropout_rate': 0.34312546621222706}. Best is trial 6 with value: 0.40577217125382264.\n",
      "[I 2023-12-22 16:00:22,110] Trial 65 finished with value: 0.38704128440366975 and parameters: {'input_dim': 104, 'hidden_dim': 50, 'window_size': 10, 'b_size': 100, 'learning_rate': 0.045212878622317196, 'negative_slope': 0.10973490396325017, 'dropout_rate': 0.28194704518626984}. Best is trial 6 with value: 0.40577217125382264.\n",
      "[I 2023-12-22 16:00:41,231] Trial 66 finished with value: 0.39143730886850153 and parameters: {'input_dim': 112, 'hidden_dim': 42, 'window_size': 8, 'b_size': 120, 'learning_rate': 0.08349770007655678, 'negative_slope': 0.1544930574447749, 'dropout_rate': 0.3913938687708442}. Best is trial 6 with value: 0.40577217125382264.\n",
      "[I 2023-12-22 16:01:00,140] Trial 67 finished with value: 0.38876146788990823 and parameters: {'input_dim': 69, 'hidden_dim': 40, 'window_size': 9, 'b_size': 107, 'learning_rate': 0.048471020873649656, 'negative_slope': 0.07437624033187362, 'dropout_rate': 0.312142805576639}. Best is trial 6 with value: 0.40577217125382264.\n",
      "[I 2023-12-22 16:01:21,426] Trial 68 finished with value: 0.39506880733944955 and parameters: {'input_dim': 184, 'hidden_dim': 44, 'window_size': 10, 'b_size': 113, 'learning_rate': 0.06161883704115612, 'negative_slope': 0.08911083790059998, 'dropout_rate': 0.32326641428075287}. Best is trial 6 with value: 0.40577217125382264.\n",
      "[I 2023-12-22 16:01:41,463] Trial 69 finished with value: 0.39105504587155965 and parameters: {'input_dim': 55, 'hidden_dim': 49, 'window_size': 8, 'b_size': 97, 'learning_rate': 0.026176977804540112, 'negative_slope': 0.17341511322114989, 'dropout_rate': 0.4134291748088519}. Best is trial 6 with value: 0.40577217125382264.\n",
      "[I 2023-12-22 16:02:01,361] Trial 70 finished with value: 0.3902905198776758 and parameters: {'input_dim': 62, 'hidden_dim': 45, 'window_size': 9, 'b_size': 116, 'learning_rate': 0.08221602505961033, 'negative_slope': 0.13927333232049394, 'dropout_rate': 0.3503777240388797}. Best is trial 6 with value: 0.40577217125382264.\n",
      "[I 2023-12-22 16:02:22,396] Trial 71 finished with value: 0.39812691131498473 and parameters: {'input_dim': 86, 'hidden_dim': 47, 'window_size': 10, 'b_size': 88, 'learning_rate': 0.031329654392908614, 'negative_slope': 0.13061089369460216, 'dropout_rate': 0.3395751682834479}. Best is trial 6 with value: 0.40577217125382264.\n",
      "[I 2023-12-22 16:02:42,953] Trial 72 finished with value: 0.3943042813455658 and parameters: {'input_dim': 83, 'hidden_dim': 46, 'window_size': 10, 'b_size': 93, 'learning_rate': 0.033347769982815224, 'negative_slope': 0.11511923155453457, 'dropout_rate': 0.33461145759745325}. Best is trial 6 with value: 0.40577217125382264.\n",
      "[I 2023-12-22 16:03:04,400] Trial 73 finished with value: 0.39048165137614677 and parameters: {'input_dim': 80, 'hidden_dim': 47, 'window_size': 10, 'b_size': 78, 'learning_rate': 0.02359363229514314, 'negative_slope': 0.14575265625880116, 'dropout_rate': 0.36681640770958984}. Best is trial 6 with value: 0.40577217125382264.\n",
      "[I 2023-12-22 16:03:25,668] Trial 74 finished with value: 0.39621559633027525 and parameters: {'input_dim': 95, 'hidden_dim': 43, 'window_size': 10, 'b_size': 90, 'learning_rate': 0.03741312482964636, 'negative_slope': 0.1264283875568924, 'dropout_rate': 0.30560041888684614}. Best is trial 6 with value: 0.40577217125382264.\n",
      "[I 2023-12-22 16:03:45,529] Trial 75 finished with value: 0.3983180428134557 and parameters: {'input_dim': 86, 'hidden_dim': 49, 'window_size': 9, 'b_size': 104, 'learning_rate': 0.052823340582367095, 'negative_slope': 0.10141862588469239, 'dropout_rate': 0.37740172273329425}. Best is trial 6 with value: 0.40577217125382264.\n",
      "[I 2023-12-22 16:04:04,716] Trial 76 finished with value: 0.39392201834862384 and parameters: {'input_dim': 101, 'hidden_dim': 49, 'window_size': 9, 'b_size': 105, 'learning_rate': 0.04188595829809645, 'negative_slope': 0.10210470544158078, 'dropout_rate': 0.3743580189466136}. Best is trial 6 with value: 0.40577217125382264.\n",
      "[I 2023-12-22 16:04:25,410] Trial 77 finished with value: 0.39239296636085624 and parameters: {'input_dim': 87, 'hidden_dim': 48, 'window_size': 8, 'b_size': 85, 'learning_rate': 0.05108707420494219, 'negative_slope': 0.09474166645161801, 'dropout_rate': 0.2911585015905183}. Best is trial 6 with value: 0.40577217125382264.\n",
      "[I 2023-12-22 16:04:45,794] Trial 78 finished with value: 0.38474770642201833 and parameters: {'input_dim': 88, 'hidden_dim': 50, 'window_size': 10, 'b_size': 110, 'learning_rate': 0.031429350112474636, 'negative_slope': 0.13339986346220833, 'dropout_rate': 0.3226380540954656}. Best is trial 6 with value: 0.40577217125382264.\n",
      "[I 2023-12-22 16:05:05,615] Trial 79 finished with value: 0.3916284403669725 and parameters: {'input_dim': 73, 'hidden_dim': 46, 'window_size': 9, 'b_size': 94, 'learning_rate': 0.04482207144676104, 'negative_slope': 0.06508115102365661, 'dropout_rate': 0.3487223808382468}. Best is trial 6 with value: 0.40577217125382264.\n",
      "[I 2023-12-22 16:05:25,129] Trial 80 finished with value: 0.3958333333333333 and parameters: {'input_dim': 98, 'hidden_dim': 44, 'window_size': 9, 'b_size': 102, 'learning_rate': 0.027772493417793847, 'negative_slope': 0.12461732672642387, 'dropout_rate': 0.33644013455651}. Best is trial 6 with value: 0.40577217125382264.\n",
      "[I 2023-12-22 16:05:46,678] Trial 81 finished with value: 0.3885703363914373 and parameters: {'input_dim': 91, 'hidden_dim': 47, 'window_size': 10, 'b_size': 97, 'learning_rate': 0.07371111065347938, 'negative_slope': 0.11724531011302049, 'dropout_rate': 0.3594385759418388}. Best is trial 6 with value: 0.40577217125382264.\n",
      "[I 2023-12-22 16:06:06,217] Trial 82 finished with value: 0.3973623853211009 and parameters: {'input_dim': 68, 'hidden_dim': 45, 'window_size': 7, 'b_size': 99, 'learning_rate': 0.05658201803401544, 'negative_slope': 0.11096325717981198, 'dropout_rate': 0.3750036043416974}. Best is trial 6 with value: 0.40577217125382264.\n",
      "[I 2023-12-22 16:06:25,268] Trial 83 finished with value: 0.39315749235474007 and parameters: {'input_dim': 68, 'hidden_dim': 49, 'window_size': 7, 'b_size': 103, 'learning_rate': 0.054043063543932526, 'negative_slope': 0.10752522478253827, 'dropout_rate': 0.3791719036537874}. Best is trial 6 with value: 0.40577217125382264.\n",
      "[I 2023-12-22 16:06:45,898] Trial 84 finished with value: 0.39239296636085624 and parameters: {'input_dim': 78, 'hidden_dim': 42, 'window_size': 8, 'b_size': 90, 'learning_rate': 0.03931766094183819, 'negative_slope': 0.08256217680366065, 'dropout_rate': 0.39622101900568113}. Best is trial 6 with value: 0.40577217125382264.\n",
      "[I 2023-12-22 16:07:05,018] Trial 85 finished with value: 0.38551223241590216 and parameters: {'input_dim': 71, 'hidden_dim': 45, 'window_size': 7, 'b_size': 106, 'learning_rate': 0.033792414791077745, 'negative_slope': 0.1532122990201473, 'dropout_rate': 0.37412599252009027}. Best is trial 6 with value: 0.40577217125382264.\n",
      "[I 2023-12-22 16:07:25,746] Trial 86 finished with value: 0.39659785932721714 and parameters: {'input_dim': 61, 'hidden_dim': 48, 'window_size': 6, 'b_size': 81, 'learning_rate': 0.06488850342176235, 'negative_slope': 0.1427276150806156, 'dropout_rate': 0.3496638775610194}. Best is trial 6 with value: 0.40577217125382264.\n",
      "[I 2023-12-22 16:07:47,177] Trial 87 finished with value: 0.3967889908256881 and parameters: {'input_dim': 132, 'hidden_dim': 49, 'window_size': 7, 'b_size': 75, 'learning_rate': 0.06517446172409681, 'negative_slope': 0.08943863720412899, 'dropout_rate': 0.3874850547090332}. Best is trial 6 with value: 0.40577217125382264.\n",
      "[I 2023-12-22 16:08:10,560] Trial 88 finished with value: 0.38685015290519875 and parameters: {'input_dim': 122, 'hidden_dim': 49, 'window_size': 7, 'b_size': 64, 'learning_rate': 0.047946418612358814, 'negative_slope': 0.09474714310797124, 'dropout_rate': 0.38755625343860595}. Best is trial 6 with value: 0.40577217125382264.\n",
      "[I 2023-12-22 16:08:32,361] Trial 89 finished with value: 0.393348623853211 and parameters: {'input_dim': 141, 'hidden_dim': 44, 'window_size': 7, 'b_size': 74, 'learning_rate': 0.06700129596521052, 'negative_slope': 0.08962429773525953, 'dropout_rate': 0.38281563798158286}. Best is trial 6 with value: 0.40577217125382264.\n",
      "[I 2023-12-22 16:08:55,239] Trial 90 finished with value: 0.3885703363914373 and parameters: {'input_dim': 125, 'hidden_dim': 47, 'window_size': 8, 'b_size': 70, 'learning_rate': 0.03686526286340271, 'negative_slope': 0.10974306599595991, 'dropout_rate': 0.4168607074324798}. Best is trial 6 with value: 0.40577217125382264.\n",
      "[I 2023-12-22 16:09:16,271] Trial 91 finished with value: 0.39468654434250766 and parameters: {'input_dim': 62, 'hidden_dim': 48, 'window_size': 7, 'b_size': 82, 'learning_rate': 0.06479254038453656, 'negative_slope': 0.10026413920229472, 'dropout_rate': 0.3488954107415052}. Best is trial 6 with value: 0.40577217125382264.\n",
      "[I 2023-12-22 16:09:37,953] Trial 92 finished with value: 0.3872324159021407 and parameters: {'input_dim': 130, 'hidden_dim': 50, 'window_size': 6, 'b_size': 81, 'learning_rate': 0.05640614232768981, 'negative_slope': 0.07864470596326756, 'dropout_rate': 0.3637553508958141}. Best is trial 6 with value: 0.40577217125382264.\n",
      "[I 2023-12-22 16:09:58,675] Trial 93 finished with value: 0.39870030581039756 and parameters: {'input_dim': 129, 'hidden_dim': 45, 'window_size': 8, 'b_size': 85, 'learning_rate': 0.07807934823107504, 'negative_slope': 0.14530532866684936, 'dropout_rate': 0.3340552924749669}. Best is trial 6 with value: 0.40577217125382264.\n",
      "[I 2023-12-22 16:10:19,488] Trial 94 finished with value: 0.3929663608562691 and parameters: {'input_dim': 131, 'hidden_dim': 43, 'window_size': 8, 'b_size': 85, 'learning_rate': 0.045876375936918255, 'negative_slope': 0.12554719272293477, 'dropout_rate': 0.33525492447088395}. Best is trial 6 with value: 0.40577217125382264.\n",
      "[I 2023-12-22 16:10:41,160] Trial 95 finished with value: 0.3922018348623853 and parameters: {'input_dim': 151, 'hidden_dim': 41, 'window_size': 8, 'b_size': 88, 'learning_rate': 0.07569072936320284, 'negative_slope': 0.1195708663791113, 'dropout_rate': 0.32668716273515597}. Best is trial 6 with value: 0.40577217125382264.\n",
      "[I 2023-12-22 16:11:03,332] Trial 96 finished with value: 0.39353975535168195 and parameters: {'input_dim': 127, 'hidden_dim': 45, 'window_size': 9, 'b_size': 100, 'learning_rate': 0.09683477168895539, 'negative_slope': 0.1497748341727922, 'dropout_rate': 0.3702299833898358}. Best is trial 6 with value: 0.40577217125382264.\n",
      "[I 2023-12-22 16:11:25,184] Trial 97 finished with value: 0.39201070336391436 and parameters: {'input_dim': 138, 'hidden_dim': 46, 'window_size': 7, 'b_size': 76, 'learning_rate': 0.05123323328668742, 'negative_slope': 0.13155802501612834, 'dropout_rate': 0.35869846792540094}. Best is trial 6 with value: 0.40577217125382264.\n",
      "[I 2023-12-22 16:11:47,434] Trial 98 finished with value: 0.39239296636085624 and parameters: {'input_dim': 155, 'hidden_dim': 47, 'window_size': 8, 'b_size': 92, 'learning_rate': 0.05783368985797319, 'negative_slope': 0.11039945581991081, 'dropout_rate': 0.3195779917247699}. Best is trial 6 with value: 0.40577217125382264.\n",
      "[I 2023-12-22 16:12:08,051] Trial 99 finished with value: 0.3944954128440367 and parameters: {'input_dim': 112, 'hidden_dim': 45, 'window_size': 9, 'b_size': 96, 'learning_rate': 0.07687987107740596, 'negative_slope': 0.08718537405449306, 'dropout_rate': 0.3945069345273565}. Best is trial 6 with value: 0.40577217125382264.\n"
     ]
    },
    {
     "name": "stdout",
     "output_type": "stream",
     "text": [
      "Best Hyperparameters: {'input_dim': 55, 'hidden_dim': 47, 'window_size': 5, 'b_size': 96, 'learning_rate': 0.0420167205437253, 'negative_slope': 0.16081972614156514, 'dropout_rate': 0.31868411173731187}\n",
      "Best Accuracy: 0.40577217125382264\n"
     ]
    }
   ],
   "source": [
    "import optuna\n",
    "import torch\n",
    "import torch.nn as nn\n",
    "import torch.optim as optim\n",
    "from torch.utils.data import Dataset, DataLoader\n",
    "import pandas as pd\n",
    "import numpy as np\n",
    "from sklearn.metrics import accuracy_score\n",
    "from nltk.tokenize import word_tokenize\n",
    "from gensim.models import Word2Vec\n",
    "import multiprocessing\n",
    "from collections.abc import Mapping\n",
    "from torch.nn import functional as F\n",
    "num_cores = multiprocessing.cpu_count()\n",
    "n_epochs=11\n",
    "criterion=nn.MultiMarginLoss()\n",
    "\n",
    "\n",
    "class Data(Dataset):\n",
    "    def __init__(self, x, y, input_dim):\n",
    "        self.x = torch.from_numpy(x).float()\n",
    "        self.y = torch.from_numpy(y)\n",
    "        self.len = self.x.shape[0]\n",
    "        self.input_dim = input_dim\n",
    "\n",
    "    def __getitem__(self, index):\n",
    "        return self.x[index, :self.input_dim], self.y[index]\n",
    "\n",
    "    def __len__(self):\n",
    "        return self.len\n",
    "\n",
    "class Net(nn.Module):\n",
    "    def __init__(self, D_in, H, D_out, negative_slope=0.01, dropout_rate=0.5):\n",
    "        super(Net, self).__init__()\n",
    "        self.linear1 = nn.Linear(D_in, H)\n",
    "        self.bn1 = nn.BatchNorm1d(H)\n",
    "        self.dropout = nn.Dropout(dropout_rate)\n",
    "        self.linear2 = nn.Linear(H, H // 2)  # Additional layer\n",
    "        self.bn2 = nn.BatchNorm1d(H // 2)\n",
    "        self.linear3 = nn.Linear(H // 2, D_out)\n",
    "        self.negative_slope = negative_slope\n",
    "\n",
    "    def forward(self, x):\n",
    "        x = F.leaky_relu(self.bn1(self.linear1(x)), negative_slope=self.negative_slope)\n",
    "        x = self.dropout(x)\n",
    "        x = F.leaky_relu(self.bn2(self.linear2(x)), negative_slope=self.negative_slope)\n",
    "        x = self.linear3(x)\n",
    "        x = F.softmax(x, dim=1)\n",
    "        return x\n",
    "    \n",
    "def objective(trial):\n",
    "    input_dim = trial.suggest_int('input_dim', 50, 200)\n",
    "    hidden_dim = trial.suggest_int('hidden_dim', 10, 50)\n",
    "    window_size = trial.suggest_int('window_size', 3, 10)\n",
    "    b_size = trial.suggest_int('b_size', 32, 128)\n",
    "    learning_rate = trial.suggest_float('learning_rate', 1e-2, 1, log=True)\n",
    "    negative_slope = trial.suggest_float('negative_slope', 0.01, 0.3)\n",
    "    dropout_rate = trial.suggest_float('dropout_rate', 0.1, 0.5)\n",
    "    model = Net(input_dim, hidden_dim, output_dim, negative_slope=negative_slope, dropout_rate=dropout_rate)\n",
    "    optimizer=torch.optim.SGD(model.parameters(), lr=learning_rate)\n",
    "    # Choose optimizer\n",
    "    \n",
    "    \n",
    "\n",
    "    word2vec_model = Word2Vec(sentences=data['tokenized_text'].tolist(), vector_size=input_dim, window=window_size, min_count=1, workers=num_cores)\n",
    "    \n",
    "    data['mean_embedding'] = data['tokenized_text'].apply(lambda tokens: np.mean([word2vec_model.wv[word] for word in tokens if word in word2vec_model.wv], axis=0))\n",
    "    valid['mean_embedding'] = valid['tokenized_text'].apply(lambda tokens: np.mean([word2vec_model.wv[word] for word in tokens if word in word2vec_model.wv], axis=0))\n",
    "    x_train = data['mean_embedding']\n",
    "    x_val = valid['mean_embedding']\n",
    "    y_val = valid['Sentiment']\n",
    "    y_train = data['Sentiment']\n",
    "    \n",
    "    x_train = np.vstack(x_train).astype(np.float32)\n",
    "    x_val = np.vstack(x_val).astype(np.float32)\n",
    "    \n",
    "    \n",
    "    y_val = y_val.values\n",
    "    y_train = y_train.values\n",
    "    \n",
    "\n",
    "    data_set = Data(x_train, y_train, input_dim)\n",
    "    trainloader = DataLoader(dataset=data_set, batch_size=b_size, shuffle=True)\n",
    "   \n",
    "    loss_list = []\n",
    "\n",
    "    for epoch in range(n_epochs):\n",
    "        for x, y in trainloader:\n",
    "            optimizer.zero_grad()\n",
    "            z = model.forward(x)\n",
    "            loss = criterion(z, y)\n",
    "            loss.backward()\n",
    "            optimizer.step()\n",
    "            \n",
    "            loss_list.append(loss.item())\n",
    "\n",
    "    x_val_tensor = torch.from_numpy(x_val)\n",
    "    z_val = model.forward(x_val_tensor)\n",
    "    max_indexes = torch.argmax(z_val, dim=1)\n",
    "    y_pred = max_indexes.numpy()\n",
    "\n",
    "    accuracy = accuracy_score(y_val, y_pred)\n",
    "    return accuracy\n",
    "\n",
    "# Set up Optuna study\n",
    "study = optuna.create_study(direction='maximize',sampler=optuna.samplers.TPESampler(seed=42))\n",
    "study.optimize(objective, n_trials=100)\n",
    "\n",
    "# Get the best parameters\n",
    "best_params = study.best_params\n",
    "best_accuracy = study.best_value\n",
    "\n",
    "print(\"Best Hyperparameters:\", best_params)\n",
    "print(\"Best Accuracy:\", best_accuracy)"
   ]
  },
  {
   "cell_type": "markdown",
   "id": "a33cf184",
   "metadata": {
    "papermill": {
     "duration": 0.106794,
     "end_time": "2023-12-22T16:12:08.380610",
     "exception": false,
     "start_time": "2023-12-22T16:12:08.273816",
     "status": "completed"
    },
    "tags": []
   },
   "source": [
    "I really tried with more hidden layers, results are bad, im out"
   ]
  },
  {
   "cell_type": "markdown",
   "id": "8d081c38",
   "metadata": {
    "papermill": {
     "duration": 0.107262,
     "end_time": "2023-12-22T16:12:08.687679",
     "exception": false,
     "start_time": "2023-12-22T16:12:08.580417",
     "status": "completed"
    },
    "tags": []
   },
   "source": [
    "Try also using drop out with just 1 hidden layer"
   ]
  },
  {
   "cell_type": "code",
   "execution_count": 45,
   "id": "d16cdb0f",
   "metadata": {
    "execution": {
     "iopub.execute_input": "2023-12-22T16:12:08.902341Z",
     "iopub.status.busy": "2023-12-22T16:12:08.901920Z",
     "iopub.status.idle": "2023-12-22T16:28:51.665673Z",
     "shell.execute_reply": "2023-12-22T16:28:51.664922Z"
    },
    "papermill": {
     "duration": 1002.985682,
     "end_time": "2023-12-22T16:28:51.779901",
     "exception": false,
     "start_time": "2023-12-22T16:12:08.794219",
     "status": "completed"
    },
    "tags": []
   },
   "outputs": [
    {
     "name": "stderr",
     "output_type": "stream",
     "text": [
      "[I 2023-12-22 16:12:08,927] A new study created in memory with name: no-name-c52db079-945d-4516-bdf1-f94e50f07519\n",
      "[I 2023-12-22 16:12:27,669] Trial 0 finished with value: 0.39717125382262997 and parameters: {'input_dim': 106, 'hidden_dim': 48, 'window_size': 8, 'b_size': 90, 'learning_rate': 0.020513382630874502, 'negative_slope': 0.055238410897498764, 'dropout_rate': 0.12323344486727979}. Best is trial 0 with value: 0.39717125382262997.\n",
      "[I 2023-12-22 16:12:54,296] Trial 1 finished with value: 0.3881880733944954 and parameters: {'input_dim': 180, 'hidden_dim': 34, 'window_size': 8, 'b_size': 33, 'learning_rate': 0.8706020878304853, 'negative_slope': 0.2514083658321223, 'dropout_rate': 0.18493564427131048}. Best is trial 0 with value: 0.39717125382262997.\n",
      "[I 2023-12-22 16:13:13,332] Trial 2 finished with value: 0.3937308868501529 and parameters: {'input_dim': 77, 'hidden_dim': 17, 'window_size': 5, 'b_size': 82, 'learning_rate': 0.0730953983591291, 'negative_slope': 0.09445645065743215, 'dropout_rate': 0.34474115788895177}. Best is trial 0 with value: 0.39717125382262997.\n",
      "[I 2023-12-22 16:13:31,696] Trial 3 finished with value: 0.3977446483180428 and parameters: {'input_dim': 71, 'hidden_dim': 21, 'window_size': 5, 'b_size': 76, 'learning_rate': 0.3718364180573207, 'negative_slope': 0.06790539682592432, 'dropout_rate': 0.3056937753654446}. Best is trial 3 with value: 0.3977446483180428.\n",
      "[I 2023-12-22 16:13:53,900] Trial 4 finished with value: 0.3929663608562691 and parameters: {'input_dim': 139, 'hidden_dim': 11, 'window_size': 7, 'b_size': 48, 'learning_rate': 0.013492834268013254, 'negative_slope': 0.2851768058034666, 'dropout_rate': 0.4862528132298237}. Best is trial 3 with value: 0.3977446483180428.\n",
      "[I 2023-12-22 16:14:13,367] Trial 5 finished with value: 0.39659785932721714 and parameters: {'input_dim': 172, 'hidden_dim': 22, 'window_size': 3, 'b_size': 98, 'learning_rate': 0.07591104805282695, 'negative_slope': 0.045391088104985856, 'dropout_rate': 0.29807076404450805}. Best is trial 3 with value: 0.3977446483180428.\n",
      "[I 2023-12-22 16:14:31,496] Trial 6 finished with value: 0.3941131498470948 and parameters: {'input_dim': 55, 'hidden_dim': 47, 'window_size': 5, 'b_size': 96, 'learning_rate': 0.0420167205437253, 'negative_slope': 0.16081972614156514, 'dropout_rate': 0.31868411173731187}. Best is trial 3 with value: 0.3977446483180428.\n",
      "[I 2023-12-22 16:14:49,573] Trial 7 finished with value: 0.3857033639143731 and parameters: {'input_dim': 77, 'hidden_dim': 49, 'window_size': 9, 'b_size': 123, 'learning_rate': 0.6161049539380962, 'negative_slope': 0.18339099385521468, 'dropout_rate': 0.4687496940092467}. Best is trial 3 with value: 0.3977446483180428.\n",
      "[I 2023-12-22 16:15:09,521] Trial 8 finished with value: 0.38990825688073394 and parameters: {'input_dim': 63, 'hidden_dim': 18, 'window_size': 3, 'b_size': 63, 'learning_rate': 0.05989003672254302, 'negative_slope': 0.08869121921442981, 'dropout_rate': 0.43149500366077176}. Best is trial 3 with value: 0.3977446483180428.\n",
      "[I 2023-12-22 16:15:31,958] Trial 9 finished with value: 0.3809250764525994 and parameters: {'input_dim': 103, 'hidden_dim': 21, 'window_size': 7, 'b_size': 45, 'learning_rate': 0.40215545266902863, 'negative_slope': 0.03161968666713354, 'dropout_rate': 0.4947547746402069}. Best is trial 3 with value: 0.3977446483180428.\n",
      "[I 2023-12-22 16:15:50,748] Trial 10 finished with value: 0.39984709480122327 and parameters: {'input_dim': 127, 'hidden_dim': 32, 'window_size': 5, 'b_size': 116, 'learning_rate': 0.22281487465952846, 'negative_slope': 0.12028495847302506, 'dropout_rate': 0.23725841938493994}. Best is trial 10 with value: 0.39984709480122327.\n",
      "[I 2023-12-22 16:16:08,857] Trial 11 finished with value: 0.39602446483180426 and parameters: {'input_dim': 144, 'hidden_dim': 32, 'window_size': 5, 'b_size': 128, 'learning_rate': 0.24629072923500495, 'negative_slope': 0.11809845684219761, 'dropout_rate': 0.23966249844171403}. Best is trial 10 with value: 0.39984709480122327.\n",
      "[I 2023-12-22 16:16:27,439] Trial 12 finished with value: 0.39105504587155965 and parameters: {'input_dim': 121, 'hidden_dim': 38, 'window_size': 4, 'b_size': 109, 'learning_rate': 0.1872842287572408, 'negative_slope': 0.015572945735357904, 'dropout_rate': 0.23979459064228567}. Best is trial 10 with value: 0.39984709480122327.\n",
      "[I 2023-12-22 16:16:48,758] Trial 13 finished with value: 0.39946483180428133 and parameters: {'input_dim': 155, 'hidden_dim': 26, 'window_size': 6, 'b_size': 68, 'learning_rate': 0.15363788512374973, 'negative_slope': 0.1253276044480452, 'dropout_rate': 0.3695456595762009}. Best is trial 10 with value: 0.39984709480122327.\n",
      "[I 2023-12-22 16:17:09,824] Trial 14 finished with value: 0.38685015290519875 and parameters: {'input_dim': 196, 'hidden_dim': 27, 'window_size': 6, 'b_size': 69, 'learning_rate': 0.14670817273054057, 'negative_slope': 0.1323237160210561, 'dropout_rate': 0.38067962835917035}. Best is trial 10 with value: 0.39984709480122327.\n",
      "[I 2023-12-22 16:17:29,399] Trial 15 finished with value: 0.39258409785932724 and parameters: {'input_dim': 153, 'hidden_dim': 39, 'window_size': 10, 'b_size': 112, 'learning_rate': 0.12097221517186883, 'negative_slope': 0.19301445962629987, 'dropout_rate': 0.40064536992631566}. Best is trial 10 with value: 0.39984709480122327.\n",
      "[I 2023-12-22 16:17:51,327] Trial 16 finished with value: 0.39048165137614677 and parameters: {'input_dim': 162, 'hidden_dim': 27, 'window_size': 6, 'b_size': 56, 'learning_rate': 0.2349225910294844, 'negative_slope': 0.13183883709807878, 'dropout_rate': 0.36500683939344003}. Best is trial 10 with value: 0.39984709480122327.\n",
      "[I 2023-12-22 16:18:11,501] Trial 17 finished with value: 0.39258409785932724 and parameters: {'input_dim': 120, 'hidden_dim': 41, 'window_size': 4, 'b_size': 81, 'learning_rate': 0.1257354120439726, 'negative_slope': 0.08916670465793095, 'dropout_rate': 0.2668058939692798}. Best is trial 10 with value: 0.39984709480122327.\n",
      "[I 2023-12-22 16:18:29,340] Trial 18 finished with value: 0.39143730886850153 and parameters: {'input_dim': 96, 'hidden_dim': 28, 'window_size': 6, 'b_size': 115, 'learning_rate': 0.3420361393331352, 'negative_slope': 0.16462383546979834, 'dropout_rate': 0.4116892727837296}. Best is trial 10 with value: 0.39984709480122327.\n",
      "[I 2023-12-22 16:18:48,082] Trial 19 finished with value: 0.3941131498470948 and parameters: {'input_dim': 136, 'hidden_dim': 34, 'window_size': 4, 'b_size': 100, 'learning_rate': 0.17904319826816592, 'negative_slope': 0.20950285637099714, 'dropout_rate': 0.3509679306459871}. Best is trial 10 with value: 0.39984709480122327.\n",
      "[I 2023-12-22 16:19:09,368] Trial 20 finished with value: 0.3943042813455658 and parameters: {'input_dim': 200, 'hidden_dim': 42, 'window_size': 8, 'b_size': 70, 'learning_rate': 0.04135993655558232, 'negative_slope': 0.11981987486076444, 'dropout_rate': 0.19790021357715387}. Best is trial 10 with value: 0.39984709480122327.\n",
      "[I 2023-12-22 16:19:30,087] Trial 21 finished with value: 0.39353975535168195 and parameters: {'input_dim': 125, 'hidden_dim': 22, 'window_size': 5, 'b_size': 72, 'learning_rate': 0.39354617969913136, 'negative_slope': 0.06695604511087962, 'dropout_rate': 0.28149677391804806}. Best is trial 10 with value: 0.39984709480122327.\n",
      "[I 2023-12-22 16:19:49,010] Trial 22 finished with value: 0.39048165137614677 and parameters: {'input_dim': 89, 'hidden_dim': 13, 'window_size': 6, 'b_size': 88, 'learning_rate': 0.29199700411335355, 'negative_slope': 0.07666643278714064, 'dropout_rate': 0.32648129836206424}. Best is trial 10 with value: 0.39984709480122327.\n",
      "[I 2023-12-22 16:20:09,653] Trial 23 finished with value: 0.3977446483180428 and parameters: {'input_dim': 112, 'hidden_dim': 26, 'window_size': 4, 'b_size': 61, 'learning_rate': 0.5171184670689333, 'negative_slope': 0.10326631627115856, 'dropout_rate': 0.3120767541881511}. Best is trial 10 with value: 0.39984709480122327.\n",
      "[I 2023-12-22 16:20:30,418] Trial 24 finished with value: 0.3983180428134557 and parameters: {'input_dim': 158, 'hidden_dim': 30, 'window_size': 5, 'b_size': 77, 'learning_rate': 0.22563789517822525, 'negative_slope': 0.14134964077733883, 'dropout_rate': 0.34095930412340186}. Best is trial 10 with value: 0.39984709480122327.\n",
      "[I 2023-12-22 16:20:53,178] Trial 25 finished with value: 0.39717125382262997 and parameters: {'input_dim': 160, 'hidden_dim': 31, 'window_size': 7, 'b_size': 51, 'learning_rate': 0.1766699439426065, 'negative_slope': 0.13884078905789363, 'dropout_rate': 0.37075779299655287}. Best is trial 10 with value: 0.39984709480122327.\n",
      "[I 2023-12-22 16:21:13,863] Trial 26 finished with value: 0.39143730886850153 and parameters: {'input_dim': 186, 'hidden_dim': 34, 'window_size': 6, 'b_size': 89, 'learning_rate': 0.11493397943954314, 'negative_slope': 0.14819339299114323, 'dropout_rate': 0.346118495168492}. Best is trial 10 with value: 0.39984709480122327.\n",
      "[I 2023-12-22 16:21:32,801] Trial 27 finished with value: 0.39105504587155965 and parameters: {'input_dim': 149, 'hidden_dim': 24, 'window_size': 4, 'b_size': 105, 'learning_rate': 0.2702395040432948, 'negative_slope': 0.1558964252451396, 'dropout_rate': 0.4437884106748379}. Best is trial 10 with value: 0.39984709480122327.\n",
      "[I 2023-12-22 16:21:53,984] Trial 28 finished with value: 0.39143730886850153 and parameters: {'input_dim': 132, 'hidden_dim': 37, 'window_size': 5, 'b_size': 63, 'learning_rate': 0.2104329476914224, 'negative_slope': 0.10668364341631031, 'dropout_rate': 0.3960846315456656}. Best is trial 10 with value: 0.39984709480122327.\n",
      "[I 2023-12-22 16:22:14,657] Trial 29 finished with value: 0.3902905198776758 and parameters: {'input_dim': 169, 'hidden_dim': 45, 'window_size': 7, 'b_size': 81, 'learning_rate': 0.09551979348311994, 'negative_slope': 0.11545219769565969, 'dropout_rate': 0.3307641803275783}. Best is trial 10 with value: 0.39984709480122327.\n",
      "[I 2023-12-22 16:22:40,468] Trial 30 finished with value: 0.3952599388379205 and parameters: {'input_dim': 158, 'hidden_dim': 29, 'window_size': 3, 'b_size': 35, 'learning_rate': 0.15297437866100547, 'negative_slope': 0.052526418523793944, 'dropout_rate': 0.1088017347852453}. Best is trial 10 with value: 0.39984709480122327.\n",
      "[I 2023-12-22 16:23:00,129] Trial 31 finished with value: 0.3944954128440367 and parameters: {'input_dim': 115, 'hidden_dim': 18, 'window_size': 5, 'b_size': 75, 'learning_rate': 0.34048342544110705, 'negative_slope': 0.07472265347397156, 'dropout_rate': 0.28112833597578446}. Best is trial 10 with value: 0.39984709480122327.\n",
      "[I 2023-12-22 16:23:19,677] Trial 32 finished with value: 0.38589449541284404 and parameters: {'input_dim': 129, 'hidden_dim': 24, 'window_size': 5, 'b_size': 76, 'learning_rate': 0.9002691186166594, 'negative_slope': 0.06475675449926076, 'dropout_rate': 0.3118676310190765}. Best is trial 10 with value: 0.39984709480122327.\n",
      "[I 2023-12-22 16:23:40,321] Trial 33 finished with value: 0.3977446483180428 and parameters: {'input_dim': 182, 'hidden_dim': 30, 'window_size': 6, 'b_size': 88, 'learning_rate': 0.5070455552136922, 'negative_slope': 0.09717871895144635, 'dropout_rate': 0.1427551274106433}. Best is trial 10 with value: 0.39984709480122327.\n",
      "[I 2023-12-22 16:24:00,669] Trial 34 finished with value: 0.39392201834862384 and parameters: {'input_dim': 144, 'hidden_dim': 14, 'window_size': 5, 'b_size': 85, 'learning_rate': 0.27974225367118527, 'negative_slope': 0.13010586292194248, 'dropout_rate': 0.35219427585710816}. Best is trial 10 with value: 0.39984709480122327.\n",
      "[I 2023-12-22 16:24:20,198] Trial 35 finished with value: 0.39908256880733944 and parameters: {'input_dim': 86, 'hidden_dim': 20, 'window_size': 8, 'b_size': 95, 'learning_rate': 0.22082938049191592, 'negative_slope': 0.08123192479820895, 'dropout_rate': 0.37764883889186174}. Best is trial 10 with value: 0.39984709480122327.\n",
      "[I 2023-12-22 16:24:40,130] Trial 36 finished with value: 0.38589449541284404 and parameters: {'input_dim': 175, 'hidden_dim': 24, 'window_size': 8, 'b_size': 95, 'learning_rate': 0.20942189659059857, 'negative_slope': 0.11296134445878088, 'dropout_rate': 0.3797904414809797}. Best is trial 10 with value: 0.39984709480122327.\n",
      "[I 2023-12-22 16:24:58,492] Trial 37 finished with value: 0.3948776758409786 and parameters: {'input_dim': 85, 'hidden_dim': 32, 'window_size': 9, 'b_size': 117, 'learning_rate': 0.15612889727489895, 'negative_slope': 0.1492021192816726, 'dropout_rate': 0.33330577512680887}. Best is trial 10 with value: 0.39984709480122327.\n",
      "[I 2023-12-22 16:25:17,008] Trial 38 finished with value: 0.3918195718654434 and parameters: {'input_dim': 106, 'hidden_dim': 34, 'window_size': 9, 'b_size': 103, 'learning_rate': 0.09346835425312003, 'negative_slope': 0.09142294783408156, 'dropout_rate': 0.4146587539995068}. Best is trial 10 with value: 0.39984709480122327.\n",
      "[I 2023-12-22 16:25:36,402] Trial 39 finished with value: 0.39545107033639143 and parameters: {'input_dim': 141, 'hidden_dim': 16, 'window_size': 7, 'b_size': 96, 'learning_rate': 0.7081887999200552, 'negative_slope': 0.17546996376394056, 'dropout_rate': 0.38504383901646}. Best is trial 10 with value: 0.39984709480122327.\n",
      "[I 2023-12-22 16:25:56,956] Trial 40 finished with value: 0.3889525993883792 and parameters: {'input_dim': 169, 'hidden_dim': 20, 'window_size': 8, 'b_size': 92, 'learning_rate': 0.23098105067579586, 'negative_slope': 0.08200699862745323, 'dropout_rate': 0.3652561720552401}. Best is trial 10 with value: 0.39984709480122327.\n",
      "[I 2023-12-22 16:26:15,884] Trial 41 finished with value: 0.39315749235474007 and parameters: {'input_dim': 73, 'hidden_dim': 20, 'window_size': 5, 'b_size': 77, 'learning_rate': 0.32258474162878903, 'negative_slope': 0.04673467963574464, 'dropout_rate': 0.3209610322204016}. Best is trial 10 with value: 0.39984709480122327.\n",
      "[I 2023-12-22 16:26:35,837] Trial 42 finished with value: 0.3929663608562691 and parameters: {'input_dim': 56, 'hidden_dim': 26, 'window_size': 6, 'b_size': 66, 'learning_rate': 0.4520414356848488, 'negative_slope': 0.09841562271155394, 'dropout_rate': 0.3008988047483208}. Best is trial 10 with value: 0.39984709480122327.\n",
      "[I 2023-12-22 16:26:52,864] Trial 43 finished with value: 0.3943042813455658 and parameters: {'input_dim': 70, 'hidden_dim': 23, 'window_size': 4, 'b_size': 121, 'learning_rate': 0.39767495683068954, 'negative_slope': 0.06735693891193816, 'dropout_rate': 0.3450690963374249}. Best is trial 10 with value: 0.39984709480122327.\n",
      "[I 2023-12-22 16:27:12,050] Trial 44 finished with value: 0.39315749235474007 and parameters: {'input_dim': 51, 'hidden_dim': 19, 'window_size': 10, 'b_size': 83, 'learning_rate': 0.26319773251416195, 'negative_slope': 0.03555663005313402, 'dropout_rate': 0.29301674105679815}. Best is trial 10 with value: 0.39984709480122327.\n",
      "[I 2023-12-22 16:27:32,550] Trial 45 finished with value: 0.393348623853211 and parameters: {'input_dim': 98, 'hidden_dim': 29, 'window_size': 7, 'b_size': 59, 'learning_rate': 0.20767022054135853, 'negative_slope': 0.12500065195931376, 'dropout_rate': 0.2642235549911649}. Best is trial 10 with value: 0.39984709480122327.\n",
      "[I 2023-12-22 16:27:52,330] Trial 46 finished with value: 0.38551223241590216 and parameters: {'input_dim': 82, 'hidden_dim': 16, 'window_size': 6, 'b_size': 67, 'learning_rate': 0.6499453174690711, 'negative_slope': 0.14391501913817822, 'dropout_rate': 0.3628877900246474}. Best is trial 10 with value: 0.39984709480122327.\n",
      "[I 2023-12-22 16:28:13,369] Trial 47 finished with value: 0.3918195718654434 and parameters: {'input_dim': 62, 'hidden_dim': 10, 'window_size': 5, 'b_size': 53, 'learning_rate': 0.14024679418900354, 'negative_slope': 0.10697991152292483, 'dropout_rate': 0.33283663403486585}. Best is trial 10 with value: 0.39984709480122327.\n",
      "[I 2023-12-22 16:28:31,948] Trial 48 finished with value: 0.39468654434250766 and parameters: {'input_dim': 152, 'hidden_dim': 36, 'window_size': 4, 'b_size': 128, 'learning_rate': 0.17587601101851716, 'negative_slope': 0.08718441241123427, 'dropout_rate': 0.4416746480687676}. Best is trial 10 with value: 0.39984709480122327.\n",
      "[I 2023-12-22 16:28:51,660] Trial 49 finished with value: 0.3837920489296636 and parameters: {'input_dim': 90, 'hidden_dim': 26, 'window_size': 3, 'b_size': 72, 'learning_rate': 0.3243342338025429, 'negative_slope': 0.12302974181750631, 'dropout_rate': 0.3879925877726999}. Best is trial 10 with value: 0.39984709480122327.\n"
     ]
    },
    {
     "name": "stdout",
     "output_type": "stream",
     "text": [
      "Best Hyperparameters: {'input_dim': 127, 'hidden_dim': 32, 'window_size': 5, 'b_size': 116, 'learning_rate': 0.22281487465952846, 'negative_slope': 0.12028495847302506, 'dropout_rate': 0.23725841938493994}\n",
      "Best Accuracy: 0.39984709480122327\n"
     ]
    }
   ],
   "source": [
    "import optuna\n",
    "import torch\n",
    "import torch.nn as nn\n",
    "import torch.optim as optim\n",
    "from torch.utils.data import Dataset, DataLoader\n",
    "import pandas as pd\n",
    "import numpy as np\n",
    "from sklearn.metrics import accuracy_score\n",
    "from nltk.tokenize import word_tokenize\n",
    "from gensim.models import Word2Vec\n",
    "import multiprocessing\n",
    "from collections.abc import Mapping\n",
    "from torch.nn import functional as F\n",
    "num_cores = multiprocessing.cpu_count()\n",
    "n_epochs=11\n",
    "criterion=nn.MultiMarginLoss()\n",
    "\n",
    "\n",
    "class Data(Dataset):\n",
    "    def __init__(self, x, y, input_dim):\n",
    "        self.x = torch.from_numpy(x).float()\n",
    "        self.y = torch.from_numpy(y)\n",
    "        self.len = self.x.shape[0]\n",
    "        self.input_dim = input_dim\n",
    "\n",
    "    def __getitem__(self, index):\n",
    "        return self.x[index, :self.input_dim], self.y[index]\n",
    "\n",
    "    def __len__(self):\n",
    "        return self.len\n",
    "\n",
    "class Net(nn.Module):\n",
    "    def __init__(self, D_in, H, D_out, negative_slope=0.01, dropout_rate=0.5):\n",
    "        super(Net, self).__init__()\n",
    "        self.linear1 = nn.Linear(D_in, H)\n",
    "        self.bn1 = nn.BatchNorm1d(H)\n",
    "        self.dropout = nn.Dropout(dropout_rate)\n",
    "        self.linear2 = nn.Linear(H, D_out)\n",
    "        self.negative_slope = negative_slope\n",
    "\n",
    "    def forward(self, x):\n",
    "        # Using LeakyReLU instead of ReLU\n",
    "        x = F.leaky_relu(self.bn1(self.linear1(x)), self.negative_slope)  # default slope is 0.01\n",
    "        x = self.dropout(x)\n",
    "        x = self.linear2(x)\n",
    "        x = F.softmax(x, dim=1)\n",
    "        return x\n",
    "    \n",
    "def objective(trial):\n",
    "    input_dim = trial.suggest_int('input_dim', 50, 200)\n",
    "    hidden_dim = trial.suggest_int('hidden_dim', 10, 50)\n",
    "    window_size = trial.suggest_int('window_size', 3, 10)\n",
    "    b_size = trial.suggest_int('b_size', 32, 128)\n",
    "    learning_rate = trial.suggest_float('learning_rate', 1e-2, 1, log=True)\n",
    "    negative_slope = trial.suggest_float('negative_slope', 0.01, 0.3)\n",
    "    dropout_rate = trial.suggest_float('dropout_rate', 0.1, 0.5)\n",
    "    model = Net(input_dim, hidden_dim, output_dim, negative_slope=negative_slope, dropout_rate=dropout_rate)\n",
    "    optimizer=torch.optim.SGD(model.parameters(), lr=learning_rate)\n",
    "    # Choose optimizer\n",
    "    \n",
    "    \n",
    "\n",
    "    word2vec_model = Word2Vec(sentences=data['tokenized_text'].tolist(), vector_size=input_dim, window=window_size, min_count=1, workers=num_cores)\n",
    "    \n",
    "    data['mean_embedding'] = data['tokenized_text'].apply(lambda tokens: np.mean([word2vec_model.wv[word] for word in tokens if word in word2vec_model.wv], axis=0))\n",
    "    valid['mean_embedding'] = valid['tokenized_text'].apply(lambda tokens: np.mean([word2vec_model.wv[word] for word in tokens if word in word2vec_model.wv], axis=0))\n",
    "    x_train = data['mean_embedding']\n",
    "    x_val = valid['mean_embedding']\n",
    "    y_val = valid['Sentiment']\n",
    "    y_train = data['Sentiment']\n",
    "    \n",
    "    x_train = np.vstack(x_train).astype(np.float32)\n",
    "    x_val = np.vstack(x_val).astype(np.float32)\n",
    "    \n",
    "    \n",
    "    y_val = y_val.values\n",
    "    y_train = y_train.values\n",
    "    \n",
    "\n",
    "    data_set = Data(x_train, y_train, input_dim)\n",
    "    trainloader = DataLoader(dataset=data_set, batch_size=b_size, shuffle=True)\n",
    "   \n",
    "    loss_list = []\n",
    "\n",
    "    for epoch in range(n_epochs):\n",
    "        for x, y in trainloader:\n",
    "            optimizer.zero_grad()\n",
    "            z = model.forward(x)\n",
    "            loss = criterion(z, y)\n",
    "            loss.backward()\n",
    "            optimizer.step()\n",
    "            \n",
    "            loss_list.append(loss.item())\n",
    "\n",
    "    x_val_tensor = torch.from_numpy(x_val)\n",
    "    z_val = model.forward(x_val_tensor)\n",
    "    max_indexes = torch.argmax(z_val, dim=1)\n",
    "    y_pred = max_indexes.numpy()\n",
    "\n",
    "    accuracy = accuracy_score(y_val, y_pred)\n",
    "    return accuracy\n",
    "\n",
    "# Set up Optuna study\n",
    "study = optuna.create_study(direction='maximize',sampler=optuna.samplers.TPESampler(seed=42))\n",
    "study.optimize(objective, n_trials=50)\n",
    "\n",
    "# Get the best parameters\n",
    "best_params = study.best_params\n",
    "best_accuracy = study.best_value\n",
    "\n",
    "print(\"Best Hyperparameters:\", best_params)\n",
    "print(\"Best Accuracy:\", best_accuracy)"
   ]
  },
  {
   "cell_type": "markdown",
   "id": "c9b43f7c",
   "metadata": {
    "papermill": {
     "duration": 0.111401,
     "end_time": "2023-12-22T16:28:52.007026",
     "exception": false,
     "start_time": "2023-12-22T16:28:51.895625",
     "status": "completed"
    },
    "tags": []
   },
   "source": [
    "That is an imporvement, the next step is to change the emebdding representation of the text"
   ]
  },
  {
   "cell_type": "markdown",
   "id": "8a569592",
   "metadata": {
    "papermill": {
     "duration": 0.111406,
     "end_time": "2023-12-22T16:28:52.229572",
     "exception": false,
     "start_time": "2023-12-22T16:28:52.118166",
     "status": "completed"
    },
    "tags": []
   },
   "source": [
    "The best model so far includes a neural network with 1 hidden layer that uses leaky_relu step function and drop out. The criterion/loss function, is MultiMarginLoss and the optimizer is simple SGD."
   ]
  },
  {
   "cell_type": "markdown",
   "id": "730288d6",
   "metadata": {
    "papermill": {
     "duration": 0.111184,
     "end_time": "2023-12-22T16:28:52.453094",
     "exception": false,
     "start_time": "2023-12-22T16:28:52.341910",
     "status": "completed"
    },
    "tags": []
   },
   "source": [
    "Lets try to use tfidf instead of mean embedding to represent text column"
   ]
  },
  {
   "cell_type": "code",
   "execution_count": 46,
   "id": "907c7025",
   "metadata": {
    "execution": {
     "iopub.execute_input": "2023-12-22T16:28:52.680794Z",
     "iopub.status.busy": "2023-12-22T16:28:52.679932Z",
     "iopub.status.idle": "2023-12-22T17:40:18.142259Z",
     "shell.execute_reply": "2023-12-22T17:40:18.141126Z"
    },
    "papermill": {
     "duration": 4285.694736,
     "end_time": "2023-12-22T17:40:18.260770",
     "exception": false,
     "start_time": "2023-12-22T16:28:52.566034",
     "status": "completed"
    },
    "tags": []
   },
   "outputs": [
    {
     "name": "stderr",
     "output_type": "stream",
     "text": [
      "[I 2023-12-22 16:28:52,707] A new study created in memory with name: no-name-ae3dd3e7-a728-4b5a-92cb-1262bb954291\n",
      "[I 2023-12-22 16:30:09,489] Trial 0 finished with value: 0.39659785932721714 and parameters: {'input_dim': 106, 'hidden_dim': 48, 'window_size': 8, 'b_size': 90, 'learning_rate': 0.020513382630874502, 'negative_slope': 0.055238410897498764, 'dropout_rate': 0.12323344486727979}. Best is trial 0 with value: 0.39659785932721714.\n",
      "[I 2023-12-22 16:32:07,346] Trial 1 finished with value: 0.3918195718654434 and parameters: {'input_dim': 180, 'hidden_dim': 34, 'window_size': 8, 'b_size': 33, 'learning_rate': 0.8706020878304853, 'negative_slope': 0.2514083658321223, 'dropout_rate': 0.18493564427131048}. Best is trial 0 with value: 0.39659785932721714.\n",
      "[I 2023-12-22 16:33:23,956] Trial 2 finished with value: 0.39506880733944955 and parameters: {'input_dim': 77, 'hidden_dim': 17, 'window_size': 5, 'b_size': 82, 'learning_rate': 0.0730953983591291, 'negative_slope': 0.09445645065743215, 'dropout_rate': 0.34474115788895177}. Best is trial 0 with value: 0.39659785932721714.\n",
      "[I 2023-12-22 16:34:40,376] Trial 3 finished with value: 0.39258409785932724 and parameters: {'input_dim': 71, 'hidden_dim': 21, 'window_size': 5, 'b_size': 76, 'learning_rate': 0.3718364180573207, 'negative_slope': 0.06790539682592432, 'dropout_rate': 0.3056937753654446}. Best is trial 0 with value: 0.39659785932721714.\n",
      "[I 2023-12-22 16:36:05,314] Trial 4 finished with value: 0.3988914373088685 and parameters: {'input_dim': 139, 'hidden_dim': 11, 'window_size': 7, 'b_size': 48, 'learning_rate': 0.013492834268013254, 'negative_slope': 0.2851768058034666, 'dropout_rate': 0.4862528132298237}. Best is trial 4 with value: 0.3988914373088685.\n",
      "[I 2023-12-22 16:37:50,742] Trial 5 finished with value: 0.39239296636085624 and parameters: {'input_dim': 172, 'hidden_dim': 22, 'window_size': 3, 'b_size': 98, 'learning_rate': 0.07591104805282695, 'negative_slope': 0.045391088104985856, 'dropout_rate': 0.29807076404450805}. Best is trial 4 with value: 0.3988914373088685.\n",
      "[I 2023-12-22 16:39:07,041] Trial 6 finished with value: 0.39659785932721714 and parameters: {'input_dim': 55, 'hidden_dim': 47, 'window_size': 5, 'b_size': 96, 'learning_rate': 0.0420167205437253, 'negative_slope': 0.16081972614156514, 'dropout_rate': 0.31868411173731187}. Best is trial 4 with value: 0.3988914373088685.\n",
      "[I 2023-12-22 16:40:23,034] Trial 7 finished with value: 0.39545107033639143 and parameters: {'input_dim': 77, 'hidden_dim': 49, 'window_size': 9, 'b_size': 123, 'learning_rate': 0.6161049539380962, 'negative_slope': 0.18339099385521468, 'dropout_rate': 0.4687496940092467}. Best is trial 4 with value: 0.3988914373088685.\n",
      "[I 2023-12-22 16:41:41,911] Trial 8 finished with value: 0.38990825688073394 and parameters: {'input_dim': 63, 'hidden_dim': 18, 'window_size': 3, 'b_size': 63, 'learning_rate': 0.05989003672254302, 'negative_slope': 0.08869121921442981, 'dropout_rate': 0.43149500366077176}. Best is trial 4 with value: 0.3988914373088685.\n",
      "[I 2023-12-22 16:43:02,852] Trial 9 finished with value: 0.3885703363914373 and parameters: {'input_dim': 103, 'hidden_dim': 21, 'window_size': 7, 'b_size': 45, 'learning_rate': 0.40215545266902863, 'negative_slope': 0.03161968666713354, 'dropout_rate': 0.4947547746402069}. Best is trial 4 with value: 0.3988914373088685.\n",
      "[I 2023-12-22 16:44:28,270] Trial 10 finished with value: 0.38685015290519875 and parameters: {'input_dim': 146, 'hidden_dim': 10, 'window_size': 10, 'b_size': 56, 'learning_rate': 0.010692561339316916, 'negative_slope': 0.27322279063193006, 'dropout_rate': 0.39214675808280386}. Best is trial 4 with value: 0.3988914373088685.\n",
      "[I 2023-12-22 16:45:46,799] Trial 11 finished with value: 0.3872324159021407 and parameters: {'input_dim': 127, 'hidden_dim': 35, 'window_size': 7, 'b_size': 112, 'learning_rate': 0.010528385612815407, 'negative_slope': 0.2105003192818426, 'dropout_rate': 0.12422866359360898}. Best is trial 4 with value: 0.3988914373088685.\n",
      "[I 2023-12-22 16:47:05,490] Trial 12 finished with value: 0.3964067278287462 and parameters: {'input_dim': 112, 'hidden_dim': 41, 'window_size': 8, 'b_size': 77, 'learning_rate': 0.02537015019599844, 'negative_slope': 0.1254218475621345, 'dropout_rate': 0.2358910227739615}. Best is trial 4 with value: 0.3988914373088685.\n",
      "[I 2023-12-22 16:48:34,942] Trial 13 finished with value: 0.3908639143730887 and parameters: {'input_dim': 154, 'hidden_dim': 28, 'window_size': 6, 'b_size': 95, 'learning_rate': 0.02119291765534235, 'negative_slope': 0.016064739851258274, 'dropout_rate': 0.13795772267185238}. Best is trial 4 with value: 0.3988914373088685.\n",
      "[I 2023-12-22 16:49:56,311] Trial 14 finished with value: 0.3918195718654434 and parameters: {'input_dim': 132, 'hidden_dim': 11, 'window_size': 9, 'b_size': 63, 'learning_rate': 0.14670817273054057, 'negative_slope': 0.28678132175505255, 'dropout_rate': 0.22836536101420077}. Best is trial 4 with value: 0.3988914373088685.\n",
      "[I 2023-12-22 16:52:06,410] Trial 15 finished with value: 0.38952599388379205 and parameters: {'input_dim': 199, 'hidden_dim': 44, 'window_size': 8, 'b_size': 34, 'learning_rate': 0.01996936386016766, 'negative_slope': 0.227062346983365, 'dropout_rate': 0.40064536992631566}. Best is trial 4 with value: 0.3988914373088685.\n",
      "[I 2023-12-22 16:53:28,231] Trial 16 finished with value: 0.389717125382263 and parameters: {'input_dim': 94, 'hidden_dim': 27, 'window_size': 6, 'b_size': 47, 'learning_rate': 0.014736435748746465, 'negative_slope': 0.13275038560103333, 'dropout_rate': 0.10439567569750852}. Best is trial 4 with value: 0.3988914373088685.\n",
      "[I 2023-12-22 16:54:52,200] Trial 17 finished with value: 0.3918195718654434 and parameters: {'input_dim': 146, 'hidden_dim': 39, 'window_size': 10, 'b_size': 85, 'learning_rate': 0.036698799728242394, 'negative_slope': 0.18551794052734072, 'dropout_rate': 0.2557794581926886}. Best is trial 4 with value: 0.3988914373088685.\n",
      "[I 2023-12-22 16:56:11,734] Trial 18 finished with value: 0.3952599388379205 and parameters: {'input_dim': 118, 'hidden_dim': 35, 'window_size': 9, 'b_size': 115, 'learning_rate': 0.031579757216480334, 'negative_slope': 0.2863545640568072, 'dropout_rate': 0.1683886491275018}. Best is trial 4 with value: 0.3988914373088685.\n",
      "[I 2023-12-22 16:57:31,281] Trial 19 finished with value: 0.386085626911315 and parameters: {'input_dim': 91, 'hidden_dim': 14, 'window_size': 7, 'b_size': 67, 'learning_rate': 0.016133098470034017, 'negative_slope': 0.2995114351453413, 'dropout_rate': 0.3614838463376575}. Best is trial 4 with value: 0.3988914373088685.\n",
      "[I 2023-12-22 16:59:11,042] Trial 20 finished with value: 0.3845565749235474 and parameters: {'input_dim': 166, 'hidden_dim': 25, 'window_size': 4, 'b_size': 109, 'learning_rate': 0.026738645677080442, 'negative_slope': 0.010120897633292388, 'dropout_rate': 0.4455223403899253}. Best is trial 4 with value: 0.3988914373088685.\n",
      "[I 2023-12-22 17:00:28,847] Trial 21 finished with value: 0.3908639143730887 and parameters: {'input_dim': 60, 'hidden_dim': 49, 'window_size': 5, 'b_size': 97, 'learning_rate': 0.03580565953564178, 'negative_slope': 0.16828874655772044, 'dropout_rate': 0.3012711099265405}. Best is trial 4 with value: 0.3988914373088685.\n",
      "[I 2023-12-22 17:01:50,672] Trial 22 finished with value: 0.393348623853211 and parameters: {'input_dim': 139, 'hidden_dim': 45, 'window_size': 6, 'b_size': 93, 'learning_rate': 0.04039914060872902, 'negative_slope': 0.14195805340821738, 'dropout_rate': 0.20079761019147185}. Best is trial 4 with value: 0.3988914373088685.\n",
      "[I 2023-12-22 17:03:07,524] Trial 23 finished with value: 0.3809250764525994 and parameters: {'input_dim': 50, 'hidden_dim': 45, 'window_size': 4, 'b_size': 102, 'learning_rate': 0.015462637600397374, 'negative_slope': 0.246431379762103, 'dropout_rate': 0.4925252347033175}. Best is trial 4 with value: 0.3988914373088685.\n",
      "[I 2023-12-22 17:04:26,809] Trial 24 finished with value: 0.39659785932721714 and parameters: {'input_dim': 107, 'hidden_dim': 50, 'window_size': 8, 'b_size': 88, 'learning_rate': 0.04666910229985853, 'negative_slope': 0.10992291684647573, 'dropout_rate': 0.2702288567851148}. Best is trial 4 with value: 0.3988914373088685.\n",
      "[I 2023-12-22 17:05:46,675] Trial 25 finished with value: 0.39353975535168195 and parameters: {'input_dim': 93, 'hidden_dim': 39, 'window_size': 7, 'b_size': 75, 'learning_rate': 0.02291969017889503, 'negative_slope': 0.16370452102213298, 'dropout_rate': 0.3402119509267012}. Best is trial 4 with value: 0.3988914373088685.\n",
      "[I 2023-12-22 17:07:05,703] Trial 26 finished with value: 0.39143730886850153 and parameters: {'input_dim': 124, 'hidden_dim': 32, 'window_size': 4, 'b_size': 128, 'learning_rate': 0.013844785409486629, 'negative_slope': 0.06086259728057486, 'dropout_rate': 0.16023352713261477}. Best is trial 4 with value: 0.3988914373088685.\n",
      "[I 2023-12-22 17:08:23,523] Trial 27 finished with value: 0.38952599388379205 and parameters: {'input_dim': 85, 'hidden_dim': 46, 'window_size': 6, 'b_size': 105, 'learning_rate': 0.010303135102685369, 'negative_slope': 0.20994240318260732, 'dropout_rate': 0.1974040046404777}. Best is trial 4 with value: 0.3988914373088685.\n",
      "[I 2023-12-22 17:09:59,110] Trial 28 finished with value: 0.3900993883792049 and parameters: {'input_dim': 159, 'hidden_dim': 40, 'window_size': 5, 'b_size': 89, 'learning_rate': 0.02907044328503912, 'negative_slope': 0.15265007952405119, 'dropout_rate': 0.420663939504624}. Best is trial 4 with value: 0.3988914373088685.\n",
      "[I 2023-12-22 17:12:04,139] Trial 29 finished with value: 0.39353975535168195 and parameters: {'input_dim': 182, 'hidden_dim': 31, 'window_size': 8, 'b_size': 32, 'learning_rate': 0.049198398882327514, 'negative_slope': 0.2575354333787142, 'dropout_rate': 0.37778994277027306}. Best is trial 4 with value: 0.3988914373088685.\n",
      "[I 2023-12-22 17:13:23,142] Trial 30 finished with value: 0.38876146788990823 and parameters: {'input_dim': 103, 'hidden_dim': 43, 'window_size': 9, 'b_size': 69, 'learning_rate': 0.018957062849157918, 'negative_slope': 0.120816458189623, 'dropout_rate': 0.4651113789794461}. Best is trial 4 with value: 0.3988914373088685.\n",
      "[I 2023-12-22 17:14:43,111] Trial 31 finished with value: 0.39201070336391436 and parameters: {'input_dim': 115, 'hidden_dim': 50, 'window_size': 8, 'b_size': 87, 'learning_rate': 0.0486917281104816, 'negative_slope': 0.09840646209194681, 'dropout_rate': 0.27348221377385273}. Best is trial 4 with value: 0.3988914373088685.\n",
      "[I 2023-12-22 17:16:02,113] Trial 32 finished with value: 0.40156727828746175 and parameters: {'input_dim': 105, 'hidden_dim': 47, 'window_size': 8, 'b_size': 82, 'learning_rate': 0.10908003496412438, 'negative_slope': 0.10917775372421132, 'dropout_rate': 0.3268718885505423}. Best is trial 32 with value: 0.40156727828746175.\n",
      "[I 2023-12-22 17:17:23,973] Trial 33 finished with value: 0.39908256880733944 and parameters: {'input_dim': 135, 'hidden_dim': 46, 'window_size': 7, 'b_size': 79, 'learning_rate': 0.11539203976033631, 'negative_slope': 0.08043730446281899, 'dropout_rate': 0.3432623109185402}. Best is trial 32 with value: 0.40156727828746175.\n",
      "[I 2023-12-22 17:18:45,422] Trial 34 finished with value: 0.38952599388379205 and parameters: {'input_dim': 135, 'hidden_dim': 42, 'window_size': 7, 'b_size': 81, 'learning_rate': 0.10288588298519605, 'negative_slope': 0.08330011058782139, 'dropout_rate': 0.342450445676754}. Best is trial 32 with value: 0.40156727828746175.\n",
      "[I 2023-12-22 17:20:09,211] Trial 35 finished with value: 0.3948776758409786 and parameters: {'input_dim': 120, 'hidden_dim': 47, 'window_size': 8, 'b_size': 54, 'learning_rate': 0.14108105129176912, 'negative_slope': 0.06131581059645671, 'dropout_rate': 0.3254607644652825}. Best is trial 32 with value: 0.40156727828746175.\n",
      "[I 2023-12-22 17:21:34,406] Trial 36 finished with value: 0.39602446483180426 and parameters: {'input_dim': 127, 'hidden_dim': 37, 'window_size': 7, 'b_size': 41, 'learning_rate': 0.10900336730830368, 'negative_slope': 0.07883200632215215, 'dropout_rate': 0.37146665458655737}. Best is trial 32 with value: 0.40156727828746175.\n",
      "[I 2023-12-22 17:23:00,837] Trial 37 finished with value: 0.39659785932721714 and parameters: {'input_dim': 144, 'hidden_dim': 48, 'window_size': 9, 'b_size': 75, 'learning_rate': 0.07121679788252107, 'negative_slope': 0.1002821934945418, 'dropout_rate': 0.2905345013043657}. Best is trial 32 with value: 0.40156727828746175.\n",
      "[I 2023-12-22 17:24:21,081] Trial 38 finished with value: 0.39239296636085624 and parameters: {'input_dim': 79, 'hidden_dim': 24, 'window_size': 7, 'b_size': 70, 'learning_rate': 0.1675980399528943, 'negative_slope': 0.04555883687626797, 'dropout_rate': 0.31553211009267423}. Best is trial 32 with value: 0.40156727828746175.\n",
      "[I 2023-12-22 17:25:42,466] Trial 39 finished with value: 0.3948776758409786 and parameters: {'input_dim': 109, 'hidden_dim': 18, 'window_size': 8, 'b_size': 58, 'learning_rate': 0.07916385977724778, 'negative_slope': 0.11077347658508001, 'dropout_rate': 0.35141668992508457}. Best is trial 32 with value: 0.40156727828746175.\n",
      "[I 2023-12-22 17:27:12,987] Trial 40 finished with value: 0.3916284403669725 and parameters: {'input_dim': 156, 'hidden_dim': 15, 'window_size': 6, 'b_size': 81, 'learning_rate': 0.21671920749675838, 'negative_slope': 0.07094216054168075, 'dropout_rate': 0.4109055855966608}. Best is trial 32 with value: 0.40156727828746175.\n",
      "[I 2023-12-22 17:28:30,025] Trial 41 finished with value: 0.38512996941896027 and parameters: {'input_dim': 100, 'hidden_dim': 47, 'window_size': 5, 'b_size': 101, 'learning_rate': 0.06940692062402451, 'negative_slope': 0.08515077651084887, 'dropout_rate': 0.32270355507038095}. Best is trial 32 with value: 0.40156727828746175.\n",
      "[I 2023-12-22 17:29:47,470] Trial 42 finished with value: 0.39105504587155965 and parameters: {'input_dim': 70, 'hidden_dim': 42, 'window_size': 7, 'b_size': 91, 'learning_rate': 0.06214743298605205, 'negative_slope': 0.09895410880304584, 'dropout_rate': 0.39180733273098445}. Best is trial 32 with value: 0.40156727828746175.\n",
      "[I 2023-12-22 17:31:06,765] Trial 43 finished with value: 0.3956422018348624 and parameters: {'input_dim': 132, 'hidden_dim': 47, 'window_size': 6, 'b_size': 118, 'learning_rate': 0.026766365930097458, 'negative_slope': 0.04393524107658395, 'dropout_rate': 0.33109497748111283}. Best is trial 32 with value: 0.40156727828746175.\n",
      "[I 2023-12-22 17:32:23,961] Trial 44 finished with value: 0.39067278287461776 and parameters: {'input_dim': 55, 'hidden_dim': 44, 'window_size': 8, 'b_size': 84, 'learning_rate': 0.08855545533024409, 'negative_slope': 0.11893063927002487, 'dropout_rate': 0.30821451396674004}. Best is trial 32 with value: 0.40156727828746175.\n",
      "[I 2023-12-22 17:33:40,283] Trial 45 finished with value: 0.38321865443425074 and parameters: {'input_dim': 68, 'hidden_dim': 37, 'window_size': 3, 'b_size': 98, 'learning_rate': 0.012274328161302474, 'negative_slope': 0.0736247546248259, 'dropout_rate': 0.36783974848975964}. Best is trial 32 with value: 0.40156727828746175.\n",
      "[I 2023-12-22 17:35:03,898] Trial 46 finished with value: 0.38837920489296635 and parameters: {'input_dim': 148, 'hidden_dim': 48, 'window_size': 9, 'b_size': 106, 'learning_rate': 0.018876193924145176, 'negative_slope': 0.0901981673429775, 'dropout_rate': 0.4405814918807886}. Best is trial 32 with value: 0.40156727828746175.\n",
      "[I 2023-12-22 17:36:22,353] Trial 47 finished with value: 0.3916284403669725 and parameters: {'input_dim': 84, 'hidden_dim': 20, 'window_size': 10, 'b_size': 77, 'learning_rate': 0.023086668635509143, 'negative_slope': 0.12963801008409884, 'dropout_rate': 0.28918665866310744}. Best is trial 32 with value: 0.40156727828746175.\n",
      "[I 2023-12-22 17:38:19,740] Trial 48 finished with value: 0.39965596330275227 and parameters: {'input_dim': 180, 'hidden_dim': 33, 'window_size': 7, 'b_size': 49, 'learning_rate': 0.05691150572060188, 'negative_slope': 0.13485665630939664, 'dropout_rate': 0.34774360337742244}. Best is trial 32 with value: 0.40156727828746175.\n",
      "[I 2023-12-22 17:40:18,135] Trial 49 finished with value: 0.3943042813455658 and parameters: {'input_dim': 179, 'hidden_dim': 33, 'window_size': 7, 'b_size': 48, 'learning_rate': 0.031706569007969504, 'negative_slope': 0.14328061544836207, 'dropout_rate': 0.3902388848886077}. Best is trial 32 with value: 0.40156727828746175.\n"
     ]
    },
    {
     "name": "stdout",
     "output_type": "stream",
     "text": [
      "Best Hyperparameters: {'input_dim': 105, 'hidden_dim': 47, 'window_size': 8, 'b_size': 82, 'learning_rate': 0.10908003496412438, 'negative_slope': 0.10917775372421132, 'dropout_rate': 0.3268718885505423}\n",
      "Best Accuracy: 0.40156727828746175\n"
     ]
    }
   ],
   "source": [
    "import optuna\n",
    "import torch\n",
    "import torch.nn as nn\n",
    "import torch.optim as optim\n",
    "from torch.utils.data import Dataset, DataLoader\n",
    "import pandas as pd\n",
    "import numpy as np\n",
    "from sklearn.metrics import accuracy_score\n",
    "from nltk.tokenize import word_tokenize\n",
    "from gensim.models import Word2Vec\n",
    "import multiprocessing\n",
    "from collections.abc import Mapping\n",
    "from torch.nn import functional as F\n",
    "from sklearn.feature_extraction.text import TfidfVectorizer\n",
    "num_cores = multiprocessing.cpu_count()\n",
    "n_epochs=11\n",
    "criterion=nn.MultiMarginLoss()\n",
    "\n",
    "\n",
    "class Data(Dataset):\n",
    "    def __init__(self, x, y, input_dim):\n",
    "        self.x = torch.from_numpy(x).float()\n",
    "        self.y = torch.from_numpy(y)\n",
    "        self.len = self.x.shape[0]\n",
    "        self.input_dim = input_dim\n",
    "\n",
    "    def __getitem__(self, index):\n",
    "        return self.x[index, :self.input_dim], self.y[index]\n",
    "\n",
    "    def __len__(self):\n",
    "        return self.len\n",
    "def tfidf_weighted_embedding(tokens, model, tfidf):\n",
    "    word_ids = [model.wv.key_to_index[word] for word in tokens if word in model.wv]\n",
    "    word_tfidf = tfidf.transform([' '.join(tokens)]).toarray()[0, word_ids]\n",
    "    word_vectors = np.array([model.wv[word] for word in tokens if word in model.wv])\n",
    "    return np.dot(word_tfidf, word_vectors) / np.sum(word_tfidf)\n",
    "\n",
    "class Net(nn.Module):\n",
    "    def __init__(self, D_in, H, D_out, negative_slope=0.01, dropout_rate=0.5):\n",
    "        super(Net, self).__init__()\n",
    "        self.linear1 = nn.Linear(D_in, H)\n",
    "        self.bn1 = nn.BatchNorm1d(H)\n",
    "        self.dropout = nn.Dropout(dropout_rate)\n",
    "        self.linear2 = nn.Linear(H, D_out)\n",
    "        self.negative_slope = negative_slope\n",
    "\n",
    "    def forward(self, x):\n",
    "        # Using LeakyReLU instead of ReLU\n",
    "        x = F.leaky_relu(self.bn1(self.linear1(x)), self.negative_slope)  # default slope is 0.01\n",
    "        x = self.dropout(x)\n",
    "        x = self.linear2(x)\n",
    "        x = F.softmax(x, dim=1)\n",
    "        return x\n",
    "    \n",
    "def objective(trial):\n",
    "    input_dim = trial.suggest_int('input_dim', 50, 200)\n",
    "    hidden_dim = trial.suggest_int('hidden_dim', 10, 50)\n",
    "    window_size = trial.suggest_int('window_size', 3, 10)\n",
    "    b_size = trial.suggest_int('b_size', 32, 128)\n",
    "    learning_rate = trial.suggest_float('learning_rate', 1e-2, 1, log=True)\n",
    "    negative_slope = trial.suggest_float('negative_slope', 0.01, 0.3)\n",
    "    dropout_rate = trial.suggest_float('dropout_rate', 0.1, 0.5)\n",
    "    model = Net(input_dim, hidden_dim, output_dim, negative_slope=negative_slope, dropout_rate=dropout_rate)\n",
    "    optimizer=torch.optim.SGD(model.parameters(), lr=learning_rate)\n",
    "    # Choose optimizer\n",
    "    \n",
    "    \n",
    "\n",
    "    word2vec_model = Word2Vec(sentences=data['tokenized_text'].tolist(), vector_size=input_dim, window=window_size, min_count=1, workers=num_cores)\n",
    "    \n",
    "    tfidf = TfidfVectorizer(vocabulary=word2vec_model.wv.key_to_index)\n",
    "    tfidf.fit(data['tokenized_text'].apply(lambda x: ' '.join(x)))\n",
    "    data['tfidf_embedding'] = data['tokenized_text'].apply(lambda tokens: tfidf_weighted_embedding(tokens, word2vec_model, tfidf))\n",
    "    valid['tfidf_embedding'] = valid['tokenized_text'].apply(lambda tokens: tfidf_weighted_embedding(tokens, word2vec_model, tfidf))\n",
    "\n",
    "\n",
    "    y_val = valid['Sentiment']\n",
    "    y_train = data['Sentiment']\n",
    "    \n",
    "    x_train = np.vstack(data['tfidf_embedding']).astype(np.float32)\n",
    "    x_val = np.vstack(valid['tfidf_embedding']).astype(np.float32)\n",
    "    \n",
    "    \n",
    "    y_val = y_val.values\n",
    "    y_train = y_train.values\n",
    "    \n",
    "\n",
    "    data_set = Data(x_train, y_train, input_dim)\n",
    "    trainloader = DataLoader(dataset=data_set, batch_size=b_size, shuffle=True)\n",
    "   \n",
    "    loss_list = []\n",
    "\n",
    "    for epoch in range(n_epochs):\n",
    "        for x, y in trainloader:\n",
    "            optimizer.zero_grad()\n",
    "            z = model.forward(x)\n",
    "            loss = criterion(z, y)\n",
    "            loss.backward()\n",
    "            optimizer.step()\n",
    "            \n",
    "            loss_list.append(loss.item())\n",
    "\n",
    "    x_val_tensor = torch.from_numpy(x_val)\n",
    "    z_val = model.forward(x_val_tensor)\n",
    "    max_indexes = torch.argmax(z_val, dim=1)\n",
    "    y_pred = max_indexes.numpy()\n",
    "\n",
    "    accuracy = accuracy_score(y_val, y_pred)\n",
    "    return accuracy\n",
    "\n",
    "# Set up Optuna study\n",
    "study = optuna.create_study(direction='maximize',sampler=optuna.samplers.TPESampler(seed=42))\n",
    "study.optimize(objective, n_trials=50)\n",
    "\n",
    "# Get the best parameters\n",
    "best_params = study.best_params\n",
    "best_accuracy = study.best_value\n",
    "\n",
    "print(\"Best Hyperparameters:\", best_params)\n",
    "print(\"Best Accuracy:\", best_accuracy)"
   ]
  },
  {
   "cell_type": "markdown",
   "id": "60bbdee4",
   "metadata": {
    "papermill": {
     "duration": 0.117122,
     "end_time": "2023-12-22T17:40:18.495341",
     "exception": false,
     "start_time": "2023-12-22T17:40:18.378219",
     "status": "completed"
    },
    "tags": []
   },
   "source": [
    "Also try CountVectorizer"
   ]
  },
  {
   "cell_type": "code",
   "execution_count": 47,
   "id": "04fecfbe",
   "metadata": {
    "execution": {
     "iopub.execute_input": "2023-12-22T17:40:18.733043Z",
     "iopub.status.busy": "2023-12-22T17:40:18.732621Z",
     "iopub.status.idle": "2023-12-22T18:09:53.624709Z",
     "shell.execute_reply": "2023-12-22T18:09:53.623636Z"
    },
    "papermill": {
     "duration": 1775.134158,
     "end_time": "2023-12-22T18:09:53.747740",
     "exception": false,
     "start_time": "2023-12-22T17:40:18.613582",
     "status": "completed"
    },
    "tags": []
   },
   "outputs": [
    {
     "name": "stderr",
     "output_type": "stream",
     "text": [
      "[I 2023-12-22 17:40:18,763] A new study created in memory with name: no-name-a248a987-9dd2-49ef-bec7-37ae90a2f8f6\n",
      "[I 2023-12-22 17:40:50,480] Trial 0 finished with value: 0.39105504587155965 and parameters: {'input_dim': 106, 'hidden_dim': 48, 'window_size': 8, 'b_size': 90, 'learning_rate': 0.020513382630874502, 'negative_slope': 0.055238410897498764, 'dropout_rate': 0.12323344486727979}. Best is trial 0 with value: 0.39105504587155965.\n",
      "[I 2023-12-22 17:41:47,419] Trial 1 finished with value: 0.38990825688073394 and parameters: {'input_dim': 180, 'hidden_dim': 34, 'window_size': 8, 'b_size': 33, 'learning_rate': 0.8706020878304853, 'negative_slope': 0.2514083658321223, 'dropout_rate': 0.18493564427131048}. Best is trial 0 with value: 0.39105504587155965.\n",
      "[I 2023-12-22 17:42:18,865] Trial 2 finished with value: 0.3944954128440367 and parameters: {'input_dim': 77, 'hidden_dim': 17, 'window_size': 5, 'b_size': 82, 'learning_rate': 0.0730953983591291, 'negative_slope': 0.09445645065743215, 'dropout_rate': 0.34474115788895177}. Best is trial 2 with value: 0.3944954128440367.\n",
      "[I 2023-12-22 17:42:50,195] Trial 3 finished with value: 0.3927752293577982 and parameters: {'input_dim': 71, 'hidden_dim': 21, 'window_size': 5, 'b_size': 76, 'learning_rate': 0.3718364180573207, 'negative_slope': 0.06790539682592432, 'dropout_rate': 0.3056937753654446}. Best is trial 2 with value: 0.3944954128440367.\n",
      "[I 2023-12-22 17:43:29,136] Trial 4 finished with value: 0.38398318042813456 and parameters: {'input_dim': 139, 'hidden_dim': 11, 'window_size': 7, 'b_size': 48, 'learning_rate': 0.013492834268013254, 'negative_slope': 0.2851768058034666, 'dropout_rate': 0.4862528132298237}. Best is trial 2 with value: 0.3944954128440367.\n",
      "[I 2023-12-22 17:44:16,483] Trial 5 finished with value: 0.3918195718654434 and parameters: {'input_dim': 172, 'hidden_dim': 22, 'window_size': 3, 'b_size': 98, 'learning_rate': 0.07591104805282695, 'negative_slope': 0.045391088104985856, 'dropout_rate': 0.29807076404450805}. Best is trial 2 with value: 0.3944954128440367.\n",
      "[I 2023-12-22 17:44:46,986] Trial 6 finished with value: 0.3912461773700306 and parameters: {'input_dim': 55, 'hidden_dim': 47, 'window_size': 5, 'b_size': 96, 'learning_rate': 0.0420167205437253, 'negative_slope': 0.16081972614156514, 'dropout_rate': 0.31868411173731187}. Best is trial 2 with value: 0.3944954128440367.\n",
      "[I 2023-12-22 17:45:17,609] Trial 7 finished with value: 0.39048165137614677 and parameters: {'input_dim': 77, 'hidden_dim': 49, 'window_size': 9, 'b_size': 123, 'learning_rate': 0.6161049539380962, 'negative_slope': 0.18339099385521468, 'dropout_rate': 0.4687496940092467}. Best is trial 2 with value: 0.3944954128440367.\n",
      "[I 2023-12-22 17:45:50,799] Trial 8 finished with value: 0.38914373088685017 and parameters: {'input_dim': 63, 'hidden_dim': 18, 'window_size': 3, 'b_size': 63, 'learning_rate': 0.05989003672254302, 'negative_slope': 0.08869121921442981, 'dropout_rate': 0.43149500366077176}. Best is trial 2 with value: 0.3944954128440367.\n",
      "[I 2023-12-22 17:46:26,242] Trial 9 finished with value: 0.3922018348623853 and parameters: {'input_dim': 103, 'hidden_dim': 21, 'window_size': 7, 'b_size': 45, 'learning_rate': 0.40215545266902863, 'negative_slope': 0.03161968666713354, 'dropout_rate': 0.4947547746402069}. Best is trial 2 with value: 0.3944954128440367.\n",
      "[I 2023-12-22 17:46:59,470] Trial 10 finished with value: 0.3958333333333333 and parameters: {'input_dim': 127, 'hidden_dim': 32, 'window_size': 5, 'b_size': 122, 'learning_rate': 0.19062374828215087, 'negative_slope': 0.1160557590537364, 'dropout_rate': 0.3858492968184316}. Best is trial 10 with value: 0.3958333333333333.\n",
      "[I 2023-12-22 17:47:35,654] Trial 11 finished with value: 0.3964067278287462 and parameters: {'input_dim': 144, 'hidden_dim': 33, 'window_size': 5, 'b_size': 128, 'learning_rate': 0.17040176261680165, 'negative_slope': 0.12265021256853384, 'dropout_rate': 0.3856739056082168}. Best is trial 11 with value: 0.3964067278287462.\n",
      "[I 2023-12-22 17:48:13,195] Trial 12 finished with value: 0.39353975535168195 and parameters: {'input_dim': 148, 'hidden_dim': 35, 'window_size': 4, 'b_size': 128, 'learning_rate': 0.20065250453364522, 'negative_slope': 0.12240231917854862, 'dropout_rate': 0.3898019929480497}. Best is trial 11 with value: 0.3964067278287462.\n",
      "[I 2023-12-22 17:48:55,654] Trial 13 finished with value: 0.3952599388379205 and parameters: {'input_dim': 154, 'hidden_dim': 29, 'window_size': 6, 'b_size': 115, 'learning_rate': 0.13046152819870183, 'negative_slope': 0.13220221376156296, 'dropout_rate': 0.3847911208853647}. Best is trial 11 with value: 0.3964067278287462.\n",
      "[I 2023-12-22 17:49:28,323] Trial 14 finished with value: 0.393348623853211 and parameters: {'input_dim': 118, 'hidden_dim': 37, 'window_size': 6, 'b_size': 111, 'learning_rate': 0.18766870441105787, 'negative_slope': 0.20238786429747493, 'dropout_rate': 0.4191979476316069}. Best is trial 11 with value: 0.3964067278287462.\n",
      "[I 2023-12-22 17:50:17,270] Trial 15 finished with value: 0.3902905198776758 and parameters: {'input_dim': 200, 'hidden_dim': 41, 'window_size': 4, 'b_size': 110, 'learning_rate': 0.1501360276561791, 'negative_slope': 0.11731610762439251, 'dropout_rate': 0.2683643198127197}. Best is trial 11 with value: 0.3964067278287462.\n",
      "[I 2023-12-22 17:50:49,469] Trial 16 finished with value: 0.3878058103975535 and parameters: {'input_dim': 129, 'hidden_dim': 27, 'window_size': 4, 'b_size': 105, 'learning_rate': 0.2715834954634817, 'negative_slope': 0.012621324695200872, 'dropout_rate': 0.36500683939344003}. Best is trial 11 with value: 0.3964067278287462.\n",
      "[I 2023-12-22 17:51:33,888] Trial 17 finished with value: 0.39239296636085624 and parameters: {'input_dim': 164, 'hidden_dim': 41, 'window_size': 10, 'b_size': 121, 'learning_rate': 0.11646587652315103, 'negative_slope': 0.15130797806824625, 'dropout_rate': 0.43111490378301637}. Best is trial 11 with value: 0.3964067278287462.\n",
      "[I 2023-12-22 17:52:03,702] Trial 18 finished with value: 0.3916284403669725 and parameters: {'input_dim': 96, 'hidden_dim': 27, 'window_size': 6, 'b_size': 125, 'learning_rate': 0.27790154491502844, 'negative_slope': 0.09161013527789819, 'dropout_rate': 0.24335611391621678}. Best is trial 11 with value: 0.3964067278287462.\n",
      "[I 2023-12-22 17:52:37,802] Trial 19 finished with value: 0.3902905198776758 and parameters: {'input_dim': 122, 'hidden_dim': 39, 'window_size': 5, 'b_size': 77, 'learning_rate': 0.10351029070280382, 'negative_slope': 0.19879256145076668, 'dropout_rate': 0.3509679306459871}. Best is trial 11 with value: 0.3964067278287462.\n",
      "[I 2023-12-22 17:53:12,103] Trial 20 finished with value: 0.39717125382262997 and parameters: {'input_dim': 136, 'hidden_dim': 31, 'window_size': 4, 'b_size': 103, 'learning_rate': 0.0451167090868405, 'negative_slope': 0.07013616616930574, 'dropout_rate': 0.40905056948670704}. Best is trial 20 with value: 0.39717125382262997.\n",
      "[I 2023-12-22 17:53:46,093] Trial 21 finished with value: 0.39258409785932724 and parameters: {'input_dim': 139, 'hidden_dim': 32, 'window_size': 4, 'b_size': 116, 'learning_rate': 0.03797683778191321, 'negative_slope': 0.07699283618477598, 'dropout_rate': 0.4045256816738272}. Best is trial 20 with value: 0.39717125382262997.\n",
      "[I 2023-12-22 17:54:19,948] Trial 22 finished with value: 0.39392201834862384 and parameters: {'input_dim': 135, 'hidden_dim': 31, 'window_size': 3, 'b_size': 103, 'learning_rate': 0.1854463390377112, 'negative_slope': 0.11100889207449866, 'dropout_rate': 0.4504479174645276}. Best is trial 20 with value: 0.39717125382262997.\n",
      "[I 2023-12-22 17:54:51,288] Trial 23 finished with value: 0.389717125382263 and parameters: {'input_dim': 111, 'hidden_dim': 27, 'window_size': 5, 'b_size': 128, 'learning_rate': 0.09490430902713652, 'negative_slope': 0.06488183386166738, 'dropout_rate': 0.39716457927190196}. Best is trial 20 with value: 0.39717125382262997.\n",
      "[I 2023-12-22 17:55:22,586] Trial 24 finished with value: 0.3983180428134557 and parameters: {'input_dim': 91, 'hidden_dim': 45, 'window_size': 4, 'b_size': 117, 'learning_rate': 0.04238416901495402, 'negative_slope': 0.1422395473272309, 'dropout_rate': 0.44024685305652084}. Best is trial 24 with value: 0.3983180428134557.\n",
      "[I 2023-12-22 17:55:54,247] Trial 25 finished with value: 0.389717125382263 and parameters: {'input_dim': 90, 'hidden_dim': 43, 'window_size': 4, 'b_size': 91, 'learning_rate': 0.03375313617982862, 'negative_slope': 0.1458991421264751, 'dropout_rate': 0.46131953878597376}. Best is trial 24 with value: 0.3983180428134557.\n",
      "[I 2023-12-22 17:56:32,618] Trial 26 finished with value: 0.39353975535168195 and parameters: {'input_dim': 150, 'hidden_dim': 44, 'window_size': 3, 'b_size': 107, 'learning_rate': 0.05263674780287418, 'negative_slope': 0.09630482402586982, 'dropout_rate': 0.43192821612791854}. Best is trial 24 with value: 0.3983180428134557.\n",
      "[I 2023-12-22 17:57:03,374] Trial 27 finished with value: 0.3893348623853211 and parameters: {'input_dim': 90, 'hidden_dim': 37, 'window_size': 4, 'b_size': 117, 'learning_rate': 0.025008857201090185, 'negative_slope': 0.14374125917315858, 'dropout_rate': 0.462465796380645}. Best is trial 24 with value: 0.3983180428134557.\n",
      "[I 2023-12-22 17:57:53,000] Trial 28 finished with value: 0.38837920489296635 and parameters: {'input_dim': 186, 'hidden_dim': 46, 'window_size': 6, 'b_size': 100, 'learning_rate': 0.05202490206283408, 'negative_slope': 0.17041676338060435, 'dropout_rate': 0.367111829949067}. Best is trial 24 with value: 0.3983180428134557.\n",
      "[I 2023-12-22 17:58:25,319] Trial 29 finished with value: 0.38837920489296635 and parameters: {'input_dim': 108, 'hidden_dim': 50, 'window_size': 7, 'b_size': 91, 'learning_rate': 0.023565568704138465, 'negative_slope': 0.04831672185411271, 'dropout_rate': 0.4104605466352536}. Best is trial 24 with value: 0.3983180428134557.\n",
      "[I 2023-12-22 17:59:10,995] Trial 30 finished with value: 0.3918195718654434 and parameters: {'input_dim': 159, 'hidden_dim': 24, 'window_size': 3, 'b_size': 84, 'learning_rate': 0.01352895003039595, 'negative_slope': 0.13534632023321005, 'dropout_rate': 0.1088017347852453}. Best is trial 24 with value: 0.3983180428134557.\n",
      "[I 2023-12-22 17:59:44,767] Trial 31 finished with value: 0.389717125382263 and parameters: {'input_dim': 127, 'hidden_dim': 33, 'window_size': 5, 'b_size': 119, 'learning_rate': 0.07920694253281309, 'negative_slope': 0.11375052641199153, 'dropout_rate': 0.38658206130818756}. Best is trial 24 with value: 0.3983180428134557.\n",
      "[I 2023-12-22 18:00:17,443] Trial 32 finished with value: 0.39315749235474007 and parameters: {'input_dim': 116, 'hidden_dim': 36, 'window_size': 4, 'b_size': 110, 'learning_rate': 0.030939456378984365, 'negative_slope': 0.10984552059014907, 'dropout_rate': 0.4433052266865185}. Best is trial 24 with value: 0.3983180428134557.\n",
      "[I 2023-12-22 18:00:54,146] Trial 33 finished with value: 0.3929663608562691 and parameters: {'input_dim': 144, 'hidden_dim': 30, 'window_size': 5, 'b_size': 120, 'learning_rate': 0.06531337057493755, 'negative_slope': 0.07884022310072877, 'dropout_rate': 0.3353344726311723}. Best is trial 24 with value: 0.3983180428134557.\n",
      "[I 2023-12-22 18:01:27,918] Trial 34 finished with value: 0.386085626911315 and parameters: {'input_dim': 134, 'hidden_dim': 33, 'window_size': 6, 'b_size': 114, 'learning_rate': 0.08914540211023302, 'negative_slope': 0.06441798867312543, 'dropout_rate': 0.4163723880621538}. Best is trial 24 with value: 0.3983180428134557.\n",
      "[I 2023-12-22 18:02:16,881] Trial 35 finished with value: 0.39048165137614677 and parameters: {'input_dim': 170, 'hidden_dim': 25, 'window_size': 5, 'b_size': 70, 'learning_rate': 0.04667716492904154, 'negative_slope': 0.10136340148506182, 'dropout_rate': 0.3692664910794978}. Best is trial 24 with value: 0.3983180428134557.\n",
      "[I 2023-12-22 18:02:47,512] Trial 36 finished with value: 0.38742354740061163 and parameters: {'input_dim': 102, 'hidden_dim': 39, 'window_size': 8, 'b_size': 128, 'learning_rate': 0.018681483729309438, 'negative_slope': 0.12262517978758555, 'dropout_rate': 0.4844344962292921}. Best is trial 24 with value: 0.3983180428134557.\n",
      "[I 2023-12-22 18:03:18,183] Trial 37 finished with value: 0.3977446483180428 and parameters: {'input_dim': 82, 'hidden_dim': 29, 'window_size': 5, 'b_size': 122, 'learning_rate': 0.06541222383238449, 'negative_slope': 0.08424247156647877, 'dropout_rate': 0.3418085711316908}. Best is trial 24 with value: 0.3983180428134557.\n",
      "[I 2023-12-22 18:03:49,201] Trial 38 finished with value: 0.39315749235474007 and parameters: {'input_dim': 79, 'hidden_dim': 11, 'window_size': 4, 'b_size': 96, 'learning_rate': 0.06984360101764102, 'negative_slope': 0.07585585917632717, 'dropout_rate': 0.33483167446828344}. Best is trial 24 with value: 0.3983180428134557.\n",
      "[I 2023-12-22 18:04:18,872] Trial 39 finished with value: 0.3853211009174312 and parameters: {'input_dim': 66, 'hidden_dim': 18, 'window_size': 3, 'b_size': 102, 'learning_rate': 0.044952669993632656, 'negative_slope': 0.08765275309018755, 'dropout_rate': 0.34551826859198653}. Best is trial 24 with value: 0.3983180428134557.\n",
      "[I 2023-12-22 18:04:48,808] Trial 40 finished with value: 0.3916284403669725 and parameters: {'input_dim': 53, 'hidden_dim': 29, 'window_size': 5, 'b_size': 112, 'learning_rate': 0.06545811539140006, 'negative_slope': 0.06317422946515971, 'dropout_rate': 0.3158111613633311}. Best is trial 24 with value: 0.3983180428134557.\n",
      "[I 2023-12-22 18:05:19,125] Trial 41 finished with value: 0.3912461773700306 and parameters: {'input_dim': 83, 'hidden_dim': 34, 'window_size': 5, 'b_size': 124, 'learning_rate': 0.09598744732912794, 'negative_slope': 0.13634602735430693, 'dropout_rate': 0.39981596688376}. Best is trial 24 with value: 0.3983180428134557.\n",
      "[I 2023-12-22 18:05:51,991] Trial 42 finished with value: 0.3952599388379205 and parameters: {'input_dim': 127, 'hidden_dim': 24, 'window_size': 4, 'b_size': 122, 'learning_rate': 0.13589430419224405, 'negative_slope': 0.09929715540738163, 'dropout_rate': 0.37450809319030176}. Best is trial 24 with value: 0.3983180428134557.\n",
      "[I 2023-12-22 18:06:27,703] Trial 43 finished with value: 0.3956422018348624 and parameters: {'input_dim': 141, 'hidden_dim': 31, 'window_size': 5, 'b_size': 118, 'learning_rate': 0.056448223491781586, 'negative_slope': 0.12652287036709486, 'dropout_rate': 0.3554524396326477}. Best is trial 24 with value: 0.3983180428134557.\n",
      "[I 2023-12-22 18:06:59,891] Trial 44 finished with value: 0.39067278287461776 and parameters: {'input_dim': 114, 'hidden_dim': 21, 'window_size': 7, 'b_size': 107, 'learning_rate': 0.07801025642872268, 'negative_slope': 0.16026041757036927, 'dropout_rate': 0.38515238429137966}. Best is trial 24 with value: 0.3983180428134557.\n",
      "[I 2023-12-22 18:07:32,607] Trial 45 finished with value: 0.38589449541284404 and parameters: {'input_dim': 71, 'hidden_dim': 14, 'window_size': 6, 'b_size': 59, 'learning_rate': 0.036705643020170625, 'negative_slope': 0.05344747872446838, 'dropout_rate': 0.4208973523463292}. Best is trial 24 with value: 0.3983180428134557.\n",
      "[I 2023-12-22 18:08:09,298] Trial 46 finished with value: 0.3952599388379205 and parameters: {'input_dim': 101, 'hidden_dim': 29, 'window_size': 4, 'b_size': 36, 'learning_rate': 0.14771864558701328, 'negative_slope': 0.10266904898337584, 'dropout_rate': 0.4049848657430842}. Best is trial 24 with value: 0.3983180428134557.\n",
      "[I 2023-12-22 18:08:41,298] Trial 47 finished with value: 0.38914373088685017 and parameters: {'input_dim': 120, 'hidden_dim': 26, 'window_size': 5, 'b_size': 124, 'learning_rate': 0.11780150377422605, 'negative_slope': 0.04043128526675858, 'dropout_rate': 0.4443766130296155}. Best is trial 24 with value: 0.3983180428134557.\n",
      "[I 2023-12-22 18:09:11,969] Trial 48 finished with value: 0.38742354740061163 and parameters: {'input_dim': 59, 'hidden_dim': 35, 'window_size': 6, 'b_size': 114, 'learning_rate': 0.04670852284119538, 'negative_slope': 0.08247124716427338, 'dropout_rate': 0.3843763220653109}. Best is trial 24 with value: 0.3983180428134557.\n",
      "[I 2023-12-22 18:09:53,615] Trial 49 finished with value: 0.3916284403669725 and parameters: {'input_dim': 152, 'hidden_dim': 40, 'window_size': 3, 'b_size': 85, 'learning_rate': 0.05807269573717298, 'negative_slope': 0.129806968645529, 'dropout_rate': 0.47363005399747676}. Best is trial 24 with value: 0.3983180428134557.\n"
     ]
    },
    {
     "name": "stdout",
     "output_type": "stream",
     "text": [
      "Best Hyperparameters: {'input_dim': 91, 'hidden_dim': 45, 'window_size': 4, 'b_size': 117, 'learning_rate': 0.04238416901495402, 'negative_slope': 0.1422395473272309, 'dropout_rate': 0.44024685305652084}\n",
      "Best Accuracy: 0.3983180428134557\n"
     ]
    }
   ],
   "source": [
    "import optuna\n",
    "import torch\n",
    "import torch.nn as nn\n",
    "import torch.optim as optim\n",
    "from torch.utils.data import Dataset, DataLoader\n",
    "import pandas as pd\n",
    "import numpy as np\n",
    "from sklearn.metrics import accuracy_score\n",
    "from nltk.tokenize import word_tokenize\n",
    "from gensim.models import Word2Vec\n",
    "import multiprocessing\n",
    "from collections.abc import Mapping\n",
    "from torch.nn import functional as F\n",
    "from sklearn.feature_extraction.text import CountVectorizer\n",
    "num_cores = multiprocessing.cpu_count()\n",
    "n_epochs=11\n",
    "criterion=nn.MultiMarginLoss()\n",
    "\n",
    "\n",
    "class Data(Dataset):\n",
    "    def __init__(self, x, y, input_dim):\n",
    "        self.x = torch.from_numpy(x).float()\n",
    "        self.y = torch.from_numpy(y)\n",
    "        self.len = self.x.shape[0]\n",
    "        self.input_dim = input_dim\n",
    "\n",
    "    def __getitem__(self, index):\n",
    "        return self.x[index, :self.input_dim], self.y[index]\n",
    "\n",
    "    def __len__(self):\n",
    "        return self.len\n",
    "def count_weighted_embedding(tokens, model, count_vectorizer):\n",
    "    word_ids = [model.wv.key_to_index[word] for word in tokens if word in model.wv]\n",
    "    word_counts = count_vectorizer.transform([' '.join(tokens)]).toarray()[0, word_ids]\n",
    "    word_vectors = np.array([model.wv[word] for word in tokens if word in model.wv])\n",
    "    return np.dot(word_counts, word_vectors) / np.sum(word_counts) if np.sum(word_counts) != 0 else np.zeros(model.vector_size)\n",
    "\n",
    "class Net(nn.Module):\n",
    "    def __init__(self, D_in, H, D_out, negative_slope=0.01, dropout_rate=0.5):\n",
    "        super(Net, self).__init__()\n",
    "        self.linear1 = nn.Linear(D_in, H)\n",
    "        self.bn1 = nn.BatchNorm1d(H)\n",
    "        self.dropout = nn.Dropout(dropout_rate)\n",
    "        self.linear2 = nn.Linear(H, D_out)\n",
    "        self.negative_slope = negative_slope\n",
    "\n",
    "    def forward(self, x):\n",
    "        # Using LeakyReLU instead of ReLU\n",
    "        x = F.leaky_relu(self.bn1(self.linear1(x)), self.negative_slope)  # default slope is 0.01\n",
    "        x = self.dropout(x)\n",
    "        x = self.linear2(x)\n",
    "        x = F.softmax(x, dim=1)\n",
    "        return x\n",
    "    \n",
    "def objective(trial):\n",
    "    input_dim = trial.suggest_int('input_dim', 50, 200)\n",
    "    hidden_dim = trial.suggest_int('hidden_dim', 10, 50)\n",
    "    window_size = trial.suggest_int('window_size', 3, 10)\n",
    "    b_size = trial.suggest_int('b_size', 32, 128)\n",
    "    learning_rate = trial.suggest_float('learning_rate', 1e-2, 1, log=True)\n",
    "    negative_slope = trial.suggest_float('negative_slope', 0.01, 0.3)\n",
    "    dropout_rate = trial.suggest_float('dropout_rate', 0.1, 0.5)\n",
    "    model = Net(input_dim, hidden_dim, output_dim, negative_slope=negative_slope, dropout_rate=dropout_rate)\n",
    "    optimizer=torch.optim.SGD(model.parameters(), lr=learning_rate)\n",
    "    # Choose optimizer\n",
    "    \n",
    "    \n",
    "\n",
    "    word2vec_model = Word2Vec(sentences=data['tokenized_text'].tolist(), vector_size=input_dim, window=window_size, min_count=1, workers=num_cores)\n",
    "    \n",
    "    count_vectorizer = CountVectorizer(vocabulary=word2vec_model.wv.key_to_index)\n",
    "    count_vectorizer.fit(data['tokenized_text'].apply(lambda x: ' '.join(x)))\n",
    "    data['count_embedding'] = data['tokenized_text'].apply(lambda tokens: count_weighted_embedding(tokens, word2vec_model, count_vectorizer))\n",
    "    valid['count_embedding'] = valid['tokenized_text'].apply(lambda tokens: count_weighted_embedding(tokens, word2vec_model, count_vectorizer))\n",
    "\n",
    "    x_train = np.vstack(data['count_embedding']).astype(np.float32)\n",
    "    x_val = np.vstack(valid['count_embedding']).astype(np.float32)\n",
    "\n",
    "\n",
    "    y_val = valid['Sentiment']\n",
    "    y_train = data['Sentiment']\n",
    "    \n",
    "    \n",
    "    \n",
    "    y_val = y_val.values\n",
    "    y_train = y_train.values\n",
    "    \n",
    "\n",
    "    data_set = Data(x_train, y_train, input_dim)\n",
    "    trainloader = DataLoader(dataset=data_set, batch_size=b_size, shuffle=True)\n",
    "   \n",
    "    loss_list = []\n",
    "\n",
    "    for epoch in range(n_epochs):\n",
    "        for x, y in trainloader:\n",
    "            optimizer.zero_grad()\n",
    "            z = model.forward(x)\n",
    "            loss = criterion(z, y)\n",
    "            loss.backward()\n",
    "            optimizer.step()\n",
    "            \n",
    "            loss_list.append(loss.item())\n",
    "\n",
    "    x_val_tensor = torch.from_numpy(x_val)\n",
    "    z_val = model.forward(x_val_tensor)\n",
    "    max_indexes = torch.argmax(z_val, dim=1)\n",
    "    y_pred = max_indexes.numpy()\n",
    "\n",
    "    accuracy = accuracy_score(y_val, y_pred)\n",
    "    return accuracy\n",
    "\n",
    "# Set up Optuna study\n",
    "study = optuna.create_study(direction='maximize',sampler=optuna.samplers.TPESampler(seed=42))\n",
    "study.optimize(objective, n_trials=50)\n",
    "\n",
    "# Get the best parameters\n",
    "best_params = study.best_params\n",
    "best_accuracy = study.best_value\n",
    "\n",
    "print(\"Best Hyperparameters:\", best_params)\n",
    "print(\"Best Accuracy:\", best_accuracy)"
   ]
  },
  {
   "cell_type": "markdown",
   "id": "bc1e97bc",
   "metadata": {
    "papermill": {
     "duration": 0.120656,
     "end_time": "2023-12-22T18:09:53.990507",
     "exception": false,
     "start_time": "2023-12-22T18:09:53.869851",
     "status": "completed"
    },
    "tags": []
   },
   "source": [
    "We will stay with mean embedding"
   ]
  },
  {
   "cell_type": "markdown",
   "id": "2c52697f",
   "metadata": {
    "papermill": {
     "duration": 0.122458,
     "end_time": "2023-12-22T18:09:54.235756",
     "exception": false,
     "start_time": "2023-12-22T18:09:54.113298",
     "status": "completed"
    },
    "tags": []
   },
   "source": [
    "We will now check CBOW vs skip-gram, since CBOW is the default, just set sg=1 to use skip-gram"
   ]
  },
  {
   "cell_type": "code",
   "execution_count": 48,
   "id": "35bb1f71",
   "metadata": {
    "execution": {
     "iopub.execute_input": "2023-12-22T18:09:54.480945Z",
     "iopub.status.busy": "2023-12-22T18:09:54.480527Z",
     "iopub.status.idle": "2023-12-22T18:34:10.362197Z",
     "shell.execute_reply": "2023-12-22T18:34:10.361069Z"
    },
    "papermill": {
     "duration": 1456.007853,
     "end_time": "2023-12-22T18:34:10.364993",
     "exception": false,
     "start_time": "2023-12-22T18:09:54.357140",
     "status": "completed"
    },
    "tags": []
   },
   "outputs": [
    {
     "name": "stderr",
     "output_type": "stream",
     "text": [
      "[I 2023-12-22 18:09:54,507] A new study created in memory with name: no-name-9bacf3e0-3ed6-4261-977a-a5511e52b387\n",
      "[I 2023-12-22 18:10:24,162] Trial 0 finished with value: 0.3964067278287462 and parameters: {'input_dim': 106, 'hidden_dim': 48, 'window_size': 8, 'b_size': 90, 'learning_rate': 0.020513382630874502, 'negative_slope': 0.055238410897498764, 'dropout_rate': 0.12323344486727979}. Best is trial 0 with value: 0.3964067278287462.\n",
      "[I 2023-12-22 18:11:05,680] Trial 1 finished with value: 0.3929663608562691 and parameters: {'input_dim': 180, 'hidden_dim': 34, 'window_size': 8, 'b_size': 33, 'learning_rate': 0.8706020878304853, 'negative_slope': 0.2514083658321223, 'dropout_rate': 0.18493564427131048}. Best is trial 0 with value: 0.3964067278287462.\n",
      "[I 2023-12-22 18:11:31,742] Trial 2 finished with value: 0.39353975535168195 and parameters: {'input_dim': 77, 'hidden_dim': 17, 'window_size': 5, 'b_size': 82, 'learning_rate': 0.0730953983591291, 'negative_slope': 0.09445645065743215, 'dropout_rate': 0.34474115788895177}. Best is trial 0 with value: 0.3964067278287462.\n",
      "[I 2023-12-22 18:11:57,106] Trial 3 finished with value: 0.39659785932721714 and parameters: {'input_dim': 71, 'hidden_dim': 21, 'window_size': 5, 'b_size': 76, 'learning_rate': 0.3718364180573207, 'negative_slope': 0.06790539682592432, 'dropout_rate': 0.3056937753654446}. Best is trial 3 with value: 0.39659785932721714.\n",
      "[I 2023-12-22 18:12:29,504] Trial 4 finished with value: 0.3878058103975535 and parameters: {'input_dim': 139, 'hidden_dim': 11, 'window_size': 7, 'b_size': 48, 'learning_rate': 0.013492834268013254, 'negative_slope': 0.2851768058034666, 'dropout_rate': 0.4862528132298237}. Best is trial 3 with value: 0.39659785932721714.\n",
      "[I 2023-12-22 18:12:53,299] Trial 5 finished with value: 0.39793577981651373 and parameters: {'input_dim': 172, 'hidden_dim': 22, 'window_size': 3, 'b_size': 98, 'learning_rate': 0.07591104805282695, 'negative_slope': 0.045391088104985856, 'dropout_rate': 0.29807076404450805}. Best is trial 5 with value: 0.39793577981651373.\n",
      "[I 2023-12-22 18:13:19,716] Trial 6 finished with value: 0.3977446483180428 and parameters: {'input_dim': 55, 'hidden_dim': 47, 'window_size': 5, 'b_size': 96, 'learning_rate': 0.0420167205437253, 'negative_slope': 0.16081972614156514, 'dropout_rate': 0.31868411173731187}. Best is trial 5 with value: 0.39793577981651373.\n",
      "[I 2023-12-22 18:13:49,129] Trial 7 finished with value: 0.3948776758409786 and parameters: {'input_dim': 77, 'hidden_dim': 49, 'window_size': 9, 'b_size': 123, 'learning_rate': 0.6161049539380962, 'negative_slope': 0.18339099385521468, 'dropout_rate': 0.4687496940092467}. Best is trial 5 with value: 0.39793577981651373.\n",
      "[I 2023-12-22 18:14:14,788] Trial 8 finished with value: 0.39258409785932724 and parameters: {'input_dim': 63, 'hidden_dim': 18, 'window_size': 3, 'b_size': 63, 'learning_rate': 0.05989003672254302, 'negative_slope': 0.08869121921442981, 'dropout_rate': 0.43149500366077176}. Best is trial 5 with value: 0.39793577981651373.\n",
      "[I 2023-12-22 18:14:45,908] Trial 9 finished with value: 0.393348623853211 and parameters: {'input_dim': 103, 'hidden_dim': 21, 'window_size': 7, 'b_size': 45, 'learning_rate': 0.40215545266902863, 'negative_slope': 0.03161968666713354, 'dropout_rate': 0.4947547746402069}. Best is trial 5 with value: 0.39793577981651373.\n",
      "[I 2023-12-22 18:15:09,748] Trial 10 finished with value: 0.39717125382262997 and parameters: {'input_dim': 197, 'hidden_dim': 32, 'window_size': 3, 'b_size': 116, 'learning_rate': 0.19062374828215087, 'negative_slope': 0.021230307988743036, 'dropout_rate': 0.2324184326866336}. Best is trial 5 with value: 0.39793577981651373.\n",
      "[I 2023-12-22 18:15:39,100] Trial 11 finished with value: 0.39353975535168195 and parameters: {'input_dim': 153, 'hidden_dim': 40, 'window_size': 5, 'b_size': 101, 'learning_rate': 0.037371915976610284, 'negative_slope': 0.14407993006227715, 'dropout_rate': 0.3609641605728968}. Best is trial 5 with value: 0.39793577981651373.\n",
      "[I 2023-12-22 18:16:03,941] Trial 12 finished with value: 0.39717125382262997 and parameters: {'input_dim': 164, 'hidden_dim': 26, 'window_size': 4, 'b_size': 102, 'learning_rate': 0.1505863530759576, 'negative_slope': 0.14928549883954612, 'dropout_rate': 0.258340918010901}. Best is trial 5 with value: 0.39793577981651373.\n",
      "[I 2023-12-22 18:16:32,040] Trial 13 finished with value: 0.3985091743119266 and parameters: {'input_dim': 127, 'hidden_dim': 41, 'window_size': 4, 'b_size': 106, 'learning_rate': 0.03475211410449034, 'negative_slope': 0.12087881286355537, 'dropout_rate': 0.3695456595762009}. Best is trial 13 with value: 0.3985091743119266.\n",
      "[I 2023-12-22 18:16:56,764] Trial 14 finished with value: 0.39717125382262997 and parameters: {'input_dim': 121, 'hidden_dim': 38, 'window_size': 3, 'b_size': 112, 'learning_rate': 0.10624164010756049, 'negative_slope': 0.10831410189647292, 'dropout_rate': 0.38067962835917035}. Best is trial 13 with value: 0.3985091743119266.\n",
      "[I 2023-12-22 18:17:20,830] Trial 15 finished with value: 0.3973623853211009 and parameters: {'input_dim': 167, 'hidden_dim': 26, 'window_size': 4, 'b_size': 127, 'learning_rate': 0.026354747293806734, 'negative_slope': 0.026279638076050733, 'dropout_rate': 0.40064536992631566}. Best is trial 13 with value: 0.3985091743119266.\n",
      "[I 2023-12-22 18:17:46,916] Trial 16 finished with value: 0.3943042813455658 and parameters: {'input_dim': 134, 'hidden_dim': 42, 'window_size': 4, 'b_size': 73, 'learning_rate': 0.014121605456755785, 'negative_slope': 0.010788842341495464, 'dropout_rate': 0.2788221602375691}. Best is trial 13 with value: 0.3985091743119266.\n",
      "[I 2023-12-22 18:18:25,641] Trial 17 finished with value: 0.39545107033639143 and parameters: {'input_dim': 187, 'hidden_dim': 27, 'window_size': 10, 'b_size': 109, 'learning_rate': 0.053154792930382395, 'negative_slope': 0.06738381465129724, 'dropout_rate': 0.3335165327336942}. Best is trial 13 with value: 0.3985091743119266.\n",
      "[I 2023-12-22 18:18:51,407] Trial 18 finished with value: 0.382262996941896 and parameters: {'input_dim': 99, 'hidden_dim': 11, 'window_size': 6, 'b_size': 88, 'learning_rate': 0.010065584837123377, 'negative_slope': 0.12008910506907448, 'dropout_rate': 0.4116892727837296}. Best is trial 13 with value: 0.3985091743119266.\n",
      "[I 2023-12-22 18:19:23,747] Trial 19 finished with value: 0.39870030581039756 and parameters: {'input_dim': 148, 'hidden_dim': 37, 'window_size': 6, 'b_size': 66, 'learning_rate': 0.029039974443545228, 'negative_slope': 0.05639719956430627, 'dropout_rate': 0.3648838960603847}. Best is trial 19 with value: 0.39870030581039756.\n",
      "[I 2023-12-22 18:19:54,412] Trial 20 finished with value: 0.3964067278287462 and parameters: {'input_dim': 136, 'hidden_dim': 36, 'window_size': 6, 'b_size': 64, 'learning_rate': 0.029880920724717534, 'negative_slope': 0.08188075914434605, 'dropout_rate': 0.3692880122935688}. Best is trial 19 with value: 0.39870030581039756.\n",
      "[I 2023-12-22 18:20:24,566] Trial 21 finished with value: 0.4032874617737003 and parameters: {'input_dim': 158, 'hidden_dim': 43, 'window_size': 4, 'b_size': 70, 'learning_rate': 0.04248617371725663, 'negative_slope': 0.05375603786528321, 'dropout_rate': 0.3073489423600342}. Best is trial 21 with value: 0.4032874617737003.\n",
      "[I 2023-12-22 18:20:54,530] Trial 22 finished with value: 0.3941131498470948 and parameters: {'input_dim': 152, 'hidden_dim': 44, 'window_size': 4, 'b_size': 68, 'learning_rate': 0.02416372439062231, 'negative_slope': 0.061780932341202306, 'dropout_rate': 0.340134977750168}. Best is trial 21 with value: 0.4032874617737003.\n",
      "[I 2023-12-22 18:21:29,984] Trial 23 finished with value: 0.3956422018348624 and parameters: {'input_dim': 120, 'hidden_dim': 45, 'window_size': 6, 'b_size': 53, 'learning_rate': 0.039184471736646145, 'negative_slope': 0.042159795492003035, 'dropout_rate': 0.449256971408749}. Best is trial 21 with value: 0.4032874617737003.\n",
      "[I 2023-12-22 18:22:00,065] Trial 24 finished with value: 0.39659785932721714 and parameters: {'input_dim': 152, 'hidden_dim': 38, 'window_size': 4, 'b_size': 56, 'learning_rate': 0.01899611023273874, 'negative_slope': 0.11588930251884011, 'dropout_rate': 0.39667097796198697}. Best is trial 21 with value: 0.4032874617737003.\n",
      "[I 2023-12-22 18:22:28,566] Trial 25 finished with value: 0.39621559633027525 and parameters: {'input_dim': 145, 'hidden_dim': 42, 'window_size': 5, 'b_size': 83, 'learning_rate': 0.03438686707948979, 'negative_slope': 0.0803867450784547, 'dropout_rate': 0.36819742669356237}. Best is trial 21 with value: 0.4032874617737003.\n",
      "[I 2023-12-22 18:23:00,734] Trial 26 finished with value: 0.39353975535168195 and parameters: {'input_dim': 115, 'hidden_dim': 32, 'window_size': 7, 'b_size': 72, 'learning_rate': 0.048527052104910054, 'negative_slope': 0.048584576019003234, 'dropout_rate': 0.32231596867471834}. Best is trial 21 with value: 0.4032874617737003.\n",
      "[I 2023-12-22 18:23:33,560] Trial 27 finished with value: 0.3908639143730887 and parameters: {'input_dim': 91, 'hidden_dim': 37, 'window_size': 6, 'b_size': 61, 'learning_rate': 0.027306971046600702, 'negative_slope': 0.012675109977552244, 'dropout_rate': 0.4437884106748379}. Best is trial 21 with value: 0.4032874617737003.\n",
      "[I 2023-12-22 18:24:04,325] Trial 28 finished with value: 0.39621559633027525 and parameters: {'input_dim': 131, 'hidden_dim': 41, 'window_size': 8, 'b_size': 78, 'learning_rate': 0.05391311240288325, 'negative_slope': 0.103037860535201, 'dropout_rate': 0.4123437805002912}. Best is trial 21 with value: 0.4032874617737003.\n",
      "[I 2023-12-22 18:24:36,259] Trial 29 finished with value: 0.39105504587155965 and parameters: {'input_dim': 163, 'hidden_dim': 50, 'window_size': 9, 'b_size': 89, 'learning_rate': 0.018263353619814345, 'negative_slope': 0.05470923873846864, 'dropout_rate': 0.35036452495681164}. Best is trial 21 with value: 0.4032874617737003.\n",
      "[I 2023-12-22 18:25:09,717] Trial 30 finished with value: 0.39315749235474007 and parameters: {'input_dim': 175, 'hidden_dim': 46, 'window_size': 4, 'b_size': 35, 'learning_rate': 0.03336742978531739, 'negative_slope': 0.04073530899776879, 'dropout_rate': 0.1088017347852453}. Best is trial 21 with value: 0.4032874617737003.\n",
      "[I 2023-12-22 18:25:36,400] Trial 31 finished with value: 0.3918195718654434 and parameters: {'input_dim': 157, 'hidden_dim': 30, 'window_size': 3, 'b_size': 96, 'learning_rate': 0.07678109015514355, 'negative_slope': 0.0425078767341335, 'dropout_rate': 0.2905216331435823}. Best is trial 21 with value: 0.4032874617737003.\n",
      "[I 2023-12-22 18:26:02,119] Trial 32 finished with value: 0.39602446483180426 and parameters: {'input_dim': 178, 'hidden_dim': 35, 'window_size': 3, 'b_size': 105, 'learning_rate': 0.07454010908034898, 'negative_slope': 0.06743250969434098, 'dropout_rate': 0.30433085623535827}. Best is trial 21 with value: 0.4032874617737003.\n",
      "[I 2023-12-22 18:26:29,139] Trial 33 finished with value: 0.3958333333333333 and parameters: {'input_dim': 191, 'hidden_dim': 29, 'window_size': 3, 'b_size': 93, 'learning_rate': 0.022574015209238584, 'negative_slope': 0.03225837913320136, 'dropout_rate': 0.26618031995979513}. Best is trial 21 with value: 0.4032874617737003.\n",
      "[I 2023-12-22 18:26:56,905] Trial 34 finished with value: 0.3977446483180428 and parameters: {'input_dim': 144, 'hidden_dim': 23, 'window_size': 5, 'b_size': 84, 'learning_rate': 0.0417511512488339, 'negative_slope': 0.08670804834256768, 'dropout_rate': 0.32604078760642663}. Best is trial 21 with value: 0.4032874617737003.\n",
      "[I 2023-12-22 18:27:23,188] Trial 35 finished with value: 0.3941131498470948 and parameters: {'input_dim': 176, 'hidden_dim': 33, 'window_size': 4, 'b_size': 114, 'learning_rate': 0.09504085341125183, 'negative_slope': 0.055317097421617736, 'dropout_rate': 0.2996115567236589}. Best is trial 21 with value: 0.4032874617737003.\n",
      "[I 2023-12-22 18:27:49,627] Trial 36 finished with value: 0.39048165137614677 and parameters: {'input_dim': 169, 'hidden_dim': 15, 'window_size': 5, 'b_size': 120, 'learning_rate': 0.05379945467655068, 'negative_slope': 0.07320937063414686, 'dropout_rate': 0.3496805064962903}. Best is trial 21 with value: 0.4032874617737003.\n",
      "[I 2023-12-22 18:28:14,764] Trial 37 finished with value: 0.39392201834862384 and parameters: {'input_dim': 113, 'hidden_dim': 39, 'window_size': 3, 'b_size': 78, 'learning_rate': 0.031165930524292812, 'negative_slope': 0.09535002032895934, 'dropout_rate': 0.23397465698230782}. Best is trial 21 with value: 0.4032874617737003.\n",
      "[I 2023-12-22 18:28:42,141] Trial 38 finished with value: 0.39793577981651373 and parameters: {'input_dim': 130, 'hidden_dim': 44, 'window_size': 5, 'b_size': 70, 'learning_rate': 0.06518899247116335, 'negative_slope': 0.05432861589993481, 'dropout_rate': 0.38598962064154446}. Best is trial 21 with value: 0.4032874617737003.\n",
      "[I 2023-12-22 18:29:19,542] Trial 39 finished with value: 0.3967889908256881 and parameters: {'input_dim': 146, 'hidden_dim': 48, 'window_size': 8, 'b_size': 43, 'learning_rate': 0.0470399081628387, 'negative_slope': 0.12244612477197087, 'dropout_rate': 0.31172963692217137}. Best is trial 21 with value: 0.4032874617737003.\n",
      "[I 2023-12-22 18:29:44,023] Trial 40 finished with value: 0.3912461773700306 and parameters: {'input_dim': 160, 'hidden_dim': 17, 'window_size': 4, 'b_size': 97, 'learning_rate': 0.020267837381956658, 'negative_slope': 0.19756993550044466, 'dropout_rate': 0.16658701374557838}. Best is trial 21 with value: 0.4032874617737003.\n",
      "[I 2023-12-22 18:30:15,148] Trial 41 finished with value: 0.3922018348623853 and parameters: {'input_dim': 127, 'hidden_dim': 44, 'window_size': 5, 'b_size': 70, 'learning_rate': 0.06852278429414228, 'negative_slope': 0.056257817590950145, 'dropout_rate': 0.3824374073462056}. Best is trial 21 with value: 0.4032874617737003.\n",
      "[I 2023-12-22 18:30:44,604] Trial 42 finished with value: 0.3929663608562691 and parameters: {'input_dim': 140, 'hidden_dim': 43, 'window_size': 5, 'b_size': 58, 'learning_rate': 0.04169473473232872, 'negative_slope': 0.028755452690044227, 'dropout_rate': 0.3449953656264931}. Best is trial 21 with value: 0.4032874617737003.\n",
      "[I 2023-12-22 18:31:18,079] Trial 43 finished with value: 0.3958333333333333 and parameters: {'input_dim': 127, 'hidden_dim': 47, 'window_size': 6, 'b_size': 66, 'learning_rate': 0.06063217809929713, 'negative_slope': 0.06965706198671838, 'dropout_rate': 0.3252452702097397}. Best is trial 21 with value: 0.4032874617737003.\n",
      "[I 2023-12-22 18:31:46,395] Trial 44 finished with value: 0.39258409785932724 and parameters: {'input_dim': 171, 'hidden_dim': 40, 'window_size': 5, 'b_size': 85, 'learning_rate': 0.0865634940111582, 'negative_slope': 0.09501537827109664, 'dropout_rate': 0.38525001418022425}. Best is trial 21 with value: 0.4032874617737003.\n",
      "[I 2023-12-22 18:32:14,245] Trial 45 finished with value: 0.39755351681957185 and parameters: {'input_dim': 183, 'hidden_dim': 34, 'window_size': 4, 'b_size': 107, 'learning_rate': 0.11095095761547288, 'negative_slope': 0.07605187958046349, 'dropout_rate': 0.35503586243135216}. Best is trial 21 with value: 0.4032874617737003.\n",
      "[I 2023-12-22 18:32:44,487] Trial 46 finished with value: 0.38990825688073394 and parameters: {'input_dim': 110, 'hidden_dim': 21, 'window_size': 7, 'b_size': 74, 'learning_rate': 0.05910944422429894, 'negative_slope': 0.03960991149377993, 'dropout_rate': 0.3639132271698513}. Best is trial 21 with value: 0.4032874617737003.\n",
      "[I 2023-12-22 18:33:12,133] Trial 47 finished with value: 0.39067278287461776 and parameters: {'input_dim': 94, 'hidden_dim': 24, 'window_size': 3, 'b_size': 51, 'learning_rate': 0.04337163393820145, 'negative_slope': 0.01994835128199047, 'dropout_rate': 0.28875213266901545}. Best is trial 21 with value: 0.4032874617737003.\n",
      "[I 2023-12-22 18:33:40,614] Trial 48 finished with value: 0.3929663608562691 and parameters: {'input_dim': 149, 'hidden_dim': 41, 'window_size': 4, 'b_size': 60, 'learning_rate': 0.03548202816485526, 'negative_slope': 0.0547411040998265, 'dropout_rate': 0.31325124139916294}. Best is trial 21 with value: 0.4032874617737003.\n",
      "[I 2023-12-22 18:34:10,356] Trial 49 finished with value: 0.3937308868501529 and parameters: {'input_dim': 199, 'hidden_dim': 14, 'window_size': 6, 'b_size': 102, 'learning_rate': 0.06644408199995129, 'negative_slope': 0.03130833444225966, 'dropout_rate': 0.33754572930438353}. Best is trial 21 with value: 0.4032874617737003.\n"
     ]
    },
    {
     "name": "stdout",
     "output_type": "stream",
     "text": [
      "Best Hyperparameters: {'input_dim': 158, 'hidden_dim': 43, 'window_size': 4, 'b_size': 70, 'learning_rate': 0.04248617371725663, 'negative_slope': 0.05375603786528321, 'dropout_rate': 0.3073489423600342}\n",
      "Best Accuracy: 0.4032874617737003\n"
     ]
    }
   ],
   "source": [
    "import optuna\n",
    "import torch\n",
    "import torch.nn as nn\n",
    "import torch.optim as optim\n",
    "from torch.utils.data import Dataset, DataLoader\n",
    "import pandas as pd\n",
    "import numpy as np\n",
    "from sklearn.metrics import accuracy_score\n",
    "from nltk.tokenize import word_tokenize\n",
    "from gensim.models import Word2Vec\n",
    "import multiprocessing\n",
    "from collections.abc import Mapping\n",
    "from torch.nn import functional as F\n",
    "num_cores = multiprocessing.cpu_count()\n",
    "n_epochs=11\n",
    "criterion=nn.MultiMarginLoss()\n",
    "\n",
    "\n",
    "class Data(Dataset):\n",
    "    def __init__(self, x, y, input_dim):\n",
    "        self.x = torch.from_numpy(x).float()\n",
    "        self.y = torch.from_numpy(y)\n",
    "        self.len = self.x.shape[0]\n",
    "        self.input_dim = input_dim\n",
    "\n",
    "    def __getitem__(self, index):\n",
    "        return self.x[index, :self.input_dim], self.y[index]\n",
    "\n",
    "    def __len__(self):\n",
    "        return self.len\n",
    "\n",
    "class Net(nn.Module):\n",
    "    def __init__(self, D_in, H, D_out, negative_slope=0.01, dropout_rate=0.5):\n",
    "        super(Net, self).__init__()\n",
    "        self.linear1 = nn.Linear(D_in, H)\n",
    "        self.bn1 = nn.BatchNorm1d(H)\n",
    "        self.dropout = nn.Dropout(dropout_rate)\n",
    "        self.linear2 = nn.Linear(H, D_out)\n",
    "        self.negative_slope = negative_slope\n",
    "\n",
    "    def forward(self, x):\n",
    "        # Using LeakyReLU instead of ReLU\n",
    "        x = F.leaky_relu(self.bn1(self.linear1(x)), self.negative_slope)  # default slope is 0.01\n",
    "        x = self.dropout(x)\n",
    "        x = self.linear2(x)\n",
    "        x = F.softmax(x, dim=1)\n",
    "        return x\n",
    "    \n",
    "def objective(trial):\n",
    "    input_dim = trial.suggest_int('input_dim', 50, 200)\n",
    "    hidden_dim = trial.suggest_int('hidden_dim', 10, 50)\n",
    "    window_size = trial.suggest_int('window_size', 3, 10)\n",
    "    b_size = trial.suggest_int('b_size', 32, 128)\n",
    "    learning_rate = trial.suggest_float('learning_rate', 1e-2, 1, log=True)\n",
    "    negative_slope = trial.suggest_float('negative_slope', 0.01, 0.3)\n",
    "    dropout_rate = trial.suggest_float('dropout_rate', 0.1, 0.5)\n",
    "    model = Net(input_dim, hidden_dim, output_dim, negative_slope=negative_slope, dropout_rate=dropout_rate)\n",
    "    optimizer=torch.optim.SGD(model.parameters(), lr=learning_rate)\n",
    "    # Choose optimizer\n",
    "    \n",
    "    \n",
    "\n",
    "    word2vec_model = Word2Vec(sentences=data['tokenized_text'].tolist(), vector_size=input_dim, window=window_size, min_count=1,sg=1, workers=num_cores)\n",
    "    \n",
    "    data['mean_embedding'] = data['tokenized_text'].apply(lambda tokens: np.mean([word2vec_model.wv[word] for word in tokens if word in word2vec_model.wv], axis=0))\n",
    "    valid['mean_embedding'] = valid['tokenized_text'].apply(lambda tokens: np.mean([word2vec_model.wv[word] for word in tokens if word in word2vec_model.wv], axis=0))\n",
    "    x_train = data['mean_embedding']\n",
    "    x_val = valid['mean_embedding']\n",
    "    y_val = valid['Sentiment']\n",
    "    y_train = data['Sentiment']\n",
    "    \n",
    "    x_train = np.vstack(x_train).astype(np.float32)\n",
    "    x_val = np.vstack(x_val).astype(np.float32)\n",
    "    \n",
    "    \n",
    "    y_val = y_val.values\n",
    "    y_train = y_train.values\n",
    "    \n",
    "\n",
    "    data_set = Data(x_train, y_train, input_dim)\n",
    "    trainloader = DataLoader(dataset=data_set, batch_size=b_size, shuffle=True)\n",
    "   \n",
    "    loss_list = []\n",
    "\n",
    "    for epoch in range(n_epochs):\n",
    "        for x, y in trainloader:\n",
    "            optimizer.zero_grad()\n",
    "            z = model.forward(x)\n",
    "            loss = criterion(z, y)\n",
    "            loss.backward()\n",
    "            optimizer.step()\n",
    "            \n",
    "            loss_list.append(loss.item())\n",
    "\n",
    "    x_val_tensor = torch.from_numpy(x_val)\n",
    "    z_val = model.forward(x_val_tensor)\n",
    "    max_indexes = torch.argmax(z_val, dim=1)\n",
    "    y_pred = max_indexes.numpy()\n",
    "\n",
    "    accuracy = accuracy_score(y_val, y_pred)\n",
    "    return accuracy\n",
    "\n",
    "# Set up Optuna study\n",
    "study = optuna.create_study(direction='maximize',sampler=optuna.samplers.TPESampler(seed=42))\n",
    "study.optimize(objective, n_trials=50)\n",
    "\n",
    "# Get the best parameters\n",
    "best_params = study.best_params\n",
    "best_accuracy = study.best_value\n",
    "\n",
    "print(\"Best Hyperparameters:\", best_params)\n",
    "print(\"Best Accuracy:\", best_accuracy)"
   ]
  },
  {
   "cell_type": "markdown",
   "id": "398e74e8",
   "metadata": {
    "papermill": {
     "duration": 0.128473,
     "end_time": "2023-12-22T18:34:10.621919",
     "exception": false,
     "start_time": "2023-12-22T18:34:10.493446",
     "status": "completed"
    },
    "tags": []
   },
   "source": [
    "Ok so CBOW is better, hold the varaibles and model so far"
   ]
  },
  {
   "cell_type": "markdown",
   "id": "a5c24d96",
   "metadata": {
    "papermill": {
     "duration": 0.128407,
     "end_time": "2023-12-22T18:34:10.878669",
     "exception": false,
     "start_time": "2023-12-22T18:34:10.750262",
     "status": "completed"
    },
    "tags": []
   },
   "source": [
    "Calculate scores of our model so far"
   ]
  },
  {
   "cell_type": "code",
   "execution_count": 49,
   "id": "8db70368",
   "metadata": {
    "execution": {
     "iopub.execute_input": "2023-12-22T18:34:11.139631Z",
     "iopub.status.busy": "2023-12-22T18:34:11.138685Z",
     "iopub.status.idle": "2023-12-22T18:34:31.714659Z",
     "shell.execute_reply": "2023-12-22T18:34:31.713804Z"
    },
    "papermill": {
     "duration": 20.709957,
     "end_time": "2023-12-22T18:34:31.717011",
     "exception": false,
     "start_time": "2023-12-22T18:34:11.007054",
     "status": "completed"
    },
    "tags": []
   },
   "outputs": [
    {
     "name": "stdout",
     "output_type": "stream",
     "text": [
      "Accuracy: 0.38570\n",
      "Precision: 0.39104\n",
      "Recall: 0.38570\n",
      "F1 Score: 0.37479\n"
     ]
    }
   ],
   "source": [
    "from sklearn.metrics import accuracy_score, precision_score, recall_score, f1_score\n",
    "import optuna\n",
    "import torch\n",
    "import torch.nn as nn\n",
    "import torch.optim as optim\n",
    "from torch.utils.data import Dataset, DataLoader\n",
    "import pandas as pd\n",
    "import numpy as np\n",
    "from sklearn.metrics import accuracy_score\n",
    "from nltk.tokenize import word_tokenize\n",
    "from gensim.models import Word2Vec\n",
    "import multiprocessing\n",
    "from collections.abc import Mapping\n",
    "from torch.nn import functional as F\n",
    "input_dim = 79\n",
    "hidden_dim = 13\n",
    "window_size = 3\n",
    "b_size = 60\n",
    "learning_rate = 0.08404865818989572\n",
    "negative_slope = 0.0548250323680545\n",
    "dropout_rate = 0.39062278420204216\n",
    "n_epochs=11\n",
    "\n",
    "class Data(Dataset):\n",
    "    def __init__(self, x, y, input_dim):\n",
    "        self.x = torch.from_numpy(x).float()\n",
    "        self.y = torch.from_numpy(y)\n",
    "        self.len = self.x.shape[0]\n",
    "        self.input_dim = input_dim\n",
    "\n",
    "    def __getitem__(self, index):\n",
    "        return self.x[index, :self.input_dim], self.y[index]\n",
    "\n",
    "    def __len__(self):\n",
    "        return self.len\n",
    "\n",
    "class Net(nn.Module):\n",
    "    def __init__(self, D_in, H, D_out, negative_slope=0.01, dropout_rate=0.5):\n",
    "        super(Net, self).__init__()\n",
    "        self.linear1 = nn.Linear(D_in, H)\n",
    "        self.bn1 = nn.BatchNorm1d(H)\n",
    "        self.dropout = nn.Dropout(dropout_rate)\n",
    "        self.linear2 = nn.Linear(H, D_out)\n",
    "        self.negative_slope = negative_slope\n",
    "\n",
    "    def forward(self, x):\n",
    "        # Using LeakyReLU instead of ReLU\n",
    "        x = F.leaky_relu(self.bn1(self.linear1(x)), self.negative_slope)  # default slope is 0.01\n",
    "        x = self.dropout(x)\n",
    "        x = self.linear2(x)\n",
    "        x = F.softmax(x, dim=1)\n",
    "        return x\n",
    "num_cores = multiprocessing.cpu_count()\n",
    "criterion=nn.MultiMarginLoss()\n",
    "model = Net(input_dim, hidden_dim, output_dim, negative_slope=negative_slope, dropout_rate=dropout_rate)\n",
    "optimizer=torch.optim.SGD(model.parameters(), lr=learning_rate)\n",
    "word2vec_model = Word2Vec(sentences=data['tokenized_text'].tolist(), vector_size=input_dim, window=window_size, min_count=1, workers=num_cores)\n",
    "data['mean_embedding'] = data['tokenized_text'].apply(lambda tokens: np.mean([word2vec_model.wv[word] for word in tokens if word in word2vec_model.wv], axis=0))\n",
    "valid['mean_embedding'] = valid['tokenized_text'].apply(lambda tokens: np.mean([word2vec_model.wv[word] for word in tokens if word in word2vec_model.wv], axis=0))\n",
    "x_train = data['mean_embedding']\n",
    "x_val = valid['mean_embedding']\n",
    "y_val = valid['Sentiment']\n",
    "y_train = data['Sentiment']\n",
    "    \n",
    "x_train = np.vstack(x_train).astype(np.float32)\n",
    "x_val = np.vstack(x_val).astype(np.float32)\n",
    "    \n",
    "    \n",
    "y_val = y_val.values\n",
    "y_train = y_train.values\n",
    "data_set = Data(x_train, y_train, input_dim)\n",
    "trainloader = DataLoader(dataset=data_set, batch_size=b_size, shuffle=True)\n",
    "   \n",
    "loss_list = []\n",
    "\n",
    "for epoch in range(n_epochs):\n",
    "    for x, y in trainloader:\n",
    "        optimizer.zero_grad()\n",
    "        z = model.forward(x)\n",
    "        loss = criterion(z, y)\n",
    "        loss.backward()\n",
    "        optimizer.step()\n",
    "            \n",
    "        loss_list.append(loss.item())\n",
    "\n",
    "x_val_tensor = torch.from_numpy(x_val)\n",
    "z_val = model.forward(x_val_tensor)\n",
    "max_indexes = torch.argmax(z_val, dim=1)\n",
    "\n",
    "y_pred = max_indexes.numpy()\n",
    "accuracy = accuracy_score(y_val, y_pred)\n",
    "precision = precision_score(y_val, y_pred, average='weighted')\n",
    "recall = recall_score(y_val, y_pred, average='weighted')\n",
    "f1 = f1_score(y_val, y_pred, average='weighted')\n",
    "\n",
    "# Print the results\n",
    "print(f'Accuracy: {accuracy:.5f}')\n",
    "print(f'Precision: {precision:.5f}')\n",
    "print(f'Recall: {recall:.5f}')\n",
    "print(f'F1 Score: {f1:.5f}')"
   ]
  },
  {
   "cell_type": "markdown",
   "id": "793b4ea4",
   "metadata": {
    "papermill": {
     "duration": 0.129029,
     "end_time": "2023-12-22T18:34:31.975318",
     "exception": false,
     "start_time": "2023-12-22T18:34:31.846289",
     "status": "completed"
    },
    "tags": []
   },
   "source": [
    "Some more optuna studies, in the first we keep fixed decimals and in the second we keep fixed integers"
   ]
  },
  {
   "cell_type": "code",
   "execution_count": 50,
   "id": "971a0866",
   "metadata": {
    "execution": {
     "iopub.execute_input": "2023-12-22T18:34:32.234183Z",
     "iopub.status.busy": "2023-12-22T18:34:32.233569Z",
     "iopub.status.idle": "2023-12-22T18:41:21.504302Z",
     "shell.execute_reply": "2023-12-22T18:41:21.502966Z"
    },
    "papermill": {
     "duration": 409.527618,
     "end_time": "2023-12-22T18:41:21.632811",
     "exception": false,
     "start_time": "2023-12-22T18:34:32.105193",
     "status": "completed"
    },
    "tags": []
   },
   "outputs": [
    {
     "name": "stderr",
     "output_type": "stream",
     "text": [
      "[I 2023-12-22 18:34:32,259] A new study created in memory with name: no-name-36e3826c-04a1-42fc-9831-da187be7b13a\n",
      "[I 2023-12-22 18:34:51,896] Trial 0 finished with value: 0.39908256880733944 and parameters: {'input_dim': 106, 'hidden_dim': 48, 'window_size': 8, 'b_size': 90}. Best is trial 0 with value: 0.39908256880733944.\n",
      "[I 2023-12-22 18:35:09,312] Trial 1 finished with value: 0.39239296636085624 and parameters: {'input_dim': 73, 'hidden_dim': 16, 'window_size': 3, 'b_size': 116}. Best is trial 0 with value: 0.39908256880733944.\n",
      "[I 2023-12-22 18:35:28,074] Trial 2 finished with value: 0.39315749235474007 and parameters: {'input_dim': 140, 'hidden_dim': 39, 'window_size': 3, 'b_size': 126}. Best is trial 0 with value: 0.39908256880733944.\n",
      "[I 2023-12-22 18:35:51,310] Trial 3 finished with value: 0.3944954128440367 and parameters: {'input_dim': 175, 'hidden_dim': 18, 'window_size': 4, 'b_size': 49}. Best is trial 0 with value: 0.39908256880733944.\n",
      "[I 2023-12-22 18:36:13,309] Trial 4 finished with value: 0.39239296636085624 and parameters: {'input_dim': 95, 'hidden_dim': 31, 'window_size': 6, 'b_size': 60}. Best is trial 0 with value: 0.39908256880733944.\n",
      "[I 2023-12-22 18:36:34,648] Trial 5 finished with value: 0.3958333333333333 and parameters: {'input_dim': 142, 'hidden_dim': 15, 'window_size': 5, 'b_size': 67}. Best is trial 0 with value: 0.39908256880733944.\n",
      "[I 2023-12-22 18:36:55,231] Trial 6 finished with value: 0.39812691131498473 and parameters: {'input_dim': 118, 'hidden_dim': 42, 'window_size': 4, 'b_size': 81}. Best is trial 0 with value: 0.39908256880733944.\n",
      "[I 2023-12-22 18:37:17,705] Trial 7 finished with value: 0.3918195718654434 and parameters: {'input_dim': 139, 'hidden_dim': 11, 'window_size': 7, 'b_size': 48}. Best is trial 0 with value: 0.39908256880733944.\n",
      "[I 2023-12-22 18:37:36,710] Trial 8 finished with value: 0.39258409785932724 and parameters: {'input_dim': 59, 'hidden_dim': 48, 'window_size': 10, 'b_size': 110}. Best is trial 0 with value: 0.39908256880733944.\n",
      "[I 2023-12-22 18:37:57,275] Trial 9 finished with value: 0.39793577981651373 and parameters: {'input_dim': 95, 'hidden_dim': 14, 'window_size': 8, 'b_size': 74}. Best is trial 0 with value: 0.39908256880733944.\n",
      "[I 2023-12-22 18:38:17,060] Trial 10 finished with value: 0.39239296636085624 and parameters: {'input_dim': 192, 'hidden_dim': 29, 'window_size': 10, 'b_size': 94}. Best is trial 0 with value: 0.39908256880733944.\n",
      "[I 2023-12-22 18:38:36,477] Trial 11 finished with value: 0.3956422018348624 and parameters: {'input_dim': 109, 'hidden_dim': 47, 'window_size': 7, 'b_size': 91}. Best is trial 0 with value: 0.39908256880733944.\n",
      "[I 2023-12-22 18:38:56,235] Trial 12 finished with value: 0.39621559633027525 and parameters: {'input_dim': 114, 'hidden_dim': 40, 'window_size': 8, 'b_size': 89}. Best is trial 0 with value: 0.39908256880733944.\n",
      "[I 2023-12-22 18:39:15,045] Trial 13 finished with value: 0.38742354740061163 and parameters: {'input_dim': 82, 'hidden_dim': 40, 'window_size': 5, 'b_size': 105}. Best is trial 0 with value: 0.39908256880733944.\n",
      "[I 2023-12-22 18:39:35,826] Trial 14 finished with value: 0.3956422018348624 and parameters: {'input_dim': 162, 'hidden_dim': 50, 'window_size': 9, 'b_size': 82}. Best is trial 0 with value: 0.39908256880733944.\n",
      "[I 2023-12-22 18:39:55,376] Trial 15 finished with value: 0.39105504587155965 and parameters: {'input_dim': 126, 'hidden_dim': 35, 'window_size': 6, 'b_size': 99}. Best is trial 0 with value: 0.39908256880733944.\n",
      "[I 2023-12-22 18:40:16,146] Trial 16 finished with value: 0.3937308868501529 and parameters: {'input_dim': 120, 'hidden_dim': 45, 'window_size': 8, 'b_size': 77}. Best is trial 0 with value: 0.39908256880733944.\n",
      "[I 2023-12-22 18:40:40,806] Trial 17 finished with value: 0.3878058103975535 and parameters: {'input_dim': 96, 'hidden_dim': 26, 'window_size': 5, 'b_size': 35}. Best is trial 0 with value: 0.39908256880733944.\n",
      "[I 2023-12-22 18:41:01,482] Trial 18 finished with value: 0.3941131498470948 and parameters: {'input_dim': 53, 'hidden_dim': 43, 'window_size': 4, 'b_size': 62}. Best is trial 0 with value: 0.39908256880733944.\n",
      "[I 2023-12-22 18:41:21,495] Trial 19 finished with value: 0.3902905198776758 and parameters: {'input_dim': 160, 'hidden_dim': 22, 'window_size': 9, 'b_size': 84}. Best is trial 0 with value: 0.39908256880733944.\n"
     ]
    },
    {
     "name": "stdout",
     "output_type": "stream",
     "text": [
      "Best Hyperparameters: {'input_dim': 106, 'hidden_dim': 48, 'window_size': 8, 'b_size': 90}\n",
      "Best Accuracy: 0.39908256880733944\n"
     ]
    }
   ],
   "source": [
    "import optuna\n",
    "import torch\n",
    "import torch.nn as nn\n",
    "import torch.optim as optim\n",
    "from torch.utils.data import Dataset, DataLoader\n",
    "import pandas as pd\n",
    "import numpy as np\n",
    "from sklearn.metrics import accuracy_score\n",
    "from nltk.tokenize import word_tokenize\n",
    "from gensim.models import Word2Vec\n",
    "import multiprocessing\n",
    "from collections.abc import Mapping\n",
    "from torch.nn import functional as F\n",
    "num_cores = multiprocessing.cpu_count()\n",
    "n_epochs=11\n",
    "criterion=nn.MultiMarginLoss()\n",
    "\n",
    "learning_rate = 0.08404865818989572\n",
    "negative_slope = 0.0548250323680545\n",
    "dropout_rate = 0.39062278420204216\n",
    "n_epochs=11\n",
    "\n",
    "class Data(Dataset):\n",
    "    def __init__(self, x, y, input_dim):\n",
    "        self.x = torch.from_numpy(x).float()\n",
    "        self.y = torch.from_numpy(y)\n",
    "        self.len = self.x.shape[0]\n",
    "        self.input_dim = input_dim\n",
    "\n",
    "    def __getitem__(self, index):\n",
    "        return self.x[index, :self.input_dim], self.y[index]\n",
    "\n",
    "    def __len__(self):\n",
    "        return self.len\n",
    "\n",
    "class Net(nn.Module):\n",
    "    def __init__(self, D_in, H, D_out, negative_slope=0.01, dropout_rate=0.5):\n",
    "        super(Net, self).__init__()\n",
    "        self.linear1 = nn.Linear(D_in, H)\n",
    "        self.bn1 = nn.BatchNorm1d(H)\n",
    "        self.dropout = nn.Dropout(dropout_rate)\n",
    "        self.linear2 = nn.Linear(H, D_out)\n",
    "        self.negative_slope = negative_slope\n",
    "\n",
    "    def forward(self, x):\n",
    "        # Using LeakyReLU instead of ReLU\n",
    "        x = F.leaky_relu(self.bn1(self.linear1(x)), self.negative_slope)  # default slope is 0.01\n",
    "        x = self.dropout(x)\n",
    "        x = self.linear2(x)\n",
    "        x = F.softmax(x, dim=1)\n",
    "        return x\n",
    "    \n",
    "def objective(trial):\n",
    "    input_dim = trial.suggest_int('input_dim', 50, 200)\n",
    "    hidden_dim = trial.suggest_int('hidden_dim', 10, 50)\n",
    "    window_size = trial.suggest_int('window_size', 3, 10)\n",
    "    b_size = trial.suggest_int('b_size', 32, 128)\n",
    "    model = Net(input_dim, hidden_dim, output_dim, negative_slope=negative_slope, dropout_rate=dropout_rate)\n",
    "    optimizer=torch.optim.SGD(model.parameters(), lr=learning_rate)\n",
    "    # Choose optimizer\n",
    "    \n",
    "    \n",
    "\n",
    "    word2vec_model = Word2Vec(sentences=data['tokenized_text'].tolist(), vector_size=input_dim, window=window_size, min_count=1, workers=num_cores)\n",
    "    \n",
    "    data['mean_embedding'] = data['tokenized_text'].apply(lambda tokens: np.mean([word2vec_model.wv[word] for word in tokens if word in word2vec_model.wv], axis=0))\n",
    "    valid['mean_embedding'] = valid['tokenized_text'].apply(lambda tokens: np.mean([word2vec_model.wv[word] for word in tokens if word in word2vec_model.wv], axis=0))\n",
    "    x_train = data['mean_embedding']\n",
    "    x_val = valid['mean_embedding']\n",
    "    y_val = valid['Sentiment']\n",
    "    y_train = data['Sentiment']\n",
    "    \n",
    "    x_train = np.vstack(x_train).astype(np.float32)\n",
    "    x_val = np.vstack(x_val).astype(np.float32)\n",
    "    \n",
    "    \n",
    "    y_val = y_val.values\n",
    "    y_train = y_train.values\n",
    "    \n",
    "\n",
    "    data_set = Data(x_train, y_train, input_dim)\n",
    "    trainloader = DataLoader(dataset=data_set, batch_size=b_size, shuffle=True)\n",
    "   \n",
    "    loss_list = []\n",
    "\n",
    "    for epoch in range(n_epochs):\n",
    "        for x, y in trainloader:\n",
    "            optimizer.zero_grad()\n",
    "            z = model.forward(x)\n",
    "            loss = criterion(z, y)\n",
    "            loss.backward()\n",
    "            optimizer.step()\n",
    "            \n",
    "            loss_list.append(loss.item())\n",
    "\n",
    "    x_val_tensor = torch.from_numpy(x_val)\n",
    "    z_val = model.forward(x_val_tensor)\n",
    "    max_indexes = torch.argmax(z_val, dim=1)\n",
    "    y_pred = max_indexes.numpy()\n",
    "\n",
    "    accuracy = accuracy_score(y_val, y_pred)\n",
    "    return accuracy\n",
    "\n",
    "# Set up Optuna study\n",
    "study = optuna.create_study(direction='maximize',sampler=optuna.samplers.TPESampler(seed=42))\n",
    "study.optimize(objective, n_trials=20)\n",
    "\n",
    "# Get the best parameters\n",
    "best_params = study.best_params\n",
    "best_accuracy = study.best_value\n",
    "\n",
    "print(\"Best Hyperparameters:\", best_params)\n",
    "print(\"Best Accuracy:\", best_accuracy)"
   ]
  },
  {
   "cell_type": "code",
   "execution_count": 51,
   "id": "00bc3e16",
   "metadata": {
    "execution": {
     "iopub.execute_input": "2023-12-22T18:41:22.002997Z",
     "iopub.status.busy": "2023-12-22T18:41:22.002548Z",
     "iopub.status.idle": "2023-12-22T18:57:32.023813Z",
     "shell.execute_reply": "2023-12-22T18:57:32.022588Z"
    },
    "papermill": {
     "duration": 970.40017,
     "end_time": "2023-12-22T18:57:32.161509",
     "exception": false,
     "start_time": "2023-12-22T18:41:21.761339",
     "status": "completed"
    },
    "tags": []
   },
   "outputs": [
    {
     "name": "stderr",
     "output_type": "stream",
     "text": [
      "[I 2023-12-22 18:41:22,029] A new study created in memory with name: no-name-ac2c670d-2c6b-44f1-8117-aceee64109b7\n",
      "[I 2023-12-22 18:41:41,392] Trial 0 finished with value: 0.3885703363914373 and parameters: {'learning_rate': 0.05611516415334506, 'negative_slope': 0.28570714885887566, 'dropout_rate': 0.39279757672456206}. Best is trial 0 with value: 0.3885703363914373.\n",
      "[I 2023-12-22 18:42:00,829] Trial 1 finished with value: 0.3952599388379205 and parameters: {'learning_rate': 0.15751320499779725, 'negative_slope': 0.055245405728306586, 'dropout_rate': 0.16239780813448107}. Best is trial 1 with value: 0.3952599388379205.\n",
      "[I 2023-12-22 18:42:20,312] Trial 2 finished with value: 0.38512996941896027 and parameters: {'learning_rate': 0.01306673923805328, 'negative_slope': 0.2611910822747312, 'dropout_rate': 0.34044600469728353}. Best is trial 1 with value: 0.3952599388379205.\n",
      "[I 2023-12-22 18:42:39,698] Trial 3 finished with value: 0.3780581039755352 and parameters: {'learning_rate': 0.2607024758370766, 'negative_slope': 0.01596950334578271, 'dropout_rate': 0.4879639408647978}. Best is trial 1 with value: 0.3952599388379205.\n",
      "[I 2023-12-22 18:42:58,944] Trial 4 finished with value: 0.3918195718654434 and parameters: {'learning_rate': 0.46225890010208287, 'negative_slope': 0.07157834209670008, 'dropout_rate': 0.17272998688284025}. Best is trial 1 with value: 0.3952599388379205.\n",
      "[I 2023-12-22 18:43:18,689] Trial 5 finished with value: 0.39067278287461776 and parameters: {'learning_rate': 0.023270677083837805, 'negative_slope': 0.09823025045826593, 'dropout_rate': 0.3099025726528951}. Best is trial 1 with value: 0.3952599388379205.\n",
      "[I 2023-12-22 18:43:37,678] Trial 6 finished with value: 0.38876146788990823 and parameters: {'learning_rate': 0.0730953983591291, 'negative_slope': 0.09445645065743215, 'dropout_rate': 0.34474115788895177}. Best is trial 1 with value: 0.3952599388379205.\n",
      "[I 2023-12-22 18:43:57,146] Trial 7 finished with value: 0.3878058103975535 and parameters: {'learning_rate': 0.01901024531987036, 'negative_slope': 0.09472194807521325, 'dropout_rate': 0.2465447373174767}. Best is trial 1 with value: 0.3952599388379205.\n",
      "[I 2023-12-22 18:44:16,318] Trial 8 finished with value: 0.39201070336391436 and parameters: {'learning_rate': 0.08168455894760163, 'negative_slope': 0.23770102880397392, 'dropout_rate': 0.1798695128633439}. Best is trial 1 with value: 0.3952599388379205.\n",
      "[I 2023-12-22 18:44:35,889] Trial 9 finished with value: 0.3992737003058104 and parameters: {'learning_rate': 0.10677482709481352, 'negative_slope': 0.18180022496999232, 'dropout_rate': 0.1185801650879991}. Best is trial 9 with value: 0.3992737003058104.\n",
      "[I 2023-12-22 18:44:55,246] Trial 10 finished with value: 0.38685015290519875 and parameters: {'learning_rate': 0.7767353816237056, 'negative_slope': 0.17206676049466552, 'dropout_rate': 0.10301892772651725}. Best is trial 9 with value: 0.3992737003058104.\n",
      "[I 2023-12-22 18:45:14,646] Trial 11 finished with value: 0.39621559633027525 and parameters: {'learning_rate': 0.18865795090233672, 'negative_slope': 0.17837725418509429, 'dropout_rate': 0.11549007998447319}. Best is trial 9 with value: 0.3992737003058104.\n",
      "[I 2023-12-22 18:45:33,815] Trial 12 finished with value: 0.38704128440366975 and parameters: {'learning_rate': 0.1852672621177597, 'negative_slope': 0.18571925719574572, 'dropout_rate': 0.11372209010541334}. Best is trial 9 with value: 0.3992737003058104.\n",
      "[I 2023-12-22 18:45:53,132] Trial 13 finished with value: 0.39239296636085624 and parameters: {'learning_rate': 0.2997858219123054, 'negative_slope': 0.20747699127826227, 'dropout_rate': 0.22868553993477786}. Best is trial 9 with value: 0.3992737003058104.\n",
      "[I 2023-12-22 18:46:12,609] Trial 14 finished with value: 0.3902905198776758 and parameters: {'learning_rate': 0.15130044019859265, 'negative_slope': 0.1496504997489514, 'dropout_rate': 0.10734661789881295}. Best is trial 9 with value: 0.3992737003058104.\n",
      "[I 2023-12-22 18:46:31,943] Trial 15 finished with value: 0.39353975535168195 and parameters: {'learning_rate': 0.04330843599379615, 'negative_slope': 0.1338625686336662, 'dropout_rate': 0.22331784053423187}. Best is trial 9 with value: 0.3992737003058104.\n",
      "[I 2023-12-22 18:46:51,012] Trial 16 finished with value: 0.396980122324159 and parameters: {'learning_rate': 0.0949050809991461, 'negative_slope': 0.2203093509900833, 'dropout_rate': 0.15163896751272624}. Best is trial 9 with value: 0.3992737003058104.\n",
      "[I 2023-12-22 18:47:10,450] Trial 17 finished with value: 0.39506880733944955 and parameters: {'learning_rate': 0.11364695031944959, 'negative_slope': 0.22502113806366736, 'dropout_rate': 0.25553067644681304}. Best is trial 9 with value: 0.3992737003058104.\n",
      "[I 2023-12-22 18:47:29,653] Trial 18 finished with value: 0.3943042813455658 and parameters: {'learning_rate': 0.049575472370886414, 'negative_slope': 0.2955564274118534, 'dropout_rate': 0.15992888030708413}. Best is trial 9 with value: 0.3992737003058104.\n",
      "[I 2023-12-22 18:47:49,681] Trial 19 finished with value: 0.3944954128440367 and parameters: {'learning_rate': 0.09920562866268191, 'negative_slope': 0.19927243487263882, 'dropout_rate': 0.2077155921747506}. Best is trial 9 with value: 0.3992737003058104.\n",
      "[I 2023-12-22 18:48:09,343] Trial 20 finished with value: 0.38990825688073394 and parameters: {'learning_rate': 0.11964440822944998, 'negative_slope': 0.24234130615657012, 'dropout_rate': 0.14016810061617582}. Best is trial 9 with value: 0.3992737003058104.\n",
      "[I 2023-12-22 18:48:28,583] Trial 21 finished with value: 0.39755351681957185 and parameters: {'learning_rate': 0.21223297272287142, 'negative_slope': 0.16959590857765022, 'dropout_rate': 0.12857740970185821}. Best is trial 9 with value: 0.3992737003058104.\n",
      "[I 2023-12-22 18:48:47,545] Trial 22 finished with value: 0.3927752293577982 and parameters: {'learning_rate': 0.2881838632933018, 'negative_slope': 0.2106479881234181, 'dropout_rate': 0.134195539427752}. Best is trial 9 with value: 0.3992737003058104.\n",
      "[I 2023-12-22 18:49:07,023] Trial 23 finished with value: 0.39545107033639143 and parameters: {'learning_rate': 0.07081804930652909, 'negative_slope': 0.1563537250784079, 'dropout_rate': 0.20248103175153623}. Best is trial 9 with value: 0.3992737003058104.\n",
      "[I 2023-12-22 18:49:26,233] Trial 24 finished with value: 0.3956422018348624 and parameters: {'learning_rate': 0.03955076298081961, 'negative_slope': 0.19256670987668453, 'dropout_rate': 0.14534022205433333}. Best is trial 9 with value: 0.3992737003058104.\n",
      "[I 2023-12-22 18:49:46,107] Trial 25 finished with value: 0.3985091743119266 and parameters: {'learning_rate': 0.10923612945018499, 'negative_slope': 0.14110580935113937, 'dropout_rate': 0.18564901182329432}. Best is trial 9 with value: 0.3992737003058104.\n",
      "[I 2023-12-22 18:50:05,193] Trial 26 finished with value: 0.3944954128440367 and parameters: {'learning_rate': 0.13523278059350785, 'negative_slope': 0.13405655646723844, 'dropout_rate': 0.18155049934366374}. Best is trial 9 with value: 0.3992737003058104.\n",
      "[I 2023-12-22 18:50:24,575] Trial 27 finished with value: 0.38914373088685017 and parameters: {'learning_rate': 0.21666999975733559, 'negative_slope': 0.1582629519150773, 'dropout_rate': 0.18945180230591688}. Best is trial 9 with value: 0.3992737003058104.\n",
      "[I 2023-12-22 18:50:43,989] Trial 28 finished with value: 0.39468654434250766 and parameters: {'learning_rate': 0.39799202153811797, 'negative_slope': 0.12929893937990938, 'dropout_rate': 0.10039502534910992}. Best is trial 9 with value: 0.3992737003058104.\n",
      "[I 2023-12-22 18:51:03,237] Trial 29 finished with value: 0.3943042813455658 and parameters: {'learning_rate': 0.06179026754645451, 'negative_slope': 0.1925053131486464, 'dropout_rate': 0.13378108423607632}. Best is trial 9 with value: 0.3992737003058104.\n",
      "[I 2023-12-22 18:51:22,599] Trial 30 finished with value: 0.3948776758409786 and parameters: {'learning_rate': 0.10236651619064069, 'negative_slope': 0.17087104863641628, 'dropout_rate': 0.2613369045749434}. Best is trial 9 with value: 0.3992737003058104.\n",
      "[I 2023-12-22 18:51:41,944] Trial 31 finished with value: 0.3958333333333333 and parameters: {'learning_rate': 0.08747327784907895, 'negative_slope': 0.2133465358301562, 'dropout_rate': 0.1529133521377467}. Best is trial 9 with value: 0.3992737003058104.\n",
      "[I 2023-12-22 18:52:01,497] Trial 32 finished with value: 0.39812691131498473 and parameters: {'learning_rate': 0.14811744538557448, 'negative_slope': 0.27066400891245884, 'dropout_rate': 0.13615613828611883}. Best is trial 9 with value: 0.3992737003058104.\n",
      "[I 2023-12-22 18:52:20,878] Trial 33 finished with value: 0.3943042813455658 and parameters: {'learning_rate': 0.14923704131628576, 'negative_slope': 0.27779447994787837, 'dropout_rate': 0.16974206816500798}. Best is trial 9 with value: 0.3992737003058104.\n",
      "[I 2023-12-22 18:52:39,942] Trial 34 finished with value: 0.39545107033639143 and parameters: {'learning_rate': 0.1692666574942089, 'negative_slope': 0.24080165094913614, 'dropout_rate': 0.12482268575986183}. Best is trial 9 with value: 0.3992737003058104.\n",
      "[I 2023-12-22 18:52:59,294] Trial 35 finished with value: 0.3988914373088685 and parameters: {'learning_rate': 0.1367984408357433, 'negative_slope': 0.2677058216629146, 'dropout_rate': 0.15764285879005982}. Best is trial 9 with value: 0.3992737003058104.\n",
      "[I 2023-12-22 18:53:18,475] Trial 36 finished with value: 0.3943042813455658 and parameters: {'learning_rate': 0.05968053460603584, 'negative_slope': 0.2704089512270867, 'dropout_rate': 0.1947743349524126}. Best is trial 9 with value: 0.3992737003058104.\n",
      "[I 2023-12-22 18:53:38,276] Trial 37 finished with value: 0.38876146788990823 and parameters: {'learning_rate': 0.1201957949808941, 'negative_slope': 0.2606421923090539, 'dropout_rate': 0.16461156384562892}. Best is trial 9 with value: 0.3992737003058104.\n",
      "[I 2023-12-22 18:53:57,979] Trial 38 finished with value: 0.39908256880733944 and parameters: {'learning_rate': 0.13330021019053923, 'negative_slope': 0.2948814203506209, 'dropout_rate': 0.1663125487693532}. Best is trial 9 with value: 0.3992737003058104.\n",
      "[I 2023-12-22 18:54:17,238] Trial 39 finished with value: 0.39602446483180426 and parameters: {'learning_rate': 0.0761805414526949, 'negative_slope': 0.2979774406896317, 'dropout_rate': 0.17024122718255233}. Best is trial 9 with value: 0.3992737003058104.\n",
      "[I 2023-12-22 18:54:36,288] Trial 40 finished with value: 0.39353975535168195 and parameters: {'learning_rate': 0.12528721643499596, 'negative_slope': 0.29250762899335964, 'dropout_rate': 0.2777684905857647}. Best is trial 9 with value: 0.3992737003058104.\n",
      "[I 2023-12-22 18:54:55,630] Trial 41 finished with value: 0.3967889908256881 and parameters: {'learning_rate': 0.1512697800649813, 'negative_slope': 0.2808391908095217, 'dropout_rate': 0.1467626885566937}. Best is trial 9 with value: 0.3992737003058104.\n",
      "[I 2023-12-22 18:55:14,975] Trial 42 finished with value: 0.3964067278287462 and parameters: {'learning_rate': 0.22117010655438793, 'negative_slope': 0.2583528582005831, 'dropout_rate': 0.184596575227011}. Best is trial 9 with value: 0.3992737003058104.\n",
      "[I 2023-12-22 18:55:34,865] Trial 43 finished with value: 0.3918195718654434 and parameters: {'learning_rate': 0.09825352069933375, 'negative_slope': 0.2861718111155023, 'dropout_rate': 0.12166778374273593}. Best is trial 9 with value: 0.3992737003058104.\n",
      "[I 2023-12-22 18:55:54,436] Trial 44 finished with value: 0.4004204892966361 and parameters: {'learning_rate': 0.1706362683105582, 'negative_slope': 0.2717541465247187, 'dropout_rate': 0.20659160596227932}. Best is trial 44 with value: 0.4004204892966361.\n",
      "[I 2023-12-22 18:56:13,973] Trial 45 finished with value: 0.3885703363914373 and parameters: {'learning_rate': 0.1752433883301496, 'negative_slope': 0.2491512649089314, 'dropout_rate': 0.2294098783313146}. Best is trial 44 with value: 0.4004204892966361.\n",
      "[I 2023-12-22 18:56:33,104] Trial 46 finished with value: 0.3916284403669725 and parameters: {'learning_rate': 0.0820407015643071, 'negative_slope': 0.23040551990979502, 'dropout_rate': 0.21494366753152577}. Best is trial 44 with value: 0.4004204892966361.\n",
      "[I 2023-12-22 18:56:52,577] Trial 47 finished with value: 0.38685015290519875 and parameters: {'learning_rate': 0.12207453521940012, 'negative_slope': 0.2558408472456802, 'dropout_rate': 0.1997735240645564}. Best is trial 44 with value: 0.4004204892966361.\n",
      "[I 2023-12-22 18:57:12,397] Trial 48 finished with value: 0.39105504587155965 and parameters: {'learning_rate': 0.25190969920898004, 'negative_slope': 0.2722029923928741, 'dropout_rate': 0.1711866899974584}. Best is trial 44 with value: 0.4004204892966361.\n",
      "[I 2023-12-22 18:57:32,018] Trial 49 finished with value: 0.39468654434250766 and parameters: {'learning_rate': 0.18418350672743827, 'negative_slope': 0.23306737766262733, 'dropout_rate': 0.18546882651465596}. Best is trial 44 with value: 0.4004204892966361.\n"
     ]
    },
    {
     "name": "stdout",
     "output_type": "stream",
     "text": [
      "Best Hyperparameters: {'learning_rate': 0.1706362683105582, 'negative_slope': 0.2717541465247187, 'dropout_rate': 0.20659160596227932}\n",
      "Best Accuracy: 0.4004204892966361\n"
     ]
    }
   ],
   "source": [
    "import optuna\n",
    "import torch\n",
    "import torch.nn as nn\n",
    "import torch.optim as optim\n",
    "from torch.utils.data import Dataset, DataLoader\n",
    "import pandas as pd\n",
    "import numpy as np\n",
    "from sklearn.metrics import accuracy_score\n",
    "from nltk.tokenize import word_tokenize\n",
    "from gensim.models import Word2Vec\n",
    "import multiprocessing\n",
    "from collections.abc import Mapping\n",
    "from torch.nn import functional as F\n",
    "num_cores = multiprocessing.cpu_count()\n",
    "n_epochs=11\n",
    "criterion=nn.MultiMarginLoss()\n",
    "\n",
    "input_dim = 161\n",
    "hidden_dim = 10\n",
    "window_size = 3\n",
    "b_size = 85\n",
    "\n",
    "class Data(Dataset):\n",
    "    def __init__(self, x, y, input_dim):\n",
    "        self.x = torch.from_numpy(x).float()\n",
    "        self.y = torch.from_numpy(y)\n",
    "        self.len = self.x.shape[0]\n",
    "        self.input_dim = input_dim\n",
    "\n",
    "    def __getitem__(self, index):\n",
    "        return self.x[index, :self.input_dim], self.y[index]\n",
    "\n",
    "    def __len__(self):\n",
    "        return self.len\n",
    "\n",
    "class Net(nn.Module):\n",
    "    def __init__(self, D_in, H, D_out, negative_slope=0.01, dropout_rate=0.5):\n",
    "        super(Net, self).__init__()\n",
    "        self.linear1 = nn.Linear(D_in, H)\n",
    "        self.bn1 = nn.BatchNorm1d(H)\n",
    "        self.dropout = nn.Dropout(dropout_rate)\n",
    "        self.linear2 = nn.Linear(H, D_out)\n",
    "        self.negative_slope = negative_slope\n",
    "\n",
    "    def forward(self, x):\n",
    "        # Using LeakyReLU instead of ReLU\n",
    "        x = F.leaky_relu(self.bn1(self.linear1(x)), self.negative_slope)  # default slope is 0.01\n",
    "        x = self.dropout(x)\n",
    "        x = self.linear2(x)\n",
    "        x = F.softmax(x, dim=1)\n",
    "        return x\n",
    "    \n",
    "def objective(trial):\n",
    "    learning_rate = trial.suggest_float('learning_rate', 1e-2, 1, log=True)\n",
    "    negative_slope = trial.suggest_float('negative_slope', 0.01, 0.3)\n",
    "    dropout_rate = trial.suggest_float('dropout_rate', 0.1, 0.5)\n",
    "    model = Net(input_dim, hidden_dim, output_dim, negative_slope=negative_slope, dropout_rate=dropout_rate)\n",
    "    optimizer=torch.optim.SGD(model.parameters(), lr=learning_rate)\n",
    "    # Choose optimizer\n",
    "    \n",
    "    \n",
    "\n",
    "    word2vec_model = Word2Vec(sentences=data['tokenized_text'].tolist(), vector_size=input_dim, window=window_size, min_count=1, workers=num_cores)\n",
    "    \n",
    "    data['mean_embedding'] = data['tokenized_text'].apply(lambda tokens: np.mean([word2vec_model.wv[word] for word in tokens if word in word2vec_model.wv], axis=0))\n",
    "    valid['mean_embedding'] = valid['tokenized_text'].apply(lambda tokens: np.mean([word2vec_model.wv[word] for word in tokens if word in word2vec_model.wv], axis=0))\n",
    "    x_train = data['mean_embedding']\n",
    "    x_val = valid['mean_embedding']\n",
    "    y_val = valid['Sentiment']\n",
    "    y_train = data['Sentiment']\n",
    "    \n",
    "    x_train = np.vstack(x_train).astype(np.float32)\n",
    "    x_val = np.vstack(x_val).astype(np.float32)\n",
    "    \n",
    "    \n",
    "    y_val = y_val.values\n",
    "    y_train = y_train.values\n",
    "    \n",
    "\n",
    "    data_set = Data(x_train, y_train, input_dim)\n",
    "    trainloader = DataLoader(dataset=data_set, batch_size=b_size, shuffle=True)\n",
    "   \n",
    "    loss_list = []\n",
    "\n",
    "    for epoch in range(n_epochs):\n",
    "        for x, y in trainloader:\n",
    "            optimizer.zero_grad()\n",
    "            z = model.forward(x)\n",
    "            loss = criterion(z, y)\n",
    "            loss.backward()\n",
    "            optimizer.step()\n",
    "            \n",
    "            loss_list.append(loss.item())\n",
    "\n",
    "    x_val_tensor = torch.from_numpy(x_val)\n",
    "    z_val = model.forward(x_val_tensor)\n",
    "    max_indexes = torch.argmax(z_val, dim=1)\n",
    "    y_pred = max_indexes.numpy()\n",
    "\n",
    "    accuracy = accuracy_score(y_val, y_pred)\n",
    "    return accuracy\n",
    "\n",
    "# Set up Optuna study\n",
    "study = optuna.create_study(direction='maximize',sampler=optuna.samplers.TPESampler(seed=42))\n",
    "study.optimize(objective, n_trials=50)\n",
    "\n",
    "# Get the best parameters\n",
    "best_params = study.best_params\n",
    "best_accuracy = study.best_value\n",
    "\n",
    "print(\"Best Hyperparameters:\", best_params)\n",
    "print(\"Best Accuracy:\", best_accuracy)"
   ]
  },
  {
   "cell_type": "markdown",
   "id": "16b68132",
   "metadata": {
    "papermill": {
     "duration": 0.134329,
     "end_time": "2023-12-22T18:57:32.431379",
     "exception": false,
     "start_time": "2023-12-22T18:57:32.297050",
     "status": "completed"
    },
    "tags": []
   },
   "source": [
    "One trial with the results we got"
   ]
  },
  {
   "cell_type": "code",
   "execution_count": 52,
   "id": "1cd7916a",
   "metadata": {
    "execution": {
     "iopub.execute_input": "2023-12-22T18:57:32.706250Z",
     "iopub.status.busy": "2023-12-22T18:57:32.705826Z",
     "iopub.status.idle": "2023-12-22T18:57:52.416024Z",
     "shell.execute_reply": "2023-12-22T18:57:52.415206Z"
    },
    "papermill": {
     "duration": 19.850726,
     "end_time": "2023-12-22T18:57:52.418325",
     "exception": false,
     "start_time": "2023-12-22T18:57:32.567599",
     "status": "completed"
    },
    "tags": []
   },
   "outputs": [
    {
     "name": "stdout",
     "output_type": "stream",
     "text": [
      "Accuracy: 0.39717\n",
      "Precision: 0.40147\n",
      "Recall: 0.39717\n",
      "F1 Score: 0.38793\n"
     ]
    }
   ],
   "source": [
    "from sklearn.metrics import accuracy_score, precision_score, recall_score, f1_score\n",
    "import optuna\n",
    "import torch\n",
    "import torch.nn as nn\n",
    "import torch.optim as optim\n",
    "from torch.utils.data import Dataset, DataLoader\n",
    "import pandas as pd\n",
    "import numpy as np\n",
    "from sklearn.metrics import accuracy_score\n",
    "from nltk.tokenize import word_tokenize\n",
    "from gensim.models import Word2Vec\n",
    "import multiprocessing\n",
    "from collections.abc import Mapping\n",
    "from torch.nn import functional as F\n",
    "input_dim = 161\n",
    "hidden_dim = 10\n",
    "window_size = 3\n",
    "b_size = 85\n",
    "learning_rate = 0.021794863937645848\n",
    "negative_slope = 0.2996496033775225\n",
    "dropout_rate = 0.20289531425438015\n",
    "n_epochs=11\n",
    "\n",
    "class Data(Dataset):\n",
    "    def __init__(self, x, y, input_dim):\n",
    "        self.x = torch.from_numpy(x).float()\n",
    "        self.y = torch.from_numpy(y)\n",
    "        self.len = self.x.shape[0]\n",
    "        self.input_dim = input_dim\n",
    "\n",
    "    def __getitem__(self, index):\n",
    "        return self.x[index, :self.input_dim], self.y[index]\n",
    "\n",
    "    def __len__(self):\n",
    "        return self.len\n",
    "\n",
    "class Net(nn.Module):\n",
    "    def __init__(self, D_in, H, D_out, negative_slope=0.01, dropout_rate=0.5):\n",
    "        super(Net, self).__init__()\n",
    "        self.linear1 = nn.Linear(D_in, H)\n",
    "        self.bn1 = nn.BatchNorm1d(H)\n",
    "        self.dropout = nn.Dropout(dropout_rate)\n",
    "        self.linear2 = nn.Linear(H, D_out)\n",
    "        self.negative_slope = negative_slope\n",
    "\n",
    "    def forward(self, x):\n",
    "        # Using LeakyReLU instead of ReLU\n",
    "        x = F.leaky_relu(self.bn1(self.linear1(x)), self.negative_slope)  # default slope is 0.01\n",
    "        x = self.dropout(x)\n",
    "        x = self.linear2(x)\n",
    "        x = F.softmax(x, dim=1)\n",
    "        return x\n",
    "num_cores = multiprocessing.cpu_count()\n",
    "criterion=nn.MultiMarginLoss()\n",
    "model = Net(input_dim, hidden_dim, output_dim, negative_slope=negative_slope, dropout_rate=dropout_rate)\n",
    "optimizer=torch.optim.SGD(model.parameters(), lr=learning_rate)\n",
    "word2vec_model = Word2Vec(sentences=data['tokenized_text'].tolist(), vector_size=input_dim, window=window_size, min_count=1, workers=num_cores)\n",
    "data['mean_embedding'] = data['tokenized_text'].apply(lambda tokens: np.mean([word2vec_model.wv[word] for word in tokens if word in word2vec_model.wv], axis=0))\n",
    "valid['mean_embedding'] = valid['tokenized_text'].apply(lambda tokens: np.mean([word2vec_model.wv[word] for word in tokens if word in word2vec_model.wv], axis=0))\n",
    "x_train = data['mean_embedding']\n",
    "x_val = valid['mean_embedding']\n",
    "y_val = valid['Sentiment']\n",
    "y_train = data['Sentiment']\n",
    "    \n",
    "x_train = np.vstack(x_train).astype(np.float32)\n",
    "x_val = np.vstack(x_val).astype(np.float32)\n",
    "    \n",
    "    \n",
    "y_val = y_val.values\n",
    "y_train = y_train.values\n",
    "data_set = Data(x_train, y_train, input_dim)\n",
    "trainloader = DataLoader(dataset=data_set, batch_size=b_size, shuffle=True)\n",
    "   \n",
    "loss_list = []\n",
    "\n",
    "for epoch in range(n_epochs):\n",
    "    for x, y in trainloader:\n",
    "        optimizer.zero_grad()\n",
    "        z = model.forward(x)\n",
    "        loss = criterion(z, y)\n",
    "        loss.backward()\n",
    "        optimizer.step()\n",
    "            \n",
    "        loss_list.append(loss.item())\n",
    "\n",
    "x_val_tensor = torch.from_numpy(x_val)\n",
    "z_val = model.forward(x_val_tensor)\n",
    "max_indexes = torch.argmax(z_val, dim=1)\n",
    "\n",
    "y_pred = max_indexes.numpy()\n",
    "accuracy = accuracy_score(y_val, y_pred)\n",
    "precision = precision_score(y_val, y_pred, average='weighted')\n",
    "recall = recall_score(y_val, y_pred, average='weighted')\n",
    "f1 = f1_score(y_val, y_pred, average='weighted')\n",
    "\n",
    "# Print the results\n",
    "print(f'Accuracy: {accuracy:.5f}')\n",
    "print(f'Precision: {precision:.5f}')\n",
    "print(f'Recall: {recall:.5f}')\n",
    "print(f'F1 Score: {f1:.5f}')"
   ]
  },
  {
   "cell_type": "markdown",
   "id": "0b8204e9",
   "metadata": {
    "papermill": {
     "duration": 0.134743,
     "end_time": "2023-12-22T18:57:52.689924",
     "exception": false,
     "start_time": "2023-12-22T18:57:52.555181",
     "status": "completed"
    },
    "tags": []
   },
   "source": [
    "I think we should try bigger embedding size"
   ]
  },
  {
   "cell_type": "code",
   "execution_count": 53,
   "id": "e78ce3e4",
   "metadata": {
    "execution": {
     "iopub.execute_input": "2023-12-22T18:57:52.967265Z",
     "iopub.status.busy": "2023-12-22T18:57:52.966811Z",
     "iopub.status.idle": "2023-12-22T19:16:12.006020Z",
     "shell.execute_reply": "2023-12-22T19:16:12.004916Z"
    },
    "papermill": {
     "duration": 1099.319309,
     "end_time": "2023-12-22T19:16:12.147771",
     "exception": false,
     "start_time": "2023-12-22T18:57:52.828462",
     "status": "completed"
    },
    "tags": []
   },
   "outputs": [
    {
     "name": "stderr",
     "output_type": "stream",
     "text": [
      "[I 2023-12-22 18:57:52,993] A new study created in memory with name: no-name-969505e4-bbaa-42bc-8ccb-a235e3adb60d\n",
      "[I 2023-12-22 18:58:15,834] Trial 0 finished with value: 0.39239296636085624 and parameters: {'input_dim': 500}. Best is trial 0 with value: 0.39239296636085624.\n",
      "[I 2023-12-22 18:58:41,339] Trial 1 finished with value: 0.39392201834862384 and parameters: {'input_dim': 961}. Best is trial 1 with value: 0.39392201834862384.\n",
      "[I 2023-12-22 18:59:06,153] Trial 2 finished with value: 0.3964067278287462 and parameters: {'input_dim': 786}. Best is trial 2 with value: 0.3964067278287462.\n",
      "[I 2023-12-22 18:59:30,100] Trial 3 finished with value: 0.39506880733944955 and parameters: {'input_dim': 679}. Best is trial 2 with value: 0.3964067278287462.\n",
      "[I 2023-12-22 18:59:50,962] Trial 4 finished with value: 0.3985091743119266 and parameters: {'input_dim': 324}. Best is trial 4 with value: 0.3985091743119266.\n",
      "[I 2023-12-22 19:00:11,890] Trial 5 finished with value: 0.3929663608562691 and parameters: {'input_dim': 324}. Best is trial 4 with value: 0.3985091743119266.\n",
      "[I 2023-12-22 19:00:32,778] Trial 6 finished with value: 0.39908256880733944 and parameters: {'input_dim': 246}. Best is trial 6 with value: 0.39908256880733944.\n",
      "[I 2023-12-22 19:00:58,868] Trial 7 finished with value: 0.3937308868501529 and parameters: {'input_dim': 893}. Best is trial 6 with value: 0.39908256880733944.\n",
      "[I 2023-12-22 19:01:22,224] Trial 8 finished with value: 0.39506880733944955 and parameters: {'input_dim': 681}. Best is trial 6 with value: 0.39908256880733944.\n",
      "[I 2023-12-22 19:01:47,247] Trial 9 finished with value: 0.3908639143730887 and parameters: {'input_dim': 767}. Best is trial 6 with value: 0.39908256880733944.\n",
      "[I 2023-12-22 19:02:08,175] Trial 10 finished with value: 0.38876146788990823 and parameters: {'input_dim': 216}. Best is trial 6 with value: 0.39908256880733944.\n",
      "[I 2023-12-22 19:02:30,496] Trial 11 finished with value: 0.39048165137614677 and parameters: {'input_dim': 434}. Best is trial 6 with value: 0.39908256880733944.\n",
      "[I 2023-12-22 19:02:50,815] Trial 12 finished with value: 0.3927752293577982 and parameters: {'input_dim': 206}. Best is trial 6 with value: 0.39908256880733944.\n",
      "[I 2023-12-22 19:03:12,938] Trial 13 finished with value: 0.39353975535168195 and parameters: {'input_dim': 373}. Best is trial 6 with value: 0.39908256880733944.\n",
      "[I 2023-12-22 19:03:35,491] Trial 14 finished with value: 0.39201070336391436 and parameters: {'input_dim': 518}. Best is trial 6 with value: 0.39908256880733944.\n",
      "[I 2023-12-22 19:03:56,921] Trial 15 finished with value: 0.3983180428134557 and parameters: {'input_dim': 313}. Best is trial 6 with value: 0.39908256880733944.\n",
      "[I 2023-12-22 19:04:18,206] Trial 16 finished with value: 0.40309633027522934 and parameters: {'input_dim': 276}. Best is trial 16 with value: 0.40309633027522934.\n",
      "[I 2023-12-22 19:04:41,151] Trial 17 finished with value: 0.39717125382262997 and parameters: {'input_dim': 552}. Best is trial 16 with value: 0.40309633027522934.\n",
      "[I 2023-12-22 19:05:02,630] Trial 18 finished with value: 0.3967889908256881 and parameters: {'input_dim': 416}. Best is trial 16 with value: 0.40309633027522934.\n",
      "[I 2023-12-22 19:05:23,345] Trial 19 finished with value: 0.3944954128440367 and parameters: {'input_dim': 235}. Best is trial 16 with value: 0.40309633027522934.\n",
      "[I 2023-12-22 19:05:44,399] Trial 20 finished with value: 0.3927752293577982 and parameters: {'input_dim': 271}. Best is trial 16 with value: 0.40309633027522934.\n",
      "[I 2023-12-22 19:06:05,844] Trial 21 finished with value: 0.3889525993883792 and parameters: {'input_dim': 369}. Best is trial 16 with value: 0.40309633027522934.\n",
      "[I 2023-12-22 19:06:26,597] Trial 22 finished with value: 0.38952599388379205 and parameters: {'input_dim': 300}. Best is trial 16 with value: 0.40309633027522934.\n",
      "[I 2023-12-22 19:06:49,096] Trial 23 finished with value: 0.39545107033639143 and parameters: {'input_dim': 446}. Best is trial 16 with value: 0.40309633027522934.\n",
      "[I 2023-12-22 19:07:10,413] Trial 24 finished with value: 0.39946483180428133 and parameters: {'input_dim': 355}. Best is trial 16 with value: 0.40309633027522934.\n",
      "[I 2023-12-22 19:07:32,148] Trial 25 finished with value: 0.39717125382262997 and parameters: {'input_dim': 271}. Best is trial 16 with value: 0.40309633027522934.\n",
      "[I 2023-12-22 19:07:54,247] Trial 26 finished with value: 0.3958333333333333 and parameters: {'input_dim': 393}. Best is trial 16 with value: 0.40309633027522934.\n",
      "[I 2023-12-22 19:08:17,380] Trial 27 finished with value: 0.39258409785932724 and parameters: {'input_dim': 586}. Best is trial 16 with value: 0.40309633027522934.\n",
      "[I 2023-12-22 19:08:39,586] Trial 28 finished with value: 0.39545107033639143 and parameters: {'input_dim': 480}. Best is trial 16 with value: 0.40309633027522934.\n",
      "[I 2023-12-22 19:09:00,666] Trial 29 finished with value: 0.39048165137614677 and parameters: {'input_dim': 355}. Best is trial 16 with value: 0.40309633027522934.\n",
      "[I 2023-12-22 19:09:21,785] Trial 30 finished with value: 0.3918195718654434 and parameters: {'input_dim': 270}. Best is trial 16 with value: 0.40309633027522934.\n",
      "[I 2023-12-22 19:09:43,369] Trial 31 finished with value: 0.3929663608562691 and parameters: {'input_dim': 338}. Best is trial 16 with value: 0.40309633027522934.\n",
      "[I 2023-12-22 19:10:04,419] Trial 32 finished with value: 0.38952599388379205 and parameters: {'input_dim': 250}. Best is trial 16 with value: 0.40309633027522934.\n",
      "[I 2023-12-22 19:10:26,958] Trial 33 finished with value: 0.39048165137614677 and parameters: {'input_dim': 483}. Best is trial 16 with value: 0.40309633027522934.\n",
      "[I 2023-12-22 19:10:47,426] Trial 34 finished with value: 0.3943042813455658 and parameters: {'input_dim': 298}. Best is trial 16 with value: 0.40309633027522934.\n",
      "[I 2023-12-22 19:11:09,793] Trial 35 finished with value: 0.3956422018348624 and parameters: {'input_dim': 399}. Best is trial 16 with value: 0.40309633027522934.\n",
      "[I 2023-12-22 19:11:30,677] Trial 36 finished with value: 0.39965596330275227 and parameters: {'input_dim': 202}. Best is trial 16 with value: 0.40309633027522934.\n",
      "[I 2023-12-22 19:11:51,108] Trial 37 finished with value: 0.3922018348623853 and parameters: {'input_dim': 205}. Best is trial 16 with value: 0.40309633027522934.\n",
      "[I 2023-12-22 19:12:15,417] Trial 38 finished with value: 0.38876146788990823 and parameters: {'input_dim': 670}. Best is trial 16 with value: 0.40309633027522934.\n",
      "[I 2023-12-22 19:12:41,352] Trial 39 finished with value: 0.38837920489296635 and parameters: {'input_dim': 944}. Best is trial 16 with value: 0.40309633027522934.\n",
      "[I 2023-12-22 19:13:01,318] Trial 40 finished with value: 0.3992737003058104 and parameters: {'input_dim': 200}. Best is trial 16 with value: 0.40309633027522934.\n",
      "[I 2023-12-22 19:13:22,529] Trial 41 finished with value: 0.3922018348623853 and parameters: {'input_dim': 246}. Best is trial 16 with value: 0.40309633027522934.\n",
      "[I 2023-12-22 19:13:42,524] Trial 42 finished with value: 0.3916284403669725 and parameters: {'input_dim': 203}. Best is trial 16 with value: 0.40309633027522934.\n",
      "[I 2023-12-22 19:14:02,814] Trial 43 finished with value: 0.39545107033639143 and parameters: {'input_dim': 288}. Best is trial 16 with value: 0.40309633027522934.\n",
      "[I 2023-12-22 19:14:23,938] Trial 44 finished with value: 0.39258409785932724 and parameters: {'input_dim': 245}. Best is trial 16 with value: 0.40309633027522934.\n",
      "[I 2023-12-22 19:14:44,908] Trial 45 finished with value: 0.39048165137614677 and parameters: {'input_dim': 327}. Best is trial 16 with value: 0.40309633027522934.\n",
      "[I 2023-12-22 19:15:05,103] Trial 46 finished with value: 0.38704128440366975 and parameters: {'input_dim': 201}. Best is trial 16 with value: 0.40309633027522934.\n",
      "[I 2023-12-22 19:15:30,230] Trial 47 finished with value: 0.3937308868501529 and parameters: {'input_dim': 814}. Best is trial 16 with value: 0.40309633027522934.\n",
      "[I 2023-12-22 19:15:50,543] Trial 48 finished with value: 0.3988914373088685 and parameters: {'input_dim': 237}. Best is trial 16 with value: 0.40309633027522934.\n",
      "[I 2023-12-22 19:16:11,999] Trial 49 finished with value: 0.39315749235474007 and parameters: {'input_dim': 342}. Best is trial 16 with value: 0.40309633027522934.\n"
     ]
    },
    {
     "name": "stdout",
     "output_type": "stream",
     "text": [
      "Best Hyperparameters: {'input_dim': 276}\n",
      "Best Accuracy: 0.40309633027522934\n"
     ]
    }
   ],
   "source": [
    "import optuna\n",
    "import torch\n",
    "import torch.nn as nn\n",
    "import torch.optim as optim\n",
    "from torch.utils.data import Dataset, DataLoader\n",
    "import pandas as pd\n",
    "import numpy as np\n",
    "from sklearn.metrics import accuracy_score\n",
    "from nltk.tokenize import word_tokenize\n",
    "from gensim.models import Word2Vec\n",
    "import multiprocessing\n",
    "from collections.abc import Mapping\n",
    "from torch.nn import functional as F\n",
    "num_cores = multiprocessing.cpu_count()\n",
    "n_epochs=11\n",
    "criterion=nn.MultiMarginLoss()\n",
    "\n",
    "hidden_dim = 10\n",
    "window_size = 3\n",
    "b_size = 85\n",
    "learning_rate = 0.021794863937645848\n",
    "negative_slope = 0.2996496033775225\n",
    "dropout_rate = 0.20289531425438015\n",
    "\n",
    "class Data(Dataset):\n",
    "    def __init__(self, x, y, input_dim):\n",
    "        self.x = torch.from_numpy(x).float()\n",
    "        self.y = torch.from_numpy(y)\n",
    "        self.len = self.x.shape[0]\n",
    "        self.input_dim = input_dim\n",
    "\n",
    "    def __getitem__(self, index):\n",
    "        return self.x[index, :self.input_dim], self.y[index]\n",
    "\n",
    "    def __len__(self):\n",
    "        return self.len\n",
    "\n",
    "class Net(nn.Module):\n",
    "    def __init__(self, D_in, H, D_out, negative_slope=0.01, dropout_rate=0.5):\n",
    "        super(Net, self).__init__()\n",
    "        self.linear1 = nn.Linear(D_in, H)\n",
    "        self.bn1 = nn.BatchNorm1d(H)\n",
    "        self.dropout = nn.Dropout(dropout_rate)\n",
    "        self.linear2 = nn.Linear(H, D_out)\n",
    "        self.negative_slope = negative_slope\n",
    "\n",
    "    def forward(self, x):\n",
    "        # Using LeakyReLU instead of ReLU\n",
    "        x = F.leaky_relu(self.bn1(self.linear1(x)), self.negative_slope)  # default slope is 0.01\n",
    "        x = self.dropout(x)\n",
    "        x = self.linear2(x)\n",
    "        x = F.softmax(x, dim=1)\n",
    "        return x\n",
    "    \n",
    "def objective(trial):\n",
    "    input_dim = trial.suggest_int('input_dim', 200, 1000)\n",
    "    model = Net(input_dim, hidden_dim, output_dim, negative_slope=negative_slope, dropout_rate=dropout_rate)\n",
    "    optimizer=torch.optim.SGD(model.parameters(), lr=learning_rate)\n",
    "    # Choose optimizer\n",
    "    \n",
    "    \n",
    "\n",
    "    word2vec_model = Word2Vec(sentences=data['tokenized_text'].tolist(), vector_size=input_dim, window=window_size, min_count=1, workers=num_cores)\n",
    "    \n",
    "    data['mean_embedding'] = data['tokenized_text'].apply(lambda tokens: np.mean([word2vec_model.wv[word] for word in tokens if word in word2vec_model.wv], axis=0))\n",
    "    valid['mean_embedding'] = valid['tokenized_text'].apply(lambda tokens: np.mean([word2vec_model.wv[word] for word in tokens if word in word2vec_model.wv], axis=0))\n",
    "    x_train = data['mean_embedding']\n",
    "    x_val = valid['mean_embedding']\n",
    "    y_val = valid['Sentiment']\n",
    "    y_train = data['Sentiment']\n",
    "    \n",
    "    x_train = np.vstack(x_train).astype(np.float32)\n",
    "    x_val = np.vstack(x_val).astype(np.float32)\n",
    "    \n",
    "    \n",
    "    y_val = y_val.values\n",
    "    y_train = y_train.values\n",
    "    \n",
    "\n",
    "    data_set = Data(x_train, y_train, input_dim)\n",
    "    trainloader = DataLoader(dataset=data_set, batch_size=b_size, shuffle=True)\n",
    "   \n",
    "    loss_list = []\n",
    "\n",
    "    for epoch in range(n_epochs):\n",
    "        for x, y in trainloader:\n",
    "            optimizer.zero_grad()\n",
    "            z = model.forward(x)\n",
    "            loss = criterion(z, y)\n",
    "            loss.backward()\n",
    "            optimizer.step()\n",
    "            \n",
    "            loss_list.append(loss.item())\n",
    "\n",
    "    x_val_tensor = torch.from_numpy(x_val)\n",
    "    z_val = model.forward(x_val_tensor)\n",
    "    max_indexes = torch.argmax(z_val, dim=1)\n",
    "    y_pred = max_indexes.numpy()\n",
    "\n",
    "    accuracy = accuracy_score(y_val, y_pred)\n",
    "    return accuracy\n",
    "\n",
    "# Set up Optuna study\n",
    "study = optuna.create_study(direction='maximize',sampler=optuna.samplers.TPESampler(seed=42))\n",
    "study.optimize(objective, n_trials=50)\n",
    "\n",
    "# Get the best parameters\n",
    "best_params = study.best_params\n",
    "best_accuracy = study.best_value\n",
    "\n",
    "print(\"Best Hyperparameters:\", best_params)\n",
    "print(\"Best Accuracy:\", best_accuracy)"
   ]
  },
  {
   "cell_type": "markdown",
   "id": "1612f37b",
   "metadata": {
    "papermill": {
     "duration": 0.137266,
     "end_time": "2023-12-22T19:16:12.426614",
     "exception": false,
     "start_time": "2023-12-22T19:16:12.289348",
     "status": "completed"
    },
    "tags": []
   },
   "source": [
    "Indeed, that helped, our final model is this"
   ]
  },
  {
   "cell_type": "code",
   "execution_count": 54,
   "id": "2f7890ec",
   "metadata": {
    "execution": {
     "iopub.execute_input": "2023-12-22T19:16:12.705219Z",
     "iopub.status.busy": "2023-12-22T19:16:12.704792Z",
     "iopub.status.idle": "2023-12-22T19:16:34.433496Z",
     "shell.execute_reply": "2023-12-22T19:16:34.432228Z"
    },
    "papermill": {
     "duration": 21.870644,
     "end_time": "2023-12-22T19:16:34.435944",
     "exception": false,
     "start_time": "2023-12-22T19:16:12.565300",
     "status": "completed"
    },
    "tags": []
   },
   "outputs": [
    {
     "name": "stdout",
     "output_type": "stream",
     "text": [
      "Accuracy: 0.39144\n",
      "Precision: 0.39674\n",
      "Recall: 0.39144\n",
      "F1 Score: 0.38186\n"
     ]
    }
   ],
   "source": [
    "from sklearn.metrics import accuracy_score, precision_score, recall_score, f1_score\n",
    "import optuna\n",
    "import torch\n",
    "import torch.nn as nn\n",
    "import torch.optim as optim\n",
    "from torch.utils.data import Dataset, DataLoader\n",
    "import pandas as pd\n",
    "import numpy as np\n",
    "from sklearn.metrics import accuracy_score\n",
    "from nltk.tokenize import word_tokenize\n",
    "from gensim.models import Word2Vec\n",
    "import multiprocessing\n",
    "from collections.abc import Mapping\n",
    "from torch.nn import functional as F\n",
    "input_dim = 337\n",
    "hidden_dim = 10\n",
    "window_size = 3\n",
    "b_size = 85\n",
    "learning_rate = 0.021794863937645848\n",
    "negative_slope = 0.2996496033775225\n",
    "dropout_rate = 0.20289531425438015\n",
    "n_epochs=11\n",
    "\n",
    "class Data(Dataset):\n",
    "    def __init__(self, x, y, input_dim):\n",
    "        self.x = torch.from_numpy(x).float()\n",
    "        self.y = torch.from_numpy(y)\n",
    "        self.len = self.x.shape[0]\n",
    "        self.input_dim = input_dim\n",
    "\n",
    "    def __getitem__(self, index):\n",
    "        return self.x[index, :self.input_dim], self.y[index]\n",
    "\n",
    "    def __len__(self):\n",
    "        return self.len\n",
    "\n",
    "class Net(nn.Module):\n",
    "    def __init__(self, D_in, H, D_out, negative_slope=0.01, dropout_rate=0.5):\n",
    "        super(Net, self).__init__()\n",
    "        self.linear1 = nn.Linear(D_in, H)\n",
    "        self.bn1 = nn.BatchNorm1d(H)\n",
    "        self.dropout = nn.Dropout(dropout_rate)\n",
    "        self.linear2 = nn.Linear(H, D_out)\n",
    "        self.negative_slope = negative_slope\n",
    "\n",
    "    def forward(self, x):\n",
    "        # Using LeakyReLU instead of ReLU\n",
    "        x = F.leaky_relu(self.bn1(self.linear1(x)), self.negative_slope)  # default slope is 0.01\n",
    "        x = self.dropout(x)\n",
    "        x = self.linear2(x)\n",
    "        x = F.softmax(x, dim=1)\n",
    "        return x\n",
    "num_cores = multiprocessing.cpu_count()\n",
    "criterion=nn.MultiMarginLoss()\n",
    "model = Net(input_dim, hidden_dim, output_dim, negative_slope=negative_slope, dropout_rate=dropout_rate)\n",
    "optimizer=torch.optim.SGD(model.parameters(), lr=learning_rate)\n",
    "word2vec_model = Word2Vec(sentences=data['tokenized_text'].tolist(), vector_size=input_dim, window=window_size, min_count=1, workers=num_cores)\n",
    "data['mean_embedding'] = data['tokenized_text'].apply(lambda tokens: np.mean([word2vec_model.wv[word] for word in tokens if word in word2vec_model.wv], axis=0))\n",
    "valid['mean_embedding'] = valid['tokenized_text'].apply(lambda tokens: np.mean([word2vec_model.wv[word] for word in tokens if word in word2vec_model.wv], axis=0))\n",
    "x_train = data['mean_embedding']\n",
    "x_val = valid['mean_embedding']\n",
    "y_val = valid['Sentiment']\n",
    "y_train = data['Sentiment']\n",
    "    \n",
    "x_train = np.vstack(x_train).astype(np.float32)\n",
    "x_val = np.vstack(x_val).astype(np.float32)\n",
    "    \n",
    "    \n",
    "y_val = y_val.values\n",
    "y_train = y_train.values\n",
    "data_set = Data(x_train, y_train, input_dim)\n",
    "trainloader = DataLoader(dataset=data_set, batch_size=b_size, shuffle=True)\n",
    "   \n",
    "loss_list = []\n",
    "\n",
    "for epoch in range(n_epochs):\n",
    "    for x, y in trainloader:\n",
    "        optimizer.zero_grad()\n",
    "        z = model.forward(x)\n",
    "        loss = criterion(z, y)\n",
    "        loss.backward()\n",
    "        optimizer.step()\n",
    "            \n",
    "        loss_list.append(loss.item())\n",
    "\n",
    "x_val_tensor = torch.from_numpy(x_val)\n",
    "z_val = model.forward(x_val_tensor)\n",
    "max_indexes = torch.argmax(z_val, dim=1)\n",
    "\n",
    "y_pred = max_indexes.numpy()\n",
    "accuracy = accuracy_score(y_val, y_pred)\n",
    "precision = precision_score(y_val, y_pred, average='weighted')\n",
    "recall = recall_score(y_val, y_pred, average='weighted')\n",
    "f1 = f1_score(y_val, y_pred, average='weighted')\n",
    "\n",
    "# Print the results\n",
    "print(f'Accuracy: {accuracy:.5f}')\n",
    "print(f'Precision: {precision:.5f}')\n",
    "print(f'Recall: {recall:.5f}')\n",
    "print(f'F1 Score: {f1:.5f}')"
   ]
  },
  {
   "cell_type": "code",
   "execution_count": 55,
   "id": "b5ad5bb8",
   "metadata": {
    "execution": {
     "iopub.execute_input": "2023-12-22T19:16:34.716931Z",
     "iopub.status.busy": "2023-12-22T19:16:34.716485Z",
     "iopub.status.idle": "2023-12-22T19:16:58.252039Z",
     "shell.execute_reply": "2023-12-22T19:16:58.250880Z"
    },
    "papermill": {
     "duration": 23.678552,
     "end_time": "2023-12-22T19:16:58.254453",
     "exception": false,
     "start_time": "2023-12-22T19:16:34.575901",
     "status": "completed"
    },
    "tags": []
   },
   "outputs": [
    {
     "name": "stdout",
     "output_type": "stream",
     "text": [
      "Accuracy: 0.39564\n",
      "Precision: 0.40411\n",
      "Recall: 0.39564\n",
      "F1 Score: 0.38211\n"
     ]
    }
   ],
   "source": [
    "from sklearn.metrics import accuracy_score, precision_score, recall_score, f1_score\n",
    "import optuna\n",
    "import torch\n",
    "import torch.nn as nn\n",
    "import torch.optim as optim\n",
    "from torch.utils.data import Dataset, DataLoader\n",
    "import pandas as pd\n",
    "import numpy as np\n",
    "from sklearn.metrics import accuracy_score\n",
    "from nltk.tokenize import word_tokenize\n",
    "from gensim.models import Word2Vec\n",
    "import multiprocessing\n",
    "from collections.abc import Mapping\n",
    "from torch.nn import functional as F\n",
    "input_dim = 704\n",
    "hidden_dim = 10\n",
    "window_size = 3\n",
    "b_size = 85\n",
    "learning_rate = 0.021794863937645848\n",
    "negative_slope = 0.2996496033775225\n",
    "dropout_rate = 0.20289531425438015\n",
    "n_epochs=11\n",
    "\n",
    "class Data(Dataset):\n",
    "    def __init__(self, x, y, input_dim):\n",
    "        self.x = torch.from_numpy(x).float()\n",
    "        self.y = torch.from_numpy(y)\n",
    "        self.len = self.x.shape[0]\n",
    "        self.input_dim = input_dim\n",
    "\n",
    "    def __getitem__(self, index):\n",
    "        return self.x[index, :self.input_dim], self.y[index]\n",
    "\n",
    "    def __len__(self):\n",
    "        return self.len\n",
    "\n",
    "class Net(nn.Module):\n",
    "    def __init__(self, D_in, H, D_out, negative_slope=0.01, dropout_rate=0.5):\n",
    "        super(Net, self).__init__()\n",
    "        self.linear1 = nn.Linear(D_in, H)\n",
    "        self.bn1 = nn.BatchNorm1d(H)\n",
    "        self.dropout = nn.Dropout(dropout_rate)\n",
    "        self.linear2 = nn.Linear(H, D_out)\n",
    "        self.negative_slope = negative_slope\n",
    "\n",
    "    def forward(self, x):\n",
    "        # Using LeakyReLU instead of ReLU\n",
    "        x = F.leaky_relu(self.bn1(self.linear1(x)), self.negative_slope)  # default slope is 0.01\n",
    "        x = self.dropout(x)\n",
    "        x = self.linear2(x)\n",
    "        x = F.softmax(x, dim=1)\n",
    "        return x\n",
    "num_cores = multiprocessing.cpu_count()\n",
    "criterion=nn.MultiMarginLoss()\n",
    "model = Net(input_dim, hidden_dim, output_dim, negative_slope=negative_slope, dropout_rate=dropout_rate)\n",
    "optimizer=torch.optim.SGD(model.parameters(), lr=learning_rate)\n",
    "word2vec_model = Word2Vec(sentences=data['tokenized_text'].tolist(), vector_size=input_dim, window=window_size, min_count=1, workers=num_cores)\n",
    "data['mean_embedding'] = data['tokenized_text'].apply(lambda tokens: np.mean([word2vec_model.wv[word] for word in tokens if word in word2vec_model.wv], axis=0))\n",
    "valid['mean_embedding'] = valid['tokenized_text'].apply(lambda tokens: np.mean([word2vec_model.wv[word] for word in tokens if word in word2vec_model.wv], axis=0))\n",
    "x_train = data['mean_embedding']\n",
    "x_val = valid['mean_embedding']\n",
    "y_val = valid['Sentiment']\n",
    "y_train = data['Sentiment']\n",
    "    \n",
    "x_train = np.vstack(x_train).astype(np.float32)\n",
    "x_val = np.vstack(x_val).astype(np.float32)\n",
    "    \n",
    "    \n",
    "y_val = y_val.values\n",
    "y_train = y_train.values\n",
    "data_set = Data(x_train, y_train, input_dim)\n",
    "trainloader = DataLoader(dataset=data_set, batch_size=b_size, shuffle=True)\n",
    "   \n",
    "loss_list = []\n",
    "\n",
    "for epoch in range(n_epochs):\n",
    "    for x, y in trainloader:\n",
    "        optimizer.zero_grad()\n",
    "        z = model.forward(x)\n",
    "        loss = criterion(z, y)\n",
    "        loss.backward()\n",
    "        optimizer.step()\n",
    "            \n",
    "        loss_list.append(loss.item())\n",
    "\n",
    "x_val_tensor = torch.from_numpy(x_val)\n",
    "z_val = model.forward(x_val_tensor)\n",
    "max_indexes = torch.argmax(z_val, dim=1)\n",
    "\n",
    "y_pred = max_indexes.numpy()\n",
    "accuracy = accuracy_score(y_val, y_pred)\n",
    "precision = precision_score(y_val, y_pred, average='weighted')\n",
    "recall = recall_score(y_val, y_pred, average='weighted')\n",
    "f1 = f1_score(y_val, y_pred, average='weighted')\n",
    "\n",
    "# Print the results\n",
    "print(f'Accuracy: {accuracy:.5f}')\n",
    "print(f'Precision: {precision:.5f}')\n",
    "print(f'Recall: {recall:.5f}')\n",
    "print(f'F1 Score: {f1:.5f}')"
   ]
  },
  {
   "cell_type": "code",
   "execution_count": 56,
   "id": "33daebf3",
   "metadata": {
    "execution": {
     "iopub.execute_input": "2023-12-22T19:16:58.533747Z",
     "iopub.status.busy": "2023-12-22T19:16:58.532938Z",
     "iopub.status.idle": "2023-12-22T19:17:18.092742Z",
     "shell.execute_reply": "2023-12-22T19:17:18.091609Z"
    },
    "papermill": {
     "duration": 19.702288,
     "end_time": "2023-12-22T19:17:18.095104",
     "exception": false,
     "start_time": "2023-12-22T19:16:58.392816",
     "status": "completed"
    },
    "tags": []
   },
   "outputs": [
    {
     "name": "stdout",
     "output_type": "stream",
     "text": [
      "Accuracy: 0.39717\n",
      "Precision: 0.40781\n",
      "Recall: 0.39717\n",
      "F1 Score: 0.38181\n"
     ]
    }
   ],
   "source": [
    "from sklearn.metrics import accuracy_score, precision_score, recall_score, f1_score\n",
    "import optuna\n",
    "import torch\n",
    "import torch.nn as nn\n",
    "import torch.optim as optim\n",
    "from torch.utils.data import Dataset, DataLoader\n",
    "import pandas as pd\n",
    "import numpy as np\n",
    "from sklearn.metrics import accuracy_score\n",
    "from nltk.tokenize import word_tokenize\n",
    "from gensim.models import Word2Vec\n",
    "import multiprocessing\n",
    "from collections.abc import Mapping\n",
    "from torch.nn import functional as F\n",
    "input_dim = 161\n",
    "hidden_dim = 10\n",
    "window_size = 3\n",
    "b_size = 85\n",
    "learning_rate = 0.021794863937645848\n",
    "negative_slope = 0.2996496033775225\n",
    "dropout_rate = 0.20289531425438015\n",
    "n_epochs=11\n",
    "\n",
    "class Data(Dataset):\n",
    "    def __init__(self, x, y, input_dim):\n",
    "        self.x = torch.from_numpy(x).float()\n",
    "        self.y = torch.from_numpy(y)\n",
    "        self.len = self.x.shape[0]\n",
    "        self.input_dim = input_dim\n",
    "\n",
    "    def __getitem__(self, index):\n",
    "        return self.x[index, :self.input_dim], self.y[index]\n",
    "\n",
    "    def __len__(self):\n",
    "        return self.len\n",
    "\n",
    "class Net(nn.Module):\n",
    "    def __init__(self, D_in, H, D_out, negative_slope=0.01, dropout_rate=0.5):\n",
    "        super(Net, self).__init__()\n",
    "        self.linear1 = nn.Linear(D_in, H)\n",
    "        self.bn1 = nn.BatchNorm1d(H)\n",
    "        self.dropout = nn.Dropout(dropout_rate)\n",
    "        self.linear2 = nn.Linear(H, D_out)\n",
    "        self.negative_slope = negative_slope\n",
    "\n",
    "    def forward(self, x):\n",
    "        # Using LeakyReLU instead of ReLU\n",
    "        x = F.leaky_relu(self.bn1(self.linear1(x)), self.negative_slope)  # default slope is 0.01\n",
    "        x = self.dropout(x)\n",
    "        x = self.linear2(x)\n",
    "        x = F.softmax(x, dim=1)\n",
    "        return x\n",
    "num_cores = multiprocessing.cpu_count()\n",
    "criterion=nn.MultiMarginLoss()\n",
    "model = Net(input_dim, hidden_dim, output_dim, negative_slope=negative_slope, dropout_rate=dropout_rate)\n",
    "optimizer=torch.optim.SGD(model.parameters(), lr=learning_rate)\n",
    "word2vec_model = Word2Vec(sentences=data['tokenized_text'].tolist(), vector_size=input_dim, window=window_size, min_count=1, workers=num_cores)\n",
    "data['mean_embedding'] = data['tokenized_text'].apply(lambda tokens: np.mean([word2vec_model.wv[word] for word in tokens if word in word2vec_model.wv], axis=0))\n",
    "valid['mean_embedding'] = valid['tokenized_text'].apply(lambda tokens: np.mean([word2vec_model.wv[word] for word in tokens if word in word2vec_model.wv], axis=0))\n",
    "x_train = data['mean_embedding']\n",
    "x_val = valid['mean_embedding']\n",
    "y_val = valid['Sentiment']\n",
    "y_train = data['Sentiment']\n",
    "    \n",
    "x_train = np.vstack(x_train).astype(np.float32)\n",
    "x_val = np.vstack(x_val).astype(np.float32)\n",
    "    \n",
    "    \n",
    "y_val = y_val.values\n",
    "y_train = y_train.values\n",
    "data_set = Data(x_train, y_train, input_dim)\n",
    "trainloader = DataLoader(dataset=data_set, batch_size=b_size, shuffle=True)\n",
    "   \n",
    "loss_list = []\n",
    "\n",
    "for epoch in range(n_epochs):\n",
    "    for x, y in trainloader:\n",
    "        optimizer.zero_grad()\n",
    "        z = model.forward(x)\n",
    "        loss = criterion(z, y)\n",
    "        loss.backward()\n",
    "        optimizer.step()\n",
    "            \n",
    "        loss_list.append(loss.item())\n",
    "\n",
    "x_val_tensor = torch.from_numpy(x_val)\n",
    "z_val = model.forward(x_val_tensor)\n",
    "max_indexes = torch.argmax(z_val, dim=1)\n",
    "\n",
    "y_pred = max_indexes.numpy()\n",
    "accuracy = accuracy_score(y_val, y_pred)\n",
    "precision = precision_score(y_val, y_pred, average='weighted')\n",
    "recall = recall_score(y_val, y_pred, average='weighted')\n",
    "f1 = f1_score(y_val, y_pred, average='weighted')\n",
    "\n",
    "# Print the results\n",
    "print(f'Accuracy: {accuracy:.5f}')\n",
    "print(f'Precision: {precision:.5f}')\n",
    "print(f'Recall: {recall:.5f}')\n",
    "print(f'F1 Score: {f1:.5f}')"
   ]
  },
  {
   "cell_type": "markdown",
   "id": "718556fa",
   "metadata": {
    "papermill": {
     "duration": 0.137641,
     "end_time": "2023-12-22T19:17:18.372748",
     "exception": false,
     "start_time": "2023-12-22T19:17:18.235107",
     "status": "completed"
    },
    "tags": []
   },
   "source": [
    "The problem with evaluating our models is randomization : many steps include randomization like initialization of weights, ths SGD optimizer we are using, data shuffling in data loaderm dropout in layers, word2vec creation..."
   ]
  },
  {
   "cell_type": "markdown",
   "id": "9db86a12",
   "metadata": {
    "papermill": {
     "duration": 0.136762,
     "end_time": "2023-12-22T19:17:18.647218",
     "exception": false,
     "start_time": "2023-12-22T19:17:18.510456",
     "status": "completed"
    },
    "tags": []
   },
   "source": [
    "So it is kinda difficult to decide the best parameters, but with some random restarts I used I came up with thse parameters and im not changing them anymore"
   ]
  },
  {
   "cell_type": "markdown",
   "id": "219dae68",
   "metadata": {
    "papermill": {
     "duration": 0.137482,
     "end_time": "2023-12-22T19:17:18.922107",
     "exception": false,
     "start_time": "2023-12-22T19:17:18.784625",
     "status": "completed"
    },
    "tags": []
   },
   "source": [
    "As input dim above I used two result I got from two different optuna studies for input dim (337, 704,161), best, or at least the one im keeping, is 704"
   ]
  },
  {
   "cell_type": "markdown",
   "id": "9f577ef1",
   "metadata": {
    "papermill": {
     "duration": 0.138384,
     "end_time": "2023-12-22T19:17:19.312386",
     "exception": false,
     "start_time": "2023-12-22T19:17:19.174002",
     "status": "completed"
    },
    "tags": []
   },
   "source": [
    "Last try with bigger hidden layer and window"
   ]
  },
  {
   "cell_type": "code",
   "execution_count": 57,
   "id": "110c51d1",
   "metadata": {
    "execution": {
     "iopub.execute_input": "2023-12-22T19:17:19.604397Z",
     "iopub.status.busy": "2023-12-22T19:17:19.603607Z",
     "iopub.status.idle": "2023-12-22T19:17:44.797348Z",
     "shell.execute_reply": "2023-12-22T19:17:44.796221Z"
    },
    "papermill": {
     "duration": 25.349717,
     "end_time": "2023-12-22T19:17:44.799844",
     "exception": false,
     "start_time": "2023-12-22T19:17:19.450127",
     "status": "completed"
    },
    "tags": []
   },
   "outputs": [
    {
     "name": "stdout",
     "output_type": "stream",
     "text": [
      "Accuracy: 0.39258\n",
      "Precision: 0.39744\n",
      "Recall: 0.39258\n",
      "F1 Score: 0.38210\n"
     ]
    }
   ],
   "source": [
    "from sklearn.metrics import accuracy_score, precision_score, recall_score, f1_score\n",
    "import optuna\n",
    "import torch\n",
    "import torch.nn as nn\n",
    "import torch.optim as optim\n",
    "from torch.utils.data import Dataset, DataLoader\n",
    "import pandas as pd\n",
    "import numpy as np\n",
    "from sklearn.metrics import accuracy_score\n",
    "from nltk.tokenize import word_tokenize\n",
    "from gensim.models import Word2Vec\n",
    "import multiprocessing\n",
    "from collections.abc import Mapping\n",
    "from torch.nn import functional as F\n",
    "input_dim = 704\n",
    "hidden_dim = 45\n",
    "window_size = 6\n",
    "b_size = 85\n",
    "learning_rate = 0.021794863937645848\n",
    "negative_slope = 0.2996496033775225\n",
    "dropout_rate = 0.20289531425438015\n",
    "n_epochs=11\n",
    "\n",
    "class Data(Dataset):\n",
    "    def __init__(self, x, y, input_dim):\n",
    "        self.x = torch.from_numpy(x).float()\n",
    "        self.y = torch.from_numpy(y)\n",
    "        self.len = self.x.shape[0]\n",
    "        self.input_dim = input_dim\n",
    "\n",
    "    def __getitem__(self, index):\n",
    "        return self.x[index, :self.input_dim], self.y[index]\n",
    "\n",
    "    def __len__(self):\n",
    "        return self.len\n",
    "\n",
    "class Net(nn.Module):\n",
    "    def __init__(self, D_in, H, D_out, negative_slope=0.01, dropout_rate=0.5):\n",
    "        super(Net, self).__init__()\n",
    "        self.linear1 = nn.Linear(D_in, H)\n",
    "        self.bn1 = nn.BatchNorm1d(H)\n",
    "        self.dropout = nn.Dropout(dropout_rate)\n",
    "        self.linear2 = nn.Linear(H, D_out)\n",
    "        self.negative_slope = negative_slope\n",
    "\n",
    "    def forward(self, x):\n",
    "        # Using LeakyReLU instead of ReLU\n",
    "        x = F.leaky_relu(self.bn1(self.linear1(x)), self.negative_slope)  # default slope is 0.01\n",
    "        x = self.dropout(x)\n",
    "        x = self.linear2(x)\n",
    "        x = F.softmax(x, dim=1)\n",
    "        return x\n",
    "num_cores = multiprocessing.cpu_count()\n",
    "criterion=nn.MultiMarginLoss()\n",
    "model = Net(input_dim, hidden_dim, output_dim, negative_slope=negative_slope, dropout_rate=dropout_rate)\n",
    "optimizer=torch.optim.SGD(model.parameters(), lr=learning_rate)\n",
    "word2vec_model = Word2Vec(sentences=data['tokenized_text'].tolist(), vector_size=input_dim, window=window_size, min_count=1, workers=num_cores)\n",
    "data['mean_embedding'] = data['tokenized_text'].apply(lambda tokens: np.mean([word2vec_model.wv[word] for word in tokens if word in word2vec_model.wv], axis=0))\n",
    "valid['mean_embedding'] = valid['tokenized_text'].apply(lambda tokens: np.mean([word2vec_model.wv[word] for word in tokens if word in word2vec_model.wv], axis=0))\n",
    "x_train = data['mean_embedding']\n",
    "x_val = valid['mean_embedding']\n",
    "y_val = valid['Sentiment']\n",
    "y_train = data['Sentiment']\n",
    "    \n",
    "x_train = np.vstack(x_train).astype(np.float32)\n",
    "x_val = np.vstack(x_val).astype(np.float32)\n",
    "    \n",
    "    \n",
    "y_val = y_val.values\n",
    "y_train = y_train.values\n",
    "data_set = Data(x_train, y_train, input_dim)\n",
    "trainloader = DataLoader(dataset=data_set, batch_size=b_size, shuffle=True)\n",
    "   \n",
    "loss_list = []\n",
    "\n",
    "for epoch in range(n_epochs):\n",
    "    for x, y in trainloader:\n",
    "        optimizer.zero_grad()\n",
    "        z = model.forward(x)\n",
    "        loss = criterion(z, y)\n",
    "        loss.backward()\n",
    "        optimizer.step()\n",
    "            \n",
    "        loss_list.append(loss.item())\n",
    "\n",
    "x_val_tensor = torch.from_numpy(x_val)\n",
    "z_val = model.forward(x_val_tensor)\n",
    "max_indexes = torch.argmax(z_val, dim=1)\n",
    "\n",
    "y_pred = max_indexes.numpy()\n",
    "accuracy = accuracy_score(y_val, y_pred)\n",
    "precision = precision_score(y_val, y_pred, average='weighted')\n",
    "recall = recall_score(y_val, y_pred, average='weighted')\n",
    "f1 = f1_score(y_val, y_pred, average='weighted')\n",
    "\n",
    "# Print the results\n",
    "print(f'Accuracy: {accuracy:.5f}')\n",
    "print(f'Precision: {precision:.5f}')\n",
    "print(f'Recall: {recall:.5f}')\n",
    "print(f'F1 Score: {f1:.5f}')"
   ]
  },
  {
   "cell_type": "code",
   "execution_count": 58,
   "id": "f9aa398d",
   "metadata": {
    "execution": {
     "iopub.execute_input": "2023-12-22T19:17:45.078869Z",
     "iopub.status.busy": "2023-12-22T19:17:45.078468Z",
     "iopub.status.idle": "2023-12-22T19:18:00.077674Z",
     "shell.execute_reply": "2023-12-22T19:18:00.076506Z"
    },
    "papermill": {
     "duration": 15.14251,
     "end_time": "2023-12-22T19:18:00.080730",
     "exception": false,
     "start_time": "2023-12-22T19:17:44.938220",
     "status": "completed"
    },
    "tags": []
   },
   "outputs": [],
   "source": [
    "class Data(Dataset):\n",
    "    def __init__(self, x, y, input_dim):\n",
    "        self.x = torch.from_numpy(x).float()\n",
    "        self.y = torch.from_numpy(y)\n",
    "        self.len = self.x.shape[0]\n",
    "        self.input_dim = input_dim\n",
    "\n",
    "    def __getitem__(self, index):\n",
    "        return self.x[index, :self.input_dim], self.y[index]\n",
    "\n",
    "    def __len__(self):\n",
    "        return self.len\n",
    "\n",
    "class Net(nn.Module):\n",
    "    def __init__(self, D_in, H, D_out, negative_slope=0.01, dropout_rate=0.5):\n",
    "        super(Net, self).__init__()\n",
    "        self.linear1 = nn.Linear(D_in, H)\n",
    "        self.bn1 = nn.BatchNorm1d(H)\n",
    "        self.dropout = nn.Dropout(dropout_rate)\n",
    "        self.linear2 = nn.Linear(H, D_out)\n",
    "        self.negative_slope = negative_slope\n",
    "\n",
    "    def forward(self, x):\n",
    "        # Using LeakyReLU instead of ReLU\n",
    "        x = F.leaky_relu(self.bn1(self.linear1(x)), self.negative_slope)  # default slope is 0.01\n",
    "        x = self.dropout(x)\n",
    "        x = self.linear2(x)\n",
    "        x = F.softmax(x, dim=1)\n",
    "        return x\n",
    "input_dim = 704\n",
    "hidden_dim = 10\n",
    "window_size = 3\n",
    "b_size = 85\n",
    "learning_rate = 0.021794863937645848\n",
    "negative_slope = 0.2996496033775225\n",
    "dropout_rate = 0.20289531425438015\n",
    "criterion=nn.MultiMarginLoss()\n",
    "model = Net(input_dim, hidden_dim, output_dim, negative_slope=negative_slope, dropout_rate=dropout_rate)\n",
    "optimizer=torch.optim.SGD(model.parameters(), lr=learning_rate)  \n",
    "num_cores = multiprocessing.cpu_count()\n",
    "word2vec_model = Word2Vec(sentences=data['tokenized_text'].tolist(), vector_size=input_dim, window=window_size, min_count=1, workers=num_cores)\n",
    "data['mean_embedding'] = data['tokenized_text'].apply(lambda tokens: np.mean([word2vec_model.wv[word] for word in tokens if word in word2vec_model.wv], axis=0))\n",
    "valid['mean_embedding'] = valid['tokenized_text'].apply(lambda tokens: np.mean([word2vec_model.wv[word] for word in tokens if word in word2vec_model.wv], axis=0))"
   ]
  },
  {
   "cell_type": "markdown",
   "id": "4654ab54",
   "metadata": {
    "papermill": {
     "duration": 0.138777,
     "end_time": "2023-12-22T19:18:00.358992",
     "exception": false,
     "start_time": "2023-12-22T19:18:00.220215",
     "status": "completed"
    },
    "tags": []
   },
   "source": [
    "We will now try to improve the training phase, we will increase number of epochs but implement early stopping as well"
   ]
  },
  {
   "cell_type": "markdown",
   "id": "a7259632",
   "metadata": {
    "papermill": {
     "duration": 0.140003,
     "end_time": "2023-12-22T19:18:00.637938",
     "exception": false,
     "start_time": "2023-12-22T19:18:00.497935",
     "status": "completed"
    },
    "tags": []
   },
   "source": [
    "Also we will use a learning rate scheduler to change the value of learning rate during training"
   ]
  },
  {
   "cell_type": "markdown",
   "id": "17cc131d",
   "metadata": {
    "papermill": {
     "duration": 0.13932,
     "end_time": "2023-12-22T19:18:00.916250",
     "exception": false,
     "start_time": "2023-12-22T19:18:00.776930",
     "status": "completed"
    },
    "tags": []
   },
   "source": [
    "Additionally i am creating a validaiton loader as well to evaluate the model even better"
   ]
  },
  {
   "cell_type": "markdown",
   "id": "8f229446",
   "metadata": {
    "papermill": {
     "duration": 0.140006,
     "end_time": "2023-12-22T19:18:01.194719",
     "exception": false,
     "start_time": "2023-12-22T19:18:01.054713",
     "status": "completed"
    },
    "tags": []
   },
   "source": [
    "Now we plot the learning curve and also use early stopping to find a good number of epochs"
   ]
  },
  {
   "cell_type": "code",
   "execution_count": 59,
   "id": "27df17ad",
   "metadata": {
    "execution": {
     "iopub.execute_input": "2023-12-22T19:18:01.477392Z",
     "iopub.status.busy": "2023-12-22T19:18:01.476645Z",
     "iopub.status.idle": "2023-12-22T19:18:56.184281Z",
     "shell.execute_reply": "2023-12-22T19:18:56.183017Z"
    },
    "papermill": {
     "duration": 54.853707,
     "end_time": "2023-12-22T19:18:56.187085",
     "exception": false,
     "start_time": "2023-12-22T19:18:01.333378",
     "status": "completed"
    },
    "tags": []
   },
   "outputs": [
    {
     "name": "stdout",
     "output_type": "stream",
     "text": [
      "Early stopping triggered at epoch 53\n",
      "Accuracy: 0.39564\n",
      "Precision: 0.40246\n",
      "Recall: 0.39564\n",
      "F1 Score: 0.38626\n"
     ]
    },
    {
     "data": {
      "image/png": "[encoded data removed]",
      "text/plain": [
       "<Figure size 1000x600 with 1 Axes>"
      ]
     },
     "metadata": {},
     "output_type": "display_data"
    }
   ],
   "source": [
    "from torch.optim.lr_scheduler import StepLR\n",
    "import matplotlib.pyplot as plt\n",
    "\n",
    "# Early stopping parameters\n",
    "x_train = data['mean_embedding']\n",
    "x_val = valid['mean_embedding']\n",
    "y_val = valid['Sentiment']\n",
    "y_train = data['Sentiment']\n",
    "    \n",
    "x_train = np.vstack(x_train).astype(np.float32)\n",
    "x_val = np.vstack(x_val).astype(np.float32)\n",
    "    \n",
    "    \n",
    "y_val = y_val.values\n",
    "y_train = y_train.values\n",
    "    \n",
    "\n",
    "data_set = Data(x_train, y_train, input_dim)\n",
    "trainloader = DataLoader(dataset=data_set, batch_size=b_size, shuffle=True)\n",
    "val_dataset = Data(x_val, y_val, input_dim)\n",
    "val_loader = DataLoader(dataset=val_dataset, batch_size=b_size, shuffle=True)\n",
    "\n",
    "# Early stopping parameters\n",
    "patience = 10\n",
    "best_val_loss = float('inf')\n",
    "epochs_no_improve = 0\n",
    "n_epochs = 300\n",
    "\n",
    "# Learning rate scheduler\n",
    "scheduler = StepLR(optimizer, step_size=1, gamma=0.95)\n",
    "train_loss_list = []\n",
    "val_loss_list = []\n",
    "\n",
    "for epoch in range(n_epochs):\n",
    "    model.train()  # Set the model to training mode\n",
    "    train_loss = 0.0\n",
    "    for x, y in trainloader:\n",
    "        optimizer.zero_grad()\n",
    "        z = model(x)  # Forward pass\n",
    "        loss = criterion(z, y)\n",
    "        loss.backward()\n",
    "        # Gradient clipping (optional, choose max_norm value appropriately)\n",
    "        nn.utils.clip_grad_norm_(model.parameters(), max_norm=1.0)\n",
    "        optimizer.step()\n",
    "        \n",
    "        train_loss += loss.item()\n",
    "\n",
    "        \n",
    "    train_loss /= len(trainloader)\n",
    "    train_loss_list.append(train_loss)\n",
    "    # Validation phase\n",
    "    model.eval()  # Set the model to evaluation mode\n",
    "    with torch.no_grad():\n",
    "        val_loss = 0\n",
    "        for x_val_batch, y_val_batch in val_loader:\n",
    "            z_val = model(x_val_batch)\n",
    "            val_loss += criterion(z_val, y_val_batch).item()\n",
    "\n",
    "\n",
    "    # Early stopping check\n",
    "    val_loss /= len(val_loader)\n",
    "    val_loss_list.append(val_loss)\n",
    "    if val_loss < best_val_loss:\n",
    "        best_val_loss = val_loss\n",
    "        epochs_no_improve = 0\n",
    "    else:\n",
    "        epochs_no_improve += 1\n",
    "        if epochs_no_improve == patience:\n",
    "            print(f\"Early stopping triggered at epoch {epoch}\")\n",
    "            break\n",
    "\n",
    "    scheduler.step()  # Adjust learning rate\n",
    "\n",
    "# Final model evaluation\n",
    "x_val_tensor = torch.from_numpy(x_val)\n",
    "z_val = model(x_val_tensor)\n",
    "max_indexes = torch.argmax(z_val, dim=1)\n",
    "y_pred = max_indexes.numpy()\n",
    "accuracy = accuracy_score(y_val, y_pred)\n",
    "precision = precision_score(y_val, y_pred, average='weighted')\n",
    "recall = recall_score(y_val, y_pred, average='weighted')\n",
    "f1 = f1_score(y_val, y_pred, average='weighted')\n",
    "\n",
    "# Print the results\n",
    "print(f'Accuracy: {accuracy:.5f}')\n",
    "print(f'Precision: {precision:.5f}')\n",
    "print(f'Recall: {recall:.5f}')\n",
    "print(f'F1 Score: {f1:.5f}')\n",
    "\n",
    "\n",
    "plt.figure(figsize=(10, 6))\n",
    "plt.plot(train_loss_list, label='Training Loss')\n",
    "plt.plot(val_loss_list, label='Validation Loss')\n",
    "plt.title('Learning Curve')\n",
    "plt.xlabel('Epochs')\n",
    "plt.ylabel('Loss')\n",
    "plt.legend()\n",
    "plt.grid(True)\n",
    "plt.show()\n"
   ]
  },
  {
   "cell_type": "markdown",
   "id": "68fe0955",
   "metadata": {
    "papermill": {
     "duration": 0.140985,
     "end_time": "2023-12-22T19:18:56.469299",
     "exception": false,
     "start_time": "2023-12-22T19:18:56.328314",
     "status": "completed"
    },
    "tags": []
   },
   "source": [
    "ROC curves"
   ]
  },
  {
   "cell_type": "code",
   "execution_count": 60,
   "id": "17962e1f",
   "metadata": {
    "execution": {
     "iopub.execute_input": "2023-12-22T19:18:56.754991Z",
     "iopub.status.busy": "2023-12-22T19:18:56.754541Z",
     "iopub.status.idle": "2023-12-22T19:19:24.225990Z",
     "shell.execute_reply": "2023-12-22T19:19:24.224969Z"
    },
    "papermill": {
     "duration": 27.616442,
     "end_time": "2023-12-22T19:19:24.228643",
     "exception": false,
     "start_time": "2023-12-22T19:18:56.612201",
     "status": "completed"
    },
    "tags": []
   },
   "outputs": [
    {
     "name": "stdout",
     "output_type": "stream",
     "text": [
      "Early stopping triggered at epoch 26\n",
      "Accuracy: 0.39774\n",
      "Precision: 0.40407\n",
      "Recall: 0.39774\n",
      "F1 Score: 0.38879\n"
     ]
    },
    {
     "data": {
      "image/png": "[encoded data removed]",
      "text/plain": [
       "<Figure size 1000x800 with 1 Axes>"
      ]
     },
     "metadata": {},
     "output_type": "display_data"
    }
   ],
   "source": [
    "from torch.optim.lr_scheduler import StepLR\n",
    "import matplotlib.pyplot as plt\n",
    "\n",
    "# Early stopping parameters\n",
    "x_train = data['mean_embedding']\n",
    "x_val = valid['mean_embedding']\n",
    "y_val = valid['Sentiment']\n",
    "y_train = data['Sentiment']\n",
    "    \n",
    "x_train = np.vstack(x_train).astype(np.float32)\n",
    "x_val = np.vstack(x_val).astype(np.float32)\n",
    "    \n",
    "    \n",
    "y_val = y_val.values\n",
    "y_train = y_train.values\n",
    "    \n",
    "\n",
    "data_set = Data(x_train, y_train, input_dim)\n",
    "trainloader = DataLoader(dataset=data_set, batch_size=b_size, shuffle=True)\n",
    "val_dataset = Data(x_val, y_val, input_dim)\n",
    "val_loader = DataLoader(dataset=val_dataset, batch_size=b_size, shuffle=True)\n",
    "\n",
    "# Early stopping parameters\n",
    "patience = 10\n",
    "best_val_loss = float('inf')\n",
    "epochs_no_improve = 0\n",
    "n_epochs = 300\n",
    "\n",
    "# Learning rate scheduler\n",
    "scheduler = StepLR(optimizer, step_size=1, gamma=0.95)\n",
    "train_loss_list = []\n",
    "val_loss_list = []\n",
    "\n",
    "for epoch in range(n_epochs):\n",
    "    model.train()  # Set the model to training mode\n",
    "    train_loss = 0.0\n",
    "    for x, y in trainloader:\n",
    "        optimizer.zero_grad()\n",
    "        z = model(x)  # Forward pass\n",
    "        loss = criterion(z, y)\n",
    "        loss.backward()\n",
    "        # Gradient clipping (optional, choose max_norm value appropriately)\n",
    "        nn.utils.clip_grad_norm_(model.parameters(), max_norm=1.0)\n",
    "        optimizer.step()\n",
    "        \n",
    "        train_loss += loss.item()\n",
    "\n",
    "        \n",
    "    train_loss /= len(trainloader)\n",
    "    train_loss_list.append(train_loss)\n",
    "    # Validation phase\n",
    "    model.eval()  # Set the model to evaluation mode\n",
    "    with torch.no_grad():\n",
    "        val_loss = 0\n",
    "        for x_val_batch, y_val_batch in val_loader:\n",
    "            z_val = model(x_val_batch)\n",
    "            val_loss += criterion(z_val, y_val_batch).item()\n",
    "\n",
    "\n",
    "    # Early stopping check\n",
    "    val_loss /= len(val_loader)\n",
    "    val_loss_list.append(val_loss)\n",
    "    if val_loss < best_val_loss:\n",
    "        best_val_loss = val_loss\n",
    "        epochs_no_improve = 0\n",
    "    else:\n",
    "        epochs_no_improve += 1\n",
    "        if epochs_no_improve == patience:\n",
    "            print(f\"Early stopping triggered at epoch {epoch}\")\n",
    "            break\n",
    "\n",
    "    scheduler.step()  # Adjust learning rate\n",
    "\n",
    "# Final model evaluation\n",
    "x_val_tensor = torch.from_numpy(x_val)\n",
    "z_val = model(x_val_tensor)\n",
    "max_indexes = torch.argmax(z_val, dim=1)\n",
    "y_pred = max_indexes.numpy()\n",
    "accuracy = accuracy_score(y_val, y_pred)\n",
    "precision = precision_score(y_val, y_pred, average='weighted')\n",
    "recall = recall_score(y_val, y_pred, average='weighted')\n",
    "f1 = f1_score(y_val, y_pred, average='weighted')\n",
    "\n",
    "# Print the results\n",
    "print(f'Accuracy: {accuracy:.5f}')\n",
    "print(f'Precision: {precision:.5f}')\n",
    "print(f'Recall: {recall:.5f}')\n",
    "print(f'F1 Score: {f1:.5f}')\n",
    "\n",
    "\n",
    "\n",
    "softmax = nn.Softmax(dim=1)\n",
    "probabilities = softmax(z_val)\n",
    "\n",
    "from sklearn.preprocessing import label_binarize\n",
    "\n",
    "# Binarize the labels\n",
    "y_val_binarized = label_binarize(y_val, classes=np.unique(y_val))\n",
    "n_classes = y_val_binarized.shape[1]\n",
    "\n",
    "from sklearn.metrics import roc_curve, auc\n",
    "\n",
    "# Compute ROC curve and ROC area for each class\n",
    "fpr = dict()\n",
    "tpr = dict()\n",
    "roc_auc = dict()\n",
    "\n",
    "for i in range(n_classes):\n",
    "    fpr[i], tpr[i], _ = roc_curve(y_val_binarized[:, i], probabilities.detach().numpy()[:, i])\n",
    "    roc_auc[i] = auc(fpr[i], tpr[i])\n",
    "\n",
    "plt.figure(figsize=(10, 8))\n",
    "for i in range(n_classes):\n",
    "    plt.plot(fpr[i], tpr[i], label='ROC curve of class {0} (area = {1:0.2f})'.format(i, roc_auc[i]))\n",
    "\n",
    "plt.plot([0, 1], [0, 1], 'k--')\n",
    "plt.xlim([0.0, 1.0])\n",
    "plt.ylim([0.0, 1.05])\n",
    "plt.xlabel('False Positive Rate')\n",
    "plt.ylabel('True Positive Rate')\n",
    "plt.title('Receiver Operating Characteristic')\n",
    "plt.legend(loc=\"lower right\")\n",
    "plt.show()"
   ]
  },
  {
   "cell_type": "markdown",
   "id": "a110fc0c",
   "metadata": {
    "papermill": {
     "duration": 0.142793,
     "end_time": "2023-12-22T19:19:24.514750",
     "exception": false,
     "start_time": "2023-12-22T19:19:24.371957",
     "status": "completed"
    },
    "tags": []
   },
   "source": [
    "For the ROC curves I converted them to binary form so True Positive Rate equal to 1 is the ideal while 0.5 is random guessing. We see that the scores are close to random guessing"
   ]
  },
  {
   "cell_type": "markdown",
   "id": "3eb02d96",
   "metadata": {
    "papermill": {
     "duration": 0.143398,
     "end_time": "2023-12-22T19:19:24.800785",
     "exception": false,
     "start_time": "2023-12-22T19:19:24.657387",
     "status": "completed"
    },
    "tags": []
   },
   "source": [
    "Cnfusion Matrix"
   ]
  },
  {
   "cell_type": "code",
   "execution_count": 61,
   "id": "845ac38f",
   "metadata": {
    "execution": {
     "iopub.execute_input": "2023-12-22T19:19:25.088003Z",
     "iopub.status.busy": "2023-12-22T19:19:25.087568Z",
     "iopub.status.idle": "2023-12-22T19:19:25.676487Z",
     "shell.execute_reply": "2023-12-22T19:19:25.675376Z"
    },
    "papermill": {
     "duration": 0.735521,
     "end_time": "2023-12-22T19:19:25.678955",
     "exception": false,
     "start_time": "2023-12-22T19:19:24.943434",
     "status": "completed"
    },
    "tags": []
   },
   "outputs": [
    {
     "data": {
      "image/png": "[encoded data removed]",
      "text/plain": [
       "<Figure size 1000x800 with 2 Axes>"
      ]
     },
     "metadata": {},
     "output_type": "display_data"
    }
   ],
   "source": [
    "from sklearn.metrics import confusion_matrix\n",
    "import seaborn as sns\n",
    "\n",
    "cm = confusion_matrix(y_val, y_pred)\n",
    "\n",
    "# Plot the confusion matrix using Seaborn\n",
    "plt.figure(figsize=(10, 8))\n",
    "sns.heatmap(cm, annot=True, fmt='d', cmap='Blues', xticklabels=np.unique(y_val), yticklabels=np.unique(y_val))\n",
    "plt.title('Confusion Matrix')\n",
    "plt.ylabel('True Label')\n",
    "plt.xlabel('Predicted Label')\n",
    "plt.show()"
   ]
  },
  {
   "cell_type": "markdown",
   "id": "e92b6dd2",
   "metadata": {
    "papermill": {
     "duration": 0.143044,
     "end_time": "2023-12-22T19:19:25.964728",
     "exception": false,
     "start_time": "2023-12-22T19:19:25.821684",
     "status": "completed"
    },
    "tags": []
   },
   "source": [
    "Ok we now proceed with calcualting the output, first of all we load the test set and pre-process it"
   ]
  },
  {
   "cell_type": "code",
   "execution_count": 62,
   "id": "3ccc0420",
   "metadata": {
    "execution": {
     "iopub.execute_input": "2023-12-22T19:19:26.254158Z",
     "iopub.status.busy": "2023-12-22T19:19:26.253742Z",
     "iopub.status.idle": "2023-12-22T19:19:32.484651Z",
     "shell.execute_reply": "2023-12-22T19:19:32.483550Z"
    },
    "papermill": {
     "duration": 6.378333,
     "end_time": "2023-12-22T19:19:32.487083",
     "exception": false,
     "start_time": "2023-12-22T19:19:26.108750",
     "status": "completed"
    },
    "tags": []
   },
   "outputs": [
    {
     "name": "stdout",
     "output_type": "stream",
     "text": [
      "   New_ID                                               Text   Party\n",
      "0       1  κυριακ μητσοτακ ξερ εινα μουσει βεργιν μεσω χρ...      ND\n",
      "1       2  συνεντευξ υποψηφι βουλευτ τ νε δημοκρατι βορει...      ND\n",
      "2       3  αυτ τ εκλογ μαθητ φοιτητ ψηφιζουμ τ ιδι τροπ α...     KKE\n",
      "3       4  γεννηματα : κιναλ θ γιν δεκανικ κανενοσ . ενδι...   PASOK\n",
      "4       5  κυριακ εκλογων , οκτωβρ 1993 , ξημερωμ δευτερα...      ND\n",
      "5       6   @ rounick28 @ yanisvaroufakis γιανν εινα σαν ...    DIEM\n",
      "6       7      τσιπρ τελειωνε ! θελ να πα να μαγειρεψ # σκαι  SYRIZA\n",
      "7       8  αποδημ κατα τσιπρ δικαιωμ ψηφου : « ητ δικαι κ...  SYRIZA\n",
      "8       9  μητσοτακ realfm ελληνικο : ακατανοητ εκδοσ κοι...      ND\n",
      "9      10  βουλωσ κοσιωνη . αφησ τ να τελειωσ προταση . α...  SYRIZA\n"
     ]
    }
   ],
   "source": [
    "test_path = \"/kaggle/input/ys19-2023-assignment-2/test_set.csv\"\n",
    "test = pd.read_csv(test_path)\n",
    "test['Text'] = test['Text'].apply(lambda x: x.lower())\n",
    "greek_stopwords = [\n",
    "    'και', 'το', 'η', 'της', 'του', 'τα', 'σε', 'με', 'για', 'ειναι',\n",
    "    'στο', 'απο', 'που', 'οι', 'την', 'ενα', 'μετα', 'εχει', 'δεν',\n",
    "    'ειναι', 'μια', 'αυτο', 'εναν', 'αλλα', 'ο', 'μη', 'οτι', 'πως',\n",
    "    'απο', 'στην', 'στον', 'τι', 'αυτη', 'των', 'αυτα', 'οταν', 'πολυ',\n",
    "    'μας', 'ειναι', 'πριν', 'οτι', 'μονο', 'αυτος', 'τοτε', 'μεταξυ',\n",
    "    'πολλα', 'οποτε', 'παρα', 'εαν', 'γυρω', 'αυτην', 'εκεινος', 'περισσοτερο',\n",
    "    'προς', 'πολυ', 'τελικα', 'ολοι'\n",
    "]\n",
    "def remove_stopwords(text):\n",
    "    words = text.split()  # Split the text into words\n",
    "    words = [word for word in words if word.lower() not in greek_stopwords]\n",
    "    return ' '.join(words)\n",
    "test['Text'] = test['Text'].apply(remove_stopwords)\n",
    "url_pattern = re.compile(r'http[s]?://(?:[a-zA-Z]|[0-9]|[$-_@.&+]|[!*\\\\(\\\\),]|(?:%[0-9a-fA-F][0-9a-fA-F]))+')\n",
    "def remove_urls(text):\n",
    "    return re.sub(url_pattern, '', text)\n",
    "test['Text'] = test['Text'].apply(remove_urls)\n",
    "test['Text'] = test['Text'].apply(lambda x: re.sub('ό', 'ο', x))  \n",
    "test['Text'] = test['Text'].apply(lambda x: re.sub('έ', 'ε', x))  \n",
    "test['Text'] = test['Text'].apply(lambda x: re.sub('ί', 'ι', x))  \n",
    "test['Text'] = test['Text'].apply(lambda x: re.sub('ή', 'η', x))  \n",
    "test['Text'] = test['Text'].apply(lambda x: re.sub('ύ', 'υ', x))  \n",
    "test['Text'] = test['Text'].apply(lambda x: re.sub('ώ', 'ω', x))  \n",
    "test['Text'] = test['Text'].apply(lambda x: re.sub('ά', 'α', x))  \n",
    "test['Text'] = test['Text'].apply(lambda x: re.sub('ς', 'σ', x))  \n",
    "\n",
    "from greek_stemmer import stemmer\n",
    "\n",
    "# Define a function to perform stemming on the tweets\n",
    "def stem_greek_text(text):\n",
    "    words = text.split()\n",
    "    stemmed_words = [stemmer.stem_word(word,\"NNN\") for word in words]\n",
    "    stemmed_text = ' '.join(stemmed_words)\n",
    "    return stemmed_text\n",
    "\n",
    "\n",
    "# Apply the stem_greek_text function to the 'tweets' column\n",
    "test['Text'] = test['Text'].apply(stem_greek_text)\n",
    "test['Text'] = test['Text'].apply(lambda x: x.lower())\n",
    "test['Text'] = test['Text'].str.replace('ς', 'σ')\n",
    "test['Text'] = test['Text'].apply(lambda x: re.sub(r'[^A-Za-zΑ-Ωα-ω0-9 ]', lambda y: ' ' + y.group(0) + ' ', x))\n",
    "test['Text'] = test['Text'].apply(lambda x: re.sub(r'\\s+', ' ', x))\n",
    "print(test.head(10))"
   ]
  },
  {
   "cell_type": "markdown",
   "id": "330e1f65",
   "metadata": {
    "papermill": {
     "duration": 0.14257,
     "end_time": "2023-12-22T19:19:32.774461",
     "exception": false,
     "start_time": "2023-12-22T19:19:32.631891",
     "status": "completed"
    },
    "tags": []
   },
   "source": [
    "create the model by concatenating valdiation and train set "
   ]
  },
  {
   "cell_type": "code",
   "execution_count": 63,
   "id": "db6a7738",
   "metadata": {
    "execution": {
     "iopub.execute_input": "2023-12-22T19:19:33.063701Z",
     "iopub.status.busy": "2023-12-22T19:19:33.063075Z",
     "iopub.status.idle": "2023-12-22T19:19:44.930210Z",
     "shell.execute_reply": "2023-12-22T19:19:44.928938Z"
    },
    "papermill": {
     "duration": 12.015371,
     "end_time": "2023-12-22T19:19:44.932989",
     "exception": false,
     "start_time": "2023-12-22T19:19:32.917618",
     "status": "completed"
    },
    "tags": []
   },
   "outputs": [],
   "source": [
    "class Data(Dataset):\n",
    "    def __init__(self, x, y, input_dim):\n",
    "        self.x = torch.from_numpy(x).float()\n",
    "        self.y = torch.from_numpy(y)\n",
    "        self.len = self.x.shape[0]\n",
    "        self.input_dim = input_dim\n",
    "\n",
    "    def __getitem__(self, index):\n",
    "        return self.x[index, :self.input_dim], self.y[index]\n",
    "\n",
    "    def __len__(self):\n",
    "        return self.len\n",
    "\n",
    "class Net(nn.Module):\n",
    "    def __init__(self, D_in, H, D_out, negative_slope=0.01, dropout_rate=0.5):\n",
    "        super(Net, self).__init__()\n",
    "        self.linear1 = nn.Linear(D_in, H)\n",
    "        self.bn1 = nn.BatchNorm1d(H)\n",
    "        self.dropout = nn.Dropout(dropout_rate)\n",
    "        self.linear2 = nn.Linear(H, D_out)\n",
    "        self.negative_slope = negative_slope\n",
    "\n",
    "    def forward(self, x):\n",
    "        # Using LeakyReLU instead of ReLU\n",
    "        x = F.leaky_relu(self.bn1(self.linear1(x)), self.negative_slope)  # default slope is 0.01\n",
    "        x = self.dropout(x)\n",
    "        x = self.linear2(x)\n",
    "        return x\n",
    "input_dim = 161\n",
    "hidden_dim = 10\n",
    "window_size = 3\n",
    "b_size = 85\n",
    "learning_rate = 0.021794863937645848\n",
    "negative_slope = 0.2996496033775225\n",
    "dropout_rate = 0.20289531425438015\n",
    "criterion=nn.MultiMarginLoss()\n",
    "model = Net(input_dim, hidden_dim, output_dim, negative_slope=negative_slope, dropout_rate=dropout_rate)\n",
    "optimizer=torch.optim.SGD(model.parameters(), lr=learning_rate)  \n",
    "num_cores = multiprocessing.cpu_count()\n",
    "all_sentences = data['tokenized_text'].tolist() + valid['tokenized_text'].tolist()\n",
    "combined_data = pd.concat([data, valid]).reset_index(drop=True)\n",
    "\n",
    "word2vec_model = Word2Vec(sentences=all_sentences, vector_size=input_dim, window=window_size, min_count=1, workers=num_cores)\n",
    "combined_data['mean_embedding'] = combined_data['tokenized_text'].apply(lambda tokens: np.mean([word2vec_model.wv[word] for word in tokens if word in word2vec_model.wv], axis=0))"
   ]
  },
  {
   "cell_type": "code",
   "execution_count": 64,
   "id": "8c2cd9fe",
   "metadata": {
    "execution": {
     "iopub.execute_input": "2023-12-22T19:19:45.220599Z",
     "iopub.status.busy": "2023-12-22T19:19:45.220129Z",
     "iopub.status.idle": "2023-12-22T19:19:51.280220Z",
     "shell.execute_reply": "2023-12-22T19:19:51.279069Z"
    },
    "papermill": {
     "duration": 6.205425,
     "end_time": "2023-12-22T19:19:51.282900",
     "exception": false,
     "start_time": "2023-12-22T19:19:45.077475",
     "status": "completed"
    },
    "tags": []
   },
   "outputs": [
    {
     "data": {
      "text/html": [
       "<div>\n",
       "<style scoped>\n",
       "    .dataframe tbody tr th:only-of-type {\n",
       "        vertical-align: middle;\n",
       "    }\n",
       "\n",
       "    .dataframe tbody tr th {\n",
       "        vertical-align: top;\n",
       "    }\n",
       "\n",
       "    .dataframe thead th {\n",
       "        text-align: right;\n",
       "    }\n",
       "</style>\n",
       "<table border=\"1\" class=\"dataframe\">\n",
       "  <thead>\n",
       "    <tr style=\"text-align: right;\">\n",
       "      <th></th>\n",
       "      <th>New_ID</th>\n",
       "      <th>Text</th>\n",
       "      <th>Party</th>\n",
       "      <th>tokenized_text</th>\n",
       "      <th>mean_embedding</th>\n",
       "    </tr>\n",
       "  </thead>\n",
       "  <tbody>\n",
       "    <tr>\n",
       "      <th>0</th>\n",
       "      <td>1</td>\n",
       "      <td>κυριακ μητσοτακ ξερ εινα μουσει βεργιν μεσω χρ...</td>\n",
       "      <td>ND</td>\n",
       "      <td>[κυριακ, μητσοτακ, ξερ, εινα, μουσει, βεργιν, ...</td>\n",
       "      <td>[0.019847427, 0.28127038, -0.04799003, 0.71826...</td>\n",
       "    </tr>\n",
       "    <tr>\n",
       "      <th>1</th>\n",
       "      <td>2</td>\n",
       "      <td>συνεντευξ υποψηφι βουλευτ τ νε δημοκρατι βορει...</td>\n",
       "      <td>ND</td>\n",
       "      <td>[συνεντευξ, υποψηφι, βουλευτ, τ, νε, δημοκρατι...</td>\n",
       "      <td>[0.12289075, 1.0646344, 0.21053067, 0.58882856...</td>\n",
       "    </tr>\n",
       "    <tr>\n",
       "      <th>2</th>\n",
       "      <td>3</td>\n",
       "      <td>αυτ τ εκλογ μαθητ φοιτητ ψηφιζουμ τ ιδι τροπ α...</td>\n",
       "      <td>KKE</td>\n",
       "      <td>[αυτ, τ, εκλογ, μαθητ, φοιτητ, ψηφιζουμ, τ, ιδ...</td>\n",
       "      <td>[0.4198154, 1.2252374, -0.029565567, 0.3218158...</td>\n",
       "    </tr>\n",
       "    <tr>\n",
       "      <th>3</th>\n",
       "      <td>4</td>\n",
       "      <td>γεννηματα : κιναλ θ γιν δεκανικ κανενοσ . ενδι...</td>\n",
       "      <td>PASOK</td>\n",
       "      <td>[γεννηματα, :, κιναλ, θ, γιν, δεκανικ, κανενοσ...</td>\n",
       "      <td>[0.10063398, 0.83261377, -0.22353573, 0.447583...</td>\n",
       "    </tr>\n",
       "    <tr>\n",
       "      <th>4</th>\n",
       "      <td>5</td>\n",
       "      <td>κυριακ εκλογων , οκτωβρ 1993 , ξημερωμ δευτερα...</td>\n",
       "      <td>ND</td>\n",
       "      <td>[κυριακ, εκλογων, ,, οκτωβρ, 1993, ,, ξημερωμ,...</td>\n",
       "      <td>[0.21022655, 1.0172827, -0.20325536, 0.3264842...</td>\n",
       "    </tr>\n",
       "  </tbody>\n",
       "</table>\n",
       "</div>"
      ],
      "text/plain": [
       "   New_ID                                               Text  Party  \\\n",
       "0       1  κυριακ μητσοτακ ξερ εινα μουσει βεργιν μεσω χρ...     ND   \n",
       "1       2  συνεντευξ υποψηφι βουλευτ τ νε δημοκρατι βορει...     ND   \n",
       "2       3  αυτ τ εκλογ μαθητ φοιτητ ψηφιζουμ τ ιδι τροπ α...    KKE   \n",
       "3       4  γεννηματα : κιναλ θ γιν δεκανικ κανενοσ . ενδι...  PASOK   \n",
       "4       5  κυριακ εκλογων , οκτωβρ 1993 , ξημερωμ δευτερα...     ND   \n",
       "\n",
       "                                      tokenized_text  \\\n",
       "0  [κυριακ, μητσοτακ, ξερ, εινα, μουσει, βεργιν, ...   \n",
       "1  [συνεντευξ, υποψηφι, βουλευτ, τ, νε, δημοκρατι...   \n",
       "2  [αυτ, τ, εκλογ, μαθητ, φοιτητ, ψηφιζουμ, τ, ιδ...   \n",
       "3  [γεννηματα, :, κιναλ, θ, γιν, δεκανικ, κανενοσ...   \n",
       "4  [κυριακ, εκλογων, ,, οκτωβρ, 1993, ,, ξημερωμ,...   \n",
       "\n",
       "                                      mean_embedding  \n",
       "0  [0.019847427, 0.28127038, -0.04799003, 0.71826...  \n",
       "1  [0.12289075, 1.0646344, 0.21053067, 0.58882856...  \n",
       "2  [0.4198154, 1.2252374, -0.029565567, 0.3218158...  \n",
       "3  [0.10063398, 0.83261377, -0.22353573, 0.447583...  \n",
       "4  [0.21022655, 1.0172827, -0.20325536, 0.3264842...  "
      ]
     },
     "execution_count": 64,
     "metadata": {},
     "output_type": "execute_result"
    }
   ],
   "source": [
    "test['tokenized_text'] = test['Text'].apply(word_tokenize)\n",
    "test['mean_embedding'] = test['tokenized_text'].apply(lambda tokens: np.mean([word2vec_model.wv[word] for word in tokens if word in word2vec_model.wv], axis=0))\n",
    "test.head()"
   ]
  },
  {
   "cell_type": "code",
   "execution_count": 65,
   "id": "b3b7224a",
   "metadata": {
    "execution": {
     "iopub.execute_input": "2023-12-22T19:19:51.571007Z",
     "iopub.status.busy": "2023-12-22T19:19:51.570249Z",
     "iopub.status.idle": "2023-12-22T19:20:35.448044Z",
     "shell.execute_reply": "2023-12-22T19:20:35.446964Z"
    },
    "papermill": {
     "duration": 44.024777,
     "end_time": "2023-12-22T19:20:35.450968",
     "exception": false,
     "start_time": "2023-12-22T19:19:51.426191",
     "status": "completed"
    },
    "tags": []
   },
   "outputs": [],
   "source": [
    "from torch.optim.lr_scheduler import StepLR\n",
    "x_train = combined_data['mean_embedding']\n",
    "y_train = combined_data['Sentiment']\n",
    "x_train = np.vstack(x_train).astype(np.float32)\n",
    "y_train = y_train.values\n",
    "data_set = Data(x_train, y_train, input_dim)\n",
    "trainloader = DataLoader(dataset=data_set, batch_size=b_size, shuffle=True)\n",
    "\n",
    "x_test = test['mean_embedding']\n",
    "x_test = np.vstack(x_test).astype(np.float32)\n",
    "n_epochs = 45\n",
    "scheduler = StepLR(optimizer, step_size=1, gamma=0.95)\n",
    "\n",
    "for epoch in range(n_epochs):\n",
    "    model.train()\n",
    "    for x, y in trainloader:\n",
    "        optimizer.zero_grad()\n",
    "        z = model(x) \n",
    "        loss = criterion(z, y)\n",
    "        loss.backward()\n",
    "        nn.utils.clip_grad_norm_(model.parameters(), max_norm=1.0)\n",
    "        optimizer.step()\n",
    "    scheduler.step()\n",
    "\n",
    "x_test_tensor = torch.from_numpy(x_test)\n",
    "z_val = model(x_test_tensor)\n",
    "max_indexes = torch.argmax(z_val, dim=1)\n",
    "y_pred = max_indexes.numpy()"
   ]
  },
  {
   "cell_type": "code",
   "execution_count": 66,
   "id": "3f0988a8",
   "metadata": {
    "execution": {
     "iopub.execute_input": "2023-12-22T19:20:35.739939Z",
     "iopub.status.busy": "2023-12-22T19:20:35.738800Z",
     "iopub.status.idle": "2023-12-22T19:20:35.757828Z",
     "shell.execute_reply": "2023-12-22T19:20:35.756813Z"
    },
    "papermill": {
     "duration": 0.165267,
     "end_time": "2023-12-22T19:20:35.760179",
     "exception": false,
     "start_time": "2023-12-22T19:20:35.594912",
     "status": "completed"
    },
    "tags": []
   },
   "outputs": [
    {
     "data": {
      "text/html": [
       "<div>\n",
       "<style scoped>\n",
       "    .dataframe tbody tr th:only-of-type {\n",
       "        vertical-align: middle;\n",
       "    }\n",
       "\n",
       "    .dataframe tbody tr th {\n",
       "        vertical-align: top;\n",
       "    }\n",
       "\n",
       "    .dataframe thead th {\n",
       "        text-align: right;\n",
       "    }\n",
       "</style>\n",
       "<table border=\"1\" class=\"dataframe\">\n",
       "  <thead>\n",
       "    <tr style=\"text-align: right;\">\n",
       "      <th></th>\n",
       "      <th>Id</th>\n",
       "      <th>Predicted</th>\n",
       "    </tr>\n",
       "  </thead>\n",
       "  <tbody>\n",
       "    <tr>\n",
       "      <th>0</th>\n",
       "      <td>1</td>\n",
       "      <td>NEGATIVE</td>\n",
       "    </tr>\n",
       "    <tr>\n",
       "      <th>1</th>\n",
       "      <td>2</td>\n",
       "      <td>POSITIVE</td>\n",
       "    </tr>\n",
       "    <tr>\n",
       "      <th>2</th>\n",
       "      <td>3</td>\n",
       "      <td>POSITIVE</td>\n",
       "    </tr>\n",
       "    <tr>\n",
       "      <th>3</th>\n",
       "      <td>4</td>\n",
       "      <td>POSITIVE</td>\n",
       "    </tr>\n",
       "    <tr>\n",
       "      <th>4</th>\n",
       "      <td>5</td>\n",
       "      <td>NEGATIVE</td>\n",
       "    </tr>\n",
       "    <tr>\n",
       "      <th>...</th>\n",
       "      <td>...</td>\n",
       "      <td>...</td>\n",
       "    </tr>\n",
       "    <tr>\n",
       "      <th>10465</th>\n",
       "      <td>10466</td>\n",
       "      <td>NEGATIVE</td>\n",
       "    </tr>\n",
       "    <tr>\n",
       "      <th>10466</th>\n",
       "      <td>10467</td>\n",
       "      <td>NEGATIVE</td>\n",
       "    </tr>\n",
       "    <tr>\n",
       "      <th>10467</th>\n",
       "      <td>10468</td>\n",
       "      <td>NEGATIVE</td>\n",
       "    </tr>\n",
       "    <tr>\n",
       "      <th>10468</th>\n",
       "      <td>10469</td>\n",
       "      <td>NEGATIVE</td>\n",
       "    </tr>\n",
       "    <tr>\n",
       "      <th>10469</th>\n",
       "      <td>10470</td>\n",
       "      <td>POSITIVE</td>\n",
       "    </tr>\n",
       "  </tbody>\n",
       "</table>\n",
       "<p>10470 rows × 2 columns</p>\n",
       "</div>"
      ],
      "text/plain": [
       "          Id Predicted\n",
       "0          1  NEGATIVE\n",
       "1          2  POSITIVE\n",
       "2          3  POSITIVE\n",
       "3          4  POSITIVE\n",
       "4          5  NEGATIVE\n",
       "...      ...       ...\n",
       "10465  10466  NEGATIVE\n",
       "10466  10467  NEGATIVE\n",
       "10467  10468  NEGATIVE\n",
       "10468  10469  NEGATIVE\n",
       "10469  10470  POSITIVE\n",
       "\n",
       "[10470 rows x 2 columns]"
      ]
     },
     "execution_count": 66,
     "metadata": {},
     "output_type": "execute_result"
    }
   ],
   "source": [
    "label_mapping = {0: 'NEGATIVE', 1: 'NEUTRAL', 2: 'POSITIVE'}\n",
    "string_labels = [label_mapping[label] for label in y_pred]\n",
    "result_df = pd.DataFrame({ 'Id' : test['New_ID'],'Predicted': string_labels})\n",
    "result_df"
   ]
  },
  {
   "cell_type": "code",
   "execution_count": 67,
   "id": "1137c826",
   "metadata": {
    "execution": {
     "iopub.execute_input": "2023-12-22T19:20:36.046223Z",
     "iopub.status.busy": "2023-12-22T19:20:36.045834Z",
     "iopub.status.idle": "2023-12-22T19:20:36.079292Z",
     "shell.execute_reply": "2023-12-22T19:20:36.078244Z"
    },
    "papermill": {
     "duration": 0.18053,
     "end_time": "2023-12-22T19:20:36.081938",
     "exception": false,
     "start_time": "2023-12-22T19:20:35.901408",
     "status": "completed"
    },
    "tags": []
   },
   "outputs": [],
   "source": [
    "result_df.to_csv(\"submission.csv\", index=False)"
   ]
  }
 ],
 "metadata": {
  "kaggle": {
   "accelerator": "none",
   "dataSources": [
    {
     "databundleVersionId": 7104041,
     "sourceId": 64789,
     "sourceType": "competition"
    }
   ],
   "dockerImageVersionId": 30588,
   "isGpuEnabled": false,
   "isInternetEnabled": true,
   "language": "python",
   "sourceType": "notebook"
  },
  "kernelspec": {
   "display_name": "Python 3",
   "language": "python",
   "name": "python3"
  },
  "language_info": {
   "codemirror_mode": {
    "name": "ipython",
    "version": 3
   },
   "file_extension": ".py",
   "mimetype": "text/x-python",
   "name": "python",
   "nbconvert_exporter": "python",
   "pygments_lexer": "ipython3",
   "version": "3.10.12"
  },
  "papermill": {
   "default_parameters": {},
   "duration": 24703.075114,
   "end_time": "2023-12-22T19:20:38.212035",
   "environment_variables": {},
   "exception": null,
   "input_path": "__notebook__.ipynb",
   "output_path": "__notebook__.ipynb",
   "parameters": {},
   "start_time": "2023-12-22T12:28:55.136921",
   "version": "2.4.0"
  }
 },
 "nbformat": 4,
 "nbformat_minor": 5
}
